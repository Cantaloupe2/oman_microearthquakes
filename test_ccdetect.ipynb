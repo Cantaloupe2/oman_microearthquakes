{
 "cells": [
  {
   "cell_type": "code",
   "execution_count": 7,
   "metadata": {},
   "outputs": [],
   "source": [
    "## Import modules\n",
    "\n",
    "from obspy import read, UTCDateTime, Stream\n",
    "from cc_utils import template_match_3c\n",
    "from preproc_utils import preprocess_stream\n",
    "from snuffler_utils import read_picks\n",
    "from os.path import join\n",
    "from matplotlib import pyplot as plt\n",
    "import numpy as np\n",
    "import pandas as pd\n",
    "import re"
   ]
  },
  {
   "cell_type": "code",
   "execution_count": 8,
   "metadata": {},
   "outputs": [],
   "source": [
    "## Inputs\n",
    "root = \"/Volumes/OmanData/geophones_no_prefilt/data\"\n",
    "timewin_master = \"2020-01-12-17-00-00\"\n",
    "pkname_master = \"Ppicks_Example1.dat\"\n",
    "stname = \"A03\"\n",
    "timelen = 0.05 # Length of time window for CC in seconds\n",
    "\n",
    "cfreq_low = 10 # Low corner frequency for bandpass filter\n",
    "cfreq_high = None # High corner frequency for bandpass filter"
   ]
  },
  {
   "cell_type": "code",
   "execution_count": 9,
   "metadata": {},
   "outputs": [],
   "source": [
    "## Read the picks of the master event\n",
    "inpath = join(root, timewin_master, pkname_master)\n",
    "pickdf = read_picks(inpath)\n",
    "\n",
    "pickdf = pickdf.loc[pickdf[\"station\"] == stname]\n",
    "pickdf.reset_index(inplace=True, drop=True)\n",
    "starttime = UTCDateTime(pickdf[\"datetime\"].iloc[0])"
   ]
  },
  {
   "cell_type": "code",
   "execution_count": 10,
   "metadata": {},
   "outputs": [],
   "source": [
    "### Read the hour containing the master event\n",
    "stream_hour = read(join(root, timewin_master, f\"*{stname}*SAC\"))\n",
    "\n",
    "### Preprocess the data\n",
    "stream_hour = preprocess_stream(stream_hour, cfreq_low, cfreq_high)\n",
    "\n",
    "### Trim the data to the time window of the master event\n",
    "stream_temp = stream_hour.slice(starttime, starttime + timelen)"
   ]
  },
  {
   "cell_type": "code",
   "execution_count": 11,
   "metadata": {},
   "outputs": [
    {
     "name": "stdout",
     "output_type": "stream",
     "text": [
      "Number of detections: 1\n"
     ]
    }
   ],
   "source": [
    "detdf = template_match_3c(stream_hour, stream_temp, \"Example1\", mincc=0.8)"
   ]
  },
  {
   "cell_type": "code",
   "execution_count": null,
   "metadata": {},
   "outputs": [],
   "source": [
    "stream_temp[0]"
   ]
  }
 ],
 "metadata": {
  "kernelspec": {
   "display_name": "obspy",
   "language": "python",
   "name": "python3"
  },
  "language_info": {
   "codemirror_mode": {
    "name": "ipython",
    "version": 3
   },
   "file_extension": ".py",
   "mimetype": "text/x-python",
   "name": "python",
   "nbconvert_exporter": "python",
   "pygments_lexer": "ipython3",
   "version": "3.11.6"
  }
 },
 "nbformat": 4,
 "nbformat_minor": 2
}
