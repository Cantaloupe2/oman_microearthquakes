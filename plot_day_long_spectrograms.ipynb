{
 "cells": [
  {
   "cell_type": "markdown",
   "id": "31ab6a0c-5b69-4e15-8828-fefe35139ba3",
   "metadata": {},
   "source": [
    "# Plot the day-long spectrograms of a station on a specific day"
   ]
  },
  {
   "cell_type": "code",
   "execution_count": 1,
   "id": "4a8a02dd-19cd-45c5-8d8a-9d9ce3c29d39",
   "metadata": {},
   "outputs": [],
   "source": [
    "from os.path import join\n",
    "\n",
    "from utils_basic import SPECTROGRAM_DIR as indir\n",
    "from utils_spec import read_geo_spectrograms\n",
    "from utils_plot import plot_long_term_stft_spectrograms"
   ]
  },
  {
   "cell_type": "code",
   "execution_count": 2,
   "id": "e051d090-f15a-4a14-8232-fd0ae8406403",
   "metadata": {},
   "outputs": [],
   "source": [
    "station = \"A04\"\n",
    "location = None\n",
    "day = \"2020-01-13\"\n",
    "window_length = 100.0\n",
    "\n",
    "dbmin = -20.0\n",
    "dbmax = 0.0"
   ]
  },
  {
   "cell_type": "code",
   "execution_count": 3,
   "id": "6736c0e2-5c6c-4b68-a987-e6cc153df329",
   "metadata": {},
   "outputs": [
    {
     "name": "stdout",
     "output_type": "stream",
     "text": [
      "Error reading the spectrogram data: [Errno 2] No such file or directory: '/fp/projects01/ec332/data/spectrograms/day_long_spectrograms_2020-01-13_A04_window100s_downsampled.npz'\n"
     ]
    }
   ],
   "source": [
    "filename = f\"day_long_spectrograms_{day}_{station}_window{window_length:.0f}s_downsampled.npz\"\n",
    "inpath = join(indir, filename)\n",
    "stream_spec = read_geo_spectrograms(inpath)"
   ]
  },
  {
   "cell_type": "code",
   "execution_count": 4,
   "id": "0b7b79e7-d565-406f-a409-0cc72ac4429f",
   "metadata": {},
   "outputs": [
    {
     "ename": "AttributeError",
     "evalue": "'NoneType' object has no attribute 'to_db'",
     "output_type": "error",
     "traceback": [
      "\u001b[0;31m---------------------------------------------------------------------------\u001b[0m",
      "\u001b[0;31mAttributeError\u001b[0m                            Traceback (most recent call last)",
      "Cell \u001b[0;32mIn[4], line 1\u001b[0m\n\u001b[0;32m----> 1\u001b[0m fig, axes, cbar \u001b[38;5;241m=\u001b[39m \u001b[43mplot_long_term_stft_spectrograms\u001b[49m\u001b[43m(\u001b[49m\u001b[43mstream_spec\u001b[49m\u001b[43m,\u001b[49m\u001b[43m \u001b[49m\n\u001b[1;32m      2\u001b[0m \u001b[43m                                 \u001b[49m\u001b[43mdbmin\u001b[49m\u001b[43m \u001b[49m\u001b[38;5;241;43m=\u001b[39;49m\u001b[43m \u001b[49m\u001b[43mdbmin\u001b[49m\u001b[43m,\u001b[49m\u001b[43m \u001b[49m\u001b[43mdbmax\u001b[49m\u001b[43m \u001b[49m\u001b[38;5;241;43m=\u001b[39;49m\u001b[43m \u001b[49m\u001b[43mdbmax\u001b[49m\u001b[43m,\u001b[49m\u001b[43m \u001b[49m\n\u001b[1;32m      3\u001b[0m \u001b[43m                                 \u001b[49m\u001b[43mmajor_time_spacing\u001b[49m\u001b[43m \u001b[49m\u001b[38;5;241;43m=\u001b[39;49m\u001b[43m \u001b[49m\u001b[38;5;241;43m6\u001b[39;49m\u001b[43m,\u001b[49m\u001b[43m \u001b[49m\u001b[43mminor_time_spacing\u001b[49m\u001b[43m \u001b[49m\u001b[38;5;241;43m=\u001b[39;49m\u001b[43m \u001b[49m\u001b[38;5;241;43m1\u001b[39;49m\u001b[43m,\u001b[49m\n\u001b[1;32m      4\u001b[0m \u001b[43m                                 \u001b[49m\u001b[43mtime_tick_rotation\u001b[49m\u001b[43m \u001b[49m\u001b[38;5;241;43m=\u001b[39;49m\u001b[43m \u001b[49m\u001b[38;5;241;43m5\u001b[39;49m\u001b[43m)\u001b[49m\n",
      "File \u001b[0;32m~/oman_microearthquakes/utils_plot.py:453\u001b[0m, in \u001b[0;36mplot_long_term_stft_spectrograms\u001b[0;34m(stream_spec, xdim, ydim_per_comp, freq_lim, dbmin, dbmax, component_label_x, component_label_y, date_format, major_time_spacing, minor_time_spacing, major_freq_spacing, minor_freq_spacing, component_label_size, axis_label_size, tick_label_size, title_size, time_tick_rotation, time_tick_va, time_tick_ha)\u001b[0m\n\u001b[1;32m    443\u001b[0m \u001b[38;5;28;01mdef\u001b[39;00m \u001b[38;5;21mplot_long_term_stft_spectrograms\u001b[39m(stream_spec,\n\u001b[1;32m    444\u001b[0m                             xdim \u001b[38;5;241m=\u001b[39m \u001b[38;5;241m15\u001b[39m, ydim_per_comp\u001b[38;5;241m=\u001b[39m \u001b[38;5;241m5\u001b[39m, \n\u001b[1;32m    445\u001b[0m                             freq_lim\u001b[38;5;241m=\u001b[39m(\u001b[38;5;241m0\u001b[39m, \u001b[38;5;241m490\u001b[39m), dbmin\u001b[38;5;241m=\u001b[39m\u001b[38;5;241m-\u001b[39m\u001b[38;5;241m20\u001b[39m, dbmax\u001b[38;5;241m=\u001b[39m\u001b[38;5;241m20\u001b[39m,\n\u001b[0;32m   (...)\u001b[0m\n\u001b[1;32m    451\u001b[0m                             time_tick_rotation\u001b[38;5;241m=\u001b[39m\u001b[38;5;241m15\u001b[39m, time_tick_va\u001b[38;5;241m=\u001b[39m\u001b[38;5;124m\"\u001b[39m\u001b[38;5;124mtop\u001b[39m\u001b[38;5;124m\"\u001b[39m, time_tick_ha\u001b[38;5;241m=\u001b[39m\u001b[38;5;124m\"\u001b[39m\u001b[38;5;124mright\u001b[39m\u001b[38;5;124m\"\u001b[39m):\n\u001b[1;32m    452\u001b[0m     \u001b[38;5;66;03m# Convert the power to dB\u001b[39;00m\n\u001b[0;32m--> 453\u001b[0m     \u001b[43mstream_spec\u001b[49m\u001b[38;5;241;43m.\u001b[39;49m\u001b[43mto_db\u001b[49m()\n\u001b[1;32m    455\u001b[0m     \u001b[38;5;66;03m# Extract the data\u001b[39;00m\n\u001b[1;32m    456\u001b[0m     trace_spec_z \u001b[38;5;241m=\u001b[39m stream_spec\u001b[38;5;241m.\u001b[39mget_spectra(component \u001b[38;5;241m=\u001b[39m \u001b[38;5;124m\"\u001b[39m\u001b[38;5;124mZ\u001b[39m\u001b[38;5;124m\"\u001b[39m)[\u001b[38;5;241m0\u001b[39m]\n",
      "\u001b[0;31mAttributeError\u001b[0m: 'NoneType' object has no attribute 'to_db'"
     ]
    }
   ],
   "source": [
    "fig, axes, cbar = plot_long_term_stft_spectrograms(stream_spec, \n",
    "                                 dbmin = dbmin, dbmax = dbmax, \n",
    "                                 major_time_spacing = 6, minor_time_spacing = 1,\n",
    "                                 time_tick_rotation = 5)"
   ]
  },
  {
   "cell_type": "code",
   "execution_count": 1,
   "id": "48197c86-079c-45f7-b93e-97ec5ae3b98c",
   "metadata": {},
   "outputs": [
    {
     "data": {
      "text/plain": [
       "1673.28"
      ]
     },
     "execution_count": 1,
     "metadata": {},
     "output_type": "execute_result"
    }
   ],
   "source": [
    "83 * 24 * 21 * 40 / 1000"
   ]
  },
  {
   "cell_type": "code",
   "execution_count": null,
   "id": "7e306fb6-bc41-44b5-b4dd-98d28db07ffb",
   "metadata": {},
   "outputs": [],
   "source": []
  }
 ],
 "metadata": {
  "kernelspec": {
   "display_name": "Python 3 (ipykernel)",
   "language": "python",
   "name": "python3"
  },
  "language_info": {
   "codemirror_mode": {
    "name": "ipython",
    "version": 3
   },
   "file_extension": ".py",
   "mimetype": "text/x-python",
   "name": "python",
   "nbconvert_exporter": "python",
   "pygments_lexer": "ipython3",
   "version": "3.11.8"
  }
 },
 "nbformat": 4,
 "nbformat_minor": 5
}
