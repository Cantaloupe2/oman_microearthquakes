{
 "cells": [
  {
   "cell_type": "code",
   "execution_count": 1,
   "metadata": {},
   "outputs": [],
   "source": [
    "# Compute the 3D trvavel time volumes for a 1D velocity model"
   ]
  },
  {
   "cell_type": "code",
   "execution_count": 2,
   "metadata": {},
   "outputs": [],
   "source": [
    "## Import modules\n",
    "\n",
    "from pyrocko import cake\n",
    "import numpy as np\n",
    "import pandas as pd\n",
    "from os.path import join\n",
    "from time import time\n"
   ]
  },
  {
   "cell_type": "code",
   "execution_count": 3,
   "metadata": {},
   "outputs": [],
   "source": [
    "## Input paramters\n",
    "\n",
    "subarray = \"A\"\n",
    "phase = \"P\"\n",
    "\n",
    "modpath = \"/Volumes/OmanData/geophones_no_prefilt/data/vp_1d_A.nd\"\n",
    "stapath = \"/Volumes/OmanData/geophones_no_prefilt/data/stations.csv\"\n",
    "gridpath = \"/Volumes/OmanData/geophones_no_prefilt/data/traveltimes_subarrays/grid_params_A.csv\"\n",
    "\n",
    "dirname_out = \"/Volumes/OmanData/geophones_no_prefilt/data/traveltimes_subarrays\""
   ]
  },
  {
   "cell_type": "code",
   "execution_count": 4,
   "metadata": {},
   "outputs": [],
   "source": [
    "## Read the grid parameters\n",
    "griddf = pd.read_csv(gridpath, sep=\" \")\n",
    "\n",
    "eastmin = griddf[\"min_easting\"][0]\n",
    "eastmax = griddf[\"max_easting\"][0]\n",
    "eastinc = griddf[\"easting_inc\"][0]\n",
    "northmin = griddf[\"min_northing\"][0]\n",
    "northmax = griddf[\"max_northing\"][0]\n",
    "northinc = griddf[\"northing_inc\"][0]\n",
    "depthmin = griddf[\"min_depth\"][0]\n",
    "depthmax = griddf[\"max_depth\"][0]\n",
    "depthinc = griddf[\"depth_inc\"][0]\n"
   ]
  },
  {
   "cell_type": "code",
   "execution_count": 5,
   "metadata": {},
   "outputs": [],
   "source": [
    "## Load the station coordinates\n",
    "stadf = pd.read_csv(stapath, sep=\" \")\n",
    "\n",
    "if subarray == \"A\":\n",
    "    stadf = stadf.loc[stadf[\"subarray\"] == \"A\"]\n",
    "elif subarray == \"B\":\n",
    "    stadf = stadf.loc[stadf[\"subarray\"] == \"B\"]"
   ]
  },
  {
   "cell_type": "code",
   "execution_count": 6,
   "metadata": {},
   "outputs": [],
   "source": [
    "# Load the velocity model\n",
    "model = cake.load_model(modpath)"
   ]
  },
  {
   "cell_type": "code",
   "execution_count": 7,
   "metadata": {},
   "outputs": [],
   "source": [
    "# Define the spatial grid\n",
    "numea = int((eastmax - eastmin) / eastinc+1)\n",
    "numno = int((northmax - northmin) / eastinc+1)\n",
    "numde = int((depthmax - 0.0) / depthinc+1)\n",
    "\n",
    "eagrid = np.linspace(eastmin, eastmax, numea)\n",
    "nogrid = np.linspace(northmin, northmax, numno)\n",
    "degrid = np.linspace(0.0, depthmax, numde)"
   ]
  },
  {
   "cell_type": "code",
   "execution_count": 8,
   "metadata": {},
   "outputs": [],
   "source": [
    "# Define the phase to use.\n",
    "phases =[cake.PhaseDef('P'), cake.PhaseDef('p')]"
   ]
  },
  {
   "cell_type": "code",
   "execution_count": 9,
   "metadata": {},
   "outputs": [
    {
     "name": "stdout",
     "output_type": "stream",
     "text": [
      "Computing travel times...\n",
      "Number of stations to compute : 19\n",
      "A01\n",
      "Saving travel times...\n",
      "Saved to /Volumes/OmanData/geophones_no_prefilt/data/traveltimes_subarrays/ptimes_A01.npy.\n",
      "Time elapsed: 374.21741127967834 seconds.\n",
      "A02\n",
      "Saving travel times...\n",
      "Saved to /Volumes/OmanData/geophones_no_prefilt/data/traveltimes_subarrays/ptimes_A02.npy.\n",
      "Time elapsed: 383.8898491859436 seconds.\n",
      "A03\n",
      "Saving travel times...\n",
      "Saved to /Volumes/OmanData/geophones_no_prefilt/data/traveltimes_subarrays/ptimes_A03.npy.\n",
      "Time elapsed: 378.29045820236206 seconds.\n",
      "A04\n",
      "Saving travel times...\n",
      "Saved to /Volumes/OmanData/geophones_no_prefilt/data/traveltimes_subarrays/ptimes_A04.npy.\n",
      "Time elapsed: 372.8554768562317 seconds.\n",
      "A05\n",
      "Saving travel times...\n",
      "Saved to /Volumes/OmanData/geophones_no_prefilt/data/traveltimes_subarrays/ptimes_A05.npy.\n",
      "Time elapsed: 368.3323850631714 seconds.\n",
      "A06\n",
      "Saving travel times...\n",
      "Saved to /Volumes/OmanData/geophones_no_prefilt/data/traveltimes_subarrays/ptimes_A06.npy.\n",
      "Time elapsed: 367.8408830165863 seconds.\n",
      "A07\n",
      "Saving travel times...\n",
      "Saved to /Volumes/OmanData/geophones_no_prefilt/data/traveltimes_subarrays/ptimes_A07.npy.\n",
      "Time elapsed: 387.782231092453 seconds.\n",
      "A08\n",
      "Saving travel times...\n",
      "Saved to /Volumes/OmanData/geophones_no_prefilt/data/traveltimes_subarrays/ptimes_A08.npy.\n",
      "Time elapsed: 386.99050092697144 seconds.\n",
      "A09\n",
      "Saving travel times...\n",
      "Saved to /Volumes/OmanData/geophones_no_prefilt/data/traveltimes_subarrays/ptimes_A09.npy.\n",
      "Time elapsed: 396.43283104896545 seconds.\n",
      "A10\n",
      "Saving travel times...\n",
      "Saved to /Volumes/OmanData/geophones_no_prefilt/data/traveltimes_subarrays/ptimes_A10.npy.\n",
      "Time elapsed: 388.02341079711914 seconds.\n",
      "A11\n",
      "Saving travel times...\n",
      "Saved to /Volumes/OmanData/geophones_no_prefilt/data/traveltimes_subarrays/ptimes_A11.npy.\n",
      "Time elapsed: 385.1063952445984 seconds.\n",
      "A12\n",
      "Saving travel times...\n",
      "Saved to /Volumes/OmanData/geophones_no_prefilt/data/traveltimes_subarrays/ptimes_A12.npy.\n",
      "Time elapsed: 384.67158102989197 seconds.\n",
      "A13\n",
      "Saving travel times...\n",
      "Saved to /Volumes/OmanData/geophones_no_prefilt/data/traveltimes_subarrays/ptimes_A13.npy.\n",
      "Time elapsed: 412.3645398616791 seconds.\n",
      "A14\n",
      "Saving travel times...\n",
      "Saved to /Volumes/OmanData/geophones_no_prefilt/data/traveltimes_subarrays/ptimes_A14.npy.\n",
      "Time elapsed: 414.16391611099243 seconds.\n",
      "A15\n",
      "Saving travel times...\n",
      "Saved to /Volumes/OmanData/geophones_no_prefilt/data/traveltimes_subarrays/ptimes_A15.npy.\n",
      "Time elapsed: 410.6804618835449 seconds.\n",
      "A16\n",
      "Saving travel times...\n",
      "Saved to /Volumes/OmanData/geophones_no_prefilt/data/traveltimes_subarrays/ptimes_A16.npy.\n",
      "Time elapsed: 406.1973948478699 seconds.\n",
      "A17\n",
      "Saving travel times...\n",
      "Saved to /Volumes/OmanData/geophones_no_prefilt/data/traveltimes_subarrays/ptimes_A17.npy.\n",
      "Time elapsed: 398.50404810905457 seconds.\n",
      "A18\n",
      "Saving travel times...\n",
      "Saved to /Volumes/OmanData/geophones_no_prefilt/data/traveltimes_subarrays/ptimes_A18.npy.\n",
      "Time elapsed: 415.90061116218567 seconds.\n",
      "A19\n",
      "Station A19 is outside the grid. Skipping...\n"
     ]
    }
   ],
   "source": [
    "# Compute the travel times for each station\n",
    "print(\"Computing travel times...\")\n",
    "numst = len(stadf)\n",
    "print(f\"Number of stations to compute : {numst}\")\n",
    "\n",
    "for stind, row in stadf.iterrows():\n",
    "    stname = row[\"name\"]\n",
    "    stea = row[\"easting\"]\n",
    "    stno = row[\"northing\"]\n",
    "\n",
    "    print(stname)\n",
    "\n",
    "    # Determine if the station is in the grid\n",
    "    if stea < eastmin or stea > eastmax or stno < northmin or stno > northmax:\n",
    "        print(f\"Station {stname} is outside the grid. Skipping...\")\n",
    "        continue\n",
    "    \n",
    "    begin  = time()\n",
    "    ttimes = np.zeros((numde, numno, numea))\n",
    "\n",
    "    # Compute the travel times for each grid point\n",
    "    for deind, de in enumerate(degrid):\n",
    "        for noind, no in enumerate(nogrid):\n",
    "            for eaind, ea in enumerate(eagrid):\n",
    "                dist = np.sqrt((stea-ea)**2 + (stno-no)**2)\n",
    "                arrivals = model.arrivals([dist*cake.m2d], phases=phases, zstart=de)\n",
    "                ttime = arrivals[0].t\n",
    "                ttimes[deind, noind, eaind] = ttime\n",
    "\n",
    "    # Save the travel times\n",
    "    print(\"Saving travel times...\")\n",
    "\n",
    "    if phase == \"P\":\n",
    "        outpath = join(dirname_out, f\"ptimes_{stname}.npy\")\n",
    "    elif phase == \"S\":\n",
    "        outpath = join(dirname_out, f\"stimes_{stname}.npy\")\n",
    "    else:\n",
    "        raise ValueError(\"phase must be P or S!\")\n",
    "\n",
    "    ## Save the data with metadata\n",
    "    np.save(outpath, ttimes)\n",
    "    print(f\"Saved to {outpath}.\")\n",
    "\n",
    "    end = time()\n",
    "    print(f\"Time elapsed: {end-begin} seconds.\")"
   ]
  },
  {
   "cell_type": "code",
   "execution_count": 10,
   "metadata": {},
   "outputs": [],
   "source": [
    "# # Plot the travel times\n",
    "# from matplotlib import pyplot as plt    \n",
    "\n",
    "# fig, axes = plt.subplots(nrows=1, ncols=2)\n",
    "# axes[0].imshow(ttimes[0,:,:], origin=\"lower\", extent=[eastmin, eastmax, northmin, northmax], aspect=\"equal\")\n",
    "\n",
    "# noind_st = np.argmin(np.abs(nogrid - stadf[\"northing\"][0]))\n",
    "# axes[1].imshow(ttimes[:,noind_st,:], origin=\"upper\", extent=[eastmin, eastmax, depthmax, 0.0], aspect=\"equal\")\n"
   ]
  }
 ],
 "metadata": {
  "kernelspec": {
   "display_name": "pyrocko_env",
   "language": "python",
   "name": "python3"
  },
  "language_info": {
   "codemirror_mode": {
    "name": "ipython",
    "version": 3
   },
   "file_extension": ".py",
   "mimetype": "text/x-python",
   "name": "python",
   "nbconvert_exporter": "python",
   "pygments_lexer": "ipython3",
   "version": "3.11.6"
  }
 },
 "nbformat": 4,
 "nbformat_minor": 2
}
