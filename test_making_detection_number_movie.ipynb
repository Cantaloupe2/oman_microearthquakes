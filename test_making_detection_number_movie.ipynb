{
 "cells": [
  {
   "cell_type": "code",
   "execution_count": null,
   "metadata": {},
   "outputs": [],
   "source": [
    "from matplotlib.collections import PatchCollection\n",
    "from matplotlib.patches import RegularPolygon\n",
    "\n",
    "# Update the animation function to plot each station as a triangle\n",
    "def update_plot(frame_number, station_coords, ax, time_text, norm):\n",
    "    ax.clear()\n",
    "    ax.set_xlim(station_coords[:, 0].min() - 1000, station_coords[:, 0].max() + 1000)\n",
    "    ax.set_ylim(station_coords[:, 1].min() - 1000, station_coords[:, 1].max() + 1000)\n",
    "    ax.set_title('Seismic Event Detections')\n",
    "    detection_counts = filtered_events_df.iloc[frame_number, 1:].fillna(0).values\n",
    "\n",
    "    # Use log scale to represent the number of detections; add 1 to avoid log(0)\n",
    "    colors = np.log(detection_counts + 1)\n",
    "\n",
    "    # Create triangle patches for each station\n",
    "    patches = []\n",
    "    for (x, y), color in zip(station_coords, colors):\n",
    "        triangle = RegularPolygon((x, y), numVertices=3, radius=200, orientation=np.pi/2, facecolor=plt.cm.inferno(norm(color)))\n",
    "        patches.append(triangle)\n",
    "    \n",
    "    # Add patches to the axes\n",
    "    p = PatchCollection(patches, match_original=True)\n",
    "    ax.add_collection(p)\n",
    "    time_text.set_text(filtered_events_df['hour'][frame_number])\n",
    "\n",
    "    # Only create colorbar for the first frame\n",
    "    if frame_number == 0:\n",
    "        sm = plt.cm.ScalarMappable(cmap='inferno', norm=norm)\n",
    "        sm.set_array([])  # You have to set a dummy array for the ScalarMappable\n",
    "        fig.colorbar(sm, ax=ax, orientation='vertical', label='Log(Number of Detections + 1)')\n",
    "\n",
    "# Define the normalization for color mapping based on all detection counts\n",
    "all_detection_counts = filtered_events_df.iloc[:, 1:].values.flatten()\n",
    "norm = plt.Normalize(np.log(all_detection_counts[all_detection_counts > 0].min()), np.log(all_detection_counts.max()))\n",
    "\n",
    "# Create the plot and the animation with the updated function\n",
    "fig, ax = plt.subplots()\n",
    "ax.set_aspect('equal')\n",
    "time_text = ax.text(0.02, 0.95, '', transform=ax.transAxes)\n",
    "\n",
    "ani = animation.FuncAnimation(fig, update_plot, frames=n_frames, fargs=(ordered_station_coords, ax, time_text, norm),\n",
    "                              interval=100, blit=False)\n",
    "\n",
    "plt.close()  # Prevents duplicate display\n",
    "\n",
    "# Display the animation\n",
    "HTML(ani.to_jshtml())\n"
   ]
  }
 ],
 "metadata": {
  "language_info": {
   "name": "python"
  }
 },
 "nbformat": 4,
 "nbformat_minor": 2
}
