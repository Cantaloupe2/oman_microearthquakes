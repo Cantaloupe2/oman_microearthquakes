{
 "cells": [
  {
   "cell_type": "markdown",
   "metadata": {},
   "source": [
    "# Get the geophone metadata from the IRIS DMC"
   ]
  },
  {
   "cell_type": "code",
   "execution_count": 1,
   "metadata": {},
   "outputs": [],
   "source": [
    "# Import modules\n",
    "\n",
    "from obspy.clients.fdsn import Client\n",
    "from obspy import UTCDateTime\n",
    "from os.path import join\n",
    "\n",
    "from utils_basic import ROOTDIR_GEO, STARTTIME_GEO, ENDTIME_GEO, NETWORK\n"
   ]
  },
  {
   "cell_type": "code",
   "execution_count": 2,
   "metadata": {},
   "outputs": [],
   "source": [
    "# Inputs\n",
    "network = NETWORK  \n",
    "\n",
    "starttime = UTCDateTime(STARTTIME_GEO)\n",
    "endtime = UTCDateTime(ENDTIME_GEO)\n",
    "\n",
    "client = Client(\"IRIS\")"
   ]
  },
  {
   "cell_type": "code",
   "execution_count": 3,
   "metadata": {},
   "outputs": [
    {
     "name": "stdout",
     "output_type": "stream",
     "text": [
      "Inventory created at 2024-03-05T20:41:53.252800Z\n",
      "\tCreated by: IRIS WEB SERVICE: fdsnws-station | version: 1.1.52\n",
      "\t\t    http://service.iris.edu/fdsnws/station/1/query?starttime=2020-01-...\n",
      "\tSending institution: IRIS-DMC (IRIS-DMC)\n",
      "\tContains:\n",
      "\t\tNetworks (1):\n",
      "\t\t\t7F\n",
      "\t\tStations (39):\n",
      "\t\t\t7F.A01 (A01)\n",
      "\t\t\t7F.A02 (A02)\n",
      "\t\t\t7F.A03 (A03)\n",
      "\t\t\t7F.A04 (A04)\n",
      "\t\t\t7F.A05 (A05)\n",
      "\t\t\t7F.A06 (A06)\n",
      "\t\t\t7F.A07 (A07)\n",
      "\t\t\t7F.A08 (A08)\n",
      "\t\t\t7F.A09 (A09)\n",
      "\t\t\t7F.A10 (A10)\n",
      "\t\t\t7F.A11 (A11)\n",
      "\t\t\t7F.A12 (A12)\n",
      "\t\t\t7F.A13 (A13)\n",
      "\t\t\t7F.A14 (A14)\n",
      "\t\t\t7F.A15 (A15)\n",
      "\t\t\t7F.A16 (A16)\n",
      "\t\t\t7F.A17 (A17)\n",
      "\t\t\t7F.A18 (A18)\n",
      "\t\t\t7F.A19 (A19)\n",
      "\t\t\t7F.B01 (B01)\n",
      "\t\t\t7F.B02 (B02)\n",
      "\t\t\t7F.B03 (B03)\n",
      "\t\t\t7F.B04 (B04)\n",
      "\t\t\t7F.B05 (B05)\n",
      "\t\t\t7F.B06 (B06)\n",
      "\t\t\t7F.B07 (B07)\n",
      "\t\t\t7F.B08 (B08)\n",
      "\t\t\t7F.B09 (B09)\n",
      "\t\t\t7F.B10 (B10)\n",
      "\t\t\t7F.B11 (B11)\n",
      "\t\t\t7F.B12 (B12)\n",
      "\t\t\t7F.B13 (B13)\n",
      "\t\t\t7F.B14 (B14)\n",
      "\t\t\t7F.B15 (B15)\n",
      "\t\t\t7F.B16 (B16)\n",
      "\t\t\t7F.B17 (B17)\n",
      "\t\t\t7F.B18 (B18)\n",
      "\t\t\t7F.B19 (B19)\n",
      "\t\t\t7F.B20 (B20)\n",
      "\t\tChannels (117):\n",
      "\t\t\t7F.A01..GHZ, 7F.A01..GH1, 7F.A01..GH2, 7F.A02..GHZ, 7F.A02..GH1, \n",
      "\t\t\t7F.A02..GH2, 7F.A03..GHZ, 7F.A03..GH1, 7F.A03..GH2, 7F.A04..GHZ, \n",
      "\t\t\t7F.A04..GH1, 7F.A04..GH2, 7F.A05..GHZ, 7F.A05..GH1, 7F.A05..GH2, \n",
      "\t\t\t7F.A06..GHZ, 7F.A06..GH1, 7F.A06..GH2, 7F.A07..GHZ, 7F.A07..GH1, \n",
      "\t\t\t7F.A07..GH2, 7F.A08..GHZ, 7F.A08..GH1, 7F.A08..GH2, 7F.A09..GHZ, \n",
      "\t\t\t7F.A09..GH1, 7F.A09..GH2, 7F.A10..GHZ, 7F.A10..GH1, 7F.A10..GH2, \n",
      "\t\t\t7F.A11..GHZ, 7F.A11..GH1, 7F.A11..GH2, 7F.A12..GHZ, 7F.A12..GH1, \n",
      "\t\t\t7F.A12..GH2, 7F.A13..GHZ, 7F.A13..GH1, 7F.A13..GH2, 7F.A14..GHZ, \n",
      "\t\t\t7F.A14..GH1, 7F.A14..GH2, 7F.A15..GHZ, 7F.A15..GH1, 7F.A15..GH2, \n",
      "\t\t\t7F.A16..GHZ, 7F.A16..GH1, 7F.A16..GH2, 7F.A17..GHZ, 7F.A17..GH1, \n",
      "\t\t\t7F.A17..GH2, 7F.A18..GHZ, 7F.A18..GH1, 7F.A18..GH2, 7F.A19..GHZ, \n",
      "\t\t\t7F.A19..GH1, 7F.A19..GH2, 7F.B01..GHZ, 7F.B01..GH1, 7F.B01..GH2, \n",
      "\t\t\t7F.B02..GHZ, 7F.B02..GH1, 7F.B02..GH2, 7F.B03..GHZ, 7F.B03..GH1, \n",
      "\t\t\t7F.B03..GH2, 7F.B04..GHZ, 7F.B04..GH1, 7F.B04..GH2, 7F.B05..GHZ, \n",
      "\t\t\t7F.B05..GH1, 7F.B05..GH2, 7F.B06..GHZ, 7F.B06..GH1, 7F.B06..GH2, \n",
      "\t\t\t7F.B07..GHZ, 7F.B07..GH1, 7F.B07..GH2, 7F.B08..GHZ, 7F.B08..GH1, \n",
      "\t\t\t7F.B08..GH2, 7F.B09..GHZ, 7F.B09..GH1, 7F.B09..GH2, 7F.B10..GHZ, \n",
      "\t\t\t7F.B10..GH1, 7F.B10..GH2, 7F.B11..GHZ, 7F.B11..GH1, 7F.B11..GH2, \n",
      "\t\t\t7F.B12..GHZ, 7F.B12..GH1, 7F.B12..GH2, 7F.B13..GHZ, 7F.B13..GH1, \n",
      "\t\t\t7F.B13..GH2, 7F.B14..GHZ, 7F.B14..GH1, 7F.B14..GH2, 7F.B15..GHZ, \n",
      "\t\t\t7F.B15..GH1, 7F.B15..GH2, 7F.B16..GHZ, 7F.B16..GH1, 7F.B16..GH2, \n",
      "\t\t\t7F.B17..GHZ, 7F.B17..GH1, 7F.B17..GH2, 7F.B18..GHZ, 7F.B18..GH1, \n",
      "\t\t\t7F.B18..GH2, 7F.B19..GHZ, 7F.B19..GH1, 7F.B19..GH2, 7F.B20..GHZ, \n",
      "\t\t\t7F.B20..GH1, 7F.B20..GH2\n"
     ]
    }
   ],
   "source": [
    "# Fetch station metadata\n",
    "while True:\n",
    "    try:\n",
    "        inventory = client.get_stations(network=network, starttime=starttime, endtime=endtime, channel=\"GH*\", level=\"response\")\n",
    "        break\n",
    "    except KeyboardInterrupt:\n",
    "        raise\n",
    "    except Exception as exception:\n",
    "        print(exception)\n",
    "        continue\n",
    "        \n",
    "\n",
    "print(inventory)"
   ]
  },
  {
   "cell_type": "code",
   "execution_count": 4,
   "metadata": {},
   "outputs": [
    {
     "name": "stdout",
     "output_type": "stream",
     "text": [
      "Station metadata saved to /Volumes/OmanData/data/geophones/station_metadata.xml\n"
     ]
    }
   ],
   "source": [
    "# Save station metadata\n",
    "outpath = join(ROOTDIR_GEO, 'station_metadata.xml')\n",
    "inventory.write(outpath, format='STATIONXML')\n",
    "\n",
    "print('Station metadata saved to', outpath)"
   ]
  }
 ],
 "metadata": {
  "kernelspec": {
   "display_name": "obspy",
   "language": "python",
   "name": "python3"
  },
  "language_info": {
   "codemirror_mode": {
    "name": "ipython",
    "version": 3
   },
   "file_extension": ".py",
   "mimetype": "text/x-python",
   "name": "python",
   "nbconvert_exporter": "python",
   "pygments_lexer": "ipython3",
   "version": "3.11.6"
  }
 },
 "nbformat": 4,
 "nbformat_minor": 2
}
