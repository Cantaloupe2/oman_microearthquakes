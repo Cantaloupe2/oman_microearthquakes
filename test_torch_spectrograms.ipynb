{
 "cells": [
  {
   "cell_type": "code",
   "execution_count": 1,
   "id": "08c46fb4-a5f7-4e86-b587-7fec5ea76966",
   "metadata": {},
   "outputs": [],
   "source": [
    "# Test computing PSDs using PyTorch"
   ]
  },
  {
   "cell_type": "code",
   "execution_count": 2,
   "id": "d3095325-8131-4de7-a7d0-6f0cad886d8a",
   "metadata": {},
   "outputs": [],
   "source": [
    "from torch import hann_window, linspace, stft, tensor, cos\n",
    "from torch import abs as abs_torch\n",
    "from scipy.signal import ShortTimeFFT\n",
    "from scipy.signal.windows import hann\n",
    "from numpy import pi, sqrt, sum\n",
    "from numpy import abs as abs_np\n",
    "\n",
    "from utils_torch import get_window_enbw"
   ]
  },
  {
   "cell_type": "code",
   "execution_count": 3,
   "id": "282e55e6-1fe6-4c99-982a-9a6cc85740fa",
   "metadata": {},
   "outputs": [],
   "source": [
    "numpts = 1000\n",
    "starttime = 0.0\n",
    "sampling_rate = 1000.0\n",
    "freq = 50.0\n",
    "num_fft = 100\n",
    "overlap = 0.5\n",
    "\n",
    "endtime = starttime + (numpts - 1) / sampling_rate"
   ]
  },
  {
   "cell_type": "code",
   "execution_count": 4,
   "id": "b5815790-1204-4685-bfb3-6b0a75c726da",
   "metadata": {},
   "outputs": [],
   "source": [
    "timeax = linspace(starttime, endtime, numpts)\n",
    "signal = cos(2 * pi * freq * timeax)"
   ]
  },
  {
   "cell_type": "code",
   "execution_count": 5,
   "id": "cce74adc-ef29-401e-bc9f-d17bd08dcbe0",
   "metadata": {},
   "outputs": [],
   "source": [
    "stft_torch = stft(signal, num_fft, window = hann_window(num_fft), return_complex = True)"
   ]
  },
  {
   "cell_type": "code",
   "execution_count": 6,
   "id": "ccb8c644-fc3a-4c14-a5ab-7bdd4af92bd7",
   "metadata": {},
   "outputs": [
    {
     "name": "stdout",
     "output_type": "stream",
     "text": [
      "tensor(0.5000)\n",
      "tensor(0.1250)\n",
      "tensor(0.0083)\n"
     ]
    }
   ],
   "source": [
    "amp_torch = 2 * abs_torch(stft_torch) / num_fft\n",
    "power_torch = amp_torch ** 2 / 2\n",
    "enbw = get_window_enbw(hann_window(num_fft), sampling_rate)\n",
    "psd_torch = power_torch / enbw\n",
    "\n",
    "print(amp_torch.max())\n",
    "print(power_torch.max())\n",
    "print(psd_torch.max())"
   ]
  },
  {
   "cell_type": "code",
   "execution_count": 7,
   "id": "2e43c8d4-27be-4776-b163-576052a77744",
   "metadata": {},
   "outputs": [],
   "source": [
    "hop = int(num_fft * (1 - overlap))\n",
    "STFT = ShortTimeFFT(hann(num_fft), hop, sampling_rate, scale_to = \"psd\")\n",
    "stft_scipy = STFT.stft(signal)\n",
    "amp_scipy = abs_np(stft_scipy)\n",
    "psd_scipy = STFT.spectrogram(signal)"
   ]
  },
  {
   "cell_type": "code",
   "execution_count": 8,
   "id": "5b7ed94d-17e6-4e36-9550-70f93cc88a24",
   "metadata": {},
   "outputs": [
    {
     "name": "stdout",
     "output_type": "stream",
     "text": [
      "2.6936026936026937e-05\n",
      "2.6936026936026934e-05\n",
      "15.151515151515152\n",
      "tensor(15.0000)\n"
     ]
    }
   ],
   "source": [
    "# print(amp_scipy.max() ** 2)\n",
    "# print(psd_scipy.max())\n",
    "\n",
    "window = hann(num_fft)\n",
    "window_norm = STFT.win\n",
    "print(window_norm[1] ** 2 / window[1] ** 2)\n",
    "\n",
    "print(1 / sum(window ** 2) / sampling_rate)\n",
    "print(sum(window ** 2) * sampling_rate / sum(window) ** 2)\n",
    "print(enbw)\n"
   ]
  },
  {
   "cell_type": "code",
   "execution_count": null,
   "id": "a1786dd1-d47b-45de-a552-843d48d71e42",
   "metadata": {},
   "outputs": [],
   "source": []
  },
  {
   "cell_type": "code",
   "execution_count": null,
   "id": "945a2086-f6e6-44bb-a0fb-48ad2fb145b9",
   "metadata": {},
   "outputs": [],
   "source": [
    "10 * "
   ]
  }
 ],
 "metadata": {
  "kernelspec": {
   "display_name": "Python 3 (ipykernel)",
   "language": "python",
   "name": "python3"
  },
  "language_info": {
   "codemirror_mode": {
    "name": "ipython",
    "version": 3
   },
   "file_extension": ".py",
   "mimetype": "text/x-python",
   "name": "python",
   "nbconvert_exporter": "python",
   "pygments_lexer": "ipython3",
   "version": "3.11.8"
  }
 },
 "nbformat": 4,
 "nbformat_minor": 5
}
