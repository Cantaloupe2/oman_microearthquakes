{
 "cells": [
  {
   "cell_type": "code",
   "execution_count": 1,
   "metadata": {},
   "outputs": [],
   "source": [
    "# Cut the waveforms of a given event\n",
    "\n",
    "from obspy import read\n",
    "from obspy import UTCDateTime\n",
    "import pandas as pd\n",
    "from os import makedirs\n",
    "from os.path import join"
   ]
  },
  {
   "cell_type": "code",
   "execution_count": 2,
   "metadata": {},
   "outputs": [],
   "source": [
    "## Inputs\n",
    "root = \"/Volumes/OmanData/geophones_no_prefilt/data\"\n",
    "timewin = \"2020-01-25-12-00-00\"\n",
    "evname = \"Hammer1\"\n",
    "\n",
    "outdir = join(root, evname)\n",
    "\n",
    "winlen = 0.5"
   ]
  },
  {
   "cell_type": "code",
   "execution_count": 3,
   "metadata": {},
   "outputs": [],
   "source": [
    "## Read the event information\n",
    "inpath = join(root, timewin, f\"EventInfo_{evname}.dat\")\n",
    "evdf = pd.read_csv(inpath, sep=\" \")\n",
    "evor = UTCDateTime(evdf[\"origin_time\"][0])\n"
   ]
  },
  {
   "cell_type": "code",
   "execution_count": 4,
   "metadata": {},
   "outputs": [],
   "source": [
    "## Read the waveforms\n",
    "inpath = join(root, timewin, f\"*SAC\")\n",
    "stream = read(inpath)\n",
    "\n",
    "stream = stream.select(station=\"A*\")"
   ]
  },
  {
   "cell_type": "code",
   "execution_count": 5,
   "metadata": {},
   "outputs": [],
   "source": [
    "## Cut the waveforms\n",
    "stream = stream.trim(starttime=evor, endtime=evor+winlen)"
   ]
  },
  {
   "cell_type": "code",
   "execution_count": null,
   "metadata": {},
   "outputs": [],
   "source": [
    "## Save the waveforms\n",
    "makedirs(outdir, exist_ok=True)\n",
    "\n",
    "for trace in stream:\n",
    "    trace.write(join(outdir, trace.id+\".SAC\"), format=\"SAC\")"
   ]
  }
 ],
 "metadata": {
  "kernelspec": {
   "display_name": "obspy",
   "language": "python",
   "name": "python3"
  },
  "language_info": {
   "codemirror_mode": {
    "name": "ipython",
    "version": 3
   },
   "file_extension": ".py",
   "mimetype": "text/x-python",
   "name": "python",
   "nbconvert_exporter": "python",
   "pygments_lexer": "ipython3",
   "version": "3.11.6"
  }
 },
 "nbformat": 4,
 "nbformat_minor": 2
}
