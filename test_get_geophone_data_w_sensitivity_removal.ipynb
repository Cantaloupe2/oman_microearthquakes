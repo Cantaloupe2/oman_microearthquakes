{
 "cells": [
  {
   "cell_type": "markdown",
   "metadata": {},
   "source": [
    "# Test acquiring the geophone data from SAGE DMC while removing only the instrument sensitivity "
   ]
  },
  {
   "cell_type": "code",
   "execution_count": 1,
   "metadata": {},
   "outputs": [],
   "source": [
    "# Import modules\n",
    "\n",
    "from obspy.clients.fdsn import Client\n",
    "from obspy.io.sac.sactrace import SACTrace\n",
    "from obspy import read_inventory\n",
    "from obspy import UTCDateTime\n",
    "\n",
    "from os import makedirs, walk, rmdir\n",
    "from os.path import join, exists\n",
    "from re import search\n",
    "import time\n",
    "\n",
    "from utils_basic import NETWORK"
   ]
  },
  {
   "cell_type": "code",
   "execution_count": 2,
   "metadata": {},
   "outputs": [],
   "source": [
    "# Inputs \n",
    "starttime0 = UTCDateTime(\"2020-01-16T00:00:00\")\n",
    "endtime0 = UTCDateTime(\"2020-01-17T06:00:00\")\n",
    "\n",
    "rootdir = \"/Volumes/OmanData/data/geophones_new\"\n",
    "\n",
    "# Time window length for each file in second\n",
    "length_twin = 3600"
   ]
  },
  {
   "cell_type": "code",
   "execution_count": 3,
   "metadata": {},
   "outputs": [
    {
     "name": "stdout",
     "output_type": "stream",
     "text": [
      "In total  30  time periods for each station to download\n"
     ]
    }
   ],
   "source": [
    "# Compute the time period for each SAC file\n",
    "\n",
    "numwin = round((endtime0-starttime0)/length_twin)\n",
    "starttimes_twin = []\n",
    "print('In total ',format(numwin, 'd'),' time periods for each station to download')\n",
    "for ind in range(numwin):\n",
    "\tstarttime = starttime0+ind*length_twin\n",
    "\tstarttimes_twin.append(starttime)"
   ]
  },
  {
   "cell_type": "code",
   "execution_count": 4,
   "metadata": {},
   "outputs": [
    {
     "name": "stdout",
     "output_type": "stream",
     "text": [
      "Reading the station inventory...\n"
     ]
    }
   ],
   "source": [
    "# Get the station inventory\n",
    "print('Reading the station inventory...')\n",
    "inpath = join(rootdir, \"station_metadata.xml\")\n",
    "\n",
    "if not exists(inpath):\n",
    "\tprint(f\"The station metadata does not exist! Quit!\")\n",
    "\traise\n",
    "\n",
    "inventory = read_inventory(inpath, format=\"STATIONXML\")\n",
    "stations = inventory.get_contents()['stations']\n",
    "\n",
    "for i, station in enumerate(stations):\n",
    "    station = search(r'\\((.*?)\\)', station).group(1)\n",
    "    stations[i] = station"
   ]
  },
  {
   "cell_type": "code",
   "execution_count": 5,
   "metadata": {},
   "outputs": [
    {
     "name": "stdout",
     "output_type": "stream",
     "text": [
      "Getting the data for 2020-01-16-00...\n",
      "Getting the data for station A01...\n",
      "Channels acquired:\n",
      "7F.A01..GH1\n",
      "7F.A01..GH2\n",
      "7F.A01..GHZ\n",
      "\n",
      "\n",
      "Removing the instrumental sensitivity...\n",
      "Data saved to /Volumes/OmanData/data/geophones_new/2020-01-16-00/7F.A01..mseed!\n",
      "Getting the data for station A02...\n"
     ]
    },
    {
     "name": "stderr",
     "output_type": "stream",
     "text": [
      "/opt/homebrew/Caskroom/miniforge/base/envs/obspy/lib/python3.11/site-packages/obspy/io/mseed/core.py:770: UserWarning: The encoding specified in trace.stats.mseed.encoding does not match the dtype of the data.\n",
      "A suitable encoding will be chosen.\n",
      "  warnings.warn(msg, UserWarning)\n"
     ]
    },
    {
     "name": "stdout",
     "output_type": "stream",
     "text": [
      "Channels acquired:\n",
      "7F.A02..GH1\n",
      "7F.A02..GH2\n",
      "7F.A02..GHZ\n",
      "\n",
      "\n",
      "Removing the instrumental sensitivity...\n",
      "Data saved to /Volumes/OmanData/data/geophones_new/2020-01-16-00/7F.A02..mseed!\n",
      "Getting the data for station A03...\n",
      "Channels acquired:\n",
      "7F.A03..GH1\n",
      "7F.A03..GH2\n",
      "7F.A03..GHZ\n",
      "\n",
      "\n",
      "Removing the instrumental sensitivity...\n",
      "Data saved to /Volumes/OmanData/data/geophones_new/2020-01-16-00/7F.A03..mseed!\n",
      "Getting the data for station A04...\n",
      "Failed to get the data for station A04 at 2020-01-16-00!\n",
      "Getting the data for station A05...\n",
      "Channels acquired:\n",
      "7F.A05..GH1\n",
      "7F.A05..GH2\n",
      "7F.A05..GHZ\n",
      "\n",
      "\n",
      "Removing the instrumental sensitivity...\n",
      "Data saved to /Volumes/OmanData/data/geophones_new/2020-01-16-00/7F.A05..mseed!\n",
      "Getting the data for station A06...\n"
     ]
    }
   ],
   "source": [
    "# Get the data for each time window and each station\n",
    "client = Client(\"IRIS\")\n",
    "network = NETWORK\n",
    "\n",
    "# Loop over the time windows\n",
    "for starttime in starttimes_twin:\n",
    "    endtime = starttime + length_twin\n",
    "    timestr = starttime.strftime(\"%Y-%m-%d-%H\")\n",
    "    print(f\"Getting the data for {timestr}...\")\n",
    "\n",
    "    # Loop over the stations\n",
    "    for station in stations:\n",
    "        print(f\"Getting the data for station {station}...\")\n",
    "\n",
    "        # Get the data\n",
    "        try:\n",
    "            stream = client.get_waveforms(network, station, \"*\", \"GH*\", starttime, endtime)\n",
    "        except:\n",
    "            print(f\"Failed to get the data for station {station} at {timestr}!\")\n",
    "            continue\n",
    "\n",
    "        # Check the data\n",
    "        if len(stream) != 3:\n",
    "            print(f\"Incorrect number of channels! Skip the station {station} at {timestr}!\")\n",
    "            continue \n",
    "\n",
    "        print(\"Channels acquired:\")\n",
    "        for trace in stream:\n",
    "            id = trace.id\n",
    "            print(id)\n",
    "        print(\"\\n\")\n",
    "\n",
    "        # Remove instramental sensitivity\n",
    "        print(\"Removing the instrumental sensitivity...\")\n",
    "        stream.remove_sensitivity(inventory=inventory)\n",
    "\n",
    "        # Change the precision from float64 to float32\n",
    "        for trace in stream:\n",
    "            trace.data = trace.data.astype('float32')\n",
    "\n",
    "        ## Save the data\n",
    "        outdir = join(rootdir, timestr)\n",
    "        if not exists(outdir):\n",
    "            makedirs(outdir)\n",
    "            print(f\"Create the directory {outdir}...\")\n",
    "        \n",
    "        location = stream[0].stats.location\n",
    "        filename_out = f\"{network}.{station}.{location}.mseed\"\n",
    "        outpath = join(outdir, filename_out)\n",
    "        stream.write(outpath, format=\"MSEED\")\n",
    "\n",
    "        print(f\"Data saved to {outpath}!\")\n",
    "\n",
    "        \n",
    "        "
   ]
  }
 ],
 "metadata": {
  "kernelspec": {
   "display_name": "obspy",
   "language": "python",
   "name": "python3"
  },
  "language_info": {
   "codemirror_mode": {
    "name": "ipython",
    "version": 3
   },
   "file_extension": ".py",
   "mimetype": "text/x-python",
   "name": "python",
   "nbconvert_exporter": "python",
   "pygments_lexer": "ipython3",
   "version": "3.11.6"
  }
 },
 "nbformat": 4,
 "nbformat_minor": 2
}
