{
 "cells": [
  {
   "cell_type": "code",
   "execution_count": 1,
   "metadata": {},
   "outputs": [],
   "source": [
    "from numpy import zeros, complex128, real, arctan2, sqrt, pi, array, amin\n",
    "from numpy.linalg import norm"
   ]
  },
  {
   "cell_type": "code",
   "execution_count": 2,
   "metadata": {},
   "outputs": [
    {
     "name": "stdout",
     "output_type": "stream",
     "text": [
      "[[1.+1.j 0.+0.j 0.+0.j]\n",
      " [0.+0.j 1.-1.j 0.+0.j]\n",
      " [0.+0.j 0.+0.j 1.+1.j]]\n"
     ]
    }
   ],
   "source": [
    "a = zeros((3, 3), dtype=complex128)\n",
    "a[0, 0] = 1.0 + 1.0j\n",
    "a[1, 1] = 1.0 - 1.0j\n",
    "a[2, 2] = 1.0 + 1.0j\n",
    "print(a)"
   ]
  },
  {
   "cell_type": "code",
   "execution_count": 3,
   "metadata": {},
   "outputs": [
    {
     "name": "stdout",
     "output_type": "stream",
     "text": [
      "[[1. 0. 0.]\n",
      " [0. 1. 0.]\n",
      " [0. 0. 1.]]\n"
     ]
    }
   ],
   "source": [
    "a_real = real(a)\n",
    "print(a_real)"
   ]
  },
  {
   "cell_type": "code",
   "execution_count": 4,
   "metadata": {},
   "outputs": [
    {
     "data": {
      "text/plain": [
       "150.00000000000003"
      ]
     },
     "execution_count": 4,
     "metadata": {},
     "output_type": "execute_result"
    }
   ],
   "source": [
    "arctan2(1, -sqrt(3)) * 180 / pi"
   ]
  },
  {
   "cell_type": "code",
   "execution_count": 5,
   "metadata": {},
   "outputs": [
    {
     "name": "stdout",
     "output_type": "stream",
     "text": [
      "[3]\n"
     ]
    }
   ],
   "source": [
    "a = array([1, 2, 3])\n",
    "print(a[(a > 2) | (a < 1)])\n"
   ]
  },
  {
   "cell_type": "code",
   "execution_count": 6,
   "metadata": {},
   "outputs": [
    {
     "name": "stdout",
     "output_type": "stream",
     "text": [
      "[[1 2 3]\n",
      " [1 2 3]\n",
      " [1 2 3]]\n",
      "[1.73205081 3.46410162 5.19615242]\n"
     ]
    }
   ],
   "source": [
    "a = array([[1, 2, 3], [1, 2, 3], [1, 2, 3]])\n",
    "print(a)\n",
    "b = norm(a, axis=0)\n",
    "print(b)"
   ]
  },
  {
   "cell_type": "code",
   "execution_count": 7,
   "metadata": {},
   "outputs": [
    {
     "data": {
      "text/plain": [
       "'10'"
      ]
     },
     "execution_count": 7,
     "metadata": {},
     "output_type": "execute_result"
    }
   ],
   "source": [
    "str(10).zfill(2)"
   ]
  },
  {
   "cell_type": "code",
   "execution_count": 8,
   "metadata": {},
   "outputs": [
    {
     "data": {
      "text/plain": [
       "'2018-01-01T00:00:00.000000'"
      ]
     },
     "execution_count": 8,
     "metadata": {},
     "output_type": "execute_result"
    }
   ],
   "source": [
    "import pandas as pd\n",
    "\n",
    "t = pd.to_datetime(\"2018-01-01T00:00:00.000000000Z\")\n",
    "t.strftime(\"%Y-%m-%dT%H:%M:%S.%f\")"
   ]
  },
  {
   "cell_type": "code",
   "execution_count": 9,
   "metadata": {},
   "outputs": [
    {
     "data": {
      "text/plain": [
       "array([1, 2, 3])"
      ]
     },
     "execution_count": 9,
     "metadata": {},
     "output_type": "execute_result"
    }
   ],
   "source": [
    "df = pd.DataFrame({\"a\": [1, 2, 3], \"b\": [4, 5, 6]})\n",
    "array(df[\"a\"])"
   ]
  },
  {
   "cell_type": "code",
   "execution_count": 10,
   "metadata": {},
   "outputs": [
    {
     "data": {
      "text/plain": [
       "Timestamp('2020-01-01 00:00:00')"
      ]
     },
     "execution_count": 10,
     "metadata": {},
     "output_type": "execute_result"
    }
   ],
   "source": [
    "df = pd.DataFrame({\"time\": pd.to_datetime([\"2020-01-01T00:00:00\", \"2020-01-01T00:00:00\", \"2020-01-01T00:00:00\"]), \"x\": [4, 5, 6]})\n",
    "starttimes = df[\"time\"].tolist()\n",
    "amin(starttimes)"
   ]
  },
  {
   "cell_type": "code",
   "execution_count": 11,
   "metadata": {},
   "outputs": [
    {
     "data": {
      "text/plain": [
       "1"
      ]
     },
     "execution_count": 11,
     "metadata": {},
     "output_type": "execute_result"
    }
   ],
   "source": [
    "a = [1, 2, 3]\n",
    "a.index(2)"
   ]
  },
  {
   "cell_type": "code",
   "execution_count": 12,
   "metadata": {},
   "outputs": [
    {
     "data": {
      "text/plain": [
       "array([[2.+0.j, 2.+0.j],\n",
       "       [2.+0.j, 2.+0.j]])"
      ]
     },
     "execution_count": 12,
     "metadata": {},
     "output_type": "execute_result"
    }
   ],
   "source": [
    "from numpy import cov\n",
    "\n",
    "a = array([1+1j, 2+2j, 3+3j])\n",
    "b = array([1+1j, 2+2j, 3+3j])\n",
    "\n",
    "cov(a, b)"
   ]
  },
  {
   "cell_type": "code",
   "execution_count": 13,
   "metadata": {},
   "outputs": [
    {
     "name": "stdout",
     "output_type": "stream",
     "text": [
      "   A  B   C\n",
      "0  1  5   9\n",
      "1  2  6  10\n",
      "2  3  7  11\n",
      "3  4  8  12\n",
      "   A  B   C\n",
      "0  1  5   9\n",
      "1  2  6  10\n"
     ]
    }
   ],
   "source": [
    "import pandas as pd\n",
    "\n",
    "# Sample DataFrame\n",
    "data = {\n",
    "    'A': [1, 2, 3, 4],\n",
    "    'B': [5, 6, 7, 8],\n",
    "    'C': [9, 10, 11, 12]\n",
    "}\n",
    "df = pd.DataFrame(data)\n",
    "\n",
    "print(df)\n",
    "\n",
    "# Selecting the first two rows and transposing\n",
    "selected_rows = df.iloc[0:2]\n",
    "\n",
    "# Concatenating the rows along the column axis\n",
    "result = pd.concat([selected_rows], axis=1)\n",
    "\n",
    "print(result)"
   ]
  },
  {
   "cell_type": "code",
   "execution_count": 14,
   "metadata": {},
   "outputs": [
    {
     "data": {
      "text/plain": [
       "60.00000000000001"
      ]
     },
     "execution_count": 14,
     "metadata": {},
     "output_type": "execute_result"
    }
   ],
   "source": [
    "from numpy import cross, array, arcsin, pi, sqrt\n",
    "from numpy.linalg import norm\n",
    "\n",
    "a = array([1, -sqrt(3), 0])\n",
    "b = array([1, 0, 0])\n",
    "\n",
    "arcsin(norm(cross(a, b))/norm(a)/norm(b))/pi*180"
   ]
  },
  {
   "cell_type": "code",
   "execution_count": 15,
   "metadata": {},
   "outputs": [
    {
     "name": "stdout",
     "output_type": "stream",
     "text": [
      "[[1 2 3]\n",
      " [1 2 3]]\n",
      "[2. 2.]\n"
     ]
    },
    {
     "data": {
      "text/plain": [
       "60.0"
      ]
     },
     "execution_count": 15,
     "metadata": {},
     "output_type": "execute_result"
    }
   ],
   "source": [
    "from numpy import array, row_stack, mean, arctan2, sqrt, pi\n",
    "\n",
    "a = array([1, 2, 3])\n",
    "b = a.copy()\n",
    "\n",
    "c = row_stack((a, b))\n",
    "print(c)\n",
    "mean_c = mean(c, axis=1)\n",
    "print(mean_c)\n",
    "\n",
    "arctan2(sqrt(3), 1)/pi*180"
   ]
  },
  {
   "cell_type": "code",
   "execution_count": 2,
   "metadata": {},
   "outputs": [
    {
     "name": "stdout",
     "output_type": "stream",
     "text": [
      "2.49999999999999156231\n"
     ]
    }
   ],
   "source": [
    "from numpy import array, row_stack, mean, arctan2, sqrt, pi, cross\n",
    "from utils_pol import get_mean_strike\n",
    "\n",
    "strikes = array((20, 165))\n",
    "mean_strike = get_mean_strike(strikes)\n",
    "print(f\"{mean_strike:.20f}\")"
   ]
  },
  {
   "cell_type": "code",
   "execution_count": 28,
   "metadata": {},
   "outputs": [
    {
     "data": {
      "image/png": "[encoded data removed]",
      "text/plain": [
       "<Figure size 640x480 with 1 Axes>"
      ]
     },
     "metadata": {},
     "output_type": "display_data"
    }
   ],
   "source": [
    "from numpy import array, linspace\n",
    "from numpy.random import randn, uniform, seed\n",
    "from matplotlib import colormaps\n",
    "from matplotlib.pyplot import plot, Normalize, cm\n",
    "\n",
    "\n",
    "seed(0)  # For reproducibility\n",
    "n_points = 100\n",
    "x = uniform(0, 10, n_points)\n",
    "y = uniform(0, 10, n_points)\n",
    "angle = uniform(0, 360, n_points)  # Angles in degrees\n",
    "amplitude = uniform(-5, 5, n_points)  # Amplitude values\n",
    "\n",
    "norm = Normalize(amplitude.min(), amplitude.max())\n",
    "colors = cm.bwr(norm(amplitude))\n",
    "\n",
    "for i in range(n_points):\n",
    "    plot(x[i], y[i], \"o\", color=colors[i])\n"
   ]
  },
  {
   "cell_type": "code",
   "execution_count": 1,
   "metadata": {},
   "outputs": [
    {
     "name": "stdout",
     "output_type": "stream",
     "text": [
      "[0. 0. 0. 0. 0. 1. 0. 0. 0. 0.]\n"
     ]
    }
   ],
   "source": [
    "from scipy.signal import unit_impulse\n",
    "\n",
    "a = unit_impulse(10, \"mid\")\n",
    "print(a)"
   ]
  },
  {
   "cell_type": "code",
   "execution_count": 16,
   "metadata": {},
   "outputs": [
    {
     "data": {
      "text/plain": [
       "['b-', '-a']"
      ]
     },
     "execution_count": 16,
     "metadata": {},
     "output_type": "execute_result"
    }
   ],
   "source": [
    "from re import search, split\n",
    "parent = \"b-16-00-12-23-a\"\n",
    "\n",
    "match = search(r\"(\\d{2})-(\\d{2})-(\\d{2})-(\\d{2})\", parent)\n",
    "match.group(0)\n",
    "match.group(1)\n",
    "\n",
    "fields = split(\"\\d{2}-\\d{2}-\\d{2}-\\d{2}\", parent)\n",
    "fields"
   ]
  },
  {
   "cell_type": "code",
   "execution_count": 13,
   "metadata": {},
   "outputs": [
    {
     "name": "stdout",
     "output_type": "stream",
     "text": [
      "[1, 2, 3]\n"
     ]
    }
   ],
   "source": [
    "a = set([1, 2, 3])\n",
    "b = set([1, 2, 3, 4])\n",
    "c = list(a & b)\n",
    "print(c)"
   ]
  }
 ],
 "metadata": {
  "kernelspec": {
   "display_name": "obspy",
   "language": "python",
   "name": "python3"
  },
  "language_info": {
   "codemirror_mode": {
    "name": "ipython",
    "version": 3
   },
   "file_extension": ".py",
   "mimetype": "text/x-python",
   "name": "python",
   "nbconvert_exporter": "python",
   "pygments_lexer": "ipython3",
   "version": "3.11.6"
  }
 },
 "nbformat": 4,
 "nbformat_minor": 2
}
