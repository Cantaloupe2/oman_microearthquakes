{
 "cells": [
  {
   "cell_type": "code",
   "execution_count": 3,
   "metadata": {},
   "outputs": [],
   "source": [
    "from obspy import read, read_inventory, UTCDateTime\n",
    "from utils_basic import *\n",
    "\n",
    "invpath = \"/Volumes/OmanData/data/hydrophones/station_metadata.xml\"\n",
    "datpath = join(ROOTDIR_HYDRO, \"2020-01-13\", \"*B00*\")\n",
    "\n"
   ]
  },
  {
   "cell_type": "code",
   "execution_count": 4,
   "metadata": {},
   "outputs": [],
   "source": [
    "stream = read(datpath)"
   ]
  },
  {
   "cell_type": "code",
   "execution_count": 5,
   "metadata": {},
   "outputs": [
    {
     "data": {
      "text/plain": [
       "6 Trace(s) in Stream:\n",
       "7F.B00.01.GDH | 2020-01-13T01:34:08.998000Z - 2020-01-14T00:00:03.890000Z | 1000.0 Hz, 80754893 samples\n",
       "7F.B00.02.GDH | 2020-01-13T01:34:08.998000Z - 2020-01-14T00:00:00.708000Z | 1000.0 Hz, 80751711 samples\n",
       "7F.B00.03.GDH | 2020-01-13T01:34:08.998000Z - 2020-01-14T00:00:01.444000Z | 1000.0 Hz, 80752447 samples\n",
       "7F.B00.04.GDH | 2020-01-13T01:34:08.998000Z - 2020-01-14T00:00:00.979000Z | 1000.0 Hz, 80751982 samples\n",
       "7F.B00.05.GDH | 2020-01-13T01:34:08.998000Z - 2020-01-14T00:00:03.868000Z | 1000.0 Hz, 80754871 samples\n",
       "7F.B00.06.GDH | 2020-01-13T01:34:08.998000Z - 2020-01-14T00:00:00.567000Z | 1000.0 Hz, 80751570 samples"
      ]
     },
     "execution_count": 5,
     "metadata": {},
     "output_type": "execute_result"
    }
   ],
   "source": [
    "stream"
   ]
  }
 ],
 "metadata": {
  "kernelspec": {
   "display_name": "obspy",
   "language": "python",
   "name": "python3"
  },
  "language_info": {
   "codemirror_mode": {
    "name": "ipython",
    "version": 3
   },
   "file_extension": ".py",
   "mimetype": "text/x-python",
   "name": "python",
   "nbconvert_exporter": "python",
   "pygments_lexer": "ipython3",
   "version": "3.11.6"
  }
 },
 "nbformat": 4,
 "nbformat_minor": 2
}
