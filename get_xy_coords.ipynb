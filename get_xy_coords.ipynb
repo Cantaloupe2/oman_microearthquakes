{
 "cells": [
  {
   "cell_type": "markdown",
   "metadata": {},
   "source": [
    "# Get the east-north coordinates of stations and boreholes from their longitudes and latitudes"
   ]
  },
  {
   "cell_type": "code",
   "execution_count": 6,
   "metadata": {},
   "outputs": [],
   "source": [
    "# Import modules\n",
    "\n",
    "from pyproj import Proj\n",
    "from pandas import read_csv\n",
    "from matplotlib import pyplot as plt\n",
    "from os.path import join\n",
    "\n",
    "from utils_basic import *"
   ]
  },
  {
   "cell_type": "code",
   "execution_count": 7,
   "metadata": {},
   "outputs": [],
   "source": [
    "# Inputs\n",
    "\n",
    "root = ROOTDIR\n",
    "filename_in = \"boreholes.csv\"\n",
    "filename_out = \"boreholes.csv\"\n",
    "\n",
    "lon_center = CENTER_LONGITUDE\n",
    "lat_center = CENTER_LATITUDE"
   ]
  },
  {
   "cell_type": "code",
   "execution_count": 8,
   "metadata": {},
   "outputs": [],
   "source": [
    "# Read the longitudes and latitudes\n",
    "\n",
    "inpath = join(root, filename_in)\n",
    "datfra_in = read_csv(inpath, index_col=0)"
   ]
  },
  {
   "cell_type": "code",
   "execution_count": 9,
   "metadata": {},
   "outputs": [],
   "source": [
    "# Perform the transformation\n",
    "\n",
    "proj = Proj(proj='tmerc', lon_0=lon_center, lat_0=lat_center)\n",
    "eastsr, northsr = proj.transform(datfra_in['longitude'], datfra_in['latitude'])\n",
    "\n",
    "datfra_out = datfra_in.copy()\n",
    "datfra_out['east'] = eastsr\n",
    "datfra_out['north'] = northsr"
   ]
  },
  {
   "cell_type": "code",
   "execution_count": 10,
   "metadata": {},
   "outputs": [
    {
     "name": "stdout",
     "output_type": "stream",
     "text": [
      "Saved to /Volumes/OmanData/geophones_no_prefilt/data/boreholes.csv\n"
     ]
    }
   ],
   "source": [
    "# Save the results\n",
    "\n",
    "outpath = join(root, filename_out)\n",
    "datfra_out.to_csv(outpath)\n",
    "print(f\"Saved to {outpath}\")\n"
   ]
  }
 ],
 "metadata": {
  "kernelspec": {
   "display_name": "obspy",
   "language": "python",
   "name": "python3"
  },
  "language_info": {
   "codemirror_mode": {
    "name": "ipython",
    "version": 3
   },
   "file_extension": ".py",
   "mimetype": "text/x-python",
   "name": "python",
   "nbconvert_exporter": "python",
   "pygments_lexer": "ipython3",
   "version": "3.11.6"
  }
 },
 "nbformat": 4,
 "nbformat_minor": 2
}
