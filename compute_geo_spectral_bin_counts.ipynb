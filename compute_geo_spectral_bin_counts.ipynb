{
 "cells": [
  {
   "cell_type": "markdown",
   "metadata": {},
   "source": [
    "# Group the spectral peaks of geophone data into regular time-frquency bins"
   ]
  },
  {
   "cell_type": "code",
   "execution_count": null,
   "metadata": {},
   "outputs": [],
   "source": [
    "# Imports\n",
    "from os.path import join\n",
    "from numpy import linspace\n",
    "from pandas import read_csv, date_range, Timestamp, Timedelta\n",
    "\n",
    "from utils_basic import SPECTROGRAM_DIR as indir, GEO_STATIONS as stations\n",
    "from utils_spec import assemble_spec_filename, group_spectral_peaks_regular_bins, read_geo_spectrograms, find_geo_station_spectral_peaks, read_spectral_peaks, bin_counts_to_df\n",
    "from utils_plot import plot_array_spec_peak_bin_counts, save_figure"
   ]
  },
  {
   "cell_type": "code",
   "execution_count": null,
   "metadata": {},
   "outputs": [],
   "source": [
    "# Inputs\n",
    "# Data\n",
    "window_length = 60.0\n",
    "overlap = 0.0\n",
    "downsample = True\n",
    "downsample_factor = 60\n",
    "prom_threshold = 5\n",
    "rbw_threshold = 0.2\n",
    "file_format = \"h5\"\n",
    "\n",
    "# Grouping\n",
    "starttime_bins = \"2020-01-10T00:00:00\"\n",
    "endtime_bins = \"2020-02-02T00:00:00\"\n",
    "\n",
    "time_bin_width = \"1s\"\n",
    "freq_bin_width = 1.0 # in Hz\n",
    "min_freq = 0.0\n",
    "max_freq = 200.0\n",
    "\n",
    "count_threshold = 4\n",
    "\n",
    "# Plotting\n",
    "starttime_plot = \"2020-01-13T00:00:00\"\n",
    "endtime_plot = \"2020-01-14T00:00:00\"\n",
    "\n",
    "size_scale = 30"
   ]
  },
  {
   "cell_type": "code",
   "execution_count": null,
   "metadata": {},
   "outputs": [],
   "source": [
    "# Process the detections of each station\n",
    "if downsample:\n",
    "    suffix = f\"window{window_length:.0f}s_overlap{overlap:.1f}_downsample{downsample_factor:d}_prom{prom_threshold:.0f}db_rbw{rbw_threshold:.1f}\"\n",
    "else:\n",
    "    suffix = f\"window{window_length:.0f}s_overlap{overlap:.1f}_prom{prom_threshold:.0f}db_rbw{rbw_threshold:.1f}\"\n",
    "\n",
    "for i, station in enumerate(stations):\n",
    "    print(f\"Processing {station}...\")\n",
    "\n",
    "    # Read the spectral peaks\n",
    "    filename = f\"geo_spectral_peaks_{station}_{suffix}.{file_type}\"\n",
    "    inpath = join(indir, filename)\n",
    "    peak_df = read_spectral_peaks(inpath, file_format)\n",
    "    \n",
    "    # Group the spectral peaks\n",
    "    time_bin_centers, freq_bin_centers, bin_counts = group_spectral_peaks_regular_binsgroup_spectral_peaks_regular_bins(peak_df, starttime_bins, endtime_bins, time_bin_width = time_bin_width, min_freq = min_freq, max_freq = max_freq, freq_bin_width = freq_bin_width)\n",
    "\n",
    "    if i == 0:\n",
    "        bin_counts_sum = bin_counts\n",
    "    else:\n",
    "        bin_counts_sum += bin_counts\n",
    "    "
   ]
  },
  {
   "cell_type": "code",
   "execution_count": null,
   "metadata": {},
   "outputs": [],
   "source": [
    "# Convert the bin counts to a DataFrame\n",
    "bin_count_df = bin_counts_to_df(time_bin_centers, freq_bin_centers, bin_counts_sum, count_threshold = count_threshold)"
   ]
  },
  {
   "cell_type": "code",
   "execution_count": null,
   "metadata": {},
   "outputs": [],
   "source": [
    "# Save the DataFrame\n",
    "file_stem = f\"geo_spectral_peak_bin_counts_{suffix}\"\n",
    "save_spectral_peak_bin_counts(bin_count_df, file_stem, \"hdf\")"
   ]
  },
  {
   "cell_type": "code",
   "execution_count": null,
   "metadata": {},
   "outputs": [],
   "source": [
    "# Plot the bin counts in the example time range\n",
    "fig, ax = plot_array_spec_peak_bin_counts(peak_df, \n",
    "                                        size_scale = size_scale, \n",
    "                                        starttime = starttime_plot, endtime = endtime_plot, freq_lim = (min_freq, max_freq),\n",
    "                                        major_time_spacing = \"6h\", minor_time_spacing = \"1h\")"
   ]
  }
 ],
 "metadata": {
  "language_info": {
   "name": "python"
  }
 },
 "nbformat": 4,
 "nbformat_minor": 2
}
