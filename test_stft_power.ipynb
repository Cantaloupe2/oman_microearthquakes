{
 "cells": [
  {
   "cell_type": "markdown",
   "metadata": {},
   "source": [
    "# Test the absolute power of STFT computed using different window lengths"
   ]
  },
  {
   "cell_type": "code",
   "execution_count": 176,
   "metadata": {},
   "outputs": [],
   "source": [
    "# Imports\n",
    "from scipy.signal import ShortTimeFFT, periodogram\n",
    "from scipy.signal.windows import hann\n",
    "from numpy import linspace, cos, pi, sqrt, sum"
   ]
  },
  {
   "cell_type": "code",
   "execution_count": 177,
   "metadata": {},
   "outputs": [],
   "source": [
    "# Inputs\n",
    "## Signal\n",
    "freq = 70.0\n",
    "sampling_rate = 1e3\n",
    "duration = 2.0\n",
    "\n",
    "## STFT\n",
    "window_length1 = 1.0\n",
    "window_length2 = 2.0\n",
    "overlap = 0.5\n"
   ]
  },
  {
   "cell_type": "code",
   "execution_count": 178,
   "metadata": {},
   "outputs": [],
   "source": [
    "# Generate the input signal\n",
    "timeax = linspace(0, duration, int(duration * sampling_rate), endpoint=False)\n",
    "signal = cos(2 * pi * freq * timeax)"
   ]
  },
  {
   "cell_type": "code",
   "execution_count": 179,
   "metadata": {},
   "outputs": [
    {
     "name": "stdout",
     "output_type": "stream",
     "text": [
      "0.5000000000000002\n",
      "0.2500000000000001\n",
      "[ 0.   0.5  1.  ... -1.5 -1.  -0.5]\n"
     ]
    }
   ],
   "source": [
    "freq, psd = periodogram(signal, fs=sampling_rate, window=\"boxcar\", return_onesided=False)\n",
    "freq, mag = periodogram(signal, fs=sampling_rate, window=\"boxcar\", scaling=\"spectrum\", return_onesided=False)\n",
    "print(psd.max())\n",
    "print(mag.max())\n",
    "print(freq)"
   ]
  }
 ],
 "metadata": {
  "kernelspec": {
   "display_name": "obspy",
   "language": "python",
   "name": "python3"
  },
  "language_info": {
   "codemirror_mode": {
    "name": "ipython",
    "version": 3
   },
   "file_extension": ".py",
   "mimetype": "text/x-python",
   "name": "python",
   "nbconvert_exporter": "python",
   "pygments_lexer": "ipython3",
   "version": "3.11.6"
  }
 },
 "nbformat": 4,
 "nbformat_minor": 2
}
