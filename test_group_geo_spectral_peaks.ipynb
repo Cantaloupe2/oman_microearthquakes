{
 "cells": [
  {
   "cell_type": "markdown",
   "id": "70d3d03b-c312-4169-bf2d-4bd185b65985",
   "metadata": {},
   "source": [
    "# Test grouping spectral peaks found on geophone spectrograms by time and frequency"
   ]
  },
  {
   "cell_type": "code",
   "execution_count": 1,
   "id": "2bfdaa13-4321-4c85-bedf-9a7b6567486d",
   "metadata": {},
   "outputs": [],
   "source": [
    "# Imports\n",
    "from os.path import join\n",
    "from numpy import linspace\n",
    "from pandas import DataFrame, date_range, read_csv, Timestamp, Timedelta\n",
    "from time import time\n",
    "\n",
    "from utils_basic import SPECTROGRAM_DIR as indir, GEO_STATIONS as stations\n",
    "from utils_spec import assemble_spec_filename, find_geo_station_spectral_peaks, get_spectrogram_file_suffix, get_spec_peak_file_suffix, read_geo_spectrograms, read_spectral_peaks, save_spectral_peak_counts, update_spectral_peak_group_counts\n",
    "from utils_plot import plot_array_spec_peak_counts, save_figure\n",
    "from multiprocessing import Pool"
   ]
  },
  {
   "cell_type": "code",
   "execution_count": 2,
   "id": "ce7d5d3c-d254-4d15-b7c6-64f7836be001",
   "metadata": {},
   "outputs": [],
   "source": [
    "# Data\n",
    "station1 = \"A01\"\n",
    "station2 = \"A02\"\n",
    "station3 = \"A03\"\n",
    "\n",
    "window_length = 1.0\n",
    "overlap = 0.0\n",
    "downsample = False\n",
    "downsample_factor = 60\n",
    "prom_threshold = 10\n",
    "rbw_threshold = 0.2\n",
    "\n",
    "min_freq = None\n",
    "max_freq = 200.0\n",
    "\n",
    "file_ext_in = \"h5\""
   ]
  },
  {
   "cell_type": "code",
   "execution_count": 3,
   "id": "ee072502-318f-4e4d-9683-673b46e73650",
   "metadata": {},
   "outputs": [],
   "source": [
    "# Process the detections of \n",
    "suffix_spec = get_spectrogram_file_suffix(window_length, overlap, downsample)\n",
    "suffix_peak = get_spec_peak_file_suffix(prom_threshold, rbw_threshold, min_freq = min_freq, max_freq = max_freq)"
   ]
  },
  {
   "cell_type": "code",
   "execution_count": 4,
   "id": "30393228-34be-44c5-a8fc-ce9e6cb35612",
   "metadata": {},
   "outputs": [
    {
     "name": "stdout",
     "output_type": "stream",
     "text": [
      "9944211 peaks are read.\n",
      "10093834 peaks are read.\n",
      "10598911 peaks are read.\n"
     ]
    }
   ],
   "source": [
    "# Read the spectral peaks\n",
    "filename1 = f\"geo_spectral_peaks_{station1}_{suffix_spec}_{suffix_peak}.{file_ext_in}\"\n",
    "inpath1 = join(indir, filename1)\n",
    "peak_df1 = read_spectral_peaks(inpath1)\n",
    "num_peaks1 = len(peak_df1)\n",
    "print(f\"{num_peaks1} peaks are read.\")\n",
    "\n",
    "filename2 = f\"geo_spectral_peaks_{station2}_{suffix_spec}_{suffix_peak}.{file_ext_in}\"\n",
    "inpath2 = join(indir, filename2)\n",
    "peak_df2 = read_spectral_peaks(inpath2)\n",
    "num_peaks2 = len(peak_df2)\n",
    "print(f\"{num_peaks2} peaks are read.\")\n",
    "\n",
    "filename3 = f\"geo_spectral_peaks_{station3}_{suffix_spec}_{suffix_peak}.{file_ext_in}\"\n",
    "inpath3 = join(indir, filename3)\n",
    "peak_df3 = read_spectral_peaks(inpath3)\n",
    "num_peaks3 = len(peak_df3)\n",
    "print(f\"{num_peaks3} peaks are read.\")"
   ]
  },
  {
   "cell_type": "code",
   "execution_count": 5,
   "id": "2717b684-50e2-429c-8306-d1b095bd6955",
   "metadata": {},
   "outputs": [
    {
     "name": "stdout",
     "output_type": "stream",
     "text": [
      "9944211\n",
      "17564790\n",
      "24806523\n"
     ]
    }
   ],
   "source": [
    "cum_count_df = update_spectral_peak_group_counts(peak_df1)\n",
    "print(len(cum_count_df))\n",
    "cum_count_df = update_spectral_peak_group_counts(peak_df2, cum_count_df)\n",
    "print(len(cum_count_df))\n",
    "cum_count_df = update_spectral_peak_group_counts(peak_df3, cum_count_df)\n",
    "print(len(cum_count_df))"
   ]
  },
  {
   "cell_type": "code",
   "execution_count": 6,
   "id": "4c909988-45e5-4ae0-8539-79b68c772809",
   "metadata": {},
   "outputs": [
    {
     "data": {
      "text/plain": [
       "3"
      ]
     },
     "execution_count": 6,
     "metadata": {},
     "output_type": "execute_result"
    }
   ],
   "source": [
    "cum_count_df[\"count\"].max()"
   ]
  },
  {
   "cell_type": "code",
   "execution_count": null,
   "id": "1341b28c-bb33-4acd-bdc5-a4ce9acd0f30",
   "metadata": {},
   "outputs": [],
   "source": []
  }
 ],
 "metadata": {
  "kernelspec": {
   "display_name": "Python 3 (ipykernel)",
   "language": "python",
   "name": "python3"
  },
  "language_info": {
   "codemirror_mode": {
    "name": "ipython",
    "version": 3
   },
   "file_extension": ".py",
   "mimetype": "text/x-python",
   "name": "python",
   "nbconvert_exporter": "python",
   "pygments_lexer": "ipython3",
   "version": "3.11.8"
  }
 },
 "nbformat": 4,
 "nbformat_minor": 5
}
