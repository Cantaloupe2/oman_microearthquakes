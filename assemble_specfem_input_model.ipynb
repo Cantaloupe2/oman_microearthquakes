{
 "cells": [
  {
   "cell_type": "code",
   "execution_count": 104,
   "metadata": {},
   "outputs": [],
   "source": [
    "# Assemble the input files for SPECFEM3D\n",
    "\n",
    "from os.path import join, dirname\n",
    "import numpy as np\n",
    "from model_utils import vp2rho\n",
    "import pandas as pd\n"
   ]
  },
  {
   "cell_type": "code",
   "execution_count": 105,
   "metadata": {},
   "outputs": [],
   "source": [
    "\n",
    "inpath_para = \"/Volumes/OmanData/geophones_no_prefilt/data/specfem_model_para.dat\"\n",
    "inpath_p = \"/Volumes/OmanData/geophones_no_prefilt/data/shallow_vp_profile.dat\"\n",
    "inpath_s = \"/Volumes/OmanData/geophones_no_prefilt/data/shallow_vs_profile.dat\"\n",
    "\n",
    "q_kappa = 2444.4\n",
    "q_mu = 20.0\n",
    "\n",
    "numx = 104\n",
    "numy = 104"
   ]
  },
  {
   "cell_type": "code",
   "execution_count": 106,
   "metadata": {},
   "outputs": [],
   "source": [
    "# Read the SPECFEM parameter file\n",
    "paradf = pd.read_csv(inpath_para, sep=\" \")\n",
    "numel = paradf[\"number_elements\"].sum()"
   ]
  },
  {
   "cell_type": "code",
   "execution_count": 107,
   "metadata": {},
   "outputs": [],
   "source": [
    "## Read the input models\n",
    "depax_p, pvels_in = np.loadtxt(inpath_p, unpack=True)\n",
    "depax_s, svels_in = np.loadtxt(inpath_s, unpack=True)"
   ]
  },
  {
   "cell_type": "code",
   "execution_count": 108,
   "metadata": {},
   "outputs": [],
   "source": [
    "## Interpolate the models to the desired depth axis\n",
    "depth_top = 0.0\n",
    "list_ma = []\n",
    "for lyrind, row in paradf.iterrows():\n",
    "    numel_lyr = int(row[\"number_elements\"])\n",
    "    depth_bot = row[\"depth\"]\n",
    "\n",
    "    ddep = (depth_bot - depth_top) / numel_lyr\n",
    "    depax = np.linspace(depth_top, depth_bot, numel_lyr)\n",
    "\n",
    "    pvels = np.interp(depax, depax_p, pvels_in)\n",
    "    svels = np.interp(depax, depax_s, svels_in)\n",
    "    rhos = vp2rho(pvels / 1000.0)*1000.0\n",
    "    q_kappas = np.ones(numel_lyr) * q_kappa\n",
    "    q_mus = np.ones(numel_lyr) * q_mu\n",
    "    aniflags = np.zeros(numel_lyr)\n",
    "    domainflags = 2*np.ones(numel_lyr)\n",
    "\n",
    "    output_ma = np.column_stack((rhos, pvels, svels, q_kappas, q_mus, aniflags, domainflags))\n",
    "    list_ma.append(output_ma)\n",
    "\n",
    "    depth_top = depth_bot\n",
    "\n",
    "output_ma = np.vstack(list_ma)\n",
    "numma = output_ma.shape[0]\n",
    "mainds = np.arange(1, numma+1)\n",
    "output_ma = np.column_stack((mainds, output_ma))\n",
    "\n",
    "elinds = np.arange(1, numel+1)\n",
    "elinds = elinds[::-1]\n",
    "\n",
    "mainds = np.arange(1, numel+1)\n"
   ]
  },
  {
   "cell_type": "code",
   "execution_count": 109,
   "metadata": {},
   "outputs": [],
   "source": [
    "## Save to file\n",
    "outdir = dirname(inpath_p)\n",
    "\n",
    "outpath = join(outdir, \"specfem_input_model.dat\")\n",
    "output_mod = np.stack([np.ones(numma), np.ones(numma)*numx, np.ones(numma), np.ones(numma)*numy, elinds, elinds, mainds], axis=1)\n",
    "np.savetxt(outpath, output_mod, fmt=\"%d %d %d %d %d %d %d\")\n",
    "\n",
    "outpath = join(outdir, \"specfem_input_materials.dat\")\n",
    "np.savetxt(outpath, output_ma, fmt=\"%d %.1f %.1f %.1f %.1f %.1f %d %d\")\n"
   ]
  }
 ],
 "metadata": {
  "kernelspec": {
   "display_name": "obspy",
   "language": "python",
   "name": "python3"
  },
  "language_info": {
   "codemirror_mode": {
    "name": "ipython",
    "version": 3
   },
   "file_extension": ".py",
   "mimetype": "text/x-python",
   "name": "python",
   "nbconvert_exporter": "python",
   "pygments_lexer": "ipython3",
   "version": "3.11.6"
  }
 },
 "nbformat": 4,
 "nbformat_minor": 2
}
