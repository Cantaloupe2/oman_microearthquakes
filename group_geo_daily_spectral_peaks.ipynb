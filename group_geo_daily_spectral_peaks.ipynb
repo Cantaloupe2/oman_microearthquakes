{
 "cells": [
  {
   "cell_type": "markdown",
   "id": "3cccc661-83a6-490a-af86-9c5fe21c987d",
   "metadata": {},
   "source": [
    "# Group spectral-peak detections on all geophone stations by time and frequency"
   ]
  },
  {
   "cell_type": "code",
   "execution_count": null,
   "id": "75d07635-4800-424b-9857-c5eb6d86a20b",
   "metadata": {},
   "outputs": [],
   "source": [
    "# Imports\n",
    "from os.path import join\n",
    "\n",
    "from utils_basic import SPECTROGRAM_DIR as indir, GEO_STATIONS as stations\n",
    "from utils_spec import assemble_spec_filename, read_geo_spectrograms, find_geo_station_spectral_peaks\n",
    "from utils_plot import plot_geo_total_psd_and_peaks, save_figure"
   ]
  },
  {
   "cell_type": "code",
   "execution_count": null,
   "id": "5bd15be1-74ea-4eaf-b142-07bb137d4f70",
   "metadata": {},
   "outputs": [],
   "source": [
    "# Inputs\n",
    "# Data\n",
    "days = [\"20200113\"]\n",
    "window_length = 60.0\n",
    "overlap = 0.0\n",
    "downsample = True\n",
    "downsample_factor = 60\n",
    "\n",
    "# Finding peaks\n",
    "rbw_threshold = 0.2\n",
    "prom_threshold = 5\n",
    "freqmin = None\n",
    "freqmax = None\n",
    "\n",
    "# Directory\n",
    "indir = join(indir, \"daily\")"
   ]
  },
  {
   "cell_type": "code",
   "execution_count": null,
   "id": "6e9ff9a4",
   "metadata": {},
   "outputs": [],
   "source": [
    "# Read the CSV files containing the spectral peaks\n",
    "for day in days:\n",
    "    for station in stations:\n",
    "        # Read the spectrograms\n",
    "        filename = f\"daily_geo_spectral_peaks_{day}_{station}_window{window_length:.0f}_overlap{overlap:.1f}_prom{prom_threshold:.0f}_rbw{rbw_threshold:.1f}.csv\"\n",
    "        inpath = join(indir, filename)\n",
    "        peak_df = \n",
    "        \n",
    "        # Find the spectral peaks\n",
    "        peaks = find_geo_station_spectral_peaks(spec, freq, time, rbw_threshold, prom_threshold, freqmin, freqmax)\n",
    "        # Plot the total PSD and the spectral peaks\n",
    "        plot_geo_total_psd_and_peaks(spec, freq, time, peaks, day, station)\n",
    "        # Save the figure\n",
    "        save_figure(\"geo_spectral_peaks\", assemble_spec_filename(day, station))"
   ]
  }
 ],
 "metadata": {
  "kernelspec": {
   "display_name": "Python 3 (ipykernel)",
   "language": "python",
   "name": "python3"
  },
  "language_info": {
   "codemirror_mode": {
    "name": "ipython",
    "version": 3
   },
   "file_extension": ".py",
   "mimetype": "text/x-python",
   "name": "python",
   "nbconvert_exporter": "python",
   "pygments_lexer": "ipython3",
   "version": "3.11.8"
  }
 },
 "nbformat": 4,
 "nbformat_minor": 5
}
