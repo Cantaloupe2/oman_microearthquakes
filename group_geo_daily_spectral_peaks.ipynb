{
 "cells": [
  {
   "cell_type": "markdown",
   "id": "3cccc661-83a6-490a-af86-9c5fe21c987d",
   "metadata": {},
   "source": [
    "# Group spectral-peak detections on all geophone stations by time and frequency"
   ]
  },
  {
   "cell_type": "code",
   "execution_count": null,
   "id": "75d07635-4800-424b-9857-c5eb6d86a20b",
   "metadata": {},
   "outputs": [],
   "source": [
    "# Imports\n",
    "from os.path import join\n",
    "from numpy import linspace\n",
    "from pandas import read_csv, Grouper, cut\n",
    "\n",
    "from utils_basic import SPECTROGRAM_DIR as indir, GEO_STATIONS as stations\n",
    "from utils_spec import assemble_spec_filename, read_geo_spectrograms, find_geo_station_spectral_peaks\n",
    "from utils_plot import plot_geo_total_psd_and_peaks, save_figure"
   ]
  },
  {
   "cell_type": "code",
   "execution_count": null,
   "id": "5bd15be1-74ea-4eaf-b142-07bb137d4f70",
   "metadata": {},
   "outputs": [],
   "source": [
    "# Inputs\n",
    "# Data\n",
    "days = [\"20200113\"]\n",
    "window_length = 60.0\n",
    "overlap = 0.0\n",
    "downsample = True\n",
    "downsample_factor = 60\n",
    "\n",
    "# Grouping\n",
    "time_bin_width = 1.0 # in minutes\n",
    "freq_bin_width = 1.0 # in Hz\n",
    "minfreq = 0.0\n",
    "maxfreq = 500.0\n",
    "\n",
    "# Directory\n",
    "indir = join(indir, \"daily\")\n",
    "\n",
    "# Plotting\n",
    "day_to_plot = \"20200113\""
   ]
  },
  {
   "cell_type": "code",
   "execution_count": null,
   "id": "6e9ff9a4",
   "metadata": {},
   "outputs": [],
   "source": [
    "# Read the CSV files containing the spectral peaks\n",
    "for day in days:\n",
    "    print(f\"Processing day {day}\")\n",
    "\n",
    "    # Read the spectrograms\n",
    "    filename = f\"daily_geo_spectral_peaks_{day}_window{window_length:.0f}_overlap{overlap:.1f}_prom{prom_threshold:.0f}_rbw{rbw_threshold:.1f}.csv\"\n",
    "    inpath = join(indir, filename)\n",
    "    peak_df = read_csv(inpath)\n",
    "    \n",
    "    # Group the detections by time and frequency\n",
    "    peak_df[\"time_bin\"] = Grouper(key=\"time\", freq=f\"{time_bin_width:.0f}T\")\n",
    "    \n",
    "    num_freq_bins = int((maxfreq - minfreq) / freq_bin_width)\n",
    "    freq_bin_edges = linspace(minfreq, maxfreq, num_freq_bins + 1)\n",
    "    peak_df[\"freq_bin\"] = cut(peak_df[\"frequency\"], freq_bin_edges, include_lowest=True, right=False)\n",
    "\n",
    "    grouped = peak_df.groupby(['time_bin', 'freq_bin']).size().unstack(fill_value=0)\n",
    "    print(grouped)\n",
    "\n",
    "    "
   ]
  }
 ],
 "metadata": {
  "kernelspec": {
   "display_name": "Python 3 (ipykernel)",
   "language": "python",
   "name": "python3"
  },
  "language_info": {
   "codemirror_mode": {
    "name": "ipython",
    "version": 3
   },
   "file_extension": ".py",
   "mimetype": "text/x-python",
   "name": "python",
   "nbconvert_exporter": "python",
   "pygments_lexer": "ipython3",
   "version": "3.11.8"
  }
 },
 "nbformat": 4,
 "nbformat_minor": 5
}
