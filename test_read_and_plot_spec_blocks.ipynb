{
 "cells": [
  {
   "cell_type": "markdown",
   "id": "d6c08bf8-3051-4775-864d-30708f21a5d5",
   "metadata": {},
   "source": [
    "# Test reading spectrogram blocks and plot them"
   ]
  },
  {
   "cell_type": "code",
   "execution_count": 1,
   "id": "e4a76235-aa82-4089-9e50-8eeb9b02ef22",
   "metadata": {},
   "outputs": [],
   "source": [
    "from os.path import join\n",
    "\n",
    "from utils_basic import SPECTROGRAM_DIR as indir\n",
    "from utils_spec import assemble_spec_filename, read_geo_spectrograms\n",
    "from utils_plot import plot_long_term_geo_stft_spectrograms"
   ]
  },
  {
   "cell_type": "code",
   "execution_count": 2,
   "id": "658191d0-6c1d-4b84-8b34-2ba5cc208fae",
   "metadata": {},
   "outputs": [],
   "source": [
    "# Inputs\n",
    "station = \"A01\"\n",
    "time_labels_to_read = [\"20200113000000000000\"]\n",
    "window_length = 60.0 # IN SECONDS\n",
    "overlap = 0.0\n",
    "downsample = True\n",
    "downsample_factor = 60 # Downsample factor for the frequency axis"
   ]
  },
  {
   "cell_type": "code",
   "execution_count": 3,
   "id": "56c98ed4-c5d4-40fd-8a3e-9f96208e1280",
   "metadata": {},
   "outputs": [
    {
     "ename": "KeyError",
     "evalue": "\"Unable to synchronously open object (object 'time_labels' doesn't exist)\"",
     "output_type": "error",
     "traceback": [
      "\u001b[0;31m---------------------------------------------------------------------------\u001b[0m",
      "\u001b[0;31mKeyError\u001b[0m                                  Traceback (most recent call last)",
      "Cell \u001b[0;32mIn[3], line 5\u001b[0m\n\u001b[1;32m      2\u001b[0m filename \u001b[38;5;241m=\u001b[39m assemble_spec_filename(\u001b[38;5;124m\"\u001b[39m\u001b[38;5;124mwhole_deployment\u001b[39m\u001b[38;5;124m\"\u001b[39m, \u001b[38;5;124m\"\u001b[39m\u001b[38;5;124mdaily\u001b[39m\u001b[38;5;124m\"\u001b[39m, \u001b[38;5;124m\"\u001b[39m\u001b[38;5;124mgeo\u001b[39m\u001b[38;5;124m\"\u001b[39m, \u001b[38;5;28;01mNone\u001b[39;00m, station, window_length, overlap, downsample, downsample_factor \u001b[38;5;241m=\u001b[39m downsample_factor)\n\u001b[1;32m      3\u001b[0m inpath \u001b[38;5;241m=\u001b[39m join(indir, filename)\n\u001b[0;32m----> 5\u001b[0m stream_spec \u001b[38;5;241m=\u001b[39m \u001b[43mread_geo_spectrograms\u001b[49m\u001b[43m(\u001b[49m\u001b[43minpath\u001b[49m\u001b[43m,\u001b[49m\u001b[43m \u001b[49m\u001b[43mtime_labels_to_read\u001b[49m\u001b[43m)\u001b[49m\n",
      "File \u001b[0;32m~/oman_microearthquakes/utils_spec.py:639\u001b[0m, in \u001b[0;36mread_geo_spectrograms\u001b[0;34m(inpath, time_labels_to_read)\u001b[0m\n\u001b[1;32m    636\u001b[0m station \u001b[38;5;241m=\u001b[39m header_group[\u001b[38;5;124m\"\u001b[39m\u001b[38;5;124mstation\u001b[39m\u001b[38;5;124m\"\u001b[39m][()]\n\u001b[1;32m    637\u001b[0m station \u001b[38;5;241m=\u001b[39m station\u001b[38;5;241m.\u001b[39mdecode(\u001b[38;5;124m\"\u001b[39m\u001b[38;5;124mutf-8\u001b[39m\u001b[38;5;124m\"\u001b[39m)\n\u001b[0;32m--> 639\u001b[0m time_labels \u001b[38;5;241m=\u001b[39m \u001b[43mheader_group\u001b[49m\u001b[43m[\u001b[49m\u001b[38;5;124;43m\"\u001b[39;49m\u001b[38;5;124;43mtime_labels\u001b[39;49m\u001b[38;5;124;43m\"\u001b[39;49m\u001b[43m]\u001b[49m[:]\n\u001b[1;32m    640\u001b[0m time_labels \u001b[38;5;241m=\u001b[39m [time_label\u001b[38;5;241m.\u001b[39mdecode(\u001b[38;5;124m\"\u001b[39m\u001b[38;5;124mutf-8\u001b[39m\u001b[38;5;124m\"\u001b[39m) \u001b[38;5;28;01mfor\u001b[39;00m time_label \u001b[38;5;129;01min\u001b[39;00m time_labels]\n\u001b[1;32m    642\u001b[0m freq_interval \u001b[38;5;241m=\u001b[39m header_group[\u001b[38;5;124m\"\u001b[39m\u001b[38;5;124mfrequency_interval\u001b[39m\u001b[38;5;124m\"\u001b[39m][()]\n",
      "File \u001b[0;32mh5py/_objects.pyx:54\u001b[0m, in \u001b[0;36mh5py._objects.with_phil.wrapper\u001b[0;34m()\u001b[0m\n",
      "File \u001b[0;32mh5py/_objects.pyx:55\u001b[0m, in \u001b[0;36mh5py._objects.with_phil.wrapper\u001b[0;34m()\u001b[0m\n",
      "File \u001b[0;32m~/.conda/envs/test/lib/python3.11/site-packages/h5py/_hl/group.py:357\u001b[0m, in \u001b[0;36mGroup.__getitem__\u001b[0;34m(self, name)\u001b[0m\n\u001b[1;32m    355\u001b[0m         \u001b[38;5;28;01mraise\u001b[39;00m \u001b[38;5;167;01mValueError\u001b[39;00m(\u001b[38;5;124m\"\u001b[39m\u001b[38;5;124mInvalid HDF5 object reference\u001b[39m\u001b[38;5;124m\"\u001b[39m)\n\u001b[1;32m    356\u001b[0m \u001b[38;5;28;01melif\u001b[39;00m \u001b[38;5;28misinstance\u001b[39m(name, (\u001b[38;5;28mbytes\u001b[39m, \u001b[38;5;28mstr\u001b[39m)):\n\u001b[0;32m--> 357\u001b[0m     oid \u001b[38;5;241m=\u001b[39m \u001b[43mh5o\u001b[49m\u001b[38;5;241;43m.\u001b[39;49m\u001b[43mopen\u001b[49m\u001b[43m(\u001b[49m\u001b[38;5;28;43mself\u001b[39;49m\u001b[38;5;241;43m.\u001b[39;49m\u001b[43mid\u001b[49m\u001b[43m,\u001b[49m\u001b[43m \u001b[49m\u001b[38;5;28;43mself\u001b[39;49m\u001b[38;5;241;43m.\u001b[39;49m\u001b[43m_e\u001b[49m\u001b[43m(\u001b[49m\u001b[43mname\u001b[49m\u001b[43m)\u001b[49m\u001b[43m,\u001b[49m\u001b[43m \u001b[49m\u001b[43mlapl\u001b[49m\u001b[38;5;241;43m=\u001b[39;49m\u001b[38;5;28;43mself\u001b[39;49m\u001b[38;5;241;43m.\u001b[39;49m\u001b[43m_lapl\u001b[49m\u001b[43m)\u001b[49m\n\u001b[1;32m    358\u001b[0m \u001b[38;5;28;01melse\u001b[39;00m:\n\u001b[1;32m    359\u001b[0m     \u001b[38;5;28;01mraise\u001b[39;00m \u001b[38;5;167;01mTypeError\u001b[39;00m(\u001b[38;5;124m\"\u001b[39m\u001b[38;5;124mAccessing a group is done with bytes or str, \u001b[39m\u001b[38;5;124m\"\u001b[39m\n\u001b[1;32m    360\u001b[0m                     \u001b[38;5;124m\"\u001b[39m\u001b[38;5;124mnot \u001b[39m\u001b[38;5;132;01m{}\u001b[39;00m\u001b[38;5;124m\"\u001b[39m\u001b[38;5;241m.\u001b[39mformat(\u001b[38;5;28mtype\u001b[39m(name)))\n",
      "File \u001b[0;32mh5py/_objects.pyx:54\u001b[0m, in \u001b[0;36mh5py._objects.with_phil.wrapper\u001b[0;34m()\u001b[0m\n",
      "File \u001b[0;32mh5py/_objects.pyx:55\u001b[0m, in \u001b[0;36mh5py._objects.with_phil.wrapper\u001b[0;34m()\u001b[0m\n",
      "File \u001b[0;32mh5py/h5o.pyx:241\u001b[0m, in \u001b[0;36mh5py.h5o.open\u001b[0;34m()\u001b[0m\n",
      "\u001b[0;31mKeyError\u001b[0m: \"Unable to synchronously open object (object 'time_labels' doesn't exist)\""
     ]
    }
   ],
   "source": [
    "# Read the spectrograms\n",
    "filename = assemble_spec_filename(\"whole_deployment\", \"daily\", \"geo\", None, station, window_length, overlap, downsample, downsample_factor = downsample_factor)\n",
    "inpath = join(indir, filename)\n",
    "\n",
    "stream_spec = read_geo_spectrograms(inpath, time_labels_to_read)"
   ]
  },
  {
   "cell_type": "code",
   "execution_count": null,
   "id": "55a311c2-6734-480a-9d1b-0a6c89bae2a4",
   "metadata": {},
   "outputs": [],
   "source": [
    "# Plot the spectrograms\n",
    "fig, axes, cbar = plot_long_term_geo_stft_spectrograms(stream_spec)"
   ]
  },
  {
   "cell_type": "code",
   "execution_count": 8,
   "id": "e492b654-8646-4498-9764-c0c9e91064ed",
   "metadata": {},
   "outputs": [
    {
     "name": "stdout",
     "output_type": "stream",
     "text": [
      "<KeysViewHDF5 ['20200110000000000000', '20200111000000000000', '20200112000000000000', '20200113000000000000', '20200114000000000000', '20200115000000000000', '20200116000000000000', '20200117000000000000', '20200118000000000000', '20200119000000000000', '20200120000000000000', '20200121000000000000', '20200122000000000000', '20200123000000000000', '20200124000000000000', '20200125000000000000', '20200126000000000000', '20200127000000000000', '20200128000000000000', '20200129000000000000', '20200130000000000000', '20200131000000000000', '20200201000000000000']>\n"
     ]
    }
   ],
   "source": [
    "from h5py import File\n",
    "\n",
    "with File(inpath) as file:\n",
    "    print(file[\"data\"].keys())"
   ]
  },
  {
   "cell_type": "code",
   "execution_count": 9,
   "id": "c2ad4764-7730-411e-8eed-c359ee6fa6e9",
   "metadata": {},
   "outputs": [
    {
     "data": {
      "text/plain": [
       "'whole_deployment_daily_geo_spectrograms_A01_window60s_overlap0.0_downsample60.h5'"
      ]
     },
     "execution_count": 9,
     "metadata": {},
     "output_type": "execute_result"
    }
   ],
   "source": [
    "filename"
   ]
  },
  {
   "cell_type": "code",
   "execution_count": null,
   "id": "d2c4d867-6130-428f-bf03-3c3a1ea4261e",
   "metadata": {},
   "outputs": [],
   "source": []
  }
 ],
 "metadata": {
  "kernelspec": {
   "display_name": "Python 3 (ipykernel)",
   "language": "python",
   "name": "python3"
  },
  "language_info": {
   "codemirror_mode": {
    "name": "ipython",
    "version": 3
   },
   "file_extension": ".py",
   "mimetype": "text/x-python",
   "name": "python",
   "nbconvert_exporter": "python",
   "pygments_lexer": "ipython3",
   "version": "3.11.8"
  }
 },
 "nbformat": 4,
 "nbformat_minor": 5
}
