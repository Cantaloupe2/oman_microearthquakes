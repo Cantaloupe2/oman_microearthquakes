{
 "cells": [
  {
   "cell_type": "markdown",
   "metadata": {},
   "source": [
    "# Test stitching daily spectrograms of each channel of station and plot them"
   ]
  },
  {
   "cell_type": "code",
   "execution_count": null,
   "metadata": {},
   "outputs": [],
   "source": [
    "# Imports\n",
    "from os.path import join\n",
    "\n",
    "from utils_basic import SPECTROGRAM_DIR as indir\n",
    "from utils_spec import assemble_spec_filename, read_geo_spectrograms\n",
    "from utils_plot import plot_long_term_geo_stft_spectrograms"
   ]
  },
  {
   "cell_type": "code",
   "execution_count": null,
   "metadata": {},
   "outputs": [],
   "source": [
    "# Inputs\n",
    "station = \"A01\"\n",
    "window_length = 60.0 # IN SECONDS\n",
    "overlap = 0.0\n",
    "downsample = True\n",
    "downsample_factor = 60 # Downsample factor for the frequency axis"
   ]
  },
  {
   "cell_type": "code",
   "execution_count": null,
   "metadata": {},
   "outputs": [],
   "source": [
    "# Read the spectrograms\n",
    "filename = assemble_spec_filename(\"whole_deployment\", \"daily\", \"geo\", None, station, window_length, overlap, downsample, downsample_factor = downsample_factor)\n",
    "inpath = join(indir, filename)\n",
    "\n",
    "stream_spec = read_geo_spectrograms(inpath)"
   ]
  },
  {
   "cell_type": "code",
   "execution_count": null,
   "metadata": {},
   "outputs": [],
   "source": [
    "# Stitch the spectrograms together\n",
    "stream_spec.stitch()"
   ]
  },
  {
   "cell_type": "code",
   "execution_count": null,
   "metadata": {},
   "outputs": [],
   "source": [
    "# Plot the spectrograms\n",
    "fig, axes, cbar = plot_long_term_geo_stft_spectrograms(stream_spec)"
   ]
  }
 ],
 "metadata": {
  "language_info": {
   "name": "python"
  }
 },
 "nbformat": 4,
 "nbformat_minor": 2
}
