{
 "cells": [
  {
   "cell_type": "markdown",
   "metadata": {},
   "source": [
    "# Compute daily geophone spectrograms using STFT"
   ]
  },
  {
   "cell_type": "code",
   "execution_count": 1,
   "metadata": {},
   "outputs": [],
   "source": [
    "# Imports\n",
    "from os import makedirs\n",
    "from os.path import join\n",
    "from time import time\n",
    "\n",
    "from utils_basic import SPECTROGRAM_DIR as outdir\n",
    "from utils_basic import day2suffix, get_geo_metadata\n",
    "from utils_preproc import read_and_process_day_long_geo_waveforms\n",
    "from utils_spec import save_geo_spectrograms\n",
    "from utils_torch import get_daily_geo_spectrograms"
   ]
  },
  {
   "cell_type": "code",
   "execution_count": 2,
   "metadata": {},
   "outputs": [],
   "source": [
    "# Inputs\n",
    "station = \"A01\"\n",
    "day = \"2020-01-13\"\n",
    "\n",
    "window_length = 60.0 # IN SECONDS\n",
    "overlap = 0.0\n",
    "downsample = True\n",
    "downsample_factor = 60 # Downsample factor for the frequency axis\n",
    "\n",
    "outdir = join(outdir, \"daily\")"
   ]
  },
  {
   "cell_type": "code",
   "execution_count": 3,
   "metadata": {},
   "outputs": [],
   "source": [
    "# Create the output directory\n",
    "makedirs(outdir, exist_ok=True)"
   ]
  },
  {
   "cell_type": "code",
   "execution_count": 4,
   "metadata": {},
   "outputs": [],
   "source": [
    "# Load the station metadata\n",
    "metadata = get_geo_metadata()"
   ]
  },
  {
   "cell_type": "code",
   "execution_count": 5,
   "metadata": {},
   "outputs": [],
   "source": [
    "# Begin the clock\n",
    "clock1 = time()"
   ]
  },
  {
   "cell_type": "code",
   "execution_count": 6,
   "metadata": {},
   "outputs": [
    {
     "name": "stdout",
     "output_type": "stream",
     "text": [
      "Reading the waveforms for 2020-01-13\n",
      "Preprocessing the waveforms...\n"
     ]
    }
   ],
   "source": [
    "# Read and preprocess the data\n",
    "stream_day = read_and_process_day_long_geo_waveforms(day, metadata, stations = station)"
   ]
  },
  {
   "cell_type": "code",
   "execution_count": 7,
   "metadata": {},
   "outputs": [
    {
     "name": "stdout",
     "output_type": "stream",
     "text": [
      "Computing the spectrograms...\n",
      "Padding the spectrograms...\n",
      "Downsampling the spectrograms...\n"
     ]
    }
   ],
   "source": [
    "# Compute the spectrogram\n",
    "stream_spec, stream_spec_ds = get_daily_geo_spectrograms(stream_day, window_length = window_length, overlap = overlap, downsample = downsample, downsample_factor = downsample_factor)\n"
   ]
  },
  {
   "cell_type": "code",
   "execution_count": 8,
   "metadata": {},
   "outputs": [
    {
     "name": "stdout",
     "output_type": "stream",
     "text": [
      "Spectrograms saved to /fp/projects01/ec332/data/spectrograms/daily/daily_geo_spectrograms_20200113_A01_window60s_overlap0.0.h5\n",
      "Spectrograms saved to /fp/projects01/ec332/data/spectrograms/daily/daily_geo_spectrograms_20200113_A01_window60s_overlap0.0_downsample60.h5\n"
     ]
    }
   ],
   "source": [
    "# Save the spectrogram\n",
    "day = day2suffix(day)\n",
    "\n",
    "filename = f\"daily_geo_spectrograms_{day}_{station}_window{window_length:.0f}s_overlap{overlap:.1f}.h5\"\n",
    "save_geo_spectrograms(stream_spec, filename, outdir = outdir)\n",
    "\n",
    "filename = f\"daily_geo_spectrograms_{day}_{station}_window{window_length:.0f}s_overlap{overlap:.1f}_downsample{downsample_factor:d}.h5\"\n",
    "save_geo_spectrograms(stream_spec_ds, filename, outdir = outdir)"
   ]
  },
  {
   "cell_type": "code",
   "execution_count": 9,
   "metadata": {},
   "outputs": [
    {
     "name": "stdout",
     "output_type": "stream",
     "text": [
      "Elapsed time: 7.612618684768677 s\n"
     ]
    }
   ],
   "source": [
    "# Stop the clock\n",
    "clock2 = time()\n",
    "elapse = clock2 - clock1\n",
    "\n",
    "print(f\"Elapsed time: {elapse} s\")"
   ]
  }
 ],
 "metadata": {
  "kernelspec": {
   "display_name": "Python 3 (ipykernel)",
   "language": "python",
   "name": "python3"
  },
  "language_info": {
   "codemirror_mode": {
    "name": "ipython",
    "version": 3
   },
   "file_extension": ".py",
   "mimetype": "text/x-python",
   "name": "python",
   "nbconvert_exporter": "python",
   "pygments_lexer": "ipython3",
   "version": "3.11.8"
  }
 },
 "nbformat": 4,
 "nbformat_minor": 4
}
