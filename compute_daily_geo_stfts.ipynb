{
 "cells": [
  {
   "cell_type": "markdown",
   "metadata": {},
   "source": [
    "# Compute daily geophone spectrograms using STFT"
   ]
  },
  {
   "cell_type": "code",
   "execution_count": 2,
   "metadata": {},
   "outputs": [],
   "source": [
    "# Imports\n",
    "from os import makedirs\n",
    "from os.path import join\n",
    "\n",
    "from utils_basic import SPECTROGRAM_DIR as outdir\n",
    "from utils_basic import day2suffix, get_geo_metadata\n",
    "from utils_preproc import read_and_process_day_long_geo_waveforms\n",
    "from utils_spec import save_geo_spectrograms\n",
    "from utils_torch import get_daily_geo_spectrograms"
   ]
  },
  {
   "cell_type": "code",
   "execution_count": 3,
   "metadata": {},
   "outputs": [],
   "source": [
    "# Inputs\n",
    "station = \"A01\"\n",
    "day = \"2020-01-13\"\n",
    "\n",
    "window_length = 60.0 # IN SECONDS\n",
    "overlap = 0.0\n",
    "downsample_factor = 60 # Downsample factor for the frequency axis\n",
    "\n",
    "outdir = join(outdir, \"daily\")"
   ]
  },
  {
   "cell_type": "code",
   "execution_count": null,
   "metadata": {},
   "outputs": [],
   "source": [
    "# Create the output directory\n",
    "makedirs(outdir, exist_ok=True)"
   ]
  },
  {
   "cell_type": "code",
   "execution_count": null,
   "metadata": {},
   "outputs": [],
   "source": [
    "# Load the station metadata\n",
    "metadata = get_geo_metadata(station)"
   ]
  },
  {
   "cell_type": "code",
   "execution_count": null,
   "metadata": {},
   "outputs": [],
   "source": [
    "# Read and preprocess the data\n",
    "stream_day = read_and_process_day_long_geo_waveforms(day, metadata, stations = station)"
   ]
  },
  {
   "cell_type": "code",
   "execution_count": 4,
   "metadata": {},
   "outputs": [
    {
     "name": "stdout",
     "output_type": "stream",
     "text": [
      "######\n",
      "Computing spectrograms for B04 on 2020-01-13...\n",
      "######\n",
      "Reading the waveforms...\n",
      "Computing the spectrograms...\n",
      "Downsampling the spectrograms...\n",
      "Done processing day 2020-01-13.\n"
     ]
    }
   ],
   "source": [
    "# Compute the spectrogram\n",
    "stream_spec, stream_spec_ds = get_daily_geo_spectrograms(stream_day, day, window_length = window_length, overlap = overlap, downsample_factor = downsample_factor)\n"
   ]
  },
  {
   "cell_type": "code",
   "execution_count": null,
   "metadata": {},
   "outputs": [],
   "source": [
    "# Save the spectrogram\n",
    "day = day2suffix(day)\n",
    "\n",
    "filename = f\"daily_geo_spectrograms_{day}_{station}_window{window_length:.0f}s_overlap{overlap:.1f}.h5\"\n",
    "save_geo_spectrograms(stream_spec, filename, ourdir = outdir)\n",
    "\n",
    "filename = f\"daily_geo_spectrograms_{day}_{station}_window{window_length:.0f}s_overlap{overlap:.1f}_downsample{downsample_factor:d}.h5\"\n",
    "save_geo_spectrograms(stream_spec_ds, filename, ourdir = outdir)"
   ]
  }
 ],
 "metadata": {
  "kernelspec": {
   "display_name": "obspy",
   "language": "python",
   "name": "python3"
  },
  "language_info": {
   "codemirror_mode": {
    "name": "ipython",
    "version": 3
   },
   "file_extension": ".py",
   "mimetype": "text/x-python",
   "name": "python",
   "nbconvert_exporter": "python",
   "pygments_lexer": "ipython3",
   "version": "3.11.6"
  }
 },
 "nbformat": 4,
 "nbformat_minor": 2
}
