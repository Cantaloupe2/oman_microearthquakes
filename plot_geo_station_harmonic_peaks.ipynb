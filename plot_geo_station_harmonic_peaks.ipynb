{
 "cells": [
  {
   "cell_type": "markdown",
   "id": "d3df7a10-39a7-44c6-bb9e-3da687042b44",
   "metadata": {},
   "source": [
    "# Plot the stationary harmonic peaks found from the spectrograms of a geophone station"
   ]
  },
  {
   "cell_type": "code",
   "execution_count": null,
   "id": "c823d7b7-eb37-41cd-b952-62b0e8d3364f",
   "metadata": {},
   "outputs": [],
   "source": [
    "# Imports\n",
    "from os.path import join\n",
    "\n",
    "from utils_basic import SPECTROGRAM_DIR as indir\n",
    "from utils_spec import assemble_spec_filename, read_geo_spectrograms, find_geo_station_spectral_peaks\n",
    "from utils_plot import plot_geo_total_psd_and_peaks"
   ]
  },
  {
   "cell_type": "code",
   "execution_count": null,
   "id": "c94dcc12",
   "metadata": {},
   "outputs": [],
   "source": [
    "# Inputs\n",
    "# Data\n",
    "range_type = \"daily\"\n",
    "station = \"A01\"\n",
    "day = \"20200113\"\n",
    "window_length = 60.0\n",
    "overlap = 0.0\n",
    "downsample = False\n",
    "\n",
    "# Finding peaks\n",
    "power_threshold = 0.0\n",
    "qf_threshold = 200.0\n"
   ]
  },
  {
   "cell_type": "code",
   "execution_count": null,
   "id": "4eff99cc",
   "metadata": {},
   "outputs": [],
   "source": [
    "# Read the spectrograms\n",
    "filename = assemble_spec_filename(range_type, \"geo\", day, station, window_length, overlap, downsample)\n",
    "inpath = join(indir, filename)\n",
    "\n",
    "stream_spec = read_geo_spectrograms(inpath)"
   ]
  },
  {
   "cell_type": "code",
   "execution_count": null,
   "id": "c6137607",
   "metadata": {},
   "outputs": [],
   "source": [
    "# Find the spectral peaks\n",
    "peak_df, trace_spec_total = find_geo_station_spectral_peaks(stream_spec, power_threshold = power_threshold, qf_threshold = qf_threshold)"
   ]
  },
  {
   "cell_type": "code",
   "execution_count": null,
   "id": "c15a4a60",
   "metadata": {},
   "outputs": [],
   "source": [
    "# Plot the peaks alongside the total power spectrogram\n",
    "fig, axes, power_cbar, qf_cbar = plot_geo_total_psd_and_peaks(trace_spec_total, peak_df, station, day, window_length, overlap, downsample)"
   ]
  }
 ],
 "metadata": {
  "kernelspec": {
   "display_name": "Python 3 (ipykernel)",
   "language": "python",
   "name": "python3"
  },
  "language_info": {
   "codemirror_mode": {
    "name": "ipython",
    "version": 3
   },
   "file_extension": ".py",
   "mimetype": "text/x-python",
   "name": "python",
   "nbconvert_exporter": "python",
   "pygments_lexer": "ipython3",
   "version": "3.11.8"
  }
 },
 "nbformat": 4,
 "nbformat_minor": 5
}
