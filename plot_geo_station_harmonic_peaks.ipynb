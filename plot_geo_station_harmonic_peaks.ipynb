{
 "cells": [
  {
   "cell_type": "markdown",
   "id": "d3df7a10-39a7-44c6-bb9e-3da687042b44",
   "metadata": {},
   "source": [
    "# Plot the stationary harmonic peaks found from the spectrograms of a geophone station"
   ]
  },
  {
   "cell_type": "code",
   "execution_count": null,
   "id": "c823d7b7-eb37-41cd-b952-62b0e8d3364f",
   "metadata": {},
   "outputs": [],
   "source": [
    "# Imports\n",
    "from "
   ]
  }
 ],
 "metadata": {
  "kernelspec": {
   "display_name": "Python 3 (ipykernel)",
   "language": "python",
   "name": "python3"
  },
  "language_info": {
   "codemirror_mode": {
    "name": "ipython",
    "version": 3
   },
   "file_extension": ".py",
   "mimetype": "text/x-python",
   "name": "python",
   "nbconvert_exporter": "python",
   "pygments_lexer": "ipython3",
   "version": "3.11.8"
  }
 },
 "nbformat": 4,
 "nbformat_minor": 5
}
