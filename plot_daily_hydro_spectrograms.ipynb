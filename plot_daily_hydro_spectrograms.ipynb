{
 "cells": [
  {
   "cell_type": "markdown",
   "id": "31ab6a0c-5b69-4e15-8828-fefe35139ba3",
   "metadata": {},
   "source": [
    "# Plot the daily spectrograms of a geophone station"
   ]
  },
  {
   "cell_type": "code",
   "execution_count": 1,
   "id": "4a8a02dd-19cd-45c5-8d8a-9d9ce3c29d39",
   "metadata": {
    "execution": {
     "iopub.execute_input": "2024-05-30T15:10:50.966151Z",
     "iopub.status.busy": "2024-05-30T15:10:50.963670Z",
     "iopub.status.idle": "2024-05-30T15:11:08.833305Z",
     "shell.execute_reply": "2024-05-30T15:11:08.832765Z"
    }
   },
   "outputs": [],
   "source": [
    "from os.path import join\n",
    "from pandas import Timestamp\n",
    "\n",
    "from utils_basic import SPECTROGRAM_DIR as indir\n",
    "from utils_spec import get_spectrogram_file_suffix, read_hydro_spectrograms, string_to_time_label\n",
    "from utils_plot import plot_hydro_stft_spectrograms, save_figure"
   ]
  },
  {
   "cell_type": "code",
   "execution_count": 2,
   "id": "e051d090-f15a-4a14-8232-fd0ae8406403",
   "metadata": {
    "execution": {
     "iopub.execute_input": "2024-05-30T15:11:08.838338Z",
     "iopub.status.busy": "2024-05-30T15:11:08.836856Z",
     "iopub.status.idle": "2024-05-30T15:11:08.842999Z",
     "shell.execute_reply": "2024-05-30T15:11:08.842470Z"
    }
   },
   "outputs": [],
   "source": [
    "# Inputs\n",
    "\n",
    "# Data\n",
    "station = \"B00\"\n",
    "day = \"2020-01-13\"\n",
    "window_length = 60.0\n",
    "overlap = 0.0\n",
    "downsample = False\n",
    "downsample_factor = 60\n",
    "\n",
    "# Plotting\n",
    "dbmin = -90.0\n",
    "dbmax = -50.0\n",
    "\n",
    "min_freq = 0.0\n",
    "max_freq = 500.0\n",
    "\n",
    "major_time_spacing = \"6h\"\n",
    "minor_time_spacing = \"1h\"\n",
    "\n",
    "major_freq_spacing = 100.0\n",
    "minor_freq_spacing = 20.0\n",
    "\n",
    "# marker = True\n",
    "\n",
    "# starttime_marker = Timestamp(\"2020-01-13T20:00:00\")\n",
    "# endtime_marker = Timestamp(\"2020-01-13T21:00:00\")"
   ]
  },
  {
   "cell_type": "code",
   "execution_count": 3,
   "id": "6736c0e2-5c6c-4b68-a987-e6cc153df329",
   "metadata": {
    "execution": {
     "iopub.execute_input": "2024-05-30T15:11:08.847338Z",
     "iopub.status.busy": "2024-05-30T15:11:08.846276Z",
     "iopub.status.idle": "2024-05-30T15:11:08.853476Z",
     "shell.execute_reply": "2024-05-30T15:11:08.852929Z"
    }
   },
   "outputs": [
    {
     "name": "stdout",
     "output_type": "stream",
     "text": [
      "Reading the spectrogram of B00 on 2020-01-13...\n",
      "20200113000000000000\n"
     ]
    }
   ],
   "source": [
    "print(f\"Reading the spectrogram of {station} on {day}...\")\n",
    "suffix_spec = get_spectrogram_file_suffix(window_length, overlap, downsample, downsample_factor = downsample_factor)\n",
    "filename = f\"whole_deployment_daily_hydro_spectrograms_{station}_{suffix_spec}.h5\"\n",
    "inpath = join(indir, filename)\n",
    "\n",
    "time_label = string_to_time_label(day)\n",
    "print(time_label)\n",
    "# stream_spec = read_hydro_spectrograms(inpath, time_labels = time_label)"
   ]
  },
  {
   "cell_type": "code",
   "execution_count": 4,
   "id": "0b7b79e7-d565-406f-a409-0cc72ac4429f",
   "metadata": {
    "execution": {
     "iopub.execute_input": "2024-05-30T15:11:08.858005Z",
     "iopub.status.busy": "2024-05-30T15:11:08.856783Z",
     "iopub.status.idle": "2024-05-30T15:11:08.861131Z",
     "shell.execute_reply": "2024-05-30T15:11:08.860629Z"
    }
   },
   "outputs": [],
   "source": [
    "# print(\"Plotting the spectrograms...\")\n",
    "# fig, axes, cbar = plot_hydro_stft_spectrograms(stream_spec, \n",
    "#                                                dbmin = dbmin, dbmax = dbmax,\n",
    "#                                                min_freq = min_freq, max_freq = max_freq,\n",
    "#                                                date_format = \"%Y-%m-%dT%H:%M:%S\",\n",
    "#                                                major_time_spacing = major_time_spacing, minor_time_spacing = minor_time_spacing, \n",
    "#                                                major_freq_spacing = major_freq_spacing, minor_freq_spacing = minor_freq_spacing,\n",
    "#                                                time_tick_rotation = 5)\n",
    "\n",
    "# if marker:\n",
    "#     for ax in axes:\n",
    "#         ax.axvline(starttime_marker, color = \"turquoise\", linewidth = 2)\n",
    "#         ax.axvline(endtime_marker, color = \"turquoise\", linewidth = 2)"
   ]
  },
  {
   "cell_type": "code",
   "execution_count": 5,
   "id": "88790f11-e340-457e-99ef-84d1f972e480",
   "metadata": {
    "execution": {
     "iopub.execute_input": "2024-05-30T15:11:08.865448Z",
     "iopub.status.busy": "2024-05-30T15:11:08.864368Z",
     "iopub.status.idle": "2024-05-30T15:11:08.868265Z",
     "shell.execute_reply": "2024-05-30T15:11:08.867765Z"
    }
   },
   "outputs": [],
   "source": [
    "# figname = f\"daily_hydro_spectrograms_{day}_{station}_{suffix_spec}_{min_freq:.0f}to{max_freq:.0f}hz.png\"\n",
    "# save_figure(fig, figname)"
   ]
  }
 ],
 "metadata": {
  "kernelspec": {
   "display_name": "Python 3 (ipykernel)",
   "language": "python",
   "name": "python3"
  },
  "language_info": {
   "codemirror_mode": {
    "name": "ipython",
    "version": 3
   },
   "file_extension": ".py",
   "mimetype": "text/x-python",
   "name": "python",
   "nbconvert_exporter": "python",
   "pygments_lexer": "ipython3",
   "version": "3.11.8"
  }
 },
 "nbformat": 4,
 "nbformat_minor": 5
}
