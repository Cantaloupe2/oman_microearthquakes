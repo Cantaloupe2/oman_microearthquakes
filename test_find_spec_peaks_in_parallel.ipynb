{
 "cells": [
  {
   "cell_type": "markdown",
   "metadata": {},
   "source": [
    "# Test finding spectral peaks on spectrograms in parallel"
   ]
  },
  {
   "cell_type": "code",
   "execution_count": 1,
   "metadata": {},
   "outputs": [],
   "source": [
    "# Imports\n",
    "from os.path import join\n",
    "from pandas import concat\n",
    "from time import time\n",
    "from multiprocessing import Pool\n",
    "\n",
    "from utils_basic import SPECTROGRAM_DIR as indir, GEO_STATIONS as stations\n",
    "from utils_spec import assemble_spec_filename, find_trace_spectral_peaks, read_geo_spec_headers, read_geo_spectrograms, find_spectral_peak_indices\n"
   ]
  },
  {
   "cell_type": "code",
   "execution_count": 2,
   "metadata": {},
   "outputs": [],
   "source": [
    "# Inputs\n",
    "# Data\n",
    "station = \"A01\"\n",
    "window_length = 1.0\n",
    "overlap = 0.0\n",
    "downsample = False\n",
    "downsample_factor = 60\n",
    "\n",
    "# Finding peaks\n",
    "rbw_threshold = 0.2\n",
    "prom_threshold = 5\n",
    "freqmin = None\n",
    "freqmax = None"
   ]
  },
  {
   "cell_type": "code",
   "execution_count": 3,
   "metadata": {},
   "outputs": [
    {
     "name": "stdout",
     "output_type": "stream",
     "text": [
      "Reading the list of time labels...\n"
     ]
    }
   ],
   "source": [
    "print(\"Reading the list of time labels...\")\n",
    "if downsample:\n",
    "    filename_in = assemble_spec_filename(\"whole_deployment\", \"daily\", \"geo\", station, window_length, overlap, downsample, downsample_factor = downsample_factor)\n",
    "    inpath = join(indir, filename_in)\n",
    "else:\n",
    "    filename_in = assemble_spec_filename(\"whole_deployment\", \"daily\", \"geo\", station, window_length, overlap, downsample)\n",
    "    inpath = join(indir, filename_in)\n",
    "\n",
    "header_dict = read_geo_spec_headers(inpath)\n",
    "time_labels = header_dict[\"time_labels\"]"
   ]
  },
  {
   "cell_type": "code",
   "execution_count": 4,
   "metadata": {},
   "outputs": [
    {
     "name": "stdout",
     "output_type": "stream",
     "text": [
      "Finding the spectral-peak indices in 16 processes...\n"
     ]
    }
   ],
   "source": [
    "stream_spec = read_geo_spectrograms(inpath, time_labels = time_labels[0])\n",
    "trace_spec_total = stream_spec.get_total_power()\n",
    "data = trace_spec_total.data\n",
    "#find_spectral_peak_indices(data, 5)\n",
    "time_freq_inds = find_trace_spectral_peaks(trace_spec_total, 16)"
   ]
  },
  {
   "cell_type": "code",
   "execution_count": 6,
   "metadata": {},
   "outputs": [
    {
     "data": {
      "text/plain": [
       "2908291"
      ]
     },
     "execution_count": 6,
     "metadata": {},
     "output_type": "execute_result"
    }
   ],
   "source": [
    "len(time_freq_inds)"
   ]
  },
  {
   "cell_type": "code",
   "execution_count": null,
   "metadata": {},
   "outputs": [],
   "source": []
  }
 ],
 "metadata": {
  "kernelspec": {
   "display_name": "Python 3 (ipykernel)",
   "language": "python",
   "name": "python3"
  },
  "language_info": {
   "codemirror_mode": {
    "name": "ipython",
    "version": 3
   },
   "file_extension": ".py",
   "mimetype": "text/x-python",
   "name": "python",
   "nbconvert_exporter": "python",
   "pygments_lexer": "ipython3",
   "version": "3.11.8"
  }
 },
 "nbformat": 4,
 "nbformat_minor": 4
}
