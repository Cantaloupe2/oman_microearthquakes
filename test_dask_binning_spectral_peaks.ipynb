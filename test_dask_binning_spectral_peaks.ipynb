{
 "cells": [
  {
   "cell_type": "markdown",
   "id": "c9069425-3460-4897-b9db-10dbdc079c1e",
   "metadata": {},
   "source": [
    "# Test using Dask to speed up binning spectral peaks"
   ]
  },
  {
   "cell_type": "code",
   "execution_count": 1,
   "id": "eace7b3c-2575-42d7-8476-90d782697516",
   "metadata": {},
   "outputs": [],
   "source": [
    "from os.path import join\n",
    "from numpy import linspace\n",
    "from pandas import read_csv, cut, date_range, Timestamp, Timedelta\n",
    "# import pandas as pd\n",
    "from dask.dataframe import from_pandas\n",
    "from time import time\n",
    "\n",
    "\n",
    "from utils_basic import SPECTROGRAM_DIR as indir, GEO_STATIONS as stations\n",
    "from utils_spec import assemble_spec_filename, group_spectral_peaks_regular_bins, read_geo_spectrograms, find_geo_station_spectral_peaks, read_spectral_peaks, save_spectral_peak_bin_counts, bin_counts_to_df\n",
    "from utils_plot import plot_array_spec_peak_bin_counts, save_figure"
   ]
  },
  {
   "cell_type": "code",
   "execution_count": 2,
   "id": "d7bc5850-20d4-480a-9b93-d700d8ad9ec8",
   "metadata": {},
   "outputs": [],
   "source": [
    "# Inputs\n",
    "# Data\n",
    "window_length = 1.0\n",
    "overlap = 0.0\n",
    "downsample = False\n",
    "downsample_factor = 60\n",
    "prom_threshold = 10\n",
    "rbw_threshold = 0.2\n",
    "\n",
    "# Grouping\n",
    "starttime = \"2020-01-10T00:00:00\"\n",
    "endtime = \"2020-02-02T00:00:00\"\n",
    "\n",
    "time_bin_width = \"1s\"\n",
    "freq_bin_width = 1.0 # in Hz\n",
    "min_freq = 0.0\n",
    "max_freq = 200.0\n",
    "\n",
    "count_threshold = 4\n",
    "\n",
    "num_partitions = 32"
   ]
  },
  {
   "cell_type": "code",
   "execution_count": 3,
   "id": "d9cd4fcf-4545-45ee-9ddd-c094933448fd",
   "metadata": {},
   "outputs": [],
   "source": [
    "if downsample:\n",
    "    suffix = f\"window{window_length:.0f}s_overlap{overlap:.1f}_downsample{downsample_factor:d}_prom{prom_threshold:.0f}db_rbw{rbw_threshold:.1f}\"\n",
    "else:\n",
    "    suffix = f\"window{window_length:.0f}s_overlap{overlap:.1f}_prom{prom_threshold:.0f}db_rbw{rbw_threshold:.1f}\""
   ]
  },
  {
   "cell_type": "code",
   "execution_count": 4,
   "id": "18a41eaa-c824-4c6d-932e-416163b5683a",
   "metadata": {},
   "outputs": [
    {
     "name": "stdout",
     "output_type": "stream",
     "text": [
      "Reading the spectral peaks...\n",
      "9944009 peaks are read.\n"
     ]
    }
   ],
   "source": [
    "# Read the spectral peaks\n",
    "print(\"Reading the spectral peaks...\")\n",
    "filename = f\"geo_spectral_peaks_A01_{suffix}.h5\"\n",
    "inpath = join(indir, filename)\n",
    "peak_df = read_spectral_peaks(inpath)\n",
    "#peak_ddf = from_pandas(peak_df, npartitions = num_partitions)\n",
    "num_peaks = len(peak_df)\n",
    "print(f\"{num_peaks} peaks are read.\")"
   ]
  },
  {
   "cell_type": "code",
   "execution_count": 5,
   "id": "95e72c6c-b2d2-4129-af24-24389c847faf",
   "metadata": {},
   "outputs": [],
   "source": [
    "# Define the time bins\n",
    "if isinstance(starttime, str):\n",
    "    starttime = Timestamp(starttime)\n",
    "\n",
    "if isinstance(endtime, str):\n",
    "    endtime = Timestamp(endtime)\n",
    "\n",
    "starttime = Timestamp(starttime)\n",
    "endtime = Timestamp(endtime)\n",
    "time_bin_edges = date_range(starttime, endtime, freq=time_bin_width)\n",
    "time_delta = time_bin_edges[1] - time_bin_edges[0]\n",
    "time_bin_centers = [time + time_delta / 2 for time in time_bin_edges]\n",
    "time_bin_centers = time_bin_centers[:-1]"
   ]
  },
  {
   "cell_type": "code",
   "execution_count": 6,
   "id": "1674c444-b6fb-4b29-917a-e8cac7588570",
   "metadata": {},
   "outputs": [
    {
     "name": "stdout",
     "output_type": "stream",
     "text": [
      "238.8524341583252\n"
     ]
    }
   ],
   "source": [
    "clock1 = time()\n",
    "# peak_ddf = from_pandas(peak_df, npartitions = 16)\n",
    "#peak_ddf['time_bin'] = peak_ddf.map_partitions(lambda df: pd.cut(df['time'], bins=time_bin_edges, include_lowest=True, right=False))\n",
    "peak_df['time_bin'] = cut(peak_df['time'], bins=time_bin_edges, include_lowest=True, right=False)\n",
    "#peak_df.groupby(['time_bin', 'frequency'], observed = False).size().unstack(fill_value=0)\n",
    "dask_df = from_pandas(peak_df, npartitions=16)\n",
    "dask_df.groupby(['time_bin', 'frequency'], observed = False).size()\n",
    "dask_df.compute()\n",
    "clock2 = time()\n",
    "\n",
    "print(clock2 - clock1)\n",
    "# peak_df['time_bin'] = cut(peak_df[\"time\"], time_bin_edges, include_lowest=True, right=False)\n",
    "# peak_df['freq_bin'] = cut(peak_df[\"frequency\"], freq_bin_edges, include_lowest=True, right=False)"
   ]
  },
  {
   "cell_type": "code",
   "execution_count": null,
   "id": "64c6f2f5-c17d-443a-92b5-fe2962999544",
   "metadata": {},
   "outputs": [],
   "source": []
  }
 ],
 "metadata": {
  "kernelspec": {
   "display_name": "Python 3 (ipykernel)",
   "language": "python",
   "name": "python3"
  },
  "language_info": {
   "codemirror_mode": {
    "name": "ipython",
    "version": 3
   },
   "file_extension": ".py",
   "mimetype": "text/x-python",
   "name": "python",
   "nbconvert_exporter": "python",
   "pygments_lexer": "ipython3",
   "version": "3.11.8"
  }
 },
 "nbformat": 4,
 "nbformat_minor": 5
}
