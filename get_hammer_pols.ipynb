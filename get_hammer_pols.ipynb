{
 "cells": [
  {
   "cell_type": "code",
   "execution_count": 66,
   "metadata": {},
   "outputs": [],
   "source": [
    "# Perform polarization analysis of the signals of one hammer shot"
   ]
  },
  {
   "cell_type": "code",
   "execution_count": 67,
   "metadata": {},
   "outputs": [],
   "source": [
    "## Import modules\n",
    "from obspy import read, UTCDateTime, Stream\n",
    "from utils_pol import get_pol_vidale, plot_waveforms_and_pols, get_p_dip, get_psv_strike, plot_station_strike_and_dip\n",
    "from utils_snuffler import read_phase_markers\n",
    "from utils_preproc import preprocess_stream\n",
    "from pandas import read_csv, to_datetime, DataFrame\n",
    "from numpy import linspace, interp\n",
    "from os.path import join"
   ]
  },
  {
   "cell_type": "code",
   "execution_count": 68,
   "metadata": {},
   "outputs": [],
   "source": [
    "## Inputs\n",
    "root = \"/Volumes/OmanData/geophones_no_prefilt/data\"\n",
    "timewin = \"2020-01-25-10-00-00\"\n",
    "hammer = \"Hammer10-00-15\"\n",
    "\n",
    "winlen_pol = 7 # Window length for estimating the polarization parameters (in points)\n",
    "winlen_dip = 10 # Window length for estimating the dip angle of P particle motion (in points)\n",
    "winlen_strike = 20 # Window length for estimating the strike angle of P and S particle motions (in points)\n",
    "interp_factor = None\n",
    "\n",
    "begin = -0.02\n",
    "end = 0.2\n",
    "\n",
    "freqmin = None\n",
    "freqmax = 450\n",
    "\n",
    "mapbound = \"map_boundary_A.csv\"\n"
   ]
  },
  {
   "cell_type": "code",
   "execution_count": 69,
   "metadata": {},
   "outputs": [],
   "source": [
    "## Read the P picks\n",
    "inpath = join(root, timewin, f\"ppicks_{hammer}.dat\")\n",
    "pickdf = read_phase_markers(inpath)"
   ]
  },
  {
   "cell_type": "code",
   "execution_count": 70,
   "metadata": {},
   "outputs": [],
   "source": [
    "## Read the source information\n",
    "inpath = join(root, timewin, f\"location_{hammer}_P.csv\")\n",
    "sourcedf = read_csv(inpath, delimiter=\" \", parse_dates=[\"origin_time\"])"
   ]
  },
  {
   "cell_type": "code",
   "execution_count": 71,
   "metadata": {},
   "outputs": [],
   "source": [
    "## Read the station information\n",
    "inpath = join(root, \"stations.csv\")\n",
    "stadf = read_csv(inpath, delimiter=\" \", index_col=0)"
   ]
  },
  {
   "cell_type": "code",
   "execution_count": 72,
   "metadata": {},
   "outputs": [],
   "source": [
    "## Read the map boundary\n",
    "inpath = join(root, mapbound)\n",
    "mapdf = read_csv(inpath, delimiter=\" \")"
   ]
  },
  {
   "cell_type": "code",
   "execution_count": 73,
   "metadata": {},
   "outputs": [],
   "source": [
    "## Read and preprocess the waveforms\n",
    "stream = Stream()\n",
    "for i, row in pickdf.iterrows():\n",
    "    station  = row[\"station\"]\n",
    "    ptime = UTCDateTime(row[\"time\"])\n",
    "    starttime = ptime + begin\n",
    "    endtime = ptime + end\n",
    "\n",
    "    stream += read(join(root, timewin, f\"*{station}*SAC\"), starttime=starttime, endtime=endtime)\n",
    "\n",
    "stream = preprocess_stream(stream, freqmin=freqmin, freqmax=freqmax)"
   ]
  },
  {
   "cell_type": "code",
   "execution_count": 74,
   "metadata": {},
   "outputs": [
    {
     "name": "stdout",
     "output_type": "stream",
     "text": [
      "Processing Station, A04...\n",
      "Processing Station, A03...\n",
      "Processing Station, A02...\n",
      "Processing Station, A05...\n",
      "Processing Station, A01...\n",
      "Processing Station, A06...\n",
      "Processing Station, A09...\n",
      "Processing Station, A10...\n",
      "Processing Station, A08...\n",
      "Processing Station, A07...\n",
      "Processing Station, A11...\n",
      "Processing Station, A15...\n",
      "Processing Station, A13...\n",
      "Processing Station, A16...\n",
      "Processing Station, A14...\n",
      "Processing Station, A17...\n",
      "Processing Station, A18...\n"
     ]
    },
    {
     "data": {
      "text/plain": [
       "<Figure size 1000x1000 with 0 Axes>"
      ]
     },
     "metadata": {},
     "output_type": "display_data"
    },
    {
     "data": {
      "text/plain": [
       "<Figure size 1000x1000 with 0 Axes>"
      ]
     },
     "metadata": {},
     "output_type": "display_data"
    },
    {
     "data": {
      "text/plain": [
       "<Figure size 1000x1000 with 0 Axes>"
      ]
     },
     "metadata": {},
     "output_type": "display_data"
    },
    {
     "data": {
      "text/plain": [
       "<Figure size 1000x1000 with 0 Axes>"
      ]
     },
     "metadata": {},
     "output_type": "display_data"
    },
    {
     "data": {
      "text/plain": [
       "<Figure size 1000x1000 with 0 Axes>"
      ]
     },
     "metadata": {},
     "output_type": "display_data"
    },
    {
     "data": {
      "text/plain": [
       "<Figure size 1000x1000 with 0 Axes>"
      ]
     },
     "metadata": {},
     "output_type": "display_data"
    },
    {
     "data": {
      "text/plain": [
       "<Figure size 1000x1000 with 0 Axes>"
      ]
     },
     "metadata": {},
     "output_type": "display_data"
    },
    {
     "data": {
      "text/plain": [
       "<Figure size 1000x1000 with 0 Axes>"
      ]
     },
     "metadata": {},
     "output_type": "display_data"
    },
    {
     "data": {
      "text/plain": [
       "<Figure size 1000x1000 with 0 Axes>"
      ]
     },
     "metadata": {},
     "output_type": "display_data"
    },
    {
     "data": {
      "text/plain": [
       "<Figure size 1000x1000 with 0 Axes>"
      ]
     },
     "metadata": {},
     "output_type": "display_data"
    },
    {
     "data": {
      "text/plain": [
       "<Figure size 1000x1000 with 0 Axes>"
      ]
     },
     "metadata": {},
     "output_type": "display_data"
    },
    {
     "data": {
      "text/plain": [
       "<Figure size 1000x1000 with 0 Axes>"
      ]
     },
     "metadata": {},
     "output_type": "display_data"
    },
    {
     "data": {
      "text/plain": [
       "<Figure size 1000x1000 with 0 Axes>"
      ]
     },
     "metadata": {},
     "output_type": "display_data"
    },
    {
     "data": {
      "text/plain": [
       "<Figure size 1000x1000 with 0 Axes>"
      ]
     },
     "metadata": {},
     "output_type": "display_data"
    },
    {
     "data": {
      "text/plain": [
       "<Figure size 1000x1000 with 0 Axes>"
      ]
     },
     "metadata": {},
     "output_type": "display_data"
    },
    {
     "data": {
      "text/plain": [
       "<Figure size 1000x1000 with 0 Axes>"
      ]
     },
     "metadata": {},
     "output_type": "display_data"
    },
    {
     "data": {
      "text/plain": [
       "<Figure size 1000x1000 with 0 Axes>"
      ]
     },
     "metadata": {},
     "output_type": "display_data"
    }
   ],
   "source": [
    "## Get the polarizations at each station\n",
    "plotdicts = []\n",
    "for station in pickdf[\"station\"]:\n",
    "    print(f\"Processing Station, {station}...\")\n",
    "\n",
    "    trace_e = stream.select(station=station, channel=\"*2\")[0]\n",
    "    trace_n = stream.select(station=station, channel=\"*1\")[0]\n",
    "    trace_z = stream.select(station=station, channel=\"*Z\")[0]\n",
    "\n",
    "    data_e = trace_e.data\n",
    "    data_n = trace_n.data\n",
    "    data_z = trace_z.data\n",
    "\n",
    "    timeax = stream[0].times()+begin\n",
    "    sampint = trace_e.stats.delta\n",
    "\n",
    "    ### Upsample the waveforms\n",
    "    if interp_factor is not None:\n",
    "        timeax_interp = linspace(timeax[0], timeax[-1], len(timeax)*interp_factor)\n",
    "\n",
    "        data_interp_e = interp(timeax_interp, timeax, data_e)\n",
    "        data_interp_n = interp(timeax_interp, timeax, data_n)\n",
    "        data_interp_z = interp(timeax_interp, timeax, data_z)\n",
    "\n",
    "        data_e = data_interp_e\n",
    "        data_n = data_interp_n\n",
    "        data_z = data_interp_z\n",
    "        timeax = timeax_interp\n",
    "\n",
    "    ### Get the polarization parameters\n",
    "    pol_params = get_pol_vidale(data_e, data_n, data_z, winlen=winlen_pol)\n",
    "\n",
    "    ### Plot the waveforms and polarizations\n",
    "    fig, axdict, timeax_pol = plot_waveforms_and_pols(data_e, data_n, data_z, pol_params, timeax, winlen=winlen_pol, station=station, ampmax=0.2)\n",
    "\n",
    "    ### Get the dip angle of the P particle motion\n",
    "    dip_p = get_p_dip(pol_params, timeax_pol, winlen=winlen_dip)\n",
    "\n",
    "    ### Get the strike angle of the P and S particle motions\n",
    "    strike_psv = get_psv_strike(pol_params, timeax_pol, winlen=winlen_strike)\n",
    "\n",
    "    ### Plot the time window markers and the dip and strike angles estimated for P and SV\n",
    "    for ax in axdict.values():\n",
    "        ax.axvline(0, color=\"red\", linestyle=\"-\", linewidth=1.5)\n",
    "        ax.axvline((winlen_dip-1)*sampint, color=\"red\", linestyle=\"--\", linewidth=1.5)\n",
    "        ax.axvline((winlen_strike-1)*sampint, color=\"red\", linestyle=\":\", linewidth=1.5)\n",
    "\n",
    "    ax_strike = axdict[\"strike\"]\n",
    "    ax_strike.axhline(strike_psv, color=\"mediumpurple\", linestyle=\"--\", linewidth=1.5)\n",
    "\n",
    "    ax_dip = axdict[\"dip\"]\n",
    "    ax_dip.axhline(dip_p, color=\"teal\", linestyle=\"--\", linewidth=1.5)\n",
    "\n",
    "    ### Save the results\n",
    "    north = stadf.loc[ stadf[\"name\"] == station ][\"north\"].values[0]\n",
    "    east = stadf.loc[ stadf[\"name\"] == station ][\"east\"].values[0]\n",
    "    plotdicts.append({\"station\": station, \"north\": north, \"east\": east, \"dip_p\": dip_p, \"strike_psv\": strike_psv})\n",
    "\n",
    "    ### Save and close the figure\n",
    "    outpath = join(root, timewin, f\"polarizations_{hammer}_{station}.png\")\n",
    "    fig.savefig(outpath, dpi=300, transparent=True)\n",
    "    fig.clf()\n",
    "\n",
    "plotdf = DataFrame(plotdicts)\n",
    "\n",
    "    "
   ]
  },
  {
   "cell_type": "code",
   "execution_count": 75,
   "metadata": {},
   "outputs": [
    {
     "data": {
      "image/png": "[encoded data removed]",
      "text/plain": [
       "<Figure size 1000x1000 with 2 Axes>"
      ]
     },
     "metadata": {
      "needs_background": "light"
     },
     "output_type": "display_data"
    }
   ],
   "source": [
    "## Plot the dip and strike angles at each station and save the figure\n",
    "source_coord = sourcedf[[\"east\", \"north\"]].values[0]\n",
    "fig, ax = plot_station_strike_and_dip(plotdf, source_coord, hammer)\n",
    "\n",
    "fig.patch.set_alpha(0)\n",
    "fig.savefig(join(root, timewin, f\"stations_strike_and_dip_{hammer}.png\"), dpi=300)"
   ]
  }
 ],
 "metadata": {
  "kernelspec": {
   "display_name": "obspy",
   "language": "python",
   "name": "python3"
  },
  "language_info": {
   "codemirror_mode": {
    "name": "ipython",
    "version": 3
   },
   "file_extension": ".py",
   "mimetype": "text/x-python",
   "name": "python",
   "nbconvert_exporter": "python",
   "pygments_lexer": "ipython3",
   "version": "3.11.6"
  }
 },
 "nbformat": 4,
 "nbformat_minor": 2
}
