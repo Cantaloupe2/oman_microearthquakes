{
 "cells": [
  {
   "cell_type": "markdown",
   "metadata": {},
   "source": [
    "# Test resampling the spectograms to the begin and and of the day"
   ]
  },
  {
   "cell_type": "code",
   "execution_count": 1,
   "metadata": {},
   "outputs": [],
   "source": [
    "# Imports\n",
    "from os import makedirs\n",
    "from os.path import join\n",
    "from time import time\n",
    "\n",
    "from utils_basic import SPECTROGRAM_DIR as outdir, GEO_STATIONS as stations\n",
    "from utils_basic import day2suffix, get_geophone_days, get_geo_metadata\n",
    "from utils_preproc import read_and_process_day_long_geo_waveforms\n",
    "from utils_spec import assemble_spec_filename, create_geo_spectrogram_file, write_geo_spectrogram_block, finish_geo_spectrogram_file\n",
    "from utils_torch import get_daily_geo_spectrograms\n",
    "from utils_plot import plot_geo_stft_spectrograms"
   ]
  },
  {
   "cell_type": "code",
   "execution_count": 2,
   "metadata": {},
   "outputs": [],
   "source": [
    "# Inputs\n",
    "station = \"A01\"\n",
    "day = \"2020-01-11\"\n",
    "window_length = 60.0 # IN SECONDS\n",
    "overlap = 0.0\n",
    "downsample = False\n",
    "resample_in_parallel = False\n",
    "downsample_factor = 60 # Downsample factor for the frequency axis\n",
    "num_process = 8"
   ]
  },
  {
   "cell_type": "code",
   "execution_count": 3,
   "metadata": {},
   "outputs": [],
   "source": [
    "# Load the station metadata\n",
    "metadata = get_geo_metadata()"
   ]
  },
  {
   "cell_type": "code",
   "execution_count": 4,
   "metadata": {},
   "outputs": [],
   "source": [
    "# Compute the frequency intervals\n",
    "freq_interval = 1.0 / window_length\n",
    "freq_interval_ds = freq_interval * downsample_factor"
   ]
  },
  {
   "cell_type": "code",
   "execution_count": 5,
   "metadata": {},
   "outputs": [
    {
     "name": "stdout",
     "output_type": "stream",
     "text": [
      "Reading the waveforms for 2020-01-11\n",
      "Preprocessing the waveforms...\n"
     ]
    }
   ],
   "source": [
    "# Read and preprocess the data\n",
    "stream_day = read_and_process_day_long_geo_waveforms(day, metadata, stations = station)\n",
    "if stream_day is None:\n",
    "    print(f\"{day} is skipped.\")"
   ]
  },
  {
   "cell_type": "code",
   "execution_count": 6,
   "metadata": {},
   "outputs": [
    {
     "name": "stdout",
     "output_type": "stream",
     "text": [
      "Computing the spectrograms...\n",
      "Resampling the spectrograms to the begin and end of the day...\n",
      "7.95210337638855\n"
     ]
    }
   ],
   "source": [
    "# Compute the spectrograms\n",
    "clock1 = time()\n",
    "stream_spec, stream_spec_ds = get_daily_geo_spectrograms(stream_day, \n",
    "                                                         window_length = window_length, overlap = overlap, \n",
    "                                                         downsample = downsample, downsample_factor = downsample_factor,\n",
    "                                                         )\n",
    "                                                        \n",
    "clock2 = time()\n",
    "print(clock2 - clock1)"
   ]
  },
  {
   "cell_type": "code",
   "execution_count": 7,
   "metadata": {},
   "outputs": [],
   "source": [
    "# # Plot the spectrograms\n",
    "# fig, axes, cbar = plot_geo_stft_spectrograms(stream_spec_ds, date_format = \"%Y-%m-%d %H:%M:%S\", major_time_spacing = \"6h\", minor_time_spacing = \"1h\", time_tick_rotation = 5.0)"
   ]
  },
  {
   "cell_type": "code",
   "execution_count": 8,
   "metadata": {},
   "outputs": [],
   "source": [
    "# stream_spec[0].data.shape"
   ]
  },
  {
   "cell_type": "code",
   "execution_count": null,
   "metadata": {},
   "outputs": [],
   "source": []
  }
 ],
 "metadata": {
  "kernelspec": {
   "display_name": "Python 3 (ipykernel)",
   "language": "python",
   "name": "python3"
  },
  "language_info": {
   "codemirror_mode": {
    "name": "ipython",
    "version": 3
   },
   "file_extension": ".py",
   "mimetype": "text/x-python",
   "name": "python",
   "nbconvert_exporter": "python",
   "pygments_lexer": "ipython3",
   "version": "3.11.8"
  }
 },
 "nbformat": 4,
 "nbformat_minor": 4
}
