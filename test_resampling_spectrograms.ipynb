{
 "cells": [
  {
   "cell_type": "markdown",
   "metadata": {},
   "source": [
    "# Test resampling the spectograms to the begin and and of the day"
   ]
  },
  {
   "cell_type": "code",
   "execution_count": null,
   "metadata": {},
   "outputs": [],
   "source": [
    "# Imports\n",
    "from os import makedirs\n",
    "from os.path import join\n",
    "from time import time\n",
    "\n",
    "from utils_basic import SPECTROGRAM_DIR as outdir, GEO_STATIONS as stations\n",
    "from utils_basic import day2suffix, get_geophone_days, get_geo_metadata\n",
    "from utils_preproc import read_and_process_day_long_geo_waveforms\n",
    "from utils_spec import assemble_spec_filename, create_geo_spectrogram_file, write_geo_spectrogram_block, finish_geo_spectrogram_file\n",
    "from utils_torch import get_daily_geo_spectrograms\n",
    "from utils_plot import plot_geo_stft_spectrograms"
   ]
  },
  {
   "cell_type": "code",
   "execution_count": null,
   "metadata": {},
   "outputs": [],
   "source": [
    "# Inputs\n",
    "station = \"A01\"\n",
    "day = \"2020-01-10\"\n",
    "window_length = 60.0 # IN SECONDS\n",
    "overlap = 0.0\n",
    "downsample = True\n",
    "downsample_factor = 60 # Downsample factor for the frequency axis\n",
    "\n",
    "if not downsample and save_ds_only:\n",
    "    raise ValueError(\"Conflicting options for downsampling!\")"
   ]
  },
  {
   "cell_type": "code",
   "execution_count": null,
   "metadata": {},
   "outputs": [],
   "source": [
    "# Load the station metadata\n",
    "metadata = get_geo_metadata()"
   ]
  },
  {
   "cell_type": "code",
   "execution_count": null,
   "metadata": {},
   "outputs": [],
   "source": [
    "# Compute the frequency intervals\n",
    "freq_interval = 1.0 / window_length\n",
    "freq_interval_ds = freq_interval * downsample_factor"
   ]
  },
  {
   "cell_type": "code",
   "execution_count": null,
   "metadata": {},
   "outputs": [],
   "source": [
    "# Read and preprocess the data\n",
    "stream_day = read_and_process_day_long_geo_waveforms(day, metadata, stations = station)\n",
    "if stream_day is None:\n",
    "    print(f\"{day} is skipped.\")\n",
    "    continue"
   ]
  },
  {
   "cell_type": "code",
   "execution_count": null,
   "metadata": {},
   "outputs": [],
   "source": [
    "# Compute the spectrograms\n",
    "stream_spec, stream_spec_ds = get_daily_geo_spectrograms(stream_day, window_length = window_length, overlap = overlap, downsample = downsample, downsample_factor = downsample_factor)"
   ]
  },
  {
   "cell_type": "code",
   "execution_count": null,
   "metadata": {},
   "outputs": [],
   "source": [
    "# Plot the spectrograms\n",
    "fig, axes, cbar = plot_geo_stft_spectrograms(stream_spec, date_format = \"%Y-%m-%d %H:%M:%S\", major_time_spacing = \"6h\", minor_time_spacing = \"1h\", time_tick_rotation = 5.0)"
   ]
  }
 ],
 "metadata": {
  "language_info": {
   "name": "python"
  }
 },
 "nbformat": 4,
 "nbformat_minor": 2
}
