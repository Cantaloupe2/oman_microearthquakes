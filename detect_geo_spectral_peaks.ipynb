{
 "cells": [
  {
   "cell_type": "markdown",
   "id": "138c655c-a385-4150-9da8-7921fe90d9fb",
   "metadata": {},
   "source": [
    "# Detect spectral peaks in geophone spectrograms"
   ]
  },
  {
   "cell_type": "code",
   "execution_count": 4,
   "id": "6c068240-e07e-4633-b969-e80b3c14a08b",
   "metadata": {},
   "outputs": [],
   "source": [
    "# Imports\n",
    "from os.path import join\n",
    "from pandas import concat\n",
    "from time import time\n",
    "from multiprocessing import Pool\n",
    "\n",
    "from utils_basic import SPECTROGRAM_DIR as indir, GEO_STATIONS as stations\n",
    "from utils_spec import assemble_spec_filename, find_geo_station_spectral_peaks, save_spectral_peaks, read_geo_spectrograms, read_geo_spec_headers\n",
    "from utils_plot import plot_geo_total_psd_and_peaks, save_figure"
   ]
  },
  {
   "cell_type": "code",
   "execution_count": 2,
   "id": "6994da80-5731-4ca5-8b96-b6f0ca57e96f",
   "metadata": {},
   "outputs": [],
   "source": [
    "# Inputs\n",
    "# Data\n",
    "window_length = 1.0\n",
    "overlap = 0.0\n",
    "downsample = False\n",
    "downsample_factor = 60\n",
    "\n",
    "# Finding peaks\n",
    "num_process = 32\n",
    "rbw_threshold = 0.2\n",
    "prom_threshold = 5\n",
    "freqmin = None\n",
    "freqmax = None"
   ]
  },
  {
   "cell_type": "code",
   "execution_count": 3,
   "id": "9f642ca1-2e96-426e-a985-fa15a65e5512",
   "metadata": {},
   "outputs": [
    {
     "name": "stdout",
     "output_type": "stream",
     "text": [
      "### Working on A01... ###\n",
      "Reading the list of time labels...\n",
      "Reading the spectrograms of 20200110000000000000...\n",
      "Detecting the peaks...\n",
      "In total, 2556918 spectral peaks found.\n",
      "Elapsed time: 19.67817258834839\n",
      "Reading the spectrograms of 20200111000000000000...\n",
      "Detecting the peaks...\n",
      "In total, 3662454 spectral peaks found.\n",
      "Elapsed time: 27.4687716960907\n",
      "Reading the spectrograms of 20200112000000000000...\n",
      "Detecting the peaks...\n"
     ]
    },
    {
     "ename": "KeyboardInterrupt",
     "evalue": "",
     "output_type": "error",
     "traceback": [
      "\u001b[0;31m---------------------------------------------------------------------------\u001b[0m",
      "\u001b[0;31mKeyboardInterrupt\u001b[0m                         Traceback (most recent call last)",
      "Cell \u001b[0;32mIn[3], line 26\u001b[0m\n\u001b[1;32m     24\u001b[0m \u001b[38;5;66;03m# Find the peaks\u001b[39;00m\n\u001b[1;32m     25\u001b[0m \u001b[38;5;28mprint\u001b[39m(\u001b[38;5;124m\"\u001b[39m\u001b[38;5;124mDetecting the peaks...\u001b[39m\u001b[38;5;124m\"\u001b[39m)\n\u001b[0;32m---> 26\u001b[0m peak_df, _ \u001b[38;5;241m=\u001b[39m \u001b[43mfind_geo_station_spectral_peaks\u001b[49m\u001b[43m(\u001b[49m\u001b[43mstream_spec\u001b[49m\u001b[43m,\u001b[49m\u001b[43m \u001b[49m\u001b[43mrbw_threshold\u001b[49m\u001b[43m \u001b[49m\u001b[38;5;241;43m=\u001b[39;49m\u001b[43m \u001b[49m\u001b[43mrbw_threshold\u001b[49m\u001b[43m,\u001b[49m\u001b[43m \u001b[49m\u001b[43mprom_threshold\u001b[49m\u001b[43m \u001b[49m\u001b[38;5;241;43m=\u001b[39;49m\u001b[43m \u001b[49m\u001b[43mprom_threshold\u001b[49m\u001b[43m,\u001b[49m\u001b[43m \u001b[49m\u001b[43mfreqmin\u001b[49m\u001b[43m \u001b[49m\u001b[38;5;241;43m=\u001b[39;49m\u001b[43m \u001b[49m\u001b[43mfreqmin\u001b[49m\u001b[43m,\u001b[49m\u001b[43m \u001b[49m\u001b[43mfreqmax\u001b[49m\u001b[43m \u001b[49m\u001b[38;5;241;43m=\u001b[39;49m\u001b[43m \u001b[49m\u001b[43mfreqmax\u001b[49m\u001b[43m)\u001b[49m\n\u001b[1;32m     27\u001b[0m \u001b[38;5;28mprint\u001b[39m(\u001b[38;5;124mf\u001b[39m\u001b[38;5;124m\"\u001b[39m\u001b[38;5;124mIn total, \u001b[39m\u001b[38;5;132;01m{\u001b[39;00m\u001b[38;5;28mlen\u001b[39m(peak_df)\u001b[38;5;132;01m}\u001b[39;00m\u001b[38;5;124m spectral peaks found.\u001b[39m\u001b[38;5;124m\"\u001b[39m)\n\u001b[1;32m     29\u001b[0m \u001b[38;5;66;03m# Add the station to the dataframe\u001b[39;00m\n",
      "File \u001b[0;32m~/oman_microearthquakes/utils_spec.py:382\u001b[0m, in \u001b[0;36mfind_geo_station_spectral_peaks\u001b[0;34m(stream_spec, rbw_threshold, prom_threshold, freqmin, freqmax)\u001b[0m\n\u001b[1;32m    379\u001b[0m trace_spec_total \u001b[38;5;241m=\u001b[39m stream_spec\u001b[38;5;241m.\u001b[39mget_total_power()\n\u001b[1;32m    381\u001b[0m \u001b[38;5;66;03m# Find the spectral peaks in each component\u001b[39;00m\n\u001b[0;32m--> 382\u001b[0m peak_df \u001b[38;5;241m=\u001b[39m \u001b[43mtrace_spec_total\u001b[49m\u001b[38;5;241;43m.\u001b[39;49m\u001b[43mfind_spectral_peaks\u001b[49m\u001b[43m(\u001b[49m\u001b[43mprom_threshold\u001b[49m\u001b[43m,\u001b[49m\u001b[43m \u001b[49m\u001b[43mrbw_threshold\u001b[49m\u001b[43m,\u001b[49m\u001b[43m \u001b[49m\u001b[43mfreqmin\u001b[49m\u001b[43m \u001b[49m\u001b[38;5;241;43m=\u001b[39;49m\u001b[43m \u001b[49m\u001b[43mfreqmin\u001b[49m\u001b[43m,\u001b[49m\u001b[43m \u001b[49m\u001b[43mfreqmax\u001b[49m\u001b[43m \u001b[49m\u001b[38;5;241;43m=\u001b[39;49m\u001b[43m \u001b[49m\u001b[43mfreqmax\u001b[49m\u001b[43m)\u001b[49m\n\u001b[1;32m    384\u001b[0m \u001b[38;5;28;01mreturn\u001b[39;00m peak_df, trace_spec_total\n",
      "File \u001b[0;32m~/oman_microearthquakes/utils_spec.py:360\u001b[0m, in \u001b[0;36mTraceSTFTPSD.find_spectral_peaks\u001b[0;34m(self, prom_threshold, rbw_threshold, freqmin, freqmax)\u001b[0m\n\u001b[1;32m    357\u001b[0m             peak_powers\u001b[38;5;241m.\u001b[39mappend(power[j])\n\u001b[1;32m    358\u001b[0m             peak_rbws \u001b[38;5;241m.\u001b[39mappend(rbw)\n\u001b[0;32m--> 360\u001b[0m peak_df \u001b[38;5;241m=\u001b[39m \u001b[43mDataFrame\u001b[49m\u001b[43m(\u001b[49m\u001b[43m{\u001b[49m\u001b[38;5;124;43m\"\u001b[39;49m\u001b[38;5;124;43mfrequency\u001b[39;49m\u001b[38;5;124;43m\"\u001b[39;49m\u001b[43m:\u001b[49m\u001b[43m \u001b[49m\u001b[43mpeak_freqs\u001b[49m\u001b[43m,\u001b[49m\u001b[43m \u001b[49m\u001b[38;5;124;43m\"\u001b[39;49m\u001b[38;5;124;43mtime\u001b[39;49m\u001b[38;5;124;43m\"\u001b[39;49m\u001b[43m:\u001b[49m\u001b[43m \u001b[49m\u001b[43mpeak_times\u001b[49m\u001b[43m,\u001b[49m\u001b[43m \u001b[49m\u001b[38;5;124;43m\"\u001b[39;49m\u001b[38;5;124;43mpower\u001b[39;49m\u001b[38;5;124;43m\"\u001b[39;49m\u001b[43m:\u001b[49m\u001b[43m \u001b[49m\u001b[43mpeak_powers\u001b[49m\u001b[43m,\u001b[49m\u001b[43m \u001b[49m\u001b[38;5;124;43m\"\u001b[39;49m\u001b[38;5;124;43mreverse_bandwidth\u001b[39;49m\u001b[38;5;124;43m\"\u001b[39;49m\u001b[43m:\u001b[49m\u001b[43m \u001b[49m\u001b[43mpeak_rbws\u001b[49m\u001b[43m}\u001b[49m\u001b[43m)\u001b[49m\n\u001b[1;32m    362\u001b[0m \u001b[38;5;28;01mreturn\u001b[39;00m peak_df\n",
      "File \u001b[0;32m~/.conda/envs/test/lib/python3.11/site-packages/pandas/core/frame.py:778\u001b[0m, in \u001b[0;36mDataFrame.__init__\u001b[0;34m(self, data, index, columns, dtype, copy)\u001b[0m\n\u001b[1;32m    772\u001b[0m     mgr \u001b[38;5;241m=\u001b[39m \u001b[38;5;28mself\u001b[39m\u001b[38;5;241m.\u001b[39m_init_mgr(\n\u001b[1;32m    773\u001b[0m         data, axes\u001b[38;5;241m=\u001b[39m{\u001b[38;5;124m\"\u001b[39m\u001b[38;5;124mindex\u001b[39m\u001b[38;5;124m\"\u001b[39m: index, \u001b[38;5;124m\"\u001b[39m\u001b[38;5;124mcolumns\u001b[39m\u001b[38;5;124m\"\u001b[39m: columns}, dtype\u001b[38;5;241m=\u001b[39mdtype, copy\u001b[38;5;241m=\u001b[39mcopy\n\u001b[1;32m    774\u001b[0m     )\n\u001b[1;32m    776\u001b[0m \u001b[38;5;28;01melif\u001b[39;00m \u001b[38;5;28misinstance\u001b[39m(data, \u001b[38;5;28mdict\u001b[39m):\n\u001b[1;32m    777\u001b[0m     \u001b[38;5;66;03m# GH#38939 de facto copy defaults to False only in non-dict cases\u001b[39;00m\n\u001b[0;32m--> 778\u001b[0m     mgr \u001b[38;5;241m=\u001b[39m \u001b[43mdict_to_mgr\u001b[49m\u001b[43m(\u001b[49m\u001b[43mdata\u001b[49m\u001b[43m,\u001b[49m\u001b[43m \u001b[49m\u001b[43mindex\u001b[49m\u001b[43m,\u001b[49m\u001b[43m \u001b[49m\u001b[43mcolumns\u001b[49m\u001b[43m,\u001b[49m\u001b[43m \u001b[49m\u001b[43mdtype\u001b[49m\u001b[38;5;241;43m=\u001b[39;49m\u001b[43mdtype\u001b[49m\u001b[43m,\u001b[49m\u001b[43m \u001b[49m\u001b[43mcopy\u001b[49m\u001b[38;5;241;43m=\u001b[39;49m\u001b[43mcopy\u001b[49m\u001b[43m,\u001b[49m\u001b[43m \u001b[49m\u001b[43mtyp\u001b[49m\u001b[38;5;241;43m=\u001b[39;49m\u001b[43mmanager\u001b[49m\u001b[43m)\u001b[49m\n\u001b[1;32m    779\u001b[0m \u001b[38;5;28;01melif\u001b[39;00m \u001b[38;5;28misinstance\u001b[39m(data, ma\u001b[38;5;241m.\u001b[39mMaskedArray):\n\u001b[1;32m    780\u001b[0m     \u001b[38;5;28;01mfrom\u001b[39;00m \u001b[38;5;21;01mnumpy\u001b[39;00m\u001b[38;5;21;01m.\u001b[39;00m\u001b[38;5;21;01mma\u001b[39;00m \u001b[38;5;28;01mimport\u001b[39;00m mrecords\n",
      "File \u001b[0;32m~/.conda/envs/test/lib/python3.11/site-packages/pandas/core/internals/construction.py:503\u001b[0m, in \u001b[0;36mdict_to_mgr\u001b[0;34m(data, index, columns, dtype, typ, copy)\u001b[0m\n\u001b[1;32m    499\u001b[0m     \u001b[38;5;28;01melse\u001b[39;00m:\n\u001b[1;32m    500\u001b[0m         \u001b[38;5;66;03m# dtype check to exclude e.g. range objects, scalars\u001b[39;00m\n\u001b[1;32m    501\u001b[0m         arrays \u001b[38;5;241m=\u001b[39m [x\u001b[38;5;241m.\u001b[39mcopy() \u001b[38;5;28;01mif\u001b[39;00m \u001b[38;5;28mhasattr\u001b[39m(x, \u001b[38;5;124m\"\u001b[39m\u001b[38;5;124mdtype\u001b[39m\u001b[38;5;124m\"\u001b[39m) \u001b[38;5;28;01melse\u001b[39;00m x \u001b[38;5;28;01mfor\u001b[39;00m x \u001b[38;5;129;01min\u001b[39;00m arrays]\n\u001b[0;32m--> 503\u001b[0m \u001b[38;5;28;01mreturn\u001b[39;00m \u001b[43marrays_to_mgr\u001b[49m\u001b[43m(\u001b[49m\u001b[43marrays\u001b[49m\u001b[43m,\u001b[49m\u001b[43m \u001b[49m\u001b[43mcolumns\u001b[49m\u001b[43m,\u001b[49m\u001b[43m \u001b[49m\u001b[43mindex\u001b[49m\u001b[43m,\u001b[49m\u001b[43m \u001b[49m\u001b[43mdtype\u001b[49m\u001b[38;5;241;43m=\u001b[39;49m\u001b[43mdtype\u001b[49m\u001b[43m,\u001b[49m\u001b[43m \u001b[49m\u001b[43mtyp\u001b[49m\u001b[38;5;241;43m=\u001b[39;49m\u001b[43mtyp\u001b[49m\u001b[43m,\u001b[49m\u001b[43m \u001b[49m\u001b[43mconsolidate\u001b[49m\u001b[38;5;241;43m=\u001b[39;49m\u001b[43mcopy\u001b[49m\u001b[43m)\u001b[49m\n",
      "File \u001b[0;32m~/.conda/envs/test/lib/python3.11/site-packages/pandas/core/internals/construction.py:119\u001b[0m, in \u001b[0;36marrays_to_mgr\u001b[0;34m(arrays, columns, index, dtype, verify_integrity, typ, consolidate)\u001b[0m\n\u001b[1;32m    116\u001b[0m         index \u001b[38;5;241m=\u001b[39m ensure_index(index)\n\u001b[1;32m    118\u001b[0m     \u001b[38;5;66;03m# don't force copy because getting jammed in an ndarray anyway\u001b[39;00m\n\u001b[0;32m--> 119\u001b[0m     arrays, refs \u001b[38;5;241m=\u001b[39m \u001b[43m_homogenize\u001b[49m\u001b[43m(\u001b[49m\u001b[43marrays\u001b[49m\u001b[43m,\u001b[49m\u001b[43m \u001b[49m\u001b[43mindex\u001b[49m\u001b[43m,\u001b[49m\u001b[43m \u001b[49m\u001b[43mdtype\u001b[49m\u001b[43m)\u001b[49m\n\u001b[1;32m    120\u001b[0m     \u001b[38;5;66;03m# _homogenize ensures\u001b[39;00m\n\u001b[1;32m    121\u001b[0m     \u001b[38;5;66;03m#  - all(len(x) == len(index) for x in arrays)\u001b[39;00m\n\u001b[1;32m    122\u001b[0m     \u001b[38;5;66;03m#  - all(x.ndim == 1 for x in arrays)\u001b[39;00m\n\u001b[0;32m   (...)\u001b[0m\n\u001b[1;32m    125\u001b[0m \n\u001b[1;32m    126\u001b[0m \u001b[38;5;28;01melse\u001b[39;00m:\n\u001b[1;32m    127\u001b[0m     index \u001b[38;5;241m=\u001b[39m ensure_index(index)\n",
      "File \u001b[0;32m~/.conda/envs/test/lib/python3.11/site-packages/pandas/core/internals/construction.py:629\u001b[0m, in \u001b[0;36m_homogenize\u001b[0;34m(data, index, dtype)\u001b[0m\n\u001b[1;32m    626\u001b[0m         val \u001b[38;5;241m=\u001b[39m \u001b[38;5;28mdict\u001b[39m(val)\n\u001b[1;32m    627\u001b[0m     val \u001b[38;5;241m=\u001b[39m lib\u001b[38;5;241m.\u001b[39mfast_multiget(val, oindex\u001b[38;5;241m.\u001b[39m_values, default\u001b[38;5;241m=\u001b[39mnp\u001b[38;5;241m.\u001b[39mnan)\n\u001b[0;32m--> 629\u001b[0m val \u001b[38;5;241m=\u001b[39m \u001b[43msanitize_array\u001b[49m\u001b[43m(\u001b[49m\u001b[43mval\u001b[49m\u001b[43m,\u001b[49m\u001b[43m \u001b[49m\u001b[43mindex\u001b[49m\u001b[43m,\u001b[49m\u001b[43m \u001b[49m\u001b[43mdtype\u001b[49m\u001b[38;5;241;43m=\u001b[39;49m\u001b[43mdtype\u001b[49m\u001b[43m,\u001b[49m\u001b[43m \u001b[49m\u001b[43mcopy\u001b[49m\u001b[38;5;241;43m=\u001b[39;49m\u001b[38;5;28;43;01mFalse\u001b[39;49;00m\u001b[43m)\u001b[49m\n\u001b[1;32m    630\u001b[0m com\u001b[38;5;241m.\u001b[39mrequire_length_match(val, index)\n\u001b[1;32m    631\u001b[0m refs\u001b[38;5;241m.\u001b[39mappend(\u001b[38;5;28;01mNone\u001b[39;00m)\n",
      "File \u001b[0;32m~/.conda/envs/test/lib/python3.11/site-packages/pandas/core/construction.py:654\u001b[0m, in \u001b[0;36msanitize_array\u001b[0;34m(data, index, dtype, copy, allow_2d)\u001b[0m\n\u001b[1;32m    651\u001b[0m     subarr \u001b[38;5;241m=\u001b[39m _try_cast(data, dtype, copy)\n\u001b[1;32m    653\u001b[0m \u001b[38;5;28;01melse\u001b[39;00m:\n\u001b[0;32m--> 654\u001b[0m     subarr \u001b[38;5;241m=\u001b[39m \u001b[43mmaybe_convert_platform\u001b[49m\u001b[43m(\u001b[49m\u001b[43mdata\u001b[49m\u001b[43m)\u001b[49m\n\u001b[1;32m    655\u001b[0m     \u001b[38;5;28;01mif\u001b[39;00m subarr\u001b[38;5;241m.\u001b[39mdtype \u001b[38;5;241m==\u001b[39m \u001b[38;5;28mobject\u001b[39m:\n\u001b[1;32m    656\u001b[0m         subarr \u001b[38;5;241m=\u001b[39m cast(np\u001b[38;5;241m.\u001b[39mndarray, subarr)\n",
      "File \u001b[0;32m~/.conda/envs/test/lib/python3.11/site-packages/pandas/core/dtypes/cast.py:138\u001b[0m, in \u001b[0;36mmaybe_convert_platform\u001b[0;34m(values)\u001b[0m\n\u001b[1;32m    135\u001b[0m     arr \u001b[38;5;241m=\u001b[39m values\n\u001b[1;32m    137\u001b[0m \u001b[38;5;28;01mif\u001b[39;00m arr\u001b[38;5;241m.\u001b[39mdtype \u001b[38;5;241m==\u001b[39m _dtype_obj:\n\u001b[0;32m--> 138\u001b[0m     arr \u001b[38;5;241m=\u001b[39m \u001b[43mcast\u001b[49m\u001b[43m(\u001b[49m\u001b[43mnp\u001b[49m\u001b[38;5;241;43m.\u001b[39;49m\u001b[43mndarray\u001b[49m\u001b[43m,\u001b[49m\u001b[43m \u001b[49m\u001b[43marr\u001b[49m\u001b[43m)\u001b[49m\n\u001b[1;32m    139\u001b[0m     arr \u001b[38;5;241m=\u001b[39m lib\u001b[38;5;241m.\u001b[39mmaybe_convert_objects(arr)\n\u001b[1;32m    141\u001b[0m \u001b[38;5;28;01mreturn\u001b[39;00m arr\n",
      "File \u001b[0;32m~/.conda/envs/test/lib/python3.11/typing.py:2268\u001b[0m, in \u001b[0;36mcast\u001b[0;34m(typ, val)\u001b[0m\n\u001b[1;32m   2264\u001b[0m     \u001b[38;5;28mcls\u001b[39m\u001b[38;5;241m.\u001b[39m_is_runtime_protocol \u001b[38;5;241m=\u001b[39m \u001b[38;5;28;01mTrue\u001b[39;00m\n\u001b[1;32m   2265\u001b[0m     \u001b[38;5;28;01mreturn\u001b[39;00m \u001b[38;5;28mcls\u001b[39m\n\u001b[0;32m-> 2268\u001b[0m \u001b[38;5;28;01mdef\u001b[39;00m \u001b[38;5;21mcast\u001b[39m(typ, val):\n\u001b[1;32m   2269\u001b[0m \u001b[38;5;250m    \u001b[39m\u001b[38;5;124;03m\"\"\"Cast a value to a type.\u001b[39;00m\n\u001b[1;32m   2270\u001b[0m \n\u001b[1;32m   2271\u001b[0m \u001b[38;5;124;03m    This returns the value unchanged.  To the type checker this\u001b[39;00m\n\u001b[0;32m   (...)\u001b[0m\n\u001b[1;32m   2274\u001b[0m \u001b[38;5;124;03m    to be as fast as possible).\u001b[39;00m\n\u001b[1;32m   2275\u001b[0m \u001b[38;5;124;03m    \"\"\"\u001b[39;00m\n\u001b[1;32m   2276\u001b[0m     \u001b[38;5;28;01mreturn\u001b[39;00m val\n",
      "\u001b[0;31mKeyboardInterrupt\u001b[0m: "
     ]
    }
   ],
   "source": [
    "# Loop over days and stations\n",
    "peak_dfs = []\n",
    "for station in stations:\n",
    "    print(f\"### Working on {station}... ###\")\n",
    "\n",
    "    # Read the list of time labels\n",
    "    print(\"Reading the list of time labels...\")\n",
    "    if downsample:\n",
    "        filename_in = assemble_spec_filename(\"whole_deployment\", \"daily\", \"geo\", station, window_length, overlap, downsample, downsample_factor = downsample_factor)\n",
    "        inpath = join(indir, filename_in)\n",
    "    else:\n",
    "        filename_in = assemble_spec_filename(\"whole_deployment\", \"daily\", \"geo\", station, window_length, overlap, downsample)\n",
    "        inpath = join(indir, filename_in)\n",
    "\n",
    "    header_dict = read_geo_spec_headers(inpath)\n",
    "    time_labels = header_dict[\"time_labels\"]\n",
    "    \n",
    "    for time_label in time_labels:\n",
    "        clock1 = time()\n",
    "        # Read the spectrograms\n",
    "        print(f\"Reading the spectrograms of {time_label}...\")\n",
    "        stream_spec = read_geo_spectrograms(inpath, time_labels = [time_label])\n",
    "\n",
    "        # Find the peaks\n",
    "        print(\"Detecting the peaks...\")\n",
    "        peak_df, _ = find_geo_station_spectral_peaks(stream_spec, num_process, rbw_threshold = rbw_threshold, prom_threshold = prom_threshold, freqmin = freqmin, freqmax = freqmax)\n",
    "        print(f\"In total, {len(peak_df)} spectral peaks found.\")\n",
    "\n",
    "        # Add the station to the dataframe\n",
    "        peak_df[\"station\"] = station\n",
    "\n",
    "        # Append to the list\n",
    "        peak_dfs.append(peak_df)\n",
    "\n",
    "        clock2 = time()\n",
    "        elapse = clock2 - clock1\n",
    "        print(f\"Elapsed time: {elapse}\")"
   ]
  },
  {
   "cell_type": "code",
   "execution_count": null,
   "id": "340c06b5-ac50-43be-9022-646a159e7d0b",
   "metadata": {},
   "outputs": [],
   "source": [
    "# Save the results\n",
    "peak_df = concat(peak_dfs)\n",
    "peak_df.drop_duplicates(subset = [\"station\", \"time\", \"frequency\"], inplace = True)\n",
    "peak_df.reset_index(drop = True, inplace = True)\n",
    "\n",
    "print(\"Saving the results...\")\n",
    "outdir = indir\n",
    "if downsample:\n",
    "    filename = f\"geo_spectral_peaks_window{window_length:.0f}s_overlap{overlap:.1f}_downsample{downsample_factor:d}_prom{prom_threshold:.0f}db_rbw{rbw_threshold:.1f}.csv\"\n",
    "else:\n",
    "    filename = f\"geo_spectral_peaks_window{window_length:.0f}s_overlap{overlap:.1f}_prom{prom_threshold:.0f}db_rbw{rbw_threshold:.1f}.csv\"\n",
    "    \n",
    "outpath = join(outdir, filename)\n",
    "\n",
    "save_spectral_peaks(peak_df, outpath)\n",
    "print(f\"Results saved to {outpath}\")"
   ]
  }
 ],
 "metadata": {
  "kernelspec": {
   "display_name": "Python 3 (ipykernel)",
   "language": "python",
   "name": "python3"
  },
  "language_info": {
   "codemirror_mode": {
    "name": "ipython",
    "version": 3
   },
   "file_extension": ".py",
   "mimetype": "text/x-python",
   "name": "python",
   "nbconvert_exporter": "python",
   "pygments_lexer": "ipython3",
   "version": "3.11.8"
  }
 },
 "nbformat": 4,
 "nbformat_minor": 5
}
