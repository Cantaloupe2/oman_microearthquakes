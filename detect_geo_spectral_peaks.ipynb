{
 "cells": [
  {
   "cell_type": "markdown",
   "id": "138c655c-a385-4150-9da8-7921fe90d9fb",
   "metadata": {},
   "source": [
    "# Detect spectral peaks in geophone spectrograms"
   ]
  },
  {
   "cell_type": "code",
   "execution_count": 1,
   "id": "6c068240-e07e-4633-b969-e80b3c14a08b",
   "metadata": {},
   "outputs": [],
   "source": [
    "# Imports\n",
    "from os.path import join\n",
    "\n",
    "from pandas import concat\n",
    "from utils_basic import SPECTROGRAM_DIR as indir, GEO_STATIONS as stations\n",
    "from utils_spec import assemble_spec_filename, find_geo_station_spectral_peaks, save_spectral_peaks, read_geo_spectrograms, read_geo_spec_headers\n",
    "from utils_plot import plot_geo_total_psd_and_peaks, save_figure"
   ]
  },
  {
   "cell_type": "code",
   "execution_count": 2,
   "id": "6994da80-5731-4ca5-8b96-b6f0ca57e96f",
   "metadata": {},
   "outputs": [],
   "source": [
    "# Inputs\n",
    "# Data\n",
    "window_length = 1.0\n",
    "overlap = 0.0\n",
    "downsample = False\n",
    "downsample_factor = 60\n",
    "\n",
    "# Finding peaks\n",
    "rbw_threshold = 0.2\n",
    "prom_threshold = 5\n",
    "freqmin = None\n",
    "freqmax = None\n"
   ]
  },
  {
   "cell_type": "code",
   "execution_count": 3,
   "id": "bc2d773f-45b3-4210-976a-6ef9440dbd75",
   "metadata": {},
   "outputs": [],
   "source": []
  },
  {
   "cell_type": "code",
   "execution_count": 3,
   "id": "9f642ca1-2e96-426e-a985-fa15a65e5512",
   "metadata": {},
   "outputs": [
    {
     "name": "stdout",
     "output_type": "stream",
     "text": [
      "### Working on A01... ###\n",
      "Reading the spectrograms\n"
     ]
    },
    {
     "ename": "KeyboardInterrupt",
     "evalue": "",
     "output_type": "error",
     "traceback": [
      "\u001b[0;31m---------------------------------------------------------------------------\u001b[0m",
      "\u001b[0;31mKeyboardInterrupt\u001b[0m                         Traceback (most recent call last)",
      "Cell \u001b[0;32mIn[3], line 15\u001b[0m\n\u001b[1;32m     13\u001b[0m     filename \u001b[38;5;241m=\u001b[39m assemble_spec_filename(\u001b[38;5;124m\"\u001b[39m\u001b[38;5;124mwhole_deployment\u001b[39m\u001b[38;5;124m\"\u001b[39m, \u001b[38;5;124m\"\u001b[39m\u001b[38;5;124mdaily\u001b[39m\u001b[38;5;124m\"\u001b[39m, \u001b[38;5;124m\"\u001b[39m\u001b[38;5;124mgeo\u001b[39m\u001b[38;5;124m\"\u001b[39m, station, window_length, overlap, downsample)\n\u001b[1;32m     14\u001b[0m     inpath \u001b[38;5;241m=\u001b[39m join(indir, filename)\n\u001b[0;32m---> 15\u001b[0m     stream_spec \u001b[38;5;241m=\u001b[39m \u001b[43mread_geo_spectrograms\u001b[49m\u001b[43m(\u001b[49m\u001b[43minpath\u001b[49m\u001b[43m)\u001b[49m\n\u001b[1;32m     17\u001b[0m \u001b[38;5;66;03m# Loop over blocks\u001b[39;00m\n\u001b[1;32m     18\u001b[0m time_labels \u001b[38;5;241m=\u001b[39m stream_spec\u001b[38;5;241m.\u001b[39mget_time_labels()\n",
      "File \u001b[0;32m~/oman_microearthquakes/utils_spec.py:849\u001b[0m, in \u001b[0;36mread_geo_spectrograms\u001b[0;34m(inpath, time_labels, starttime, endtime, min_freq, max_freq)\u001b[0m\n\u001b[1;32m    846\u001b[0m                 stream_spec\u001b[38;5;241m.\u001b[39mappend(trace_spec)\n\u001b[1;32m    848\u001b[0m \u001b[38;5;66;03m# Stitch the spectrograms if there are multiple blocks\u001b[39;00m\n\u001b[0;32m--> 849\u001b[0m \u001b[43mstream_spec\u001b[49m\u001b[38;5;241;43m.\u001b[39;49m\u001b[43mstitch\u001b[49m\u001b[43m(\u001b[49m\u001b[43m)\u001b[49m\n\u001b[1;32m    851\u001b[0m \u001b[38;5;28;01mreturn\u001b[39;00m stream_spec\n",
      "File \u001b[0;32m~/oman_microearthquakes/utils_spec.py:140\u001b[0m, in \u001b[0;36mStreamSTFTPSD.stitch\u001b[0;34m(self, stations, locations, components, fill_value)\u001b[0m\n\u001b[1;32m    137\u001b[0m stream_to_stitch \u001b[38;5;241m=\u001b[39m \u001b[38;5;28mself\u001b[39m\u001b[38;5;241m.\u001b[39mselect(station\u001b[38;5;241m=\u001b[39mstation, location\u001b[38;5;241m=\u001b[39mlocation, component\u001b[38;5;241m=\u001b[39mcomponent)\n\u001b[1;32m    138\u001b[0m \u001b[38;5;28;01mif\u001b[39;00m \u001b[38;5;28mlen\u001b[39m(stream_to_stitch) \u001b[38;5;241m>\u001b[39m \u001b[38;5;241m1\u001b[39m:\n\u001b[1;32m    139\u001b[0m     \u001b[38;5;66;03m# Stitch the spectrograms\u001b[39;00m\n\u001b[0;32m--> 140\u001b[0m     trace_spec \u001b[38;5;241m=\u001b[39m \u001b[43mstitch_spectrograms\u001b[49m\u001b[43m(\u001b[49m\u001b[43mstream_to_stitch\u001b[49m\u001b[43m,\u001b[49m\u001b[43m \u001b[49m\u001b[43mfill_value\u001b[49m\u001b[43m)\u001b[49m\n\u001b[1;32m    141\u001b[0m     \u001b[38;5;28mself\u001b[39m\u001b[38;5;241m.\u001b[39mappend(trace_spec)\n\u001b[1;32m    143\u001b[0m     \u001b[38;5;66;03m# Delete the original traces\u001b[39;00m\n",
      "File \u001b[0;32m~/oman_microearthquakes/utils_spec.py:488\u001b[0m, in \u001b[0;36mstitch_spectrograms\u001b[0;34m(stream_spec, fill_value)\u001b[0m\n\u001b[1;32m    485\u001b[0m             \u001b[38;5;28mprint\u001b[39m(\u001b[38;5;124mf\u001b[39m\u001b[38;5;124m\"\u001b[39m\u001b[38;5;124mFilled \u001b[39m\u001b[38;5;132;01m{\u001b[39;00mnum_fill\u001b[38;5;132;01m}\u001b[39;00m\u001b[38;5;124m points between them.\u001b[39m\u001b[38;5;124m\"\u001b[39m)\n\u001b[1;32m    487\u001b[0m         \u001b[38;5;66;03m# Stitch the spectrograms\u001b[39;00m\n\u001b[0;32m--> 488\u001b[0m         data_out \u001b[38;5;241m=\u001b[39m \u001b[43mcolumn_stack\u001b[49m\u001b[43m(\u001b[49m\u001b[43m[\u001b[49m\u001b[43mdata_out\u001b[49m\u001b[43m,\u001b[49m\u001b[43m \u001b[49m\u001b[43mdata_in\u001b[49m\u001b[43m]\u001b[49m\u001b[43m)\u001b[49m\n\u001b[1;32m    489\u001b[0m         timeax_out \u001b[38;5;241m=\u001b[39m timeax_out\u001b[38;5;241m.\u001b[39mappend(timeax_in)\n\u001b[1;32m    491\u001b[0m \u001b[38;5;66;03m# Save the stitched spectrogram to a new TraceSTFTPSD object\u001b[39;00m\n",
      "File \u001b[0;32m<__array_function__ internals>:200\u001b[0m, in \u001b[0;36mcolumn_stack\u001b[0;34m(*args, **kwargs)\u001b[0m\n",
      "File \u001b[0;32m~/.conda/envs/test/lib/python3.11/site-packages/numpy/lib/shape_base.py:656\u001b[0m, in \u001b[0;36mcolumn_stack\u001b[0;34m(tup)\u001b[0m\n\u001b[1;32m    654\u001b[0m         arr \u001b[38;5;241m=\u001b[39m array(arr, copy\u001b[38;5;241m=\u001b[39m\u001b[38;5;28;01mFalse\u001b[39;00m, subok\u001b[38;5;241m=\u001b[39m\u001b[38;5;28;01mTrue\u001b[39;00m, ndmin\u001b[38;5;241m=\u001b[39m\u001b[38;5;241m2\u001b[39m)\u001b[38;5;241m.\u001b[39mT\n\u001b[1;32m    655\u001b[0m     arrays\u001b[38;5;241m.\u001b[39mappend(arr)\n\u001b[0;32m--> 656\u001b[0m \u001b[38;5;28;01mreturn\u001b[39;00m \u001b[43m_nx\u001b[49m\u001b[38;5;241;43m.\u001b[39;49m\u001b[43mconcatenate\u001b[49m\u001b[43m(\u001b[49m\u001b[43marrays\u001b[49m\u001b[43m,\u001b[49m\u001b[43m \u001b[49m\u001b[38;5;241;43m1\u001b[39;49m\u001b[43m)\u001b[49m\n",
      "File \u001b[0;32m<__array_function__ internals>:200\u001b[0m, in \u001b[0;36mconcatenate\u001b[0;34m(*args, **kwargs)\u001b[0m\n",
      "\u001b[0;31mKeyboardInterrupt\u001b[0m: "
     ]
    }
   ],
   "source": [
    "# Loop over days and stations\n",
    "peak_dfs = []\n",
    "for station in stations:\n",
    "    print(f\"### Working on {station}... ###\")\n",
    "\n",
    "    # Read the list of time labels\n",
    "    print(\"Reading the list of time labels...\")\n",
    "    if downsample:\n",
    "        filename_in = assemble_spec_filename(\"whole_deployment\", \"daily\", \"geo\", station, window_length, overlap, downsample, downsample_factor = downsample_factor)\n",
    "        inpath = join(indir, filename_in)\n",
    "    else:\n",
    "        filename_in = assemble_spec_filename(\"whole_deployment\", \"daily\", \"geo\", station, window_length, overlap, downsample)\n",
    "        inpath = join(indir, filename_in)\n",
    "\n",
    "    header_dict = read_geo_spec_headers(inpath)\n",
    "    time_labels = header_dict[\"time_labels\"]\n",
    "    \n",
    "    for time_label in time_labels:\n",
    "        # Read the spectrograms\n",
    "        print(f\"Reading the spectrograms of {time_label}...\")\n",
    "        stream_spec = read_geo_spectrograms(inpath, time_labels = [time_label])\n",
    "\n",
    "        # Find the peaks\n",
    "        print(\"Detecting the peaks...\")\n",
    "        peak_df, _ = find_geo_station_spectral_peaks(stream_spec, rbw_threshold = rbw_threshold, prom_threshold = prom_threshold, freqmin = freqmin, freqmax = freqmax)\n",
    "        print(f\"In total, {len(peak_df)} spectral peaks found.\")\n",
    "\n",
    "        # Add the station to the dataframe\n",
    "        peak_df[\"station\"] = station\n",
    "\n",
    "        # Append to the list\n",
    "        peak_dfs.append(peak_df)"
   ]
  },
  {
   "cell_type": "code",
   "execution_count": null,
   "id": "340c06b5-ac50-43be-9022-646a159e7d0b",
   "metadata": {},
   "outputs": [],
   "source": [
    "# Save the results\n",
    "peak_df = concat(peak_dfs)\n",
    "peak_df.drop_duplicates(subset = [\"station\", \"time\", \"frequency\"], inplace = True)\n",
    "peak_df.reset_index(drop = True, inplace = True)\n",
    "\n",
    "print(\"Saving the results...\")\n",
    "outdir = indir\n",
    "if downsample:\n",
    "    filename = f\"geo_spectral_peaks_window{window_length:.0f}s_overlap{overlap:.1f}_downsample{downsample_factor:d}_prom{prom_threshold:.0f}db_rbw{rbw_threshold:.1f}.csv\"\n",
    "else:\n",
    "    filename = f\"geo_spectral_peaks_window{window_length:.0f}s_overlap{overlap:.1f}_prom{prom_threshold:.0f}db_rbw{rbw_threshold:.1f}.csv\"\n",
    "    \n",
    "outpath = join(outdir, filename)\n",
    "\n",
    "save_spectral_peaks(peak_df, outpath)\n",
    "print(f\"Results saved to {outpath}\")"
   ]
  }
 ],
 "metadata": {
  "kernelspec": {
   "display_name": "Python 3 (ipykernel)",
   "language": "python",
   "name": "python3"
  },
  "language_info": {
   "codemirror_mode": {
    "name": "ipython",
    "version": 3
   },
   "file_extension": ".py",
   "mimetype": "text/x-python",
   "name": "python",
   "nbconvert_exporter": "python",
   "pygments_lexer": "ipython3",
   "version": "3.11.8"
  }
 },
 "nbformat": 4,
 "nbformat_minor": 5
}
