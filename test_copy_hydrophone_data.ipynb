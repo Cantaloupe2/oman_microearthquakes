{
 "cells": [
  {
   "cell_type": "markdown",
   "metadata": {},
   "source": [
    "# Test copying the hydrophone data from Rob's disk to my local disk"
   ]
  },
  {
   "cell_type": "code",
   "execution_count": 58,
   "metadata": {},
   "outputs": [],
   "source": [
    "from os.path import join, exists, basename\n",
    "from os import makedirs\n",
    "from obspy import read, read_inventory, Stream\n",
    "from glob import glob\n",
    "from numpy import amax\n",
    "from matplotlib.pyplot import figure, subplots\n",
    "from pandas import to_datetime\n",
    "from sys import getsizeof\n",
    "\n",
    "from utils_basic import ROOTDIR_HYDRO, METAPATH_HYDRO, HYDRO_STATIONS, HYDRO_LOCATIONS, NETWORK"
   ]
  },
  {
   "cell_type": "code",
   "execution_count": 59,
   "metadata": {},
   "outputs": [],
   "source": [
    "inpath_hydro = \"/Volumes/Oman4/Hydrophones/DAYS/A00/A00.7F.01.GDH.2019.134\"\n",
    "inpath_geo = \"/Volumes/OmanData/data/geophones/2020-01-10-13-00-00/7F.A01.2020-01-10-13-00-00..GH1.SAC\"\n",
    "outpath = join(ROOTDIR_HYDRO, \"test.sac\")\n",
    "metapath = join(ROOTDIR_HYDRO, \"station_metadata.xml\")"
   ]
  },
  {
   "cell_type": "code",
   "execution_count": 60,
   "metadata": {},
   "outputs": [
    {
     "name": "stdout",
     "output_type": "stream",
     "text": [
      "<class 'numpy.int32'>\n",
      "<class 'numpy.float32'>\n"
     ]
    }
   ],
   "source": [
    "stream_hydro = read(inpath_hydro)\n",
    "trace_hydro = stream_hydro[0]\n",
    "\n",
    "stream_geo = read(inpath_geo)\n",
    "trace_geo = stream_geo[0]\n",
    "\n",
    "print(type(trace_hydro.data[0]))\n",
    "print(type(trace_geo.data[0]))\n"
   ]
  },
  {
   "cell_type": "code",
   "execution_count": 61,
   "metadata": {},
   "outputs": [],
   "source": [
    "inventory = read_inventory(metapath)\n",
    "\n",
    "trace_hydro = stream_hydro[0]\n",
    "trace_hydro.remove_sensitivity(inventory=inventory)\n",
    "\n",
    "trace_hydro.data = trace_hydro.data.astype(\"float32\")\n",
    "\n",
    "trace_hydro.write(outpath, format=\"SAC\")"
   ]
  }
 ],
 "metadata": {
  "kernelspec": {
   "display_name": "obspy",
   "language": "python",
   "name": "python3"
  },
  "language_info": {
   "codemirror_mode": {
    "name": "ipython",
    "version": 3
   },
   "file_extension": ".py",
   "mimetype": "text/x-python",
   "name": "python",
   "nbconvert_exporter": "python",
   "pygments_lexer": "ipython3",
   "version": "3.11.6"
  }
 },
 "nbformat": 4,
 "nbformat_minor": 2
}
