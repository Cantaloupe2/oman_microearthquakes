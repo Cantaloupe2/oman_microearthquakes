{
 "cells": [
  {
   "cell_type": "code",
   "execution_count": 1,
   "id": "f6d4f9ce-8db1-4114-a7d9-719f3b6ff76c",
   "metadata": {},
   "outputs": [],
   "source": [
    "from torch import tensor, stft, hann_window, abs, square\n",
    "from torch.cuda import is_available\n",
    "from time import time\n",
    "from os import makedirs\n",
    "from os.path import join\n",
    "\n",
    "from utils_basic import SPECTROGRAM_DIR as outdir#, HYDRO_STATIONS as stations\n",
    "from utils_basic import get_geo_metadata, get_geophone_days\n",
    "from utils_torch import get_hourly_hydro_spectrograms_for_a_day\n",
    "from utils_spec import save_hydro_spectrograms\n",
    "from utils_preproc import read_and_process_day_long_hydro_waveforms"
   ]
  },
  {
   "cell_type": "code",
   "execution_count": 2,
   "id": "cd984a2d-2552-4859-a1d9-91bbb1789cf3",
   "metadata": {},
   "outputs": [],
   "source": [
    "# Inputs\n",
    "stations = [\"B00\"]\n",
    "cuda = False\n",
    "window_length = 1.0\n",
    "overlap = 0.0\n",
    "downsample = False\n",
    "\n",
    "outdir = join(outdir, \"hourly\")"
   ]
  },
  {
   "cell_type": "code",
   "execution_count": 3,
   "id": "768c25e0-f9cc-4eb2-9d7f-3ff3dc6a1260",
   "metadata": {},
   "outputs": [],
   "source": [
    "# Check if CUDA is available\n",
    "if cuda == True:\n",
    "    if is_available():\n",
    "        print(\"GPU is available\")\n",
    "    else:\n",
    "        print(\"GPU is NOT available\")"
   ]
  },
  {
   "cell_type": "code",
   "execution_count": 4,
   "id": "e6153bb9-d852-42c1-b022-f6be42a236d5",
   "metadata": {},
   "outputs": [],
   "source": [
    "# Load the list of days\n",
    "days = [\"2020-01-13\"]"
   ]
  },
  {
   "cell_type": "code",
   "execution_count": 5,
   "id": "2594562f-85e4-4298-ac84-89500b7db42c",
   "metadata": {},
   "outputs": [],
   "source": [
    "# Create the output directory\n",
    "makedirs(outdir, exist_ok = True)"
   ]
  },
  {
   "cell_type": "code",
   "execution_count": 6,
   "id": "463604e7-b223-41bc-a7a7-588e6cee464e",
   "metadata": {},
   "outputs": [
    {
     "name": "stdout",
     "output_type": "stream",
     "text": [
      "######\n",
      "Working on 2020-01-13 for B00...\n",
      "######\n",
      "Reading and preprocessing the waveforms...\n",
      "Reading the waveforms for 2020-01-13\n",
      "Preprocessing the waveforms...\n",
      "Computing hourly spectrograms...\n",
      "Not all locations are availalbe for the hour! The hour is skipped for all locations.\n",
      "Data of B00.01 is shorter than an hour. The hour is skipped for all locations.\n",
      "Computing the spectrograms for starttime 2020-01-13T02:00:00.000000Z...\n",
      "Computing the spectrograms for starttime 2020-01-13T03:00:00.000000Z...\n",
      "Computing the spectrograms for starttime 2020-01-13T04:00:00.000000Z...\n",
      "Computing the spectrograms for starttime 2020-01-13T05:00:00.000000Z...\n",
      "Computing the spectrograms for starttime 2020-01-13T06:00:00.000000Z...\n",
      "Computing the spectrograms for starttime 2020-01-13T07:00:00.000000Z...\n",
      "Computing the spectrograms for starttime 2020-01-13T08:00:00.000000Z...\n",
      "Computing the spectrograms for starttime 2020-01-13T09:00:00.000000Z...\n",
      "Computing the spectrograms for starttime 2020-01-13T10:00:00.000000Z...\n",
      "Computing the spectrograms for starttime 2020-01-13T11:00:00.000000Z...\n",
      "Computing the spectrograms for starttime 2020-01-13T12:00:00.000000Z...\n",
      "Computing the spectrograms for starttime 2020-01-13T13:00:00.000000Z...\n",
      "Computing the spectrograms for starttime 2020-01-13T14:00:00.000000Z...\n",
      "Computing the spectrograms for starttime 2020-01-13T15:00:00.000000Z...\n",
      "Computing the spectrograms for starttime 2020-01-13T16:00:00.000000Z...\n",
      "Computing the spectrograms for starttime 2020-01-13T17:00:00.000000Z...\n",
      "Computing the spectrograms for starttime 2020-01-13T18:00:00.000000Z...\n",
      "Computing the spectrograms for starttime 2020-01-13T19:00:00.000000Z...\n",
      "Computing the spectrograms for starttime 2020-01-13T20:00:00.000000Z...\n",
      "Computing the spectrograms for starttime 2020-01-13T21:00:00.000000Z...\n",
      "Computing the spectrograms for starttime 2020-01-13T22:00:00.000000Z...\n",
      "Computing the spectrograms for starttime 2020-01-13T23:00:00.000000Z...\n",
      "Saving the spectrograms...\n",
      "Spectrograms saved to /fp/projects01/ec332/data/spectrograms/hourly/hourly_hydro_spectrograms_20200113020000_B00_window1s_overlap0.0.h5\n",
      "Spectrograms saved to /fp/projects01/ec332/data/spectrograms/hourly/hourly_hydro_spectrograms_20200113030000_B00_window1s_overlap0.0.h5\n",
      "Spectrograms saved to /fp/projects01/ec332/data/spectrograms/hourly/hourly_hydro_spectrograms_20200113040000_B00_window1s_overlap0.0.h5\n",
      "Spectrograms saved to /fp/projects01/ec332/data/spectrograms/hourly/hourly_hydro_spectrograms_20200113050000_B00_window1s_overlap0.0.h5\n",
      "Spectrograms saved to /fp/projects01/ec332/data/spectrograms/hourly/hourly_hydro_spectrograms_20200113060000_B00_window1s_overlap0.0.h5\n",
      "Spectrograms saved to /fp/projects01/ec332/data/spectrograms/hourly/hourly_hydro_spectrograms_20200113070000_B00_window1s_overlap0.0.h5\n",
      "Spectrograms saved to /fp/projects01/ec332/data/spectrograms/hourly/hourly_hydro_spectrograms_20200113080000_B00_window1s_overlap0.0.h5\n",
      "Spectrograms saved to /fp/projects01/ec332/data/spectrograms/hourly/hourly_hydro_spectrograms_20200113090000_B00_window1s_overlap0.0.h5\n",
      "Spectrograms saved to /fp/projects01/ec332/data/spectrograms/hourly/hourly_hydro_spectrograms_20200113100000_B00_window1s_overlap0.0.h5\n",
      "Spectrograms saved to /fp/projects01/ec332/data/spectrograms/hourly/hourly_hydro_spectrograms_20200113110000_B00_window1s_overlap0.0.h5\n",
      "Spectrograms saved to /fp/projects01/ec332/data/spectrograms/hourly/hourly_hydro_spectrograms_20200113120000_B00_window1s_overlap0.0.h5\n",
      "Spectrograms saved to /fp/projects01/ec332/data/spectrograms/hourly/hourly_hydro_spectrograms_20200113130000_B00_window1s_overlap0.0.h5\n",
      "Spectrograms saved to /fp/projects01/ec332/data/spectrograms/hourly/hourly_hydro_spectrograms_20200113140000_B00_window1s_overlap0.0.h5\n",
      "Spectrograms saved to /fp/projects01/ec332/data/spectrograms/hourly/hourly_hydro_spectrograms_20200113150000_B00_window1s_overlap0.0.h5\n",
      "Spectrograms saved to /fp/projects01/ec332/data/spectrograms/hourly/hourly_hydro_spectrograms_20200113160000_B00_window1s_overlap0.0.h5\n",
      "Spectrograms saved to /fp/projects01/ec332/data/spectrograms/hourly/hourly_hydro_spectrograms_20200113170000_B00_window1s_overlap0.0.h5\n",
      "Spectrograms saved to /fp/projects01/ec332/data/spectrograms/hourly/hourly_hydro_spectrograms_20200113180000_B00_window1s_overlap0.0.h5\n",
      "Spectrograms saved to /fp/projects01/ec332/data/spectrograms/hourly/hourly_hydro_spectrograms_20200113190000_B00_window1s_overlap0.0.h5\n",
      "Spectrograms saved to /fp/projects01/ec332/data/spectrograms/hourly/hourly_hydro_spectrograms_20200113200000_B00_window1s_overlap0.0.h5\n",
      "Spectrograms saved to /fp/projects01/ec332/data/spectrograms/hourly/hourly_hydro_spectrograms_20200113210000_B00_window1s_overlap0.0.h5\n",
      "Spectrograms saved to /fp/projects01/ec332/data/spectrograms/hourly/hourly_hydro_spectrograms_20200113220000_B00_window1s_overlap0.0.h5\n",
      "Spectrograms saved to /fp/projects01/ec332/data/spectrograms/hourly/hourly_hydro_spectrograms_20200113230000_B00_window1s_overlap0.0.h5\n",
      "Elapsed time: 18.170752 s\n"
     ]
    }
   ],
   "source": [
    "# Loop over all days and stations\n",
    "for day in days:\n",
    "    for station in stations:\n",
    "        print(\"######\")\n",
    "        print(f\"Working on {day} for {station}...\")\n",
    "        print(\"######\")\n",
    "        \n",
    "        clock1 = time()\n",
    "\n",
    "        # Read and preprocess\n",
    "        print(f\"Reading and preprocessing the waveforms...\")\n",
    "        stream_day = read_and_process_day_long_hydro_waveforms(day, stations = station)\n",
    "\n",
    "        if stream_day == None:\n",
    "            print(\"No data found! Skipped.\")\n",
    "            continue\n",
    "\n",
    "        # Compute the hourly spectrograms\n",
    "        print(f\"Computing hourly spectrograms...\")\n",
    "        stream_spec, stream_spec_ds = get_hourly_hydro_spectrograms_for_a_day(stream_day, \n",
    "                                                                            window_length = window_length, overlap = overlap, cuda = cuda, downsample = downsample)\n",
    "        # Save the results     \n",
    "        print(\"Saving the spectrograms...\")\n",
    "        time_labels = stream_spec.get_time_labels()\n",
    "        for time_label in time_labels:\n",
    "            stream_spec_hour = stream_spec.select(time_label = time_label)\n",
    "            \n",
    "            filename = f\"hourly_hydro_spectrograms_{time_label}_{station}_window{window_length:.0f}s_overlap{overlap:.1f}.h5\"\n",
    "            save_hydro_spectrograms(stream_spec_hour, filename, outdir = outdir)\n",
    "        \n",
    "        clock2 = time()\n",
    "        \n",
    "        elapse_time = clock2 - clock1\n",
    "        print(f\"Elapsed time: {elapse_time:f} s\")"
   ]
  },
  {
   "cell_type": "code",
   "execution_count": 7,
   "id": "c4a02d0c-9fed-4fff-8024-799a205be73c",
   "metadata": {},
   "outputs": [
    {
     "data": {
      "text/plain": [
       "132"
      ]
     },
     "execution_count": 7,
     "metadata": {},
     "output_type": "execute_result"
    }
   ],
   "source": [
    "len(stream_spec)"
   ]
  },
  {
   "cell_type": "code",
   "execution_count": null,
   "id": "3f1c825f-d6ec-4c47-bc20-cf4c21fe72ef",
   "metadata": {},
   "outputs": [],
   "source": []
  }
 ],
 "metadata": {
  "kernelspec": {
   "display_name": "Python 3 (ipykernel)",
   "language": "python",
   "name": "python3"
  },
  "language_info": {
   "codemirror_mode": {
    "name": "ipython",
    "version": 3
   },
   "file_extension": ".py",
   "mimetype": "text/x-python",
   "name": "python",
   "nbconvert_exporter": "python",
   "pygments_lexer": "ipython3",
   "version": "3.11.8"
  }
 },
 "nbformat": 4,
 "nbformat_minor": 5
}
