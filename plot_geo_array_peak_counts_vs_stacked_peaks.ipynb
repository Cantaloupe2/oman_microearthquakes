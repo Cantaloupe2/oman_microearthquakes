{
 "cells": [
  {
   "cell_type": "markdown",
   "metadata": {},
   "source": [
    "# Plot the comparison between the array spectral-peak counts and the spectral peaks found from stacked spectrograms color coded by peak powers and reverse bandwidth"
   ]
  },
  {
   "cell_type": "code",
   "execution_count": null,
   "metadata": {},
   "outputs": [],
   "source": [
    "# Imports\n",
    "from os.path import join\n",
    "from pandas import read_csv, to_datetime\n",
    "\n",
    "from utils_basic import SPECTROGRAM_DIR as indir, GEO_STATIONS as stations, STARTTIME_GEO as starttime, ENDTIME_GEO as endtime\n",
    "from utils_basic import get_day_begin_and_end\n",
    "from utils_spec import assemble_spec_filename, get_spectrogram_file_suffix, get_spec_peak_file_suffix, string_to_time_label, read_geo_spectrograms, read_spectral_peaks, read_spectral_peak_counts\n",
    "from utils_plot import plot_array_peak_counts_vs_stacked_peaks, save_figure"
   ]
  },
  {
   "cell_type": "code",
   "execution_count": null,
   "metadata": {},
   "outputs": [],
   "source": [
    "# Inputs\n",
    "# Data\n",
    "min_freq = 0.0\n",
    "max_freq = 200.0\n",
    "window_length = 1.0\n",
    "overlap = 0.0\n",
    "downsample = False\n",
    "downsample_factor = 60\n",
    "\n",
    "starttime = \"2020-01-13T20:00:00\"\n",
    "endtime = \"2020-01-13T20:59:59\"\n",
    "\n",
    "prom_threshold = 10.0\n",
    "rbw_threshold = 0.2\n",
    "\n",
    "count_threshold = 4\n",
    "\n",
    "file_format_in = \"h5\"\n",
    "\n",
    "# Plotting\n",
    "marker_size = 3\n",
    "size_scale = 30\n",
    "\n",
    "date_format = \"%Y-%m-%d %H:%M:%S\"\n",
    "major_time_spacing = \"15min\"\n",
    "minor_time_spacing = \"5min\"\n",
    "time_tick_rotation = 5.0\n",
    "\n",
    "major_freq_spacing = 50\n",
    "minor_freq_spacing = 10\n",
    "\n",
    "dbmin = -30\n",
    "dbmax = 10\n",
    "\n",
    "rbwmin = rbw_threshold\n",
    "rbwmax = 0.5\n"
   ]
  },
  {
   "cell_type": "code",
   "execution_count": null,
   "metadata": {},
   "outputs": [],
   "source": [
    "# Read the spectral-peak counts\n",
    "suffix_spec = get_spectrogram_file_suffix(window_length, overlap, downsample, downsample_factor = downsample_factor)\n",
    "suffix_peak = get_spec_peak_file_suffix(prom_threshold, rbw_threshold, min_freq = min_freq, max_freq = max_freq)\n",
    "\n",
    "filename = f\"geo_spectral_peak_counts_{suffix_spec}_{suffix_peak}.{file_format_in}\"\n",
    "inpath = join(indir, filename)\n",
    "count_df = read_spectral_peak_counts(inpath)\n",
    "\n",
    "count_df = count_df.loc[(count_df[\"time\"] > starttime) & (count_df[\"time\"] < endtime)]"
   ]
  },
  {
   "cell_type": "code",
   "execution_count": null,
   "metadata": {},
   "outputs": [],
   "source": [
    "# Read the spectral peaks found from the stacked spectrograms\n",
    "filename = f\"geo_stack_spectral_peaks_{suffix_spec}_{suffix_peak}.{file_format_in}\"\n",
    "inpath = join(indir, filename)\n",
    "peak_df = read_spectral_peaks(inpath)\n",
    "\n",
    "peak_df = peak_df.loc[(peak_df[\"time\"] > starttime) & (peak_df[\"time\"] < endtime)]"
   ]
  },
  {
   "cell_type": "code",
   "execution_count": null,
   "metadata": {},
   "outputs": [],
   "source": [
    "# Plot the spectral-peak counts vs. the stacked peaks\n",
    "fig, axes, power_cbar, rbw_cbar = plot_array_peak_counts_vs_stacked_peaks(count_df, peak_df,\n",
    "                                                                        size_scale = size_scale, marker_size = marker_size,\n",
    "                                                                        date_format = date_format,\n",
    "                                                                        major_time_spacing = major_time_spacing, minor_time_spacing = minor_time_spacing,\n",
    "                                                                        time_tick_rotation = time_tick_rotation, \n",
    "                                                                        major_freq_spacing = major_freq_spacing, minor_freq_spacing = minor_freq_spacing,\n",
    "                                                                        dbmin = dbmin, dbmax = dbmax,\n",
    "                                                                        rbwmin = rbwmin, rbwmax = rbwmax)"
   ]
  }
 ],
 "metadata": {
  "language_info": {
   "name": "python"
  }
 },
 "nbformat": 4,
 "nbformat_minor": 2
}
