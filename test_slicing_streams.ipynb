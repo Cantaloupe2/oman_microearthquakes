{
 "cells": [
  {
   "cell_type": "markdown",
   "metadata": {},
   "source": [
    "# Verify the begin and end time of sliced ObsPy stream objects"
   ]
  },
  {
   "cell_type": "code",
   "execution_count": 76,
   "metadata": {},
   "outputs": [],
   "source": [
    "from os.path import join\n",
    "from obspy import read, UTCDateTime\n",
    "\n",
    "from utils_basic import get_geo_metadata\n",
    "from utils_preproc import read_and_process_day_long_geo_waveforms, read_and_process_day_long_hydro_waveforms"
   ]
  },
  {
   "cell_type": "code",
   "execution_count": 77,
   "metadata": {},
   "outputs": [],
   "source": [
    "# Inputs\n",
    "station = \"B00\"\n",
    "day = \"2020-01-13\"\n",
    "starttime = UTCDateTime(\"2020-01-13T01:00:00\")"
   ]
  },
  {
   "cell_type": "code",
   "execution_count": 78,
   "metadata": {},
   "outputs": [],
   "source": [
    "# Read the station metadata\n",
    "metadata = get_geo_metadata()"
   ]
  },
  {
   "cell_type": "code",
   "execution_count": 79,
   "metadata": {},
   "outputs": [
    {
     "name": "stdout",
     "output_type": "stream",
     "text": [
      "Reading the waveforms for 2020-01-13\n",
      "Preprocessing the waveforms...\n",
      "2020-01-13T01:34:08.998000Z\n",
      "2020-01-14T00:00:03.890000Z\n",
      "80754.892\n",
      "80754893\n"
     ]
    }
   ],
   "source": [
    "# Read the waveforms\n",
    "stream = read_and_process_day_long_hydro_waveforms(day, stations = station)\n",
    "print(stream[0].stats.starttime)\n",
    "print(stream[0].stats.endtime)\n",
    "print(stream[0].stats.endtime - stream[0].stats.starttime)\n",
    "print(len(stream[0].data))"
   ]
  },
  {
   "cell_type": "code",
   "execution_count": 80,
   "metadata": {},
   "outputs": [
    {
     "name": "stdout",
     "output_type": "stream",
     "text": [
      "2020-01-13T01:34:08.998000Z\n",
      "1551003\n"
     ]
    }
   ],
   "source": [
    "# Slice the waveforms\n",
    "stream_slice = stream.slice(starttime = starttime, endtime = starttime + 3600.0, keep_empty_traces = False)\n",
    "print(stream_slice[0].stats.starttime)\n",
    "print(len(stream_slice[0].data))"
   ]
  },
  {
   "cell_type": "code",
   "execution_count": null,
   "metadata": {},
   "outputs": [],
   "source": []
  }
 ],
 "metadata": {
  "kernelspec": {
   "display_name": "obspy",
   "language": "python",
   "name": "python3"
  },
  "language_info": {
   "codemirror_mode": {
    "name": "ipython",
    "version": 3
   },
   "file_extension": ".py",
   "mimetype": "text/x-python",
   "name": "python",
   "nbconvert_exporter": "python",
   "pygments_lexer": "ipython3",
   "version": "3.11.6"
  }
 },
 "nbformat": 4,
 "nbformat_minor": 2
}
