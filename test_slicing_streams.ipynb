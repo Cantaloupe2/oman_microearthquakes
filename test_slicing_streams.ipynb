{
 "cells": [
  {
   "cell_type": "markdown",
   "metadata": {},
   "source": [
    "# Verify the begin and end time of sliced ObsPy stream objects"
   ]
  },
  {
   "cell_type": "code",
   "execution_count": null,
   "metadata": {},
   "outputs": [],
   "source": [
    "from os.path import join\n",
    "from obspy import read, UTCDateTime\n",
    "\n",
    "from utils_basic import get_geo_metadata\n",
    "from utils_preproc import read_and_process_day_long_geo_waveforms"
   ]
  },
  {
   "cell_type": "code",
   "execution_count": null,
   "metadata": {},
   "outputs": [],
   "source": [
    "# Inputs\n",
    "station = \"A09\"\n",
    "day = \"2020-01-10\"\n",
    "starttime = UTCDateTime(\"2020-01-10T00:00:00\")"
   ]
  },
  {
   "cell_type": "code",
   "execution_count": null,
   "metadata": {},
   "outputs": [],
   "source": [
    "# Read the station metadata\n",
    "metadata = get_geo_metadata()"
   ]
  },
  {
   "cell_type": "code",
   "execution_count": null,
   "metadata": {},
   "outputs": [],
   "source": [
    "# Read the waveforms\n",
    "stream = read_and_process_day_long_geo_waveforms(day, metadata, station = station)"
   ]
  },
  {
   "cell_type": "code",
   "execution_count": null,
   "metadata": {},
   "outputs": [],
   "source": [
    "# Slice the waveforms\n",
    "stream_slice = stream.slice(starttime = starttime, endtime = starttime + 60.0, keep_empty_traces = True)\n",
    "print(stream_slice[0].starttime)\n",
    "print(stream_slice[0].data)"
   ]
  }
 ],
 "metadata": {
  "language_info": {
   "name": "python"
  }
 },
 "nbformat": 4,
 "nbformat_minor": 2
}
