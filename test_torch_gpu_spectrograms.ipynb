{
 "cells": [
  {
   "cell_type": "markdown",
   "id": "a4c4b252-c624-4b6c-9d72-49f6dcdd0095",
   "metadata": {},
   "source": [
    "# Test using PyTorch with GPU acceleration to compute spectrograms"
   ]
  },
  {
   "cell_type": "code",
   "execution_count": 1,
   "id": "7a4824a8-9128-4350-8806-597ef42d8dcc",
   "metadata": {},
   "outputs": [],
   "source": [
    "from torch import tensor, stft, hann_window, abs, square\n",
    "from torch.cuda import is_available\n",
    "from time import time\n",
    "from os import makedirs\n",
    "\n",
    "from utils_basic import SPECTROGRAM_DIR as outdir, GEO_STATIONS as stations\n",
    "from utils_basic import get_geo_metadata, get_geophone_days\n",
    "from utils_torch import get_day_long_spectrograms\n",
    "from utils_spec import save_geo_spectrogram\n",
    "from utils_preproc import read_and_process_day_long_geo_waveforms\n",
    "from utils_plot import plot_long_term_stft_spectrograms"
   ]
  },
  {
   "cell_type": "code",
   "execution_count": 4,
   "id": "e5e2df4d-e546-49a2-b063-437fb0ab0c35",
   "metadata": {},
   "outputs": [],
   "source": [
    "# Inputs\n",
    "cuda = True\n",
    "window_length = 100.0 \n",
    "overlap = 0.5\n",
    "downsample_factor = 100"
   ]
  },
  {
   "cell_type": "code",
   "execution_count": 5,
   "id": "75cf87d7-d408-45c8-bf9c-cd57521af61b",
   "metadata": {},
   "outputs": [
    {
     "name": "stdout",
     "output_type": "stream",
     "text": [
      "GPU is NOT available\n"
     ]
    }
   ],
   "source": [
    "# Check if CUDA is available\n",
    "if cuda == True:\n",
    "    if is_available():\n",
    "        print(\"GPU is available\")\n",
    "    else:\n",
    "        print(\"GPU is NOT available\")"
   ]
  },
  {
   "cell_type": "code",
   "execution_count": null,
   "id": "d2adea54-2371-445d-ab49-27e4706456a4",
   "metadata": {},
   "outputs": [],
   "source": []
  }
 ],
 "metadata": {
  "kernelspec": {
   "display_name": "Python 3 (ipykernel)",
   "language": "python",
   "name": "python3"
  },
  "language_info": {
   "codemirror_mode": {
    "name": "ipython",
    "version": 3
   },
   "file_extension": ".py",
   "mimetype": "text/x-python",
   "name": "python",
   "nbconvert_exporter": "python",
   "pygments_lexer": "ipython3",
   "version": "3.11.8"
  }
 },
 "nbformat": 4,
 "nbformat_minor": 5
}
