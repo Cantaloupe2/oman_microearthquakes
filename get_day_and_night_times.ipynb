{
 "cells": [
  {
   "cell_type": "markdown",
   "metadata": {},
   "source": [
    "# Generate the day and night time windows"
   ]
  },
  {
   "cell_type": "code",
   "execution_count": 6,
   "metadata": {},
   "outputs": [],
   "source": [
    "# Import modules\n",
    "from os.path import join\n",
    "from pandas import DataFrame, Timestamp, Timedelta, date_range\n",
    "from utils_basic import ROOTDIR, utc_to_local, local_to_utc"
   ]
  },
  {
   "cell_type": "code",
   "execution_count": 7,
   "metadata": {},
   "outputs": [],
   "source": [
    "# Inputs\n",
    "starttime_utc = \"2020-01-10T00:00:00\"\n",
    "endtime_utc = \"2020-02-02T23:59:59\"\n",
    "\n",
    "sunrise = 6\n",
    "sunset = 18"
   ]
  },
  {
   "cell_type": "code",
   "execution_count": 8,
   "metadata": {},
   "outputs": [],
   "source": [
    "# Convert start and end times to UTC timestamps\n",
    "starttime_utc = Timestamp(starttime_utc, tz='UTC')\n",
    "endtime_utc = Timestamp(endtime_utc, tz='UTC')\n",
    "\n",
    "# Convert start and end times to local timestamps in Muscat\n",
    "starttime_local = utc_to_local(starttime_utc, \"Asia/Muscat\")\n",
    "endtime_local = utc_to_local(endtime_utc, \"Asia/Muscat\")\n",
    "\n",
    "# Generate time intervals for 6 am to 6 pm\n",
    "intervals_day = date_range(start=starttime_local.replace(hour=sunrise), end=endtime_local.replace(hour=sunset), freq='12H')\n",
    "intervals_night = date_range(start=starttime_local.replace(hour=sunset), end=endtime_local.replace(hour=sunrise), freq='12H')\n",
    "\n",
    "# Assemble the output dataframe for the days and nights\n",
    "i = 0\n",
    "days = []\n",
    "while i < len(intervals_day)-1:\n",
    "    days.append({\"starttime\": intervals_day[i], \"endtime\": intervals_day[i+1]})\n",
    "    i += 2\n",
    "days = DataFrame(days)\n",
    "\n",
    "i = 0\n",
    "nights = []\n",
    "while i < len(intervals_night)-1:\n",
    "    nights.append({\"starttime\": intervals_night[i], \"endtime\": intervals_night[i+1]})\n",
    "    i += 2\n",
    "nights = DataFrame(nights)"
   ]
  },
  {
   "cell_type": "code",
   "execution_count": 9,
   "metadata": {},
   "outputs": [],
   "source": [
    "# Save to file\n",
    "outpath = join(ROOTDIR, \"days.csv\")\n",
    "days.to_csv(outpath, index=True)\n",
    "\n",
    "outpath = join(ROOTDIR, \"nights.csv\")\n",
    "nights.to_csv(outpath, index=True)"
   ]
  }
 ],
 "metadata": {
  "kernelspec": {
   "display_name": "obspy",
   "language": "python",
   "name": "python3"
  },
  "language_info": {
   "codemirror_mode": {
    "name": "ipython",
    "version": 3
   },
   "file_extension": ".py",
   "mimetype": "text/x-python",
   "name": "python",
   "nbconvert_exporter": "python",
   "pygments_lexer": "ipython3",
   "version": "3.11.6"
  }
 },
 "nbformat": 4,
 "nbformat_minor": 2
}
