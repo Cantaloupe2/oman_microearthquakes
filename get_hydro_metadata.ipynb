{
 "cells": [
  {
   "cell_type": "markdown",
   "metadata": {},
   "source": [
    "# Get the hydrophone metadata from the IRIS DMC"
   ]
  },
  {
   "cell_type": "code",
   "execution_count": 14,
   "metadata": {},
   "outputs": [],
   "source": [
    "# Import modules\n",
    "\n",
    "from obspy.clients.fdsn import Client\n",
    "from obspy import UTCDateTime\n",
    "from os.path import join\n",
    "\n",
    "from utils_basic import ROOTDIR_HYDRO, STARTTIME_HYDRO, ENDTIME_HYDRO, NETWORK, HYDRO_STATIONS, MIN_LONGITUDE, MAX_LONGITUDE, MIN_LATITUDE, MAX_LATITUDE\n"
   ]
  },
  {
   "cell_type": "code",
   "execution_count": 15,
   "metadata": {},
   "outputs": [],
   "source": [
    "# Inputs\n",
    "network = NETWORK  \n",
    "stations = HYDRO_STATIONS  \n",
    "\n",
    "starttime = UTCDateTime(STARTTIME_HYDRO)\n",
    "endtime = UTCDateTime(ENDTIME_HYDRO)\n",
    "\n",
    "minlon = MIN_LONGITUDE\n",
    "maxlon = MAX_LONGITUDE\n",
    "minlat = MIN_LATITUDE\n",
    "maxlat = MAX_LATITUDE\n",
    "\n",
    "client = Client(\"IRIS\")"
   ]
  },
  {
   "cell_type": "code",
   "execution_count": 16,
   "metadata": {},
   "outputs": [
    {
     "name": "stdout",
     "output_type": "stream",
     "text": [
      "Inventory created at 2024-03-04T20:22:55.108200Z\n",
      "\tCreated by: IRIS WEB SERVICE: fdsnws-station | version: 1.1.52\n",
      "\t\t    http://service.iris.edu/fdsnws/station/1/query?starttime=2019-05-...\n",
      "\tSending institution: IRIS-DMC (IRIS-DMC)\n",
      "\tContains:\n",
      "\t\tNetworks (1):\n",
      "\t\t\t7F\n",
      "\t\tStations (2):\n",
      "\t\t\t7F.A00 (A00)\n",
      "\t\t\t7F.B00 (B00)\n",
      "\t\tChannels (12):\n",
      "\t\t\t7F.A00.01.GDH, 7F.A00.02.GDH, 7F.A00.03.GDH, 7F.A00.04.GDH, \n",
      "\t\t\t7F.A00.05.GDH, 7F.A00.06.GDH, 7F.B00.01.GDH, 7F.B00.02.GDH, \n",
      "\t\t\t7F.B00.03.GDH, 7F.B00.04.GDH, 7F.B00.05.GDH, 7F.B00.06.GDH\n"
     ]
    }
   ],
   "source": [
    "# Fetch station metadata\n",
    "while True:\n",
    "    try:\n",
    "        inventory = client.get_stations(network=network, starttime=starttime, endtime=endtime, channel=\"GDH\", level=\"response\")\n",
    "        break\n",
    "    except KeyboardInterrupt:\n",
    "        raise\n",
    "    except Exception as exception:\n",
    "        print(exception)\n",
    "        continue\n",
    "        \n",
    "\n",
    "print(inventory)"
   ]
  },
  {
   "cell_type": "code",
   "execution_count": 17,
   "metadata": {},
   "outputs": [
    {
     "name": "stdout",
     "output_type": "stream",
     "text": [
      "Station metadata saved to /Volumes/OmanData/data/hydrophones/station_metadata.xml\n"
     ]
    }
   ],
   "source": [
    "# Save station metadata\n",
    "outpath = join(ROOTDIR_HYDRO, 'station_metadata.xml')\n",
    "inventory.write(outpath, format='STATIONXML')\n",
    "\n",
    "print('Station metadata saved to', outpath)"
   ]
  }
 ],
 "metadata": {
  "kernelspec": {
   "display_name": "obspy",
   "language": "python",
   "name": "python3"
  },
  "language_info": {
   "codemirror_mode": {
    "name": "ipython",
    "version": 3
   },
   "file_extension": ".py",
   "mimetype": "text/x-python",
   "name": "python",
   "nbconvert_exporter": "python",
   "pygments_lexer": "ipython3",
   "version": "3.11.6"
  }
 },
 "nbformat": 4,
 "nbformat_minor": 2
}
