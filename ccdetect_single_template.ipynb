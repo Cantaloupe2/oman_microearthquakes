{
 "cells": [
  {
   "cell_type": "code",
   "execution_count": 10,
   "metadata": {},
   "outputs": [],
   "source": [
    "# Use CC to detect waveforms similar to the twin events"
   ]
  },
  {
   "cell_type": "code",
   "execution_count": 11,
   "metadata": {},
   "outputs": [],
   "source": [
    "## Import modules\n",
    "\n",
    "from obspy import read, UTCDateTime, Stream\n",
    "from utils_cc import template_match_3c, associate_detections, get_timewin_from_template_name, TemplateEvent, TemplateMatches\n",
    "from utils_preproc import preprocess_stream\n",
    "from utils_snuffler import read_normal_markers\n",
    "from os.path import join\n",
    "from pandas import read_csv, concat"
   ]
  },
  {
   "cell_type": "code",
   "execution_count": 12,
   "metadata": {},
   "outputs": [],
   "source": [
    "## Inputs\n",
    "root = \"/Volumes/OmanData/geophones_no_prefilt/data\"\n",
    "tempname = \"SiblingA12-17-23-35\"\n",
    "phase = \"X\"\n",
    "timelen = 0.04 # Length of time window for CC in seconds\n",
    "\n",
    "freqmin = 10 # Low corner frequency for bandpass filter\n",
    "freqmax = 450 # High corner frequency for bandpass filter\n",
    "\n",
    "mincc = 0.7 # Minimum CC coefficient for detection\n",
    "\n",
    "numdet_min = 4 # Minimum number of detections to be considered a detected event\n",
    "\n",
    "delta_max = 0.1 # Maximum difference in delta between detections to be considered the same event"
   ]
  },
  {
   "cell_type": "code",
   "execution_count": 13,
   "metadata": {},
   "outputs": [],
   "source": [
    "## Read the picks of the master event\n",
    "timewin_temp = get_timewin_from_template_name(tempname)\n",
    "\n",
    "pkname = f\"{phase.lower()}picks_{tempname}.dat\"\n",
    "inpath = join(root, timewin_temp, pkname)\n",
    "pickdf = read_normal_markers(inpath)"
   ]
  },
  {
   "cell_type": "code",
   "execution_count": 14,
   "metadata": {},
   "outputs": [],
   "source": [
    "## Read and process the master event\n",
    "\n",
    "### Read the hour containing the master event\n",
    "stream_hour = Stream()\n",
    "for stname in pickdf[\"station\"]:\n",
    "    stream_hour += read(join(root, timewin_temp, f\"*{stname}*SAC\"))\n",
    "\n",
    "### Preprocess the data\n",
    "stream_hour = preprocess_stream(stream_hour, freqmin, freqmax)\n",
    "\n",
    "### Cut the master event\n",
    "stream_mast = Stream()\n",
    "\n",
    "for i, row in pickdf.iterrows():\n",
    "    stname = row[\"station\"]\n",
    "    starttime = UTCDateTime(row[\"time\"])\n",
    "    stream_mast += stream_hour.select(station=stname).slice(starttime, starttime+timelen)\n"
   ]
  },
  {
   "cell_type": "code",
   "execution_count": 15,
   "metadata": {},
   "outputs": [],
   "source": [
    "## Read the time window list\n",
    "inpath = join(root, \"time_windows.dat\")\n",
    "twindf = read_csv(inpath, delimiter=\" \")"
   ]
  },
  {
   "cell_type": "code",
   "execution_count": 16,
   "metadata": {},
   "outputs": [
    {
     "name": "stdout",
     "output_type": "stream",
     "text": [
      "Processing TwinA12-17-23-38...\n",
      "Processing A04, 2020-01-10-11-00-00...\n"
     ]
    },
    {
     "name": "stderr",
     "output_type": "stream",
     "text": [
      "/opt/homebrew/Caskroom/miniforge/base/envs/obspy/lib/python3.11/site-packages/obspy/signal/cross_correlation.py:291: RuntimeWarning: invalid value encountered in sqrt\n",
      "  np.sqrt(norm, out=norm)\n"
     ]
    },
    {
     "name": "stdout",
     "output_type": "stream",
     "text": [
      "No detections found.\n",
      "Processing A04, 2020-01-10-12-00-00...\n",
      "1 detections found.\n",
      "Processing A04, 2020-01-10-13-00-00...\n"
     ]
    },
    {
     "name": "stderr",
     "output_type": "stream",
     "text": [
      "/opt/homebrew/Caskroom/miniforge/base/envs/obspy/lib/python3.11/site-packages/obspy/signal/cross_correlation.py:291: RuntimeWarning: invalid value encountered in sqrt\n",
      "  np.sqrt(norm, out=norm)\n"
     ]
    },
    {
     "name": "stdout",
     "output_type": "stream",
     "text": [
      "No detections found.\n",
      "Processing A04, 2020-01-10-14-00-00...\n",
      "No detections found.\n",
      "Processing A04, 2020-01-10-15-00-00...\n",
      "1 detections found.\n",
      "Processing A04, 2020-01-10-16-00-00...\n"
     ]
    },
    {
     "name": "stderr",
     "output_type": "stream",
     "text": [
      "/opt/homebrew/Caskroom/miniforge/base/envs/obspy/lib/python3.11/site-packages/obspy/signal/cross_correlation.py:291: RuntimeWarning: invalid value encountered in sqrt\n",
      "  np.sqrt(norm, out=norm)\n"
     ]
    },
    {
     "name": "stdout",
     "output_type": "stream",
     "text": [
      "No detections found.\n",
      "Processing A04, 2020-01-10-17-00-00...\n",
      "No detections found.\n",
      "Processing A04, 2020-01-10-18-00-00...\n",
      "No detections found.\n",
      "Processing A04, 2020-01-10-19-00-00...\n",
      "1 detections found.\n",
      "Processing A04, 2020-01-10-20-00-00...\n"
     ]
    },
    {
     "name": "stderr",
     "output_type": "stream",
     "text": [
      "/opt/homebrew/Caskroom/miniforge/base/envs/obspy/lib/python3.11/site-packages/obspy/signal/cross_correlation.py:291: RuntimeWarning: invalid value encountered in sqrt\n",
      "  np.sqrt(norm, out=norm)\n"
     ]
    },
    {
     "name": "stdout",
     "output_type": "stream",
     "text": [
      "No detections found.\n",
      "Processing A04, 2020-01-10-21-00-00...\n",
      "1 detections found.\n",
      "Processing A04, 2020-01-10-22-00-00...\n"
     ]
    },
    {
     "name": "stderr",
     "output_type": "stream",
     "text": [
      "/opt/homebrew/Caskroom/miniforge/base/envs/obspy/lib/python3.11/site-packages/obspy/signal/cross_correlation.py:291: RuntimeWarning: invalid value encountered in sqrt\n",
      "  np.sqrt(norm, out=norm)\n"
     ]
    },
    {
     "name": "stdout",
     "output_type": "stream",
     "text": [
      "1 detections found.\n",
      "Processing A04, 2020-01-10-23-00-00...\n",
      "1 detections found.\n",
      "Processing A04, 2020-01-11-00-00-00...\n"
     ]
    },
    {
     "name": "stderr",
     "output_type": "stream",
     "text": [
      "/opt/homebrew/Caskroom/miniforge/base/envs/obspy/lib/python3.11/site-packages/obspy/signal/cross_correlation.py:291: RuntimeWarning: invalid value encountered in sqrt\n",
      "  np.sqrt(norm, out=norm)\n"
     ]
    },
    {
     "name": "stdout",
     "output_type": "stream",
     "text": [
      "1 detections found.\n",
      "Processing A04, 2020-01-11-01-00-00...\n"
     ]
    },
    {
     "name": "stderr",
     "output_type": "stream",
     "text": [
      "/opt/homebrew/Caskroom/miniforge/base/envs/obspy/lib/python3.11/site-packages/obspy/signal/cross_correlation.py:291: RuntimeWarning: invalid value encountered in sqrt\n",
      "  np.sqrt(norm, out=norm)\n"
     ]
    },
    {
     "name": "stdout",
     "output_type": "stream",
     "text": [
      "No detections found.\n",
      "Processing A04, 2020-01-11-02-00-00...\n",
      "No detections found.\n",
      "Processing A04, 2020-01-11-03-00-00...\n",
      "No detections found.\n",
      "Processing A04, 2020-01-11-04-00-00...\n",
      "No detections found.\n",
      "Processing A04, 2020-01-11-05-00-00...\n",
      "No detections found.\n",
      "Processing A04, 2020-01-11-06-00-00...\n",
      "No detections found.\n",
      "Processing A04, 2020-01-11-07-00-00...\n",
      "No detections found.\n",
      "Processing A04, 2020-01-11-08-00-00...\n",
      "No detections found.\n",
      "Processing A04, 2020-01-11-09-00-00...\n",
      "No detections found.\n",
      "Processing A04, 2020-01-11-10-00-00...\n",
      "No detections found.\n",
      "Processing A04, 2020-01-11-11-00-00...\n",
      "No detections found.\n",
      "Processing A04, 2020-01-11-12-00-00...\n",
      "1 detections found.\n",
      "Processing A04, 2020-01-11-13-00-00...\n"
     ]
    },
    {
     "name": "stderr",
     "output_type": "stream",
     "text": [
      "/opt/homebrew/Caskroom/miniforge/base/envs/obspy/lib/python3.11/site-packages/obspy/signal/cross_correlation.py:291: RuntimeWarning: invalid value encountered in sqrt\n",
      "  np.sqrt(norm, out=norm)\n"
     ]
    },
    {
     "name": "stdout",
     "output_type": "stream",
     "text": [
      "No detections found.\n",
      "Processing A04, 2020-01-11-14-00-00...\n",
      "No detections found.\n",
      "Processing A04, 2020-01-11-15-00-00...\n",
      "No detections found.\n",
      "Processing A04, 2020-01-11-16-00-00...\n",
      "No detections found.\n",
      "Processing A04, 2020-01-11-17-00-00...\n",
      "No detections found.\n",
      "Processing A04, 2020-01-11-18-00-00...\n",
      "No detections found.\n",
      "Processing A04, 2020-01-11-19-00-00...\n",
      "No detections found.\n",
      "Processing A04, 2020-01-11-20-00-00...\n",
      "No detections found.\n",
      "Processing A04, 2020-01-11-21-00-00...\n",
      "No detections found.\n",
      "Processing A04, 2020-01-11-22-00-00...\n",
      "No detections found.\n",
      "Processing A04, 2020-01-11-23-00-00...\n",
      "No detections found.\n",
      "Processing A04, 2020-01-12-00-00-00...\n",
      "No detections found.\n",
      "Processing A04, 2020-01-12-01-00-00...\n",
      "No detections found.\n",
      "Processing A04, 2020-01-12-02-00-00...\n",
      "1 detections found.\n",
      "Processing A04, 2020-01-12-03-00-00...\n"
     ]
    },
    {
     "name": "stderr",
     "output_type": "stream",
     "text": [
      "/opt/homebrew/Caskroom/miniforge/base/envs/obspy/lib/python3.11/site-packages/obspy/signal/cross_correlation.py:291: RuntimeWarning: invalid value encountered in sqrt\n",
      "  np.sqrt(norm, out=norm)\n"
     ]
    },
    {
     "name": "stdout",
     "output_type": "stream",
     "text": [
      "No detections found.\n",
      "Processing A04, 2020-01-12-04-00-00...\n",
      "1 detections found.\n",
      "Processing A04, 2020-01-12-05-00-00...\n"
     ]
    },
    {
     "name": "stderr",
     "output_type": "stream",
     "text": [
      "/opt/homebrew/Caskroom/miniforge/base/envs/obspy/lib/python3.11/site-packages/obspy/signal/cross_correlation.py:291: RuntimeWarning: invalid value encountered in sqrt\n",
      "  np.sqrt(norm, out=norm)\n"
     ]
    },
    {
     "name": "stdout",
     "output_type": "stream",
     "text": [
      "No detections found.\n",
      "Processing A04, 2020-01-12-06-00-00...\n",
      "No detections found.\n",
      "Processing A04, 2020-01-12-07-00-00...\n",
      "No detections found.\n",
      "Processing A04, 2020-01-12-08-00-00...\n",
      "87 detections found.\n",
      "Processing A04, 2020-01-12-09-00-00...\n"
     ]
    },
    {
     "name": "stderr",
     "output_type": "stream",
     "text": [
      "/opt/homebrew/Caskroom/miniforge/base/envs/obspy/lib/python3.11/site-packages/obspy/signal/cross_correlation.py:291: RuntimeWarning: invalid value encountered in sqrt\n",
      "  np.sqrt(norm, out=norm)\n"
     ]
    },
    {
     "name": "stdout",
     "output_type": "stream",
     "text": [
      "37 detections found.\n",
      "Processing A04, 2020-01-12-10-00-00...\n"
     ]
    },
    {
     "name": "stderr",
     "output_type": "stream",
     "text": [
      "/opt/homebrew/Caskroom/miniforge/base/envs/obspy/lib/python3.11/site-packages/obspy/signal/cross_correlation.py:291: RuntimeWarning: invalid value encountered in sqrt\n",
      "  np.sqrt(norm, out=norm)\n"
     ]
    },
    {
     "name": "stdout",
     "output_type": "stream",
     "text": [
      "274 detections found.\n",
      "Processing A04, 2020-01-12-11-00-00...\n"
     ]
    },
    {
     "name": "stderr",
     "output_type": "stream",
     "text": [
      "/opt/homebrew/Caskroom/miniforge/base/envs/obspy/lib/python3.11/site-packages/obspy/signal/cross_correlation.py:291: RuntimeWarning: invalid value encountered in sqrt\n",
      "  np.sqrt(norm, out=norm)\n"
     ]
    },
    {
     "name": "stdout",
     "output_type": "stream",
     "text": [
      "146 detections found.\n",
      "Processing A04, 2020-01-12-12-00-00...\n"
     ]
    },
    {
     "name": "stderr",
     "output_type": "stream",
     "text": [
      "/opt/homebrew/Caskroom/miniforge/base/envs/obspy/lib/python3.11/site-packages/obspy/signal/cross_correlation.py:291: RuntimeWarning: invalid value encountered in sqrt\n",
      "  np.sqrt(norm, out=norm)\n"
     ]
    },
    {
     "name": "stdout",
     "output_type": "stream",
     "text": [
      "56 detections found.\n",
      "Processing A04, 2020-01-12-13-00-00...\n"
     ]
    },
    {
     "name": "stderr",
     "output_type": "stream",
     "text": [
      "/opt/homebrew/Caskroom/miniforge/base/envs/obspy/lib/python3.11/site-packages/obspy/signal/cross_correlation.py:291: RuntimeWarning: invalid value encountered in sqrt\n",
      "  np.sqrt(norm, out=norm)\n"
     ]
    },
    {
     "name": "stdout",
     "output_type": "stream",
     "text": [
      "529 detections found.\n",
      "Processing A04, 2020-01-12-14-00-00...\n"
     ]
    },
    {
     "name": "stderr",
     "output_type": "stream",
     "text": [
      "/opt/homebrew/Caskroom/miniforge/base/envs/obspy/lib/python3.11/site-packages/obspy/signal/cross_correlation.py:291: RuntimeWarning: invalid value encountered in sqrt\n",
      "  np.sqrt(norm, out=norm)\n"
     ]
    },
    {
     "name": "stdout",
     "output_type": "stream",
     "text": [
      "253 detections found.\n",
      "Processing A04, 2020-01-12-15-00-00...\n"
     ]
    },
    {
     "name": "stderr",
     "output_type": "stream",
     "text": [
      "/opt/homebrew/Caskroom/miniforge/base/envs/obspy/lib/python3.11/site-packages/obspy/signal/cross_correlation.py:291: RuntimeWarning: invalid value encountered in sqrt\n",
      "  np.sqrt(norm, out=norm)\n"
     ]
    },
    {
     "name": "stdout",
     "output_type": "stream",
     "text": [
      "122 detections found.\n",
      "Processing A04, 2020-01-12-16-00-00...\n"
     ]
    },
    {
     "name": "stderr",
     "output_type": "stream",
     "text": [
      "/opt/homebrew/Caskroom/miniforge/base/envs/obspy/lib/python3.11/site-packages/obspy/signal/cross_correlation.py:291: RuntimeWarning: invalid value encountered in sqrt\n",
      "  np.sqrt(norm, out=norm)\n"
     ]
    },
    {
     "name": "stdout",
     "output_type": "stream",
     "text": [
      "25 detections found.\n",
      "Processing A04, 2020-01-12-17-00-00...\n"
     ]
    },
    {
     "name": "stderr",
     "output_type": "stream",
     "text": [
      "/opt/homebrew/Caskroom/miniforge/base/envs/obspy/lib/python3.11/site-packages/obspy/signal/cross_correlation.py:291: RuntimeWarning: invalid value encountered in sqrt\n",
      "  np.sqrt(norm, out=norm)\n"
     ]
    },
    {
     "name": "stdout",
     "output_type": "stream",
     "text": [
      "113 detections found.\n",
      "Processing A04, 2020-01-12-18-00-00...\n"
     ]
    },
    {
     "name": "stderr",
     "output_type": "stream",
     "text": [
      "/opt/homebrew/Caskroom/miniforge/base/envs/obspy/lib/python3.11/site-packages/obspy/signal/cross_correlation.py:291: RuntimeWarning: invalid value encountered in sqrt\n",
      "  np.sqrt(norm, out=norm)\n"
     ]
    },
    {
     "name": "stdout",
     "output_type": "stream",
     "text": [
      "32 detections found.\n",
      "Processing A04, 2020-01-12-19-00-00...\n"
     ]
    },
    {
     "name": "stderr",
     "output_type": "stream",
     "text": [
      "/opt/homebrew/Caskroom/miniforge/base/envs/obspy/lib/python3.11/site-packages/obspy/signal/cross_correlation.py:291: RuntimeWarning: invalid value encountered in sqrt\n",
      "  np.sqrt(norm, out=norm)\n"
     ]
    },
    {
     "name": "stdout",
     "output_type": "stream",
     "text": [
      "56 detections found.\n",
      "Processing A04, 2020-01-12-20-00-00...\n"
     ]
    },
    {
     "name": "stderr",
     "output_type": "stream",
     "text": [
      "/opt/homebrew/Caskroom/miniforge/base/envs/obspy/lib/python3.11/site-packages/obspy/signal/cross_correlation.py:291: RuntimeWarning: invalid value encountered in sqrt\n",
      "  np.sqrt(norm, out=norm)\n"
     ]
    },
    {
     "name": "stdout",
     "output_type": "stream",
     "text": [
      "22 detections found.\n",
      "Processing A04, 2020-01-12-21-00-00...\n"
     ]
    },
    {
     "name": "stderr",
     "output_type": "stream",
     "text": [
      "/opt/homebrew/Caskroom/miniforge/base/envs/obspy/lib/python3.11/site-packages/obspy/signal/cross_correlation.py:291: RuntimeWarning: invalid value encountered in sqrt\n",
      "  np.sqrt(norm, out=norm)\n"
     ]
    },
    {
     "name": "stdout",
     "output_type": "stream",
     "text": [
      "2 detections found.\n",
      "Processing A04, 2020-01-12-22-00-00...\n",
      "1 detections found.\n",
      "Processing A04, 2020-01-12-23-00-00...\n"
     ]
    },
    {
     "name": "stderr",
     "output_type": "stream",
     "text": [
      "/opt/homebrew/Caskroom/miniforge/base/envs/obspy/lib/python3.11/site-packages/obspy/signal/cross_correlation.py:291: RuntimeWarning: invalid value encountered in sqrt\n",
      "  np.sqrt(norm, out=norm)\n"
     ]
    },
    {
     "name": "stdout",
     "output_type": "stream",
     "text": [
      "No detections found.\n",
      "Processing A04, 2020-01-13-00-00-00...\n",
      "No detections found.\n",
      "Processing A04, 2020-01-13-01-00-00...\n",
      "No detections found.\n",
      "Processing A04, 2020-01-13-02-00-00...\n",
      "No detections found.\n",
      "Processing A04, 2020-01-13-03-00-00...\n",
      "No detections found.\n",
      "Processing A04, 2020-01-13-04-00-00...\n",
      "No detections found.\n",
      "Processing A04, 2020-01-13-05-00-00...\n",
      "No detections found.\n",
      "Processing A04, 2020-01-13-06-00-00...\n",
      "No detections found.\n",
      "Processing A04, 2020-01-13-07-00-00...\n",
      "6 detections found.\n",
      "Processing A04, 2020-01-13-08-00-00...\n"
     ]
    },
    {
     "name": "stderr",
     "output_type": "stream",
     "text": [
      "/opt/homebrew/Caskroom/miniforge/base/envs/obspy/lib/python3.11/site-packages/obspy/signal/cross_correlation.py:291: RuntimeWarning: invalid value encountered in sqrt\n",
      "  np.sqrt(norm, out=norm)\n"
     ]
    },
    {
     "name": "stdout",
     "output_type": "stream",
     "text": [
      "67 detections found.\n",
      "Processing A04, 2020-01-13-09-00-00...\n"
     ]
    },
    {
     "name": "stderr",
     "output_type": "stream",
     "text": [
      "/opt/homebrew/Caskroom/miniforge/base/envs/obspy/lib/python3.11/site-packages/obspy/signal/cross_correlation.py:291: RuntimeWarning: invalid value encountered in sqrt\n",
      "  np.sqrt(norm, out=norm)\n"
     ]
    },
    {
     "name": "stdout",
     "output_type": "stream",
     "text": [
      "137 detections found.\n",
      "Processing A04, 2020-01-13-10-00-00...\n",
      "3 detections found.\n",
      "Processing A04, 2020-01-13-11-00-00...\n"
     ]
    },
    {
     "name": "stderr",
     "output_type": "stream",
     "text": [
      "/opt/homebrew/Caskroom/miniforge/base/envs/obspy/lib/python3.11/site-packages/obspy/signal/cross_correlation.py:291: RuntimeWarning: invalid value encountered in sqrt\n",
      "  np.sqrt(norm, out=norm)\n"
     ]
    },
    {
     "name": "stdout",
     "output_type": "stream",
     "text": [
      "No detections found.\n",
      "Processing A04, 2020-01-13-12-00-00...\n",
      "No detections found.\n",
      "Processing A04, 2020-01-13-13-00-00...\n",
      "1 detections found.\n",
      "Processing A04, 2020-01-13-14-00-00...\n",
      "No detections found.\n",
      "Processing A04, 2020-01-13-15-00-00...\n",
      "No detections found.\n",
      "Processing A04, 2020-01-13-16-00-00...\n"
     ]
    },
    {
     "name": "stderr",
     "output_type": "stream",
     "text": [
      "/opt/homebrew/Caskroom/miniforge/base/envs/obspy/lib/python3.11/site-packages/obspy/signal/cross_correlation.py:291: RuntimeWarning: invalid value encountered in sqrt\n",
      "  np.sqrt(norm, out=norm)\n"
     ]
    },
    {
     "name": "stdout",
     "output_type": "stream",
     "text": [
      "No detections found.\n",
      "Processing A04, 2020-01-13-17-00-00...\n",
      "No detections found.\n",
      "Processing A04, 2020-01-13-18-00-00...\n",
      "No detections found.\n",
      "Processing A04, 2020-01-13-19-00-00...\n",
      "No detections found.\n",
      "Processing A04, 2020-01-13-20-00-00...\n",
      "1 detections found.\n",
      "Processing A04, 2020-01-13-21-00-00...\n",
      "No detections found.\n",
      "Processing A04, 2020-01-13-22-00-00...\n",
      "No detections found.\n",
      "Processing A04, 2020-01-13-23-00-00...\n",
      "No detections found.\n",
      "Processing A04, 2020-01-14-00-00-00...\n"
     ]
    },
    {
     "name": "stderr",
     "output_type": "stream",
     "text": [
      "/opt/homebrew/Caskroom/miniforge/base/envs/obspy/lib/python3.11/site-packages/obspy/signal/cross_correlation.py:291: RuntimeWarning: invalid value encountered in sqrt\n",
      "  np.sqrt(norm, out=norm)\n"
     ]
    },
    {
     "name": "stdout",
     "output_type": "stream",
     "text": [
      "No detections found.\n",
      "Processing A04, 2020-01-14-01-00-00...\n",
      "No detections found.\n",
      "Processing A04, 2020-01-14-02-00-00...\n",
      "No detections found.\n",
      "Processing A04, 2020-01-14-03-00-00...\n",
      "No detections found.\n",
      "Processing A04, 2020-01-14-04-00-00...\n",
      "1 detections found.\n",
      "Processing A04, 2020-01-14-05-00-00...\n"
     ]
    },
    {
     "name": "stderr",
     "output_type": "stream",
     "text": [
      "/opt/homebrew/Caskroom/miniforge/base/envs/obspy/lib/python3.11/site-packages/obspy/signal/cross_correlation.py:291: RuntimeWarning: invalid value encountered in sqrt\n",
      "  np.sqrt(norm, out=norm)\n"
     ]
    },
    {
     "name": "stdout",
     "output_type": "stream",
     "text": [
      "No detections found.\n",
      "Processing A04, 2020-01-14-06-00-00...\n",
      "No detections found.\n",
      "Processing A04, 2020-01-14-07-00-00...\n",
      "1 detections found.\n",
      "Processing A04, 2020-01-14-08-00-00...\n"
     ]
    },
    {
     "name": "stderr",
     "output_type": "stream",
     "text": [
      "/opt/homebrew/Caskroom/miniforge/base/envs/obspy/lib/python3.11/site-packages/obspy/signal/cross_correlation.py:291: RuntimeWarning: invalid value encountered in sqrt\n",
      "  np.sqrt(norm, out=norm)\n"
     ]
    },
    {
     "name": "stdout",
     "output_type": "stream",
     "text": [
      "No detections found.\n",
      "Processing A04, 2020-01-14-09-00-00...\n",
      "1 detections found.\n",
      "Processing A04, 2020-01-14-10-00-00...\n",
      "No detections found.\n",
      "Processing A04, 2020-01-14-11-00-00...\n"
     ]
    },
    {
     "name": "stderr",
     "output_type": "stream",
     "text": [
      "/opt/homebrew/Caskroom/miniforge/base/envs/obspy/lib/python3.11/site-packages/obspy/signal/cross_correlation.py:291: RuntimeWarning: invalid value encountered in sqrt\n",
      "  np.sqrt(norm, out=norm)\n"
     ]
    },
    {
     "name": "stdout",
     "output_type": "stream",
     "text": [
      "No detections found.\n",
      "Processing A04, 2020-01-14-12-00-00...\n",
      "No detections found.\n",
      "Processing A04, 2020-01-14-13-00-00...\n",
      "No detections found.\n",
      "Processing A04, 2020-01-14-14-00-00...\n",
      "No detections found.\n",
      "Processing A04, 2020-01-14-15-00-00...\n",
      "1 detections found.\n",
      "Processing A04, 2020-01-14-16-00-00...\n",
      "No detections found.\n",
      "Processing A04, 2020-01-14-17-00-00...\n"
     ]
    },
    {
     "name": "stderr",
     "output_type": "stream",
     "text": [
      "/opt/homebrew/Caskroom/miniforge/base/envs/obspy/lib/python3.11/site-packages/obspy/signal/cross_correlation.py:291: RuntimeWarning: invalid value encountered in sqrt\n",
      "  np.sqrt(norm, out=norm)\n"
     ]
    },
    {
     "name": "stdout",
     "output_type": "stream",
     "text": [
      "No detections found.\n",
      "Processing A04, 2020-01-14-18-00-00...\n",
      "No detections found.\n",
      "Processing A04, 2020-01-14-19-00-00...\n",
      "2 detections found.\n",
      "Processing A04, 2020-01-14-20-00-00...\n"
     ]
    },
    {
     "name": "stderr",
     "output_type": "stream",
     "text": [
      "/opt/homebrew/Caskroom/miniforge/base/envs/obspy/lib/python3.11/site-packages/obspy/signal/cross_correlation.py:291: RuntimeWarning: invalid value encountered in sqrt\n",
      "  np.sqrt(norm, out=norm)\n"
     ]
    },
    {
     "name": "stdout",
     "output_type": "stream",
     "text": [
      "No detections found.\n",
      "Processing A04, 2020-01-14-21-00-00...\n",
      "No detections found.\n",
      "Processing A04, 2020-01-14-22-00-00...\n",
      "No detections found.\n",
      "Processing A04, 2020-01-14-23-00-00...\n",
      "No detections found.\n",
      "Processing A04, 2020-01-15-00-00-00...\n",
      "No detections found.\n",
      "Processing A04, 2020-01-15-01-00-00...\n",
      "No detections found.\n",
      "Processing A04, 2020-01-15-02-00-00...\n",
      "6 detections found.\n",
      "Processing A04, 2020-01-15-03-00-00...\n"
     ]
    },
    {
     "name": "stderr",
     "output_type": "stream",
     "text": [
      "/opt/homebrew/Caskroom/miniforge/base/envs/obspy/lib/python3.11/site-packages/obspy/signal/cross_correlation.py:291: RuntimeWarning: invalid value encountered in sqrt\n",
      "  np.sqrt(norm, out=norm)\n"
     ]
    },
    {
     "name": "stdout",
     "output_type": "stream",
     "text": [
      "9 detections found.\n",
      "Processing A04, 2020-01-15-04-00-00...\n"
     ]
    },
    {
     "name": "stderr",
     "output_type": "stream",
     "text": [
      "/opt/homebrew/Caskroom/miniforge/base/envs/obspy/lib/python3.11/site-packages/obspy/signal/cross_correlation.py:291: RuntimeWarning: invalid value encountered in sqrt\n",
      "  np.sqrt(norm, out=norm)\n"
     ]
    },
    {
     "name": "stdout",
     "output_type": "stream",
     "text": [
      "14 detections found.\n",
      "Processing A04, 2020-01-15-05-00-00...\n"
     ]
    },
    {
     "name": "stderr",
     "output_type": "stream",
     "text": [
      "/opt/homebrew/Caskroom/miniforge/base/envs/obspy/lib/python3.11/site-packages/obspy/signal/cross_correlation.py:291: RuntimeWarning: invalid value encountered in sqrt\n",
      "  np.sqrt(norm, out=norm)\n"
     ]
    },
    {
     "name": "stdout",
     "output_type": "stream",
     "text": [
      "7 detections found.\n",
      "Processing A04, 2020-01-15-06-00-00...\n",
      "15 detections found.\n",
      "Processing A04, 2020-01-15-07-00-00...\n"
     ]
    },
    {
     "name": "stderr",
     "output_type": "stream",
     "text": [
      "/opt/homebrew/Caskroom/miniforge/base/envs/obspy/lib/python3.11/site-packages/obspy/signal/cross_correlation.py:291: RuntimeWarning: invalid value encountered in sqrt\n",
      "  np.sqrt(norm, out=norm)\n"
     ]
    },
    {
     "name": "stdout",
     "output_type": "stream",
     "text": [
      "38 detections found.\n",
      "Processing A04, 2020-01-15-08-00-00...\n"
     ]
    },
    {
     "name": "stderr",
     "output_type": "stream",
     "text": [
      "/opt/homebrew/Caskroom/miniforge/base/envs/obspy/lib/python3.11/site-packages/obspy/signal/cross_correlation.py:291: RuntimeWarning: invalid value encountered in sqrt\n",
      "  np.sqrt(norm, out=norm)\n"
     ]
    },
    {
     "name": "stdout",
     "output_type": "stream",
     "text": [
      "502 detections found.\n",
      "Processing A04, 2020-01-15-09-00-00...\n"
     ]
    },
    {
     "name": "stderr",
     "output_type": "stream",
     "text": [
      "/opt/homebrew/Caskroom/miniforge/base/envs/obspy/lib/python3.11/site-packages/obspy/signal/cross_correlation.py:291: RuntimeWarning: invalid value encountered in sqrt\n",
      "  np.sqrt(norm, out=norm)\n"
     ]
    },
    {
     "name": "stdout",
     "output_type": "stream",
     "text": [
      "341 detections found.\n",
      "Processing A04, 2020-01-15-10-00-00...\n"
     ]
    },
    {
     "name": "stderr",
     "output_type": "stream",
     "text": [
      "/opt/homebrew/Caskroom/miniforge/base/envs/obspy/lib/python3.11/site-packages/obspy/signal/cross_correlation.py:291: RuntimeWarning: invalid value encountered in sqrt\n",
      "  np.sqrt(norm, out=norm)\n"
     ]
    },
    {
     "name": "stdout",
     "output_type": "stream",
     "text": [
      "375 detections found.\n",
      "Processing A04, 2020-01-15-11-00-00...\n"
     ]
    },
    {
     "name": "stderr",
     "output_type": "stream",
     "text": [
      "/opt/homebrew/Caskroom/miniforge/base/envs/obspy/lib/python3.11/site-packages/obspy/signal/cross_correlation.py:291: RuntimeWarning: invalid value encountered in sqrt\n",
      "  np.sqrt(norm, out=norm)\n"
     ]
    },
    {
     "name": "stdout",
     "output_type": "stream",
     "text": [
      "204 detections found.\n",
      "Processing A04, 2020-01-15-12-00-00...\n"
     ]
    },
    {
     "name": "stderr",
     "output_type": "stream",
     "text": [
      "/opt/homebrew/Caskroom/miniforge/base/envs/obspy/lib/python3.11/site-packages/obspy/signal/cross_correlation.py:291: RuntimeWarning: invalid value encountered in sqrt\n",
      "  np.sqrt(norm, out=norm)\n"
     ]
    },
    {
     "name": "stdout",
     "output_type": "stream",
     "text": [
      "258 detections found.\n",
      "Processing A04, 2020-01-15-13-00-00...\n"
     ]
    },
    {
     "name": "stderr",
     "output_type": "stream",
     "text": [
      "/opt/homebrew/Caskroom/miniforge/base/envs/obspy/lib/python3.11/site-packages/obspy/signal/cross_correlation.py:291: RuntimeWarning: invalid value encountered in sqrt\n",
      "  np.sqrt(norm, out=norm)\n"
     ]
    },
    {
     "name": "stdout",
     "output_type": "stream",
     "text": [
      "182 detections found.\n",
      "Processing A04, 2020-01-15-14-00-00...\n"
     ]
    },
    {
     "name": "stderr",
     "output_type": "stream",
     "text": [
      "/opt/homebrew/Caskroom/miniforge/base/envs/obspy/lib/python3.11/site-packages/obspy/signal/cross_correlation.py:291: RuntimeWarning: invalid value encountered in sqrt\n",
      "  np.sqrt(norm, out=norm)\n"
     ]
    },
    {
     "name": "stdout",
     "output_type": "stream",
     "text": [
      "554 detections found.\n",
      "Processing A04, 2020-01-15-15-00-00...\n"
     ]
    },
    {
     "name": "stderr",
     "output_type": "stream",
     "text": [
      "/opt/homebrew/Caskroom/miniforge/base/envs/obspy/lib/python3.11/site-packages/obspy/signal/cross_correlation.py:291: RuntimeWarning: invalid value encountered in sqrt\n",
      "  np.sqrt(norm, out=norm)\n"
     ]
    },
    {
     "name": "stdout",
     "output_type": "stream",
     "text": [
      "175 detections found.\n",
      "Processing A04, 2020-01-15-16-00-00...\n"
     ]
    },
    {
     "name": "stderr",
     "output_type": "stream",
     "text": [
      "/opt/homebrew/Caskroom/miniforge/base/envs/obspy/lib/python3.11/site-packages/obspy/signal/cross_correlation.py:291: RuntimeWarning: invalid value encountered in sqrt\n",
      "  np.sqrt(norm, out=norm)\n"
     ]
    },
    {
     "name": "stdout",
     "output_type": "stream",
     "text": [
      "140 detections found.\n",
      "Processing A04, 2020-01-15-17-00-00...\n"
     ]
    },
    {
     "name": "stderr",
     "output_type": "stream",
     "text": [
      "/opt/homebrew/Caskroom/miniforge/base/envs/obspy/lib/python3.11/site-packages/obspy/signal/cross_correlation.py:291: RuntimeWarning: invalid value encountered in sqrt\n",
      "  np.sqrt(norm, out=norm)\n"
     ]
    },
    {
     "name": "stdout",
     "output_type": "stream",
     "text": [
      "258 detections found.\n",
      "Processing A04, 2020-01-15-18-00-00...\n"
     ]
    },
    {
     "name": "stderr",
     "output_type": "stream",
     "text": [
      "/opt/homebrew/Caskroom/miniforge/base/envs/obspy/lib/python3.11/site-packages/obspy/signal/cross_correlation.py:291: RuntimeWarning: invalid value encountered in sqrt\n",
      "  np.sqrt(norm, out=norm)\n"
     ]
    },
    {
     "name": "stdout",
     "output_type": "stream",
     "text": [
      "66 detections found.\n",
      "Processing A04, 2020-01-15-19-00-00...\n"
     ]
    },
    {
     "name": "stderr",
     "output_type": "stream",
     "text": [
      "/opt/homebrew/Caskroom/miniforge/base/envs/obspy/lib/python3.11/site-packages/obspy/signal/cross_correlation.py:291: RuntimeWarning: invalid value encountered in sqrt\n",
      "  np.sqrt(norm, out=norm)\n"
     ]
    },
    {
     "name": "stdout",
     "output_type": "stream",
     "text": [
      "113 detections found.\n",
      "Processing A04, 2020-01-15-20-00-00...\n"
     ]
    },
    {
     "name": "stderr",
     "output_type": "stream",
     "text": [
      "/opt/homebrew/Caskroom/miniforge/base/envs/obspy/lib/python3.11/site-packages/obspy/signal/cross_correlation.py:291: RuntimeWarning: invalid value encountered in sqrt\n",
      "  np.sqrt(norm, out=norm)\n"
     ]
    },
    {
     "name": "stdout",
     "output_type": "stream",
     "text": [
      "68 detections found.\n",
      "Processing A04, 2020-01-15-21-00-00...\n"
     ]
    },
    {
     "name": "stderr",
     "output_type": "stream",
     "text": [
      "/opt/homebrew/Caskroom/miniforge/base/envs/obspy/lib/python3.11/site-packages/obspy/signal/cross_correlation.py:291: RuntimeWarning: invalid value encountered in sqrt\n",
      "  np.sqrt(norm, out=norm)\n"
     ]
    },
    {
     "name": "stdout",
     "output_type": "stream",
     "text": [
      "5 detections found.\n",
      "Processing A04, 2020-01-15-22-00-00...\n"
     ]
    },
    {
     "name": "stderr",
     "output_type": "stream",
     "text": [
      "/opt/homebrew/Caskroom/miniforge/base/envs/obspy/lib/python3.11/site-packages/obspy/signal/cross_correlation.py:291: RuntimeWarning: invalid value encountered in sqrt\n",
      "  np.sqrt(norm, out=norm)\n"
     ]
    },
    {
     "name": "stdout",
     "output_type": "stream",
     "text": [
      "3 detections found.\n",
      "Processing A04, 2020-01-15-23-00-00...\n",
      "3 detections found.\n",
      "Processing A04, 2020-01-16-00-00-00...\n"
     ]
    },
    {
     "name": "stderr",
     "output_type": "stream",
     "text": [
      "/opt/homebrew/Caskroom/miniforge/base/envs/obspy/lib/python3.11/site-packages/obspy/signal/cross_correlation.py:291: RuntimeWarning: invalid value encountered in sqrt\n",
      "  np.sqrt(norm, out=norm)\n"
     ]
    },
    {
     "name": "stdout",
     "output_type": "stream",
     "text": [
      "3 detections found.\n",
      "Processing A04, 2020-01-16-01-00-00...\n"
     ]
    },
    {
     "name": "stderr",
     "output_type": "stream",
     "text": [
      "/opt/homebrew/Caskroom/miniforge/base/envs/obspy/lib/python3.11/site-packages/obspy/signal/cross_correlation.py:291: RuntimeWarning: invalid value encountered in sqrt\n",
      "  np.sqrt(norm, out=norm)\n"
     ]
    },
    {
     "name": "stdout",
     "output_type": "stream",
     "text": [
      "No detections found.\n",
      "Processing A04, 2020-01-16-02-00-00...\n",
      "3 detections found.\n",
      "Processing A04, 2020-01-16-03-00-00...\n",
      "No detections found.\n",
      "Processing A04, 2020-01-16-04-00-00...\n"
     ]
    },
    {
     "name": "stderr",
     "output_type": "stream",
     "text": [
      "/opt/homebrew/Caskroom/miniforge/base/envs/obspy/lib/python3.11/site-packages/obspy/signal/cross_correlation.py:291: RuntimeWarning: invalid value encountered in sqrt\n",
      "  np.sqrt(norm, out=norm)\n"
     ]
    },
    {
     "name": "stdout",
     "output_type": "stream",
     "text": [
      "3 detections found.\n",
      "Processing A04, 2020-01-16-05-00-00...\n"
     ]
    },
    {
     "name": "stderr",
     "output_type": "stream",
     "text": [
      "/opt/homebrew/Caskroom/miniforge/base/envs/obspy/lib/python3.11/site-packages/obspy/signal/cross_correlation.py:291: RuntimeWarning: invalid value encountered in sqrt\n",
      "  np.sqrt(norm, out=norm)\n"
     ]
    },
    {
     "name": "stdout",
     "output_type": "stream",
     "text": [
      "3 detections found.\n",
      "Processing A04, 2020-01-16-06-00-00...\n"
     ]
    },
    {
     "name": "stderr",
     "output_type": "stream",
     "text": [
      "/opt/homebrew/Caskroom/miniforge/base/envs/obspy/lib/python3.11/site-packages/obspy/signal/cross_correlation.py:291: RuntimeWarning: invalid value encountered in sqrt\n",
      "  np.sqrt(norm, out=norm)\n"
     ]
    },
    {
     "name": "stdout",
     "output_type": "stream",
     "text": [
      "1 detections found.\n",
      "Processing A04, 2020-01-16-07-00-00...\n",
      "5 detections found.\n",
      "Processing A04, 2020-01-16-08-00-00...\n"
     ]
    },
    {
     "name": "stderr",
     "output_type": "stream",
     "text": [
      "/opt/homebrew/Caskroom/miniforge/base/envs/obspy/lib/python3.11/site-packages/obspy/signal/cross_correlation.py:291: RuntimeWarning: invalid value encountered in sqrt\n",
      "  np.sqrt(norm, out=norm)\n"
     ]
    },
    {
     "name": "stdout",
     "output_type": "stream",
     "text": [
      "2 detections found.\n",
      "Processing A04, 2020-01-16-09-00-00...\n",
      "No detections found.\n",
      "Processing A04, 2020-01-16-10-00-00...\n"
     ]
    },
    {
     "name": "stderr",
     "output_type": "stream",
     "text": [
      "/opt/homebrew/Caskroom/miniforge/base/envs/obspy/lib/python3.11/site-packages/obspy/signal/cross_correlation.py:291: RuntimeWarning: invalid value encountered in sqrt\n",
      "  np.sqrt(norm, out=norm)\n"
     ]
    },
    {
     "name": "stdout",
     "output_type": "stream",
     "text": [
      "No detections found.\n",
      "Processing A04, 2020-01-16-11-00-00...\n",
      "2 detections found.\n",
      "Processing A04, 2020-01-16-12-00-00...\n"
     ]
    },
    {
     "name": "stderr",
     "output_type": "stream",
     "text": [
      "/opt/homebrew/Caskroom/miniforge/base/envs/obspy/lib/python3.11/site-packages/obspy/signal/cross_correlation.py:291: RuntimeWarning: invalid value encountered in sqrt\n",
      "  np.sqrt(norm, out=norm)\n"
     ]
    },
    {
     "name": "stdout",
     "output_type": "stream",
     "text": [
      "4 detections found.\n",
      "Processing A04, 2020-01-16-13-00-00...\n"
     ]
    },
    {
     "name": "stderr",
     "output_type": "stream",
     "text": [
      "/opt/homebrew/Caskroom/miniforge/base/envs/obspy/lib/python3.11/site-packages/obspy/signal/cross_correlation.py:291: RuntimeWarning: invalid value encountered in sqrt\n",
      "  np.sqrt(norm, out=norm)\n"
     ]
    },
    {
     "name": "stdout",
     "output_type": "stream",
     "text": [
      "No detections found.\n",
      "Processing A04, 2020-01-16-14-00-00...\n",
      "5 detections found.\n",
      "Processing A04, 2020-01-16-15-00-00...\n"
     ]
    },
    {
     "name": "stderr",
     "output_type": "stream",
     "text": [
      "/opt/homebrew/Caskroom/miniforge/base/envs/obspy/lib/python3.11/site-packages/obspy/signal/cross_correlation.py:291: RuntimeWarning: invalid value encountered in sqrt\n",
      "  np.sqrt(norm, out=norm)\n"
     ]
    },
    {
     "name": "stdout",
     "output_type": "stream",
     "text": [
      "4 detections found.\n",
      "Processing A04, 2020-01-16-16-00-00...\n"
     ]
    },
    {
     "name": "stderr",
     "output_type": "stream",
     "text": [
      "/opt/homebrew/Caskroom/miniforge/base/envs/obspy/lib/python3.11/site-packages/obspy/signal/cross_correlation.py:291: RuntimeWarning: invalid value encountered in sqrt\n",
      "  np.sqrt(norm, out=norm)\n"
     ]
    },
    {
     "name": "stdout",
     "output_type": "stream",
     "text": [
      "3 detections found.\n",
      "Processing A04, 2020-01-16-17-00-00...\n"
     ]
    },
    {
     "name": "stderr",
     "output_type": "stream",
     "text": [
      "/opt/homebrew/Caskroom/miniforge/base/envs/obspy/lib/python3.11/site-packages/obspy/signal/cross_correlation.py:291: RuntimeWarning: invalid value encountered in sqrt\n",
      "  np.sqrt(norm, out=norm)\n"
     ]
    },
    {
     "name": "stdout",
     "output_type": "stream",
     "text": [
      "3 detections found.\n",
      "Processing A04, 2020-01-16-18-00-00...\n"
     ]
    },
    {
     "name": "stderr",
     "output_type": "stream",
     "text": [
      "/opt/homebrew/Caskroom/miniforge/base/envs/obspy/lib/python3.11/site-packages/obspy/signal/cross_correlation.py:291: RuntimeWarning: invalid value encountered in sqrt\n",
      "  np.sqrt(norm, out=norm)\n"
     ]
    },
    {
     "name": "stdout",
     "output_type": "stream",
     "text": [
      "9 detections found.\n",
      "Processing A04, 2020-01-16-19-00-00...\n"
     ]
    },
    {
     "name": "stderr",
     "output_type": "stream",
     "text": [
      "/opt/homebrew/Caskroom/miniforge/base/envs/obspy/lib/python3.11/site-packages/obspy/signal/cross_correlation.py:291: RuntimeWarning: invalid value encountered in sqrt\n",
      "  np.sqrt(norm, out=norm)\n"
     ]
    },
    {
     "name": "stdout",
     "output_type": "stream",
     "text": [
      "7 detections found.\n",
      "Processing A04, 2020-01-16-20-00-00...\n"
     ]
    },
    {
     "name": "stderr",
     "output_type": "stream",
     "text": [
      "/opt/homebrew/Caskroom/miniforge/base/envs/obspy/lib/python3.11/site-packages/obspy/signal/cross_correlation.py:291: RuntimeWarning: invalid value encountered in sqrt\n",
      "  np.sqrt(norm, out=norm)\n"
     ]
    },
    {
     "name": "stdout",
     "output_type": "stream",
     "text": [
      "11 detections found.\n",
      "Processing A04, 2020-01-16-21-00-00...\n"
     ]
    },
    {
     "name": "stderr",
     "output_type": "stream",
     "text": [
      "/opt/homebrew/Caskroom/miniforge/base/envs/obspy/lib/python3.11/site-packages/obspy/signal/cross_correlation.py:291: RuntimeWarning: invalid value encountered in sqrt\n",
      "  np.sqrt(norm, out=norm)\n"
     ]
    },
    {
     "name": "stdout",
     "output_type": "stream",
     "text": [
      "14 detections found.\n",
      "Processing A04, 2020-01-16-22-00-00...\n"
     ]
    },
    {
     "name": "stderr",
     "output_type": "stream",
     "text": [
      "/opt/homebrew/Caskroom/miniforge/base/envs/obspy/lib/python3.11/site-packages/obspy/signal/cross_correlation.py:291: RuntimeWarning: invalid value encountered in sqrt\n",
      "  np.sqrt(norm, out=norm)\n"
     ]
    },
    {
     "name": "stdout",
     "output_type": "stream",
     "text": [
      "5 detections found.\n",
      "Processing A04, 2020-01-16-23-00-00...\n"
     ]
    },
    {
     "name": "stderr",
     "output_type": "stream",
     "text": [
      "/opt/homebrew/Caskroom/miniforge/base/envs/obspy/lib/python3.11/site-packages/obspy/signal/cross_correlation.py:291: RuntimeWarning: invalid value encountered in sqrt\n",
      "  np.sqrt(norm, out=norm)\n"
     ]
    },
    {
     "name": "stdout",
     "output_type": "stream",
     "text": [
      "9 detections found.\n",
      "Processing A04, 2020-01-17-00-00-00...\n"
     ]
    },
    {
     "name": "stderr",
     "output_type": "stream",
     "text": [
      "/opt/homebrew/Caskroom/miniforge/base/envs/obspy/lib/python3.11/site-packages/obspy/signal/cross_correlation.py:291: RuntimeWarning: invalid value encountered in sqrt\n",
      "  np.sqrt(norm, out=norm)\n"
     ]
    },
    {
     "name": "stdout",
     "output_type": "stream",
     "text": [
      "9 detections found.\n",
      "Processing A04, 2020-01-17-01-00-00...\n"
     ]
    },
    {
     "name": "stderr",
     "output_type": "stream",
     "text": [
      "/opt/homebrew/Caskroom/miniforge/base/envs/obspy/lib/python3.11/site-packages/obspy/signal/cross_correlation.py:291: RuntimeWarning: invalid value encountered in sqrt\n",
      "  np.sqrt(norm, out=norm)\n"
     ]
    },
    {
     "name": "stdout",
     "output_type": "stream",
     "text": [
      "18 detections found.\n",
      "Processing A04, 2020-01-17-02-00-00...\n"
     ]
    },
    {
     "name": "stderr",
     "output_type": "stream",
     "text": [
      "/opt/homebrew/Caskroom/miniforge/base/envs/obspy/lib/python3.11/site-packages/obspy/signal/cross_correlation.py:291: RuntimeWarning: invalid value encountered in sqrt\n",
      "  np.sqrt(norm, out=norm)\n"
     ]
    },
    {
     "name": "stdout",
     "output_type": "stream",
     "text": [
      "1 detections found.\n",
      "Processing A04, 2020-01-17-03-00-00...\n"
     ]
    },
    {
     "name": "stderr",
     "output_type": "stream",
     "text": [
      "/opt/homebrew/Caskroom/miniforge/base/envs/obspy/lib/python3.11/site-packages/obspy/signal/cross_correlation.py:291: RuntimeWarning: invalid value encountered in sqrt\n",
      "  np.sqrt(norm, out=norm)\n"
     ]
    },
    {
     "name": "stdout",
     "output_type": "stream",
     "text": [
      "9 detections found.\n",
      "Processing A04, 2020-01-17-04-00-00...\n"
     ]
    },
    {
     "name": "stderr",
     "output_type": "stream",
     "text": [
      "/opt/homebrew/Caskroom/miniforge/base/envs/obspy/lib/python3.11/site-packages/obspy/signal/cross_correlation.py:291: RuntimeWarning: invalid value encountered in sqrt\n",
      "  np.sqrt(norm, out=norm)\n"
     ]
    },
    {
     "name": "stdout",
     "output_type": "stream",
     "text": [
      "4 detections found.\n",
      "Processing A04, 2020-01-17-05-00-00...\n"
     ]
    },
    {
     "name": "stderr",
     "output_type": "stream",
     "text": [
      "/opt/homebrew/Caskroom/miniforge/base/envs/obspy/lib/python3.11/site-packages/obspy/signal/cross_correlation.py:291: RuntimeWarning: invalid value encountered in sqrt\n",
      "  np.sqrt(norm, out=norm)\n"
     ]
    },
    {
     "name": "stdout",
     "output_type": "stream",
     "text": [
      "5 detections found.\n",
      "Processing A04, 2020-01-17-06-00-00...\n"
     ]
    },
    {
     "name": "stderr",
     "output_type": "stream",
     "text": [
      "/opt/homebrew/Caskroom/miniforge/base/envs/obspy/lib/python3.11/site-packages/obspy/signal/cross_correlation.py:291: RuntimeWarning: invalid value encountered in sqrt\n",
      "  np.sqrt(norm, out=norm)\n"
     ]
    },
    {
     "name": "stdout",
     "output_type": "stream",
     "text": [
      "1 detections found.\n",
      "Processing A04, 2020-01-17-07-00-00...\n"
     ]
    },
    {
     "name": "stderr",
     "output_type": "stream",
     "text": [
      "/opt/homebrew/Caskroom/miniforge/base/envs/obspy/lib/python3.11/site-packages/obspy/signal/cross_correlation.py:291: RuntimeWarning: invalid value encountered in sqrt\n",
      "  np.sqrt(norm, out=norm)\n"
     ]
    },
    {
     "name": "stdout",
     "output_type": "stream",
     "text": [
      "No detections found.\n",
      "Processing A04, 2020-01-17-08-00-00...\n",
      "2 detections found.\n",
      "Processing A04, 2020-01-17-09-00-00...\n"
     ]
    },
    {
     "name": "stderr",
     "output_type": "stream",
     "text": [
      "/opt/homebrew/Caskroom/miniforge/base/envs/obspy/lib/python3.11/site-packages/obspy/signal/cross_correlation.py:291: RuntimeWarning: invalid value encountered in sqrt\n",
      "  np.sqrt(norm, out=norm)\n"
     ]
    },
    {
     "name": "stdout",
     "output_type": "stream",
     "text": [
      "No detections found.\n",
      "Processing A04, 2020-01-17-10-00-00...\n",
      "No detections found.\n",
      "Processing A04, 2020-01-17-11-00-00...\n",
      "1 detections found.\n",
      "Processing A04, 2020-01-17-12-00-00...\n"
     ]
    },
    {
     "name": "stderr",
     "output_type": "stream",
     "text": [
      "/opt/homebrew/Caskroom/miniforge/base/envs/obspy/lib/python3.11/site-packages/obspy/signal/cross_correlation.py:291: RuntimeWarning: invalid value encountered in sqrt\n",
      "  np.sqrt(norm, out=norm)\n"
     ]
    },
    {
     "name": "stdout",
     "output_type": "stream",
     "text": [
      "1 detections found.\n",
      "Processing A04, 2020-01-17-13-00-00...\n"
     ]
    },
    {
     "name": "stderr",
     "output_type": "stream",
     "text": [
      "/opt/homebrew/Caskroom/miniforge/base/envs/obspy/lib/python3.11/site-packages/obspy/signal/cross_correlation.py:291: RuntimeWarning: invalid value encountered in sqrt\n",
      "  np.sqrt(norm, out=norm)\n"
     ]
    },
    {
     "name": "stdout",
     "output_type": "stream",
     "text": [
      "No detections found.\n",
      "Processing A04, 2020-01-17-14-00-00...\n",
      "2 detections found.\n",
      "Processing A04, 2020-01-17-15-00-00...\n"
     ]
    },
    {
     "name": "stderr",
     "output_type": "stream",
     "text": [
      "/opt/homebrew/Caskroom/miniforge/base/envs/obspy/lib/python3.11/site-packages/obspy/signal/cross_correlation.py:291: RuntimeWarning: invalid value encountered in sqrt\n",
      "  np.sqrt(norm, out=norm)\n"
     ]
    },
    {
     "name": "stdout",
     "output_type": "stream",
     "text": [
      "1 detections found.\n",
      "Processing A04, 2020-01-17-16-00-00...\n",
      "1 detections found.\n",
      "Processing A04, 2020-01-17-17-00-00...\n"
     ]
    },
    {
     "name": "stderr",
     "output_type": "stream",
     "text": [
      "/opt/homebrew/Caskroom/miniforge/base/envs/obspy/lib/python3.11/site-packages/obspy/signal/cross_correlation.py:291: RuntimeWarning: invalid value encountered in sqrt\n",
      "  np.sqrt(norm, out=norm)\n"
     ]
    },
    {
     "name": "stdout",
     "output_type": "stream",
     "text": [
      "No detections found.\n",
      "Processing A04, 2020-01-17-18-00-00...\n",
      "2 detections found.\n",
      "Processing A04, 2020-01-17-19-00-00...\n"
     ]
    },
    {
     "name": "stderr",
     "output_type": "stream",
     "text": [
      "/opt/homebrew/Caskroom/miniforge/base/envs/obspy/lib/python3.11/site-packages/obspy/signal/cross_correlation.py:291: RuntimeWarning: invalid value encountered in sqrt\n",
      "  np.sqrt(norm, out=norm)\n"
     ]
    },
    {
     "name": "stdout",
     "output_type": "stream",
     "text": [
      "No detections found.\n",
      "Processing A04, 2020-01-17-20-00-00...\n",
      "1 detections found.\n",
      "Processing A04, 2020-01-17-21-00-00...\n"
     ]
    },
    {
     "name": "stderr",
     "output_type": "stream",
     "text": [
      "/opt/homebrew/Caskroom/miniforge/base/envs/obspy/lib/python3.11/site-packages/obspy/signal/cross_correlation.py:291: RuntimeWarning: invalid value encountered in sqrt\n",
      "  np.sqrt(norm, out=norm)\n"
     ]
    },
    {
     "name": "stdout",
     "output_type": "stream",
     "text": [
      "No detections found.\n",
      "Processing A04, 2020-01-17-22-00-00...\n",
      "No detections found.\n",
      "Processing A04, 2020-01-17-23-00-00...\n",
      "1 detections found.\n",
      "Processing A04, 2020-01-18-00-00-00...\n",
      "1 detections found.\n",
      "Processing A04, 2020-01-18-01-00-00...\n"
     ]
    },
    {
     "name": "stderr",
     "output_type": "stream",
     "text": [
      "/opt/homebrew/Caskroom/miniforge/base/envs/obspy/lib/python3.11/site-packages/obspy/signal/cross_correlation.py:291: RuntimeWarning: invalid value encountered in sqrt\n",
      "  np.sqrt(norm, out=norm)\n"
     ]
    },
    {
     "name": "stdout",
     "output_type": "stream",
     "text": [
      "1 detections found.\n",
      "Processing A04, 2020-01-18-02-00-00...\n",
      "1 detections found.\n",
      "Processing A04, 2020-01-18-03-00-00...\n",
      "No detections found.\n",
      "Processing A04, 2020-01-18-04-00-00...\n"
     ]
    },
    {
     "name": "stderr",
     "output_type": "stream",
     "text": [
      "/opt/homebrew/Caskroom/miniforge/base/envs/obspy/lib/python3.11/site-packages/obspy/signal/cross_correlation.py:291: RuntimeWarning: invalid value encountered in sqrt\n",
      "  np.sqrt(norm, out=norm)\n"
     ]
    },
    {
     "name": "stdout",
     "output_type": "stream",
     "text": [
      "4 detections found.\n",
      "Processing A04, 2020-01-18-05-00-00...\n",
      "5 detections found.\n",
      "Processing A04, 2020-01-18-06-00-00...\n"
     ]
    },
    {
     "name": "stderr",
     "output_type": "stream",
     "text": [
      "/opt/homebrew/Caskroom/miniforge/base/envs/obspy/lib/python3.11/site-packages/obspy/signal/cross_correlation.py:291: RuntimeWarning: invalid value encountered in sqrt\n",
      "  np.sqrt(norm, out=norm)\n"
     ]
    },
    {
     "name": "stdout",
     "output_type": "stream",
     "text": [
      "No detections found.\n",
      "Processing A04, 2020-01-18-07-00-00...\n",
      "No detections found.\n",
      "Processing A04, 2020-01-18-08-00-00...\n",
      "No detections found.\n",
      "Processing A04, 2020-01-18-09-00-00...\n",
      "No detections found.\n",
      "Processing A04, 2020-01-18-10-00-00...\n",
      "No detections found.\n",
      "Processing A04, 2020-01-18-11-00-00...\n",
      "No detections found.\n",
      "Processing A04, 2020-01-18-12-00-00...\n",
      "No detections found.\n",
      "Processing A04, 2020-01-18-13-00-00...\n",
      "No detections found.\n",
      "Processing A04, 2020-01-18-14-00-00...\n",
      "No detections found.\n",
      "Processing A04, 2020-01-18-15-00-00...\n",
      "1 detections found.\n",
      "Processing A04, 2020-01-18-16-00-00...\n"
     ]
    },
    {
     "name": "stderr",
     "output_type": "stream",
     "text": [
      "/opt/homebrew/Caskroom/miniforge/base/envs/obspy/lib/python3.11/site-packages/obspy/signal/cross_correlation.py:291: RuntimeWarning: invalid value encountered in sqrt\n",
      "  np.sqrt(norm, out=norm)\n"
     ]
    },
    {
     "name": "stdout",
     "output_type": "stream",
     "text": [
      "No detections found.\n",
      "Processing A04, 2020-01-18-17-00-00...\n",
      "No detections found.\n",
      "Processing A04, 2020-01-18-18-00-00...\n",
      "No detections found.\n",
      "Processing A04, 2020-01-18-19-00-00...\n",
      "No detections found.\n",
      "Processing A04, 2020-01-18-20-00-00...\n",
      "No detections found.\n",
      "Processing A04, 2020-01-18-21-00-00...\n",
      "No detections found.\n",
      "Processing A04, 2020-01-18-22-00-00...\n",
      "1 detections found.\n",
      "Processing A04, 2020-01-18-23-00-00...\n"
     ]
    },
    {
     "name": "stderr",
     "output_type": "stream",
     "text": [
      "/opt/homebrew/Caskroom/miniforge/base/envs/obspy/lib/python3.11/site-packages/obspy/signal/cross_correlation.py:291: RuntimeWarning: invalid value encountered in sqrt\n",
      "  np.sqrt(norm, out=norm)\n"
     ]
    },
    {
     "name": "stdout",
     "output_type": "stream",
     "text": [
      "No detections found.\n",
      "Processing A04, 2020-01-19-00-00-00...\n",
      "No detections found.\n",
      "Processing A04, 2020-01-19-01-00-00...\n",
      "No detections found.\n",
      "Processing A04, 2020-01-19-02-00-00...\n",
      "No detections found.\n",
      "Processing A04, 2020-01-19-03-00-00...\n",
      "No detections found.\n",
      "Processing A04, 2020-01-19-04-00-00...\n",
      "No detections found.\n",
      "Processing A04, 2020-01-19-05-00-00...\n",
      "No detections found.\n",
      "Processing A04, 2020-01-19-06-00-00...\n",
      "No detections found.\n",
      "Processing A04, 2020-01-19-07-00-00...\n",
      "No detections found.\n",
      "Processing A04, 2020-01-19-08-00-00...\n",
      "No detections found.\n",
      "Processing A04, 2020-01-19-09-00-00...\n",
      "No detections found.\n",
      "Processing A04, 2020-01-19-10-00-00...\n",
      "No detections found.\n",
      "Processing A04, 2020-01-19-11-00-00...\n",
      "1 detections found.\n",
      "Processing A04, 2020-01-19-12-00-00...\n",
      "No detections found.\n",
      "Processing A04, 2020-01-19-13-00-00...\n"
     ]
    },
    {
     "name": "stderr",
     "output_type": "stream",
     "text": [
      "/opt/homebrew/Caskroom/miniforge/base/envs/obspy/lib/python3.11/site-packages/obspy/signal/cross_correlation.py:291: RuntimeWarning: invalid value encountered in sqrt\n",
      "  np.sqrt(norm, out=norm)\n"
     ]
    },
    {
     "name": "stdout",
     "output_type": "stream",
     "text": [
      "No detections found.\n",
      "Processing A04, 2020-01-19-14-00-00...\n",
      "No detections found.\n",
      "Processing A04, 2020-01-19-15-00-00...\n",
      "No detections found.\n",
      "Processing A04, 2020-01-19-16-00-00...\n",
      "No detections found.\n",
      "Processing A04, 2020-01-19-17-00-00...\n",
      "1 detections found.\n",
      "Processing A04, 2020-01-19-18-00-00...\n",
      "No detections found.\n",
      "Processing A04, 2020-01-19-19-00-00...\n"
     ]
    },
    {
     "name": "stderr",
     "output_type": "stream",
     "text": [
      "/opt/homebrew/Caskroom/miniforge/base/envs/obspy/lib/python3.11/site-packages/obspy/signal/cross_correlation.py:291: RuntimeWarning: invalid value encountered in sqrt\n",
      "  np.sqrt(norm, out=norm)\n"
     ]
    },
    {
     "name": "stdout",
     "output_type": "stream",
     "text": [
      "No detections found.\n",
      "Processing A04, 2020-01-19-20-00-00...\n",
      "No detections found.\n",
      "Processing A04, 2020-01-19-21-00-00...\n",
      "No detections found.\n",
      "Processing A04, 2020-01-19-22-00-00...\n",
      "No detections found.\n",
      "Processing A04, 2020-01-19-23-00-00...\n",
      "No detections found.\n",
      "Processing A04, 2020-01-20-00-00-00...\n",
      "No detections found.\n",
      "Processing A04, 2020-01-20-01-00-00...\n",
      "No detections found.\n",
      "Processing A04, 2020-01-20-02-00-00...\n",
      "No detections found.\n",
      "Processing A04, 2020-01-20-03-00-00...\n",
      "No detections found.\n",
      "Processing A04, 2020-01-20-04-00-00...\n",
      "No detections found.\n",
      "Processing A04, 2020-01-20-05-00-00...\n",
      "No detections found.\n",
      "Processing A04, 2020-01-20-06-00-00...\n",
      "No detections found.\n",
      "Processing A04, 2020-01-20-07-00-00...\n",
      "No detections found.\n",
      "Processing A04, 2020-01-20-08-00-00...\n",
      "No detections found.\n",
      "Processing A04, 2020-01-20-09-00-00...\n",
      "No detections found.\n",
      "Processing A04, 2020-01-20-10-00-00...\n",
      "No detections found.\n",
      "Processing A04, 2020-01-20-11-00-00...\n",
      "No detections found.\n",
      "Processing A04, 2020-01-20-12-00-00...\n",
      "No detections found.\n",
      "Processing A04, 2020-01-20-13-00-00...\n",
      "No detections found.\n",
      "Processing A04, 2020-01-20-14-00-00...\n",
      "No detections found.\n",
      "Processing A04, 2020-01-20-15-00-00...\n",
      "No detections found.\n",
      "Processing A04, 2020-01-20-16-00-00...\n",
      "No detections found.\n",
      "Processing A04, 2020-01-20-17-00-00...\n",
      "No detections found.\n",
      "Processing A04, 2020-01-20-18-00-00...\n",
      "No detections found.\n",
      "Processing A04, 2020-01-20-19-00-00...\n",
      "No detections found.\n",
      "Processing A04, 2020-01-20-20-00-00...\n",
      "No detections found.\n",
      "Processing A04, 2020-01-20-21-00-00...\n",
      "No detections found.\n",
      "Processing A04, 2020-01-20-22-00-00...\n",
      "No detections found.\n",
      "Processing A04, 2020-01-20-23-00-00...\n",
      "No detections found.\n",
      "Processing A04, 2020-01-21-00-00-00...\n",
      "No detections found.\n",
      "Processing A04, 2020-01-21-01-00-00...\n",
      "No detections found.\n",
      "Processing A04, 2020-01-21-02-00-00...\n",
      "No detections found.\n",
      "Processing A04, 2020-01-21-03-00-00...\n",
      "No detections found.\n",
      "Processing A04, 2020-01-21-04-00-00...\n",
      "No detections found.\n",
      "Processing A04, 2020-01-21-05-00-00...\n",
      "No detections found.\n",
      "Processing A04, 2020-01-21-06-00-00...\n",
      "No detections found.\n",
      "Processing A04, 2020-01-21-07-00-00...\n",
      "1 detections found.\n",
      "Processing A04, 2020-01-21-08-00-00...\n"
     ]
    },
    {
     "name": "stderr",
     "output_type": "stream",
     "text": [
      "/opt/homebrew/Caskroom/miniforge/base/envs/obspy/lib/python3.11/site-packages/obspy/signal/cross_correlation.py:291: RuntimeWarning: invalid value encountered in sqrt\n",
      "  np.sqrt(norm, out=norm)\n"
     ]
    },
    {
     "name": "stdout",
     "output_type": "stream",
     "text": [
      "No detections found.\n",
      "Processing A04, 2020-01-21-09-00-00...\n",
      "No detections found.\n",
      "Processing A04, 2020-01-21-10-00-00...\n",
      "No detections found.\n",
      "Processing A04, 2020-01-21-11-00-00...\n",
      "No detections found.\n",
      "Processing A04, 2020-01-21-12-00-00...\n",
      "No detections found.\n",
      "Processing A04, 2020-01-21-13-00-00...\n",
      "No detections found.\n",
      "Processing A04, 2020-01-21-14-00-00...\n",
      "No detections found.\n",
      "Processing A04, 2020-01-21-15-00-00...\n",
      "1 detections found.\n",
      "Processing A04, 2020-01-21-16-00-00...\n"
     ]
    },
    {
     "name": "stderr",
     "output_type": "stream",
     "text": [
      "/opt/homebrew/Caskroom/miniforge/base/envs/obspy/lib/python3.11/site-packages/obspy/signal/cross_correlation.py:291: RuntimeWarning: invalid value encountered in sqrt\n",
      "  np.sqrt(norm, out=norm)\n"
     ]
    },
    {
     "name": "stdout",
     "output_type": "stream",
     "text": [
      "No detections found.\n",
      "Processing A04, 2020-01-21-17-00-00...\n",
      "No detections found.\n",
      "Processing A04, 2020-01-21-18-00-00...\n",
      "2 detections found.\n",
      "Processing A04, 2020-01-21-19-00-00...\n"
     ]
    },
    {
     "name": "stderr",
     "output_type": "stream",
     "text": [
      "/opt/homebrew/Caskroom/miniforge/base/envs/obspy/lib/python3.11/site-packages/obspy/signal/cross_correlation.py:291: RuntimeWarning: invalid value encountered in sqrt\n",
      "  np.sqrt(norm, out=norm)\n"
     ]
    },
    {
     "name": "stdout",
     "output_type": "stream",
     "text": [
      "No detections found.\n",
      "Processing A04, 2020-01-21-20-00-00...\n",
      "No detections found.\n",
      "Processing A04, 2020-01-21-21-00-00...\n",
      "No detections found.\n",
      "Processing A04, 2020-01-21-22-00-00...\n",
      "No detections found.\n",
      "Processing A04, 2020-01-21-23-00-00...\n",
      "No detections found.\n",
      "Processing A04, 2020-01-22-00-00-00...\n",
      "No detections found.\n",
      "Processing A04, 2020-01-22-01-00-00...\n",
      "No detections found.\n",
      "Processing A04, 2020-01-22-02-00-00...\n",
      "No detections found.\n",
      "Processing A04, 2020-01-22-03-00-00...\n",
      "No detections found.\n",
      "Processing A04, 2020-01-22-04-00-00...\n",
      "No detections found.\n",
      "Processing A04, 2020-01-22-05-00-00...\n",
      "1 detections found.\n",
      "Processing A04, 2020-01-22-06-00-00...\n"
     ]
    },
    {
     "name": "stderr",
     "output_type": "stream",
     "text": [
      "/opt/homebrew/Caskroom/miniforge/base/envs/obspy/lib/python3.11/site-packages/obspy/signal/cross_correlation.py:291: RuntimeWarning: invalid value encountered in sqrt\n",
      "  np.sqrt(norm, out=norm)\n"
     ]
    },
    {
     "name": "stdout",
     "output_type": "stream",
     "text": [
      "No detections found.\n",
      "Processing A04, 2020-01-22-07-00-00...\n",
      "No detections found.\n",
      "Processing A04, 2020-01-22-08-00-00...\n",
      "No detections found.\n",
      "Processing A04, 2020-01-22-09-00-00...\n",
      "No detections found.\n",
      "Processing A04, 2020-01-22-10-00-00...\n",
      "No detections found.\n",
      "Processing A04, 2020-01-22-11-00-00...\n",
      "No detections found.\n",
      "Processing A04, 2020-01-22-12-00-00...\n",
      "No detections found.\n",
      "Processing A04, 2020-01-22-13-00-00...\n",
      "No detections found.\n",
      "Processing A04, 2020-01-22-14-00-00...\n",
      "No detections found.\n",
      "Processing A04, 2020-01-22-15-00-00...\n",
      "No detections found.\n",
      "Processing A04, 2020-01-22-16-00-00...\n",
      "No detections found.\n",
      "Processing A04, 2020-01-22-17-00-00...\n",
      "No detections found.\n",
      "Processing A04, 2020-01-22-18-00-00...\n",
      "No detections found.\n",
      "Processing A04, 2020-01-22-19-00-00...\n",
      "No detections found.\n",
      "Processing A04, 2020-01-22-20-00-00...\n",
      "No detections found.\n",
      "Processing A04, 2020-01-22-21-00-00...\n",
      "No detections found.\n",
      "Processing A04, 2020-01-22-22-00-00...\n",
      "1 detections found.\n",
      "Processing A04, 2020-01-22-23-00-00...\n"
     ]
    },
    {
     "name": "stderr",
     "output_type": "stream",
     "text": [
      "/opt/homebrew/Caskroom/miniforge/base/envs/obspy/lib/python3.11/site-packages/obspy/signal/cross_correlation.py:291: RuntimeWarning: invalid value encountered in sqrt\n",
      "  np.sqrt(norm, out=norm)\n"
     ]
    },
    {
     "name": "stdout",
     "output_type": "stream",
     "text": [
      "No detections found.\n",
      "Processing A04, 2020-01-23-00-00-00...\n",
      "No detections found.\n",
      "Processing A04, 2020-01-23-01-00-00...\n",
      "No detections found.\n",
      "Processing A04, 2020-01-23-02-00-00...\n",
      "No detections found.\n",
      "Processing A04, 2020-01-23-03-00-00...\n",
      "No detections found.\n",
      "Processing A04, 2020-01-23-04-00-00...\n",
      "No detections found.\n",
      "Processing A04, 2020-01-23-05-00-00...\n",
      "No detections found.\n",
      "Processing A04, 2020-01-23-06-00-00...\n",
      "No detections found.\n",
      "Processing A04, 2020-01-23-07-00-00...\n",
      "No detections found.\n",
      "Processing A04, 2020-01-23-08-00-00...\n",
      "1 detections found.\n",
      "Processing A04, 2020-01-23-09-00-00...\n"
     ]
    },
    {
     "name": "stderr",
     "output_type": "stream",
     "text": [
      "/opt/homebrew/Caskroom/miniforge/base/envs/obspy/lib/python3.11/site-packages/obspy/signal/cross_correlation.py:291: RuntimeWarning: invalid value encountered in sqrt\n",
      "  np.sqrt(norm, out=norm)\n"
     ]
    },
    {
     "name": "stdout",
     "output_type": "stream",
     "text": [
      "2 detections found.\n",
      "Processing A04, 2020-01-23-10-00-00...\n"
     ]
    },
    {
     "name": "stderr",
     "output_type": "stream",
     "text": [
      "/opt/homebrew/Caskroom/miniforge/base/envs/obspy/lib/python3.11/site-packages/obspy/signal/cross_correlation.py:291: RuntimeWarning: invalid value encountered in sqrt\n",
      "  np.sqrt(norm, out=norm)\n"
     ]
    },
    {
     "name": "stdout",
     "output_type": "stream",
     "text": [
      "No detections found.\n",
      "Processing A04, 2020-01-23-11-00-00...\n",
      "No detections found.\n",
      "Processing A04, 2020-01-23-12-00-00...\n",
      "No detections found.\n",
      "Processing A04, 2020-01-23-13-00-00...\n",
      "No detections found.\n",
      "Processing A04, 2020-01-23-14-00-00...\n",
      "No detections found.\n",
      "Processing A04, 2020-01-23-15-00-00...\n",
      "No detections found.\n",
      "Processing A04, 2020-01-23-16-00-00...\n",
      "No detections found.\n",
      "Processing A04, 2020-01-23-17-00-00...\n",
      "No detections found.\n",
      "Processing A04, 2020-01-23-18-00-00...\n",
      "No detections found.\n",
      "Processing A04, 2020-01-23-19-00-00...\n",
      "No detections found.\n",
      "Processing A04, 2020-01-23-20-00-00...\n",
      "No detections found.\n",
      "Processing A04, 2020-01-23-21-00-00...\n",
      "No detections found.\n",
      "Processing A04, 2020-01-23-22-00-00...\n",
      "No detections found.\n",
      "Processing A04, 2020-01-23-23-00-00...\n",
      "No detections found.\n",
      "Processing A04, 2020-01-24-00-00-00...\n",
      "No detections found.\n",
      "Processing A04, 2020-01-24-01-00-00...\n",
      "No detections found.\n",
      "Processing A04, 2020-01-24-02-00-00...\n",
      "No detections found.\n",
      "Processing A04, 2020-01-24-03-00-00...\n",
      "No detections found.\n",
      "Processing A04, 2020-01-24-04-00-00...\n",
      "No detections found.\n",
      "Processing A04, 2020-01-24-05-00-00...\n",
      "No detections found.\n",
      "Processing A04, 2020-01-24-06-00-00...\n",
      "No detections found.\n",
      "Processing A04, 2020-01-24-07-00-00...\n",
      "No detections found.\n",
      "Processing A04, 2020-01-24-08-00-00...\n",
      "2 detections found.\n",
      "Processing A04, 2020-01-24-09-00-00...\n",
      "No detections found.\n",
      "Processing A04, 2020-01-24-10-00-00...\n"
     ]
    },
    {
     "name": "stderr",
     "output_type": "stream",
     "text": [
      "/opt/homebrew/Caskroom/miniforge/base/envs/obspy/lib/python3.11/site-packages/obspy/signal/cross_correlation.py:291: RuntimeWarning: invalid value encountered in sqrt\n",
      "  np.sqrt(norm, out=norm)\n"
     ]
    },
    {
     "name": "stdout",
     "output_type": "stream",
     "text": [
      "No detections found.\n",
      "Processing A04, 2020-01-24-11-00-00...\n",
      "No detections found.\n",
      "Processing A04, 2020-01-24-12-00-00...\n",
      "No detections found.\n",
      "Processing A04, 2020-01-24-13-00-00...\n",
      "No detections found.\n",
      "Processing A04, 2020-01-24-14-00-00...\n",
      "No detections found.\n",
      "Processing A04, 2020-01-24-15-00-00...\n",
      "No detections found.\n",
      "Processing A04, 2020-01-24-16-00-00...\n",
      "No detections found.\n",
      "Processing A04, 2020-01-24-17-00-00...\n",
      "No detections found.\n",
      "Processing A04, 2020-01-24-18-00-00...\n",
      "No detections found.\n",
      "Processing A04, 2020-01-24-19-00-00...\n",
      "No detections found.\n",
      "Processing A04, 2020-01-24-20-00-00...\n",
      "No detections found.\n",
      "Processing A04, 2020-01-24-21-00-00...\n",
      "No detections found.\n",
      "Processing A04, 2020-01-24-22-00-00...\n",
      "No detections found.\n",
      "Processing A04, 2020-01-24-23-00-00...\n",
      "No detections found.\n",
      "Processing A04, 2020-01-25-00-00-00...\n",
      "No detections found.\n",
      "Processing A04, 2020-01-25-01-00-00...\n",
      "No detections found.\n",
      "Processing A04, 2020-01-25-02-00-00...\n",
      "No detections found.\n",
      "Processing A04, 2020-01-25-03-00-00...\n",
      "No detections found.\n",
      "Processing A04, 2020-01-25-04-00-00...\n",
      "No detections found.\n",
      "Processing A04, 2020-01-25-05-00-00...\n",
      "No detections found.\n",
      "Processing A04, 2020-01-25-06-00-00...\n",
      "No detections found.\n",
      "Processing A04, 2020-01-25-07-00-00...\n",
      "1 detections found.\n",
      "Processing A04, 2020-01-25-08-00-00...\n"
     ]
    },
    {
     "name": "stderr",
     "output_type": "stream",
     "text": [
      "/opt/homebrew/Caskroom/miniforge/base/envs/obspy/lib/python3.11/site-packages/obspy/signal/cross_correlation.py:291: RuntimeWarning: invalid value encountered in sqrt\n",
      "  np.sqrt(norm, out=norm)\n"
     ]
    },
    {
     "name": "stdout",
     "output_type": "stream",
     "text": [
      "3 detections found.\n",
      "Processing A04, 2020-01-25-09-00-00...\n"
     ]
    },
    {
     "name": "stderr",
     "output_type": "stream",
     "text": [
      "/opt/homebrew/Caskroom/miniforge/base/envs/obspy/lib/python3.11/site-packages/obspy/signal/cross_correlation.py:291: RuntimeWarning: invalid value encountered in sqrt\n",
      "  np.sqrt(norm, out=norm)\n"
     ]
    },
    {
     "name": "stdout",
     "output_type": "stream",
     "text": [
      "7 detections found.\n",
      "Processing A04, 2020-01-25-10-00-00...\n"
     ]
    },
    {
     "name": "stderr",
     "output_type": "stream",
     "text": [
      "/opt/homebrew/Caskroom/miniforge/base/envs/obspy/lib/python3.11/site-packages/obspy/signal/cross_correlation.py:291: RuntimeWarning: invalid value encountered in sqrt\n",
      "  np.sqrt(norm, out=norm)\n"
     ]
    },
    {
     "name": "stdout",
     "output_type": "stream",
     "text": [
      "8 detections found.\n",
      "Processing A04, 2020-01-25-11-00-00...\n"
     ]
    },
    {
     "name": "stderr",
     "output_type": "stream",
     "text": [
      "/opt/homebrew/Caskroom/miniforge/base/envs/obspy/lib/python3.11/site-packages/obspy/signal/cross_correlation.py:291: RuntimeWarning: invalid value encountered in sqrt\n",
      "  np.sqrt(norm, out=norm)\n"
     ]
    },
    {
     "name": "stdout",
     "output_type": "stream",
     "text": [
      "No detections found.\n",
      "Processing A04, 2020-01-25-12-00-00...\n",
      "3 detections found.\n",
      "Processing A04, 2020-01-25-13-00-00...\n"
     ]
    },
    {
     "name": "stderr",
     "output_type": "stream",
     "text": [
      "/opt/homebrew/Caskroom/miniforge/base/envs/obspy/lib/python3.11/site-packages/obspy/signal/cross_correlation.py:291: RuntimeWarning: invalid value encountered in sqrt\n",
      "  np.sqrt(norm, out=norm)\n"
     ]
    },
    {
     "name": "stdout",
     "output_type": "stream",
     "text": [
      "No detections found.\n",
      "Processing A04, 2020-01-25-14-00-00...\n",
      "No detections found.\n",
      "Processing A04, 2020-01-25-15-00-00...\n",
      "No detections found.\n",
      "Processing A04, 2020-01-25-16-00-00...\n",
      "No detections found.\n",
      "Processing A04, 2020-01-25-17-00-00...\n",
      "No detections found.\n",
      "Processing A04, 2020-01-25-18-00-00...\n",
      "No detections found.\n",
      "Processing A04, 2020-01-25-19-00-00...\n",
      "No detections found.\n",
      "Processing A04, 2020-01-25-20-00-00...\n",
      "No detections found.\n",
      "Processing A04, 2020-01-25-21-00-00...\n",
      "No detections found.\n",
      "Processing A04, 2020-01-25-22-00-00...\n",
      "No detections found.\n",
      "Processing A04, 2020-01-25-23-00-00...\n",
      "No detections found.\n",
      "Processing A04, 2020-01-26-00-00-00...\n",
      "1 detections found.\n",
      "Processing A04, 2020-01-26-01-00-00...\n"
     ]
    },
    {
     "name": "stderr",
     "output_type": "stream",
     "text": [
      "/opt/homebrew/Caskroom/miniforge/base/envs/obspy/lib/python3.11/site-packages/obspy/signal/cross_correlation.py:291: RuntimeWarning: invalid value encountered in sqrt\n",
      "  np.sqrt(norm, out=norm)\n"
     ]
    },
    {
     "name": "stdout",
     "output_type": "stream",
     "text": [
      "No detections found.\n",
      "Processing A04, 2020-01-26-02-00-00...\n",
      "No detections found.\n",
      "Processing A04, 2020-01-26-03-00-00...\n",
      "No detections found.\n",
      "Processing A04, 2020-01-26-04-00-00...\n",
      "No detections found.\n",
      "Processing A04, 2020-01-26-05-00-00...\n",
      "No detections found.\n",
      "Processing A04, 2020-01-26-06-00-00...\n",
      "No detections found.\n",
      "Processing A04, 2020-01-26-07-00-00...\n",
      "No detections found.\n",
      "Processing A04, 2020-01-26-08-00-00...\n",
      "No detections found.\n",
      "Processing A04, 2020-01-26-09-00-00...\n",
      "No detections found.\n",
      "Processing A04, 2020-01-26-10-00-00...\n",
      "No detections found.\n",
      "Processing A04, 2020-01-26-11-00-00...\n",
      "No detections found.\n",
      "Processing A04, 2020-01-26-12-00-00...\n",
      "No detections found.\n",
      "Processing A04, 2020-01-26-13-00-00...\n",
      "No detections found.\n",
      "Processing A04, 2020-01-26-14-00-00...\n",
      "No detections found.\n",
      "Processing A04, 2020-01-26-15-00-00...\n",
      "No detections found.\n",
      "Processing A04, 2020-01-26-16-00-00...\n",
      "No detections found.\n",
      "Processing A04, 2020-01-26-17-00-00...\n",
      "No detections found.\n",
      "Processing A04, 2020-01-26-18-00-00...\n",
      "No detections found.\n",
      "Processing A04, 2020-01-26-19-00-00...\n",
      "No detections found.\n",
      "Processing A04, 2020-01-26-20-00-00...\n",
      "10 detections found.\n",
      "Processing A04, 2020-01-26-21-00-00...\n"
     ]
    },
    {
     "name": "stderr",
     "output_type": "stream",
     "text": [
      "/opt/homebrew/Caskroom/miniforge/base/envs/obspy/lib/python3.11/site-packages/obspy/signal/cross_correlation.py:291: RuntimeWarning: invalid value encountered in sqrt\n",
      "  np.sqrt(norm, out=norm)\n"
     ]
    },
    {
     "name": "stdout",
     "output_type": "stream",
     "text": [
      "370 detections found.\n",
      "Processing A04, 2020-01-26-22-00-00...\n"
     ]
    },
    {
     "name": "stderr",
     "output_type": "stream",
     "text": [
      "/opt/homebrew/Caskroom/miniforge/base/envs/obspy/lib/python3.11/site-packages/obspy/signal/cross_correlation.py:291: RuntimeWarning: invalid value encountered in sqrt\n",
      "  np.sqrt(norm, out=norm)\n"
     ]
    },
    {
     "name": "stdout",
     "output_type": "stream",
     "text": [
      "1091 detections found.\n",
      "Processing A04, 2020-01-26-23-00-00...\n"
     ]
    },
    {
     "name": "stderr",
     "output_type": "stream",
     "text": [
      "/opt/homebrew/Caskroom/miniforge/base/envs/obspy/lib/python3.11/site-packages/obspy/signal/cross_correlation.py:291: RuntimeWarning: invalid value encountered in sqrt\n",
      "  np.sqrt(norm, out=norm)\n"
     ]
    },
    {
     "name": "stdout",
     "output_type": "stream",
     "text": [
      "1881 detections found.\n",
      "Processing A04, 2020-01-27-00-00-00...\n",
      "1300 detections found.\n",
      "Processing A04, 2020-01-27-01-00-00...\n"
     ]
    },
    {
     "name": "stderr",
     "output_type": "stream",
     "text": [
      "/opt/homebrew/Caskroom/miniforge/base/envs/obspy/lib/python3.11/site-packages/obspy/signal/cross_correlation.py:291: RuntimeWarning: invalid value encountered in sqrt\n",
      "  np.sqrt(norm, out=norm)\n"
     ]
    },
    {
     "name": "stdout",
     "output_type": "stream",
     "text": [
      "253 detections found.\n",
      "Processing A04, 2020-01-27-02-00-00...\n"
     ]
    },
    {
     "name": "stderr",
     "output_type": "stream",
     "text": [
      "/opt/homebrew/Caskroom/miniforge/base/envs/obspy/lib/python3.11/site-packages/obspy/signal/cross_correlation.py:291: RuntimeWarning: invalid value encountered in sqrt\n",
      "  np.sqrt(norm, out=norm)\n"
     ]
    },
    {
     "name": "stdout",
     "output_type": "stream",
     "text": [
      "2 detections found.\n",
      "Processing A04, 2020-01-27-03-00-00...\n"
     ]
    },
    {
     "name": "stderr",
     "output_type": "stream",
     "text": [
      "/opt/homebrew/Caskroom/miniforge/base/envs/obspy/lib/python3.11/site-packages/obspy/signal/cross_correlation.py:291: RuntimeWarning: invalid value encountered in sqrt\n",
      "  np.sqrt(norm, out=norm)\n"
     ]
    },
    {
     "name": "stdout",
     "output_type": "stream",
     "text": [
      "1 detections found.\n",
      "Processing A04, 2020-01-27-04-00-00...\n"
     ]
    },
    {
     "name": "stderr",
     "output_type": "stream",
     "text": [
      "/opt/homebrew/Caskroom/miniforge/base/envs/obspy/lib/python3.11/site-packages/obspy/signal/cross_correlation.py:291: RuntimeWarning: invalid value encountered in sqrt\n",
      "  np.sqrt(norm, out=norm)\n"
     ]
    },
    {
     "name": "stdout",
     "output_type": "stream",
     "text": [
      "No detections found.\n",
      "Processing A04, 2020-01-27-05-00-00...\n",
      "1 detections found.\n",
      "Processing A04, 2020-01-27-06-00-00...\n"
     ]
    },
    {
     "name": "stderr",
     "output_type": "stream",
     "text": [
      "/opt/homebrew/Caskroom/miniforge/base/envs/obspy/lib/python3.11/site-packages/obspy/signal/cross_correlation.py:291: RuntimeWarning: invalid value encountered in sqrt\n",
      "  np.sqrt(norm, out=norm)\n"
     ]
    },
    {
     "name": "stdout",
     "output_type": "stream",
     "text": [
      "206 detections found.\n",
      "Processing A04, 2020-01-27-07-00-00...\n"
     ]
    },
    {
     "name": "stderr",
     "output_type": "stream",
     "text": [
      "/opt/homebrew/Caskroom/miniforge/base/envs/obspy/lib/python3.11/site-packages/obspy/signal/cross_correlation.py:291: RuntimeWarning: invalid value encountered in sqrt\n",
      "  np.sqrt(norm, out=norm)\n"
     ]
    },
    {
     "name": "stdout",
     "output_type": "stream",
     "text": [
      "92 detections found.\n",
      "Processing A04, 2020-01-27-08-00-00...\n"
     ]
    },
    {
     "name": "stderr",
     "output_type": "stream",
     "text": [
      "/opt/homebrew/Caskroom/miniforge/base/envs/obspy/lib/python3.11/site-packages/obspy/signal/cross_correlation.py:291: RuntimeWarning: invalid value encountered in sqrt\n",
      "  np.sqrt(norm, out=norm)\n"
     ]
    },
    {
     "name": "stdout",
     "output_type": "stream",
     "text": [
      "176 detections found.\n",
      "Processing A04, 2020-01-27-09-00-00...\n"
     ]
    },
    {
     "name": "stderr",
     "output_type": "stream",
     "text": [
      "/opt/homebrew/Caskroom/miniforge/base/envs/obspy/lib/python3.11/site-packages/obspy/signal/cross_correlation.py:291: RuntimeWarning: invalid value encountered in sqrt\n",
      "  np.sqrt(norm, out=norm)\n"
     ]
    },
    {
     "name": "stdout",
     "output_type": "stream",
     "text": [
      "222 detections found.\n",
      "Processing A04, 2020-01-27-10-00-00...\n"
     ]
    },
    {
     "name": "stderr",
     "output_type": "stream",
     "text": [
      "/opt/homebrew/Caskroom/miniforge/base/envs/obspy/lib/python3.11/site-packages/obspy/signal/cross_correlation.py:291: RuntimeWarning: invalid value encountered in sqrt\n",
      "  np.sqrt(norm, out=norm)\n"
     ]
    },
    {
     "name": "stdout",
     "output_type": "stream",
     "text": [
      "334 detections found.\n",
      "Processing A04, 2020-01-27-11-00-00...\n"
     ]
    },
    {
     "name": "stderr",
     "output_type": "stream",
     "text": [
      "/opt/homebrew/Caskroom/miniforge/base/envs/obspy/lib/python3.11/site-packages/obspy/signal/cross_correlation.py:291: RuntimeWarning: invalid value encountered in sqrt\n",
      "  np.sqrt(norm, out=norm)\n"
     ]
    },
    {
     "name": "stdout",
     "output_type": "stream",
     "text": [
      "342 detections found.\n",
      "Processing A04, 2020-01-27-12-00-00...\n"
     ]
    },
    {
     "name": "stderr",
     "output_type": "stream",
     "text": [
      "/opt/homebrew/Caskroom/miniforge/base/envs/obspy/lib/python3.11/site-packages/obspy/signal/cross_correlation.py:291: RuntimeWarning: invalid value encountered in sqrt\n",
      "  np.sqrt(norm, out=norm)\n"
     ]
    },
    {
     "name": "stdout",
     "output_type": "stream",
     "text": [
      "504 detections found.\n",
      "Processing A04, 2020-01-27-13-00-00...\n",
      "291 detections found.\n",
      "Processing A04, 2020-01-27-14-00-00...\n"
     ]
    },
    {
     "name": "stderr",
     "output_type": "stream",
     "text": [
      "/opt/homebrew/Caskroom/miniforge/base/envs/obspy/lib/python3.11/site-packages/obspy/signal/cross_correlation.py:291: RuntimeWarning: invalid value encountered in sqrt\n",
      "  np.sqrt(norm, out=norm)\n"
     ]
    },
    {
     "name": "stdout",
     "output_type": "stream",
     "text": [
      "77 detections found.\n",
      "Processing A04, 2020-01-27-15-00-00...\n"
     ]
    },
    {
     "name": "stderr",
     "output_type": "stream",
     "text": [
      "/opt/homebrew/Caskroom/miniforge/base/envs/obspy/lib/python3.11/site-packages/obspy/signal/cross_correlation.py:291: RuntimeWarning: invalid value encountered in sqrt\n",
      "  np.sqrt(norm, out=norm)\n"
     ]
    },
    {
     "name": "stdout",
     "output_type": "stream",
     "text": [
      "2 detections found.\n",
      "Processing A04, 2020-01-27-16-00-00...\n"
     ]
    },
    {
     "name": "stderr",
     "output_type": "stream",
     "text": [
      "/opt/homebrew/Caskroom/miniforge/base/envs/obspy/lib/python3.11/site-packages/obspy/signal/cross_correlation.py:291: RuntimeWarning: invalid value encountered in sqrt\n",
      "  np.sqrt(norm, out=norm)\n"
     ]
    },
    {
     "name": "stdout",
     "output_type": "stream",
     "text": [
      "88 detections found.\n",
      "Processing A04, 2020-01-27-17-00-00...\n"
     ]
    },
    {
     "name": "stderr",
     "output_type": "stream",
     "text": [
      "/opt/homebrew/Caskroom/miniforge/base/envs/obspy/lib/python3.11/site-packages/obspy/signal/cross_correlation.py:291: RuntimeWarning: invalid value encountered in sqrt\n",
      "  np.sqrt(norm, out=norm)\n"
     ]
    },
    {
     "name": "stdout",
     "output_type": "stream",
     "text": [
      "1453 detections found.\n",
      "Processing A04, 2020-01-27-18-00-00...\n"
     ]
    },
    {
     "name": "stderr",
     "output_type": "stream",
     "text": [
      "/opt/homebrew/Caskroom/miniforge/base/envs/obspy/lib/python3.11/site-packages/obspy/signal/cross_correlation.py:291: RuntimeWarning: invalid value encountered in sqrt\n",
      "  np.sqrt(norm, out=norm)\n"
     ]
    },
    {
     "name": "stdout",
     "output_type": "stream",
     "text": [
      "556 detections found.\n",
      "Processing A04, 2020-01-27-19-00-00...\n"
     ]
    },
    {
     "name": "stderr",
     "output_type": "stream",
     "text": [
      "/opt/homebrew/Caskroom/miniforge/base/envs/obspy/lib/python3.11/site-packages/obspy/signal/cross_correlation.py:291: RuntimeWarning: invalid value encountered in sqrt\n",
      "  np.sqrt(norm, out=norm)\n"
     ]
    },
    {
     "name": "stdout",
     "output_type": "stream",
     "text": [
      "328 detections found.\n",
      "Processing A04, 2020-01-27-20-00-00...\n"
     ]
    },
    {
     "name": "stderr",
     "output_type": "stream",
     "text": [
      "/opt/homebrew/Caskroom/miniforge/base/envs/obspy/lib/python3.11/site-packages/obspy/signal/cross_correlation.py:291: RuntimeWarning: invalid value encountered in sqrt\n",
      "  np.sqrt(norm, out=norm)\n"
     ]
    },
    {
     "name": "stdout",
     "output_type": "stream",
     "text": [
      "56 detections found.\n",
      "Processing A04, 2020-01-27-21-00-00...\n"
     ]
    },
    {
     "name": "stderr",
     "output_type": "stream",
     "text": [
      "/opt/homebrew/Caskroom/miniforge/base/envs/obspy/lib/python3.11/site-packages/obspy/signal/cross_correlation.py:291: RuntimeWarning: invalid value encountered in sqrt\n",
      "  np.sqrt(norm, out=norm)\n"
     ]
    },
    {
     "name": "stdout",
     "output_type": "stream",
     "text": [
      "2 detections found.\n",
      "Processing A04, 2020-01-27-22-00-00...\n"
     ]
    },
    {
     "name": "stderr",
     "output_type": "stream",
     "text": [
      "/opt/homebrew/Caskroom/miniforge/base/envs/obspy/lib/python3.11/site-packages/obspy/signal/cross_correlation.py:291: RuntimeWarning: invalid value encountered in sqrt\n",
      "  np.sqrt(norm, out=norm)\n"
     ]
    },
    {
     "name": "stdout",
     "output_type": "stream",
     "text": [
      "No detections found.\n",
      "Processing A04, 2020-01-27-23-00-00...\n",
      "No detections found.\n",
      "Processing A04, 2020-01-28-00-00-00...\n",
      "No detections found.\n",
      "Processing A04, 2020-01-28-01-00-00...\n",
      "No detections found.\n",
      "Processing A04, 2020-01-28-02-00-00...\n",
      "No detections found.\n",
      "Processing A04, 2020-01-28-03-00-00...\n",
      "2 detections found.\n",
      "Processing A04, 2020-01-28-04-00-00...\n"
     ]
    },
    {
     "name": "stderr",
     "output_type": "stream",
     "text": [
      "/opt/homebrew/Caskroom/miniforge/base/envs/obspy/lib/python3.11/site-packages/obspy/signal/cross_correlation.py:291: RuntimeWarning: invalid value encountered in sqrt\n",
      "  np.sqrt(norm, out=norm)\n"
     ]
    },
    {
     "name": "stdout",
     "output_type": "stream",
     "text": [
      "10 detections found.\n",
      "Processing A04, 2020-01-28-05-00-00...\n"
     ]
    },
    {
     "name": "stderr",
     "output_type": "stream",
     "text": [
      "/opt/homebrew/Caskroom/miniforge/base/envs/obspy/lib/python3.11/site-packages/obspy/signal/cross_correlation.py:291: RuntimeWarning: invalid value encountered in sqrt\n",
      "  np.sqrt(norm, out=norm)\n"
     ]
    },
    {
     "name": "stdout",
     "output_type": "stream",
     "text": [
      "10 detections found.\n",
      "Processing A04, 2020-01-28-06-00-00...\n"
     ]
    },
    {
     "name": "stderr",
     "output_type": "stream",
     "text": [
      "/opt/homebrew/Caskroom/miniforge/base/envs/obspy/lib/python3.11/site-packages/obspy/signal/cross_correlation.py:291: RuntimeWarning: invalid value encountered in sqrt\n",
      "  np.sqrt(norm, out=norm)\n"
     ]
    },
    {
     "name": "stdout",
     "output_type": "stream",
     "text": [
      "58 detections found.\n",
      "Processing A04, 2020-01-28-07-00-00...\n"
     ]
    },
    {
     "name": "stderr",
     "output_type": "stream",
     "text": [
      "/opt/homebrew/Caskroom/miniforge/base/envs/obspy/lib/python3.11/site-packages/obspy/signal/cross_correlation.py:291: RuntimeWarning: invalid value encountered in sqrt\n",
      "  np.sqrt(norm, out=norm)\n"
     ]
    },
    {
     "name": "stdout",
     "output_type": "stream",
     "text": [
      "140 detections found.\n",
      "Processing A04, 2020-01-28-08-00-00...\n"
     ]
    },
    {
     "name": "stderr",
     "output_type": "stream",
     "text": [
      "/opt/homebrew/Caskroom/miniforge/base/envs/obspy/lib/python3.11/site-packages/obspy/signal/cross_correlation.py:291: RuntimeWarning: invalid value encountered in sqrt\n",
      "  np.sqrt(norm, out=norm)\n"
     ]
    },
    {
     "name": "stdout",
     "output_type": "stream",
     "text": [
      "75 detections found.\n",
      "Processing A04, 2020-01-28-09-00-00...\n"
     ]
    },
    {
     "name": "stderr",
     "output_type": "stream",
     "text": [
      "/opt/homebrew/Caskroom/miniforge/base/envs/obspy/lib/python3.11/site-packages/obspy/signal/cross_correlation.py:291: RuntimeWarning: invalid value encountered in sqrt\n",
      "  np.sqrt(norm, out=norm)\n"
     ]
    },
    {
     "name": "stdout",
     "output_type": "stream",
     "text": [
      "39 detections found.\n",
      "Processing A04, 2020-01-28-10-00-00...\n"
     ]
    },
    {
     "name": "stderr",
     "output_type": "stream",
     "text": [
      "/opt/homebrew/Caskroom/miniforge/base/envs/obspy/lib/python3.11/site-packages/obspy/signal/cross_correlation.py:291: RuntimeWarning: invalid value encountered in sqrt\n",
      "  np.sqrt(norm, out=norm)\n"
     ]
    },
    {
     "name": "stdout",
     "output_type": "stream",
     "text": [
      "30 detections found.\n",
      "Processing A04, 2020-01-28-11-00-00...\n"
     ]
    },
    {
     "name": "stderr",
     "output_type": "stream",
     "text": [
      "/opt/homebrew/Caskroom/miniforge/base/envs/obspy/lib/python3.11/site-packages/obspy/signal/cross_correlation.py:291: RuntimeWarning: invalid value encountered in sqrt\n",
      "  np.sqrt(norm, out=norm)\n"
     ]
    },
    {
     "name": "stdout",
     "output_type": "stream",
     "text": [
      "52 detections found.\n",
      "Processing A04, 2020-01-28-12-00-00...\n"
     ]
    },
    {
     "name": "stderr",
     "output_type": "stream",
     "text": [
      "/opt/homebrew/Caskroom/miniforge/base/envs/obspy/lib/python3.11/site-packages/obspy/signal/cross_correlation.py:291: RuntimeWarning: invalid value encountered in sqrt\n",
      "  np.sqrt(norm, out=norm)\n"
     ]
    },
    {
     "name": "stdout",
     "output_type": "stream",
     "text": [
      "68 detections found.\n",
      "Processing A04, 2020-01-28-13-00-00...\n"
     ]
    },
    {
     "name": "stderr",
     "output_type": "stream",
     "text": [
      "/opt/homebrew/Caskroom/miniforge/base/envs/obspy/lib/python3.11/site-packages/obspy/signal/cross_correlation.py:291: RuntimeWarning: invalid value encountered in sqrt\n",
      "  np.sqrt(norm, out=norm)\n"
     ]
    },
    {
     "name": "stdout",
     "output_type": "stream",
     "text": [
      "37 detections found.\n",
      "Processing A04, 2020-01-28-14-00-00...\n"
     ]
    },
    {
     "name": "stderr",
     "output_type": "stream",
     "text": [
      "/opt/homebrew/Caskroom/miniforge/base/envs/obspy/lib/python3.11/site-packages/obspy/signal/cross_correlation.py:291: RuntimeWarning: invalid value encountered in sqrt\n",
      "  np.sqrt(norm, out=norm)\n"
     ]
    },
    {
     "name": "stdout",
     "output_type": "stream",
     "text": [
      "9 detections found.\n",
      "Processing A04, 2020-01-28-15-00-00...\n"
     ]
    },
    {
     "name": "stderr",
     "output_type": "stream",
     "text": [
      "/opt/homebrew/Caskroom/miniforge/base/envs/obspy/lib/python3.11/site-packages/obspy/signal/cross_correlation.py:291: RuntimeWarning: invalid value encountered in sqrt\n",
      "  np.sqrt(norm, out=norm)\n"
     ]
    },
    {
     "name": "stdout",
     "output_type": "stream",
     "text": [
      "43 detections found.\n",
      "Processing A04, 2020-01-28-16-00-00...\n"
     ]
    },
    {
     "name": "stderr",
     "output_type": "stream",
     "text": [
      "/opt/homebrew/Caskroom/miniforge/base/envs/obspy/lib/python3.11/site-packages/obspy/signal/cross_correlation.py:291: RuntimeWarning: invalid value encountered in sqrt\n",
      "  np.sqrt(norm, out=norm)\n"
     ]
    },
    {
     "name": "stdout",
     "output_type": "stream",
     "text": [
      "187 detections found.\n",
      "Processing A04, 2020-01-28-17-00-00...\n"
     ]
    },
    {
     "name": "stderr",
     "output_type": "stream",
     "text": [
      "/opt/homebrew/Caskroom/miniforge/base/envs/obspy/lib/python3.11/site-packages/obspy/signal/cross_correlation.py:291: RuntimeWarning: invalid value encountered in sqrt\n",
      "  np.sqrt(norm, out=norm)\n"
     ]
    },
    {
     "name": "stdout",
     "output_type": "stream",
     "text": [
      "50 detections found.\n",
      "Processing A04, 2020-01-28-18-00-00...\n"
     ]
    },
    {
     "name": "stderr",
     "output_type": "stream",
     "text": [
      "/opt/homebrew/Caskroom/miniforge/base/envs/obspy/lib/python3.11/site-packages/obspy/signal/cross_correlation.py:291: RuntimeWarning: invalid value encountered in sqrt\n",
      "  np.sqrt(norm, out=norm)\n"
     ]
    },
    {
     "name": "stdout",
     "output_type": "stream",
     "text": [
      "21 detections found.\n",
      "Processing A04, 2020-01-28-19-00-00...\n"
     ]
    },
    {
     "name": "stderr",
     "output_type": "stream",
     "text": [
      "/opt/homebrew/Caskroom/miniforge/base/envs/obspy/lib/python3.11/site-packages/obspy/signal/cross_correlation.py:291: RuntimeWarning: invalid value encountered in sqrt\n",
      "  np.sqrt(norm, out=norm)\n"
     ]
    },
    {
     "name": "stdout",
     "output_type": "stream",
     "text": [
      "2 detections found.\n",
      "Processing A04, 2020-01-28-20-00-00...\n"
     ]
    },
    {
     "name": "stderr",
     "output_type": "stream",
     "text": [
      "/opt/homebrew/Caskroom/miniforge/base/envs/obspy/lib/python3.11/site-packages/obspy/signal/cross_correlation.py:291: RuntimeWarning: invalid value encountered in sqrt\n",
      "  np.sqrt(norm, out=norm)\n"
     ]
    },
    {
     "name": "stdout",
     "output_type": "stream",
     "text": [
      "6 detections found.\n",
      "Processing A04, 2020-01-28-21-00-00...\n"
     ]
    },
    {
     "name": "stderr",
     "output_type": "stream",
     "text": [
      "/opt/homebrew/Caskroom/miniforge/base/envs/obspy/lib/python3.11/site-packages/obspy/signal/cross_correlation.py:291: RuntimeWarning: invalid value encountered in sqrt\n",
      "  np.sqrt(norm, out=norm)\n"
     ]
    },
    {
     "name": "stdout",
     "output_type": "stream",
     "text": [
      "1 detections found.\n",
      "Processing A04, 2020-01-28-22-00-00...\n"
     ]
    },
    {
     "name": "stderr",
     "output_type": "stream",
     "text": [
      "/opt/homebrew/Caskroom/miniforge/base/envs/obspy/lib/python3.11/site-packages/obspy/signal/cross_correlation.py:291: RuntimeWarning: invalid value encountered in sqrt\n",
      "  np.sqrt(norm, out=norm)\n"
     ]
    },
    {
     "name": "stdout",
     "output_type": "stream",
     "text": [
      "No detections found.\n",
      "Processing A04, 2020-01-28-23-00-00...\n",
      "No detections found.\n",
      "Processing A04, 2020-01-29-00-00-00...\n",
      "No detections found.\n",
      "Processing A04, 2020-01-29-01-00-00...\n",
      "No detections found.\n",
      "Processing A04, 2020-01-29-02-00-00...\n",
      "No detections found.\n",
      "Processing A04, 2020-01-29-03-00-00...\n",
      "No detections found.\n",
      "Processing A04, 2020-01-29-04-00-00...\n",
      "No detections found.\n",
      "Processing A04, 2020-01-29-05-00-00...\n",
      "No detections found.\n",
      "Processing A04, 2020-01-29-06-00-00...\n",
      "No detections found.\n",
      "Processing A04, 2020-01-29-07-00-00...\n",
      "No detections found.\n",
      "Processing A04, 2020-01-29-08-00-00...\n",
      "1 detections found.\n",
      "Processing A04, 2020-01-29-09-00-00...\n",
      "No detections found.\n",
      "Processing A04, 2020-01-29-10-00-00...\n"
     ]
    },
    {
     "name": "stderr",
     "output_type": "stream",
     "text": [
      "/opt/homebrew/Caskroom/miniforge/base/envs/obspy/lib/python3.11/site-packages/obspy/signal/cross_correlation.py:291: RuntimeWarning: invalid value encountered in sqrt\n",
      "  np.sqrt(norm, out=norm)\n"
     ]
    },
    {
     "name": "stdout",
     "output_type": "stream",
     "text": [
      "No detections found.\n",
      "Processing A04, 2020-01-29-11-00-00...\n",
      "No detections found.\n",
      "Processing A04, 2020-01-29-12-00-00...\n",
      "No detections found.\n",
      "Processing A04, 2020-01-29-13-00-00...\n",
      "1 detections found.\n",
      "Processing A04, 2020-01-29-14-00-00...\n"
     ]
    },
    {
     "name": "stderr",
     "output_type": "stream",
     "text": [
      "/opt/homebrew/Caskroom/miniforge/base/envs/obspy/lib/python3.11/site-packages/obspy/signal/cross_correlation.py:291: RuntimeWarning: invalid value encountered in sqrt\n",
      "  np.sqrt(norm, out=norm)\n"
     ]
    },
    {
     "name": "stdout",
     "output_type": "stream",
     "text": [
      "No detections found.\n",
      "Processing A04, 2020-01-29-15-00-00...\n",
      "No detections found.\n",
      "Processing A04, 2020-01-29-16-00-00...\n",
      "No detections found.\n",
      "Processing A04, 2020-01-29-17-00-00...\n",
      "No detections found.\n",
      "Processing A04, 2020-01-29-18-00-00...\n",
      "No detections found.\n",
      "Processing A04, 2020-01-29-19-00-00...\n",
      "No detections found.\n",
      "Processing A04, 2020-01-29-20-00-00...\n",
      "No detections found.\n",
      "Processing A04, 2020-01-29-21-00-00...\n",
      "No detections found.\n",
      "Processing A04, 2020-01-29-22-00-00...\n",
      "No detections found.\n",
      "Processing A04, 2020-01-29-23-00-00...\n",
      "No detections found.\n",
      "Processing A04, 2020-01-30-00-00-00...\n",
      "No detections found.\n",
      "Processing A04, 2020-01-30-01-00-00...\n",
      "No detections found.\n",
      "Processing A04, 2020-01-30-02-00-00...\n",
      "No detections found.\n",
      "Processing A04, 2020-01-30-03-00-00...\n",
      "No detections found.\n",
      "Processing A04, 2020-01-30-04-00-00...\n",
      "No detections found.\n",
      "Processing A04, 2020-01-30-05-00-00...\n",
      "No detections found.\n",
      "Processing A04, 2020-01-30-06-00-00...\n",
      "No detections found.\n",
      "Processing A04, 2020-01-30-07-00-00...\n",
      "No detections found.\n",
      "Processing A04, 2020-01-30-08-00-00...\n",
      "1 detections found.\n",
      "Processing A04, 2020-01-30-09-00-00...\n"
     ]
    },
    {
     "name": "stderr",
     "output_type": "stream",
     "text": [
      "/opt/homebrew/Caskroom/miniforge/base/envs/obspy/lib/python3.11/site-packages/obspy/signal/cross_correlation.py:291: RuntimeWarning: invalid value encountered in sqrt\n",
      "  np.sqrt(norm, out=norm)\n"
     ]
    },
    {
     "name": "stdout",
     "output_type": "stream",
     "text": [
      "No detections found.\n",
      "Processing A04, 2020-01-30-10-00-00...\n",
      "No detections found.\n",
      "Processing A04, 2020-01-30-11-00-00...\n",
      "No detections found.\n",
      "Processing A04, 2020-01-30-12-00-00...\n",
      "No detections found.\n",
      "Processing A04, 2020-01-30-13-00-00...\n",
      "No detections found.\n",
      "Processing A04, 2020-01-30-14-00-00...\n",
      "No detections found.\n",
      "Processing A04, 2020-01-30-15-00-00...\n",
      "No detections found.\n",
      "Processing A04, 2020-01-30-16-00-00...\n",
      "No detections found.\n",
      "Processing A04, 2020-01-30-17-00-00...\n",
      "No detections found.\n",
      "Processing A04, 2020-01-30-18-00-00...\n",
      "No detections found.\n",
      "Processing A04, 2020-01-30-19-00-00...\n",
      "No detections found.\n",
      "Processing A04, 2020-01-30-20-00-00...\n",
      "No detections found.\n",
      "Processing A04, 2020-01-30-21-00-00...\n",
      "No detections found.\n",
      "Processing A04, 2020-01-30-22-00-00...\n",
      "No detections found.\n",
      "Processing A04, 2020-01-30-23-00-00...\n",
      "No detections found.\n",
      "Processing A04, 2020-01-31-00-00-00...\n",
      "No detections found.\n",
      "Processing A04, 2020-01-31-01-00-00...\n",
      "No detections found.\n",
      "Processing A04, 2020-01-31-02-00-00...\n",
      "No detections found.\n",
      "Processing A04, 2020-01-31-03-00-00...\n",
      "No detections found.\n",
      "Processing A04, 2020-01-31-04-00-00...\n",
      "No detections found.\n",
      "Processing A04, 2020-01-31-05-00-00...\n",
      "No detections found.\n",
      "Processing A04, 2020-01-31-06-00-00...\n",
      "No detections found.\n",
      "Processing A04, 2020-01-31-07-00-00...\n",
      "No detections found.\n",
      "Processing A04, 2020-01-31-08-00-00...\n",
      "No detections found.\n",
      "Processing A04, 2020-01-31-09-00-00...\n",
      "No detections found.\n",
      "Processing A04, 2020-01-31-10-00-00...\n",
      "No detections found.\n",
      "Processing A04, 2020-01-31-11-00-00...\n",
      "No detections found.\n",
      "Processing A04, 2020-01-31-12-00-00...\n",
      "No detections found.\n",
      "Processing A04, 2020-01-31-13-00-00...\n",
      "No detections found.\n",
      "Processing A04, 2020-01-31-14-00-00...\n",
      "No detections found.\n",
      "Processing A04, 2020-01-31-15-00-00...\n",
      "No detections found.\n",
      "Processing A04, 2020-01-31-16-00-00...\n",
      "No detections found.\n",
      "Processing A04, 2020-01-31-17-00-00...\n",
      "No detections found.\n",
      "Processing A04, 2020-01-31-18-00-00...\n",
      "1 detections found.\n",
      "Processing A04, 2020-01-31-19-00-00...\n"
     ]
    },
    {
     "name": "stderr",
     "output_type": "stream",
     "text": [
      "/opt/homebrew/Caskroom/miniforge/base/envs/obspy/lib/python3.11/site-packages/obspy/signal/cross_correlation.py:291: RuntimeWarning: invalid value encountered in sqrt\n",
      "  np.sqrt(norm, out=norm)\n"
     ]
    },
    {
     "name": "stdout",
     "output_type": "stream",
     "text": [
      "1 detections found.\n",
      "Processing A04, 2020-01-31-20-00-00...\n",
      "No detections found.\n",
      "Processing A04, 2020-01-31-21-00-00...\n",
      "No detections found.\n",
      "Processing A04, 2020-01-31-22-00-00...\n",
      "No detections found.\n",
      "Processing A04, 2020-01-31-23-00-00...\n",
      "No detections found.\n",
      "Processing A04, 2020-02-01-00-00-00...\n",
      "No detections found.\n",
      "Processing A04, 2020-02-01-01-00-00...\n"
     ]
    },
    {
     "name": "stderr",
     "output_type": "stream",
     "text": [
      "/opt/homebrew/Caskroom/miniforge/base/envs/obspy/lib/python3.11/site-packages/obspy/signal/cross_correlation.py:291: RuntimeWarning: invalid value encountered in sqrt\n",
      "  np.sqrt(norm, out=norm)\n"
     ]
    },
    {
     "name": "stdout",
     "output_type": "stream",
     "text": [
      "No detections found.\n",
      "Processing A04, 2020-02-01-02-00-00...\n",
      "No detections found.\n",
      "Processing A04, 2020-02-01-03-00-00...\n",
      "No detections found.\n",
      "Processing A04, 2020-02-01-04-00-00...\n",
      "No detections found.\n",
      "Processing A04, 2020-02-01-05-00-00...\n",
      "1 detections found.\n",
      "Processing A04, 2020-02-01-06-00-00...\n"
     ]
    },
    {
     "name": "stderr",
     "output_type": "stream",
     "text": [
      "/opt/homebrew/Caskroom/miniforge/base/envs/obspy/lib/python3.11/site-packages/obspy/signal/cross_correlation.py:291: RuntimeWarning: invalid value encountered in sqrt\n",
      "  np.sqrt(norm, out=norm)\n"
     ]
    },
    {
     "name": "stdout",
     "output_type": "stream",
     "text": [
      "1 detections found.\n",
      "Processing A04, 2020-02-01-07-00-00...\n"
     ]
    },
    {
     "name": "stderr",
     "output_type": "stream",
     "text": [
      "/opt/homebrew/Caskroom/miniforge/base/envs/obspy/lib/python3.11/site-packages/obspy/signal/cross_correlation.py:291: RuntimeWarning: invalid value encountered in sqrt\n",
      "  np.sqrt(norm, out=norm)\n"
     ]
    },
    {
     "name": "stdout",
     "output_type": "stream",
     "text": [
      "2 detections found.\n",
      "Processing A04, 2020-02-01-08-00-00...\n",
      "Cannot find data for 2020-02-01-08-00-00!\n",
      "Processing A04, 2020-02-01-09-00-00...\n",
      "Cannot find data for 2020-02-01-09-00-00!\n",
      "Processing A04, 2020-02-01-10-00-00...\n",
      "Cannot find data for 2020-02-01-10-00-00!\n",
      "Processing A04, 2020-02-01-11-00-00...\n",
      "Cannot find data for 2020-02-01-11-00-00!\n",
      "Processing A04, 2020-02-01-12-00-00...\n",
      "Cannot find data for 2020-02-01-12-00-00!\n",
      "Processing A04, 2020-02-01-13-00-00...\n",
      "Cannot find data for 2020-02-01-13-00-00!\n",
      "Processing A04, 2020-02-01-14-00-00...\n",
      "Cannot find data for 2020-02-01-14-00-00!\n",
      "Processing A04, 2020-02-01-15-00-00...\n",
      "Cannot find data for 2020-02-01-15-00-00!\n",
      "Processing A04, 2020-02-01-16-00-00...\n",
      "Cannot find data for 2020-02-01-16-00-00!\n",
      "Processing A04, 2020-02-01-17-00-00...\n",
      "Cannot find data for 2020-02-01-17-00-00!\n",
      "Processing A04, 2020-02-01-18-00-00...\n",
      "Cannot find data for 2020-02-01-18-00-00!\n",
      "Processing A04, 2020-02-01-19-00-00...\n",
      "Cannot find data for 2020-02-01-19-00-00!\n",
      "Processing A04, 2020-02-01-20-00-00...\n",
      "Cannot find data for 2020-02-01-20-00-00!\n",
      "Processing A04, 2020-02-01-21-00-00...\n",
      "Cannot find data for 2020-02-01-21-00-00!\n",
      "Processing A04, 2020-02-01-22-00-00...\n",
      "Cannot find data for 2020-02-01-22-00-00!\n",
      "Processing A04, 2020-02-01-23-00-00...\n",
      "Cannot find data for 2020-02-01-23-00-00!\n",
      "Processing A04, 2020-02-02-00-00-00...\n",
      "Cannot find data for 2020-02-02-00-00-00!\n",
      "Processing A04, 2020-02-02-01-00-00...\n",
      "Cannot find data for 2020-02-02-01-00-00!\n",
      "Processing A04, 2020-02-02-02-00-00...\n",
      "Cannot find data for 2020-02-02-02-00-00!\n",
      "Processing A04, 2020-02-02-03-00-00...\n",
      "Cannot find data for 2020-02-02-03-00-00!\n",
      "Processing A04, 2020-02-02-04-00-00...\n",
      "Cannot find data for 2020-02-02-04-00-00!\n",
      "Processing A04, 2020-02-02-05-00-00...\n",
      "Cannot find data for 2020-02-02-05-00-00!\n",
      "Processing A04, 2020-02-02-06-00-00...\n",
      "Cannot find data for 2020-02-02-06-00-00!\n",
      "Processing A04, 2020-02-02-07-00-00...\n",
      "Cannot find data for 2020-02-02-07-00-00!\n",
      "Processing A04, 2020-02-02-08-00-00...\n",
      "Cannot find data for 2020-02-02-08-00-00!\n",
      "Processing A04, 2020-02-02-09-00-00...\n",
      "Cannot find data for 2020-02-02-09-00-00!\n",
      "Processing A04, 2020-02-02-10-00-00...\n",
      "Cannot find data for 2020-02-02-10-00-00!\n",
      "Processing A04, 2020-02-02-11-00-00...\n",
      "Cannot find data for 2020-02-02-11-00-00!\n",
      "Processing A04, 2020-02-02-12-00-00...\n",
      "Cannot find data for 2020-02-02-12-00-00!\n",
      "Processing A04, 2020-02-02-13-00-00...\n",
      "Cannot find data for 2020-02-02-13-00-00!\n",
      "Processing A04, 2020-02-02-14-00-00...\n",
      "Cannot find data for 2020-02-02-14-00-00!\n",
      "Processing A04, 2020-02-02-15-00-00...\n",
      "Cannot find data for 2020-02-02-15-00-00!\n",
      "Processing A04, 2020-02-02-16-00-00...\n",
      "Cannot find data for 2020-02-02-16-00-00!\n",
      "Processing A04, 2020-02-02-17-00-00...\n",
      "Cannot find data for 2020-02-02-17-00-00!\n",
      "Processing A04, 2020-02-02-18-00-00...\n",
      "Cannot find data for 2020-02-02-18-00-00!\n",
      "Processing A04, 2020-02-02-19-00-00...\n",
      "Cannot find data for 2020-02-02-19-00-00!\n",
      "Processing A04, 2020-02-02-20-00-00...\n",
      "Cannot find data for 2020-02-02-20-00-00!\n",
      "Processing A04, 2020-02-02-21-00-00...\n",
      "Cannot find data for 2020-02-02-21-00-00!\n",
      "Processing A04, 2020-02-02-22-00-00...\n",
      "Cannot find data for 2020-02-02-22-00-00!\n",
      "Processing A03, 2020-01-10-11-00-00...\n"
     ]
    },
    {
     "name": "stderr",
     "output_type": "stream",
     "text": [
      "/opt/homebrew/Caskroom/miniforge/base/envs/obspy/lib/python3.11/site-packages/obspy/signal/cross_correlation.py:291: RuntimeWarning: invalid value encountered in sqrt\n",
      "  np.sqrt(norm, out=norm)\n"
     ]
    },
    {
     "name": "stdout",
     "output_type": "stream",
     "text": [
      "No detections found.\n",
      "Processing A03, 2020-01-10-12-00-00...\n",
      "No detections found.\n",
      "Processing A03, 2020-01-10-13-00-00...\n",
      "No detections found.\n",
      "Processing A03, 2020-01-10-14-00-00...\n",
      "No detections found.\n",
      "Processing A03, 2020-01-10-15-00-00...\n",
      "No detections found.\n",
      "Processing A03, 2020-01-10-16-00-00...\n",
      "No detections found.\n",
      "Processing A03, 2020-01-10-17-00-00...\n",
      "No detections found.\n",
      "Processing A03, 2020-01-10-18-00-00...\n",
      "No detections found.\n",
      "Processing A03, 2020-01-10-19-00-00...\n",
      "No detections found.\n",
      "Processing A03, 2020-01-10-20-00-00...\n",
      "No detections found.\n",
      "Processing A03, 2020-01-10-21-00-00...\n",
      "No detections found.\n",
      "Processing A03, 2020-01-10-22-00-00...\n",
      "No detections found.\n",
      "Processing A03, 2020-01-10-23-00-00...\n",
      "No detections found.\n",
      "Processing A03, 2020-01-11-00-00-00...\n",
      "No detections found.\n",
      "Processing A03, 2020-01-11-01-00-00...\n",
      "No detections found.\n",
      "Processing A03, 2020-01-11-02-00-00...\n",
      "No detections found.\n",
      "Processing A03, 2020-01-11-03-00-00...\n",
      "No detections found.\n",
      "Processing A03, 2020-01-11-04-00-00...\n",
      "No detections found.\n",
      "Processing A03, 2020-01-11-05-00-00...\n",
      "No detections found.\n",
      "Processing A03, 2020-01-11-06-00-00...\n",
      "No detections found.\n",
      "Processing A03, 2020-01-11-07-00-00...\n",
      "No detections found.\n",
      "Processing A03, 2020-01-11-08-00-00...\n",
      "No detections found.\n",
      "Processing A03, 2020-01-11-09-00-00...\n",
      "No detections found.\n",
      "Processing A03, 2020-01-11-10-00-00...\n",
      "No detections found.\n",
      "Processing A03, 2020-01-11-11-00-00...\n",
      "No detections found.\n",
      "Processing A03, 2020-01-11-12-00-00...\n",
      "No detections found.\n",
      "Processing A03, 2020-01-11-13-00-00...\n",
      "No detections found.\n",
      "Processing A03, 2020-01-11-14-00-00...\n",
      "No detections found.\n",
      "Processing A03, 2020-01-11-15-00-00...\n",
      "No detections found.\n",
      "Processing A03, 2020-01-11-16-00-00...\n",
      "No detections found.\n",
      "Processing A03, 2020-01-11-17-00-00...\n",
      "No detections found.\n",
      "Processing A03, 2020-01-11-18-00-00...\n",
      "No detections found.\n",
      "Processing A03, 2020-01-11-19-00-00...\n",
      "No detections found.\n",
      "Processing A03, 2020-01-11-20-00-00...\n",
      "No detections found.\n",
      "Processing A03, 2020-01-11-21-00-00...\n",
      "No detections found.\n",
      "Processing A03, 2020-01-11-22-00-00...\n",
      "No detections found.\n",
      "Processing A03, 2020-01-11-23-00-00...\n",
      "No detections found.\n",
      "Processing A03, 2020-01-12-00-00-00...\n",
      "No detections found.\n",
      "Processing A03, 2020-01-12-01-00-00...\n",
      "No detections found.\n",
      "Processing A03, 2020-01-12-02-00-00...\n",
      "No detections found.\n",
      "Processing A03, 2020-01-12-03-00-00...\n",
      "No detections found.\n",
      "Processing A03, 2020-01-12-04-00-00...\n",
      "No detections found.\n",
      "Processing A03, 2020-01-12-05-00-00...\n",
      "No detections found.\n",
      "Processing A03, 2020-01-12-06-00-00...\n",
      "No detections found.\n",
      "Processing A03, 2020-01-12-07-00-00...\n",
      "No detections found.\n",
      "Processing A03, 2020-01-12-08-00-00...\n",
      "55 detections found.\n",
      "Processing A03, 2020-01-12-09-00-00...\n"
     ]
    },
    {
     "name": "stderr",
     "output_type": "stream",
     "text": [
      "/opt/homebrew/Caskroom/miniforge/base/envs/obspy/lib/python3.11/site-packages/obspy/signal/cross_correlation.py:291: RuntimeWarning: invalid value encountered in sqrt\n",
      "  np.sqrt(norm, out=norm)\n"
     ]
    },
    {
     "name": "stdout",
     "output_type": "stream",
     "text": [
      "25 detections found.\n",
      "Processing A03, 2020-01-12-10-00-00...\n"
     ]
    },
    {
     "name": "stderr",
     "output_type": "stream",
     "text": [
      "/opt/homebrew/Caskroom/miniforge/base/envs/obspy/lib/python3.11/site-packages/obspy/signal/cross_correlation.py:291: RuntimeWarning: invalid value encountered in sqrt\n",
      "  np.sqrt(norm, out=norm)\n"
     ]
    },
    {
     "name": "stdout",
     "output_type": "stream",
     "text": [
      "167 detections found.\n",
      "Processing A03, 2020-01-12-11-00-00...\n"
     ]
    },
    {
     "name": "stderr",
     "output_type": "stream",
     "text": [
      "/opt/homebrew/Caskroom/miniforge/base/envs/obspy/lib/python3.11/site-packages/obspy/signal/cross_correlation.py:291: RuntimeWarning: invalid value encountered in sqrt\n",
      "  np.sqrt(norm, out=norm)\n"
     ]
    },
    {
     "name": "stdout",
     "output_type": "stream",
     "text": [
      "84 detections found.\n",
      "Processing A03, 2020-01-12-12-00-00...\n"
     ]
    },
    {
     "name": "stderr",
     "output_type": "stream",
     "text": [
      "/opt/homebrew/Caskroom/miniforge/base/envs/obspy/lib/python3.11/site-packages/obspy/signal/cross_correlation.py:291: RuntimeWarning: invalid value encountered in sqrt\n",
      "  np.sqrt(norm, out=norm)\n"
     ]
    },
    {
     "name": "stdout",
     "output_type": "stream",
     "text": [
      "32 detections found.\n",
      "Processing A03, 2020-01-12-13-00-00...\n"
     ]
    },
    {
     "name": "stderr",
     "output_type": "stream",
     "text": [
      "/opt/homebrew/Caskroom/miniforge/base/envs/obspy/lib/python3.11/site-packages/obspy/signal/cross_correlation.py:291: RuntimeWarning: invalid value encountered in sqrt\n",
      "  np.sqrt(norm, out=norm)\n"
     ]
    },
    {
     "name": "stdout",
     "output_type": "stream",
     "text": [
      "345 detections found.\n",
      "Processing A03, 2020-01-12-14-00-00...\n"
     ]
    },
    {
     "name": "stderr",
     "output_type": "stream",
     "text": [
      "/opt/homebrew/Caskroom/miniforge/base/envs/obspy/lib/python3.11/site-packages/obspy/signal/cross_correlation.py:291: RuntimeWarning: invalid value encountered in sqrt\n",
      "  np.sqrt(norm, out=norm)\n"
     ]
    },
    {
     "name": "stdout",
     "output_type": "stream",
     "text": [
      "167 detections found.\n",
      "Processing A03, 2020-01-12-15-00-00...\n"
     ]
    },
    {
     "name": "stderr",
     "output_type": "stream",
     "text": [
      "/opt/homebrew/Caskroom/miniforge/base/envs/obspy/lib/python3.11/site-packages/obspy/signal/cross_correlation.py:291: RuntimeWarning: invalid value encountered in sqrt\n",
      "  np.sqrt(norm, out=norm)\n"
     ]
    },
    {
     "name": "stdout",
     "output_type": "stream",
     "text": [
      "82 detections found.\n",
      "Processing A03, 2020-01-12-16-00-00...\n"
     ]
    },
    {
     "name": "stderr",
     "output_type": "stream",
     "text": [
      "/opt/homebrew/Caskroom/miniforge/base/envs/obspy/lib/python3.11/site-packages/obspy/signal/cross_correlation.py:291: RuntimeWarning: invalid value encountered in sqrt\n",
      "  np.sqrt(norm, out=norm)\n"
     ]
    },
    {
     "name": "stdout",
     "output_type": "stream",
     "text": [
      "11 detections found.\n",
      "Processing A03, 2020-01-12-17-00-00...\n"
     ]
    },
    {
     "name": "stderr",
     "output_type": "stream",
     "text": [
      "/opt/homebrew/Caskroom/miniforge/base/envs/obspy/lib/python3.11/site-packages/obspy/signal/cross_correlation.py:291: RuntimeWarning: invalid value encountered in sqrt\n",
      "  np.sqrt(norm, out=norm)\n"
     ]
    },
    {
     "name": "stdout",
     "output_type": "stream",
     "text": [
      "62 detections found.\n",
      "Processing A03, 2020-01-12-18-00-00...\n"
     ]
    },
    {
     "name": "stderr",
     "output_type": "stream",
     "text": [
      "/opt/homebrew/Caskroom/miniforge/base/envs/obspy/lib/python3.11/site-packages/obspy/signal/cross_correlation.py:291: RuntimeWarning: invalid value encountered in sqrt\n",
      "  np.sqrt(norm, out=norm)\n"
     ]
    },
    {
     "name": "stdout",
     "output_type": "stream",
     "text": [
      "5 detections found.\n",
      "Processing A03, 2020-01-12-19-00-00...\n"
     ]
    },
    {
     "name": "stderr",
     "output_type": "stream",
     "text": [
      "/opt/homebrew/Caskroom/miniforge/base/envs/obspy/lib/python3.11/site-packages/obspy/signal/cross_correlation.py:291: RuntimeWarning: invalid value encountered in sqrt\n",
      "  np.sqrt(norm, out=norm)\n"
     ]
    },
    {
     "name": "stdout",
     "output_type": "stream",
     "text": [
      "18 detections found.\n",
      "Processing A03, 2020-01-12-20-00-00...\n"
     ]
    },
    {
     "name": "stderr",
     "output_type": "stream",
     "text": [
      "/opt/homebrew/Caskroom/miniforge/base/envs/obspy/lib/python3.11/site-packages/obspy/signal/cross_correlation.py:291: RuntimeWarning: invalid value encountered in sqrt\n",
      "  np.sqrt(norm, out=norm)\n"
     ]
    },
    {
     "name": "stdout",
     "output_type": "stream",
     "text": [
      "No detections found.\n",
      "Processing A03, 2020-01-12-21-00-00...\n",
      "No detections found.\n",
      "Processing A03, 2020-01-12-22-00-00...\n",
      "No detections found.\n",
      "Processing A03, 2020-01-12-23-00-00...\n",
      "No detections found.\n",
      "Processing A03, 2020-01-13-00-00-00...\n",
      "No detections found.\n",
      "Processing A03, 2020-01-13-01-00-00...\n",
      "No detections found.\n",
      "Processing A03, 2020-01-13-02-00-00...\n",
      "No detections found.\n",
      "Processing A03, 2020-01-13-03-00-00...\n",
      "No detections found.\n",
      "Processing A03, 2020-01-13-04-00-00...\n",
      "No detections found.\n",
      "Processing A03, 2020-01-13-05-00-00...\n",
      "No detections found.\n",
      "Processing A03, 2020-01-13-06-00-00...\n",
      "No detections found.\n",
      "Processing A03, 2020-01-13-07-00-00...\n",
      "No detections found.\n",
      "Processing A03, 2020-01-13-08-00-00...\n",
      "43 detections found.\n",
      "Processing A03, 2020-01-13-09-00-00...\n"
     ]
    },
    {
     "name": "stderr",
     "output_type": "stream",
     "text": [
      "/opt/homebrew/Caskroom/miniforge/base/envs/obspy/lib/python3.11/site-packages/obspy/signal/cross_correlation.py:291: RuntimeWarning: invalid value encountered in sqrt\n",
      "  np.sqrt(norm, out=norm)\n"
     ]
    },
    {
     "name": "stdout",
     "output_type": "stream",
     "text": [
      "54 detections found.\n",
      "Processing A03, 2020-01-13-10-00-00...\n",
      "1 detections found.\n",
      "Processing A03, 2020-01-13-11-00-00...\n",
      "No detections found.\n",
      "Processing A03, 2020-01-13-12-00-00...\n",
      "No detections found.\n",
      "Processing A03, 2020-01-13-13-00-00...\n"
     ]
    },
    {
     "name": "stderr",
     "output_type": "stream",
     "text": [
      "/opt/homebrew/Caskroom/miniforge/base/envs/obspy/lib/python3.11/site-packages/obspy/signal/cross_correlation.py:291: RuntimeWarning: invalid value encountered in sqrt\n",
      "  np.sqrt(norm, out=norm)\n"
     ]
    },
    {
     "name": "stdout",
     "output_type": "stream",
     "text": [
      "No detections found.\n",
      "Processing A03, 2020-01-13-14-00-00...\n",
      "No detections found.\n",
      "Processing A03, 2020-01-13-15-00-00...\n",
      "No detections found.\n",
      "Processing A03, 2020-01-13-16-00-00...\n",
      "No detections found.\n",
      "Processing A03, 2020-01-13-17-00-00...\n",
      "No detections found.\n",
      "Processing A03, 2020-01-13-18-00-00...\n",
      "No detections found.\n",
      "Processing A03, 2020-01-13-19-00-00...\n",
      "No detections found.\n",
      "Processing A03, 2020-01-13-20-00-00...\n",
      "No detections found.\n",
      "Processing A03, 2020-01-13-21-00-00...\n",
      "No detections found.\n",
      "Processing A03, 2020-01-13-22-00-00...\n",
      "No detections found.\n",
      "Processing A03, 2020-01-13-23-00-00...\n",
      "No detections found.\n",
      "Processing A03, 2020-01-14-00-00-00...\n",
      "No detections found.\n",
      "Processing A03, 2020-01-14-01-00-00...\n",
      "No detections found.\n",
      "Processing A03, 2020-01-14-02-00-00...\n",
      "No detections found.\n",
      "Processing A03, 2020-01-14-03-00-00...\n",
      "No detections found.\n",
      "Processing A03, 2020-01-14-04-00-00...\n",
      "No detections found.\n",
      "Processing A03, 2020-01-14-05-00-00...\n",
      "No detections found.\n",
      "Processing A03, 2020-01-14-06-00-00...\n",
      "No detections found.\n",
      "Processing A03, 2020-01-14-07-00-00...\n",
      "No detections found.\n",
      "Processing A03, 2020-01-14-08-00-00...\n",
      "No detections found.\n",
      "Processing A03, 2020-01-14-09-00-00...\n",
      "No detections found.\n",
      "Processing A03, 2020-01-14-10-00-00...\n",
      "No detections found.\n",
      "Processing A03, 2020-01-14-11-00-00...\n",
      "No detections found.\n",
      "Processing A03, 2020-01-14-12-00-00...\n",
      "No detections found.\n",
      "Processing A03, 2020-01-14-13-00-00...\n",
      "No detections found.\n",
      "Processing A03, 2020-01-14-14-00-00...\n",
      "No detections found.\n",
      "Processing A03, 2020-01-14-15-00-00...\n",
      "No detections found.\n",
      "Processing A03, 2020-01-14-16-00-00...\n",
      "No detections found.\n",
      "Processing A03, 2020-01-14-17-00-00...\n",
      "No detections found.\n",
      "Processing A03, 2020-01-14-18-00-00...\n",
      "No detections found.\n",
      "Processing A03, 2020-01-14-19-00-00...\n",
      "No detections found.\n",
      "Processing A03, 2020-01-14-20-00-00...\n",
      "No detections found.\n",
      "Processing A03, 2020-01-14-21-00-00...\n",
      "No detections found.\n",
      "Processing A03, 2020-01-14-22-00-00...\n",
      "No detections found.\n",
      "Processing A03, 2020-01-14-23-00-00...\n",
      "No detections found.\n",
      "Processing A03, 2020-01-15-00-00-00...\n",
      "No detections found.\n",
      "Processing A03, 2020-01-15-01-00-00...\n",
      "No detections found.\n",
      "Processing A03, 2020-01-15-02-00-00...\n",
      "No detections found.\n",
      "Processing A03, 2020-01-15-03-00-00...\n",
      "No detections found.\n",
      "Processing A03, 2020-01-15-04-00-00...\n",
      "No detections found.\n",
      "Processing A03, 2020-01-15-05-00-00...\n",
      "No detections found.\n",
      "Processing A03, 2020-01-15-06-00-00...\n",
      "No detections found.\n",
      "Processing A03, 2020-01-15-07-00-00...\n",
      "No detections found.\n",
      "Processing A03, 2020-01-15-08-00-00...\n",
      "No detections found.\n",
      "Processing A03, 2020-01-15-09-00-00...\n",
      "No detections found.\n",
      "Processing A03, 2020-01-15-10-00-00...\n",
      "No detections found.\n",
      "Processing A03, 2020-01-15-11-00-00...\n",
      "2 detections found.\n",
      "Processing A03, 2020-01-15-12-00-00...\n"
     ]
    },
    {
     "name": "stderr",
     "output_type": "stream",
     "text": [
      "/opt/homebrew/Caskroom/miniforge/base/envs/obspy/lib/python3.11/site-packages/obspy/signal/cross_correlation.py:291: RuntimeWarning: invalid value encountered in sqrt\n",
      "  np.sqrt(norm, out=norm)\n"
     ]
    },
    {
     "name": "stdout",
     "output_type": "stream",
     "text": [
      "1 detections found.\n",
      "Processing A03, 2020-01-15-13-00-00...\n"
     ]
    },
    {
     "name": "stderr",
     "output_type": "stream",
     "text": [
      "/opt/homebrew/Caskroom/miniforge/base/envs/obspy/lib/python3.11/site-packages/obspy/signal/cross_correlation.py:291: RuntimeWarning: invalid value encountered in sqrt\n",
      "  np.sqrt(norm, out=norm)\n"
     ]
    },
    {
     "name": "stdout",
     "output_type": "stream",
     "text": [
      "No detections found.\n",
      "Processing A03, 2020-01-15-14-00-00...\n",
      "9 detections found.\n",
      "Processing A03, 2020-01-15-15-00-00...\n"
     ]
    },
    {
     "name": "stderr",
     "output_type": "stream",
     "text": [
      "/opt/homebrew/Caskroom/miniforge/base/envs/obspy/lib/python3.11/site-packages/obspy/signal/cross_correlation.py:291: RuntimeWarning: invalid value encountered in sqrt\n",
      "  np.sqrt(norm, out=norm)\n"
     ]
    },
    {
     "name": "stdout",
     "output_type": "stream",
     "text": [
      "5 detections found.\n",
      "Processing A03, 2020-01-15-16-00-00...\n"
     ]
    },
    {
     "name": "stderr",
     "output_type": "stream",
     "text": [
      "/opt/homebrew/Caskroom/miniforge/base/envs/obspy/lib/python3.11/site-packages/obspy/signal/cross_correlation.py:291: RuntimeWarning: invalid value encountered in sqrt\n",
      "  np.sqrt(norm, out=norm)\n"
     ]
    },
    {
     "name": "stdout",
     "output_type": "stream",
     "text": [
      "1 detections found.\n",
      "Processing A03, 2020-01-15-17-00-00...\n"
     ]
    },
    {
     "name": "stderr",
     "output_type": "stream",
     "text": [
      "/opt/homebrew/Caskroom/miniforge/base/envs/obspy/lib/python3.11/site-packages/obspy/signal/cross_correlation.py:291: RuntimeWarning: invalid value encountered in sqrt\n",
      "  np.sqrt(norm, out=norm)\n"
     ]
    },
    {
     "name": "stdout",
     "output_type": "stream",
     "text": [
      "17 detections found.\n",
      "Processing A03, 2020-01-15-18-00-00...\n"
     ]
    },
    {
     "name": "stderr",
     "output_type": "stream",
     "text": [
      "/opt/homebrew/Caskroom/miniforge/base/envs/obspy/lib/python3.11/site-packages/obspy/signal/cross_correlation.py:291: RuntimeWarning: invalid value encountered in sqrt\n",
      "  np.sqrt(norm, out=norm)\n"
     ]
    },
    {
     "name": "stdout",
     "output_type": "stream",
     "text": [
      "1 detections found.\n",
      "Processing A03, 2020-01-15-19-00-00...\n"
     ]
    },
    {
     "name": "stderr",
     "output_type": "stream",
     "text": [
      "/opt/homebrew/Caskroom/miniforge/base/envs/obspy/lib/python3.11/site-packages/obspy/signal/cross_correlation.py:291: RuntimeWarning: invalid value encountered in sqrt\n",
      "  np.sqrt(norm, out=norm)\n"
     ]
    },
    {
     "name": "stdout",
     "output_type": "stream",
     "text": [
      "8 detections found.\n",
      "Processing A03, 2020-01-15-20-00-00...\n"
     ]
    },
    {
     "name": "stderr",
     "output_type": "stream",
     "text": [
      "/opt/homebrew/Caskroom/miniforge/base/envs/obspy/lib/python3.11/site-packages/obspy/signal/cross_correlation.py:291: RuntimeWarning: invalid value encountered in sqrt\n",
      "  np.sqrt(norm, out=norm)\n"
     ]
    },
    {
     "name": "stdout",
     "output_type": "stream",
     "text": [
      "13 detections found.\n",
      "Processing A03, 2020-01-15-21-00-00...\n",
      "2 detections found.\n",
      "Processing A03, 2020-01-15-22-00-00...\n"
     ]
    },
    {
     "name": "stderr",
     "output_type": "stream",
     "text": [
      "/opt/homebrew/Caskroom/miniforge/base/envs/obspy/lib/python3.11/site-packages/obspy/signal/cross_correlation.py:291: RuntimeWarning: invalid value encountered in sqrt\n",
      "  np.sqrt(norm, out=norm)\n"
     ]
    },
    {
     "name": "stdout",
     "output_type": "stream",
     "text": [
      "No detections found.\n",
      "Processing A03, 2020-01-15-23-00-00...\n",
      "No detections found.\n",
      "Processing A03, 2020-01-16-00-00-00...\n",
      "No detections found.\n",
      "Processing A03, 2020-01-16-01-00-00...\n",
      "No detections found.\n",
      "Processing A03, 2020-01-16-02-00-00...\n",
      "No detections found.\n",
      "Processing A03, 2020-01-16-03-00-00...\n",
      "No detections found.\n",
      "Processing A03, 2020-01-16-04-00-00...\n",
      "No detections found.\n",
      "Processing A03, 2020-01-16-05-00-00...\n",
      "No detections found.\n",
      "Processing A03, 2020-01-16-06-00-00...\n",
      "No detections found.\n",
      "Processing A03, 2020-01-16-07-00-00...\n",
      "No detections found.\n",
      "Processing A03, 2020-01-16-08-00-00...\n",
      "No detections found.\n",
      "Processing A03, 2020-01-16-09-00-00...\n",
      "No detections found.\n",
      "Processing A03, 2020-01-16-10-00-00...\n",
      "No detections found.\n",
      "Processing A03, 2020-01-16-11-00-00...\n",
      "No detections found.\n",
      "Processing A03, 2020-01-16-12-00-00...\n",
      "No detections found.\n",
      "Processing A03, 2020-01-16-13-00-00...\n",
      "No detections found.\n",
      "Processing A03, 2020-01-16-14-00-00...\n",
      "No detections found.\n",
      "Processing A03, 2020-01-16-15-00-00...\n",
      "No detections found.\n",
      "Processing A03, 2020-01-16-16-00-00...\n",
      "No detections found.\n",
      "Processing A03, 2020-01-16-17-00-00...\n",
      "No detections found.\n",
      "Processing A03, 2020-01-16-18-00-00...\n",
      "No detections found.\n",
      "Processing A03, 2020-01-16-19-00-00...\n",
      "No detections found.\n",
      "Processing A03, 2020-01-16-20-00-00...\n",
      "3 detections found.\n",
      "Processing A03, 2020-01-16-21-00-00...\n"
     ]
    },
    {
     "name": "stderr",
     "output_type": "stream",
     "text": [
      "/opt/homebrew/Caskroom/miniforge/base/envs/obspy/lib/python3.11/site-packages/obspy/signal/cross_correlation.py:291: RuntimeWarning: invalid value encountered in sqrt\n",
      "  np.sqrt(norm, out=norm)\n"
     ]
    },
    {
     "name": "stdout",
     "output_type": "stream",
     "text": [
      "3 detections found.\n",
      "Processing A03, 2020-01-16-22-00-00...\n"
     ]
    },
    {
     "name": "stderr",
     "output_type": "stream",
     "text": [
      "/opt/homebrew/Caskroom/miniforge/base/envs/obspy/lib/python3.11/site-packages/obspy/signal/cross_correlation.py:291: RuntimeWarning: invalid value encountered in sqrt\n",
      "  np.sqrt(norm, out=norm)\n"
     ]
    },
    {
     "name": "stdout",
     "output_type": "stream",
     "text": [
      "No detections found.\n",
      "Processing A03, 2020-01-16-23-00-00...\n",
      "No detections found.\n",
      "Processing A03, 2020-01-17-00-00-00...\n",
      "No detections found.\n",
      "Processing A03, 2020-01-17-01-00-00...\n",
      "No detections found.\n",
      "Processing A03, 2020-01-17-02-00-00...\n",
      "No detections found.\n",
      "Processing A03, 2020-01-17-03-00-00...\n",
      "No detections found.\n",
      "Processing A03, 2020-01-17-04-00-00...\n",
      "No detections found.\n",
      "Processing A03, 2020-01-17-05-00-00...\n",
      "No detections found.\n",
      "Processing A03, 2020-01-17-06-00-00...\n",
      "No detections found.\n",
      "Processing A03, 2020-01-17-07-00-00...\n",
      "No detections found.\n",
      "Processing A03, 2020-01-17-08-00-00...\n",
      "1 detections found.\n",
      "Processing A03, 2020-01-17-09-00-00...\n"
     ]
    },
    {
     "name": "stderr",
     "output_type": "stream",
     "text": [
      "/opt/homebrew/Caskroom/miniforge/base/envs/obspy/lib/python3.11/site-packages/obspy/signal/cross_correlation.py:291: RuntimeWarning: invalid value encountered in sqrt\n",
      "  np.sqrt(norm, out=norm)\n"
     ]
    },
    {
     "name": "stdout",
     "output_type": "stream",
     "text": [
      "No detections found.\n",
      "Processing A03, 2020-01-17-10-00-00...\n",
      "0 detections found.\n",
      "Processing A03, 2020-01-17-11-00-00...\n"
     ]
    },
    {
     "name": "stderr",
     "output_type": "stream",
     "text": [
      "/opt/homebrew/Caskroom/miniforge/base/envs/obspy/lib/python3.11/site-packages/obspy/signal/cross_correlation.py:291: RuntimeWarning: invalid value encountered in sqrt\n",
      "  np.sqrt(norm, out=norm)\n"
     ]
    },
    {
     "name": "stdout",
     "output_type": "stream",
     "text": [
      "No detections found.\n",
      "Processing A03, 2020-01-17-12-00-00...\n",
      "No detections found.\n",
      "Processing A03, 2020-01-17-13-00-00...\n",
      "No detections found.\n",
      "Processing A03, 2020-01-17-14-00-00...\n",
      "No detections found.\n",
      "Processing A03, 2020-01-17-15-00-00...\n",
      "No detections found.\n",
      "Processing A03, 2020-01-17-16-00-00...\n",
      "No detections found.\n",
      "Processing A03, 2020-01-17-17-00-00...\n",
      "No detections found.\n",
      "Processing A03, 2020-01-17-18-00-00...\n",
      "No detections found.\n",
      "Processing A03, 2020-01-17-19-00-00...\n",
      "No detections found.\n",
      "Processing A03, 2020-01-17-20-00-00...\n",
      "No detections found.\n",
      "Processing A03, 2020-01-17-21-00-00...\n",
      "No detections found.\n",
      "Processing A03, 2020-01-17-22-00-00...\n",
      "No detections found.\n",
      "Processing A03, 2020-01-17-23-00-00...\n",
      "No detections found.\n",
      "Processing A03, 2020-01-18-00-00-00...\n",
      "No detections found.\n",
      "Processing A03, 2020-01-18-01-00-00...\n",
      "No detections found.\n",
      "Processing A03, 2020-01-18-02-00-00...\n",
      "No detections found.\n",
      "Processing A03, 2020-01-18-03-00-00...\n",
      "No detections found.\n",
      "Processing A03, 2020-01-18-04-00-00...\n",
      "No detections found.\n",
      "Processing A03, 2020-01-18-05-00-00...\n",
      "No detections found.\n",
      "Processing A03, 2020-01-18-06-00-00...\n",
      "No detections found.\n",
      "Processing A03, 2020-01-18-07-00-00...\n",
      "No detections found.\n",
      "Processing A03, 2020-01-18-08-00-00...\n",
      "No detections found.\n",
      "Processing A03, 2020-01-18-09-00-00...\n",
      "No detections found.\n",
      "Processing A03, 2020-01-18-10-00-00...\n",
      "No detections found.\n",
      "Processing A03, 2020-01-18-11-00-00...\n",
      "No detections found.\n",
      "Processing A03, 2020-01-18-12-00-00...\n",
      "No detections found.\n",
      "Processing A03, 2020-01-18-13-00-00...\n",
      "No detections found.\n",
      "Processing A03, 2020-01-18-14-00-00...\n",
      "No detections found.\n",
      "Processing A03, 2020-01-18-15-00-00...\n",
      "No detections found.\n",
      "Processing A03, 2020-01-18-16-00-00...\n",
      "No detections found.\n",
      "Processing A03, 2020-01-18-17-00-00...\n",
      "No detections found.\n",
      "Processing A03, 2020-01-18-18-00-00...\n",
      "No detections found.\n",
      "Processing A03, 2020-01-18-19-00-00...\n",
      "No detections found.\n",
      "Processing A03, 2020-01-18-20-00-00...\n",
      "No detections found.\n",
      "Processing A03, 2020-01-18-21-00-00...\n",
      "No detections found.\n",
      "Processing A03, 2020-01-18-22-00-00...\n",
      "No detections found.\n",
      "Processing A03, 2020-01-18-23-00-00...\n",
      "No detections found.\n",
      "Processing A03, 2020-01-19-00-00-00...\n",
      "No detections found.\n",
      "Processing A03, 2020-01-19-01-00-00...\n",
      "No detections found.\n",
      "Processing A03, 2020-01-19-02-00-00...\n",
      "No detections found.\n",
      "Processing A03, 2020-01-19-03-00-00...\n",
      "No detections found.\n",
      "Processing A03, 2020-01-19-04-00-00...\n",
      "No detections found.\n",
      "Processing A03, 2020-01-19-05-00-00...\n",
      "No detections found.\n",
      "Processing A03, 2020-01-19-06-00-00...\n",
      "No detections found.\n",
      "Processing A03, 2020-01-19-07-00-00...\n",
      "No detections found.\n",
      "Processing A03, 2020-01-19-08-00-00...\n",
      "No detections found.\n",
      "Processing A03, 2020-01-19-09-00-00...\n",
      "No detections found.\n",
      "Processing A03, 2020-01-19-10-00-00...\n",
      "No detections found.\n",
      "Processing A03, 2020-01-19-11-00-00...\n",
      "No detections found.\n",
      "Processing A03, 2020-01-19-12-00-00...\n",
      "No detections found.\n",
      "Processing A03, 2020-01-19-13-00-00...\n",
      "No detections found.\n",
      "Processing A03, 2020-01-19-14-00-00...\n",
      "No detections found.\n",
      "Processing A03, 2020-01-19-15-00-00...\n",
      "No detections found.\n",
      "Processing A03, 2020-01-19-16-00-00...\n",
      "No detections found.\n",
      "Processing A03, 2020-01-19-17-00-00...\n",
      "No detections found.\n",
      "Processing A03, 2020-01-19-18-00-00...\n",
      "No detections found.\n",
      "Processing A03, 2020-01-19-19-00-00...\n",
      "No detections found.\n",
      "Processing A03, 2020-01-19-20-00-00...\n",
      "No detections found.\n",
      "Processing A03, 2020-01-19-21-00-00...\n",
      "No detections found.\n",
      "Processing A03, 2020-01-19-22-00-00...\n",
      "No detections found.\n",
      "Processing A03, 2020-01-19-23-00-00...\n",
      "No detections found.\n",
      "Processing A03, 2020-01-20-00-00-00...\n",
      "No detections found.\n",
      "Processing A03, 2020-01-20-01-00-00...\n",
      "No detections found.\n",
      "Processing A03, 2020-01-20-02-00-00...\n",
      "No detections found.\n",
      "Processing A03, 2020-01-20-03-00-00...\n",
      "No detections found.\n",
      "Processing A03, 2020-01-20-04-00-00...\n",
      "No detections found.\n",
      "Processing A03, 2020-01-20-05-00-00...\n",
      "No detections found.\n",
      "Processing A03, 2020-01-20-06-00-00...\n",
      "No detections found.\n",
      "Processing A03, 2020-01-20-07-00-00...\n",
      "No detections found.\n",
      "Processing A03, 2020-01-20-08-00-00...\n",
      "No detections found.\n",
      "Processing A03, 2020-01-20-09-00-00...\n",
      "No detections found.\n",
      "Processing A03, 2020-01-20-10-00-00...\n",
      "No detections found.\n",
      "Processing A03, 2020-01-20-11-00-00...\n",
      "No detections found.\n",
      "Processing A03, 2020-01-20-12-00-00...\n",
      "No detections found.\n",
      "Processing A03, 2020-01-20-13-00-00...\n",
      "No detections found.\n",
      "Processing A03, 2020-01-20-14-00-00...\n",
      "No detections found.\n",
      "Processing A03, 2020-01-20-15-00-00...\n",
      "No detections found.\n",
      "Processing A03, 2020-01-20-16-00-00...\n",
      "No detections found.\n",
      "Processing A03, 2020-01-20-17-00-00...\n",
      "No detections found.\n",
      "Processing A03, 2020-01-20-18-00-00...\n",
      "No detections found.\n",
      "Processing A03, 2020-01-20-19-00-00...\n",
      "No detections found.\n",
      "Processing A03, 2020-01-20-20-00-00...\n",
      "No detections found.\n",
      "Processing A03, 2020-01-20-21-00-00...\n",
      "No detections found.\n",
      "Processing A03, 2020-01-20-22-00-00...\n",
      "No detections found.\n",
      "Processing A03, 2020-01-20-23-00-00...\n",
      "No detections found.\n",
      "Processing A03, 2020-01-21-00-00-00...\n",
      "No detections found.\n",
      "Processing A03, 2020-01-21-01-00-00...\n",
      "No detections found.\n",
      "Processing A03, 2020-01-21-02-00-00...\n",
      "No detections found.\n",
      "Processing A03, 2020-01-21-03-00-00...\n",
      "No detections found.\n",
      "Processing A03, 2020-01-21-04-00-00...\n",
      "No detections found.\n",
      "Processing A03, 2020-01-21-05-00-00...\n",
      "No detections found.\n",
      "Processing A03, 2020-01-21-06-00-00...\n",
      "No detections found.\n",
      "Processing A03, 2020-01-21-07-00-00...\n",
      "No detections found.\n",
      "Processing A03, 2020-01-21-08-00-00...\n",
      "No detections found.\n",
      "Processing A03, 2020-01-21-09-00-00...\n",
      "No detections found.\n",
      "Processing A03, 2020-01-21-10-00-00...\n",
      "No detections found.\n",
      "Processing A03, 2020-01-21-11-00-00...\n",
      "No detections found.\n",
      "Processing A03, 2020-01-21-12-00-00...\n",
      "No detections found.\n",
      "Processing A03, 2020-01-21-13-00-00...\n",
      "No detections found.\n",
      "Processing A03, 2020-01-21-14-00-00...\n",
      "No detections found.\n",
      "Processing A03, 2020-01-21-15-00-00...\n",
      "No detections found.\n",
      "Processing A03, 2020-01-21-16-00-00...\n",
      "No detections found.\n",
      "Processing A03, 2020-01-21-17-00-00...\n",
      "No detections found.\n",
      "Processing A03, 2020-01-21-18-00-00...\n",
      "No detections found.\n",
      "Processing A03, 2020-01-21-19-00-00...\n",
      "No detections found.\n",
      "Processing A03, 2020-01-21-20-00-00...\n",
      "No detections found.\n",
      "Processing A03, 2020-01-21-21-00-00...\n",
      "No detections found.\n",
      "Processing A03, 2020-01-21-22-00-00...\n",
      "No detections found.\n",
      "Processing A03, 2020-01-21-23-00-00...\n",
      "No detections found.\n",
      "Processing A03, 2020-01-22-00-00-00...\n",
      "No detections found.\n",
      "Processing A03, 2020-01-22-01-00-00...\n",
      "No detections found.\n",
      "Processing A03, 2020-01-22-02-00-00...\n",
      "No detections found.\n",
      "Processing A03, 2020-01-22-03-00-00...\n",
      "No detections found.\n",
      "Processing A03, 2020-01-22-04-00-00...\n",
      "No detections found.\n",
      "Processing A03, 2020-01-22-05-00-00...\n",
      "No detections found.\n",
      "Processing A03, 2020-01-22-06-00-00...\n",
      "No detections found.\n",
      "Processing A03, 2020-01-22-07-00-00...\n",
      "No detections found.\n",
      "Processing A03, 2020-01-22-08-00-00...\n",
      "No detections found.\n",
      "Processing A03, 2020-01-22-09-00-00...\n",
      "No detections found.\n",
      "Processing A03, 2020-01-22-10-00-00...\n",
      "No detections found.\n",
      "Processing A03, 2020-01-22-11-00-00...\n",
      "No detections found.\n",
      "Processing A03, 2020-01-22-12-00-00...\n",
      "No detections found.\n",
      "Processing A03, 2020-01-22-13-00-00...\n",
      "No detections found.\n",
      "Processing A03, 2020-01-22-14-00-00...\n",
      "No detections found.\n",
      "Processing A03, 2020-01-22-15-00-00...\n",
      "No detections found.\n",
      "Processing A03, 2020-01-22-16-00-00...\n",
      "No detections found.\n",
      "Processing A03, 2020-01-22-17-00-00...\n",
      "No detections found.\n",
      "Processing A03, 2020-01-22-18-00-00...\n",
      "No detections found.\n",
      "Processing A03, 2020-01-22-19-00-00...\n",
      "No detections found.\n",
      "Processing A03, 2020-01-22-20-00-00...\n",
      "No detections found.\n",
      "Processing A03, 2020-01-22-21-00-00...\n",
      "No detections found.\n",
      "Processing A03, 2020-01-22-22-00-00...\n",
      "No detections found.\n",
      "Processing A03, 2020-01-22-23-00-00...\n",
      "No detections found.\n",
      "Processing A03, 2020-01-23-00-00-00...\n",
      "No detections found.\n",
      "Processing A03, 2020-01-23-01-00-00...\n",
      "No detections found.\n",
      "Processing A03, 2020-01-23-02-00-00...\n",
      "No detections found.\n",
      "Processing A03, 2020-01-23-03-00-00...\n",
      "No detections found.\n",
      "Processing A03, 2020-01-23-04-00-00...\n",
      "No detections found.\n",
      "Processing A03, 2020-01-23-05-00-00...\n",
      "No detections found.\n",
      "Processing A03, 2020-01-23-06-00-00...\n",
      "No detections found.\n",
      "Processing A03, 2020-01-23-07-00-00...\n",
      "No detections found.\n",
      "Processing A03, 2020-01-23-08-00-00...\n",
      "No detections found.\n",
      "Processing A03, 2020-01-23-09-00-00...\n",
      "No detections found.\n",
      "Processing A03, 2020-01-23-10-00-00...\n",
      "No detections found.\n",
      "Processing A03, 2020-01-23-11-00-00...\n",
      "No detections found.\n",
      "Processing A03, 2020-01-23-12-00-00...\n",
      "No detections found.\n",
      "Processing A03, 2020-01-23-13-00-00...\n",
      "No detections found.\n",
      "Processing A03, 2020-01-23-14-00-00...\n",
      "No detections found.\n",
      "Processing A03, 2020-01-23-15-00-00...\n",
      "No detections found.\n",
      "Processing A03, 2020-01-23-16-00-00...\n",
      "No detections found.\n",
      "Processing A03, 2020-01-23-17-00-00...\n",
      "No detections found.\n",
      "Processing A03, 2020-01-23-18-00-00...\n",
      "No detections found.\n",
      "Processing A03, 2020-01-23-19-00-00...\n",
      "No detections found.\n",
      "Processing A03, 2020-01-23-20-00-00...\n",
      "No detections found.\n",
      "Processing A03, 2020-01-23-21-00-00...\n",
      "No detections found.\n",
      "Processing A03, 2020-01-23-22-00-00...\n",
      "No detections found.\n",
      "Processing A03, 2020-01-23-23-00-00...\n",
      "No detections found.\n",
      "Processing A03, 2020-01-24-00-00-00...\n",
      "No detections found.\n",
      "Processing A03, 2020-01-24-01-00-00...\n",
      "No detections found.\n",
      "Processing A03, 2020-01-24-02-00-00...\n",
      "No detections found.\n",
      "Processing A03, 2020-01-24-03-00-00...\n",
      "No detections found.\n",
      "Processing A03, 2020-01-24-04-00-00...\n",
      "No detections found.\n",
      "Processing A03, 2020-01-24-05-00-00...\n",
      "No detections found.\n",
      "Processing A03, 2020-01-24-06-00-00...\n",
      "No detections found.\n",
      "Processing A03, 2020-01-24-07-00-00...\n",
      "No detections found.\n",
      "Processing A03, 2020-01-24-08-00-00...\n",
      "No detections found.\n",
      "Processing A03, 2020-01-24-09-00-00...\n",
      "No detections found.\n",
      "Processing A03, 2020-01-24-10-00-00...\n",
      "No detections found.\n",
      "Processing A03, 2020-01-24-11-00-00...\n",
      "No detections found.\n",
      "Processing A03, 2020-01-24-12-00-00...\n",
      "No detections found.\n",
      "Processing A03, 2020-01-24-13-00-00...\n",
      "No detections found.\n",
      "Processing A03, 2020-01-24-14-00-00...\n",
      "No detections found.\n",
      "Processing A03, 2020-01-24-15-00-00...\n",
      "No detections found.\n",
      "Processing A03, 2020-01-24-16-00-00...\n",
      "No detections found.\n",
      "Processing A03, 2020-01-24-17-00-00...\n",
      "No detections found.\n",
      "Processing A03, 2020-01-24-18-00-00...\n",
      "No detections found.\n",
      "Processing A03, 2020-01-24-19-00-00...\n",
      "No detections found.\n",
      "Processing A03, 2020-01-24-20-00-00...\n",
      "No detections found.\n",
      "Processing A03, 2020-01-24-21-00-00...\n",
      "No detections found.\n",
      "Processing A03, 2020-01-24-22-00-00...\n",
      "No detections found.\n",
      "Processing A03, 2020-01-24-23-00-00...\n",
      "No detections found.\n",
      "Processing A03, 2020-01-25-00-00-00...\n",
      "No detections found.\n",
      "Processing A03, 2020-01-25-01-00-00...\n",
      "No detections found.\n",
      "Processing A03, 2020-01-25-02-00-00...\n",
      "No detections found.\n",
      "Processing A03, 2020-01-25-03-00-00...\n",
      "No detections found.\n",
      "Processing A03, 2020-01-25-04-00-00...\n",
      "No detections found.\n",
      "Processing A03, 2020-01-25-05-00-00...\n",
      "No detections found.\n",
      "Processing A03, 2020-01-25-06-00-00...\n",
      "No detections found.\n",
      "Processing A03, 2020-01-25-07-00-00...\n",
      "No detections found.\n",
      "Processing A03, 2020-01-25-08-00-00...\n",
      "No detections found.\n",
      "Processing A03, 2020-01-25-09-00-00...\n",
      "No detections found.\n",
      "Processing A03, 2020-01-25-10-00-00...\n",
      "No detections found.\n",
      "Processing A03, 2020-01-25-11-00-00...\n",
      "No detections found.\n",
      "Processing A03, 2020-01-25-12-00-00...\n",
      "No detections found.\n",
      "Processing A03, 2020-01-25-13-00-00...\n",
      "No detections found.\n",
      "Processing A03, 2020-01-25-14-00-00...\n",
      "No detections found.\n",
      "Processing A03, 2020-01-25-15-00-00...\n",
      "No detections found.\n",
      "Processing A03, 2020-01-25-16-00-00...\n",
      "No detections found.\n",
      "Processing A03, 2020-01-25-17-00-00...\n",
      "No detections found.\n",
      "Processing A03, 2020-01-25-18-00-00...\n",
      "No detections found.\n",
      "Processing A03, 2020-01-25-19-00-00...\n",
      "No detections found.\n",
      "Processing A03, 2020-01-25-20-00-00...\n",
      "No detections found.\n",
      "Processing A03, 2020-01-25-21-00-00...\n",
      "No detections found.\n",
      "Processing A03, 2020-01-25-22-00-00...\n",
      "No detections found.\n",
      "Processing A03, 2020-01-25-23-00-00...\n",
      "No detections found.\n",
      "Processing A03, 2020-01-26-00-00-00...\n",
      "No detections found.\n",
      "Processing A03, 2020-01-26-01-00-00...\n",
      "No detections found.\n",
      "Processing A03, 2020-01-26-02-00-00...\n",
      "No detections found.\n",
      "Processing A03, 2020-01-26-03-00-00...\n",
      "No detections found.\n",
      "Processing A03, 2020-01-26-04-00-00...\n",
      "No detections found.\n",
      "Processing A03, 2020-01-26-05-00-00...\n",
      "No detections found.\n",
      "Processing A03, 2020-01-26-06-00-00...\n",
      "No detections found.\n",
      "Processing A03, 2020-01-26-07-00-00...\n",
      "No detections found.\n",
      "Processing A03, 2020-01-26-08-00-00...\n",
      "No detections found.\n",
      "Processing A03, 2020-01-26-09-00-00...\n",
      "No detections found.\n",
      "Processing A03, 2020-01-26-10-00-00...\n",
      "No detections found.\n",
      "Processing A03, 2020-01-26-11-00-00...\n",
      "No detections found.\n",
      "Processing A03, 2020-01-26-12-00-00...\n",
      "No detections found.\n",
      "Processing A03, 2020-01-26-13-00-00...\n",
      "No detections found.\n",
      "Processing A03, 2020-01-26-14-00-00...\n",
      "No detections found.\n",
      "Processing A03, 2020-01-26-15-00-00...\n",
      "No detections found.\n",
      "Processing A03, 2020-01-26-16-00-00...\n",
      "No detections found.\n",
      "Processing A03, 2020-01-26-17-00-00...\n",
      "No detections found.\n",
      "Processing A03, 2020-01-26-18-00-00...\n",
      "No detections found.\n",
      "Processing A03, 2020-01-26-19-00-00...\n",
      "No detections found.\n",
      "Processing A03, 2020-01-26-20-00-00...\n",
      "No detections found.\n",
      "Processing A03, 2020-01-26-21-00-00...\n",
      "125 detections found.\n",
      "Processing A03, 2020-01-26-22-00-00...\n"
     ]
    },
    {
     "name": "stderr",
     "output_type": "stream",
     "text": [
      "/opt/homebrew/Caskroom/miniforge/base/envs/obspy/lib/python3.11/site-packages/obspy/signal/cross_correlation.py:291: RuntimeWarning: invalid value encountered in sqrt\n",
      "  np.sqrt(norm, out=norm)\n"
     ]
    },
    {
     "name": "stdout",
     "output_type": "stream",
     "text": [
      "316 detections found.\n",
      "Processing A03, 2020-01-26-23-00-00...\n"
     ]
    },
    {
     "name": "stderr",
     "output_type": "stream",
     "text": [
      "/opt/homebrew/Caskroom/miniforge/base/envs/obspy/lib/python3.11/site-packages/obspy/signal/cross_correlation.py:291: RuntimeWarning: invalid value encountered in sqrt\n",
      "  np.sqrt(norm, out=norm)\n"
     ]
    },
    {
     "name": "stdout",
     "output_type": "stream",
     "text": [
      "451 detections found.\n",
      "Processing A03, 2020-01-27-00-00-00...\n",
      "299 detections found.\n",
      "Processing A03, 2020-01-27-01-00-00...\n"
     ]
    },
    {
     "name": "stderr",
     "output_type": "stream",
     "text": [
      "/opt/homebrew/Caskroom/miniforge/base/envs/obspy/lib/python3.11/site-packages/obspy/signal/cross_correlation.py:291: RuntimeWarning: invalid value encountered in sqrt\n",
      "  np.sqrt(norm, out=norm)\n"
     ]
    },
    {
     "name": "stdout",
     "output_type": "stream",
     "text": [
      "60 detections found.\n",
      "Processing A03, 2020-01-27-02-00-00...\n",
      "No detections found.\n",
      "Processing A03, 2020-01-27-03-00-00...\n"
     ]
    },
    {
     "name": "stderr",
     "output_type": "stream",
     "text": [
      "/opt/homebrew/Caskroom/miniforge/base/envs/obspy/lib/python3.11/site-packages/obspy/signal/cross_correlation.py:291: RuntimeWarning: invalid value encountered in sqrt\n",
      "  np.sqrt(norm, out=norm)\n"
     ]
    },
    {
     "name": "stdout",
     "output_type": "stream",
     "text": [
      "No detections found.\n",
      "Processing A03, 2020-01-27-04-00-00...\n",
      "No detections found.\n",
      "Processing A03, 2020-01-27-05-00-00...\n",
      "No detections found.\n",
      "Processing A03, 2020-01-27-06-00-00...\n",
      "18 detections found.\n",
      "Processing A03, 2020-01-27-07-00-00...\n"
     ]
    },
    {
     "name": "stderr",
     "output_type": "stream",
     "text": [
      "/opt/homebrew/Caskroom/miniforge/base/envs/obspy/lib/python3.11/site-packages/obspy/signal/cross_correlation.py:291: RuntimeWarning: invalid value encountered in sqrt\n",
      "  np.sqrt(norm, out=norm)\n"
     ]
    },
    {
     "name": "stdout",
     "output_type": "stream",
     "text": [
      "2 detections found.\n",
      "Processing A03, 2020-01-27-08-00-00...\n"
     ]
    },
    {
     "name": "stderr",
     "output_type": "stream",
     "text": [
      "/opt/homebrew/Caskroom/miniforge/base/envs/obspy/lib/python3.11/site-packages/obspy/signal/cross_correlation.py:291: RuntimeWarning: invalid value encountered in sqrt\n",
      "  np.sqrt(norm, out=norm)\n"
     ]
    },
    {
     "name": "stdout",
     "output_type": "stream",
     "text": [
      "1 detections found.\n",
      "Processing A03, 2020-01-27-09-00-00...\n"
     ]
    },
    {
     "name": "stderr",
     "output_type": "stream",
     "text": [
      "/opt/homebrew/Caskroom/miniforge/base/envs/obspy/lib/python3.11/site-packages/obspy/signal/cross_correlation.py:291: RuntimeWarning: invalid value encountered in sqrt\n",
      "  np.sqrt(norm, out=norm)\n"
     ]
    },
    {
     "name": "stdout",
     "output_type": "stream",
     "text": [
      "1 detections found.\n",
      "Processing A03, 2020-01-27-10-00-00...\n"
     ]
    },
    {
     "name": "stderr",
     "output_type": "stream",
     "text": [
      "/opt/homebrew/Caskroom/miniforge/base/envs/obspy/lib/python3.11/site-packages/obspy/signal/cross_correlation.py:291: RuntimeWarning: invalid value encountered in sqrt\n",
      "  np.sqrt(norm, out=norm)\n"
     ]
    },
    {
     "name": "stdout",
     "output_type": "stream",
     "text": [
      "18 detections found.\n",
      "Processing A03, 2020-01-27-11-00-00...\n"
     ]
    },
    {
     "name": "stderr",
     "output_type": "stream",
     "text": [
      "/opt/homebrew/Caskroom/miniforge/base/envs/obspy/lib/python3.11/site-packages/obspy/signal/cross_correlation.py:291: RuntimeWarning: invalid value encountered in sqrt\n",
      "  np.sqrt(norm, out=norm)\n"
     ]
    },
    {
     "name": "stdout",
     "output_type": "stream",
     "text": [
      "25 detections found.\n",
      "Processing A03, 2020-01-27-12-00-00...\n"
     ]
    },
    {
     "name": "stderr",
     "output_type": "stream",
     "text": [
      "/opt/homebrew/Caskroom/miniforge/base/envs/obspy/lib/python3.11/site-packages/obspy/signal/cross_correlation.py:291: RuntimeWarning: invalid value encountered in sqrt\n",
      "  np.sqrt(norm, out=norm)\n"
     ]
    },
    {
     "name": "stdout",
     "output_type": "stream",
     "text": [
      "40 detections found.\n",
      "Processing A03, 2020-01-27-13-00-00...\n",
      "32 detections found.\n",
      "Processing A03, 2020-01-27-14-00-00...\n"
     ]
    },
    {
     "name": "stderr",
     "output_type": "stream",
     "text": [
      "/opt/homebrew/Caskroom/miniforge/base/envs/obspy/lib/python3.11/site-packages/obspy/signal/cross_correlation.py:291: RuntimeWarning: invalid value encountered in sqrt\n",
      "  np.sqrt(norm, out=norm)\n"
     ]
    },
    {
     "name": "stdout",
     "output_type": "stream",
     "text": [
      "14 detections found.\n",
      "Processing A03, 2020-01-27-15-00-00...\n"
     ]
    },
    {
     "name": "stderr",
     "output_type": "stream",
     "text": [
      "/opt/homebrew/Caskroom/miniforge/base/envs/obspy/lib/python3.11/site-packages/obspy/signal/cross_correlation.py:291: RuntimeWarning: invalid value encountered in sqrt\n",
      "  np.sqrt(norm, out=norm)\n"
     ]
    },
    {
     "name": "stdout",
     "output_type": "stream",
     "text": [
      "No detections found.\n",
      "Processing A03, 2020-01-27-16-00-00...\n",
      "20 detections found.\n",
      "Processing A03, 2020-01-27-17-00-00...\n"
     ]
    },
    {
     "name": "stderr",
     "output_type": "stream",
     "text": [
      "/opt/homebrew/Caskroom/miniforge/base/envs/obspy/lib/python3.11/site-packages/obspy/signal/cross_correlation.py:291: RuntimeWarning: invalid value encountered in sqrt\n",
      "  np.sqrt(norm, out=norm)\n"
     ]
    },
    {
     "name": "stdout",
     "output_type": "stream",
     "text": [
      "281 detections found.\n",
      "Processing A03, 2020-01-27-18-00-00...\n"
     ]
    },
    {
     "name": "stderr",
     "output_type": "stream",
     "text": [
      "/opt/homebrew/Caskroom/miniforge/base/envs/obspy/lib/python3.11/site-packages/obspy/signal/cross_correlation.py:291: RuntimeWarning: invalid value encountered in sqrt\n",
      "  np.sqrt(norm, out=norm)\n"
     ]
    },
    {
     "name": "stdout",
     "output_type": "stream",
     "text": [
      "109 detections found.\n",
      "Processing A03, 2020-01-27-19-00-00...\n"
     ]
    },
    {
     "name": "stderr",
     "output_type": "stream",
     "text": [
      "/opt/homebrew/Caskroom/miniforge/base/envs/obspy/lib/python3.11/site-packages/obspy/signal/cross_correlation.py:291: RuntimeWarning: invalid value encountered in sqrt\n",
      "  np.sqrt(norm, out=norm)\n"
     ]
    },
    {
     "name": "stdout",
     "output_type": "stream",
     "text": [
      "76 detections found.\n",
      "Processing A03, 2020-01-27-20-00-00...\n"
     ]
    },
    {
     "name": "stderr",
     "output_type": "stream",
     "text": [
      "/opt/homebrew/Caskroom/miniforge/base/envs/obspy/lib/python3.11/site-packages/obspy/signal/cross_correlation.py:291: RuntimeWarning: invalid value encountered in sqrt\n",
      "  np.sqrt(norm, out=norm)\n"
     ]
    },
    {
     "name": "stdout",
     "output_type": "stream",
     "text": [
      "14 detections found.\n",
      "Processing A03, 2020-01-27-21-00-00...\n"
     ]
    },
    {
     "name": "stderr",
     "output_type": "stream",
     "text": [
      "/opt/homebrew/Caskroom/miniforge/base/envs/obspy/lib/python3.11/site-packages/obspy/signal/cross_correlation.py:291: RuntimeWarning: invalid value encountered in sqrt\n",
      "  np.sqrt(norm, out=norm)\n"
     ]
    },
    {
     "name": "stdout",
     "output_type": "stream",
     "text": [
      "No detections found.\n",
      "Processing A03, 2020-01-27-22-00-00...\n",
      "No detections found.\n",
      "Processing A03, 2020-01-27-23-00-00...\n",
      "No detections found.\n",
      "Processing A03, 2020-01-28-00-00-00...\n",
      "No detections found.\n",
      "Processing A03, 2020-01-28-01-00-00...\n",
      "No detections found.\n",
      "Processing A03, 2020-01-28-02-00-00...\n",
      "No detections found.\n",
      "Processing A03, 2020-01-28-03-00-00...\n",
      "No detections found.\n",
      "Processing A03, 2020-01-28-04-00-00...\n",
      "No detections found.\n",
      "Processing A03, 2020-01-28-05-00-00...\n",
      "1 detections found.\n",
      "Processing A03, 2020-01-28-06-00-00...\n"
     ]
    },
    {
     "name": "stderr",
     "output_type": "stream",
     "text": [
      "/opt/homebrew/Caskroom/miniforge/base/envs/obspy/lib/python3.11/site-packages/obspy/signal/cross_correlation.py:291: RuntimeWarning: invalid value encountered in sqrt\n",
      "  np.sqrt(norm, out=norm)\n"
     ]
    },
    {
     "name": "stdout",
     "output_type": "stream",
     "text": [
      "3 detections found.\n",
      "Processing A03, 2020-01-28-07-00-00...\n"
     ]
    },
    {
     "name": "stderr",
     "output_type": "stream",
     "text": [
      "/opt/homebrew/Caskroom/miniforge/base/envs/obspy/lib/python3.11/site-packages/obspy/signal/cross_correlation.py:291: RuntimeWarning: invalid value encountered in sqrt\n",
      "  np.sqrt(norm, out=norm)\n"
     ]
    },
    {
     "name": "stdout",
     "output_type": "stream",
     "text": [
      "2 detections found.\n",
      "Processing A03, 2020-01-28-08-00-00...\n"
     ]
    },
    {
     "name": "stderr",
     "output_type": "stream",
     "text": [
      "/opt/homebrew/Caskroom/miniforge/base/envs/obspy/lib/python3.11/site-packages/obspy/signal/cross_correlation.py:291: RuntimeWarning: invalid value encountered in sqrt\n",
      "  np.sqrt(norm, out=norm)\n"
     ]
    },
    {
     "name": "stdout",
     "output_type": "stream",
     "text": [
      "No detections found.\n",
      "Processing A03, 2020-01-28-09-00-00...\n",
      "1 detections found.\n",
      "Processing A03, 2020-01-28-10-00-00...\n"
     ]
    },
    {
     "name": "stderr",
     "output_type": "stream",
     "text": [
      "/opt/homebrew/Caskroom/miniforge/base/envs/obspy/lib/python3.11/site-packages/obspy/signal/cross_correlation.py:291: RuntimeWarning: invalid value encountered in sqrt\n",
      "  np.sqrt(norm, out=norm)\n"
     ]
    },
    {
     "name": "stdout",
     "output_type": "stream",
     "text": [
      "1 detections found.\n",
      "Processing A03, 2020-01-28-11-00-00...\n"
     ]
    },
    {
     "name": "stderr",
     "output_type": "stream",
     "text": [
      "/opt/homebrew/Caskroom/miniforge/base/envs/obspy/lib/python3.11/site-packages/obspy/signal/cross_correlation.py:291: RuntimeWarning: invalid value encountered in sqrt\n",
      "  np.sqrt(norm, out=norm)\n"
     ]
    },
    {
     "name": "stdout",
     "output_type": "stream",
     "text": [
      "3 detections found.\n",
      "Processing A03, 2020-01-28-12-00-00...\n"
     ]
    },
    {
     "name": "stderr",
     "output_type": "stream",
     "text": [
      "/opt/homebrew/Caskroom/miniforge/base/envs/obspy/lib/python3.11/site-packages/obspy/signal/cross_correlation.py:291: RuntimeWarning: invalid value encountered in sqrt\n",
      "  np.sqrt(norm, out=norm)\n"
     ]
    },
    {
     "name": "stdout",
     "output_type": "stream",
     "text": [
      "3 detections found.\n",
      "Processing A03, 2020-01-28-13-00-00...\n"
     ]
    },
    {
     "name": "stderr",
     "output_type": "stream",
     "text": [
      "/opt/homebrew/Caskroom/miniforge/base/envs/obspy/lib/python3.11/site-packages/obspy/signal/cross_correlation.py:291: RuntimeWarning: invalid value encountered in sqrt\n",
      "  np.sqrt(norm, out=norm)\n"
     ]
    },
    {
     "name": "stdout",
     "output_type": "stream",
     "text": [
      "3 detections found.\n",
      "Processing A03, 2020-01-28-14-00-00...\n"
     ]
    },
    {
     "name": "stderr",
     "output_type": "stream",
     "text": [
      "/opt/homebrew/Caskroom/miniforge/base/envs/obspy/lib/python3.11/site-packages/obspy/signal/cross_correlation.py:291: RuntimeWarning: invalid value encountered in sqrt\n",
      "  np.sqrt(norm, out=norm)\n"
     ]
    },
    {
     "name": "stdout",
     "output_type": "stream",
     "text": [
      "4 detections found.\n",
      "Processing A03, 2020-01-28-15-00-00...\n",
      "11 detections found.\n",
      "Processing A03, 2020-01-28-16-00-00...\n"
     ]
    },
    {
     "name": "stderr",
     "output_type": "stream",
     "text": [
      "/opt/homebrew/Caskroom/miniforge/base/envs/obspy/lib/python3.11/site-packages/obspy/signal/cross_correlation.py:291: RuntimeWarning: invalid value encountered in sqrt\n",
      "  np.sqrt(norm, out=norm)\n"
     ]
    },
    {
     "name": "stdout",
     "output_type": "stream",
     "text": [
      "29 detections found.\n",
      "Processing A03, 2020-01-28-17-00-00...\n"
     ]
    },
    {
     "name": "stderr",
     "output_type": "stream",
     "text": [
      "/opt/homebrew/Caskroom/miniforge/base/envs/obspy/lib/python3.11/site-packages/obspy/signal/cross_correlation.py:291: RuntimeWarning: invalid value encountered in sqrt\n",
      "  np.sqrt(norm, out=norm)\n"
     ]
    },
    {
     "name": "stdout",
     "output_type": "stream",
     "text": [
      "12 detections found.\n",
      "Processing A03, 2020-01-28-18-00-00...\n"
     ]
    },
    {
     "name": "stderr",
     "output_type": "stream",
     "text": [
      "/opt/homebrew/Caskroom/miniforge/base/envs/obspy/lib/python3.11/site-packages/obspy/signal/cross_correlation.py:291: RuntimeWarning: invalid value encountered in sqrt\n",
      "  np.sqrt(norm, out=norm)\n"
     ]
    },
    {
     "name": "stdout",
     "output_type": "stream",
     "text": [
      "6 detections found.\n",
      "Processing A03, 2020-01-28-19-00-00...\n"
     ]
    },
    {
     "name": "stderr",
     "output_type": "stream",
     "text": [
      "/opt/homebrew/Caskroom/miniforge/base/envs/obspy/lib/python3.11/site-packages/obspy/signal/cross_correlation.py:291: RuntimeWarning: invalid value encountered in sqrt\n",
      "  np.sqrt(norm, out=norm)\n"
     ]
    },
    {
     "name": "stdout",
     "output_type": "stream",
     "text": [
      "No detections found.\n",
      "Processing A03, 2020-01-28-20-00-00...\n",
      "2 detections found.\n",
      "Processing A03, 2020-01-28-21-00-00...\n",
      "No detections found.\n",
      "Processing A03, 2020-01-28-22-00-00...\n",
      "No detections found.\n",
      "Processing A03, 2020-01-28-23-00-00...\n"
     ]
    },
    {
     "name": "stderr",
     "output_type": "stream",
     "text": [
      "/opt/homebrew/Caskroom/miniforge/base/envs/obspy/lib/python3.11/site-packages/obspy/signal/cross_correlation.py:291: RuntimeWarning: invalid value encountered in sqrt\n",
      "  np.sqrt(norm, out=norm)\n"
     ]
    },
    {
     "name": "stdout",
     "output_type": "stream",
     "text": [
      "No detections found.\n",
      "Processing A03, 2020-01-29-00-00-00...\n",
      "No detections found.\n",
      "Processing A03, 2020-01-29-01-00-00...\n",
      "No detections found.\n",
      "Processing A03, 2020-01-29-02-00-00...\n",
      "No detections found.\n",
      "Processing A03, 2020-01-29-03-00-00...\n",
      "No detections found.\n",
      "Processing A03, 2020-01-29-04-00-00...\n",
      "No detections found.\n",
      "Processing A03, 2020-01-29-05-00-00...\n",
      "No detections found.\n",
      "Processing A03, 2020-01-29-06-00-00...\n",
      "0 detections found.\n",
      "Processing A03, 2020-01-29-07-00-00...\n"
     ]
    },
    {
     "name": "stderr",
     "output_type": "stream",
     "text": [
      "/opt/homebrew/Caskroom/miniforge/base/envs/obspy/lib/python3.11/site-packages/obspy/signal/cross_correlation.py:291: RuntimeWarning: invalid value encountered in sqrt\n",
      "  np.sqrt(norm, out=norm)\n"
     ]
    },
    {
     "name": "stdout",
     "output_type": "stream",
     "text": [
      "No detections found.\n",
      "Processing A03, 2020-01-29-08-00-00...\n",
      "No detections found.\n",
      "Processing A03, 2020-01-29-09-00-00...\n",
      "No detections found.\n",
      "Processing A03, 2020-01-29-10-00-00...\n",
      "No detections found.\n",
      "Processing A03, 2020-01-29-11-00-00...\n",
      "No detections found.\n",
      "Processing A03, 2020-01-29-12-00-00...\n",
      "No detections found.\n",
      "Processing A03, 2020-01-29-13-00-00...\n",
      "No detections found.\n",
      "Processing A03, 2020-01-29-14-00-00...\n",
      "No detections found.\n",
      "Processing A03, 2020-01-29-15-00-00...\n",
      "No detections found.\n",
      "Processing A03, 2020-01-29-16-00-00...\n",
      "No detections found.\n",
      "Processing A03, 2020-01-29-17-00-00...\n",
      "No detections found.\n",
      "Processing A03, 2020-01-29-18-00-00...\n",
      "No detections found.\n",
      "Processing A03, 2020-01-29-19-00-00...\n",
      "No detections found.\n",
      "Processing A03, 2020-01-29-20-00-00...\n",
      "No detections found.\n",
      "Processing A03, 2020-01-29-21-00-00...\n",
      "No detections found.\n",
      "Processing A03, 2020-01-29-22-00-00...\n",
      "No detections found.\n",
      "Processing A03, 2020-01-29-23-00-00...\n",
      "No detections found.\n",
      "Processing A03, 2020-01-30-00-00-00...\n",
      "No detections found.\n",
      "Processing A03, 2020-01-30-01-00-00...\n",
      "No detections found.\n",
      "Processing A03, 2020-01-30-02-00-00...\n",
      "No detections found.\n",
      "Processing A03, 2020-01-30-03-00-00...\n",
      "No detections found.\n",
      "Processing A03, 2020-01-30-04-00-00...\n",
      "No detections found.\n",
      "Processing A03, 2020-01-30-05-00-00...\n",
      "No detections found.\n",
      "Processing A03, 2020-01-30-06-00-00...\n",
      "No detections found.\n",
      "Processing A03, 2020-01-30-07-00-00...\n",
      "No detections found.\n",
      "Processing A03, 2020-01-30-08-00-00...\n",
      "No detections found.\n",
      "Processing A03, 2020-01-30-09-00-00...\n",
      "No detections found.\n",
      "Processing A03, 2020-01-30-10-00-00...\n",
      "No detections found.\n",
      "Processing A03, 2020-01-30-11-00-00...\n",
      "No detections found.\n",
      "Processing A03, 2020-01-30-12-00-00...\n",
      "No detections found.\n",
      "Processing A03, 2020-01-30-13-00-00...\n",
      "No detections found.\n",
      "Processing A03, 2020-01-30-14-00-00...\n",
      "No detections found.\n",
      "Processing A03, 2020-01-30-15-00-00...\n",
      "No detections found.\n",
      "Processing A03, 2020-01-30-16-00-00...\n",
      "No detections found.\n",
      "Processing A03, 2020-01-30-17-00-00...\n",
      "No detections found.\n",
      "Processing A03, 2020-01-30-18-00-00...\n",
      "No detections found.\n",
      "Processing A03, 2020-01-30-19-00-00...\n",
      "No detections found.\n",
      "Processing A03, 2020-01-30-20-00-00...\n",
      "No detections found.\n",
      "Processing A03, 2020-01-30-21-00-00...\n",
      "No detections found.\n",
      "Processing A03, 2020-01-30-22-00-00...\n",
      "No detections found.\n",
      "Processing A03, 2020-01-30-23-00-00...\n",
      "No detections found.\n",
      "Processing A03, 2020-01-31-00-00-00...\n",
      "No detections found.\n",
      "Processing A03, 2020-01-31-01-00-00...\n",
      "No detections found.\n",
      "Processing A03, 2020-01-31-02-00-00...\n",
      "No detections found.\n",
      "Processing A03, 2020-01-31-03-00-00...\n",
      "No detections found.\n",
      "Processing A03, 2020-01-31-04-00-00...\n",
      "No detections found.\n",
      "Processing A03, 2020-01-31-05-00-00...\n",
      "No detections found.\n",
      "Processing A03, 2020-01-31-06-00-00...\n",
      "No detections found.\n",
      "Processing A03, 2020-01-31-07-00-00...\n",
      "No detections found.\n",
      "Processing A03, 2020-01-31-08-00-00...\n",
      "No detections found.\n",
      "Processing A03, 2020-01-31-09-00-00...\n",
      "No detections found.\n",
      "Processing A03, 2020-01-31-10-00-00...\n",
      "No detections found.\n",
      "Processing A03, 2020-01-31-11-00-00...\n",
      "No detections found.\n",
      "Processing A03, 2020-01-31-12-00-00...\n",
      "No detections found.\n",
      "Processing A03, 2020-01-31-13-00-00...\n",
      "No detections found.\n",
      "Processing A03, 2020-01-31-14-00-00...\n",
      "No detections found.\n",
      "Processing A03, 2020-01-31-15-00-00...\n",
      "No detections found.\n",
      "Processing A03, 2020-01-31-16-00-00...\n",
      "No detections found.\n",
      "Processing A03, 2020-01-31-17-00-00...\n",
      "No detections found.\n",
      "Processing A03, 2020-01-31-18-00-00...\n",
      "No detections found.\n",
      "Processing A03, 2020-01-31-19-00-00...\n",
      "No detections found.\n",
      "Processing A03, 2020-01-31-20-00-00...\n",
      "No detections found.\n",
      "Processing A03, 2020-01-31-21-00-00...\n",
      "No detections found.\n",
      "Processing A03, 2020-01-31-22-00-00...\n",
      "No detections found.\n",
      "Processing A03, 2020-01-31-23-00-00...\n",
      "No detections found.\n",
      "Processing A03, 2020-02-01-00-00-00...\n",
      "No detections found.\n",
      "Processing A03, 2020-02-01-01-00-00...\n",
      "No detections found.\n",
      "Processing A03, 2020-02-01-02-00-00...\n",
      "No detections found.\n",
      "Processing A03, 2020-02-01-03-00-00...\n",
      "No detections found.\n",
      "Processing A03, 2020-02-01-04-00-00...\n",
      "No detections found.\n",
      "Processing A03, 2020-02-01-05-00-00...\n",
      "No detections found.\n",
      "Processing A03, 2020-02-01-06-00-00...\n",
      "No detections found.\n",
      "Processing A03, 2020-02-01-07-00-00...\n",
      "No detections found.\n",
      "Processing A03, 2020-02-01-08-00-00...\n",
      "Cannot find data for 2020-02-01-08-00-00!\n",
      "Processing A03, 2020-02-01-09-00-00...\n",
      "Cannot find data for 2020-02-01-09-00-00!\n",
      "Processing A03, 2020-02-01-10-00-00...\n",
      "Cannot find data for 2020-02-01-10-00-00!\n",
      "Processing A03, 2020-02-01-11-00-00...\n",
      "Cannot find data for 2020-02-01-11-00-00!\n",
      "Processing A03, 2020-02-01-12-00-00...\n",
      "Cannot find data for 2020-02-01-12-00-00!\n",
      "Processing A03, 2020-02-01-13-00-00...\n",
      "Cannot find data for 2020-02-01-13-00-00!\n",
      "Processing A03, 2020-02-01-14-00-00...\n",
      "Cannot find data for 2020-02-01-14-00-00!\n",
      "Processing A03, 2020-02-01-15-00-00...\n",
      "Cannot find data for 2020-02-01-15-00-00!\n",
      "Processing A03, 2020-02-01-16-00-00...\n",
      "Cannot find data for 2020-02-01-16-00-00!\n",
      "Processing A03, 2020-02-01-17-00-00...\n",
      "Cannot find data for 2020-02-01-17-00-00!\n",
      "Processing A03, 2020-02-01-18-00-00...\n",
      "Cannot find data for 2020-02-01-18-00-00!\n",
      "Processing A03, 2020-02-01-19-00-00...\n",
      "Cannot find data for 2020-02-01-19-00-00!\n",
      "Processing A03, 2020-02-01-20-00-00...\n",
      "Cannot find data for 2020-02-01-20-00-00!\n",
      "Processing A03, 2020-02-01-21-00-00...\n",
      "Cannot find data for 2020-02-01-21-00-00!\n",
      "Processing A03, 2020-02-01-22-00-00...\n",
      "Cannot find data for 2020-02-01-22-00-00!\n",
      "Processing A03, 2020-02-01-23-00-00...\n",
      "Cannot find data for 2020-02-01-23-00-00!\n",
      "Processing A03, 2020-02-02-00-00-00...\n",
      "Cannot find data for 2020-02-02-00-00-00!\n",
      "Processing A03, 2020-02-02-01-00-00...\n",
      "Cannot find data for 2020-02-02-01-00-00!\n",
      "Processing A03, 2020-02-02-02-00-00...\n",
      "Cannot find data for 2020-02-02-02-00-00!\n",
      "Processing A03, 2020-02-02-03-00-00...\n",
      "Cannot find data for 2020-02-02-03-00-00!\n",
      "Processing A03, 2020-02-02-04-00-00...\n",
      "Cannot find data for 2020-02-02-04-00-00!\n",
      "Processing A03, 2020-02-02-05-00-00...\n",
      "Cannot find data for 2020-02-02-05-00-00!\n",
      "Processing A03, 2020-02-02-06-00-00...\n",
      "Cannot find data for 2020-02-02-06-00-00!\n",
      "Processing A03, 2020-02-02-07-00-00...\n",
      "Cannot find data for 2020-02-02-07-00-00!\n",
      "Processing A03, 2020-02-02-08-00-00...\n",
      "Cannot find data for 2020-02-02-08-00-00!\n",
      "Processing A03, 2020-02-02-09-00-00...\n",
      "Cannot find data for 2020-02-02-09-00-00!\n",
      "Processing A03, 2020-02-02-10-00-00...\n",
      "Cannot find data for 2020-02-02-10-00-00!\n",
      "Processing A03, 2020-02-02-11-00-00...\n",
      "Cannot find data for 2020-02-02-11-00-00!\n",
      "Processing A03, 2020-02-02-12-00-00...\n",
      "Cannot find data for 2020-02-02-12-00-00!\n",
      "Processing A03, 2020-02-02-13-00-00...\n",
      "Cannot find data for 2020-02-02-13-00-00!\n",
      "Processing A03, 2020-02-02-14-00-00...\n",
      "Cannot find data for 2020-02-02-14-00-00!\n",
      "Processing A03, 2020-02-02-15-00-00...\n",
      "Cannot find data for 2020-02-02-15-00-00!\n",
      "Processing A03, 2020-02-02-16-00-00...\n",
      "Cannot find data for 2020-02-02-16-00-00!\n",
      "Processing A03, 2020-02-02-17-00-00...\n",
      "Cannot find data for 2020-02-02-17-00-00!\n",
      "Processing A03, 2020-02-02-18-00-00...\n",
      "Cannot find data for 2020-02-02-18-00-00!\n",
      "Processing A03, 2020-02-02-19-00-00...\n",
      "Cannot find data for 2020-02-02-19-00-00!\n",
      "Processing A03, 2020-02-02-20-00-00...\n",
      "Cannot find data for 2020-02-02-20-00-00!\n",
      "Processing A03, 2020-02-02-21-00-00...\n",
      "Cannot find data for 2020-02-02-21-00-00!\n",
      "Processing A03, 2020-02-02-22-00-00...\n",
      "Cannot find data for 2020-02-02-22-00-00!\n",
      "Processing A02, 2020-01-10-11-00-00...\n",
      "14 detections found.\n",
      "Processing A02, 2020-01-10-12-00-00...\n",
      "14 detections found.\n",
      "Processing A02, 2020-01-10-13-00-00...\n"
     ]
    },
    {
     "name": "stderr",
     "output_type": "stream",
     "text": [
      "/opt/homebrew/Caskroom/miniforge/base/envs/obspy/lib/python3.11/site-packages/obspy/signal/cross_correlation.py:291: RuntimeWarning: invalid value encountered in sqrt\n",
      "  np.sqrt(norm, out=norm)\n"
     ]
    },
    {
     "name": "stdout",
     "output_type": "stream",
     "text": [
      "21 detections found.\n",
      "Processing A02, 2020-01-10-14-00-00...\n"
     ]
    },
    {
     "name": "stderr",
     "output_type": "stream",
     "text": [
      "/opt/homebrew/Caskroom/miniforge/base/envs/obspy/lib/python3.11/site-packages/obspy/signal/cross_correlation.py:291: RuntimeWarning: invalid value encountered in sqrt\n",
      "  np.sqrt(norm, out=norm)\n"
     ]
    },
    {
     "name": "stdout",
     "output_type": "stream",
     "text": [
      "15 detections found.\n",
      "Processing A02, 2020-01-10-15-00-00...\n"
     ]
    },
    {
     "name": "stderr",
     "output_type": "stream",
     "text": [
      "/opt/homebrew/Caskroom/miniforge/base/envs/obspy/lib/python3.11/site-packages/obspy/signal/cross_correlation.py:291: RuntimeWarning: invalid value encountered in sqrt\n",
      "  np.sqrt(norm, out=norm)\n"
     ]
    },
    {
     "name": "stdout",
     "output_type": "stream",
     "text": [
      "1 detections found.\n",
      "Processing A02, 2020-01-10-16-00-00...\n"
     ]
    },
    {
     "name": "stderr",
     "output_type": "stream",
     "text": [
      "/opt/homebrew/Caskroom/miniforge/base/envs/obspy/lib/python3.11/site-packages/obspy/signal/cross_correlation.py:291: RuntimeWarning: invalid value encountered in sqrt\n",
      "  np.sqrt(norm, out=norm)\n"
     ]
    },
    {
     "name": "stdout",
     "output_type": "stream",
     "text": [
      "No detections found.\n",
      "Processing A02, 2020-01-10-17-00-00...\n",
      "1 detections found.\n",
      "Processing A02, 2020-01-10-18-00-00...\n"
     ]
    },
    {
     "name": "stderr",
     "output_type": "stream",
     "text": [
      "/opt/homebrew/Caskroom/miniforge/base/envs/obspy/lib/python3.11/site-packages/obspy/signal/cross_correlation.py:291: RuntimeWarning: invalid value encountered in sqrt\n",
      "  np.sqrt(norm, out=norm)\n"
     ]
    },
    {
     "name": "stdout",
     "output_type": "stream",
     "text": [
      "No detections found.\n",
      "Processing A02, 2020-01-10-19-00-00...\n",
      "2 detections found.\n",
      "Processing A02, 2020-01-10-20-00-00...\n"
     ]
    },
    {
     "name": "stderr",
     "output_type": "stream",
     "text": [
      "/opt/homebrew/Caskroom/miniforge/base/envs/obspy/lib/python3.11/site-packages/obspy/signal/cross_correlation.py:291: RuntimeWarning: invalid value encountered in sqrt\n",
      "  np.sqrt(norm, out=norm)\n"
     ]
    },
    {
     "name": "stdout",
     "output_type": "stream",
     "text": [
      "1 detections found.\n",
      "Processing A02, 2020-01-10-21-00-00...\n"
     ]
    },
    {
     "name": "stderr",
     "output_type": "stream",
     "text": [
      "/opt/homebrew/Caskroom/miniforge/base/envs/obspy/lib/python3.11/site-packages/obspy/signal/cross_correlation.py:291: RuntimeWarning: invalid value encountered in sqrt\n",
      "  np.sqrt(norm, out=norm)\n"
     ]
    },
    {
     "name": "stdout",
     "output_type": "stream",
     "text": [
      "2 detections found.\n",
      "Processing A02, 2020-01-10-22-00-00...\n"
     ]
    },
    {
     "name": "stderr",
     "output_type": "stream",
     "text": [
      "/opt/homebrew/Caskroom/miniforge/base/envs/obspy/lib/python3.11/site-packages/obspy/signal/cross_correlation.py:291: RuntimeWarning: invalid value encountered in sqrt\n",
      "  np.sqrt(norm, out=norm)\n"
     ]
    },
    {
     "name": "stdout",
     "output_type": "stream",
     "text": [
      "No detections found.\n",
      "Processing A02, 2020-01-10-23-00-00...\n",
      "3 detections found.\n",
      "Processing A02, 2020-01-11-00-00-00...\n"
     ]
    },
    {
     "name": "stderr",
     "output_type": "stream",
     "text": [
      "/opt/homebrew/Caskroom/miniforge/base/envs/obspy/lib/python3.11/site-packages/obspy/signal/cross_correlation.py:291: RuntimeWarning: invalid value encountered in sqrt\n",
      "  np.sqrt(norm, out=norm)\n"
     ]
    },
    {
     "name": "stdout",
     "output_type": "stream",
     "text": [
      "No detections found.\n",
      "Processing A02, 2020-01-11-01-00-00...\n",
      "1 detections found.\n",
      "Processing A02, 2020-01-11-02-00-00...\n"
     ]
    },
    {
     "name": "stderr",
     "output_type": "stream",
     "text": [
      "/opt/homebrew/Caskroom/miniforge/base/envs/obspy/lib/python3.11/site-packages/obspy/signal/cross_correlation.py:291: RuntimeWarning: invalid value encountered in sqrt\n",
      "  np.sqrt(norm, out=norm)\n"
     ]
    },
    {
     "name": "stdout",
     "output_type": "stream",
     "text": [
      "3 detections found.\n",
      "Processing A02, 2020-01-11-03-00-00...\n"
     ]
    },
    {
     "name": "stderr",
     "output_type": "stream",
     "text": [
      "/opt/homebrew/Caskroom/miniforge/base/envs/obspy/lib/python3.11/site-packages/obspy/signal/cross_correlation.py:291: RuntimeWarning: invalid value encountered in sqrt\n",
      "  np.sqrt(norm, out=norm)\n"
     ]
    },
    {
     "name": "stdout",
     "output_type": "stream",
     "text": [
      "No detections found.\n",
      "Processing A02, 2020-01-11-04-00-00...\n",
      "1 detections found.\n",
      "Processing A02, 2020-01-11-05-00-00...\n"
     ]
    },
    {
     "name": "stderr",
     "output_type": "stream",
     "text": [
      "/opt/homebrew/Caskroom/miniforge/base/envs/obspy/lib/python3.11/site-packages/obspy/signal/cross_correlation.py:291: RuntimeWarning: invalid value encountered in sqrt\n",
      "  np.sqrt(norm, out=norm)\n"
     ]
    },
    {
     "name": "stdout",
     "output_type": "stream",
     "text": [
      "No detections found.\n",
      "Processing A02, 2020-01-11-06-00-00...\n",
      "1 detections found.\n",
      "Processing A02, 2020-01-11-07-00-00...\n"
     ]
    },
    {
     "name": "stderr",
     "output_type": "stream",
     "text": [
      "/opt/homebrew/Caskroom/miniforge/base/envs/obspy/lib/python3.11/site-packages/obspy/signal/cross_correlation.py:291: RuntimeWarning: invalid value encountered in sqrt\n",
      "  np.sqrt(norm, out=norm)\n"
     ]
    },
    {
     "name": "stdout",
     "output_type": "stream",
     "text": [
      "No detections found.\n",
      "Processing A02, 2020-01-11-08-00-00...\n",
      "5 detections found.\n",
      "Processing A02, 2020-01-11-09-00-00...\n"
     ]
    },
    {
     "name": "stderr",
     "output_type": "stream",
     "text": [
      "/opt/homebrew/Caskroom/miniforge/base/envs/obspy/lib/python3.11/site-packages/obspy/signal/cross_correlation.py:291: RuntimeWarning: invalid value encountered in sqrt\n",
      "  np.sqrt(norm, out=norm)\n"
     ]
    },
    {
     "name": "stdout",
     "output_type": "stream",
     "text": [
      "No detections found.\n",
      "Processing A02, 2020-01-11-10-00-00...\n",
      "1 detections found.\n",
      "Processing A02, 2020-01-11-11-00-00...\n"
     ]
    },
    {
     "name": "stderr",
     "output_type": "stream",
     "text": [
      "/opt/homebrew/Caskroom/miniforge/base/envs/obspy/lib/python3.11/site-packages/obspy/signal/cross_correlation.py:291: RuntimeWarning: invalid value encountered in sqrt\n",
      "  np.sqrt(norm, out=norm)\n"
     ]
    },
    {
     "name": "stdout",
     "output_type": "stream",
     "text": [
      "No detections found.\n",
      "Processing A02, 2020-01-11-12-00-00...\n",
      "No detections found.\n",
      "Processing A02, 2020-01-11-13-00-00...\n",
      "No detections found.\n",
      "Processing A02, 2020-01-11-14-00-00...\n",
      "No detections found.\n",
      "Processing A02, 2020-01-11-15-00-00...\n",
      "No detections found.\n",
      "Processing A02, 2020-01-11-16-00-00...\n",
      "No detections found.\n",
      "Processing A02, 2020-01-11-17-00-00...\n",
      "2 detections found.\n",
      "Processing A02, 2020-01-11-18-00-00...\n",
      "1 detections found.\n",
      "Processing A02, 2020-01-11-19-00-00...\n"
     ]
    },
    {
     "name": "stderr",
     "output_type": "stream",
     "text": [
      "/opt/homebrew/Caskroom/miniforge/base/envs/obspy/lib/python3.11/site-packages/obspy/signal/cross_correlation.py:291: RuntimeWarning: invalid value encountered in sqrt\n",
      "  np.sqrt(norm, out=norm)\n"
     ]
    },
    {
     "name": "stdout",
     "output_type": "stream",
     "text": [
      "No detections found.\n",
      "Processing A02, 2020-01-11-20-00-00...\n",
      "1 detections found.\n",
      "Processing A02, 2020-01-11-21-00-00...\n",
      "3 detections found.\n",
      "Processing A02, 2020-01-11-22-00-00...\n"
     ]
    },
    {
     "name": "stderr",
     "output_type": "stream",
     "text": [
      "/opt/homebrew/Caskroom/miniforge/base/envs/obspy/lib/python3.11/site-packages/obspy/signal/cross_correlation.py:291: RuntimeWarning: invalid value encountered in sqrt\n",
      "  np.sqrt(norm, out=norm)\n"
     ]
    },
    {
     "name": "stdout",
     "output_type": "stream",
     "text": [
      "No detections found.\n",
      "Processing A02, 2020-01-11-23-00-00...\n",
      "2 detections found.\n",
      "Processing A02, 2020-01-12-00-00-00...\n"
     ]
    },
    {
     "name": "stderr",
     "output_type": "stream",
     "text": [
      "/opt/homebrew/Caskroom/miniforge/base/envs/obspy/lib/python3.11/site-packages/obspy/signal/cross_correlation.py:291: RuntimeWarning: invalid value encountered in sqrt\n",
      "  np.sqrt(norm, out=norm)\n"
     ]
    },
    {
     "name": "stdout",
     "output_type": "stream",
     "text": [
      "1 detections found.\n",
      "Processing A02, 2020-01-12-01-00-00...\n"
     ]
    },
    {
     "name": "stderr",
     "output_type": "stream",
     "text": [
      "/opt/homebrew/Caskroom/miniforge/base/envs/obspy/lib/python3.11/site-packages/obspy/signal/cross_correlation.py:291: RuntimeWarning: invalid value encountered in sqrt\n",
      "  np.sqrt(norm, out=norm)\n"
     ]
    },
    {
     "name": "stdout",
     "output_type": "stream",
     "text": [
      "No detections found.\n",
      "Processing A02, 2020-01-12-02-00-00...\n",
      "No detections found.\n",
      "Processing A02, 2020-01-12-03-00-00...\n",
      "No detections found.\n",
      "Processing A02, 2020-01-12-04-00-00...\n",
      "No detections found.\n",
      "Processing A02, 2020-01-12-05-00-00...\n",
      "2 detections found.\n",
      "Processing A02, 2020-01-12-06-00-00...\n"
     ]
    },
    {
     "name": "stderr",
     "output_type": "stream",
     "text": [
      "/opt/homebrew/Caskroom/miniforge/base/envs/obspy/lib/python3.11/site-packages/obspy/signal/cross_correlation.py:291: RuntimeWarning: invalid value encountered in sqrt\n",
      "  np.sqrt(norm, out=norm)\n"
     ]
    },
    {
     "name": "stdout",
     "output_type": "stream",
     "text": [
      "2 detections found.\n",
      "Processing A02, 2020-01-12-07-00-00...\n"
     ]
    },
    {
     "name": "stderr",
     "output_type": "stream",
     "text": [
      "/opt/homebrew/Caskroom/miniforge/base/envs/obspy/lib/python3.11/site-packages/obspy/signal/cross_correlation.py:291: RuntimeWarning: invalid value encountered in sqrt\n",
      "  np.sqrt(norm, out=norm)\n"
     ]
    },
    {
     "name": "stdout",
     "output_type": "stream",
     "text": [
      "1 detections found.\n",
      "Processing A02, 2020-01-12-08-00-00...\n"
     ]
    },
    {
     "name": "stderr",
     "output_type": "stream",
     "text": [
      "/opt/homebrew/Caskroom/miniforge/base/envs/obspy/lib/python3.11/site-packages/obspy/signal/cross_correlation.py:291: RuntimeWarning: invalid value encountered in sqrt\n",
      "  np.sqrt(norm, out=norm)\n"
     ]
    },
    {
     "name": "stdout",
     "output_type": "stream",
     "text": [
      "827 detections found.\n",
      "Processing A02, 2020-01-12-09-00-00...\n"
     ]
    },
    {
     "name": "stderr",
     "output_type": "stream",
     "text": [
      "/opt/homebrew/Caskroom/miniforge/base/envs/obspy/lib/python3.11/site-packages/obspy/signal/cross_correlation.py:291: RuntimeWarning: invalid value encountered in sqrt\n",
      "  np.sqrt(norm, out=norm)\n"
     ]
    },
    {
     "name": "stdout",
     "output_type": "stream",
     "text": [
      "742 detections found.\n",
      "Processing A02, 2020-01-12-10-00-00...\n"
     ]
    },
    {
     "name": "stderr",
     "output_type": "stream",
     "text": [
      "/opt/homebrew/Caskroom/miniforge/base/envs/obspy/lib/python3.11/site-packages/obspy/signal/cross_correlation.py:291: RuntimeWarning: invalid value encountered in sqrt\n",
      "  np.sqrt(norm, out=norm)\n"
     ]
    },
    {
     "name": "stdout",
     "output_type": "stream",
     "text": [
      "842 detections found.\n",
      "Processing A02, 2020-01-12-11-00-00...\n"
     ]
    },
    {
     "name": "stderr",
     "output_type": "stream",
     "text": [
      "/opt/homebrew/Caskroom/miniforge/base/envs/obspy/lib/python3.11/site-packages/obspy/signal/cross_correlation.py:291: RuntimeWarning: invalid value encountered in sqrt\n",
      "  np.sqrt(norm, out=norm)\n"
     ]
    },
    {
     "name": "stdout",
     "output_type": "stream",
     "text": [
      "941 detections found.\n",
      "Processing A02, 2020-01-12-12-00-00...\n"
     ]
    },
    {
     "name": "stderr",
     "output_type": "stream",
     "text": [
      "/opt/homebrew/Caskroom/miniforge/base/envs/obspy/lib/python3.11/site-packages/obspy/signal/cross_correlation.py:291: RuntimeWarning: invalid value encountered in sqrt\n",
      "  np.sqrt(norm, out=norm)\n"
     ]
    },
    {
     "name": "stdout",
     "output_type": "stream",
     "text": [
      "958 detections found.\n",
      "Processing A02, 2020-01-12-13-00-00...\n"
     ]
    },
    {
     "name": "stderr",
     "output_type": "stream",
     "text": [
      "/opt/homebrew/Caskroom/miniforge/base/envs/obspy/lib/python3.11/site-packages/obspy/signal/cross_correlation.py:291: RuntimeWarning: invalid value encountered in sqrt\n",
      "  np.sqrt(norm, out=norm)\n"
     ]
    },
    {
     "name": "stdout",
     "output_type": "stream",
     "text": [
      "1262 detections found.\n",
      "Processing A02, 2020-01-12-14-00-00...\n"
     ]
    },
    {
     "name": "stderr",
     "output_type": "stream",
     "text": [
      "/opt/homebrew/Caskroom/miniforge/base/envs/obspy/lib/python3.11/site-packages/obspy/signal/cross_correlation.py:291: RuntimeWarning: invalid value encountered in sqrt\n",
      "  np.sqrt(norm, out=norm)\n"
     ]
    },
    {
     "name": "stdout",
     "output_type": "stream",
     "text": [
      "1351 detections found.\n",
      "Processing A02, 2020-01-12-15-00-00...\n"
     ]
    },
    {
     "name": "stderr",
     "output_type": "stream",
     "text": [
      "/opt/homebrew/Caskroom/miniforge/base/envs/obspy/lib/python3.11/site-packages/obspy/signal/cross_correlation.py:291: RuntimeWarning: invalid value encountered in sqrt\n",
      "  np.sqrt(norm, out=norm)\n"
     ]
    },
    {
     "name": "stdout",
     "output_type": "stream",
     "text": [
      "1438 detections found.\n",
      "Processing A02, 2020-01-12-16-00-00...\n"
     ]
    },
    {
     "name": "stderr",
     "output_type": "stream",
     "text": [
      "/opt/homebrew/Caskroom/miniforge/base/envs/obspy/lib/python3.11/site-packages/obspy/signal/cross_correlation.py:291: RuntimeWarning: invalid value encountered in sqrt\n",
      "  np.sqrt(norm, out=norm)\n"
     ]
    },
    {
     "name": "stdout",
     "output_type": "stream",
     "text": [
      "1430 detections found.\n",
      "Processing A02, 2020-01-12-17-00-00...\n"
     ]
    },
    {
     "name": "stderr",
     "output_type": "stream",
     "text": [
      "/opt/homebrew/Caskroom/miniforge/base/envs/obspy/lib/python3.11/site-packages/obspy/signal/cross_correlation.py:291: RuntimeWarning: invalid value encountered in sqrt\n",
      "  np.sqrt(norm, out=norm)\n"
     ]
    },
    {
     "name": "stdout",
     "output_type": "stream",
     "text": [
      "1383 detections found.\n",
      "Processing A02, 2020-01-12-18-00-00...\n",
      "1467 detections found.\n",
      "Processing A02, 2020-01-12-19-00-00...\n"
     ]
    },
    {
     "name": "stderr",
     "output_type": "stream",
     "text": [
      "/opt/homebrew/Caskroom/miniforge/base/envs/obspy/lib/python3.11/site-packages/obspy/signal/cross_correlation.py:291: RuntimeWarning: invalid value encountered in sqrt\n",
      "  np.sqrt(norm, out=norm)\n"
     ]
    },
    {
     "name": "stdout",
     "output_type": "stream",
     "text": [
      "1417 detections found.\n",
      "Processing A02, 2020-01-12-20-00-00...\n"
     ]
    },
    {
     "name": "stderr",
     "output_type": "stream",
     "text": [
      "/opt/homebrew/Caskroom/miniforge/base/envs/obspy/lib/python3.11/site-packages/obspy/signal/cross_correlation.py:291: RuntimeWarning: invalid value encountered in sqrt\n",
      "  np.sqrt(norm, out=norm)\n"
     ]
    },
    {
     "name": "stdout",
     "output_type": "stream",
     "text": [
      "725 detections found.\n",
      "Processing A02, 2020-01-12-21-00-00...\n"
     ]
    },
    {
     "name": "stderr",
     "output_type": "stream",
     "text": [
      "/opt/homebrew/Caskroom/miniforge/base/envs/obspy/lib/python3.11/site-packages/obspy/signal/cross_correlation.py:291: RuntimeWarning: invalid value encountered in sqrt\n",
      "  np.sqrt(norm, out=norm)\n"
     ]
    },
    {
     "name": "stdout",
     "output_type": "stream",
     "text": [
      "11 detections found.\n",
      "Processing A02, 2020-01-12-22-00-00...\n"
     ]
    },
    {
     "name": "stderr",
     "output_type": "stream",
     "text": [
      "/opt/homebrew/Caskroom/miniforge/base/envs/obspy/lib/python3.11/site-packages/obspy/signal/cross_correlation.py:291: RuntimeWarning: invalid value encountered in sqrt\n",
      "  np.sqrt(norm, out=norm)\n"
     ]
    },
    {
     "name": "stdout",
     "output_type": "stream",
     "text": [
      "24 detections found.\n",
      "Processing A02, 2020-01-12-23-00-00...\n",
      "No detections found.\n",
      "Processing A02, 2020-01-13-00-00-00...\n",
      "10 detections found.\n",
      "Processing A02, 2020-01-13-01-00-00...\n"
     ]
    },
    {
     "name": "stderr",
     "output_type": "stream",
     "text": [
      "/opt/homebrew/Caskroom/miniforge/base/envs/obspy/lib/python3.11/site-packages/obspy/signal/cross_correlation.py:291: RuntimeWarning: invalid value encountered in sqrt\n",
      "  np.sqrt(norm, out=norm)\n"
     ]
    },
    {
     "name": "stdout",
     "output_type": "stream",
     "text": [
      "1 detections found.\n",
      "Processing A02, 2020-01-13-02-00-00...\n"
     ]
    },
    {
     "name": "stderr",
     "output_type": "stream",
     "text": [
      "/opt/homebrew/Caskroom/miniforge/base/envs/obspy/lib/python3.11/site-packages/obspy/signal/cross_correlation.py:291: RuntimeWarning: invalid value encountered in sqrt\n",
      "  np.sqrt(norm, out=norm)\n"
     ]
    },
    {
     "name": "stdout",
     "output_type": "stream",
     "text": [
      "4 detections found.\n",
      "Processing A02, 2020-01-13-03-00-00...\n",
      "No detections found.\n",
      "Processing A02, 2020-01-13-04-00-00...\n",
      "No detections found.\n",
      "Processing A02, 2020-01-13-05-00-00...\n"
     ]
    },
    {
     "name": "stderr",
     "output_type": "stream",
     "text": [
      "/opt/homebrew/Caskroom/miniforge/base/envs/obspy/lib/python3.11/site-packages/obspy/signal/cross_correlation.py:291: RuntimeWarning: invalid value encountered in sqrt\n",
      "  np.sqrt(norm, out=norm)\n"
     ]
    },
    {
     "name": "stdout",
     "output_type": "stream",
     "text": [
      "1 detections found.\n",
      "Processing A02, 2020-01-13-06-00-00...\n"
     ]
    },
    {
     "name": "stderr",
     "output_type": "stream",
     "text": [
      "/opt/homebrew/Caskroom/miniforge/base/envs/obspy/lib/python3.11/site-packages/obspy/signal/cross_correlation.py:291: RuntimeWarning: invalid value encountered in sqrt\n",
      "  np.sqrt(norm, out=norm)\n"
     ]
    },
    {
     "name": "stdout",
     "output_type": "stream",
     "text": [
      "No detections found.\n",
      "Processing A02, 2020-01-13-07-00-00...\n",
      "297 detections found.\n",
      "Processing A02, 2020-01-13-08-00-00...\n",
      "454 detections found.\n",
      "Processing A02, 2020-01-13-09-00-00...\n"
     ]
    },
    {
     "name": "stderr",
     "output_type": "stream",
     "text": [
      "/opt/homebrew/Caskroom/miniforge/base/envs/obspy/lib/python3.11/site-packages/obspy/signal/cross_correlation.py:291: RuntimeWarning: invalid value encountered in sqrt\n",
      "  np.sqrt(norm, out=norm)\n"
     ]
    },
    {
     "name": "stdout",
     "output_type": "stream",
     "text": [
      "365 detections found.\n",
      "Processing A02, 2020-01-13-10-00-00...\n"
     ]
    },
    {
     "name": "stderr",
     "output_type": "stream",
     "text": [
      "/opt/homebrew/Caskroom/miniforge/base/envs/obspy/lib/python3.11/site-packages/obspy/signal/cross_correlation.py:291: RuntimeWarning: invalid value encountered in sqrt\n",
      "  np.sqrt(norm, out=norm)\n"
     ]
    },
    {
     "name": "stdout",
     "output_type": "stream",
     "text": [
      "151 detections found.\n",
      "Processing A02, 2020-01-13-11-00-00...\n"
     ]
    },
    {
     "name": "stderr",
     "output_type": "stream",
     "text": [
      "/opt/homebrew/Caskroom/miniforge/base/envs/obspy/lib/python3.11/site-packages/obspy/signal/cross_correlation.py:291: RuntimeWarning: invalid value encountered in sqrt\n",
      "  np.sqrt(norm, out=norm)\n"
     ]
    },
    {
     "name": "stdout",
     "output_type": "stream",
     "text": [
      "94 detections found.\n",
      "Processing A02, 2020-01-13-12-00-00...\n",
      "150 detections found.\n",
      "Processing A02, 2020-01-13-13-00-00...\n"
     ]
    },
    {
     "name": "stderr",
     "output_type": "stream",
     "text": [
      "/opt/homebrew/Caskroom/miniforge/base/envs/obspy/lib/python3.11/site-packages/obspy/signal/cross_correlation.py:291: RuntimeWarning: invalid value encountered in sqrt\n",
      "  np.sqrt(norm, out=norm)\n"
     ]
    },
    {
     "name": "stdout",
     "output_type": "stream",
     "text": [
      "110 detections found.\n",
      "Processing A02, 2020-01-13-14-00-00...\n",
      "9 detections found.\n",
      "Processing A02, 2020-01-13-15-00-00...\n",
      "4 detections found.\n",
      "Processing A02, 2020-01-13-16-00-00...\n"
     ]
    },
    {
     "name": "stderr",
     "output_type": "stream",
     "text": [
      "/opt/homebrew/Caskroom/miniforge/base/envs/obspy/lib/python3.11/site-packages/obspy/signal/cross_correlation.py:291: RuntimeWarning: invalid value encountered in sqrt\n",
      "  np.sqrt(norm, out=norm)\n"
     ]
    },
    {
     "name": "stdout",
     "output_type": "stream",
     "text": [
      "No detections found.\n",
      "Processing A02, 2020-01-13-17-00-00...\n",
      "No detections found.\n",
      "Processing A02, 2020-01-13-18-00-00...\n",
      "No detections found.\n",
      "Processing A02, 2020-01-13-19-00-00...\n",
      "No detections found.\n",
      "Processing A02, 2020-01-13-20-00-00...\n",
      "No detections found.\n",
      "Processing A02, 2020-01-13-21-00-00...\n",
      "2 detections found.\n",
      "Processing A02, 2020-01-13-22-00-00...\n",
      "No detections found.\n",
      "Processing A02, 2020-01-13-23-00-00...\n",
      "1 detections found.\n",
      "Processing A02, 2020-01-14-00-00-00...\n"
     ]
    },
    {
     "name": "stderr",
     "output_type": "stream",
     "text": [
      "/opt/homebrew/Caskroom/miniforge/base/envs/obspy/lib/python3.11/site-packages/obspy/signal/cross_correlation.py:291: RuntimeWarning: invalid value encountered in sqrt\n",
      "  np.sqrt(norm, out=norm)\n"
     ]
    },
    {
     "name": "stdout",
     "output_type": "stream",
     "text": [
      "No detections found.\n",
      "Processing A02, 2020-01-14-01-00-00...\n",
      "No detections found.\n",
      "Processing A02, 2020-01-14-02-00-00...\n",
      "No detections found.\n",
      "Processing A02, 2020-01-14-03-00-00...\n",
      "No detections found.\n",
      "Processing A02, 2020-01-14-04-00-00...\n",
      "2 detections found.\n",
      "Processing A02, 2020-01-14-05-00-00...\n",
      "No detections found.\n",
      "Processing A02, 2020-01-14-06-00-00...\n",
      "No detections found.\n",
      "Processing A02, 2020-01-14-07-00-00...\n"
     ]
    },
    {
     "name": "stderr",
     "output_type": "stream",
     "text": [
      "/opt/homebrew/Caskroom/miniforge/base/envs/obspy/lib/python3.11/site-packages/obspy/signal/cross_correlation.py:291: RuntimeWarning: invalid value encountered in sqrt\n",
      "  np.sqrt(norm, out=norm)\n"
     ]
    },
    {
     "name": "stdout",
     "output_type": "stream",
     "text": [
      "25 detections found.\n",
      "Processing A02, 2020-01-14-08-00-00...\n",
      "No detections found.\n",
      "Processing A02, 2020-01-14-09-00-00...\n"
     ]
    },
    {
     "name": "stderr",
     "output_type": "stream",
     "text": [
      "/opt/homebrew/Caskroom/miniforge/base/envs/obspy/lib/python3.11/site-packages/obspy/signal/cross_correlation.py:291: RuntimeWarning: invalid value encountered in sqrt\n",
      "  np.sqrt(norm, out=norm)\n"
     ]
    },
    {
     "name": "stdout",
     "output_type": "stream",
     "text": [
      "8 detections found.\n",
      "Processing A02, 2020-01-14-10-00-00...\n"
     ]
    },
    {
     "name": "stderr",
     "output_type": "stream",
     "text": [
      "/opt/homebrew/Caskroom/miniforge/base/envs/obspy/lib/python3.11/site-packages/obspy/signal/cross_correlation.py:291: RuntimeWarning: invalid value encountered in sqrt\n",
      "  np.sqrt(norm, out=norm)\n"
     ]
    },
    {
     "name": "stdout",
     "output_type": "stream",
     "text": [
      "No detections found.\n",
      "Processing A02, 2020-01-14-11-00-00...\n",
      "No detections found.\n",
      "Processing A02, 2020-01-14-12-00-00...\n",
      "1 detections found.\n",
      "Processing A02, 2020-01-14-13-00-00...\n",
      "1 detections found.\n",
      "Processing A02, 2020-01-14-14-00-00...\n",
      "No detections found.\n",
      "Processing A02, 2020-01-14-15-00-00...\n"
     ]
    },
    {
     "name": "stderr",
     "output_type": "stream",
     "text": [
      "/opt/homebrew/Caskroom/miniforge/base/envs/obspy/lib/python3.11/site-packages/obspy/signal/cross_correlation.py:291: RuntimeWarning: invalid value encountered in sqrt\n",
      "  np.sqrt(norm, out=norm)\n"
     ]
    },
    {
     "name": "stdout",
     "output_type": "stream",
     "text": [
      "1 detections found.\n",
      "Processing A02, 2020-01-14-16-00-00...\n"
     ]
    },
    {
     "name": "stderr",
     "output_type": "stream",
     "text": [
      "/opt/homebrew/Caskroom/miniforge/base/envs/obspy/lib/python3.11/site-packages/obspy/signal/cross_correlation.py:291: RuntimeWarning: invalid value encountered in sqrt\n",
      "  np.sqrt(norm, out=norm)\n"
     ]
    },
    {
     "name": "stdout",
     "output_type": "stream",
     "text": [
      "No detections found.\n",
      "Processing A02, 2020-01-14-17-00-00...\n",
      "7 detections found.\n",
      "Processing A02, 2020-01-14-18-00-00...\n"
     ]
    },
    {
     "name": "stderr",
     "output_type": "stream",
     "text": [
      "/opt/homebrew/Caskroom/miniforge/base/envs/obspy/lib/python3.11/site-packages/obspy/signal/cross_correlation.py:291: RuntimeWarning: invalid value encountered in sqrt\n",
      "  np.sqrt(norm, out=norm)\n"
     ]
    },
    {
     "name": "stdout",
     "output_type": "stream",
     "text": [
      "No detections found.\n",
      "Processing A02, 2020-01-14-19-00-00...\n",
      "No detections found.\n",
      "Processing A02, 2020-01-14-20-00-00...\n",
      "No detections found.\n",
      "Processing A02, 2020-01-14-21-00-00...\n",
      "1 detections found.\n",
      "Processing A02, 2020-01-14-22-00-00...\n",
      "No detections found.\n",
      "Processing A02, 2020-01-14-23-00-00...\n"
     ]
    },
    {
     "name": "stderr",
     "output_type": "stream",
     "text": [
      "/opt/homebrew/Caskroom/miniforge/base/envs/obspy/lib/python3.11/site-packages/obspy/signal/cross_correlation.py:291: RuntimeWarning: invalid value encountered in sqrt\n",
      "  np.sqrt(norm, out=norm)\n"
     ]
    },
    {
     "name": "stdout",
     "output_type": "stream",
     "text": [
      "No detections found.\n",
      "Processing A02, 2020-01-15-00-00-00...\n",
      "No detections found.\n",
      "Processing A02, 2020-01-15-01-00-00...\n",
      "1 detections found.\n",
      "Processing A02, 2020-01-15-02-00-00...\n"
     ]
    },
    {
     "name": "stderr",
     "output_type": "stream",
     "text": [
      "/opt/homebrew/Caskroom/miniforge/base/envs/obspy/lib/python3.11/site-packages/obspy/signal/cross_correlation.py:291: RuntimeWarning: invalid value encountered in sqrt\n",
      "  np.sqrt(norm, out=norm)\n"
     ]
    },
    {
     "name": "stdout",
     "output_type": "stream",
     "text": [
      "10 detections found.\n",
      "Processing A02, 2020-01-15-03-00-00...\n"
     ]
    },
    {
     "name": "stderr",
     "output_type": "stream",
     "text": [
      "/opt/homebrew/Caskroom/miniforge/base/envs/obspy/lib/python3.11/site-packages/obspy/signal/cross_correlation.py:291: RuntimeWarning: invalid value encountered in sqrt\n",
      "  np.sqrt(norm, out=norm)\n"
     ]
    },
    {
     "name": "stdout",
     "output_type": "stream",
     "text": [
      "5 detections found.\n",
      "Processing A02, 2020-01-15-04-00-00...\n"
     ]
    },
    {
     "name": "stderr",
     "output_type": "stream",
     "text": [
      "/opt/homebrew/Caskroom/miniforge/base/envs/obspy/lib/python3.11/site-packages/obspy/signal/cross_correlation.py:291: RuntimeWarning: invalid value encountered in sqrt\n",
      "  np.sqrt(norm, out=norm)\n"
     ]
    },
    {
     "name": "stdout",
     "output_type": "stream",
     "text": [
      "125 detections found.\n",
      "Processing A02, 2020-01-15-05-00-00...\n"
     ]
    },
    {
     "name": "stderr",
     "output_type": "stream",
     "text": [
      "/opt/homebrew/Caskroom/miniforge/base/envs/obspy/lib/python3.11/site-packages/obspy/signal/cross_correlation.py:291: RuntimeWarning: invalid value encountered in sqrt\n",
      "  np.sqrt(norm, out=norm)\n"
     ]
    },
    {
     "name": "stdout",
     "output_type": "stream",
     "text": [
      "211 detections found.\n",
      "Processing A02, 2020-01-15-06-00-00...\n",
      "204 detections found.\n",
      "Processing A02, 2020-01-15-07-00-00...\n"
     ]
    },
    {
     "name": "stderr",
     "output_type": "stream",
     "text": [
      "/opt/homebrew/Caskroom/miniforge/base/envs/obspy/lib/python3.11/site-packages/obspy/signal/cross_correlation.py:291: RuntimeWarning: invalid value encountered in sqrt\n",
      "  np.sqrt(norm, out=norm)\n"
     ]
    },
    {
     "name": "stdout",
     "output_type": "stream",
     "text": [
      "235 detections found.\n",
      "Processing A02, 2020-01-15-08-00-00...\n",
      "1049 detections found.\n",
      "Processing A02, 2020-01-15-09-00-00...\n"
     ]
    },
    {
     "name": "stderr",
     "output_type": "stream",
     "text": [
      "/opt/homebrew/Caskroom/miniforge/base/envs/obspy/lib/python3.11/site-packages/obspy/signal/cross_correlation.py:291: RuntimeWarning: invalid value encountered in sqrt\n",
      "  np.sqrt(norm, out=norm)\n"
     ]
    },
    {
     "name": "stdout",
     "output_type": "stream",
     "text": [
      "670 detections found.\n",
      "Processing A02, 2020-01-15-10-00-00...\n"
     ]
    },
    {
     "name": "stderr",
     "output_type": "stream",
     "text": [
      "/opt/homebrew/Caskroom/miniforge/base/envs/obspy/lib/python3.11/site-packages/obspy/signal/cross_correlation.py:291: RuntimeWarning: invalid value encountered in sqrt\n",
      "  np.sqrt(norm, out=norm)\n"
     ]
    },
    {
     "name": "stdout",
     "output_type": "stream",
     "text": [
      "741 detections found.\n",
      "Processing A02, 2020-01-15-11-00-00...\n"
     ]
    },
    {
     "name": "stderr",
     "output_type": "stream",
     "text": [
      "/opt/homebrew/Caskroom/miniforge/base/envs/obspy/lib/python3.11/site-packages/obspy/signal/cross_correlation.py:291: RuntimeWarning: invalid value encountered in sqrt\n",
      "  np.sqrt(norm, out=norm)\n"
     ]
    },
    {
     "name": "stdout",
     "output_type": "stream",
     "text": [
      "316 detections found.\n",
      "Processing A02, 2020-01-15-12-00-00...\n"
     ]
    },
    {
     "name": "stderr",
     "output_type": "stream",
     "text": [
      "/opt/homebrew/Caskroom/miniforge/base/envs/obspy/lib/python3.11/site-packages/obspy/signal/cross_correlation.py:291: RuntimeWarning: invalid value encountered in sqrt\n",
      "  np.sqrt(norm, out=norm)\n"
     ]
    },
    {
     "name": "stdout",
     "output_type": "stream",
     "text": [
      "384 detections found.\n",
      "Processing A02, 2020-01-15-13-00-00...\n"
     ]
    },
    {
     "name": "stderr",
     "output_type": "stream",
     "text": [
      "/opt/homebrew/Caskroom/miniforge/base/envs/obspy/lib/python3.11/site-packages/obspy/signal/cross_correlation.py:291: RuntimeWarning: invalid value encountered in sqrt\n",
      "  np.sqrt(norm, out=norm)\n"
     ]
    },
    {
     "name": "stdout",
     "output_type": "stream",
     "text": [
      "282 detections found.\n",
      "Processing A02, 2020-01-15-14-00-00...\n"
     ]
    },
    {
     "name": "stderr",
     "output_type": "stream",
     "text": [
      "/opt/homebrew/Caskroom/miniforge/base/envs/obspy/lib/python3.11/site-packages/obspy/signal/cross_correlation.py:291: RuntimeWarning: invalid value encountered in sqrt\n",
      "  np.sqrt(norm, out=norm)\n"
     ]
    },
    {
     "name": "stdout",
     "output_type": "stream",
     "text": [
      "634 detections found.\n",
      "Processing A02, 2020-01-15-15-00-00...\n"
     ]
    },
    {
     "name": "stderr",
     "output_type": "stream",
     "text": [
      "/opt/homebrew/Caskroom/miniforge/base/envs/obspy/lib/python3.11/site-packages/obspy/signal/cross_correlation.py:291: RuntimeWarning: invalid value encountered in sqrt\n",
      "  np.sqrt(norm, out=norm)\n"
     ]
    },
    {
     "name": "stdout",
     "output_type": "stream",
     "text": [
      "284 detections found.\n",
      "Processing A02, 2020-01-15-16-00-00...\n"
     ]
    },
    {
     "name": "stderr",
     "output_type": "stream",
     "text": [
      "/opt/homebrew/Caskroom/miniforge/base/envs/obspy/lib/python3.11/site-packages/obspy/signal/cross_correlation.py:291: RuntimeWarning: invalid value encountered in sqrt\n",
      "  np.sqrt(norm, out=norm)\n"
     ]
    },
    {
     "name": "stdout",
     "output_type": "stream",
     "text": [
      "233 detections found.\n",
      "Processing A02, 2020-01-15-17-00-00...\n"
     ]
    },
    {
     "name": "stderr",
     "output_type": "stream",
     "text": [
      "/opt/homebrew/Caskroom/miniforge/base/envs/obspy/lib/python3.11/site-packages/obspy/signal/cross_correlation.py:291: RuntimeWarning: invalid value encountered in sqrt\n",
      "  np.sqrt(norm, out=norm)\n"
     ]
    },
    {
     "name": "stdout",
     "output_type": "stream",
     "text": [
      "357 detections found.\n",
      "Processing A02, 2020-01-15-18-00-00...\n"
     ]
    },
    {
     "name": "stderr",
     "output_type": "stream",
     "text": [
      "/opt/homebrew/Caskroom/miniforge/base/envs/obspy/lib/python3.11/site-packages/obspy/signal/cross_correlation.py:291: RuntimeWarning: invalid value encountered in sqrt\n",
      "  np.sqrt(norm, out=norm)\n"
     ]
    },
    {
     "name": "stdout",
     "output_type": "stream",
     "text": [
      "123 detections found.\n",
      "Processing A02, 2020-01-15-19-00-00...\n"
     ]
    },
    {
     "name": "stderr",
     "output_type": "stream",
     "text": [
      "/opt/homebrew/Caskroom/miniforge/base/envs/obspy/lib/python3.11/site-packages/obspy/signal/cross_correlation.py:291: RuntimeWarning: invalid value encountered in sqrt\n",
      "  np.sqrt(norm, out=norm)\n"
     ]
    },
    {
     "name": "stdout",
     "output_type": "stream",
     "text": [
      "216 detections found.\n",
      "Processing A02, 2020-01-15-20-00-00...\n"
     ]
    },
    {
     "name": "stderr",
     "output_type": "stream",
     "text": [
      "/opt/homebrew/Caskroom/miniforge/base/envs/obspy/lib/python3.11/site-packages/obspy/signal/cross_correlation.py:291: RuntimeWarning: invalid value encountered in sqrt\n",
      "  np.sqrt(norm, out=norm)\n"
     ]
    },
    {
     "name": "stdout",
     "output_type": "stream",
     "text": [
      "168 detections found.\n",
      "Processing A02, 2020-01-15-21-00-00...\n",
      "22 detections found.\n",
      "Processing A02, 2020-01-15-22-00-00...\n"
     ]
    },
    {
     "name": "stderr",
     "output_type": "stream",
     "text": [
      "/opt/homebrew/Caskroom/miniforge/base/envs/obspy/lib/python3.11/site-packages/obspy/signal/cross_correlation.py:291: RuntimeWarning: invalid value encountered in sqrt\n",
      "  np.sqrt(norm, out=norm)\n"
     ]
    },
    {
     "name": "stdout",
     "output_type": "stream",
     "text": [
      "21 detections found.\n",
      "Processing A02, 2020-01-15-23-00-00...\n",
      "34 detections found.\n",
      "Processing A02, 2020-01-16-00-00-00...\n",
      "53 detections found.\n",
      "Processing A02, 2020-01-16-01-00-00...\n",
      "19 detections found.\n",
      "Processing A02, 2020-01-16-02-00-00...\n",
      "No detections found.\n",
      "Processing A02, 2020-01-16-03-00-00...\n"
     ]
    },
    {
     "name": "stderr",
     "output_type": "stream",
     "text": [
      "/opt/homebrew/Caskroom/miniforge/base/envs/obspy/lib/python3.11/site-packages/obspy/signal/cross_correlation.py:291: RuntimeWarning: invalid value encountered in sqrt\n",
      "  np.sqrt(norm, out=norm)\n"
     ]
    },
    {
     "name": "stdout",
     "output_type": "stream",
     "text": [
      "No detections found.\n",
      "Processing A02, 2020-01-16-04-00-00...\n",
      "29 detections found.\n",
      "Processing A02, 2020-01-16-05-00-00...\n"
     ]
    },
    {
     "name": "stderr",
     "output_type": "stream",
     "text": [
      "/opt/homebrew/Caskroom/miniforge/base/envs/obspy/lib/python3.11/site-packages/obspy/signal/cross_correlation.py:291: RuntimeWarning: invalid value encountered in sqrt\n",
      "  np.sqrt(norm, out=norm)\n"
     ]
    },
    {
     "name": "stdout",
     "output_type": "stream",
     "text": [
      "103 detections found.\n",
      "Processing A02, 2020-01-16-06-00-00...\n",
      "98 detections found.\n",
      "Processing A02, 2020-01-16-07-00-00...\n",
      "89 detections found.\n",
      "Processing A02, 2020-01-16-08-00-00...\n"
     ]
    },
    {
     "name": "stderr",
     "output_type": "stream",
     "text": [
      "/opt/homebrew/Caskroom/miniforge/base/envs/obspy/lib/python3.11/site-packages/obspy/signal/cross_correlation.py:291: RuntimeWarning: invalid value encountered in sqrt\n",
      "  np.sqrt(norm, out=norm)\n"
     ]
    },
    {
     "name": "stdout",
     "output_type": "stream",
     "text": [
      "13 detections found.\n",
      "Processing A02, 2020-01-16-09-00-00...\n",
      "11 detections found.\n",
      "Processing A02, 2020-01-16-10-00-00...\n"
     ]
    },
    {
     "name": "stderr",
     "output_type": "stream",
     "text": [
      "/opt/homebrew/Caskroom/miniforge/base/envs/obspy/lib/python3.11/site-packages/obspy/signal/cross_correlation.py:291: RuntimeWarning: invalid value encountered in sqrt\n",
      "  np.sqrt(norm, out=norm)\n"
     ]
    },
    {
     "name": "stdout",
     "output_type": "stream",
     "text": [
      "9 detections found.\n",
      "Processing A02, 2020-01-16-11-00-00...\n"
     ]
    },
    {
     "name": "stderr",
     "output_type": "stream",
     "text": [
      "/opt/homebrew/Caskroom/miniforge/base/envs/obspy/lib/python3.11/site-packages/obspy/signal/cross_correlation.py:291: RuntimeWarning: invalid value encountered in sqrt\n",
      "  np.sqrt(norm, out=norm)\n"
     ]
    },
    {
     "name": "stdout",
     "output_type": "stream",
     "text": [
      "10 detections found.\n",
      "Processing A02, 2020-01-16-12-00-00...\n",
      "15 detections found.\n",
      "Processing A02, 2020-01-16-13-00-00...\n",
      "2 detections found.\n",
      "Processing A02, 2020-01-16-14-00-00...\n"
     ]
    },
    {
     "name": "stderr",
     "output_type": "stream",
     "text": [
      "/opt/homebrew/Caskroom/miniforge/base/envs/obspy/lib/python3.11/site-packages/obspy/signal/cross_correlation.py:291: RuntimeWarning: invalid value encountered in sqrt\n",
      "  np.sqrt(norm, out=norm)\n"
     ]
    },
    {
     "name": "stdout",
     "output_type": "stream",
     "text": [
      "6 detections found.\n",
      "Processing A02, 2020-01-16-15-00-00...\n"
     ]
    },
    {
     "name": "stderr",
     "output_type": "stream",
     "text": [
      "/opt/homebrew/Caskroom/miniforge/base/envs/obspy/lib/python3.11/site-packages/obspy/signal/cross_correlation.py:291: RuntimeWarning: invalid value encountered in sqrt\n",
      "  np.sqrt(norm, out=norm)\n"
     ]
    },
    {
     "name": "stdout",
     "output_type": "stream",
     "text": [
      "45 detections found.\n",
      "Processing A02, 2020-01-16-16-00-00...\n"
     ]
    },
    {
     "name": "stderr",
     "output_type": "stream",
     "text": [
      "/opt/homebrew/Caskroom/miniforge/base/envs/obspy/lib/python3.11/site-packages/obspy/signal/cross_correlation.py:291: RuntimeWarning: invalid value encountered in sqrt\n",
      "  np.sqrt(norm, out=norm)\n"
     ]
    },
    {
     "name": "stdout",
     "output_type": "stream",
     "text": [
      "80 detections found.\n",
      "Processing A02, 2020-01-16-17-00-00...\n"
     ]
    },
    {
     "name": "stderr",
     "output_type": "stream",
     "text": [
      "/opt/homebrew/Caskroom/miniforge/base/envs/obspy/lib/python3.11/site-packages/obspy/signal/cross_correlation.py:291: RuntimeWarning: invalid value encountered in sqrt\n",
      "  np.sqrt(norm, out=norm)\n"
     ]
    },
    {
     "name": "stdout",
     "output_type": "stream",
     "text": [
      "57 detections found.\n",
      "Processing A02, 2020-01-16-18-00-00...\n",
      "34 detections found.\n",
      "Processing A02, 2020-01-16-19-00-00...\n"
     ]
    },
    {
     "name": "stderr",
     "output_type": "stream",
     "text": [
      "/opt/homebrew/Caskroom/miniforge/base/envs/obspy/lib/python3.11/site-packages/obspy/signal/cross_correlation.py:291: RuntimeWarning: invalid value encountered in sqrt\n",
      "  np.sqrt(norm, out=norm)\n"
     ]
    },
    {
     "name": "stdout",
     "output_type": "stream",
     "text": [
      "7 detections found.\n",
      "Processing A02, 2020-01-16-20-00-00...\n",
      "76 detections found.\n",
      "Processing A02, 2020-01-16-21-00-00...\n"
     ]
    },
    {
     "name": "stderr",
     "output_type": "stream",
     "text": [
      "/opt/homebrew/Caskroom/miniforge/base/envs/obspy/lib/python3.11/site-packages/obspy/signal/cross_correlation.py:291: RuntimeWarning: invalid value encountered in sqrt\n",
      "  np.sqrt(norm, out=norm)\n"
     ]
    },
    {
     "name": "stdout",
     "output_type": "stream",
     "text": [
      "144 detections found.\n",
      "Processing A02, 2020-01-16-22-00-00...\n",
      "43 detections found.\n",
      "Processing A02, 2020-01-16-23-00-00...\n"
     ]
    },
    {
     "name": "stderr",
     "output_type": "stream",
     "text": [
      "/opt/homebrew/Caskroom/miniforge/base/envs/obspy/lib/python3.11/site-packages/obspy/signal/cross_correlation.py:291: RuntimeWarning: invalid value encountered in sqrt\n",
      "  np.sqrt(norm, out=norm)\n"
     ]
    },
    {
     "name": "stdout",
     "output_type": "stream",
     "text": [
      "20 detections found.\n",
      "Processing A02, 2020-01-17-00-00-00...\n"
     ]
    },
    {
     "name": "stderr",
     "output_type": "stream",
     "text": [
      "/opt/homebrew/Caskroom/miniforge/base/envs/obspy/lib/python3.11/site-packages/obspy/signal/cross_correlation.py:291: RuntimeWarning: invalid value encountered in sqrt\n",
      "  np.sqrt(norm, out=norm)\n"
     ]
    },
    {
     "name": "stdout",
     "output_type": "stream",
     "text": [
      "2 detections found.\n",
      "Processing A02, 2020-01-17-01-00-00...\n"
     ]
    },
    {
     "name": "stderr",
     "output_type": "stream",
     "text": [
      "/opt/homebrew/Caskroom/miniforge/base/envs/obspy/lib/python3.11/site-packages/obspy/signal/cross_correlation.py:291: RuntimeWarning: invalid value encountered in sqrt\n",
      "  np.sqrt(norm, out=norm)\n"
     ]
    },
    {
     "name": "stdout",
     "output_type": "stream",
     "text": [
      "99 detections found.\n",
      "Processing A02, 2020-01-17-02-00-00...\n"
     ]
    },
    {
     "name": "stderr",
     "output_type": "stream",
     "text": [
      "/opt/homebrew/Caskroom/miniforge/base/envs/obspy/lib/python3.11/site-packages/obspy/signal/cross_correlation.py:291: RuntimeWarning: invalid value encountered in sqrt\n",
      "  np.sqrt(norm, out=norm)\n"
     ]
    },
    {
     "name": "stdout",
     "output_type": "stream",
     "text": [
      "No detections found.\n",
      "Processing A02, 2020-01-17-03-00-00...\n",
      "9 detections found.\n",
      "Processing A02, 2020-01-17-04-00-00...\n",
      "No detections found.\n",
      "Processing A02, 2020-01-17-05-00-00...\n"
     ]
    },
    {
     "name": "stderr",
     "output_type": "stream",
     "text": [
      "/opt/homebrew/Caskroom/miniforge/base/envs/obspy/lib/python3.11/site-packages/obspy/signal/cross_correlation.py:291: RuntimeWarning: invalid value encountered in sqrt\n",
      "  np.sqrt(norm, out=norm)\n"
     ]
    },
    {
     "name": "stdout",
     "output_type": "stream",
     "text": [
      "2 detections found.\n",
      "Processing A02, 2020-01-17-06-00-00...\n",
      "9 detections found.\n",
      "Processing A02, 2020-01-17-07-00-00...\n"
     ]
    },
    {
     "name": "stderr",
     "output_type": "stream",
     "text": [
      "/opt/homebrew/Caskroom/miniforge/base/envs/obspy/lib/python3.11/site-packages/obspy/signal/cross_correlation.py:291: RuntimeWarning: invalid value encountered in sqrt\n",
      "  np.sqrt(norm, out=norm)\n"
     ]
    },
    {
     "name": "stdout",
     "output_type": "stream",
     "text": [
      "12 detections found.\n",
      "Processing A02, 2020-01-17-08-00-00...\n"
     ]
    },
    {
     "name": "stderr",
     "output_type": "stream",
     "text": [
      "/opt/homebrew/Caskroom/miniforge/base/envs/obspy/lib/python3.11/site-packages/obspy/signal/cross_correlation.py:291: RuntimeWarning: invalid value encountered in sqrt\n",
      "  np.sqrt(norm, out=norm)\n"
     ]
    },
    {
     "name": "stdout",
     "output_type": "stream",
     "text": [
      "No detections found.\n",
      "Processing A02, 2020-01-17-09-00-00...\n",
      "1 detections found.\n",
      "Processing A02, 2020-01-17-10-00-00...\n"
     ]
    },
    {
     "name": "stderr",
     "output_type": "stream",
     "text": [
      "/opt/homebrew/Caskroom/miniforge/base/envs/obspy/lib/python3.11/site-packages/obspy/signal/cross_correlation.py:291: RuntimeWarning: invalid value encountered in sqrt\n",
      "  np.sqrt(norm, out=norm)\n"
     ]
    },
    {
     "name": "stdout",
     "output_type": "stream",
     "text": [
      "11 detections found.\n",
      "Processing A02, 2020-01-17-11-00-00...\n"
     ]
    },
    {
     "name": "stderr",
     "output_type": "stream",
     "text": [
      "/opt/homebrew/Caskroom/miniforge/base/envs/obspy/lib/python3.11/site-packages/obspy/signal/cross_correlation.py:291: RuntimeWarning: invalid value encountered in sqrt\n",
      "  np.sqrt(norm, out=norm)\n"
     ]
    },
    {
     "name": "stdout",
     "output_type": "stream",
     "text": [
      "38 detections found.\n",
      "Processing A02, 2020-01-17-12-00-00...\n",
      "4 detections found.\n",
      "Processing A02, 2020-01-17-13-00-00...\n"
     ]
    },
    {
     "name": "stderr",
     "output_type": "stream",
     "text": [
      "/opt/homebrew/Caskroom/miniforge/base/envs/obspy/lib/python3.11/site-packages/obspy/signal/cross_correlation.py:291: RuntimeWarning: invalid value encountered in sqrt\n",
      "  np.sqrt(norm, out=norm)\n"
     ]
    },
    {
     "name": "stdout",
     "output_type": "stream",
     "text": [
      "2 detections found.\n",
      "Processing A02, 2020-01-17-14-00-00...\n"
     ]
    },
    {
     "name": "stderr",
     "output_type": "stream",
     "text": [
      "/opt/homebrew/Caskroom/miniforge/base/envs/obspy/lib/python3.11/site-packages/obspy/signal/cross_correlation.py:291: RuntimeWarning: invalid value encountered in sqrt\n",
      "  np.sqrt(norm, out=norm)\n"
     ]
    },
    {
     "name": "stdout",
     "output_type": "stream",
     "text": [
      "1 detections found.\n",
      "Processing A02, 2020-01-17-15-00-00...\n"
     ]
    },
    {
     "name": "stderr",
     "output_type": "stream",
     "text": [
      "/opt/homebrew/Caskroom/miniforge/base/envs/obspy/lib/python3.11/site-packages/obspy/signal/cross_correlation.py:291: RuntimeWarning: invalid value encountered in sqrt\n",
      "  np.sqrt(norm, out=norm)\n"
     ]
    },
    {
     "name": "stdout",
     "output_type": "stream",
     "text": [
      "1 detections found.\n",
      "Processing A02, 2020-01-17-16-00-00...\n"
     ]
    },
    {
     "name": "stderr",
     "output_type": "stream",
     "text": [
      "/opt/homebrew/Caskroom/miniforge/base/envs/obspy/lib/python3.11/site-packages/obspy/signal/cross_correlation.py:291: RuntimeWarning: invalid value encountered in sqrt\n",
      "  np.sqrt(norm, out=norm)\n"
     ]
    },
    {
     "name": "stdout",
     "output_type": "stream",
     "text": [
      "No detections found.\n",
      "Processing A02, 2020-01-17-17-00-00...\n",
      "1 detections found.\n",
      "Processing A02, 2020-01-17-18-00-00...\n"
     ]
    },
    {
     "name": "stderr",
     "output_type": "stream",
     "text": [
      "/opt/homebrew/Caskroom/miniforge/base/envs/obspy/lib/python3.11/site-packages/obspy/signal/cross_correlation.py:291: RuntimeWarning: invalid value encountered in sqrt\n",
      "  np.sqrt(norm, out=norm)\n"
     ]
    },
    {
     "name": "stdout",
     "output_type": "stream",
     "text": [
      "5 detections found.\n",
      "Processing A02, 2020-01-17-19-00-00...\n"
     ]
    },
    {
     "name": "stderr",
     "output_type": "stream",
     "text": [
      "/opt/homebrew/Caskroom/miniforge/base/envs/obspy/lib/python3.11/site-packages/obspy/signal/cross_correlation.py:291: RuntimeWarning: invalid value encountered in sqrt\n",
      "  np.sqrt(norm, out=norm)\n"
     ]
    },
    {
     "name": "stdout",
     "output_type": "stream",
     "text": [
      "No detections found.\n",
      "Processing A02, 2020-01-17-20-00-00...\n",
      "No detections found.\n",
      "Processing A02, 2020-01-17-21-00-00...\n",
      "No detections found.\n",
      "Processing A02, 2020-01-17-22-00-00...\n",
      "2 detections found.\n",
      "Processing A02, 2020-01-17-23-00-00...\n",
      "No detections found.\n",
      "Processing A02, 2020-01-18-00-00-00...\n",
      "No detections found.\n",
      "Processing A02, 2020-01-18-01-00-00...\n"
     ]
    },
    {
     "name": "stderr",
     "output_type": "stream",
     "text": [
      "/opt/homebrew/Caskroom/miniforge/base/envs/obspy/lib/python3.11/site-packages/obspy/signal/cross_correlation.py:291: RuntimeWarning: invalid value encountered in sqrt\n",
      "  np.sqrt(norm, out=norm)\n"
     ]
    },
    {
     "name": "stdout",
     "output_type": "stream",
     "text": [
      "No detections found.\n",
      "Processing A02, 2020-01-18-02-00-00...\n",
      "No detections found.\n",
      "Processing A02, 2020-01-18-03-00-00...\n",
      "No detections found.\n",
      "Processing A02, 2020-01-18-04-00-00...\n",
      "No detections found.\n",
      "Processing A02, 2020-01-18-05-00-00...\n",
      "11 detections found.\n",
      "Processing A02, 2020-01-18-06-00-00...\n"
     ]
    },
    {
     "name": "stderr",
     "output_type": "stream",
     "text": [
      "/opt/homebrew/Caskroom/miniforge/base/envs/obspy/lib/python3.11/site-packages/obspy/signal/cross_correlation.py:291: RuntimeWarning: invalid value encountered in sqrt\n",
      "  np.sqrt(norm, out=norm)\n"
     ]
    },
    {
     "name": "stdout",
     "output_type": "stream",
     "text": [
      "1 detections found.\n",
      "Processing A02, 2020-01-18-07-00-00...\n"
     ]
    },
    {
     "name": "stderr",
     "output_type": "stream",
     "text": [
      "/opt/homebrew/Caskroom/miniforge/base/envs/obspy/lib/python3.11/site-packages/obspy/signal/cross_correlation.py:291: RuntimeWarning: invalid value encountered in sqrt\n",
      "  np.sqrt(norm, out=norm)\n"
     ]
    },
    {
     "name": "stdout",
     "output_type": "stream",
     "text": [
      "No detections found.\n",
      "Processing A02, 2020-01-18-08-00-00...\n",
      "1 detections found.\n",
      "Processing A02, 2020-01-18-09-00-00...\n"
     ]
    },
    {
     "name": "stderr",
     "output_type": "stream",
     "text": [
      "/opt/homebrew/Caskroom/miniforge/base/envs/obspy/lib/python3.11/site-packages/obspy/signal/cross_correlation.py:291: RuntimeWarning: invalid value encountered in sqrt\n",
      "  np.sqrt(norm, out=norm)\n"
     ]
    },
    {
     "name": "stdout",
     "output_type": "stream",
     "text": [
      "4 detections found.\n",
      "Processing A02, 2020-01-18-10-00-00...\n"
     ]
    },
    {
     "name": "stderr",
     "output_type": "stream",
     "text": [
      "/opt/homebrew/Caskroom/miniforge/base/envs/obspy/lib/python3.11/site-packages/obspy/signal/cross_correlation.py:291: RuntimeWarning: invalid value encountered in sqrt\n",
      "  np.sqrt(norm, out=norm)\n"
     ]
    },
    {
     "name": "stdout",
     "output_type": "stream",
     "text": [
      "No detections found.\n",
      "Processing A02, 2020-01-18-11-00-00...\n",
      "2 detections found.\n",
      "Processing A02, 2020-01-18-12-00-00...\n"
     ]
    },
    {
     "name": "stderr",
     "output_type": "stream",
     "text": [
      "/opt/homebrew/Caskroom/miniforge/base/envs/obspy/lib/python3.11/site-packages/obspy/signal/cross_correlation.py:291: RuntimeWarning: invalid value encountered in sqrt\n",
      "  np.sqrt(norm, out=norm)\n"
     ]
    },
    {
     "name": "stdout",
     "output_type": "stream",
     "text": [
      "No detections found.\n",
      "Processing A02, 2020-01-18-13-00-00...\n",
      "No detections found.\n",
      "Processing A02, 2020-01-18-14-00-00...\n",
      "No detections found.\n",
      "Processing A02, 2020-01-18-15-00-00...\n",
      "No detections found.\n",
      "Processing A02, 2020-01-18-16-00-00...\n",
      "1 detections found.\n",
      "Processing A02, 2020-01-18-17-00-00...\n",
      "2 detections found.\n",
      "Processing A02, 2020-01-18-18-00-00...\n"
     ]
    },
    {
     "name": "stderr",
     "output_type": "stream",
     "text": [
      "/opt/homebrew/Caskroom/miniforge/base/envs/obspy/lib/python3.11/site-packages/obspy/signal/cross_correlation.py:291: RuntimeWarning: invalid value encountered in sqrt\n",
      "  np.sqrt(norm, out=norm)\n"
     ]
    },
    {
     "name": "stdout",
     "output_type": "stream",
     "text": [
      "1 detections found.\n",
      "Processing A02, 2020-01-18-19-00-00...\n"
     ]
    },
    {
     "name": "stderr",
     "output_type": "stream",
     "text": [
      "/opt/homebrew/Caskroom/miniforge/base/envs/obspy/lib/python3.11/site-packages/obspy/signal/cross_correlation.py:291: RuntimeWarning: invalid value encountered in sqrt\n",
      "  np.sqrt(norm, out=norm)\n"
     ]
    },
    {
     "name": "stdout",
     "output_type": "stream",
     "text": [
      "23 detections found.\n",
      "Processing A02, 2020-01-18-20-00-00...\n",
      "2 detections found.\n",
      "Processing A02, 2020-01-18-21-00-00...\n",
      "1 detections found.\n",
      "Processing A02, 2020-01-18-22-00-00...\n"
     ]
    },
    {
     "name": "stderr",
     "output_type": "stream",
     "text": [
      "/opt/homebrew/Caskroom/miniforge/base/envs/obspy/lib/python3.11/site-packages/obspy/signal/cross_correlation.py:291: RuntimeWarning: invalid value encountered in sqrt\n",
      "  np.sqrt(norm, out=norm)\n"
     ]
    },
    {
     "name": "stdout",
     "output_type": "stream",
     "text": [
      "1 detections found.\n",
      "Processing A02, 2020-01-18-23-00-00...\n",
      "3 detections found.\n",
      "Processing A02, 2020-01-19-00-00-00...\n"
     ]
    },
    {
     "name": "stderr",
     "output_type": "stream",
     "text": [
      "/opt/homebrew/Caskroom/miniforge/base/envs/obspy/lib/python3.11/site-packages/obspy/signal/cross_correlation.py:291: RuntimeWarning: invalid value encountered in sqrt\n",
      "  np.sqrt(norm, out=norm)\n"
     ]
    },
    {
     "name": "stdout",
     "output_type": "stream",
     "text": [
      "1 detections found.\n",
      "Processing A02, 2020-01-19-01-00-00...\n"
     ]
    },
    {
     "name": "stderr",
     "output_type": "stream",
     "text": [
      "/opt/homebrew/Caskroom/miniforge/base/envs/obspy/lib/python3.11/site-packages/obspy/signal/cross_correlation.py:291: RuntimeWarning: invalid value encountered in sqrt\n",
      "  np.sqrt(norm, out=norm)\n"
     ]
    },
    {
     "name": "stdout",
     "output_type": "stream",
     "text": [
      "No detections found.\n",
      "Processing A02, 2020-01-19-02-00-00...\n",
      "No detections found.\n",
      "Processing A02, 2020-01-19-03-00-00...\n",
      "No detections found.\n",
      "Processing A02, 2020-01-19-04-00-00...\n",
      "5 detections found.\n",
      "Processing A02, 2020-01-19-05-00-00...\n",
      "1 detections found.\n",
      "Processing A02, 2020-01-19-06-00-00...\n",
      "No detections found.\n",
      "Processing A02, 2020-01-19-07-00-00...\n",
      "2 detections found.\n",
      "Processing A02, 2020-01-19-08-00-00...\n",
      "No detections found.\n",
      "Processing A02, 2020-01-19-09-00-00...\n"
     ]
    },
    {
     "name": "stderr",
     "output_type": "stream",
     "text": [
      "/opt/homebrew/Caskroom/miniforge/base/envs/obspy/lib/python3.11/site-packages/obspy/signal/cross_correlation.py:291: RuntimeWarning: invalid value encountered in sqrt\n",
      "  np.sqrt(norm, out=norm)\n"
     ]
    },
    {
     "name": "stdout",
     "output_type": "stream",
     "text": [
      "3 detections found.\n",
      "Processing A02, 2020-01-19-10-00-00...\n"
     ]
    },
    {
     "name": "stderr",
     "output_type": "stream",
     "text": [
      "/opt/homebrew/Caskroom/miniforge/base/envs/obspy/lib/python3.11/site-packages/obspy/signal/cross_correlation.py:291: RuntimeWarning: invalid value encountered in sqrt\n",
      "  np.sqrt(norm, out=norm)\n"
     ]
    },
    {
     "name": "stdout",
     "output_type": "stream",
     "text": [
      "No detections found.\n",
      "Processing A02, 2020-01-19-11-00-00...\n",
      "9 detections found.\n",
      "Processing A02, 2020-01-19-12-00-00...\n",
      "No detections found.\n",
      "Processing A02, 2020-01-19-13-00-00...\n",
      "No detections found.\n",
      "Processing A02, 2020-01-19-14-00-00...\n",
      "No detections found.\n",
      "Processing A02, 2020-01-19-15-00-00...\n"
     ]
    },
    {
     "name": "stderr",
     "output_type": "stream",
     "text": [
      "/opt/homebrew/Caskroom/miniforge/base/envs/obspy/lib/python3.11/site-packages/obspy/signal/cross_correlation.py:291: RuntimeWarning: invalid value encountered in sqrt\n",
      "  np.sqrt(norm, out=norm)\n"
     ]
    },
    {
     "name": "stdout",
     "output_type": "stream",
     "text": [
      "1 detections found.\n",
      "Processing A02, 2020-01-19-16-00-00...\n"
     ]
    },
    {
     "name": "stderr",
     "output_type": "stream",
     "text": [
      "/opt/homebrew/Caskroom/miniforge/base/envs/obspy/lib/python3.11/site-packages/obspy/signal/cross_correlation.py:291: RuntimeWarning: invalid value encountered in sqrt\n",
      "  np.sqrt(norm, out=norm)\n"
     ]
    },
    {
     "name": "stdout",
     "output_type": "stream",
     "text": [
      "No detections found.\n",
      "Processing A02, 2020-01-19-17-00-00...\n",
      "No detections found.\n",
      "Processing A02, 2020-01-19-18-00-00...\n",
      "No detections found.\n",
      "Processing A02, 2020-01-19-19-00-00...\n",
      "3 detections found.\n",
      "Processing A02, 2020-01-19-20-00-00...\n",
      "No detections found.\n",
      "Processing A02, 2020-01-19-21-00-00...\n"
     ]
    },
    {
     "name": "stderr",
     "output_type": "stream",
     "text": [
      "/opt/homebrew/Caskroom/miniforge/base/envs/obspy/lib/python3.11/site-packages/obspy/signal/cross_correlation.py:291: RuntimeWarning: invalid value encountered in sqrt\n",
      "  np.sqrt(norm, out=norm)\n"
     ]
    },
    {
     "name": "stdout",
     "output_type": "stream",
     "text": [
      "No detections found.\n",
      "Processing A02, 2020-01-19-22-00-00...\n",
      "1 detections found.\n",
      "Processing A02, 2020-01-19-23-00-00...\n",
      "No detections found.\n",
      "Processing A02, 2020-01-20-00-00-00...\n"
     ]
    },
    {
     "name": "stderr",
     "output_type": "stream",
     "text": [
      "/opt/homebrew/Caskroom/miniforge/base/envs/obspy/lib/python3.11/site-packages/obspy/signal/cross_correlation.py:291: RuntimeWarning: invalid value encountered in sqrt\n",
      "  np.sqrt(norm, out=norm)\n"
     ]
    },
    {
     "name": "stdout",
     "output_type": "stream",
     "text": [
      "No detections found.\n",
      "Processing A02, 2020-01-20-01-00-00...\n",
      "2 detections found.\n",
      "Processing A02, 2020-01-20-02-00-00...\n",
      "No detections found.\n",
      "Processing A02, 2020-01-20-03-00-00...\n",
      "No detections found.\n",
      "Processing A02, 2020-01-20-04-00-00...\n"
     ]
    },
    {
     "name": "stderr",
     "output_type": "stream",
     "text": [
      "/opt/homebrew/Caskroom/miniforge/base/envs/obspy/lib/python3.11/site-packages/obspy/signal/cross_correlation.py:291: RuntimeWarning: invalid value encountered in sqrt\n",
      "  np.sqrt(norm, out=norm)\n"
     ]
    },
    {
     "name": "stdout",
     "output_type": "stream",
     "text": [
      "1 detections found.\n",
      "Processing A02, 2020-01-20-05-00-00...\n"
     ]
    },
    {
     "name": "stderr",
     "output_type": "stream",
     "text": [
      "/opt/homebrew/Caskroom/miniforge/base/envs/obspy/lib/python3.11/site-packages/obspy/signal/cross_correlation.py:291: RuntimeWarning: invalid value encountered in sqrt\n",
      "  np.sqrt(norm, out=norm)\n"
     ]
    },
    {
     "name": "stdout",
     "output_type": "stream",
     "text": [
      "2 detections found.\n",
      "Processing A02, 2020-01-20-06-00-00...\n",
      "No detections found.\n",
      "Processing A02, 2020-01-20-07-00-00...\n",
      "1 detections found.\n",
      "Processing A02, 2020-01-20-08-00-00...\n"
     ]
    },
    {
     "name": "stderr",
     "output_type": "stream",
     "text": [
      "/opt/homebrew/Caskroom/miniforge/base/envs/obspy/lib/python3.11/site-packages/obspy/signal/cross_correlation.py:291: RuntimeWarning: invalid value encountered in sqrt\n",
      "  np.sqrt(norm, out=norm)\n"
     ]
    },
    {
     "name": "stdout",
     "output_type": "stream",
     "text": [
      "3 detections found.\n",
      "Processing A02, 2020-01-20-09-00-00...\n"
     ]
    },
    {
     "name": "stderr",
     "output_type": "stream",
     "text": [
      "/opt/homebrew/Caskroom/miniforge/base/envs/obspy/lib/python3.11/site-packages/obspy/signal/cross_correlation.py:291: RuntimeWarning: invalid value encountered in sqrt\n",
      "  np.sqrt(norm, out=norm)\n"
     ]
    },
    {
     "name": "stdout",
     "output_type": "stream",
     "text": [
      "No detections found.\n",
      "Processing A02, 2020-01-20-10-00-00...\n",
      "No detections found.\n",
      "Processing A02, 2020-01-20-11-00-00...\n",
      "No detections found.\n",
      "Processing A02, 2020-01-20-12-00-00...\n",
      "No detections found.\n",
      "Processing A02, 2020-01-20-13-00-00...\n",
      "1 detections found.\n",
      "Processing A02, 2020-01-20-14-00-00...\n"
     ]
    },
    {
     "name": "stderr",
     "output_type": "stream",
     "text": [
      "/opt/homebrew/Caskroom/miniforge/base/envs/obspy/lib/python3.11/site-packages/obspy/signal/cross_correlation.py:291: RuntimeWarning: invalid value encountered in sqrt\n",
      "  np.sqrt(norm, out=norm)\n"
     ]
    },
    {
     "name": "stdout",
     "output_type": "stream",
     "text": [
      "No detections found.\n",
      "Processing A02, 2020-01-20-15-00-00...\n",
      "11 detections found.\n",
      "Processing A02, 2020-01-20-16-00-00...\n",
      "No detections found.\n",
      "Processing A02, 2020-01-20-17-00-00...\n",
      "No detections found.\n",
      "Processing A02, 2020-01-20-18-00-00...\n"
     ]
    },
    {
     "name": "stderr",
     "output_type": "stream",
     "text": [
      "/opt/homebrew/Caskroom/miniforge/base/envs/obspy/lib/python3.11/site-packages/obspy/signal/cross_correlation.py:291: RuntimeWarning: invalid value encountered in sqrt\n",
      "  np.sqrt(norm, out=norm)\n"
     ]
    },
    {
     "name": "stdout",
     "output_type": "stream",
     "text": [
      "1 detections found.\n",
      "Processing A02, 2020-01-20-19-00-00...\n",
      "No detections found.\n",
      "Processing A02, 2020-01-20-20-00-00...\n"
     ]
    },
    {
     "name": "stderr",
     "output_type": "stream",
     "text": [
      "/opt/homebrew/Caskroom/miniforge/base/envs/obspy/lib/python3.11/site-packages/obspy/signal/cross_correlation.py:291: RuntimeWarning: invalid value encountered in sqrt\n",
      "  np.sqrt(norm, out=norm)\n"
     ]
    },
    {
     "name": "stdout",
     "output_type": "stream",
     "text": [
      "1 detections found.\n",
      "Processing A02, 2020-01-20-21-00-00...\n",
      "1 detections found.\n",
      "Processing A02, 2020-01-20-22-00-00...\n"
     ]
    },
    {
     "name": "stderr",
     "output_type": "stream",
     "text": [
      "/opt/homebrew/Caskroom/miniforge/base/envs/obspy/lib/python3.11/site-packages/obspy/signal/cross_correlation.py:291: RuntimeWarning: invalid value encountered in sqrt\n",
      "  np.sqrt(norm, out=norm)\n"
     ]
    },
    {
     "name": "stdout",
     "output_type": "stream",
     "text": [
      "1 detections found.\n",
      "Processing A02, 2020-01-20-23-00-00...\n"
     ]
    },
    {
     "name": "stderr",
     "output_type": "stream",
     "text": [
      "/opt/homebrew/Caskroom/miniforge/base/envs/obspy/lib/python3.11/site-packages/obspy/signal/cross_correlation.py:291: RuntimeWarning: invalid value encountered in sqrt\n",
      "  np.sqrt(norm, out=norm)\n"
     ]
    },
    {
     "name": "stdout",
     "output_type": "stream",
     "text": [
      "No detections found.\n",
      "Processing A02, 2020-01-21-00-00-00...\n",
      "No detections found.\n",
      "Processing A02, 2020-01-21-01-00-00...\n",
      "1 detections found.\n",
      "Processing A02, 2020-01-21-02-00-00...\n",
      "2 detections found.\n",
      "Processing A02, 2020-01-21-03-00-00...\n"
     ]
    },
    {
     "name": "stderr",
     "output_type": "stream",
     "text": [
      "/opt/homebrew/Caskroom/miniforge/base/envs/obspy/lib/python3.11/site-packages/obspy/signal/cross_correlation.py:291: RuntimeWarning: invalid value encountered in sqrt\n",
      "  np.sqrt(norm, out=norm)\n"
     ]
    },
    {
     "name": "stdout",
     "output_type": "stream",
     "text": [
      "2 detections found.\n",
      "Processing A02, 2020-01-21-04-00-00...\n"
     ]
    },
    {
     "name": "stderr",
     "output_type": "stream",
     "text": [
      "/opt/homebrew/Caskroom/miniforge/base/envs/obspy/lib/python3.11/site-packages/obspy/signal/cross_correlation.py:291: RuntimeWarning: invalid value encountered in sqrt\n",
      "  np.sqrt(norm, out=norm)\n"
     ]
    },
    {
     "name": "stdout",
     "output_type": "stream",
     "text": [
      "No detections found.\n",
      "Processing A02, 2020-01-21-05-00-00...\n",
      "1 detections found.\n",
      "Processing A02, 2020-01-21-06-00-00...\n",
      "No detections found.\n",
      "Processing A02, 2020-01-21-07-00-00...\n"
     ]
    },
    {
     "name": "stderr",
     "output_type": "stream",
     "text": [
      "/opt/homebrew/Caskroom/miniforge/base/envs/obspy/lib/python3.11/site-packages/obspy/signal/cross_correlation.py:291: RuntimeWarning: invalid value encountered in sqrt\n",
      "  np.sqrt(norm, out=norm)\n"
     ]
    },
    {
     "name": "stdout",
     "output_type": "stream",
     "text": [
      "No detections found.\n",
      "Processing A02, 2020-01-21-08-00-00...\n",
      "1 detections found.\n",
      "Processing A02, 2020-01-21-09-00-00...\n",
      "No detections found.\n",
      "Processing A02, 2020-01-21-10-00-00...\n",
      "No detections found.\n",
      "Processing A02, 2020-01-21-11-00-00...\n"
     ]
    },
    {
     "name": "stderr",
     "output_type": "stream",
     "text": [
      "/opt/homebrew/Caskroom/miniforge/base/envs/obspy/lib/python3.11/site-packages/obspy/signal/cross_correlation.py:291: RuntimeWarning: invalid value encountered in sqrt\n",
      "  np.sqrt(norm, out=norm)\n"
     ]
    },
    {
     "name": "stdout",
     "output_type": "stream",
     "text": [
      "1 detections found.\n",
      "Processing A02, 2020-01-21-12-00-00...\n"
     ]
    },
    {
     "name": "stderr",
     "output_type": "stream",
     "text": [
      "/opt/homebrew/Caskroom/miniforge/base/envs/obspy/lib/python3.11/site-packages/obspy/signal/cross_correlation.py:291: RuntimeWarning: invalid value encountered in sqrt\n",
      "  np.sqrt(norm, out=norm)\n"
     ]
    },
    {
     "name": "stdout",
     "output_type": "stream",
     "text": [
      "3 detections found.\n",
      "Processing A02, 2020-01-21-13-00-00...\n",
      "No detections found.\n",
      "Processing A02, 2020-01-21-14-00-00...\n",
      "No detections found.\n",
      "Processing A02, 2020-01-21-15-00-00...\n"
     ]
    },
    {
     "name": "stderr",
     "output_type": "stream",
     "text": [
      "/opt/homebrew/Caskroom/miniforge/base/envs/obspy/lib/python3.11/site-packages/obspy/signal/cross_correlation.py:291: RuntimeWarning: invalid value encountered in sqrt\n",
      "  np.sqrt(norm, out=norm)\n"
     ]
    },
    {
     "name": "stdout",
     "output_type": "stream",
     "text": [
      "No detections found.\n",
      "Processing A02, 2020-01-21-16-00-00...\n",
      "No detections found.\n",
      "Processing A02, 2020-01-21-17-00-00...\n",
      "1 detections found.\n",
      "Processing A02, 2020-01-21-18-00-00...\n"
     ]
    },
    {
     "name": "stderr",
     "output_type": "stream",
     "text": [
      "/opt/homebrew/Caskroom/miniforge/base/envs/obspy/lib/python3.11/site-packages/obspy/signal/cross_correlation.py:291: RuntimeWarning: invalid value encountered in sqrt\n",
      "  np.sqrt(norm, out=norm)\n"
     ]
    },
    {
     "name": "stdout",
     "output_type": "stream",
     "text": [
      "6 detections found.\n",
      "Processing A02, 2020-01-21-19-00-00...\n",
      "No detections found.\n",
      "Processing A02, 2020-01-21-20-00-00...\n"
     ]
    },
    {
     "name": "stderr",
     "output_type": "stream",
     "text": [
      "/opt/homebrew/Caskroom/miniforge/base/envs/obspy/lib/python3.11/site-packages/obspy/signal/cross_correlation.py:291: RuntimeWarning: invalid value encountered in sqrt\n",
      "  np.sqrt(norm, out=norm)\n"
     ]
    },
    {
     "name": "stdout",
     "output_type": "stream",
     "text": [
      "No detections found.\n",
      "Processing A02, 2020-01-21-21-00-00...\n",
      "No detections found.\n",
      "Processing A02, 2020-01-21-22-00-00...\n",
      "1 detections found.\n",
      "Processing A02, 2020-01-21-23-00-00...\n"
     ]
    },
    {
     "name": "stderr",
     "output_type": "stream",
     "text": [
      "/opt/homebrew/Caskroom/miniforge/base/envs/obspy/lib/python3.11/site-packages/obspy/signal/cross_correlation.py:291: RuntimeWarning: invalid value encountered in sqrt\n",
      "  np.sqrt(norm, out=norm)\n"
     ]
    },
    {
     "name": "stdout",
     "output_type": "stream",
     "text": [
      "No detections found.\n",
      "Processing A02, 2020-01-22-00-00-00...\n",
      "No detections found.\n",
      "Processing A02, 2020-01-22-01-00-00...\n",
      "1 detections found.\n",
      "Processing A02, 2020-01-22-02-00-00...\n"
     ]
    },
    {
     "name": "stderr",
     "output_type": "stream",
     "text": [
      "/opt/homebrew/Caskroom/miniforge/base/envs/obspy/lib/python3.11/site-packages/obspy/signal/cross_correlation.py:291: RuntimeWarning: invalid value encountered in sqrt\n",
      "  np.sqrt(norm, out=norm)\n"
     ]
    },
    {
     "name": "stdout",
     "output_type": "stream",
     "text": [
      "1 detections found.\n",
      "Processing A02, 2020-01-22-03-00-00...\n"
     ]
    },
    {
     "name": "stderr",
     "output_type": "stream",
     "text": [
      "/opt/homebrew/Caskroom/miniforge/base/envs/obspy/lib/python3.11/site-packages/obspy/signal/cross_correlation.py:291: RuntimeWarning: invalid value encountered in sqrt\n",
      "  np.sqrt(norm, out=norm)\n"
     ]
    },
    {
     "name": "stdout",
     "output_type": "stream",
     "text": [
      "7 detections found.\n",
      "Processing A02, 2020-01-22-04-00-00...\n",
      "No detections found.\n",
      "Processing A02, 2020-01-22-05-00-00...\n",
      "No detections found.\n",
      "Processing A02, 2020-01-22-06-00-00...\n"
     ]
    },
    {
     "name": "stderr",
     "output_type": "stream",
     "text": [
      "/opt/homebrew/Caskroom/miniforge/base/envs/obspy/lib/python3.11/site-packages/obspy/signal/cross_correlation.py:291: RuntimeWarning: invalid value encountered in sqrt\n",
      "  np.sqrt(norm, out=norm)\n"
     ]
    },
    {
     "name": "stdout",
     "output_type": "stream",
     "text": [
      "No detections found.\n",
      "Processing A02, 2020-01-22-07-00-00...\n",
      "No detections found.\n",
      "Processing A02, 2020-01-22-08-00-00...\n",
      "No detections found.\n",
      "Processing A02, 2020-01-22-09-00-00...\n",
      "1 detections found.\n",
      "Processing A02, 2020-01-22-10-00-00...\n",
      "No detections found.\n",
      "Processing A02, 2020-01-22-11-00-00...\n"
     ]
    },
    {
     "name": "stderr",
     "output_type": "stream",
     "text": [
      "/opt/homebrew/Caskroom/miniforge/base/envs/obspy/lib/python3.11/site-packages/obspy/signal/cross_correlation.py:291: RuntimeWarning: invalid value encountered in sqrt\n",
      "  np.sqrt(norm, out=norm)\n"
     ]
    },
    {
     "name": "stdout",
     "output_type": "stream",
     "text": [
      "No detections found.\n",
      "Processing A02, 2020-01-22-12-00-00...\n",
      "No detections found.\n",
      "Processing A02, 2020-01-22-13-00-00...\n",
      "No detections found.\n",
      "Processing A02, 2020-01-22-14-00-00...\n",
      "No detections found.\n",
      "Processing A02, 2020-01-22-15-00-00...\n",
      "No detections found.\n",
      "Processing A02, 2020-01-22-16-00-00...\n",
      "No detections found.\n",
      "Processing A02, 2020-01-22-17-00-00...\n",
      "1 detections found.\n",
      "Processing A02, 2020-01-22-18-00-00...\n"
     ]
    },
    {
     "name": "stderr",
     "output_type": "stream",
     "text": [
      "/opt/homebrew/Caskroom/miniforge/base/envs/obspy/lib/python3.11/site-packages/obspy/signal/cross_correlation.py:291: RuntimeWarning: invalid value encountered in sqrt\n",
      "  np.sqrt(norm, out=norm)\n"
     ]
    },
    {
     "name": "stdout",
     "output_type": "stream",
     "text": [
      "No detections found.\n",
      "Processing A02, 2020-01-22-19-00-00...\n",
      "2 detections found.\n",
      "Processing A02, 2020-01-22-20-00-00...\n"
     ]
    },
    {
     "name": "stderr",
     "output_type": "stream",
     "text": [
      "/opt/homebrew/Caskroom/miniforge/base/envs/obspy/lib/python3.11/site-packages/obspy/signal/cross_correlation.py:291: RuntimeWarning: invalid value encountered in sqrt\n",
      "  np.sqrt(norm, out=norm)\n"
     ]
    },
    {
     "name": "stdout",
     "output_type": "stream",
     "text": [
      "No detections found.\n",
      "Processing A02, 2020-01-22-21-00-00...\n",
      "No detections found.\n",
      "Processing A02, 2020-01-22-22-00-00...\n",
      "No detections found.\n",
      "Processing A02, 2020-01-22-23-00-00...\n",
      "No detections found.\n",
      "Processing A02, 2020-01-23-00-00-00...\n",
      "3 detections found.\n",
      "Processing A02, 2020-01-23-01-00-00...\n"
     ]
    },
    {
     "name": "stderr",
     "output_type": "stream",
     "text": [
      "/opt/homebrew/Caskroom/miniforge/base/envs/obspy/lib/python3.11/site-packages/obspy/signal/cross_correlation.py:291: RuntimeWarning: invalid value encountered in sqrt\n",
      "  np.sqrt(norm, out=norm)\n"
     ]
    },
    {
     "name": "stdout",
     "output_type": "stream",
     "text": [
      "4 detections found.\n",
      "Processing A02, 2020-01-23-02-00-00...\n",
      "1 detections found.\n",
      "Processing A02, 2020-01-23-03-00-00...\n",
      "1 detections found.\n",
      "Processing A02, 2020-01-23-04-00-00...\n",
      "No detections found.\n",
      "Processing A02, 2020-01-23-05-00-00...\n"
     ]
    },
    {
     "name": "stderr",
     "output_type": "stream",
     "text": [
      "/opt/homebrew/Caskroom/miniforge/base/envs/obspy/lib/python3.11/site-packages/obspy/signal/cross_correlation.py:291: RuntimeWarning: invalid value encountered in sqrt\n",
      "  np.sqrt(norm, out=norm)\n"
     ]
    },
    {
     "name": "stdout",
     "output_type": "stream",
     "text": [
      "No detections found.\n",
      "Processing A02, 2020-01-23-06-00-00...\n",
      "No detections found.\n",
      "Processing A02, 2020-01-23-07-00-00...\n",
      "No detections found.\n",
      "Processing A02, 2020-01-23-08-00-00...\n",
      "2 detections found.\n",
      "Processing A02, 2020-01-23-09-00-00...\n"
     ]
    },
    {
     "name": "stderr",
     "output_type": "stream",
     "text": [
      "/opt/homebrew/Caskroom/miniforge/base/envs/obspy/lib/python3.11/site-packages/obspy/signal/cross_correlation.py:291: RuntimeWarning: invalid value encountered in sqrt\n",
      "  np.sqrt(norm, out=norm)\n"
     ]
    },
    {
     "name": "stdout",
     "output_type": "stream",
     "text": [
      "1 detections found.\n",
      "Processing A02, 2020-01-23-10-00-00...\n"
     ]
    },
    {
     "name": "stderr",
     "output_type": "stream",
     "text": [
      "/opt/homebrew/Caskroom/miniforge/base/envs/obspy/lib/python3.11/site-packages/obspy/signal/cross_correlation.py:291: RuntimeWarning: invalid value encountered in sqrt\n",
      "  np.sqrt(norm, out=norm)\n"
     ]
    },
    {
     "name": "stdout",
     "output_type": "stream",
     "text": [
      "1 detections found.\n",
      "Processing A02, 2020-01-23-11-00-00...\n"
     ]
    },
    {
     "name": "stderr",
     "output_type": "stream",
     "text": [
      "/opt/homebrew/Caskroom/miniforge/base/envs/obspy/lib/python3.11/site-packages/obspy/signal/cross_correlation.py:291: RuntimeWarning: invalid value encountered in sqrt\n",
      "  np.sqrt(norm, out=norm)\n"
     ]
    },
    {
     "name": "stdout",
     "output_type": "stream",
     "text": [
      "No detections found.\n",
      "Processing A02, 2020-01-23-12-00-00...\n",
      "No detections found.\n",
      "Processing A02, 2020-01-23-13-00-00...\n",
      "No detections found.\n",
      "Processing A02, 2020-01-23-14-00-00...\n",
      "No detections found.\n",
      "Processing A02, 2020-01-23-15-00-00...\n",
      "No detections found.\n",
      "Processing A02, 2020-01-23-16-00-00...\n",
      "No detections found.\n",
      "Processing A02, 2020-01-23-17-00-00...\n",
      "2 detections found.\n",
      "Processing A02, 2020-01-23-18-00-00...\n"
     ]
    },
    {
     "name": "stderr",
     "output_type": "stream",
     "text": [
      "/opt/homebrew/Caskroom/miniforge/base/envs/obspy/lib/python3.11/site-packages/obspy/signal/cross_correlation.py:291: RuntimeWarning: invalid value encountered in sqrt\n",
      "  np.sqrt(norm, out=norm)\n"
     ]
    },
    {
     "name": "stdout",
     "output_type": "stream",
     "text": [
      "No detections found.\n",
      "Processing A02, 2020-01-23-19-00-00...\n",
      "No detections found.\n",
      "Processing A02, 2020-01-23-20-00-00...\n",
      "No detections found.\n",
      "Processing A02, 2020-01-23-21-00-00...\n",
      "No detections found.\n",
      "Processing A02, 2020-01-23-22-00-00...\n",
      "2 detections found.\n",
      "Processing A02, 2020-01-23-23-00-00...\n",
      "No detections found.\n",
      "Processing A02, 2020-01-24-00-00-00...\n"
     ]
    },
    {
     "name": "stderr",
     "output_type": "stream",
     "text": [
      "/opt/homebrew/Caskroom/miniforge/base/envs/obspy/lib/python3.11/site-packages/obspy/signal/cross_correlation.py:291: RuntimeWarning: invalid value encountered in sqrt\n",
      "  np.sqrt(norm, out=norm)\n"
     ]
    },
    {
     "name": "stdout",
     "output_type": "stream",
     "text": [
      "No detections found.\n",
      "Processing A02, 2020-01-24-01-00-00...\n",
      "No detections found.\n",
      "Processing A02, 2020-01-24-02-00-00...\n",
      "No detections found.\n",
      "Processing A02, 2020-01-24-03-00-00...\n",
      "1 detections found.\n",
      "Processing A02, 2020-01-24-04-00-00...\n"
     ]
    },
    {
     "name": "stderr",
     "output_type": "stream",
     "text": [
      "/opt/homebrew/Caskroom/miniforge/base/envs/obspy/lib/python3.11/site-packages/obspy/signal/cross_correlation.py:291: RuntimeWarning: invalid value encountered in sqrt\n",
      "  np.sqrt(norm, out=norm)\n"
     ]
    },
    {
     "name": "stdout",
     "output_type": "stream",
     "text": [
      "No detections found.\n",
      "Processing A02, 2020-01-24-05-00-00...\n",
      "No detections found.\n",
      "Processing A02, 2020-01-24-06-00-00...\n",
      "No detections found.\n",
      "Processing A02, 2020-01-24-07-00-00...\n",
      "No detections found.\n",
      "Processing A02, 2020-01-24-08-00-00...\n",
      "1 detections found.\n",
      "Processing A02, 2020-01-24-09-00-00...\n",
      "No detections found.\n",
      "Processing A02, 2020-01-24-10-00-00...\n"
     ]
    },
    {
     "name": "stderr",
     "output_type": "stream",
     "text": [
      "/opt/homebrew/Caskroom/miniforge/base/envs/obspy/lib/python3.11/site-packages/obspy/signal/cross_correlation.py:291: RuntimeWarning: invalid value encountered in sqrt\n",
      "  np.sqrt(norm, out=norm)\n"
     ]
    },
    {
     "name": "stdout",
     "output_type": "stream",
     "text": [
      "1 detections found.\n",
      "Processing A02, 2020-01-24-11-00-00...\n"
     ]
    },
    {
     "name": "stderr",
     "output_type": "stream",
     "text": [
      "/opt/homebrew/Caskroom/miniforge/base/envs/obspy/lib/python3.11/site-packages/obspy/signal/cross_correlation.py:291: RuntimeWarning: invalid value encountered in sqrt\n",
      "  np.sqrt(norm, out=norm)\n"
     ]
    },
    {
     "name": "stdout",
     "output_type": "stream",
     "text": [
      "No detections found.\n",
      "Processing A02, 2020-01-24-12-00-00...\n",
      "12 detections found.\n",
      "Processing A02, 2020-01-24-13-00-00...\n"
     ]
    },
    {
     "name": "stderr",
     "output_type": "stream",
     "text": [
      "/opt/homebrew/Caskroom/miniforge/base/envs/obspy/lib/python3.11/site-packages/obspy/signal/cross_correlation.py:291: RuntimeWarning: invalid value encountered in sqrt\n",
      "  np.sqrt(norm, out=norm)\n"
     ]
    },
    {
     "name": "stdout",
     "output_type": "stream",
     "text": [
      "1 detections found.\n",
      "Processing A02, 2020-01-24-14-00-00...\n"
     ]
    },
    {
     "name": "stderr",
     "output_type": "stream",
     "text": [
      "/opt/homebrew/Caskroom/miniforge/base/envs/obspy/lib/python3.11/site-packages/obspy/signal/cross_correlation.py:291: RuntimeWarning: invalid value encountered in sqrt\n",
      "  np.sqrt(norm, out=norm)\n"
     ]
    },
    {
     "name": "stdout",
     "output_type": "stream",
     "text": [
      "No detections found.\n",
      "Processing A02, 2020-01-24-15-00-00...\n",
      "No detections found.\n",
      "Processing A02, 2020-01-24-16-00-00...\n",
      "No detections found.\n",
      "Processing A02, 2020-01-24-17-00-00...\n",
      "No detections found.\n",
      "Processing A02, 2020-01-24-18-00-00...\n",
      "1 detections found.\n",
      "Processing A02, 2020-01-24-19-00-00...\n"
     ]
    },
    {
     "name": "stderr",
     "output_type": "stream",
     "text": [
      "/opt/homebrew/Caskroom/miniforge/base/envs/obspy/lib/python3.11/site-packages/obspy/signal/cross_correlation.py:291: RuntimeWarning: invalid value encountered in sqrt\n",
      "  np.sqrt(norm, out=norm)\n"
     ]
    },
    {
     "name": "stdout",
     "output_type": "stream",
     "text": [
      "No detections found.\n",
      "Processing A02, 2020-01-24-20-00-00...\n",
      "1 detections found.\n",
      "Processing A02, 2020-01-24-21-00-00...\n",
      "No detections found.\n",
      "Processing A02, 2020-01-24-22-00-00...\n",
      "No detections found.\n",
      "Processing A02, 2020-01-24-23-00-00...\n",
      "1 detections found.\n",
      "Processing A02, 2020-01-25-00-00-00...\n"
     ]
    },
    {
     "name": "stderr",
     "output_type": "stream",
     "text": [
      "/opt/homebrew/Caskroom/miniforge/base/envs/obspy/lib/python3.11/site-packages/obspy/signal/cross_correlation.py:291: RuntimeWarning: invalid value encountered in sqrt\n",
      "  np.sqrt(norm, out=norm)\n"
     ]
    },
    {
     "name": "stdout",
     "output_type": "stream",
     "text": [
      "1 detections found.\n",
      "Processing A02, 2020-01-25-01-00-00...\n",
      "4 detections found.\n",
      "Processing A02, 2020-01-25-02-00-00...\n",
      "No detections found.\n",
      "Processing A02, 2020-01-25-03-00-00...\n"
     ]
    },
    {
     "name": "stderr",
     "output_type": "stream",
     "text": [
      "/opt/homebrew/Caskroom/miniforge/base/envs/obspy/lib/python3.11/site-packages/obspy/signal/cross_correlation.py:291: RuntimeWarning: invalid value encountered in sqrt\n",
      "  np.sqrt(norm, out=norm)\n"
     ]
    },
    {
     "name": "stdout",
     "output_type": "stream",
     "text": [
      "No detections found.\n",
      "Processing A02, 2020-01-25-04-00-00...\n",
      "No detections found.\n",
      "Processing A02, 2020-01-25-05-00-00...\n",
      "No detections found.\n",
      "Processing A02, 2020-01-25-06-00-00...\n",
      "10 detections found.\n",
      "Processing A02, 2020-01-25-07-00-00...\n"
     ]
    },
    {
     "name": "stderr",
     "output_type": "stream",
     "text": [
      "/opt/homebrew/Caskroom/miniforge/base/envs/obspy/lib/python3.11/site-packages/obspy/signal/cross_correlation.py:291: RuntimeWarning: invalid value encountered in sqrt\n",
      "  np.sqrt(norm, out=norm)\n"
     ]
    },
    {
     "name": "stdout",
     "output_type": "stream",
     "text": [
      "10 detections found.\n",
      "Processing A02, 2020-01-25-08-00-00...\n"
     ]
    },
    {
     "name": "stderr",
     "output_type": "stream",
     "text": [
      "/opt/homebrew/Caskroom/miniforge/base/envs/obspy/lib/python3.11/site-packages/obspy/signal/cross_correlation.py:291: RuntimeWarning: invalid value encountered in sqrt\n",
      "  np.sqrt(norm, out=norm)\n"
     ]
    },
    {
     "name": "stdout",
     "output_type": "stream",
     "text": [
      "57 detections found.\n",
      "Processing A02, 2020-01-25-09-00-00...\n"
     ]
    },
    {
     "name": "stderr",
     "output_type": "stream",
     "text": [
      "/opt/homebrew/Caskroom/miniforge/base/envs/obspy/lib/python3.11/site-packages/obspy/signal/cross_correlation.py:291: RuntimeWarning: invalid value encountered in sqrt\n",
      "  np.sqrt(norm, out=norm)\n"
     ]
    },
    {
     "name": "stdout",
     "output_type": "stream",
     "text": [
      "1 detections found.\n",
      "Processing A02, 2020-01-25-10-00-00...\n"
     ]
    },
    {
     "name": "stderr",
     "output_type": "stream",
     "text": [
      "/opt/homebrew/Caskroom/miniforge/base/envs/obspy/lib/python3.11/site-packages/obspy/signal/cross_correlation.py:291: RuntimeWarning: invalid value encountered in sqrt\n",
      "  np.sqrt(norm, out=norm)\n"
     ]
    },
    {
     "name": "stdout",
     "output_type": "stream",
     "text": [
      "1 detections found.\n",
      "Processing A02, 2020-01-25-11-00-00...\n"
     ]
    },
    {
     "name": "stderr",
     "output_type": "stream",
     "text": [
      "/opt/homebrew/Caskroom/miniforge/base/envs/obspy/lib/python3.11/site-packages/obspy/signal/cross_correlation.py:291: RuntimeWarning: invalid value encountered in sqrt\n",
      "  np.sqrt(norm, out=norm)\n"
     ]
    },
    {
     "name": "stdout",
     "output_type": "stream",
     "text": [
      "16 detections found.\n",
      "Processing A02, 2020-01-25-12-00-00...\n"
     ]
    },
    {
     "name": "stderr",
     "output_type": "stream",
     "text": [
      "/opt/homebrew/Caskroom/miniforge/base/envs/obspy/lib/python3.11/site-packages/obspy/signal/cross_correlation.py:291: RuntimeWarning: invalid value encountered in sqrt\n",
      "  np.sqrt(norm, out=norm)\n"
     ]
    },
    {
     "name": "stdout",
     "output_type": "stream",
     "text": [
      "32 detections found.\n",
      "Processing A02, 2020-01-25-13-00-00...\n"
     ]
    },
    {
     "name": "stderr",
     "output_type": "stream",
     "text": [
      "/opt/homebrew/Caskroom/miniforge/base/envs/obspy/lib/python3.11/site-packages/obspy/signal/cross_correlation.py:291: RuntimeWarning: invalid value encountered in sqrt\n",
      "  np.sqrt(norm, out=norm)\n"
     ]
    },
    {
     "name": "stdout",
     "output_type": "stream",
     "text": [
      "1 detections found.\n",
      "Processing A02, 2020-01-25-14-00-00...\n"
     ]
    },
    {
     "name": "stderr",
     "output_type": "stream",
     "text": [
      "/opt/homebrew/Caskroom/miniforge/base/envs/obspy/lib/python3.11/site-packages/obspy/signal/cross_correlation.py:291: RuntimeWarning: invalid value encountered in sqrt\n",
      "  np.sqrt(norm, out=norm)\n"
     ]
    },
    {
     "name": "stdout",
     "output_type": "stream",
     "text": [
      "No detections found.\n",
      "Processing A02, 2020-01-25-15-00-00...\n",
      "No detections found.\n",
      "Processing A02, 2020-01-25-16-00-00...\n",
      "No detections found.\n",
      "Processing A02, 2020-01-25-17-00-00...\n",
      "No detections found.\n",
      "Processing A02, 2020-01-25-18-00-00...\n",
      "No detections found.\n",
      "Processing A02, 2020-01-25-19-00-00...\n",
      "No detections found.\n",
      "Processing A02, 2020-01-25-20-00-00...\n",
      "No detections found.\n",
      "Processing A02, 2020-01-25-21-00-00...\n",
      "1 detections found.\n",
      "Processing A02, 2020-01-25-22-00-00...\n"
     ]
    },
    {
     "name": "stderr",
     "output_type": "stream",
     "text": [
      "/opt/homebrew/Caskroom/miniforge/base/envs/obspy/lib/python3.11/site-packages/obspy/signal/cross_correlation.py:291: RuntimeWarning: invalid value encountered in sqrt\n",
      "  np.sqrt(norm, out=norm)\n"
     ]
    },
    {
     "name": "stdout",
     "output_type": "stream",
     "text": [
      "No detections found.\n",
      "Processing A02, 2020-01-25-23-00-00...\n",
      "No detections found.\n",
      "Processing A02, 2020-01-26-00-00-00...\n",
      "No detections found.\n",
      "Processing A02, 2020-01-26-01-00-00...\n",
      "No detections found.\n",
      "Processing A02, 2020-01-26-02-00-00...\n",
      "No detections found.\n",
      "Processing A02, 2020-01-26-03-00-00...\n",
      "No detections found.\n",
      "Processing A02, 2020-01-26-04-00-00...\n",
      "No detections found.\n",
      "Processing A02, 2020-01-26-05-00-00...\n",
      "No detections found.\n",
      "Processing A02, 2020-01-26-06-00-00...\n",
      "1 detections found.\n",
      "Processing A02, 2020-01-26-07-00-00...\n",
      "No detections found.\n",
      "Processing A02, 2020-01-26-08-00-00...\n",
      "2 detections found.\n",
      "Processing A02, 2020-01-26-09-00-00...\n"
     ]
    },
    {
     "name": "stderr",
     "output_type": "stream",
     "text": [
      "/opt/homebrew/Caskroom/miniforge/base/envs/obspy/lib/python3.11/site-packages/obspy/signal/cross_correlation.py:291: RuntimeWarning: invalid value encountered in sqrt\n",
      "  np.sqrt(norm, out=norm)\n"
     ]
    },
    {
     "name": "stdout",
     "output_type": "stream",
     "text": [
      "1 detections found.\n",
      "Processing A02, 2020-01-26-10-00-00...\n"
     ]
    },
    {
     "name": "stderr",
     "output_type": "stream",
     "text": [
      "/opt/homebrew/Caskroom/miniforge/base/envs/obspy/lib/python3.11/site-packages/obspy/signal/cross_correlation.py:291: RuntimeWarning: invalid value encountered in sqrt\n",
      "  np.sqrt(norm, out=norm)\n"
     ]
    },
    {
     "name": "stdout",
     "output_type": "stream",
     "text": [
      "No detections found.\n",
      "Processing A02, 2020-01-26-11-00-00...\n",
      "No detections found.\n",
      "Processing A02, 2020-01-26-12-00-00...\n",
      "No detections found.\n",
      "Processing A02, 2020-01-26-13-00-00...\n",
      "No detections found.\n",
      "Processing A02, 2020-01-26-14-00-00...\n",
      "No detections found.\n",
      "Processing A02, 2020-01-26-15-00-00...\n",
      "6 detections found.\n",
      "Processing A02, 2020-01-26-16-00-00...\n",
      "No detections found.\n",
      "Processing A02, 2020-01-26-17-00-00...\n"
     ]
    },
    {
     "name": "stderr",
     "output_type": "stream",
     "text": [
      "/opt/homebrew/Caskroom/miniforge/base/envs/obspy/lib/python3.11/site-packages/obspy/signal/cross_correlation.py:291: RuntimeWarning: invalid value encountered in sqrt\n",
      "  np.sqrt(norm, out=norm)\n"
     ]
    },
    {
     "name": "stdout",
     "output_type": "stream",
     "text": [
      "1 detections found.\n",
      "Processing A02, 2020-01-26-18-00-00...\n"
     ]
    },
    {
     "name": "stderr",
     "output_type": "stream",
     "text": [
      "/opt/homebrew/Caskroom/miniforge/base/envs/obspy/lib/python3.11/site-packages/obspy/signal/cross_correlation.py:291: RuntimeWarning: invalid value encountered in sqrt\n",
      "  np.sqrt(norm, out=norm)\n"
     ]
    },
    {
     "name": "stdout",
     "output_type": "stream",
     "text": [
      "No detections found.\n",
      "Processing A02, 2020-01-26-19-00-00...\n",
      "1 detections found.\n",
      "Processing A02, 2020-01-26-20-00-00...\n"
     ]
    },
    {
     "name": "stderr",
     "output_type": "stream",
     "text": [
      "/opt/homebrew/Caskroom/miniforge/base/envs/obspy/lib/python3.11/site-packages/obspy/signal/cross_correlation.py:291: RuntimeWarning: invalid value encountered in sqrt\n",
      "  np.sqrt(norm, out=norm)\n"
     ]
    },
    {
     "name": "stdout",
     "output_type": "stream",
     "text": [
      "5 detections found.\n",
      "Processing A02, 2020-01-26-21-00-00...\n"
     ]
    },
    {
     "name": "stderr",
     "output_type": "stream",
     "text": [
      "/opt/homebrew/Caskroom/miniforge/base/envs/obspy/lib/python3.11/site-packages/obspy/signal/cross_correlation.py:291: RuntimeWarning: invalid value encountered in sqrt\n",
      "  np.sqrt(norm, out=norm)\n"
     ]
    },
    {
     "name": "stdout",
     "output_type": "stream",
     "text": [
      "340 detections found.\n",
      "Processing A02, 2020-01-26-22-00-00...\n"
     ]
    },
    {
     "name": "stderr",
     "output_type": "stream",
     "text": [
      "/opt/homebrew/Caskroom/miniforge/base/envs/obspy/lib/python3.11/site-packages/obspy/signal/cross_correlation.py:291: RuntimeWarning: invalid value encountered in sqrt\n",
      "  np.sqrt(norm, out=norm)\n"
     ]
    },
    {
     "name": "stdout",
     "output_type": "stream",
     "text": [
      "879 detections found.\n",
      "Processing A02, 2020-01-26-23-00-00...\n"
     ]
    },
    {
     "name": "stderr",
     "output_type": "stream",
     "text": [
      "/opt/homebrew/Caskroom/miniforge/base/envs/obspy/lib/python3.11/site-packages/obspy/signal/cross_correlation.py:291: RuntimeWarning: invalid value encountered in sqrt\n",
      "  np.sqrt(norm, out=norm)\n"
     ]
    },
    {
     "name": "stdout",
     "output_type": "stream",
     "text": [
      "1397 detections found.\n",
      "Processing A02, 2020-01-27-00-00-00...\n"
     ]
    },
    {
     "name": "stderr",
     "output_type": "stream",
     "text": [
      "/opt/homebrew/Caskroom/miniforge/base/envs/obspy/lib/python3.11/site-packages/obspy/signal/cross_correlation.py:291: RuntimeWarning: invalid value encountered in sqrt\n",
      "  np.sqrt(norm, out=norm)\n"
     ]
    },
    {
     "name": "stdout",
     "output_type": "stream",
     "text": [
      "1084 detections found.\n",
      "Processing A02, 2020-01-27-01-00-00...\n"
     ]
    },
    {
     "name": "stderr",
     "output_type": "stream",
     "text": [
      "/opt/homebrew/Caskroom/miniforge/base/envs/obspy/lib/python3.11/site-packages/obspy/signal/cross_correlation.py:291: RuntimeWarning: invalid value encountered in sqrt\n",
      "  np.sqrt(norm, out=norm)\n"
     ]
    },
    {
     "name": "stdout",
     "output_type": "stream",
     "text": [
      "295 detections found.\n",
      "Processing A02, 2020-01-27-02-00-00...\n",
      "1 detections found.\n",
      "Processing A02, 2020-01-27-03-00-00...\n"
     ]
    },
    {
     "name": "stderr",
     "output_type": "stream",
     "text": [
      "/opt/homebrew/Caskroom/miniforge/base/envs/obspy/lib/python3.11/site-packages/obspy/signal/cross_correlation.py:291: RuntimeWarning: invalid value encountered in sqrt\n",
      "  np.sqrt(norm, out=norm)\n"
     ]
    },
    {
     "name": "stdout",
     "output_type": "stream",
     "text": [
      "3 detections found.\n",
      "Processing A02, 2020-01-27-04-00-00...\n",
      "No detections found.\n",
      "Processing A02, 2020-01-27-05-00-00...\n",
      "23 detections found.\n",
      "Processing A02, 2020-01-27-06-00-00...\n"
     ]
    },
    {
     "name": "stderr",
     "output_type": "stream",
     "text": [
      "/opt/homebrew/Caskroom/miniforge/base/envs/obspy/lib/python3.11/site-packages/obspy/signal/cross_correlation.py:291: RuntimeWarning: invalid value encountered in sqrt\n",
      "  np.sqrt(norm, out=norm)\n"
     ]
    },
    {
     "name": "stdout",
     "output_type": "stream",
     "text": [
      "314 detections found.\n",
      "Processing A02, 2020-01-27-07-00-00...\n"
     ]
    },
    {
     "name": "stderr",
     "output_type": "stream",
     "text": [
      "/opt/homebrew/Caskroom/miniforge/base/envs/obspy/lib/python3.11/site-packages/obspy/signal/cross_correlation.py:291: RuntimeWarning: invalid value encountered in sqrt\n",
      "  np.sqrt(norm, out=norm)\n"
     ]
    },
    {
     "name": "stdout",
     "output_type": "stream",
     "text": [
      "194 detections found.\n",
      "Processing A02, 2020-01-27-08-00-00...\n"
     ]
    },
    {
     "name": "stderr",
     "output_type": "stream",
     "text": [
      "/opt/homebrew/Caskroom/miniforge/base/envs/obspy/lib/python3.11/site-packages/obspy/signal/cross_correlation.py:291: RuntimeWarning: invalid value encountered in sqrt\n",
      "  np.sqrt(norm, out=norm)\n"
     ]
    },
    {
     "name": "stdout",
     "output_type": "stream",
     "text": [
      "419 detections found.\n",
      "Processing A02, 2020-01-27-09-00-00...\n"
     ]
    },
    {
     "name": "stderr",
     "output_type": "stream",
     "text": [
      "/opt/homebrew/Caskroom/miniforge/base/envs/obspy/lib/python3.11/site-packages/obspy/signal/cross_correlation.py:291: RuntimeWarning: invalid value encountered in sqrt\n",
      "  np.sqrt(norm, out=norm)\n"
     ]
    },
    {
     "name": "stdout",
     "output_type": "stream",
     "text": [
      "524 detections found.\n",
      "Processing A02, 2020-01-27-10-00-00...\n"
     ]
    },
    {
     "name": "stderr",
     "output_type": "stream",
     "text": [
      "/opt/homebrew/Caskroom/miniforge/base/envs/obspy/lib/python3.11/site-packages/obspy/signal/cross_correlation.py:291: RuntimeWarning: invalid value encountered in sqrt\n",
      "  np.sqrt(norm, out=norm)\n"
     ]
    },
    {
     "name": "stdout",
     "output_type": "stream",
     "text": [
      "608 detections found.\n",
      "Processing A02, 2020-01-27-11-00-00...\n"
     ]
    },
    {
     "name": "stderr",
     "output_type": "stream",
     "text": [
      "/opt/homebrew/Caskroom/miniforge/base/envs/obspy/lib/python3.11/site-packages/obspy/signal/cross_correlation.py:291: RuntimeWarning: invalid value encountered in sqrt\n",
      "  np.sqrt(norm, out=norm)\n"
     ]
    },
    {
     "name": "stdout",
     "output_type": "stream",
     "text": [
      "466 detections found.\n",
      "Processing A02, 2020-01-27-12-00-00...\n"
     ]
    },
    {
     "name": "stderr",
     "output_type": "stream",
     "text": [
      "/opt/homebrew/Caskroom/miniforge/base/envs/obspy/lib/python3.11/site-packages/obspy/signal/cross_correlation.py:291: RuntimeWarning: invalid value encountered in sqrt\n",
      "  np.sqrt(norm, out=norm)\n"
     ]
    },
    {
     "name": "stdout",
     "output_type": "stream",
     "text": [
      "429 detections found.\n",
      "Processing A02, 2020-01-27-13-00-00...\n",
      "282 detections found.\n",
      "Processing A02, 2020-01-27-14-00-00...\n"
     ]
    },
    {
     "name": "stderr",
     "output_type": "stream",
     "text": [
      "/opt/homebrew/Caskroom/miniforge/base/envs/obspy/lib/python3.11/site-packages/obspy/signal/cross_correlation.py:291: RuntimeWarning: invalid value encountered in sqrt\n",
      "  np.sqrt(norm, out=norm)\n"
     ]
    },
    {
     "name": "stdout",
     "output_type": "stream",
     "text": [
      "95 detections found.\n",
      "Processing A02, 2020-01-27-15-00-00...\n"
     ]
    },
    {
     "name": "stderr",
     "output_type": "stream",
     "text": [
      "/opt/homebrew/Caskroom/miniforge/base/envs/obspy/lib/python3.11/site-packages/obspy/signal/cross_correlation.py:291: RuntimeWarning: invalid value encountered in sqrt\n",
      "  np.sqrt(norm, out=norm)\n"
     ]
    },
    {
     "name": "stdout",
     "output_type": "stream",
     "text": [
      "6 detections found.\n",
      "Processing A02, 2020-01-27-16-00-00...\n"
     ]
    },
    {
     "name": "stderr",
     "output_type": "stream",
     "text": [
      "/opt/homebrew/Caskroom/miniforge/base/envs/obspy/lib/python3.11/site-packages/obspy/signal/cross_correlation.py:291: RuntimeWarning: invalid value encountered in sqrt\n",
      "  np.sqrt(norm, out=norm)\n"
     ]
    },
    {
     "name": "stdout",
     "output_type": "stream",
     "text": [
      "110 detections found.\n",
      "Processing A02, 2020-01-27-17-00-00...\n"
     ]
    },
    {
     "name": "stderr",
     "output_type": "stream",
     "text": [
      "/opt/homebrew/Caskroom/miniforge/base/envs/obspy/lib/python3.11/site-packages/obspy/signal/cross_correlation.py:291: RuntimeWarning: invalid value encountered in sqrt\n",
      "  np.sqrt(norm, out=norm)\n"
     ]
    },
    {
     "name": "stdout",
     "output_type": "stream",
     "text": [
      "1338 detections found.\n",
      "Processing A02, 2020-01-27-18-00-00...\n"
     ]
    },
    {
     "name": "stderr",
     "output_type": "stream",
     "text": [
      "/opt/homebrew/Caskroom/miniforge/base/envs/obspy/lib/python3.11/site-packages/obspy/signal/cross_correlation.py:291: RuntimeWarning: invalid value encountered in sqrt\n",
      "  np.sqrt(norm, out=norm)\n"
     ]
    },
    {
     "name": "stdout",
     "output_type": "stream",
     "text": [
      "577 detections found.\n",
      "Processing A02, 2020-01-27-19-00-00...\n"
     ]
    },
    {
     "name": "stderr",
     "output_type": "stream",
     "text": [
      "/opt/homebrew/Caskroom/miniforge/base/envs/obspy/lib/python3.11/site-packages/obspy/signal/cross_correlation.py:291: RuntimeWarning: invalid value encountered in sqrt\n",
      "  np.sqrt(norm, out=norm)\n"
     ]
    },
    {
     "name": "stdout",
     "output_type": "stream",
     "text": [
      "352 detections found.\n",
      "Processing A02, 2020-01-27-20-00-00...\n"
     ]
    },
    {
     "name": "stderr",
     "output_type": "stream",
     "text": [
      "/opt/homebrew/Caskroom/miniforge/base/envs/obspy/lib/python3.11/site-packages/obspy/signal/cross_correlation.py:291: RuntimeWarning: invalid value encountered in sqrt\n",
      "  np.sqrt(norm, out=norm)\n"
     ]
    },
    {
     "name": "stdout",
     "output_type": "stream",
     "text": [
      "73 detections found.\n",
      "Processing A02, 2020-01-27-21-00-00...\n"
     ]
    },
    {
     "name": "stderr",
     "output_type": "stream",
     "text": [
      "/opt/homebrew/Caskroom/miniforge/base/envs/obspy/lib/python3.11/site-packages/obspy/signal/cross_correlation.py:291: RuntimeWarning: invalid value encountered in sqrt\n",
      "  np.sqrt(norm, out=norm)\n"
     ]
    },
    {
     "name": "stdout",
     "output_type": "stream",
     "text": [
      "1 detections found.\n",
      "Processing A02, 2020-01-27-22-00-00...\n"
     ]
    },
    {
     "name": "stderr",
     "output_type": "stream",
     "text": [
      "/opt/homebrew/Caskroom/miniforge/base/envs/obspy/lib/python3.11/site-packages/obspy/signal/cross_correlation.py:291: RuntimeWarning: invalid value encountered in sqrt\n",
      "  np.sqrt(norm, out=norm)\n"
     ]
    },
    {
     "name": "stdout",
     "output_type": "stream",
     "text": [
      "No detections found.\n",
      "Processing A02, 2020-01-27-23-00-00...\n",
      "No detections found.\n",
      "Processing A02, 2020-01-28-00-00-00...\n",
      "No detections found.\n",
      "Processing A02, 2020-01-28-01-00-00...\n",
      "No detections found.\n",
      "Processing A02, 2020-01-28-02-00-00...\n",
      "No detections found.\n",
      "Processing A02, 2020-01-28-03-00-00...\n",
      "No detections found.\n",
      "Processing A02, 2020-01-28-04-00-00...\n",
      "74 detections found.\n",
      "Processing A02, 2020-01-28-05-00-00...\n",
      "89 detections found.\n",
      "Processing A02, 2020-01-28-06-00-00...\n"
     ]
    },
    {
     "name": "stderr",
     "output_type": "stream",
     "text": [
      "/opt/homebrew/Caskroom/miniforge/base/envs/obspy/lib/python3.11/site-packages/obspy/signal/cross_correlation.py:291: RuntimeWarning: invalid value encountered in sqrt\n",
      "  np.sqrt(norm, out=norm)\n"
     ]
    },
    {
     "name": "stdout",
     "output_type": "stream",
     "text": [
      "174 detections found.\n",
      "Processing A02, 2020-01-28-07-00-00...\n"
     ]
    },
    {
     "name": "stderr",
     "output_type": "stream",
     "text": [
      "/opt/homebrew/Caskroom/miniforge/base/envs/obspy/lib/python3.11/site-packages/obspy/signal/cross_correlation.py:291: RuntimeWarning: invalid value encountered in sqrt\n",
      "  np.sqrt(norm, out=norm)\n"
     ]
    },
    {
     "name": "stdout",
     "output_type": "stream",
     "text": [
      "494 detections found.\n",
      "Processing A02, 2020-01-28-08-00-00...\n"
     ]
    },
    {
     "name": "stderr",
     "output_type": "stream",
     "text": [
      "/opt/homebrew/Caskroom/miniforge/base/envs/obspy/lib/python3.11/site-packages/obspy/signal/cross_correlation.py:291: RuntimeWarning: invalid value encountered in sqrt\n",
      "  np.sqrt(norm, out=norm)\n"
     ]
    },
    {
     "name": "stdout",
     "output_type": "stream",
     "text": [
      "362 detections found.\n",
      "Processing A02, 2020-01-28-09-00-00...\n"
     ]
    },
    {
     "name": "stderr",
     "output_type": "stream",
     "text": [
      "/opt/homebrew/Caskroom/miniforge/base/envs/obspy/lib/python3.11/site-packages/obspy/signal/cross_correlation.py:291: RuntimeWarning: invalid value encountered in sqrt\n",
      "  np.sqrt(norm, out=norm)\n"
     ]
    },
    {
     "name": "stdout",
     "output_type": "stream",
     "text": [
      "283 detections found.\n",
      "Processing A02, 2020-01-28-10-00-00...\n"
     ]
    },
    {
     "name": "stderr",
     "output_type": "stream",
     "text": [
      "/opt/homebrew/Caskroom/miniforge/base/envs/obspy/lib/python3.11/site-packages/obspy/signal/cross_correlation.py:291: RuntimeWarning: invalid value encountered in sqrt\n",
      "  np.sqrt(norm, out=norm)\n"
     ]
    },
    {
     "name": "stdout",
     "output_type": "stream",
     "text": [
      "238 detections found.\n",
      "Processing A02, 2020-01-28-11-00-00...\n"
     ]
    },
    {
     "name": "stderr",
     "output_type": "stream",
     "text": [
      "/opt/homebrew/Caskroom/miniforge/base/envs/obspy/lib/python3.11/site-packages/obspy/signal/cross_correlation.py:291: RuntimeWarning: invalid value encountered in sqrt\n",
      "  np.sqrt(norm, out=norm)\n"
     ]
    },
    {
     "name": "stdout",
     "output_type": "stream",
     "text": [
      "188 detections found.\n",
      "Processing A02, 2020-01-28-12-00-00...\n"
     ]
    },
    {
     "name": "stderr",
     "output_type": "stream",
     "text": [
      "/opt/homebrew/Caskroom/miniforge/base/envs/obspy/lib/python3.11/site-packages/obspy/signal/cross_correlation.py:291: RuntimeWarning: invalid value encountered in sqrt\n",
      "  np.sqrt(norm, out=norm)\n"
     ]
    },
    {
     "name": "stdout",
     "output_type": "stream",
     "text": [
      "199 detections found.\n",
      "Processing A02, 2020-01-28-13-00-00...\n"
     ]
    },
    {
     "name": "stderr",
     "output_type": "stream",
     "text": [
      "/opt/homebrew/Caskroom/miniforge/base/envs/obspy/lib/python3.11/site-packages/obspy/signal/cross_correlation.py:291: RuntimeWarning: invalid value encountered in sqrt\n",
      "  np.sqrt(norm, out=norm)\n"
     ]
    },
    {
     "name": "stdout",
     "output_type": "stream",
     "text": [
      "52 detections found.\n",
      "Processing A02, 2020-01-28-14-00-00...\n"
     ]
    },
    {
     "name": "stderr",
     "output_type": "stream",
     "text": [
      "/opt/homebrew/Caskroom/miniforge/base/envs/obspy/lib/python3.11/site-packages/obspy/signal/cross_correlation.py:291: RuntimeWarning: invalid value encountered in sqrt\n",
      "  np.sqrt(norm, out=norm)\n"
     ]
    },
    {
     "name": "stdout",
     "output_type": "stream",
     "text": [
      "6 detections found.\n",
      "Processing A02, 2020-01-28-15-00-00...\n"
     ]
    },
    {
     "name": "stderr",
     "output_type": "stream",
     "text": [
      "/opt/homebrew/Caskroom/miniforge/base/envs/obspy/lib/python3.11/site-packages/obspy/signal/cross_correlation.py:291: RuntimeWarning: invalid value encountered in sqrt\n",
      "  np.sqrt(norm, out=norm)\n"
     ]
    },
    {
     "name": "stdout",
     "output_type": "stream",
     "text": [
      "46 detections found.\n",
      "Processing A02, 2020-01-28-16-00-00...\n"
     ]
    },
    {
     "name": "stderr",
     "output_type": "stream",
     "text": [
      "/opt/homebrew/Caskroom/miniforge/base/envs/obspy/lib/python3.11/site-packages/obspy/signal/cross_correlation.py:291: RuntimeWarning: invalid value encountered in sqrt\n",
      "  np.sqrt(norm, out=norm)\n"
     ]
    },
    {
     "name": "stdout",
     "output_type": "stream",
     "text": [
      "222 detections found.\n",
      "Processing A02, 2020-01-28-17-00-00...\n"
     ]
    },
    {
     "name": "stderr",
     "output_type": "stream",
     "text": [
      "/opt/homebrew/Caskroom/miniforge/base/envs/obspy/lib/python3.11/site-packages/obspy/signal/cross_correlation.py:291: RuntimeWarning: invalid value encountered in sqrt\n",
      "  np.sqrt(norm, out=norm)\n"
     ]
    },
    {
     "name": "stdout",
     "output_type": "stream",
     "text": [
      "62 detections found.\n",
      "Processing A02, 2020-01-28-18-00-00...\n"
     ]
    },
    {
     "name": "stderr",
     "output_type": "stream",
     "text": [
      "/opt/homebrew/Caskroom/miniforge/base/envs/obspy/lib/python3.11/site-packages/obspy/signal/cross_correlation.py:291: RuntimeWarning: invalid value encountered in sqrt\n",
      "  np.sqrt(norm, out=norm)\n"
     ]
    },
    {
     "name": "stdout",
     "output_type": "stream",
     "text": [
      "34 detections found.\n",
      "Processing A02, 2020-01-28-19-00-00...\n"
     ]
    },
    {
     "name": "stderr",
     "output_type": "stream",
     "text": [
      "/opt/homebrew/Caskroom/miniforge/base/envs/obspy/lib/python3.11/site-packages/obspy/signal/cross_correlation.py:291: RuntimeWarning: invalid value encountered in sqrt\n",
      "  np.sqrt(norm, out=norm)\n"
     ]
    },
    {
     "name": "stdout",
     "output_type": "stream",
     "text": [
      "6 detections found.\n",
      "Processing A02, 2020-01-28-20-00-00...\n"
     ]
    },
    {
     "name": "stderr",
     "output_type": "stream",
     "text": [
      "/opt/homebrew/Caskroom/miniforge/base/envs/obspy/lib/python3.11/site-packages/obspy/signal/cross_correlation.py:291: RuntimeWarning: invalid value encountered in sqrt\n",
      "  np.sqrt(norm, out=norm)\n"
     ]
    },
    {
     "name": "stdout",
     "output_type": "stream",
     "text": [
      "20 detections found.\n",
      "Processing A02, 2020-01-28-21-00-00...\n",
      "6 detections found.\n",
      "Processing A02, 2020-01-28-22-00-00...\n"
     ]
    },
    {
     "name": "stderr",
     "output_type": "stream",
     "text": [
      "/opt/homebrew/Caskroom/miniforge/base/envs/obspy/lib/python3.11/site-packages/obspy/signal/cross_correlation.py:291: RuntimeWarning: invalid value encountered in sqrt\n",
      "  np.sqrt(norm, out=norm)\n"
     ]
    },
    {
     "name": "stdout",
     "output_type": "stream",
     "text": [
      "3 detections found.\n",
      "Processing A02, 2020-01-28-23-00-00...\n"
     ]
    },
    {
     "name": "stderr",
     "output_type": "stream",
     "text": [
      "/opt/homebrew/Caskroom/miniforge/base/envs/obspy/lib/python3.11/site-packages/obspy/signal/cross_correlation.py:291: RuntimeWarning: invalid value encountered in sqrt\n",
      "  np.sqrt(norm, out=norm)\n"
     ]
    },
    {
     "name": "stdout",
     "output_type": "stream",
     "text": [
      "No detections found.\n",
      "Processing A02, 2020-01-29-00-00-00...\n",
      "2 detections found.\n",
      "Processing A02, 2020-01-29-01-00-00...\n",
      "1 detections found.\n",
      "Processing A02, 2020-01-29-02-00-00...\n"
     ]
    },
    {
     "name": "stderr",
     "output_type": "stream",
     "text": [
      "/opt/homebrew/Caskroom/miniforge/base/envs/obspy/lib/python3.11/site-packages/obspy/signal/cross_correlation.py:291: RuntimeWarning: invalid value encountered in sqrt\n",
      "  np.sqrt(norm, out=norm)\n"
     ]
    },
    {
     "name": "stdout",
     "output_type": "stream",
     "text": [
      "No detections found.\n",
      "Processing A02, 2020-01-29-03-00-00...\n",
      "4 detections found.\n",
      "Processing A02, 2020-01-29-04-00-00...\n",
      "No detections found.\n",
      "Processing A02, 2020-01-29-05-00-00...\n",
      "No detections found.\n",
      "Processing A02, 2020-01-29-06-00-00...\n"
     ]
    },
    {
     "name": "stderr",
     "output_type": "stream",
     "text": [
      "/opt/homebrew/Caskroom/miniforge/base/envs/obspy/lib/python3.11/site-packages/obspy/signal/cross_correlation.py:291: RuntimeWarning: invalid value encountered in sqrt\n",
      "  np.sqrt(norm, out=norm)\n"
     ]
    },
    {
     "name": "stdout",
     "output_type": "stream",
     "text": [
      "21 detections found.\n",
      "Processing A02, 2020-01-29-07-00-00...\n",
      "No detections found.\n",
      "Processing A02, 2020-01-29-08-00-00...\n"
     ]
    },
    {
     "name": "stderr",
     "output_type": "stream",
     "text": [
      "/opt/homebrew/Caskroom/miniforge/base/envs/obspy/lib/python3.11/site-packages/obspy/signal/cross_correlation.py:291: RuntimeWarning: invalid value encountered in sqrt\n",
      "  np.sqrt(norm, out=norm)\n"
     ]
    },
    {
     "name": "stdout",
     "output_type": "stream",
     "text": [
      "1 detections found.\n",
      "Processing A02, 2020-01-29-09-00-00...\n"
     ]
    },
    {
     "name": "stderr",
     "output_type": "stream",
     "text": [
      "/opt/homebrew/Caskroom/miniforge/base/envs/obspy/lib/python3.11/site-packages/obspy/signal/cross_correlation.py:291: RuntimeWarning: invalid value encountered in sqrt\n",
      "  np.sqrt(norm, out=norm)\n"
     ]
    },
    {
     "name": "stdout",
     "output_type": "stream",
     "text": [
      "No detections found.\n",
      "Processing A02, 2020-01-29-10-00-00...\n",
      "3 detections found.\n",
      "Processing A02, 2020-01-29-11-00-00...\n",
      "2 detections found.\n",
      "Processing A02, 2020-01-29-12-00-00...\n",
      "1 detections found.\n",
      "Processing A02, 2020-01-29-13-00-00...\n"
     ]
    },
    {
     "name": "stderr",
     "output_type": "stream",
     "text": [
      "/opt/homebrew/Caskroom/miniforge/base/envs/obspy/lib/python3.11/site-packages/obspy/signal/cross_correlation.py:291: RuntimeWarning: invalid value encountered in sqrt\n",
      "  np.sqrt(norm, out=norm)\n"
     ]
    },
    {
     "name": "stdout",
     "output_type": "stream",
     "text": [
      "1 detections found.\n",
      "Processing A02, 2020-01-29-14-00-00...\n",
      "No detections found.\n",
      "Processing A02, 2020-01-29-15-00-00...\n"
     ]
    },
    {
     "name": "stderr",
     "output_type": "stream",
     "text": [
      "/opt/homebrew/Caskroom/miniforge/base/envs/obspy/lib/python3.11/site-packages/obspy/signal/cross_correlation.py:291: RuntimeWarning: invalid value encountered in sqrt\n",
      "  np.sqrt(norm, out=norm)\n"
     ]
    },
    {
     "name": "stdout",
     "output_type": "stream",
     "text": [
      "No detections found.\n",
      "Processing A02, 2020-01-29-16-00-00...\n",
      "No detections found.\n",
      "Processing A02, 2020-01-29-17-00-00...\n",
      "1 detections found.\n",
      "Processing A02, 2020-01-29-18-00-00...\n"
     ]
    },
    {
     "name": "stderr",
     "output_type": "stream",
     "text": [
      "/opt/homebrew/Caskroom/miniforge/base/envs/obspy/lib/python3.11/site-packages/obspy/signal/cross_correlation.py:291: RuntimeWarning: invalid value encountered in sqrt\n",
      "  np.sqrt(norm, out=norm)\n"
     ]
    },
    {
     "name": "stdout",
     "output_type": "stream",
     "text": [
      "1 detections found.\n",
      "Processing A02, 2020-01-29-19-00-00...\n"
     ]
    },
    {
     "name": "stderr",
     "output_type": "stream",
     "text": [
      "/opt/homebrew/Caskroom/miniforge/base/envs/obspy/lib/python3.11/site-packages/obspy/signal/cross_correlation.py:291: RuntimeWarning: invalid value encountered in sqrt\n",
      "  np.sqrt(norm, out=norm)\n"
     ]
    },
    {
     "name": "stdout",
     "output_type": "stream",
     "text": [
      "2 detections found.\n",
      "Processing A02, 2020-01-29-20-00-00...\n"
     ]
    },
    {
     "name": "stderr",
     "output_type": "stream",
     "text": [
      "/opt/homebrew/Caskroom/miniforge/base/envs/obspy/lib/python3.11/site-packages/obspy/signal/cross_correlation.py:291: RuntimeWarning: invalid value encountered in sqrt\n",
      "  np.sqrt(norm, out=norm)\n"
     ]
    },
    {
     "name": "stdout",
     "output_type": "stream",
     "text": [
      "No detections found.\n",
      "Processing A02, 2020-01-29-21-00-00...\n",
      "No detections found.\n",
      "Processing A02, 2020-01-29-22-00-00...\n",
      "No detections found.\n",
      "Processing A02, 2020-01-29-23-00-00...\n",
      "1 detections found.\n",
      "Processing A02, 2020-01-30-00-00-00...\n"
     ]
    },
    {
     "name": "stderr",
     "output_type": "stream",
     "text": [
      "/opt/homebrew/Caskroom/miniforge/base/envs/obspy/lib/python3.11/site-packages/obspy/signal/cross_correlation.py:291: RuntimeWarning: invalid value encountered in sqrt\n",
      "  np.sqrt(norm, out=norm)\n"
     ]
    },
    {
     "name": "stdout",
     "output_type": "stream",
     "text": [
      "1 detections found.\n",
      "Processing A02, 2020-01-30-01-00-00...\n"
     ]
    },
    {
     "name": "stderr",
     "output_type": "stream",
     "text": [
      "/opt/homebrew/Caskroom/miniforge/base/envs/obspy/lib/python3.11/site-packages/obspy/signal/cross_correlation.py:291: RuntimeWarning: invalid value encountered in sqrt\n",
      "  np.sqrt(norm, out=norm)\n"
     ]
    },
    {
     "name": "stdout",
     "output_type": "stream",
     "text": [
      "No detections found.\n",
      "Processing A02, 2020-01-30-02-00-00...\n",
      "No detections found.\n",
      "Processing A02, 2020-01-30-03-00-00...\n",
      "No detections found.\n",
      "Processing A02, 2020-01-30-04-00-00...\n",
      "1 detections found.\n",
      "Processing A02, 2020-01-30-05-00-00...\n"
     ]
    },
    {
     "name": "stderr",
     "output_type": "stream",
     "text": [
      "/opt/homebrew/Caskroom/miniforge/base/envs/obspy/lib/python3.11/site-packages/obspy/signal/cross_correlation.py:291: RuntimeWarning: invalid value encountered in sqrt\n",
      "  np.sqrt(norm, out=norm)\n"
     ]
    },
    {
     "name": "stdout",
     "output_type": "stream",
     "text": [
      "No detections found.\n",
      "Processing A02, 2020-01-30-06-00-00...\n",
      "1 detections found.\n",
      "Processing A02, 2020-01-30-07-00-00...\n",
      "No detections found.\n",
      "Processing A02, 2020-01-30-08-00-00...\n"
     ]
    },
    {
     "name": "stderr",
     "output_type": "stream",
     "text": [
      "/opt/homebrew/Caskroom/miniforge/base/envs/obspy/lib/python3.11/site-packages/obspy/signal/cross_correlation.py:291: RuntimeWarning: invalid value encountered in sqrt\n",
      "  np.sqrt(norm, out=norm)\n"
     ]
    },
    {
     "name": "stdout",
     "output_type": "stream",
     "text": [
      "13 detections found.\n",
      "Processing A02, 2020-01-30-09-00-00...\n"
     ]
    },
    {
     "name": "stderr",
     "output_type": "stream",
     "text": [
      "/opt/homebrew/Caskroom/miniforge/base/envs/obspy/lib/python3.11/site-packages/obspy/signal/cross_correlation.py:291: RuntimeWarning: invalid value encountered in sqrt\n",
      "  np.sqrt(norm, out=norm)\n"
     ]
    },
    {
     "name": "stdout",
     "output_type": "stream",
     "text": [
      "1 detections found.\n",
      "Processing A02, 2020-01-30-10-00-00...\n"
     ]
    },
    {
     "name": "stderr",
     "output_type": "stream",
     "text": [
      "/opt/homebrew/Caskroom/miniforge/base/envs/obspy/lib/python3.11/site-packages/obspy/signal/cross_correlation.py:291: RuntimeWarning: invalid value encountered in sqrt\n",
      "  np.sqrt(norm, out=norm)\n"
     ]
    },
    {
     "name": "stdout",
     "output_type": "stream",
     "text": [
      "1 detections found.\n",
      "Processing A02, 2020-01-30-11-00-00...\n"
     ]
    },
    {
     "name": "stderr",
     "output_type": "stream",
     "text": [
      "/opt/homebrew/Caskroom/miniforge/base/envs/obspy/lib/python3.11/site-packages/obspy/signal/cross_correlation.py:291: RuntimeWarning: invalid value encountered in sqrt\n",
      "  np.sqrt(norm, out=norm)\n"
     ]
    },
    {
     "name": "stdout",
     "output_type": "stream",
     "text": [
      "No detections found.\n",
      "Processing A02, 2020-01-30-12-00-00...\n",
      "No detections found.\n",
      "Processing A02, 2020-01-30-13-00-00...\n",
      "No detections found.\n",
      "Processing A02, 2020-01-30-14-00-00...\n",
      "No detections found.\n",
      "Processing A02, 2020-01-30-15-00-00...\n",
      "No detections found.\n",
      "Processing A02, 2020-01-30-16-00-00...\n",
      "1 detections found.\n",
      "Processing A02, 2020-01-30-17-00-00...\n"
     ]
    },
    {
     "name": "stderr",
     "output_type": "stream",
     "text": [
      "/opt/homebrew/Caskroom/miniforge/base/envs/obspy/lib/python3.11/site-packages/obspy/signal/cross_correlation.py:291: RuntimeWarning: invalid value encountered in sqrt\n",
      "  np.sqrt(norm, out=norm)\n"
     ]
    },
    {
     "name": "stdout",
     "output_type": "stream",
     "text": [
      "2 detections found.\n",
      "Processing A02, 2020-01-30-18-00-00...\n",
      "No detections found.\n",
      "Processing A02, 2020-01-30-19-00-00...\n"
     ]
    },
    {
     "name": "stderr",
     "output_type": "stream",
     "text": [
      "/opt/homebrew/Caskroom/miniforge/base/envs/obspy/lib/python3.11/site-packages/obspy/signal/cross_correlation.py:291: RuntimeWarning: invalid value encountered in sqrt\n",
      "  np.sqrt(norm, out=norm)\n"
     ]
    },
    {
     "name": "stdout",
     "output_type": "stream",
     "text": [
      "No detections found.\n",
      "Processing A02, 2020-01-30-20-00-00...\n",
      "1 detections found.\n",
      "Processing A02, 2020-01-30-21-00-00...\n",
      "No detections found.\n",
      "Processing A02, 2020-01-30-22-00-00...\n"
     ]
    },
    {
     "name": "stderr",
     "output_type": "stream",
     "text": [
      "/opt/homebrew/Caskroom/miniforge/base/envs/obspy/lib/python3.11/site-packages/obspy/signal/cross_correlation.py:291: RuntimeWarning: invalid value encountered in sqrt\n",
      "  np.sqrt(norm, out=norm)\n"
     ]
    },
    {
     "name": "stdout",
     "output_type": "stream",
     "text": [
      "5 detections found.\n",
      "Processing A02, 2020-01-30-23-00-00...\n",
      "No detections found.\n",
      "Processing A02, 2020-01-31-00-00-00...\n",
      "No detections found.\n",
      "Processing A02, 2020-01-31-01-00-00...\n"
     ]
    },
    {
     "name": "stderr",
     "output_type": "stream",
     "text": [
      "/opt/homebrew/Caskroom/miniforge/base/envs/obspy/lib/python3.11/site-packages/obspy/signal/cross_correlation.py:291: RuntimeWarning: invalid value encountered in sqrt\n",
      "  np.sqrt(norm, out=norm)\n"
     ]
    },
    {
     "name": "stdout",
     "output_type": "stream",
     "text": [
      "1 detections found.\n",
      "Processing A02, 2020-01-31-02-00-00...\n",
      "No detections found.\n",
      "Processing A02, 2020-01-31-03-00-00...\n"
     ]
    },
    {
     "name": "stderr",
     "output_type": "stream",
     "text": [
      "/opt/homebrew/Caskroom/miniforge/base/envs/obspy/lib/python3.11/site-packages/obspy/signal/cross_correlation.py:291: RuntimeWarning: invalid value encountered in sqrt\n",
      "  np.sqrt(norm, out=norm)\n"
     ]
    },
    {
     "name": "stdout",
     "output_type": "stream",
     "text": [
      "5 detections found.\n",
      "Processing A02, 2020-01-31-04-00-00...\n",
      "No detections found.\n",
      "Processing A02, 2020-01-31-05-00-00...\n"
     ]
    },
    {
     "name": "stderr",
     "output_type": "stream",
     "text": [
      "/opt/homebrew/Caskroom/miniforge/base/envs/obspy/lib/python3.11/site-packages/obspy/signal/cross_correlation.py:291: RuntimeWarning: invalid value encountered in sqrt\n",
      "  np.sqrt(norm, out=norm)\n"
     ]
    },
    {
     "name": "stdout",
     "output_type": "stream",
     "text": [
      "No detections found.\n",
      "Processing A02, 2020-01-31-06-00-00...\n",
      "5 detections found.\n",
      "Processing A02, 2020-01-31-07-00-00...\n",
      "No detections found.\n",
      "Processing A02, 2020-01-31-08-00-00...\n"
     ]
    },
    {
     "name": "stderr",
     "output_type": "stream",
     "text": [
      "/opt/homebrew/Caskroom/miniforge/base/envs/obspy/lib/python3.11/site-packages/obspy/signal/cross_correlation.py:291: RuntimeWarning: invalid value encountered in sqrt\n",
      "  np.sqrt(norm, out=norm)\n"
     ]
    },
    {
     "name": "stdout",
     "output_type": "stream",
     "text": [
      "9 detections found.\n",
      "Processing A02, 2020-01-31-09-00-00...\n",
      "No detections found.\n",
      "Processing A02, 2020-01-31-10-00-00...\n"
     ]
    },
    {
     "name": "stderr",
     "output_type": "stream",
     "text": [
      "/opt/homebrew/Caskroom/miniforge/base/envs/obspy/lib/python3.11/site-packages/obspy/signal/cross_correlation.py:291: RuntimeWarning: invalid value encountered in sqrt\n",
      "  np.sqrt(norm, out=norm)\n"
     ]
    },
    {
     "name": "stdout",
     "output_type": "stream",
     "text": [
      "No detections found.\n",
      "Processing A02, 2020-01-31-11-00-00...\n",
      "No detections found.\n",
      "Processing A02, 2020-01-31-12-00-00...\n",
      "No detections found.\n",
      "Processing A02, 2020-01-31-13-00-00...\n",
      "No detections found.\n",
      "Processing A02, 2020-01-31-14-00-00...\n",
      "No detections found.\n",
      "Processing A02, 2020-01-31-15-00-00...\n",
      "No detections found.\n",
      "Processing A02, 2020-01-31-16-00-00...\n",
      "No detections found.\n",
      "Processing A02, 2020-01-31-17-00-00...\n",
      "1 detections found.\n",
      "Processing A02, 2020-01-31-18-00-00...\n",
      "No detections found.\n",
      "Processing A02, 2020-01-31-19-00-00...\n",
      "No detections found.\n",
      "Processing A02, 2020-01-31-20-00-00...\n",
      "No detections found.\n",
      "Processing A02, 2020-01-31-21-00-00...\n",
      "No detections found.\n",
      "Processing A02, 2020-01-31-22-00-00...\n",
      "No detections found.\n",
      "Processing A02, 2020-01-31-23-00-00...\n",
      "No detections found.\n",
      "Processing A02, 2020-02-01-00-00-00...\n",
      "No detections found.\n",
      "Processing A02, 2020-02-01-01-00-00...\n"
     ]
    },
    {
     "name": "stderr",
     "output_type": "stream",
     "text": [
      "/opt/homebrew/Caskroom/miniforge/base/envs/obspy/lib/python3.11/site-packages/obspy/signal/cross_correlation.py:291: RuntimeWarning: invalid value encountered in sqrt\n",
      "  np.sqrt(norm, out=norm)\n"
     ]
    },
    {
     "name": "stdout",
     "output_type": "stream",
     "text": [
      "1 detections found.\n",
      "Processing A02, 2020-02-01-02-00-00...\n",
      "No detections found.\n",
      "Processing A02, 2020-02-01-03-00-00...\n",
      "No detections found.\n",
      "Processing A02, 2020-02-01-04-00-00...\n"
     ]
    },
    {
     "name": "stderr",
     "output_type": "stream",
     "text": [
      "/opt/homebrew/Caskroom/miniforge/base/envs/obspy/lib/python3.11/site-packages/obspy/signal/cross_correlation.py:291: RuntimeWarning: invalid value encountered in sqrt\n",
      "  np.sqrt(norm, out=norm)\n"
     ]
    },
    {
     "name": "stdout",
     "output_type": "stream",
     "text": [
      "No detections found.\n",
      "Processing A02, 2020-02-01-05-00-00...\n",
      "12 detections found.\n",
      "Processing A02, 2020-02-01-06-00-00...\n"
     ]
    },
    {
     "name": "stderr",
     "output_type": "stream",
     "text": [
      "/opt/homebrew/Caskroom/miniforge/base/envs/obspy/lib/python3.11/site-packages/obspy/signal/cross_correlation.py:291: RuntimeWarning: invalid value encountered in sqrt\n",
      "  np.sqrt(norm, out=norm)\n"
     ]
    },
    {
     "name": "stdout",
     "output_type": "stream",
     "text": [
      "37 detections found.\n",
      "Processing A02, 2020-02-01-07-00-00...\n",
      "Cannot find data for 2020-02-01-07-00-00!\n",
      "Processing A02, 2020-02-01-08-00-00...\n",
      "Cannot find data for 2020-02-01-08-00-00!\n",
      "Processing A02, 2020-02-01-09-00-00...\n",
      "Cannot find data for 2020-02-01-09-00-00!\n",
      "Processing A02, 2020-02-01-10-00-00...\n",
      "Cannot find data for 2020-02-01-10-00-00!\n",
      "Processing A02, 2020-02-01-11-00-00...\n",
      "Cannot find data for 2020-02-01-11-00-00!\n",
      "Processing A02, 2020-02-01-12-00-00...\n",
      "Cannot find data for 2020-02-01-12-00-00!\n",
      "Processing A02, 2020-02-01-13-00-00...\n",
      "Cannot find data for 2020-02-01-13-00-00!\n",
      "Processing A02, 2020-02-01-14-00-00...\n",
      "Cannot find data for 2020-02-01-14-00-00!\n",
      "Processing A02, 2020-02-01-15-00-00...\n",
      "Cannot find data for 2020-02-01-15-00-00!\n",
      "Processing A02, 2020-02-01-16-00-00...\n",
      "Cannot find data for 2020-02-01-16-00-00!\n",
      "Processing A02, 2020-02-01-17-00-00...\n",
      "Cannot find data for 2020-02-01-17-00-00!\n",
      "Processing A02, 2020-02-01-18-00-00...\n",
      "Cannot find data for 2020-02-01-18-00-00!\n",
      "Processing A02, 2020-02-01-19-00-00...\n",
      "Cannot find data for 2020-02-01-19-00-00!\n",
      "Processing A02, 2020-02-01-20-00-00...\n",
      "Cannot find data for 2020-02-01-20-00-00!\n",
      "Processing A02, 2020-02-01-21-00-00...\n",
      "Cannot find data for 2020-02-01-21-00-00!\n",
      "Processing A02, 2020-02-01-22-00-00...\n",
      "Cannot find data for 2020-02-01-22-00-00!\n",
      "Processing A02, 2020-02-01-23-00-00...\n",
      "Cannot find data for 2020-02-01-23-00-00!\n",
      "Processing A02, 2020-02-02-00-00-00...\n",
      "Cannot find data for 2020-02-02-00-00-00!\n",
      "Processing A02, 2020-02-02-01-00-00...\n",
      "Cannot find data for 2020-02-02-01-00-00!\n",
      "Processing A02, 2020-02-02-02-00-00...\n",
      "Cannot find data for 2020-02-02-02-00-00!\n",
      "Processing A02, 2020-02-02-03-00-00...\n",
      "Cannot find data for 2020-02-02-03-00-00!\n",
      "Processing A02, 2020-02-02-04-00-00...\n",
      "Cannot find data for 2020-02-02-04-00-00!\n",
      "Processing A02, 2020-02-02-05-00-00...\n",
      "Cannot find data for 2020-02-02-05-00-00!\n",
      "Processing A02, 2020-02-02-06-00-00...\n",
      "Cannot find data for 2020-02-02-06-00-00!\n",
      "Processing A02, 2020-02-02-07-00-00...\n",
      "Cannot find data for 2020-02-02-07-00-00!\n",
      "Processing A02, 2020-02-02-08-00-00...\n",
      "Cannot find data for 2020-02-02-08-00-00!\n",
      "Processing A02, 2020-02-02-09-00-00...\n",
      "Cannot find data for 2020-02-02-09-00-00!\n",
      "Processing A02, 2020-02-02-10-00-00...\n",
      "Cannot find data for 2020-02-02-10-00-00!\n",
      "Processing A02, 2020-02-02-11-00-00...\n",
      "Cannot find data for 2020-02-02-11-00-00!\n",
      "Processing A02, 2020-02-02-12-00-00...\n",
      "Cannot find data for 2020-02-02-12-00-00!\n",
      "Processing A02, 2020-02-02-13-00-00...\n",
      "Cannot find data for 2020-02-02-13-00-00!\n",
      "Processing A02, 2020-02-02-14-00-00...\n",
      "Cannot find data for 2020-02-02-14-00-00!\n",
      "Processing A02, 2020-02-02-15-00-00...\n",
      "Cannot find data for 2020-02-02-15-00-00!\n",
      "Processing A02, 2020-02-02-16-00-00...\n",
      "Cannot find data for 2020-02-02-16-00-00!\n",
      "Processing A02, 2020-02-02-17-00-00...\n",
      "Cannot find data for 2020-02-02-17-00-00!\n",
      "Processing A02, 2020-02-02-18-00-00...\n",
      "Cannot find data for 2020-02-02-18-00-00!\n",
      "Processing A02, 2020-02-02-19-00-00...\n",
      "Cannot find data for 2020-02-02-19-00-00!\n",
      "Processing A02, 2020-02-02-20-00-00...\n",
      "Cannot find data for 2020-02-02-20-00-00!\n",
      "Processing A02, 2020-02-02-21-00-00...\n",
      "Cannot find data for 2020-02-02-21-00-00!\n",
      "Processing A02, 2020-02-02-22-00-00...\n",
      "Cannot find data for 2020-02-02-22-00-00!\n",
      "Processing A06, 2020-01-10-11-00-00...\n"
     ]
    },
    {
     "name": "stderr",
     "output_type": "stream",
     "text": [
      "/opt/homebrew/Caskroom/miniforge/base/envs/obspy/lib/python3.11/site-packages/obspy/signal/cross_correlation.py:291: RuntimeWarning: invalid value encountered in sqrt\n",
      "  np.sqrt(norm, out=norm)\n"
     ]
    },
    {
     "name": "stdout",
     "output_type": "stream",
     "text": [
      "No detections found.\n",
      "Processing A06, 2020-01-10-12-00-00...\n",
      "5 detections found.\n",
      "Processing A06, 2020-01-10-13-00-00...\n"
     ]
    },
    {
     "name": "stderr",
     "output_type": "stream",
     "text": [
      "/opt/homebrew/Caskroom/miniforge/base/envs/obspy/lib/python3.11/site-packages/obspy/signal/cross_correlation.py:291: RuntimeWarning: invalid value encountered in sqrt\n",
      "  np.sqrt(norm, out=norm)\n"
     ]
    },
    {
     "name": "stdout",
     "output_type": "stream",
     "text": [
      "4 detections found.\n",
      "Processing A06, 2020-01-10-14-00-00...\n"
     ]
    },
    {
     "name": "stderr",
     "output_type": "stream",
     "text": [
      "/opt/homebrew/Caskroom/miniforge/base/envs/obspy/lib/python3.11/site-packages/obspy/signal/cross_correlation.py:291: RuntimeWarning: invalid value encountered in sqrt\n",
      "  np.sqrt(norm, out=norm)\n"
     ]
    },
    {
     "name": "stdout",
     "output_type": "stream",
     "text": [
      "20 detections found.\n",
      "Processing A06, 2020-01-10-15-00-00...\n"
     ]
    },
    {
     "name": "stderr",
     "output_type": "stream",
     "text": [
      "/opt/homebrew/Caskroom/miniforge/base/envs/obspy/lib/python3.11/site-packages/obspy/signal/cross_correlation.py:291: RuntimeWarning: invalid value encountered in sqrt\n",
      "  np.sqrt(norm, out=norm)\n"
     ]
    },
    {
     "name": "stdout",
     "output_type": "stream",
     "text": [
      "No detections found.\n",
      "Processing A06, 2020-01-10-16-00-00...\n",
      "No detections found.\n",
      "Processing A06, 2020-01-10-17-00-00...\n",
      "No detections found.\n",
      "Processing A06, 2020-01-10-18-00-00...\n",
      "2 detections found.\n",
      "Processing A06, 2020-01-10-19-00-00...\n"
     ]
    },
    {
     "name": "stderr",
     "output_type": "stream",
     "text": [
      "/opt/homebrew/Caskroom/miniforge/base/envs/obspy/lib/python3.11/site-packages/obspy/signal/cross_correlation.py:291: RuntimeWarning: invalid value encountered in sqrt\n",
      "  np.sqrt(norm, out=norm)\n"
     ]
    },
    {
     "name": "stdout",
     "output_type": "stream",
     "text": [
      "No detections found.\n",
      "Processing A06, 2020-01-10-20-00-00...\n",
      "1 detections found.\n",
      "Processing A06, 2020-01-10-21-00-00...\n",
      "No detections found.\n",
      "Processing A06, 2020-01-10-22-00-00...\n",
      "1 detections found.\n",
      "Processing A06, 2020-01-10-23-00-00...\n",
      "No detections found.\n",
      "Processing A06, 2020-01-11-00-00-00...\n"
     ]
    },
    {
     "name": "stderr",
     "output_type": "stream",
     "text": [
      "/opt/homebrew/Caskroom/miniforge/base/envs/obspy/lib/python3.11/site-packages/obspy/signal/cross_correlation.py:291: RuntimeWarning: invalid value encountered in sqrt\n",
      "  np.sqrt(norm, out=norm)\n"
     ]
    },
    {
     "name": "stdout",
     "output_type": "stream",
     "text": [
      "1 detections found.\n",
      "Processing A06, 2020-01-11-01-00-00...\n"
     ]
    },
    {
     "name": "stderr",
     "output_type": "stream",
     "text": [
      "/opt/homebrew/Caskroom/miniforge/base/envs/obspy/lib/python3.11/site-packages/obspy/signal/cross_correlation.py:291: RuntimeWarning: invalid value encountered in sqrt\n",
      "  np.sqrt(norm, out=norm)\n"
     ]
    },
    {
     "name": "stdout",
     "output_type": "stream",
     "text": [
      "No detections found.\n",
      "Processing A06, 2020-01-11-02-00-00...\n",
      "No detections found.\n",
      "Processing A06, 2020-01-11-03-00-00...\n",
      "No detections found.\n",
      "Processing A06, 2020-01-11-04-00-00...\n",
      "No detections found.\n",
      "Processing A06, 2020-01-11-05-00-00...\n",
      "No detections found.\n",
      "Processing A06, 2020-01-11-06-00-00...\n",
      "No detections found.\n",
      "Processing A06, 2020-01-11-07-00-00...\n",
      "No detections found.\n",
      "Processing A06, 2020-01-11-08-00-00...\n",
      "No detections found.\n",
      "Processing A06, 2020-01-11-09-00-00...\n",
      "No detections found.\n",
      "Processing A06, 2020-01-11-10-00-00...\n",
      "No detections found.\n",
      "Processing A06, 2020-01-11-11-00-00...\n",
      "No detections found.\n",
      "Processing A06, 2020-01-11-12-00-00...\n",
      "No detections found.\n",
      "Processing A06, 2020-01-11-13-00-00...\n",
      "No detections found.\n",
      "Processing A06, 2020-01-11-14-00-00...\n",
      "No detections found.\n",
      "Processing A06, 2020-01-11-15-00-00...\n",
      "No detections found.\n",
      "Processing A06, 2020-01-11-16-00-00...\n",
      "1 detections found.\n",
      "Processing A06, 2020-01-11-17-00-00...\n"
     ]
    },
    {
     "name": "stderr",
     "output_type": "stream",
     "text": [
      "/opt/homebrew/Caskroom/miniforge/base/envs/obspy/lib/python3.11/site-packages/obspy/signal/cross_correlation.py:291: RuntimeWarning: invalid value encountered in sqrt\n",
      "  np.sqrt(norm, out=norm)\n"
     ]
    },
    {
     "name": "stdout",
     "output_type": "stream",
     "text": [
      "No detections found.\n",
      "Processing A06, 2020-01-11-18-00-00...\n",
      "1 detections found.\n",
      "Processing A06, 2020-01-11-19-00-00...\n"
     ]
    },
    {
     "name": "stderr",
     "output_type": "stream",
     "text": [
      "/opt/homebrew/Caskroom/miniforge/base/envs/obspy/lib/python3.11/site-packages/obspy/signal/cross_correlation.py:291: RuntimeWarning: invalid value encountered in sqrt\n",
      "  np.sqrt(norm, out=norm)\n"
     ]
    },
    {
     "name": "stdout",
     "output_type": "stream",
     "text": [
      "No detections found.\n",
      "Processing A06, 2020-01-11-20-00-00...\n",
      "No detections found.\n",
      "Processing A06, 2020-01-11-21-00-00...\n",
      "1 detections found.\n",
      "Processing A06, 2020-01-11-22-00-00...\n"
     ]
    },
    {
     "name": "stderr",
     "output_type": "stream",
     "text": [
      "/opt/homebrew/Caskroom/miniforge/base/envs/obspy/lib/python3.11/site-packages/obspy/signal/cross_correlation.py:291: RuntimeWarning: invalid value encountered in sqrt\n",
      "  np.sqrt(norm, out=norm)\n"
     ]
    },
    {
     "name": "stdout",
     "output_type": "stream",
     "text": [
      "1 detections found.\n",
      "Processing A06, 2020-01-11-23-00-00...\n",
      "No detections found.\n",
      "Processing A06, 2020-01-12-00-00-00...\n"
     ]
    },
    {
     "name": "stderr",
     "output_type": "stream",
     "text": [
      "/opt/homebrew/Caskroom/miniforge/base/envs/obspy/lib/python3.11/site-packages/obspy/signal/cross_correlation.py:291: RuntimeWarning: invalid value encountered in sqrt\n",
      "  np.sqrt(norm, out=norm)\n"
     ]
    },
    {
     "name": "stdout",
     "output_type": "stream",
     "text": [
      "No detections found.\n",
      "Processing A06, 2020-01-12-01-00-00...\n",
      "No detections found.\n",
      "Processing A06, 2020-01-12-02-00-00...\n",
      "No detections found.\n",
      "Processing A06, 2020-01-12-03-00-00...\n",
      "1 detections found.\n",
      "Processing A06, 2020-01-12-04-00-00...\n"
     ]
    },
    {
     "name": "stderr",
     "output_type": "stream",
     "text": [
      "/opt/homebrew/Caskroom/miniforge/base/envs/obspy/lib/python3.11/site-packages/obspy/signal/cross_correlation.py:291: RuntimeWarning: invalid value encountered in sqrt\n",
      "  np.sqrt(norm, out=norm)\n"
     ]
    },
    {
     "name": "stdout",
     "output_type": "stream",
     "text": [
      "No detections found.\n",
      "Processing A06, 2020-01-12-05-00-00...\n",
      "1 detections found.\n",
      "Processing A06, 2020-01-12-06-00-00...\n"
     ]
    },
    {
     "name": "stderr",
     "output_type": "stream",
     "text": [
      "/opt/homebrew/Caskroom/miniforge/base/envs/obspy/lib/python3.11/site-packages/obspy/signal/cross_correlation.py:291: RuntimeWarning: invalid value encountered in sqrt\n",
      "  np.sqrt(norm, out=norm)\n"
     ]
    },
    {
     "name": "stdout",
     "output_type": "stream",
     "text": [
      "1 detections found.\n",
      "Processing A06, 2020-01-12-07-00-00...\n",
      "No detections found.\n",
      "Processing A06, 2020-01-12-08-00-00...\n"
     ]
    },
    {
     "name": "stderr",
     "output_type": "stream",
     "text": [
      "/opt/homebrew/Caskroom/miniforge/base/envs/obspy/lib/python3.11/site-packages/obspy/signal/cross_correlation.py:291: RuntimeWarning: invalid value encountered in sqrt\n",
      "  np.sqrt(norm, out=norm)\n"
     ]
    },
    {
     "name": "stdout",
     "output_type": "stream",
     "text": [
      "205 detections found.\n",
      "Processing A06, 2020-01-12-09-00-00...\n"
     ]
    },
    {
     "name": "stderr",
     "output_type": "stream",
     "text": [
      "/opt/homebrew/Caskroom/miniforge/base/envs/obspy/lib/python3.11/site-packages/obspy/signal/cross_correlation.py:291: RuntimeWarning: invalid value encountered in sqrt\n",
      "  np.sqrt(norm, out=norm)\n"
     ]
    },
    {
     "name": "stdout",
     "output_type": "stream",
     "text": [
      "120 detections found.\n",
      "Processing A06, 2020-01-12-10-00-00...\n"
     ]
    },
    {
     "name": "stderr",
     "output_type": "stream",
     "text": [
      "/opt/homebrew/Caskroom/miniforge/base/envs/obspy/lib/python3.11/site-packages/obspy/signal/cross_correlation.py:291: RuntimeWarning: invalid value encountered in sqrt\n",
      "  np.sqrt(norm, out=norm)\n"
     ]
    },
    {
     "name": "stdout",
     "output_type": "stream",
     "text": [
      "338 detections found.\n",
      "Processing A06, 2020-01-12-11-00-00...\n"
     ]
    },
    {
     "name": "stderr",
     "output_type": "stream",
     "text": [
      "/opt/homebrew/Caskroom/miniforge/base/envs/obspy/lib/python3.11/site-packages/obspy/signal/cross_correlation.py:291: RuntimeWarning: invalid value encountered in sqrt\n",
      "  np.sqrt(norm, out=norm)\n"
     ]
    },
    {
     "name": "stdout",
     "output_type": "stream",
     "text": [
      "339 detections found.\n",
      "Processing A06, 2020-01-12-12-00-00...\n"
     ]
    },
    {
     "name": "stderr",
     "output_type": "stream",
     "text": [
      "/opt/homebrew/Caskroom/miniforge/base/envs/obspy/lib/python3.11/site-packages/obspy/signal/cross_correlation.py:291: RuntimeWarning: invalid value encountered in sqrt\n",
      "  np.sqrt(norm, out=norm)\n"
     ]
    },
    {
     "name": "stdout",
     "output_type": "stream",
     "text": [
      "288 detections found.\n",
      "Processing A06, 2020-01-12-13-00-00...\n"
     ]
    },
    {
     "name": "stderr",
     "output_type": "stream",
     "text": [
      "/opt/homebrew/Caskroom/miniforge/base/envs/obspy/lib/python3.11/site-packages/obspy/signal/cross_correlation.py:291: RuntimeWarning: invalid value encountered in sqrt\n",
      "  np.sqrt(norm, out=norm)\n"
     ]
    },
    {
     "name": "stdout",
     "output_type": "stream",
     "text": [
      "620 detections found.\n",
      "Processing A06, 2020-01-12-14-00-00...\n"
     ]
    },
    {
     "name": "stderr",
     "output_type": "stream",
     "text": [
      "/opt/homebrew/Caskroom/miniforge/base/envs/obspy/lib/python3.11/site-packages/obspy/signal/cross_correlation.py:291: RuntimeWarning: invalid value encountered in sqrt\n",
      "  np.sqrt(norm, out=norm)\n"
     ]
    },
    {
     "name": "stdout",
     "output_type": "stream",
     "text": [
      "449 detections found.\n",
      "Processing A06, 2020-01-12-15-00-00...\n"
     ]
    },
    {
     "name": "stderr",
     "output_type": "stream",
     "text": [
      "/opt/homebrew/Caskroom/miniforge/base/envs/obspy/lib/python3.11/site-packages/obspy/signal/cross_correlation.py:291: RuntimeWarning: invalid value encountered in sqrt\n",
      "  np.sqrt(norm, out=norm)\n"
     ]
    },
    {
     "name": "stdout",
     "output_type": "stream",
     "text": [
      "384 detections found.\n",
      "Processing A06, 2020-01-12-16-00-00...\n"
     ]
    },
    {
     "name": "stderr",
     "output_type": "stream",
     "text": [
      "/opt/homebrew/Caskroom/miniforge/base/envs/obspy/lib/python3.11/site-packages/obspy/signal/cross_correlation.py:291: RuntimeWarning: invalid value encountered in sqrt\n",
      "  np.sqrt(norm, out=norm)\n"
     ]
    },
    {
     "name": "stdout",
     "output_type": "stream",
     "text": [
      "230 detections found.\n",
      "Processing A06, 2020-01-12-17-00-00...\n",
      "263 detections found.\n",
      "Processing A06, 2020-01-12-18-00-00...\n",
      "421 detections found.\n",
      "Processing A06, 2020-01-12-19-00-00...\n"
     ]
    },
    {
     "name": "stderr",
     "output_type": "stream",
     "text": [
      "/opt/homebrew/Caskroom/miniforge/base/envs/obspy/lib/python3.11/site-packages/obspy/signal/cross_correlation.py:291: RuntimeWarning: invalid value encountered in sqrt\n",
      "  np.sqrt(norm, out=norm)\n"
     ]
    },
    {
     "name": "stdout",
     "output_type": "stream",
     "text": [
      "515 detections found.\n",
      "Processing A06, 2020-01-12-20-00-00...\n"
     ]
    },
    {
     "name": "stderr",
     "output_type": "stream",
     "text": [
      "/opt/homebrew/Caskroom/miniforge/base/envs/obspy/lib/python3.11/site-packages/obspy/signal/cross_correlation.py:291: RuntimeWarning: invalid value encountered in sqrt\n",
      "  np.sqrt(norm, out=norm)\n"
     ]
    },
    {
     "name": "stdout",
     "output_type": "stream",
     "text": [
      "338 detections found.\n",
      "Processing A06, 2020-01-12-21-00-00...\n",
      "6 detections found.\n",
      "Processing A06, 2020-01-12-22-00-00...\n",
      "17 detections found.\n",
      "Processing A06, 2020-01-12-23-00-00...\n"
     ]
    },
    {
     "name": "stderr",
     "output_type": "stream",
     "text": [
      "/opt/homebrew/Caskroom/miniforge/base/envs/obspy/lib/python3.11/site-packages/obspy/signal/cross_correlation.py:291: RuntimeWarning: invalid value encountered in sqrt\n",
      "  np.sqrt(norm, out=norm)\n"
     ]
    },
    {
     "name": "stdout",
     "output_type": "stream",
     "text": [
      "No detections found.\n",
      "Processing A06, 2020-01-13-00-00-00...\n",
      "6 detections found.\n",
      "Processing A06, 2020-01-13-01-00-00...\n",
      "2 detections found.\n",
      "Processing A06, 2020-01-13-02-00-00...\n"
     ]
    },
    {
     "name": "stderr",
     "output_type": "stream",
     "text": [
      "/opt/homebrew/Caskroom/miniforge/base/envs/obspy/lib/python3.11/site-packages/obspy/signal/cross_correlation.py:291: RuntimeWarning: invalid value encountered in sqrt\n",
      "  np.sqrt(norm, out=norm)\n"
     ]
    },
    {
     "name": "stdout",
     "output_type": "stream",
     "text": [
      "2 detections found.\n",
      "Processing A06, 2020-01-13-03-00-00...\n",
      "No detections found.\n",
      "Processing A06, 2020-01-13-04-00-00...\n",
      "No detections found.\n",
      "Processing A06, 2020-01-13-05-00-00...\n"
     ]
    },
    {
     "name": "stderr",
     "output_type": "stream",
     "text": [
      "/opt/homebrew/Caskroom/miniforge/base/envs/obspy/lib/python3.11/site-packages/obspy/signal/cross_correlation.py:291: RuntimeWarning: invalid value encountered in sqrt\n",
      "  np.sqrt(norm, out=norm)\n"
     ]
    },
    {
     "name": "stdout",
     "output_type": "stream",
     "text": [
      "No detections found.\n",
      "Processing A06, 2020-01-13-06-00-00...\n",
      "No detections found.\n",
      "Processing A06, 2020-01-13-07-00-00...\n",
      "75 detections found.\n",
      "Processing A06, 2020-01-13-08-00-00...\n"
     ]
    },
    {
     "name": "stderr",
     "output_type": "stream",
     "text": [
      "/opt/homebrew/Caskroom/miniforge/base/envs/obspy/lib/python3.11/site-packages/obspy/signal/cross_correlation.py:291: RuntimeWarning: invalid value encountered in sqrt\n",
      "  np.sqrt(norm, out=norm)\n"
     ]
    },
    {
     "name": "stdout",
     "output_type": "stream",
     "text": [
      "160 detections found.\n",
      "Processing A06, 2020-01-13-09-00-00...\n"
     ]
    },
    {
     "name": "stderr",
     "output_type": "stream",
     "text": [
      "/opt/homebrew/Caskroom/miniforge/base/envs/obspy/lib/python3.11/site-packages/obspy/signal/cross_correlation.py:291: RuntimeWarning: invalid value encountered in sqrt\n",
      "  np.sqrt(norm, out=norm)\n"
     ]
    },
    {
     "name": "stdout",
     "output_type": "stream",
     "text": [
      "182 detections found.\n",
      "Processing A06, 2020-01-13-10-00-00...\n",
      "41 detections found.\n",
      "Processing A06, 2020-01-13-11-00-00...\n"
     ]
    },
    {
     "name": "stderr",
     "output_type": "stream",
     "text": [
      "/opt/homebrew/Caskroom/miniforge/base/envs/obspy/lib/python3.11/site-packages/obspy/signal/cross_correlation.py:291: RuntimeWarning: invalid value encountered in sqrt\n",
      "  np.sqrt(norm, out=norm)\n"
     ]
    },
    {
     "name": "stdout",
     "output_type": "stream",
     "text": [
      "34 detections found.\n",
      "Processing A06, 2020-01-13-12-00-00...\n",
      "66 detections found.\n",
      "Processing A06, 2020-01-13-13-00-00...\n"
     ]
    },
    {
     "name": "stderr",
     "output_type": "stream",
     "text": [
      "/opt/homebrew/Caskroom/miniforge/base/envs/obspy/lib/python3.11/site-packages/obspy/signal/cross_correlation.py:291: RuntimeWarning: invalid value encountered in sqrt\n",
      "  np.sqrt(norm, out=norm)\n"
     ]
    },
    {
     "name": "stdout",
     "output_type": "stream",
     "text": [
      "23 detections found.\n",
      "Processing A06, 2020-01-13-14-00-00...\n",
      "2 detections found.\n",
      "Processing A06, 2020-01-13-15-00-00...\n"
     ]
    },
    {
     "name": "stderr",
     "output_type": "stream",
     "text": [
      "/opt/homebrew/Caskroom/miniforge/base/envs/obspy/lib/python3.11/site-packages/obspy/signal/cross_correlation.py:291: RuntimeWarning: invalid value encountered in sqrt\n",
      "  np.sqrt(norm, out=norm)\n"
     ]
    },
    {
     "name": "stdout",
     "output_type": "stream",
     "text": [
      "No detections found.\n",
      "Processing A06, 2020-01-13-16-00-00...\n",
      "No detections found.\n",
      "Processing A06, 2020-01-13-17-00-00...\n",
      "1 detections found.\n",
      "Processing A06, 2020-01-13-18-00-00...\n"
     ]
    },
    {
     "name": "stderr",
     "output_type": "stream",
     "text": [
      "/opt/homebrew/Caskroom/miniforge/base/envs/obspy/lib/python3.11/site-packages/obspy/signal/cross_correlation.py:291: RuntimeWarning: invalid value encountered in sqrt\n",
      "  np.sqrt(norm, out=norm)\n"
     ]
    },
    {
     "name": "stdout",
     "output_type": "stream",
     "text": [
      "No detections found.\n",
      "Processing A06, 2020-01-13-19-00-00...\n",
      "1 detections found.\n",
      "Processing A06, 2020-01-13-20-00-00...\n",
      "No detections found.\n",
      "Processing A06, 2020-01-13-21-00-00...\n",
      "4 detections found.\n",
      "Processing A06, 2020-01-13-22-00-00...\n",
      "No detections found.\n",
      "Processing A06, 2020-01-13-23-00-00...\n",
      "1 detections found.\n",
      "Processing A06, 2020-01-14-00-00-00...\n"
     ]
    },
    {
     "name": "stderr",
     "output_type": "stream",
     "text": [
      "/opt/homebrew/Caskroom/miniforge/base/envs/obspy/lib/python3.11/site-packages/obspy/signal/cross_correlation.py:291: RuntimeWarning: invalid value encountered in sqrt\n",
      "  np.sqrt(norm, out=norm)\n"
     ]
    },
    {
     "name": "stdout",
     "output_type": "stream",
     "text": [
      "1 detections found.\n",
      "Processing A06, 2020-01-14-01-00-00...\n"
     ]
    },
    {
     "name": "stderr",
     "output_type": "stream",
     "text": [
      "/opt/homebrew/Caskroom/miniforge/base/envs/obspy/lib/python3.11/site-packages/obspy/signal/cross_correlation.py:291: RuntimeWarning: invalid value encountered in sqrt\n",
      "  np.sqrt(norm, out=norm)\n"
     ]
    },
    {
     "name": "stdout",
     "output_type": "stream",
     "text": [
      "No detections found.\n",
      "Processing A06, 2020-01-14-02-00-00...\n",
      "No detections found.\n",
      "Processing A06, 2020-01-14-03-00-00...\n",
      "No detections found.\n",
      "Processing A06, 2020-01-14-04-00-00...\n",
      "No detections found.\n",
      "Processing A06, 2020-01-14-05-00-00...\n",
      "2 detections found.\n",
      "Processing A06, 2020-01-14-06-00-00...\n"
     ]
    },
    {
     "name": "stderr",
     "output_type": "stream",
     "text": [
      "/opt/homebrew/Caskroom/miniforge/base/envs/obspy/lib/python3.11/site-packages/obspy/signal/cross_correlation.py:291: RuntimeWarning: invalid value encountered in sqrt\n",
      "  np.sqrt(norm, out=norm)\n"
     ]
    },
    {
     "name": "stdout",
     "output_type": "stream",
     "text": [
      "No detections found.\n",
      "Processing A06, 2020-01-14-07-00-00...\n",
      "1 detections found.\n",
      "Processing A06, 2020-01-14-08-00-00...\n",
      "2 detections found.\n",
      "Processing A06, 2020-01-14-09-00-00...\n"
     ]
    },
    {
     "name": "stderr",
     "output_type": "stream",
     "text": [
      "/opt/homebrew/Caskroom/miniforge/base/envs/obspy/lib/python3.11/site-packages/obspy/signal/cross_correlation.py:291: RuntimeWarning: invalid value encountered in sqrt\n",
      "  np.sqrt(norm, out=norm)\n"
     ]
    },
    {
     "name": "stdout",
     "output_type": "stream",
     "text": [
      "6 detections found.\n",
      "Processing A06, 2020-01-14-10-00-00...\n"
     ]
    },
    {
     "name": "stderr",
     "output_type": "stream",
     "text": [
      "/opt/homebrew/Caskroom/miniforge/base/envs/obspy/lib/python3.11/site-packages/obspy/signal/cross_correlation.py:291: RuntimeWarning: invalid value encountered in sqrt\n",
      "  np.sqrt(norm, out=norm)\n"
     ]
    },
    {
     "name": "stdout",
     "output_type": "stream",
     "text": [
      "2 detections found.\n",
      "Processing A06, 2020-01-14-11-00-00...\n",
      "No detections found.\n",
      "Processing A06, 2020-01-14-12-00-00...\n"
     ]
    },
    {
     "name": "stderr",
     "output_type": "stream",
     "text": [
      "/opt/homebrew/Caskroom/miniforge/base/envs/obspy/lib/python3.11/site-packages/obspy/signal/cross_correlation.py:291: RuntimeWarning: invalid value encountered in sqrt\n",
      "  np.sqrt(norm, out=norm)\n"
     ]
    },
    {
     "name": "stdout",
     "output_type": "stream",
     "text": [
      "No detections found.\n",
      "Processing A06, 2020-01-14-13-00-00...\n",
      "1 detections found.\n",
      "Processing A06, 2020-01-14-14-00-00...\n"
     ]
    },
    {
     "name": "stderr",
     "output_type": "stream",
     "text": [
      "/opt/homebrew/Caskroom/miniforge/base/envs/obspy/lib/python3.11/site-packages/obspy/signal/cross_correlation.py:291: RuntimeWarning: invalid value encountered in sqrt\n",
      "  np.sqrt(norm, out=norm)\n"
     ]
    },
    {
     "name": "stdout",
     "output_type": "stream",
     "text": [
      "No detections found.\n",
      "Processing A06, 2020-01-14-15-00-00...\n",
      "1 detections found.\n",
      "Processing A06, 2020-01-14-16-00-00...\n",
      "No detections found.\n",
      "Processing A06, 2020-01-14-17-00-00...\n"
     ]
    },
    {
     "name": "stderr",
     "output_type": "stream",
     "text": [
      "/opt/homebrew/Caskroom/miniforge/base/envs/obspy/lib/python3.11/site-packages/obspy/signal/cross_correlation.py:291: RuntimeWarning: invalid value encountered in sqrt\n",
      "  np.sqrt(norm, out=norm)\n"
     ]
    },
    {
     "name": "stdout",
     "output_type": "stream",
     "text": [
      "5 detections found.\n",
      "Processing A06, 2020-01-14-18-00-00...\n",
      "No detections found.\n",
      "Processing A06, 2020-01-14-19-00-00...\n",
      "1 detections found.\n",
      "Processing A06, 2020-01-14-20-00-00...\n",
      "No detections found.\n",
      "Processing A06, 2020-01-14-21-00-00...\n",
      "No detections found.\n",
      "Processing A06, 2020-01-14-22-00-00...\n"
     ]
    },
    {
     "name": "stderr",
     "output_type": "stream",
     "text": [
      "/opt/homebrew/Caskroom/miniforge/base/envs/obspy/lib/python3.11/site-packages/obspy/signal/cross_correlation.py:291: RuntimeWarning: invalid value encountered in sqrt\n",
      "  np.sqrt(norm, out=norm)\n"
     ]
    },
    {
     "name": "stdout",
     "output_type": "stream",
     "text": [
      "No detections found.\n",
      "Processing A06, 2020-01-14-23-00-00...\n",
      "No detections found.\n",
      "Processing A06, 2020-01-15-00-00-00...\n",
      "No detections found.\n",
      "Processing A06, 2020-01-15-01-00-00...\n",
      "No detections found.\n",
      "Processing A06, 2020-01-15-02-00-00...\n",
      "10 detections found.\n",
      "Processing A06, 2020-01-15-03-00-00...\n",
      "16 detections found.\n",
      "Processing A06, 2020-01-15-04-00-00...\n"
     ]
    },
    {
     "name": "stderr",
     "output_type": "stream",
     "text": [
      "/opt/homebrew/Caskroom/miniforge/base/envs/obspy/lib/python3.11/site-packages/obspy/signal/cross_correlation.py:291: RuntimeWarning: invalid value encountered in sqrt\n",
      "  np.sqrt(norm, out=norm)\n"
     ]
    },
    {
     "name": "stdout",
     "output_type": "stream",
     "text": [
      "155 detections found.\n",
      "Processing A06, 2020-01-15-05-00-00...\n"
     ]
    },
    {
     "name": "stderr",
     "output_type": "stream",
     "text": [
      "/opt/homebrew/Caskroom/miniforge/base/envs/obspy/lib/python3.11/site-packages/obspy/signal/cross_correlation.py:291: RuntimeWarning: invalid value encountered in sqrt\n",
      "  np.sqrt(norm, out=norm)\n"
     ]
    },
    {
     "name": "stdout",
     "output_type": "stream",
     "text": [
      "168 detections found.\n",
      "Processing A06, 2020-01-15-06-00-00...\n",
      "152 detections found.\n",
      "Processing A06, 2020-01-15-07-00-00...\n"
     ]
    },
    {
     "name": "stderr",
     "output_type": "stream",
     "text": [
      "/opt/homebrew/Caskroom/miniforge/base/envs/obspy/lib/python3.11/site-packages/obspy/signal/cross_correlation.py:291: RuntimeWarning: invalid value encountered in sqrt\n",
      "  np.sqrt(norm, out=norm)\n"
     ]
    },
    {
     "name": "stdout",
     "output_type": "stream",
     "text": [
      "158 detections found.\n",
      "Processing A06, 2020-01-15-08-00-00...\n"
     ]
    },
    {
     "name": "stderr",
     "output_type": "stream",
     "text": [
      "/opt/homebrew/Caskroom/miniforge/base/envs/obspy/lib/python3.11/site-packages/obspy/signal/cross_correlation.py:291: RuntimeWarning: invalid value encountered in sqrt\n",
      "  np.sqrt(norm, out=norm)\n"
     ]
    },
    {
     "name": "stdout",
     "output_type": "stream",
     "text": [
      "843 detections found.\n",
      "Processing A06, 2020-01-15-09-00-00...\n"
     ]
    },
    {
     "name": "stderr",
     "output_type": "stream",
     "text": [
      "/opt/homebrew/Caskroom/miniforge/base/envs/obspy/lib/python3.11/site-packages/obspy/signal/cross_correlation.py:291: RuntimeWarning: invalid value encountered in sqrt\n",
      "  np.sqrt(norm, out=norm)\n"
     ]
    },
    {
     "name": "stdout",
     "output_type": "stream",
     "text": [
      "532 detections found.\n",
      "Processing A06, 2020-01-15-10-00-00...\n"
     ]
    },
    {
     "name": "stderr",
     "output_type": "stream",
     "text": [
      "/opt/homebrew/Caskroom/miniforge/base/envs/obspy/lib/python3.11/site-packages/obspy/signal/cross_correlation.py:291: RuntimeWarning: invalid value encountered in sqrt\n",
      "  np.sqrt(norm, out=norm)\n"
     ]
    },
    {
     "name": "stdout",
     "output_type": "stream",
     "text": [
      "554 detections found.\n",
      "Processing A06, 2020-01-15-11-00-00...\n"
     ]
    },
    {
     "name": "stderr",
     "output_type": "stream",
     "text": [
      "/opt/homebrew/Caskroom/miniforge/base/envs/obspy/lib/python3.11/site-packages/obspy/signal/cross_correlation.py:291: RuntimeWarning: invalid value encountered in sqrt\n",
      "  np.sqrt(norm, out=norm)\n"
     ]
    },
    {
     "name": "stdout",
     "output_type": "stream",
     "text": [
      "264 detections found.\n",
      "Processing A06, 2020-01-15-12-00-00...\n"
     ]
    },
    {
     "name": "stderr",
     "output_type": "stream",
     "text": [
      "/opt/homebrew/Caskroom/miniforge/base/envs/obspy/lib/python3.11/site-packages/obspy/signal/cross_correlation.py:291: RuntimeWarning: invalid value encountered in sqrt\n",
      "  np.sqrt(norm, out=norm)\n"
     ]
    },
    {
     "name": "stdout",
     "output_type": "stream",
     "text": [
      "321 detections found.\n",
      "Processing A06, 2020-01-15-13-00-00...\n"
     ]
    },
    {
     "name": "stderr",
     "output_type": "stream",
     "text": [
      "/opt/homebrew/Caskroom/miniforge/base/envs/obspy/lib/python3.11/site-packages/obspy/signal/cross_correlation.py:291: RuntimeWarning: invalid value encountered in sqrt\n",
      "  np.sqrt(norm, out=norm)\n"
     ]
    },
    {
     "name": "stdout",
     "output_type": "stream",
     "text": [
      "233 detections found.\n",
      "Processing A06, 2020-01-15-14-00-00...\n"
     ]
    },
    {
     "name": "stderr",
     "output_type": "stream",
     "text": [
      "/opt/homebrew/Caskroom/miniforge/base/envs/obspy/lib/python3.11/site-packages/obspy/signal/cross_correlation.py:291: RuntimeWarning: invalid value encountered in sqrt\n",
      "  np.sqrt(norm, out=norm)\n"
     ]
    },
    {
     "name": "stdout",
     "output_type": "stream",
     "text": [
      "554 detections found.\n",
      "Processing A06, 2020-01-15-15-00-00...\n"
     ]
    },
    {
     "name": "stderr",
     "output_type": "stream",
     "text": [
      "/opt/homebrew/Caskroom/miniforge/base/envs/obspy/lib/python3.11/site-packages/obspy/signal/cross_correlation.py:291: RuntimeWarning: invalid value encountered in sqrt\n",
      "  np.sqrt(norm, out=norm)\n"
     ]
    },
    {
     "name": "stdout",
     "output_type": "stream",
     "text": [
      "237 detections found.\n",
      "Processing A06, 2020-01-15-16-00-00...\n"
     ]
    },
    {
     "name": "stderr",
     "output_type": "stream",
     "text": [
      "/opt/homebrew/Caskroom/miniforge/base/envs/obspy/lib/python3.11/site-packages/obspy/signal/cross_correlation.py:291: RuntimeWarning: invalid value encountered in sqrt\n",
      "  np.sqrt(norm, out=norm)\n"
     ]
    },
    {
     "name": "stdout",
     "output_type": "stream",
     "text": [
      "185 detections found.\n",
      "Processing A06, 2020-01-15-17-00-00...\n"
     ]
    },
    {
     "name": "stderr",
     "output_type": "stream",
     "text": [
      "/opt/homebrew/Caskroom/miniforge/base/envs/obspy/lib/python3.11/site-packages/obspy/signal/cross_correlation.py:291: RuntimeWarning: invalid value encountered in sqrt\n",
      "  np.sqrt(norm, out=norm)\n"
     ]
    },
    {
     "name": "stdout",
     "output_type": "stream",
     "text": [
      "320 detections found.\n",
      "Processing A06, 2020-01-15-18-00-00...\n"
     ]
    },
    {
     "name": "stderr",
     "output_type": "stream",
     "text": [
      "/opt/homebrew/Caskroom/miniforge/base/envs/obspy/lib/python3.11/site-packages/obspy/signal/cross_correlation.py:291: RuntimeWarning: invalid value encountered in sqrt\n",
      "  np.sqrt(norm, out=norm)\n"
     ]
    },
    {
     "name": "stdout",
     "output_type": "stream",
     "text": [
      "128 detections found.\n",
      "Processing A06, 2020-01-15-19-00-00...\n"
     ]
    },
    {
     "name": "stderr",
     "output_type": "stream",
     "text": [
      "/opt/homebrew/Caskroom/miniforge/base/envs/obspy/lib/python3.11/site-packages/obspy/signal/cross_correlation.py:291: RuntimeWarning: invalid value encountered in sqrt\n",
      "  np.sqrt(norm, out=norm)\n"
     ]
    },
    {
     "name": "stdout",
     "output_type": "stream",
     "text": [
      "163 detections found.\n",
      "Processing A06, 2020-01-15-20-00-00...\n"
     ]
    },
    {
     "name": "stderr",
     "output_type": "stream",
     "text": [
      "/opt/homebrew/Caskroom/miniforge/base/envs/obspy/lib/python3.11/site-packages/obspy/signal/cross_correlation.py:291: RuntimeWarning: invalid value encountered in sqrt\n",
      "  np.sqrt(norm, out=norm)\n"
     ]
    },
    {
     "name": "stdout",
     "output_type": "stream",
     "text": [
      "163 detections found.\n",
      "Processing A06, 2020-01-15-21-00-00...\n",
      "18 detections found.\n",
      "Processing A06, 2020-01-15-22-00-00...\n"
     ]
    },
    {
     "name": "stderr",
     "output_type": "stream",
     "text": [
      "/opt/homebrew/Caskroom/miniforge/base/envs/obspy/lib/python3.11/site-packages/obspy/signal/cross_correlation.py:291: RuntimeWarning: invalid value encountered in sqrt\n",
      "  np.sqrt(norm, out=norm)\n"
     ]
    },
    {
     "name": "stdout",
     "output_type": "stream",
     "text": [
      "21 detections found.\n",
      "Processing A06, 2020-01-15-23-00-00...\n",
      "32 detections found.\n",
      "Processing A06, 2020-01-16-00-00-00...\n"
     ]
    },
    {
     "name": "stderr",
     "output_type": "stream",
     "text": [
      "/opt/homebrew/Caskroom/miniforge/base/envs/obspy/lib/python3.11/site-packages/obspy/signal/cross_correlation.py:291: RuntimeWarning: invalid value encountered in sqrt\n",
      "  np.sqrt(norm, out=norm)\n"
     ]
    },
    {
     "name": "stdout",
     "output_type": "stream",
     "text": [
      "38 detections found.\n",
      "Processing A06, 2020-01-16-01-00-00...\n"
     ]
    },
    {
     "name": "stderr",
     "output_type": "stream",
     "text": [
      "/opt/homebrew/Caskroom/miniforge/base/envs/obspy/lib/python3.11/site-packages/obspy/signal/cross_correlation.py:291: RuntimeWarning: invalid value encountered in sqrt\n",
      "  np.sqrt(norm, out=norm)\n"
     ]
    },
    {
     "name": "stdout",
     "output_type": "stream",
     "text": [
      "8 detections found.\n",
      "Processing A06, 2020-01-16-02-00-00...\n"
     ]
    },
    {
     "name": "stderr",
     "output_type": "stream",
     "text": [
      "/opt/homebrew/Caskroom/miniforge/base/envs/obspy/lib/python3.11/site-packages/obspy/signal/cross_correlation.py:291: RuntimeWarning: invalid value encountered in sqrt\n",
      "  np.sqrt(norm, out=norm)\n"
     ]
    },
    {
     "name": "stdout",
     "output_type": "stream",
     "text": [
      "No detections found.\n",
      "Processing A06, 2020-01-16-03-00-00...\n",
      "2 detections found.\n",
      "Processing A06, 2020-01-16-04-00-00...\n"
     ]
    },
    {
     "name": "stderr",
     "output_type": "stream",
     "text": [
      "/opt/homebrew/Caskroom/miniforge/base/envs/obspy/lib/python3.11/site-packages/obspy/signal/cross_correlation.py:291: RuntimeWarning: invalid value encountered in sqrt\n",
      "  np.sqrt(norm, out=norm)\n"
     ]
    },
    {
     "name": "stdout",
     "output_type": "stream",
     "text": [
      "20 detections found.\n",
      "Processing A06, 2020-01-16-05-00-00...\n"
     ]
    },
    {
     "name": "stderr",
     "output_type": "stream",
     "text": [
      "/opt/homebrew/Caskroom/miniforge/base/envs/obspy/lib/python3.11/site-packages/obspy/signal/cross_correlation.py:291: RuntimeWarning: invalid value encountered in sqrt\n",
      "  np.sqrt(norm, out=norm)\n"
     ]
    },
    {
     "name": "stdout",
     "output_type": "stream",
     "text": [
      "76 detections found.\n",
      "Processing A06, 2020-01-16-06-00-00...\n",
      "93 detections found.\n",
      "Processing A06, 2020-01-16-07-00-00...\n"
     ]
    },
    {
     "name": "stderr",
     "output_type": "stream",
     "text": [
      "/opt/homebrew/Caskroom/miniforge/base/envs/obspy/lib/python3.11/site-packages/obspy/signal/cross_correlation.py:291: RuntimeWarning: invalid value encountered in sqrt\n",
      "  np.sqrt(norm, out=norm)\n"
     ]
    },
    {
     "name": "stdout",
     "output_type": "stream",
     "text": [
      "56 detections found.\n",
      "Processing A06, 2020-01-16-08-00-00...\n",
      "16 detections found.\n",
      "Processing A06, 2020-01-16-09-00-00...\n",
      "3 detections found.\n",
      "Processing A06, 2020-01-16-10-00-00...\n"
     ]
    },
    {
     "name": "stderr",
     "output_type": "stream",
     "text": [
      "/opt/homebrew/Caskroom/miniforge/base/envs/obspy/lib/python3.11/site-packages/obspy/signal/cross_correlation.py:291: RuntimeWarning: invalid value encountered in sqrt\n",
      "  np.sqrt(norm, out=norm)\n"
     ]
    },
    {
     "name": "stdout",
     "output_type": "stream",
     "text": [
      "9 detections found.\n",
      "Processing A06, 2020-01-16-11-00-00...\n",
      "11 detections found.\n",
      "Processing A06, 2020-01-16-12-00-00...\n",
      "13 detections found.\n",
      "Processing A06, 2020-01-16-13-00-00...\n",
      "17 detections found.\n",
      "Processing A06, 2020-01-16-14-00-00...\n"
     ]
    },
    {
     "name": "stderr",
     "output_type": "stream",
     "text": [
      "/opt/homebrew/Caskroom/miniforge/base/envs/obspy/lib/python3.11/site-packages/obspy/signal/cross_correlation.py:291: RuntimeWarning: invalid value encountered in sqrt\n",
      "  np.sqrt(norm, out=norm)\n"
     ]
    },
    {
     "name": "stdout",
     "output_type": "stream",
     "text": [
      "34 detections found.\n",
      "Processing A06, 2020-01-16-15-00-00...\n"
     ]
    },
    {
     "name": "stderr",
     "output_type": "stream",
     "text": [
      "/opt/homebrew/Caskroom/miniforge/base/envs/obspy/lib/python3.11/site-packages/obspy/signal/cross_correlation.py:291: RuntimeWarning: invalid value encountered in sqrt\n",
      "  np.sqrt(norm, out=norm)\n"
     ]
    },
    {
     "name": "stdout",
     "output_type": "stream",
     "text": [
      "90 detections found.\n",
      "Processing A06, 2020-01-16-16-00-00...\n",
      "144 detections found.\n",
      "Processing A06, 2020-01-16-17-00-00...\n"
     ]
    },
    {
     "name": "stderr",
     "output_type": "stream",
     "text": [
      "/opt/homebrew/Caskroom/miniforge/base/envs/obspy/lib/python3.11/site-packages/obspy/signal/cross_correlation.py:291: RuntimeWarning: invalid value encountered in sqrt\n",
      "  np.sqrt(norm, out=norm)\n"
     ]
    },
    {
     "name": "stdout",
     "output_type": "stream",
     "text": [
      "171 detections found.\n",
      "Processing A06, 2020-01-16-18-00-00...\n"
     ]
    },
    {
     "name": "stderr",
     "output_type": "stream",
     "text": [
      "/opt/homebrew/Caskroom/miniforge/base/envs/obspy/lib/python3.11/site-packages/obspy/signal/cross_correlation.py:291: RuntimeWarning: invalid value encountered in sqrt\n",
      "  np.sqrt(norm, out=norm)\n"
     ]
    },
    {
     "name": "stdout",
     "output_type": "stream",
     "text": [
      "123 detections found.\n",
      "Processing A06, 2020-01-16-19-00-00...\n"
     ]
    },
    {
     "name": "stderr",
     "output_type": "stream",
     "text": [
      "/opt/homebrew/Caskroom/miniforge/base/envs/obspy/lib/python3.11/site-packages/obspy/signal/cross_correlation.py:291: RuntimeWarning: invalid value encountered in sqrt\n",
      "  np.sqrt(norm, out=norm)\n"
     ]
    },
    {
     "name": "stdout",
     "output_type": "stream",
     "text": [
      "112 detections found.\n",
      "Processing A06, 2020-01-16-20-00-00...\n"
     ]
    },
    {
     "name": "stderr",
     "output_type": "stream",
     "text": [
      "/opt/homebrew/Caskroom/miniforge/base/envs/obspy/lib/python3.11/site-packages/obspy/signal/cross_correlation.py:291: RuntimeWarning: invalid value encountered in sqrt\n",
      "  np.sqrt(norm, out=norm)\n"
     ]
    },
    {
     "name": "stdout",
     "output_type": "stream",
     "text": [
      "206 detections found.\n",
      "Processing A06, 2020-01-16-21-00-00...\n"
     ]
    },
    {
     "name": "stderr",
     "output_type": "stream",
     "text": [
      "/opt/homebrew/Caskroom/miniforge/base/envs/obspy/lib/python3.11/site-packages/obspy/signal/cross_correlation.py:291: RuntimeWarning: invalid value encountered in sqrt\n",
      "  np.sqrt(norm, out=norm)\n"
     ]
    },
    {
     "name": "stdout",
     "output_type": "stream",
     "text": [
      "403 detections found.\n",
      "Processing A06, 2020-01-16-22-00-00...\n"
     ]
    },
    {
     "name": "stderr",
     "output_type": "stream",
     "text": [
      "/opt/homebrew/Caskroom/miniforge/base/envs/obspy/lib/python3.11/site-packages/obspy/signal/cross_correlation.py:291: RuntimeWarning: invalid value encountered in sqrt\n",
      "  np.sqrt(norm, out=norm)\n"
     ]
    },
    {
     "name": "stdout",
     "output_type": "stream",
     "text": [
      "204 detections found.\n",
      "Processing A06, 2020-01-16-23-00-00...\n"
     ]
    },
    {
     "name": "stderr",
     "output_type": "stream",
     "text": [
      "/opt/homebrew/Caskroom/miniforge/base/envs/obspy/lib/python3.11/site-packages/obspy/signal/cross_correlation.py:291: RuntimeWarning: invalid value encountered in sqrt\n",
      "  np.sqrt(norm, out=norm)\n"
     ]
    },
    {
     "name": "stdout",
     "output_type": "stream",
     "text": [
      "259 detections found.\n",
      "Processing A06, 2020-01-17-00-00-00...\n"
     ]
    },
    {
     "name": "stderr",
     "output_type": "stream",
     "text": [
      "/opt/homebrew/Caskroom/miniforge/base/envs/obspy/lib/python3.11/site-packages/obspy/signal/cross_correlation.py:291: RuntimeWarning: invalid value encountered in sqrt\n",
      "  np.sqrt(norm, out=norm)\n"
     ]
    },
    {
     "name": "stdout",
     "output_type": "stream",
     "text": [
      "180 detections found.\n",
      "Processing A06, 2020-01-17-01-00-00...\n"
     ]
    },
    {
     "name": "stderr",
     "output_type": "stream",
     "text": [
      "/opt/homebrew/Caskroom/miniforge/base/envs/obspy/lib/python3.11/site-packages/obspy/signal/cross_correlation.py:291: RuntimeWarning: invalid value encountered in sqrt\n",
      "  np.sqrt(norm, out=norm)\n"
     ]
    },
    {
     "name": "stdout",
     "output_type": "stream",
     "text": [
      "240 detections found.\n",
      "Processing A06, 2020-01-17-02-00-00...\n"
     ]
    },
    {
     "name": "stderr",
     "output_type": "stream",
     "text": [
      "/opt/homebrew/Caskroom/miniforge/base/envs/obspy/lib/python3.11/site-packages/obspy/signal/cross_correlation.py:291: RuntimeWarning: invalid value encountered in sqrt\n",
      "  np.sqrt(norm, out=norm)\n"
     ]
    },
    {
     "name": "stdout",
     "output_type": "stream",
     "text": [
      "14 detections found.\n",
      "Processing A06, 2020-01-17-03-00-00...\n"
     ]
    },
    {
     "name": "stderr",
     "output_type": "stream",
     "text": [
      "/opt/homebrew/Caskroom/miniforge/base/envs/obspy/lib/python3.11/site-packages/obspy/signal/cross_correlation.py:291: RuntimeWarning: invalid value encountered in sqrt\n",
      "  np.sqrt(norm, out=norm)\n"
     ]
    },
    {
     "name": "stdout",
     "output_type": "stream",
     "text": [
      "128 detections found.\n",
      "Processing A06, 2020-01-17-04-00-00...\n"
     ]
    },
    {
     "name": "stderr",
     "output_type": "stream",
     "text": [
      "/opt/homebrew/Caskroom/miniforge/base/envs/obspy/lib/python3.11/site-packages/obspy/signal/cross_correlation.py:291: RuntimeWarning: invalid value encountered in sqrt\n",
      "  np.sqrt(norm, out=norm)\n"
     ]
    },
    {
     "name": "stdout",
     "output_type": "stream",
     "text": [
      "9 detections found.\n",
      "Processing A06, 2020-01-17-05-00-00...\n"
     ]
    },
    {
     "name": "stderr",
     "output_type": "stream",
     "text": [
      "/opt/homebrew/Caskroom/miniforge/base/envs/obspy/lib/python3.11/site-packages/obspy/signal/cross_correlation.py:291: RuntimeWarning: invalid value encountered in sqrt\n",
      "  np.sqrt(norm, out=norm)\n"
     ]
    },
    {
     "name": "stdout",
     "output_type": "stream",
     "text": [
      "13 detections found.\n",
      "Processing A06, 2020-01-17-06-00-00...\n",
      "43 detections found.\n",
      "Processing A06, 2020-01-17-07-00-00...\n"
     ]
    },
    {
     "name": "stderr",
     "output_type": "stream",
     "text": [
      "/opt/homebrew/Caskroom/miniforge/base/envs/obspy/lib/python3.11/site-packages/obspy/signal/cross_correlation.py:291: RuntimeWarning: invalid value encountered in sqrt\n",
      "  np.sqrt(norm, out=norm)\n"
     ]
    },
    {
     "name": "stdout",
     "output_type": "stream",
     "text": [
      "12 detections found.\n",
      "Processing A06, 2020-01-17-08-00-00...\n"
     ]
    },
    {
     "name": "stderr",
     "output_type": "stream",
     "text": [
      "/opt/homebrew/Caskroom/miniforge/base/envs/obspy/lib/python3.11/site-packages/obspy/signal/cross_correlation.py:291: RuntimeWarning: invalid value encountered in sqrt\n",
      "  np.sqrt(norm, out=norm)\n"
     ]
    },
    {
     "name": "stdout",
     "output_type": "stream",
     "text": [
      "1 detections found.\n",
      "Processing A06, 2020-01-17-09-00-00...\n"
     ]
    },
    {
     "name": "stderr",
     "output_type": "stream",
     "text": [
      "/opt/homebrew/Caskroom/miniforge/base/envs/obspy/lib/python3.11/site-packages/obspy/signal/cross_correlation.py:291: RuntimeWarning: invalid value encountered in sqrt\n",
      "  np.sqrt(norm, out=norm)\n"
     ]
    },
    {
     "name": "stdout",
     "output_type": "stream",
     "text": [
      "No detections found.\n",
      "Processing A06, 2020-01-17-10-00-00...\n",
      "4 detections found.\n",
      "Processing A06, 2020-01-17-11-00-00...\n"
     ]
    },
    {
     "name": "stderr",
     "output_type": "stream",
     "text": [
      "/opt/homebrew/Caskroom/miniforge/base/envs/obspy/lib/python3.11/site-packages/obspy/signal/cross_correlation.py:291: RuntimeWarning: invalid value encountered in sqrt\n",
      "  np.sqrt(norm, out=norm)\n"
     ]
    },
    {
     "name": "stdout",
     "output_type": "stream",
     "text": [
      "31 detections found.\n",
      "Processing A06, 2020-01-17-12-00-00...\n"
     ]
    },
    {
     "name": "stderr",
     "output_type": "stream",
     "text": [
      "/opt/homebrew/Caskroom/miniforge/base/envs/obspy/lib/python3.11/site-packages/obspy/signal/cross_correlation.py:291: RuntimeWarning: invalid value encountered in sqrt\n",
      "  np.sqrt(norm, out=norm)\n"
     ]
    },
    {
     "name": "stdout",
     "output_type": "stream",
     "text": [
      "8 detections found.\n",
      "Processing A06, 2020-01-17-13-00-00...\n"
     ]
    },
    {
     "name": "stderr",
     "output_type": "stream",
     "text": [
      "/opt/homebrew/Caskroom/miniforge/base/envs/obspy/lib/python3.11/site-packages/obspy/signal/cross_correlation.py:291: RuntimeWarning: invalid value encountered in sqrt\n",
      "  np.sqrt(norm, out=norm)\n"
     ]
    },
    {
     "name": "stdout",
     "output_type": "stream",
     "text": [
      "4 detections found.\n",
      "Processing A06, 2020-01-17-14-00-00...\n"
     ]
    },
    {
     "name": "stderr",
     "output_type": "stream",
     "text": [
      "/opt/homebrew/Caskroom/miniforge/base/envs/obspy/lib/python3.11/site-packages/obspy/signal/cross_correlation.py:291: RuntimeWarning: invalid value encountered in sqrt\n",
      "  np.sqrt(norm, out=norm)\n"
     ]
    },
    {
     "name": "stdout",
     "output_type": "stream",
     "text": [
      "7 detections found.\n",
      "Processing A06, 2020-01-17-15-00-00...\n"
     ]
    },
    {
     "name": "stderr",
     "output_type": "stream",
     "text": [
      "/opt/homebrew/Caskroom/miniforge/base/envs/obspy/lib/python3.11/site-packages/obspy/signal/cross_correlation.py:291: RuntimeWarning: invalid value encountered in sqrt\n",
      "  np.sqrt(norm, out=norm)\n"
     ]
    },
    {
     "name": "stdout",
     "output_type": "stream",
     "text": [
      "10 detections found.\n",
      "Processing A06, 2020-01-17-16-00-00...\n"
     ]
    },
    {
     "name": "stderr",
     "output_type": "stream",
     "text": [
      "/opt/homebrew/Caskroom/miniforge/base/envs/obspy/lib/python3.11/site-packages/obspy/signal/cross_correlation.py:291: RuntimeWarning: invalid value encountered in sqrt\n",
      "  np.sqrt(norm, out=norm)\n"
     ]
    },
    {
     "name": "stdout",
     "output_type": "stream",
     "text": [
      "No detections found.\n",
      "Processing A06, 2020-01-17-17-00-00...\n",
      "3 detections found.\n",
      "Processing A06, 2020-01-17-18-00-00...\n"
     ]
    },
    {
     "name": "stderr",
     "output_type": "stream",
     "text": [
      "/opt/homebrew/Caskroom/miniforge/base/envs/obspy/lib/python3.11/site-packages/obspy/signal/cross_correlation.py:291: RuntimeWarning: invalid value encountered in sqrt\n",
      "  np.sqrt(norm, out=norm)\n"
     ]
    },
    {
     "name": "stdout",
     "output_type": "stream",
     "text": [
      "5 detections found.\n",
      "Processing A06, 2020-01-17-19-00-00...\n"
     ]
    },
    {
     "name": "stderr",
     "output_type": "stream",
     "text": [
      "/opt/homebrew/Caskroom/miniforge/base/envs/obspy/lib/python3.11/site-packages/obspy/signal/cross_correlation.py:291: RuntimeWarning: invalid value encountered in sqrt\n",
      "  np.sqrt(norm, out=norm)\n"
     ]
    },
    {
     "name": "stdout",
     "output_type": "stream",
     "text": [
      "No detections found.\n",
      "Processing A06, 2020-01-17-20-00-00...\n",
      "No detections found.\n",
      "Processing A06, 2020-01-17-21-00-00...\n",
      "No detections found.\n",
      "Processing A06, 2020-01-17-22-00-00...\n",
      "2 detections found.\n",
      "Processing A06, 2020-01-17-23-00-00...\n"
     ]
    },
    {
     "name": "stderr",
     "output_type": "stream",
     "text": [
      "/opt/homebrew/Caskroom/miniforge/base/envs/obspy/lib/python3.11/site-packages/obspy/signal/cross_correlation.py:291: RuntimeWarning: invalid value encountered in sqrt\n",
      "  np.sqrt(norm, out=norm)\n"
     ]
    },
    {
     "name": "stdout",
     "output_type": "stream",
     "text": [
      "1 detections found.\n",
      "Processing A06, 2020-01-18-00-00-00...\n"
     ]
    },
    {
     "name": "stderr",
     "output_type": "stream",
     "text": [
      "/opt/homebrew/Caskroom/miniforge/base/envs/obspy/lib/python3.11/site-packages/obspy/signal/cross_correlation.py:291: RuntimeWarning: invalid value encountered in sqrt\n",
      "  np.sqrt(norm, out=norm)\n"
     ]
    },
    {
     "name": "stdout",
     "output_type": "stream",
     "text": [
      "3 detections found.\n",
      "Processing A06, 2020-01-18-01-00-00...\n"
     ]
    },
    {
     "name": "stderr",
     "output_type": "stream",
     "text": [
      "/opt/homebrew/Caskroom/miniforge/base/envs/obspy/lib/python3.11/site-packages/obspy/signal/cross_correlation.py:291: RuntimeWarning: invalid value encountered in sqrt\n",
      "  np.sqrt(norm, out=norm)\n"
     ]
    },
    {
     "name": "stdout",
     "output_type": "stream",
     "text": [
      "15 detections found.\n",
      "Processing A06, 2020-01-18-02-00-00...\n",
      "1 detections found.\n",
      "Processing A06, 2020-01-18-03-00-00...\n",
      "No detections found.\n",
      "Processing A06, 2020-01-18-04-00-00...\n"
     ]
    },
    {
     "name": "stderr",
     "output_type": "stream",
     "text": [
      "/opt/homebrew/Caskroom/miniforge/base/envs/obspy/lib/python3.11/site-packages/obspy/signal/cross_correlation.py:291: RuntimeWarning: invalid value encountered in sqrt\n",
      "  np.sqrt(norm, out=norm)\n"
     ]
    },
    {
     "name": "stdout",
     "output_type": "stream",
     "text": [
      "13 detections found.\n",
      "Processing A06, 2020-01-18-05-00-00...\n"
     ]
    },
    {
     "name": "stderr",
     "output_type": "stream",
     "text": [
      "/opt/homebrew/Caskroom/miniforge/base/envs/obspy/lib/python3.11/site-packages/obspy/signal/cross_correlation.py:291: RuntimeWarning: invalid value encountered in sqrt\n",
      "  np.sqrt(norm, out=norm)\n"
     ]
    },
    {
     "name": "stdout",
     "output_type": "stream",
     "text": [
      "44 detections found.\n",
      "Processing A06, 2020-01-18-06-00-00...\n",
      "4 detections found.\n",
      "Processing A06, 2020-01-18-07-00-00...\n"
     ]
    },
    {
     "name": "stderr",
     "output_type": "stream",
     "text": [
      "/opt/homebrew/Caskroom/miniforge/base/envs/obspy/lib/python3.11/site-packages/obspy/signal/cross_correlation.py:291: RuntimeWarning: invalid value encountered in sqrt\n",
      "  np.sqrt(norm, out=norm)\n"
     ]
    },
    {
     "name": "stdout",
     "output_type": "stream",
     "text": [
      "1 detections found.\n",
      "Processing A06, 2020-01-18-08-00-00...\n"
     ]
    },
    {
     "name": "stderr",
     "output_type": "stream",
     "text": [
      "/opt/homebrew/Caskroom/miniforge/base/envs/obspy/lib/python3.11/site-packages/obspy/signal/cross_correlation.py:291: RuntimeWarning: invalid value encountered in sqrt\n",
      "  np.sqrt(norm, out=norm)\n"
     ]
    },
    {
     "name": "stdout",
     "output_type": "stream",
     "text": [
      "No detections found.\n",
      "Processing A06, 2020-01-18-09-00-00...\n",
      "No detections found.\n",
      "Processing A06, 2020-01-18-10-00-00...\n",
      "No detections found.\n",
      "Processing A06, 2020-01-18-11-00-00...\n",
      "No detections found.\n",
      "Processing A06, 2020-01-18-12-00-00...\n",
      "No detections found.\n",
      "Processing A06, 2020-01-18-13-00-00...\n",
      "No detections found.\n",
      "Processing A06, 2020-01-18-14-00-00...\n",
      "No detections found.\n",
      "Processing A06, 2020-01-18-15-00-00...\n",
      "No detections found.\n",
      "Processing A06, 2020-01-18-16-00-00...\n",
      "1 detections found.\n",
      "Processing A06, 2020-01-18-17-00-00...\n"
     ]
    },
    {
     "name": "stderr",
     "output_type": "stream",
     "text": [
      "/opt/homebrew/Caskroom/miniforge/base/envs/obspy/lib/python3.11/site-packages/obspy/signal/cross_correlation.py:291: RuntimeWarning: invalid value encountered in sqrt\n",
      "  np.sqrt(norm, out=norm)\n"
     ]
    },
    {
     "name": "stdout",
     "output_type": "stream",
     "text": [
      "4 detections found.\n",
      "Processing A06, 2020-01-18-18-00-00...\n"
     ]
    },
    {
     "name": "stderr",
     "output_type": "stream",
     "text": [
      "/opt/homebrew/Caskroom/miniforge/base/envs/obspy/lib/python3.11/site-packages/obspy/signal/cross_correlation.py:291: RuntimeWarning: invalid value encountered in sqrt\n",
      "  np.sqrt(norm, out=norm)\n"
     ]
    },
    {
     "name": "stdout",
     "output_type": "stream",
     "text": [
      "1 detections found.\n",
      "Processing A06, 2020-01-18-19-00-00...\n"
     ]
    },
    {
     "name": "stderr",
     "output_type": "stream",
     "text": [
      "/opt/homebrew/Caskroom/miniforge/base/envs/obspy/lib/python3.11/site-packages/obspy/signal/cross_correlation.py:291: RuntimeWarning: invalid value encountered in sqrt\n",
      "  np.sqrt(norm, out=norm)\n"
     ]
    },
    {
     "name": "stdout",
     "output_type": "stream",
     "text": [
      "6 detections found.\n",
      "Processing A06, 2020-01-18-20-00-00...\n",
      "1 detections found.\n",
      "Processing A06, 2020-01-18-21-00-00...\n",
      "1 detections found.\n",
      "Processing A06, 2020-01-18-22-00-00...\n"
     ]
    },
    {
     "name": "stderr",
     "output_type": "stream",
     "text": [
      "/opt/homebrew/Caskroom/miniforge/base/envs/obspy/lib/python3.11/site-packages/obspy/signal/cross_correlation.py:291: RuntimeWarning: invalid value encountered in sqrt\n",
      "  np.sqrt(norm, out=norm)\n"
     ]
    },
    {
     "name": "stdout",
     "output_type": "stream",
     "text": [
      "2 detections found.\n",
      "Processing A06, 2020-01-18-23-00-00...\n",
      "No detections found.\n",
      "Processing A06, 2020-01-19-00-00-00...\n"
     ]
    },
    {
     "name": "stderr",
     "output_type": "stream",
     "text": [
      "/opt/homebrew/Caskroom/miniforge/base/envs/obspy/lib/python3.11/site-packages/obspy/signal/cross_correlation.py:291: RuntimeWarning: invalid value encountered in sqrt\n",
      "  np.sqrt(norm, out=norm)\n"
     ]
    },
    {
     "name": "stdout",
     "output_type": "stream",
     "text": [
      "2 detections found.\n",
      "Processing A06, 2020-01-19-01-00-00...\n"
     ]
    },
    {
     "name": "stderr",
     "output_type": "stream",
     "text": [
      "/opt/homebrew/Caskroom/miniforge/base/envs/obspy/lib/python3.11/site-packages/obspy/signal/cross_correlation.py:291: RuntimeWarning: invalid value encountered in sqrt\n",
      "  np.sqrt(norm, out=norm)\n"
     ]
    },
    {
     "name": "stdout",
     "output_type": "stream",
     "text": [
      "3 detections found.\n",
      "Processing A06, 2020-01-19-02-00-00...\n"
     ]
    },
    {
     "name": "stderr",
     "output_type": "stream",
     "text": [
      "/opt/homebrew/Caskroom/miniforge/base/envs/obspy/lib/python3.11/site-packages/obspy/signal/cross_correlation.py:291: RuntimeWarning: invalid value encountered in sqrt\n",
      "  np.sqrt(norm, out=norm)\n"
     ]
    },
    {
     "name": "stdout",
     "output_type": "stream",
     "text": [
      "1 detections found.\n",
      "Processing A06, 2020-01-19-03-00-00...\n",
      "No detections found.\n",
      "Processing A06, 2020-01-19-04-00-00...\n",
      "2 detections found.\n",
      "Processing A06, 2020-01-19-05-00-00...\n",
      "No detections found.\n",
      "Processing A06, 2020-01-19-06-00-00...\n",
      "6 detections found.\n",
      "Processing A06, 2020-01-19-07-00-00...\n",
      "7 detections found.\n",
      "Processing A06, 2020-01-19-08-00-00...\n",
      "No detections found.\n",
      "Processing A06, 2020-01-19-09-00-00...\n"
     ]
    },
    {
     "name": "stderr",
     "output_type": "stream",
     "text": [
      "/opt/homebrew/Caskroom/miniforge/base/envs/obspy/lib/python3.11/site-packages/obspy/signal/cross_correlation.py:291: RuntimeWarning: invalid value encountered in sqrt\n",
      "  np.sqrt(norm, out=norm)\n"
     ]
    },
    {
     "name": "stdout",
     "output_type": "stream",
     "text": [
      "2 detections found.\n",
      "Processing A06, 2020-01-19-10-00-00...\n"
     ]
    },
    {
     "name": "stderr",
     "output_type": "stream",
     "text": [
      "/opt/homebrew/Caskroom/miniforge/base/envs/obspy/lib/python3.11/site-packages/obspy/signal/cross_correlation.py:291: RuntimeWarning: invalid value encountered in sqrt\n",
      "  np.sqrt(norm, out=norm)\n"
     ]
    },
    {
     "name": "stdout",
     "output_type": "stream",
     "text": [
      "No detections found.\n",
      "Processing A06, 2020-01-19-11-00-00...\n",
      "2 detections found.\n",
      "Processing A06, 2020-01-19-12-00-00...\n",
      "No detections found.\n",
      "Processing A06, 2020-01-19-13-00-00...\n",
      "No detections found.\n",
      "Processing A06, 2020-01-19-14-00-00...\n",
      "No detections found.\n",
      "Processing A06, 2020-01-19-15-00-00...\n"
     ]
    },
    {
     "name": "stderr",
     "output_type": "stream",
     "text": [
      "/opt/homebrew/Caskroom/miniforge/base/envs/obspy/lib/python3.11/site-packages/obspy/signal/cross_correlation.py:291: RuntimeWarning: invalid value encountered in sqrt\n",
      "  np.sqrt(norm, out=norm)\n"
     ]
    },
    {
     "name": "stdout",
     "output_type": "stream",
     "text": [
      "No detections found.\n",
      "Processing A06, 2020-01-19-16-00-00...\n",
      "No detections found.\n",
      "Processing A06, 2020-01-19-17-00-00...\n",
      "2 detections found.\n",
      "Processing A06, 2020-01-19-18-00-00...\n",
      "No detections found.\n",
      "Processing A06, 2020-01-19-19-00-00...\n",
      "No detections found.\n",
      "Processing A06, 2020-01-19-20-00-00...\n",
      "1 detections found.\n",
      "Processing A06, 2020-01-19-21-00-00...\n",
      "No detections found.\n",
      "Processing A06, 2020-01-19-22-00-00...\n"
     ]
    },
    {
     "name": "stderr",
     "output_type": "stream",
     "text": [
      "/opt/homebrew/Caskroom/miniforge/base/envs/obspy/lib/python3.11/site-packages/obspy/signal/cross_correlation.py:291: RuntimeWarning: invalid value encountered in sqrt\n",
      "  np.sqrt(norm, out=norm)\n"
     ]
    },
    {
     "name": "stdout",
     "output_type": "stream",
     "text": [
      "2 detections found.\n",
      "Processing A06, 2020-01-19-23-00-00...\n",
      "No detections found.\n",
      "Processing A06, 2020-01-20-00-00-00...\n"
     ]
    },
    {
     "name": "stderr",
     "output_type": "stream",
     "text": [
      "/opt/homebrew/Caskroom/miniforge/base/envs/obspy/lib/python3.11/site-packages/obspy/signal/cross_correlation.py:291: RuntimeWarning: invalid value encountered in sqrt\n",
      "  np.sqrt(norm, out=norm)\n"
     ]
    },
    {
     "name": "stdout",
     "output_type": "stream",
     "text": [
      "No detections found.\n",
      "Processing A06, 2020-01-20-01-00-00...\n",
      "No detections found.\n",
      "Processing A06, 2020-01-20-02-00-00...\n",
      "1 detections found.\n",
      "Processing A06, 2020-01-20-03-00-00...\n",
      "No detections found.\n",
      "Processing A06, 2020-01-20-04-00-00...\n"
     ]
    },
    {
     "name": "stderr",
     "output_type": "stream",
     "text": [
      "/opt/homebrew/Caskroom/miniforge/base/envs/obspy/lib/python3.11/site-packages/obspy/signal/cross_correlation.py:291: RuntimeWarning: invalid value encountered in sqrt\n",
      "  np.sqrt(norm, out=norm)\n"
     ]
    },
    {
     "name": "stdout",
     "output_type": "stream",
     "text": [
      "No detections found.\n",
      "Processing A06, 2020-01-20-05-00-00...\n",
      "1 detections found.\n",
      "Processing A06, 2020-01-20-06-00-00...\n"
     ]
    },
    {
     "name": "stderr",
     "output_type": "stream",
     "text": [
      "/opt/homebrew/Caskroom/miniforge/base/envs/obspy/lib/python3.11/site-packages/obspy/signal/cross_correlation.py:291: RuntimeWarning: invalid value encountered in sqrt\n",
      "  np.sqrt(norm, out=norm)\n"
     ]
    },
    {
     "name": "stdout",
     "output_type": "stream",
     "text": [
      "No detections found.\n",
      "Processing A06, 2020-01-20-07-00-00...\n",
      "No detections found.\n",
      "Processing A06, 2020-01-20-08-00-00...\n",
      "No detections found.\n",
      "Processing A06, 2020-01-20-09-00-00...\n",
      "No detections found.\n",
      "Processing A06, 2020-01-20-10-00-00...\n",
      "1 detections found.\n",
      "Processing A06, 2020-01-20-11-00-00...\n"
     ]
    },
    {
     "name": "stderr",
     "output_type": "stream",
     "text": [
      "/opt/homebrew/Caskroom/miniforge/base/envs/obspy/lib/python3.11/site-packages/obspy/signal/cross_correlation.py:291: RuntimeWarning: invalid value encountered in sqrt\n",
      "  np.sqrt(norm, out=norm)\n"
     ]
    },
    {
     "name": "stdout",
     "output_type": "stream",
     "text": [
      "No detections found.\n",
      "Processing A06, 2020-01-20-12-00-00...\n",
      "No detections found.\n",
      "Processing A06, 2020-01-20-13-00-00...\n",
      "No detections found.\n",
      "Processing A06, 2020-01-20-14-00-00...\n",
      "No detections found.\n",
      "Processing A06, 2020-01-20-15-00-00...\n",
      "No detections found.\n",
      "Processing A06, 2020-01-20-16-00-00...\n",
      "No detections found.\n",
      "Processing A06, 2020-01-20-17-00-00...\n",
      "No detections found.\n",
      "Processing A06, 2020-01-20-18-00-00...\n",
      "No detections found.\n",
      "Processing A06, 2020-01-20-19-00-00...\n",
      "1 detections found.\n",
      "Processing A06, 2020-01-20-20-00-00...\n"
     ]
    },
    {
     "name": "stderr",
     "output_type": "stream",
     "text": [
      "/opt/homebrew/Caskroom/miniforge/base/envs/obspy/lib/python3.11/site-packages/obspy/signal/cross_correlation.py:291: RuntimeWarning: invalid value encountered in sqrt\n",
      "  np.sqrt(norm, out=norm)\n"
     ]
    },
    {
     "name": "stdout",
     "output_type": "stream",
     "text": [
      "2 detections found.\n",
      "Processing A06, 2020-01-20-21-00-00...\n",
      "No detections found.\n",
      "Processing A06, 2020-01-20-22-00-00...\n"
     ]
    },
    {
     "name": "stderr",
     "output_type": "stream",
     "text": [
      "/opt/homebrew/Caskroom/miniforge/base/envs/obspy/lib/python3.11/site-packages/obspy/signal/cross_correlation.py:291: RuntimeWarning: invalid value encountered in sqrt\n",
      "  np.sqrt(norm, out=norm)\n"
     ]
    },
    {
     "name": "stdout",
     "output_type": "stream",
     "text": [
      "1 detections found.\n",
      "Processing A06, 2020-01-20-23-00-00...\n",
      "1 detections found.\n",
      "Processing A06, 2020-01-21-00-00-00...\n",
      "1 detections found.\n",
      "Processing A06, 2020-01-21-01-00-00...\n"
     ]
    },
    {
     "name": "stderr",
     "output_type": "stream",
     "text": [
      "/opt/homebrew/Caskroom/miniforge/base/envs/obspy/lib/python3.11/site-packages/obspy/signal/cross_correlation.py:291: RuntimeWarning: invalid value encountered in sqrt\n",
      "  np.sqrt(norm, out=norm)\n"
     ]
    },
    {
     "name": "stdout",
     "output_type": "stream",
     "text": [
      "1 detections found.\n",
      "Processing A06, 2020-01-21-02-00-00...\n"
     ]
    },
    {
     "name": "stderr",
     "output_type": "stream",
     "text": [
      "/opt/homebrew/Caskroom/miniforge/base/envs/obspy/lib/python3.11/site-packages/obspy/signal/cross_correlation.py:291: RuntimeWarning: invalid value encountered in sqrt\n",
      "  np.sqrt(norm, out=norm)\n"
     ]
    },
    {
     "name": "stdout",
     "output_type": "stream",
     "text": [
      "No detections found.\n",
      "Processing A06, 2020-01-21-03-00-00...\n",
      "No detections found.\n",
      "Processing A06, 2020-01-21-04-00-00...\n",
      "No detections found.\n",
      "Processing A06, 2020-01-21-05-00-00...\n",
      "1 detections found.\n",
      "Processing A06, 2020-01-21-06-00-00...\n",
      "No detections found.\n",
      "Processing A06, 2020-01-21-07-00-00...\n"
     ]
    },
    {
     "name": "stderr",
     "output_type": "stream",
     "text": [
      "/opt/homebrew/Caskroom/miniforge/base/envs/obspy/lib/python3.11/site-packages/obspy/signal/cross_correlation.py:291: RuntimeWarning: invalid value encountered in sqrt\n",
      "  np.sqrt(norm, out=norm)\n"
     ]
    },
    {
     "name": "stdout",
     "output_type": "stream",
     "text": [
      "No detections found.\n",
      "Processing A06, 2020-01-21-08-00-00...\n",
      "1 detections found.\n",
      "Processing A06, 2020-01-21-09-00-00...\n"
     ]
    },
    {
     "name": "stderr",
     "output_type": "stream",
     "text": [
      "/opt/homebrew/Caskroom/miniforge/base/envs/obspy/lib/python3.11/site-packages/obspy/signal/cross_correlation.py:291: RuntimeWarning: invalid value encountered in sqrt\n",
      "  np.sqrt(norm, out=norm)\n"
     ]
    },
    {
     "name": "stdout",
     "output_type": "stream",
     "text": [
      "No detections found.\n",
      "Processing A06, 2020-01-21-10-00-00...\n",
      "No detections found.\n",
      "Processing A06, 2020-01-21-11-00-00...\n",
      "No detections found.\n",
      "Processing A06, 2020-01-21-12-00-00...\n",
      "1 detections found.\n",
      "Processing A06, 2020-01-21-13-00-00...\n",
      "No detections found.\n",
      "Processing A06, 2020-01-21-14-00-00...\n"
     ]
    },
    {
     "name": "stderr",
     "output_type": "stream",
     "text": [
      "/opt/homebrew/Caskroom/miniforge/base/envs/obspy/lib/python3.11/site-packages/obspy/signal/cross_correlation.py:291: RuntimeWarning: invalid value encountered in sqrt\n",
      "  np.sqrt(norm, out=norm)\n"
     ]
    },
    {
     "name": "stdout",
     "output_type": "stream",
     "text": [
      "No detections found.\n",
      "Processing A06, 2020-01-21-15-00-00...\n",
      "No detections found.\n",
      "Processing A06, 2020-01-21-16-00-00...\n",
      "No detections found.\n",
      "Processing A06, 2020-01-21-17-00-00...\n",
      "1 detections found.\n",
      "Processing A06, 2020-01-21-18-00-00...\n"
     ]
    },
    {
     "name": "stderr",
     "output_type": "stream",
     "text": [
      "/opt/homebrew/Caskroom/miniforge/base/envs/obspy/lib/python3.11/site-packages/obspy/signal/cross_correlation.py:291: RuntimeWarning: invalid value encountered in sqrt\n",
      "  np.sqrt(norm, out=norm)\n"
     ]
    },
    {
     "name": "stdout",
     "output_type": "stream",
     "text": [
      "2 detections found.\n",
      "Processing A06, 2020-01-21-19-00-00...\n"
     ]
    },
    {
     "name": "stderr",
     "output_type": "stream",
     "text": [
      "/opt/homebrew/Caskroom/miniforge/base/envs/obspy/lib/python3.11/site-packages/obspy/signal/cross_correlation.py:291: RuntimeWarning: invalid value encountered in sqrt\n",
      "  np.sqrt(norm, out=norm)\n"
     ]
    },
    {
     "name": "stdout",
     "output_type": "stream",
     "text": [
      "1 detections found.\n",
      "Processing A06, 2020-01-21-20-00-00...\n",
      "No detections found.\n",
      "Processing A06, 2020-01-21-21-00-00...\n"
     ]
    },
    {
     "name": "stderr",
     "output_type": "stream",
     "text": [
      "/opt/homebrew/Caskroom/miniforge/base/envs/obspy/lib/python3.11/site-packages/obspy/signal/cross_correlation.py:291: RuntimeWarning: invalid value encountered in sqrt\n",
      "  np.sqrt(norm, out=norm)\n"
     ]
    },
    {
     "name": "stdout",
     "output_type": "stream",
     "text": [
      "No detections found.\n",
      "Processing A06, 2020-01-21-22-00-00...\n",
      "3 detections found.\n",
      "Processing A06, 2020-01-21-23-00-00...\n"
     ]
    },
    {
     "name": "stderr",
     "output_type": "stream",
     "text": [
      "/opt/homebrew/Caskroom/miniforge/base/envs/obspy/lib/python3.11/site-packages/obspy/signal/cross_correlation.py:291: RuntimeWarning: invalid value encountered in sqrt\n",
      "  np.sqrt(norm, out=norm)\n"
     ]
    },
    {
     "name": "stdout",
     "output_type": "stream",
     "text": [
      "1 detections found.\n",
      "Processing A06, 2020-01-22-00-00-00...\n"
     ]
    },
    {
     "name": "stderr",
     "output_type": "stream",
     "text": [
      "/opt/homebrew/Caskroom/miniforge/base/envs/obspy/lib/python3.11/site-packages/obspy/signal/cross_correlation.py:291: RuntimeWarning: invalid value encountered in sqrt\n",
      "  np.sqrt(norm, out=norm)\n"
     ]
    },
    {
     "name": "stdout",
     "output_type": "stream",
     "text": [
      "1 detections found.\n",
      "Processing A06, 2020-01-22-01-00-00...\n"
     ]
    },
    {
     "name": "stderr",
     "output_type": "stream",
     "text": [
      "/opt/homebrew/Caskroom/miniforge/base/envs/obspy/lib/python3.11/site-packages/obspy/signal/cross_correlation.py:291: RuntimeWarning: invalid value encountered in sqrt\n",
      "  np.sqrt(norm, out=norm)\n"
     ]
    },
    {
     "name": "stdout",
     "output_type": "stream",
     "text": [
      "No detections found.\n",
      "Processing A06, 2020-01-22-02-00-00...\n",
      "No detections found.\n",
      "Processing A06, 2020-01-22-03-00-00...\n",
      "5 detections found.\n",
      "Processing A06, 2020-01-22-04-00-00...\n",
      "No detections found.\n",
      "Processing A06, 2020-01-22-05-00-00...\n",
      "No detections found.\n",
      "Processing A06, 2020-01-22-06-00-00...\n",
      "No detections found.\n",
      "Processing A06, 2020-01-22-07-00-00...\n",
      "No detections found.\n",
      "Processing A06, 2020-01-22-08-00-00...\n"
     ]
    },
    {
     "name": "stderr",
     "output_type": "stream",
     "text": [
      "/opt/homebrew/Caskroom/miniforge/base/envs/obspy/lib/python3.11/site-packages/obspy/signal/cross_correlation.py:291: RuntimeWarning: invalid value encountered in sqrt\n",
      "  np.sqrt(norm, out=norm)\n"
     ]
    },
    {
     "name": "stdout",
     "output_type": "stream",
     "text": [
      "No detections found.\n",
      "Processing A06, 2020-01-22-09-00-00...\n",
      "No detections found.\n",
      "Processing A06, 2020-01-22-10-00-00...\n",
      "1 detections found.\n",
      "Processing A06, 2020-01-22-11-00-00...\n"
     ]
    },
    {
     "name": "stderr",
     "output_type": "stream",
     "text": [
      "/opt/homebrew/Caskroom/miniforge/base/envs/obspy/lib/python3.11/site-packages/obspy/signal/cross_correlation.py:291: RuntimeWarning: invalid value encountered in sqrt\n",
      "  np.sqrt(norm, out=norm)\n"
     ]
    },
    {
     "name": "stdout",
     "output_type": "stream",
     "text": [
      "No detections found.\n",
      "Processing A06, 2020-01-22-12-00-00...\n",
      "No detections found.\n",
      "Processing A06, 2020-01-22-13-00-00...\n",
      "No detections found.\n",
      "Processing A06, 2020-01-22-14-00-00...\n",
      "No detections found.\n",
      "Processing A06, 2020-01-22-15-00-00...\n",
      "1 detections found.\n",
      "Processing A06, 2020-01-22-16-00-00...\n",
      "No detections found.\n",
      "Processing A06, 2020-01-22-17-00-00...\n"
     ]
    },
    {
     "name": "stderr",
     "output_type": "stream",
     "text": [
      "/opt/homebrew/Caskroom/miniforge/base/envs/obspy/lib/python3.11/site-packages/obspy/signal/cross_correlation.py:291: RuntimeWarning: invalid value encountered in sqrt\n",
      "  np.sqrt(norm, out=norm)\n"
     ]
    },
    {
     "name": "stdout",
     "output_type": "stream",
     "text": [
      "No detections found.\n",
      "Processing A06, 2020-01-22-18-00-00...\n",
      "2 detections found.\n",
      "Processing A06, 2020-01-22-19-00-00...\n"
     ]
    },
    {
     "name": "stderr",
     "output_type": "stream",
     "text": [
      "/opt/homebrew/Caskroom/miniforge/base/envs/obspy/lib/python3.11/site-packages/obspy/signal/cross_correlation.py:291: RuntimeWarning: invalid value encountered in sqrt\n",
      "  np.sqrt(norm, out=norm)\n"
     ]
    },
    {
     "name": "stdout",
     "output_type": "stream",
     "text": [
      "1 detections found.\n",
      "Processing A06, 2020-01-22-20-00-00...\n",
      "No detections found.\n",
      "Processing A06, 2020-01-22-21-00-00...\n"
     ]
    },
    {
     "name": "stderr",
     "output_type": "stream",
     "text": [
      "/opt/homebrew/Caskroom/miniforge/base/envs/obspy/lib/python3.11/site-packages/obspy/signal/cross_correlation.py:291: RuntimeWarning: invalid value encountered in sqrt\n",
      "  np.sqrt(norm, out=norm)\n"
     ]
    },
    {
     "name": "stdout",
     "output_type": "stream",
     "text": [
      "No detections found.\n",
      "Processing A06, 2020-01-22-22-00-00...\n",
      "No detections found.\n",
      "Processing A06, 2020-01-22-23-00-00...\n",
      "No detections found.\n",
      "Processing A06, 2020-01-23-00-00-00...\n",
      "1 detections found.\n",
      "Processing A06, 2020-01-23-01-00-00...\n"
     ]
    },
    {
     "name": "stderr",
     "output_type": "stream",
     "text": [
      "/opt/homebrew/Caskroom/miniforge/base/envs/obspy/lib/python3.11/site-packages/obspy/signal/cross_correlation.py:291: RuntimeWarning: invalid value encountered in sqrt\n",
      "  np.sqrt(norm, out=norm)\n"
     ]
    },
    {
     "name": "stdout",
     "output_type": "stream",
     "text": [
      "No detections found.\n",
      "Processing A06, 2020-01-23-02-00-00...\n",
      "No detections found.\n",
      "Processing A06, 2020-01-23-03-00-00...\n",
      "1 detections found.\n",
      "Processing A06, 2020-01-23-04-00-00...\n"
     ]
    },
    {
     "name": "stderr",
     "output_type": "stream",
     "text": [
      "/opt/homebrew/Caskroom/miniforge/base/envs/obspy/lib/python3.11/site-packages/obspy/signal/cross_correlation.py:291: RuntimeWarning: invalid value encountered in sqrt\n",
      "  np.sqrt(norm, out=norm)\n"
     ]
    },
    {
     "name": "stdout",
     "output_type": "stream",
     "text": [
      "No detections found.\n",
      "Processing A06, 2020-01-23-05-00-00...\n",
      "1 detections found.\n",
      "Processing A06, 2020-01-23-06-00-00...\n"
     ]
    },
    {
     "name": "stderr",
     "output_type": "stream",
     "text": [
      "/opt/homebrew/Caskroom/miniforge/base/envs/obspy/lib/python3.11/site-packages/obspy/signal/cross_correlation.py:291: RuntimeWarning: invalid value encountered in sqrt\n",
      "  np.sqrt(norm, out=norm)\n"
     ]
    },
    {
     "name": "stdout",
     "output_type": "stream",
     "text": [
      "No detections found.\n",
      "Processing A06, 2020-01-23-07-00-00...\n",
      "1 detections found.\n",
      "Processing A06, 2020-01-23-08-00-00...\n"
     ]
    },
    {
     "name": "stderr",
     "output_type": "stream",
     "text": [
      "/opt/homebrew/Caskroom/miniforge/base/envs/obspy/lib/python3.11/site-packages/obspy/signal/cross_correlation.py:291: RuntimeWarning: invalid value encountered in sqrt\n",
      "  np.sqrt(norm, out=norm)\n"
     ]
    },
    {
     "name": "stdout",
     "output_type": "stream",
     "text": [
      "No detections found.\n",
      "Processing A06, 2020-01-23-09-00-00...\n",
      "No detections found.\n",
      "Processing A06, 2020-01-23-10-00-00...\n",
      "No detections found.\n",
      "Processing A06, 2020-01-23-11-00-00...\n",
      "No detections found.\n",
      "Processing A06, 2020-01-23-12-00-00...\n",
      "No detections found.\n",
      "Processing A06, 2020-01-23-13-00-00...\n",
      "1 detections found.\n",
      "Processing A06, 2020-01-23-14-00-00...\n",
      "No detections found.\n",
      "Processing A06, 2020-01-23-15-00-00...\n"
     ]
    },
    {
     "name": "stderr",
     "output_type": "stream",
     "text": [
      "/opt/homebrew/Caskroom/miniforge/base/envs/obspy/lib/python3.11/site-packages/obspy/signal/cross_correlation.py:291: RuntimeWarning: invalid value encountered in sqrt\n",
      "  np.sqrt(norm, out=norm)\n"
     ]
    },
    {
     "name": "stdout",
     "output_type": "stream",
     "text": [
      "1 detections found.\n",
      "Processing A06, 2020-01-23-16-00-00...\n",
      "No detections found.\n",
      "Processing A06, 2020-01-23-17-00-00...\n"
     ]
    },
    {
     "name": "stderr",
     "output_type": "stream",
     "text": [
      "/opt/homebrew/Caskroom/miniforge/base/envs/obspy/lib/python3.11/site-packages/obspy/signal/cross_correlation.py:291: RuntimeWarning: invalid value encountered in sqrt\n",
      "  np.sqrt(norm, out=norm)\n"
     ]
    },
    {
     "name": "stdout",
     "output_type": "stream",
     "text": [
      "1 detections found.\n",
      "Processing A06, 2020-01-23-18-00-00...\n",
      "No detections found.\n",
      "Processing A06, 2020-01-23-19-00-00...\n"
     ]
    },
    {
     "name": "stderr",
     "output_type": "stream",
     "text": [
      "/opt/homebrew/Caskroom/miniforge/base/envs/obspy/lib/python3.11/site-packages/obspy/signal/cross_correlation.py:291: RuntimeWarning: invalid value encountered in sqrt\n",
      "  np.sqrt(norm, out=norm)\n"
     ]
    },
    {
     "name": "stdout",
     "output_type": "stream",
     "text": [
      "No detections found.\n",
      "Processing A06, 2020-01-23-20-00-00...\n",
      "No detections found.\n",
      "Processing A06, 2020-01-23-21-00-00...\n",
      "No detections found.\n",
      "Processing A06, 2020-01-23-22-00-00...\n",
      "No detections found.\n",
      "Processing A06, 2020-01-23-23-00-00...\n",
      "No detections found.\n",
      "Processing A06, 2020-01-24-00-00-00...\n",
      "No detections found.\n",
      "Processing A06, 2020-01-24-01-00-00...\n",
      "No detections found.\n",
      "Processing A06, 2020-01-24-02-00-00...\n",
      "No detections found.\n",
      "Processing A06, 2020-01-24-03-00-00...\n",
      "No detections found.\n",
      "Processing A06, 2020-01-24-04-00-00...\n",
      "No detections found.\n",
      "Processing A06, 2020-01-24-05-00-00...\n",
      "No detections found.\n",
      "Processing A06, 2020-01-24-06-00-00...\n",
      "1 detections found.\n",
      "Processing A06, 2020-01-24-07-00-00...\n"
     ]
    },
    {
     "name": "stderr",
     "output_type": "stream",
     "text": [
      "/opt/homebrew/Caskroom/miniforge/base/envs/obspy/lib/python3.11/site-packages/obspy/signal/cross_correlation.py:291: RuntimeWarning: invalid value encountered in sqrt\n",
      "  np.sqrt(norm, out=norm)\n"
     ]
    },
    {
     "name": "stdout",
     "output_type": "stream",
     "text": [
      "No detections found.\n",
      "Processing A06, 2020-01-24-08-00-00...\n",
      "2 detections found.\n",
      "Processing A06, 2020-01-24-09-00-00...\n",
      "No detections found.\n",
      "Processing A06, 2020-01-24-10-00-00...\n"
     ]
    },
    {
     "name": "stderr",
     "output_type": "stream",
     "text": [
      "/opt/homebrew/Caskroom/miniforge/base/envs/obspy/lib/python3.11/site-packages/obspy/signal/cross_correlation.py:291: RuntimeWarning: invalid value encountered in sqrt\n",
      "  np.sqrt(norm, out=norm)\n"
     ]
    },
    {
     "name": "stdout",
     "output_type": "stream",
     "text": [
      "No detections found.\n",
      "Processing A06, 2020-01-24-11-00-00...\n",
      "1 detections found.\n",
      "Processing A06, 2020-01-24-12-00-00...\n"
     ]
    },
    {
     "name": "stderr",
     "output_type": "stream",
     "text": [
      "/opt/homebrew/Caskroom/miniforge/base/envs/obspy/lib/python3.11/site-packages/obspy/signal/cross_correlation.py:291: RuntimeWarning: invalid value encountered in sqrt\n",
      "  np.sqrt(norm, out=norm)\n"
     ]
    },
    {
     "name": "stdout",
     "output_type": "stream",
     "text": [
      "1 detections found.\n",
      "Processing A06, 2020-01-24-13-00-00...\n"
     ]
    },
    {
     "name": "stderr",
     "output_type": "stream",
     "text": [
      "/opt/homebrew/Caskroom/miniforge/base/envs/obspy/lib/python3.11/site-packages/obspy/signal/cross_correlation.py:291: RuntimeWarning: invalid value encountered in sqrt\n",
      "  np.sqrt(norm, out=norm)\n"
     ]
    },
    {
     "name": "stdout",
     "output_type": "stream",
     "text": [
      "No detections found.\n",
      "Processing A06, 2020-01-24-14-00-00...\n",
      "No detections found.\n",
      "Processing A06, 2020-01-24-15-00-00...\n",
      "1 detections found.\n",
      "Processing A06, 2020-01-24-16-00-00...\n"
     ]
    },
    {
     "name": "stderr",
     "output_type": "stream",
     "text": [
      "/opt/homebrew/Caskroom/miniforge/base/envs/obspy/lib/python3.11/site-packages/obspy/signal/cross_correlation.py:291: RuntimeWarning: invalid value encountered in sqrt\n",
      "  np.sqrt(norm, out=norm)\n"
     ]
    },
    {
     "name": "stdout",
     "output_type": "stream",
     "text": [
      "No detections found.\n",
      "Processing A06, 2020-01-24-17-00-00...\n",
      "1 detections found.\n",
      "Processing A06, 2020-01-24-18-00-00...\n",
      "No detections found.\n",
      "Processing A06, 2020-01-24-19-00-00...\n"
     ]
    },
    {
     "name": "stderr",
     "output_type": "stream",
     "text": [
      "/opt/homebrew/Caskroom/miniforge/base/envs/obspy/lib/python3.11/site-packages/obspy/signal/cross_correlation.py:291: RuntimeWarning: invalid value encountered in sqrt\n",
      "  np.sqrt(norm, out=norm)\n"
     ]
    },
    {
     "name": "stdout",
     "output_type": "stream",
     "text": [
      "1 detections found.\n",
      "Processing A06, 2020-01-24-20-00-00...\n"
     ]
    },
    {
     "name": "stderr",
     "output_type": "stream",
     "text": [
      "/opt/homebrew/Caskroom/miniforge/base/envs/obspy/lib/python3.11/site-packages/obspy/signal/cross_correlation.py:291: RuntimeWarning: invalid value encountered in sqrt\n",
      "  np.sqrt(norm, out=norm)\n"
     ]
    },
    {
     "name": "stdout",
     "output_type": "stream",
     "text": [
      "No detections found.\n",
      "Processing A06, 2020-01-24-21-00-00...\n",
      "No detections found.\n",
      "Processing A06, 2020-01-24-22-00-00...\n",
      "No detections found.\n",
      "Processing A06, 2020-01-24-23-00-00...\n",
      "No detections found.\n",
      "Processing A06, 2020-01-25-00-00-00...\n",
      "No detections found.\n",
      "Processing A06, 2020-01-25-01-00-00...\n",
      "8 detections found.\n",
      "Processing A06, 2020-01-25-02-00-00...\n",
      "No detections found.\n",
      "Processing A06, 2020-01-25-03-00-00...\n"
     ]
    },
    {
     "name": "stderr",
     "output_type": "stream",
     "text": [
      "/opt/homebrew/Caskroom/miniforge/base/envs/obspy/lib/python3.11/site-packages/obspy/signal/cross_correlation.py:291: RuntimeWarning: invalid value encountered in sqrt\n",
      "  np.sqrt(norm, out=norm)\n"
     ]
    },
    {
     "name": "stdout",
     "output_type": "stream",
     "text": [
      "No detections found.\n",
      "Processing A06, 2020-01-25-04-00-00...\n",
      "No detections found.\n",
      "Processing A06, 2020-01-25-05-00-00...\n",
      "No detections found.\n",
      "Processing A06, 2020-01-25-06-00-00...\n",
      "No detections found.\n",
      "Processing A06, 2020-01-25-07-00-00...\n",
      "4 detections found.\n",
      "Processing A06, 2020-01-25-08-00-00...\n"
     ]
    },
    {
     "name": "stderr",
     "output_type": "stream",
     "text": [
      "/opt/homebrew/Caskroom/miniforge/base/envs/obspy/lib/python3.11/site-packages/obspy/signal/cross_correlation.py:291: RuntimeWarning: invalid value encountered in sqrt\n",
      "  np.sqrt(norm, out=norm)\n"
     ]
    },
    {
     "name": "stdout",
     "output_type": "stream",
     "text": [
      "5 detections found.\n",
      "Processing A06, 2020-01-25-09-00-00...\n"
     ]
    },
    {
     "name": "stderr",
     "output_type": "stream",
     "text": [
      "/opt/homebrew/Caskroom/miniforge/base/envs/obspy/lib/python3.11/site-packages/obspy/signal/cross_correlation.py:291: RuntimeWarning: invalid value encountered in sqrt\n",
      "  np.sqrt(norm, out=norm)\n"
     ]
    },
    {
     "name": "stdout",
     "output_type": "stream",
     "text": [
      "1 detections found.\n",
      "Processing A06, 2020-01-25-10-00-00...\n"
     ]
    },
    {
     "name": "stderr",
     "output_type": "stream",
     "text": [
      "/opt/homebrew/Caskroom/miniforge/base/envs/obspy/lib/python3.11/site-packages/obspy/signal/cross_correlation.py:291: RuntimeWarning: invalid value encountered in sqrt\n",
      "  np.sqrt(norm, out=norm)\n"
     ]
    },
    {
     "name": "stdout",
     "output_type": "stream",
     "text": [
      "6 detections found.\n",
      "Processing A06, 2020-01-25-11-00-00...\n"
     ]
    },
    {
     "name": "stderr",
     "output_type": "stream",
     "text": [
      "/opt/homebrew/Caskroom/miniforge/base/envs/obspy/lib/python3.11/site-packages/obspy/signal/cross_correlation.py:291: RuntimeWarning: invalid value encountered in sqrt\n",
      "  np.sqrt(norm, out=norm)\n"
     ]
    },
    {
     "name": "stdout",
     "output_type": "stream",
     "text": [
      "2 detections found.\n",
      "Processing A06, 2020-01-25-12-00-00...\n"
     ]
    },
    {
     "name": "stderr",
     "output_type": "stream",
     "text": [
      "/opt/homebrew/Caskroom/miniforge/base/envs/obspy/lib/python3.11/site-packages/obspy/signal/cross_correlation.py:291: RuntimeWarning: invalid value encountered in sqrt\n",
      "  np.sqrt(norm, out=norm)\n"
     ]
    },
    {
     "name": "stdout",
     "output_type": "stream",
     "text": [
      "1 detections found.\n",
      "Processing A06, 2020-01-25-13-00-00...\n"
     ]
    },
    {
     "name": "stderr",
     "output_type": "stream",
     "text": [
      "/opt/homebrew/Caskroom/miniforge/base/envs/obspy/lib/python3.11/site-packages/obspy/signal/cross_correlation.py:291: RuntimeWarning: invalid value encountered in sqrt\n",
      "  np.sqrt(norm, out=norm)\n"
     ]
    },
    {
     "name": "stdout",
     "output_type": "stream",
     "text": [
      "4 detections found.\n",
      "Processing A06, 2020-01-25-14-00-00...\n"
     ]
    },
    {
     "name": "stderr",
     "output_type": "stream",
     "text": [
      "/opt/homebrew/Caskroom/miniforge/base/envs/obspy/lib/python3.11/site-packages/obspy/signal/cross_correlation.py:291: RuntimeWarning: invalid value encountered in sqrt\n",
      "  np.sqrt(norm, out=norm)\n"
     ]
    },
    {
     "name": "stdout",
     "output_type": "stream",
     "text": [
      "No detections found.\n",
      "Processing A06, 2020-01-25-15-00-00...\n",
      "No detections found.\n",
      "Processing A06, 2020-01-25-16-00-00...\n",
      "No detections found.\n",
      "Processing A06, 2020-01-25-17-00-00...\n",
      "No detections found.\n",
      "Processing A06, 2020-01-25-18-00-00...\n",
      "No detections found.\n",
      "Processing A06, 2020-01-25-19-00-00...\n",
      "No detections found.\n",
      "Processing A06, 2020-01-25-20-00-00...\n",
      "No detections found.\n",
      "Processing A06, 2020-01-25-21-00-00...\n",
      "2 detections found.\n",
      "Processing A06, 2020-01-25-22-00-00...\n"
     ]
    },
    {
     "name": "stderr",
     "output_type": "stream",
     "text": [
      "/opt/homebrew/Caskroom/miniforge/base/envs/obspy/lib/python3.11/site-packages/obspy/signal/cross_correlation.py:291: RuntimeWarning: invalid value encountered in sqrt\n",
      "  np.sqrt(norm, out=norm)\n"
     ]
    },
    {
     "name": "stdout",
     "output_type": "stream",
     "text": [
      "1 detections found.\n",
      "Processing A06, 2020-01-25-23-00-00...\n"
     ]
    },
    {
     "name": "stderr",
     "output_type": "stream",
     "text": [
      "/opt/homebrew/Caskroom/miniforge/base/envs/obspy/lib/python3.11/site-packages/obspy/signal/cross_correlation.py:291: RuntimeWarning: invalid value encountered in sqrt\n",
      "  np.sqrt(norm, out=norm)\n"
     ]
    },
    {
     "name": "stdout",
     "output_type": "stream",
     "text": [
      "No detections found.\n",
      "Processing A06, 2020-01-26-00-00-00...\n",
      "No detections found.\n",
      "Processing A06, 2020-01-26-01-00-00...\n",
      "No detections found.\n",
      "Processing A06, 2020-01-26-02-00-00...\n",
      "No detections found.\n",
      "Processing A06, 2020-01-26-03-00-00...\n",
      "No detections found.\n",
      "Processing A06, 2020-01-26-04-00-00...\n",
      "No detections found.\n",
      "Processing A06, 2020-01-26-05-00-00...\n",
      "1 detections found.\n",
      "Processing A06, 2020-01-26-06-00-00...\n"
     ]
    },
    {
     "name": "stderr",
     "output_type": "stream",
     "text": [
      "/opt/homebrew/Caskroom/miniforge/base/envs/obspy/lib/python3.11/site-packages/obspy/signal/cross_correlation.py:291: RuntimeWarning: invalid value encountered in sqrt\n",
      "  np.sqrt(norm, out=norm)\n"
     ]
    },
    {
     "name": "stdout",
     "output_type": "stream",
     "text": [
      "No detections found.\n",
      "Processing A06, 2020-01-26-07-00-00...\n",
      "No detections found.\n",
      "Processing A06, 2020-01-26-08-00-00...\n",
      "No detections found.\n",
      "Processing A06, 2020-01-26-09-00-00...\n",
      "No detections found.\n",
      "Processing A06, 2020-01-26-10-00-00...\n",
      "No detections found.\n",
      "Processing A06, 2020-01-26-11-00-00...\n",
      "No detections found.\n",
      "Processing A06, 2020-01-26-12-00-00...\n",
      "1 detections found.\n",
      "Processing A06, 2020-01-26-13-00-00...\n"
     ]
    },
    {
     "name": "stderr",
     "output_type": "stream",
     "text": [
      "/opt/homebrew/Caskroom/miniforge/base/envs/obspy/lib/python3.11/site-packages/obspy/signal/cross_correlation.py:291: RuntimeWarning: invalid value encountered in sqrt\n",
      "  np.sqrt(norm, out=norm)\n"
     ]
    },
    {
     "name": "stdout",
     "output_type": "stream",
     "text": [
      "No detections found.\n",
      "Processing A06, 2020-01-26-14-00-00...\n",
      "2 detections found.\n",
      "Processing A06, 2020-01-26-15-00-00...\n"
     ]
    },
    {
     "name": "stderr",
     "output_type": "stream",
     "text": [
      "/opt/homebrew/Caskroom/miniforge/base/envs/obspy/lib/python3.11/site-packages/obspy/signal/cross_correlation.py:291: RuntimeWarning: invalid value encountered in sqrt\n",
      "  np.sqrt(norm, out=norm)\n"
     ]
    },
    {
     "name": "stdout",
     "output_type": "stream",
     "text": [
      "1 detections found.\n",
      "Processing A06, 2020-01-26-16-00-00...\n",
      "1 detections found.\n",
      "Processing A06, 2020-01-26-17-00-00...\n",
      "1 detections found.\n",
      "Processing A06, 2020-01-26-18-00-00...\n"
     ]
    },
    {
     "name": "stderr",
     "output_type": "stream",
     "text": [
      "/opt/homebrew/Caskroom/miniforge/base/envs/obspy/lib/python3.11/site-packages/obspy/signal/cross_correlation.py:291: RuntimeWarning: invalid value encountered in sqrt\n",
      "  np.sqrt(norm, out=norm)\n"
     ]
    },
    {
     "name": "stdout",
     "output_type": "stream",
     "text": [
      "1 detections found.\n",
      "Processing A06, 2020-01-26-19-00-00...\n",
      "4 detections found.\n",
      "Processing A06, 2020-01-26-20-00-00...\n"
     ]
    },
    {
     "name": "stderr",
     "output_type": "stream",
     "text": [
      "/opt/homebrew/Caskroom/miniforge/base/envs/obspy/lib/python3.11/site-packages/obspy/signal/cross_correlation.py:291: RuntimeWarning: invalid value encountered in sqrt\n",
      "  np.sqrt(norm, out=norm)\n"
     ]
    },
    {
     "name": "stdout",
     "output_type": "stream",
     "text": [
      "62 detections found.\n",
      "Processing A06, 2020-01-26-21-00-00...\n"
     ]
    },
    {
     "name": "stderr",
     "output_type": "stream",
     "text": [
      "/opt/homebrew/Caskroom/miniforge/base/envs/obspy/lib/python3.11/site-packages/obspy/signal/cross_correlation.py:291: RuntimeWarning: invalid value encountered in sqrt\n",
      "  np.sqrt(norm, out=norm)\n"
     ]
    },
    {
     "name": "stdout",
     "output_type": "stream",
     "text": [
      "373 detections found.\n",
      "Processing A06, 2020-01-26-22-00-00...\n"
     ]
    },
    {
     "name": "stderr",
     "output_type": "stream",
     "text": [
      "/opt/homebrew/Caskroom/miniforge/base/envs/obspy/lib/python3.11/site-packages/obspy/signal/cross_correlation.py:291: RuntimeWarning: invalid value encountered in sqrt\n",
      "  np.sqrt(norm, out=norm)\n"
     ]
    },
    {
     "name": "stdout",
     "output_type": "stream",
     "text": [
      "876 detections found.\n",
      "Processing A06, 2020-01-26-23-00-00...\n"
     ]
    },
    {
     "name": "stderr",
     "output_type": "stream",
     "text": [
      "/opt/homebrew/Caskroom/miniforge/base/envs/obspy/lib/python3.11/site-packages/obspy/signal/cross_correlation.py:291: RuntimeWarning: invalid value encountered in sqrt\n",
      "  np.sqrt(norm, out=norm)\n"
     ]
    },
    {
     "name": "stdout",
     "output_type": "stream",
     "text": [
      "1336 detections found.\n",
      "Processing A06, 2020-01-27-00-00-00...\n"
     ]
    },
    {
     "name": "stderr",
     "output_type": "stream",
     "text": [
      "/opt/homebrew/Caskroom/miniforge/base/envs/obspy/lib/python3.11/site-packages/obspy/signal/cross_correlation.py:291: RuntimeWarning: invalid value encountered in sqrt\n",
      "  np.sqrt(norm, out=norm)\n"
     ]
    },
    {
     "name": "stdout",
     "output_type": "stream",
     "text": [
      "1055 detections found.\n",
      "Processing A06, 2020-01-27-01-00-00...\n"
     ]
    },
    {
     "name": "stderr",
     "output_type": "stream",
     "text": [
      "/opt/homebrew/Caskroom/miniforge/base/envs/obspy/lib/python3.11/site-packages/obspy/signal/cross_correlation.py:291: RuntimeWarning: invalid value encountered in sqrt\n",
      "  np.sqrt(norm, out=norm)\n"
     ]
    },
    {
     "name": "stdout",
     "output_type": "stream",
     "text": [
      "279 detections found.\n",
      "Processing A06, 2020-01-27-02-00-00...\n"
     ]
    },
    {
     "name": "stderr",
     "output_type": "stream",
     "text": [
      "/opt/homebrew/Caskroom/miniforge/base/envs/obspy/lib/python3.11/site-packages/obspy/signal/cross_correlation.py:291: RuntimeWarning: invalid value encountered in sqrt\n",
      "  np.sqrt(norm, out=norm)\n"
     ]
    },
    {
     "name": "stdout",
     "output_type": "stream",
     "text": [
      "10 detections found.\n",
      "Processing A06, 2020-01-27-03-00-00...\n"
     ]
    },
    {
     "name": "stderr",
     "output_type": "stream",
     "text": [
      "/opt/homebrew/Caskroom/miniforge/base/envs/obspy/lib/python3.11/site-packages/obspy/signal/cross_correlation.py:291: RuntimeWarning: invalid value encountered in sqrt\n",
      "  np.sqrt(norm, out=norm)\n"
     ]
    },
    {
     "name": "stdout",
     "output_type": "stream",
     "text": [
      "6 detections found.\n",
      "Processing A06, 2020-01-27-04-00-00...\n",
      "1 detections found.\n",
      "Processing A06, 2020-01-27-05-00-00...\n"
     ]
    },
    {
     "name": "stderr",
     "output_type": "stream",
     "text": [
      "/opt/homebrew/Caskroom/miniforge/base/envs/obspy/lib/python3.11/site-packages/obspy/signal/cross_correlation.py:291: RuntimeWarning: invalid value encountered in sqrt\n",
      "  np.sqrt(norm, out=norm)\n"
     ]
    },
    {
     "name": "stdout",
     "output_type": "stream",
     "text": [
      "20 detections found.\n",
      "Processing A06, 2020-01-27-06-00-00...\n"
     ]
    },
    {
     "name": "stderr",
     "output_type": "stream",
     "text": [
      "/opt/homebrew/Caskroom/miniforge/base/envs/obspy/lib/python3.11/site-packages/obspy/signal/cross_correlation.py:291: RuntimeWarning: invalid value encountered in sqrt\n",
      "  np.sqrt(norm, out=norm)\n"
     ]
    },
    {
     "name": "stdout",
     "output_type": "stream",
     "text": [
      "238 detections found.\n",
      "Processing A06, 2020-01-27-07-00-00...\n",
      "142 detections found.\n",
      "Processing A06, 2020-01-27-08-00-00...\n"
     ]
    },
    {
     "name": "stderr",
     "output_type": "stream",
     "text": [
      "/opt/homebrew/Caskroom/miniforge/base/envs/obspy/lib/python3.11/site-packages/obspy/signal/cross_correlation.py:291: RuntimeWarning: invalid value encountered in sqrt\n",
      "  np.sqrt(norm, out=norm)\n"
     ]
    },
    {
     "name": "stdout",
     "output_type": "stream",
     "text": [
      "253 detections found.\n",
      "Processing A06, 2020-01-27-09-00-00...\n"
     ]
    },
    {
     "name": "stderr",
     "output_type": "stream",
     "text": [
      "/opt/homebrew/Caskroom/miniforge/base/envs/obspy/lib/python3.11/site-packages/obspy/signal/cross_correlation.py:291: RuntimeWarning: invalid value encountered in sqrt\n",
      "  np.sqrt(norm, out=norm)\n"
     ]
    },
    {
     "name": "stdout",
     "output_type": "stream",
     "text": [
      "336 detections found.\n",
      "Processing A06, 2020-01-27-10-00-00...\n"
     ]
    },
    {
     "name": "stderr",
     "output_type": "stream",
     "text": [
      "/opt/homebrew/Caskroom/miniforge/base/envs/obspy/lib/python3.11/site-packages/obspy/signal/cross_correlation.py:291: RuntimeWarning: invalid value encountered in sqrt\n",
      "  np.sqrt(norm, out=norm)\n"
     ]
    },
    {
     "name": "stdout",
     "output_type": "stream",
     "text": [
      "370 detections found.\n",
      "Processing A06, 2020-01-27-11-00-00...\n"
     ]
    },
    {
     "name": "stderr",
     "output_type": "stream",
     "text": [
      "/opt/homebrew/Caskroom/miniforge/base/envs/obspy/lib/python3.11/site-packages/obspy/signal/cross_correlation.py:291: RuntimeWarning: invalid value encountered in sqrt\n",
      "  np.sqrt(norm, out=norm)\n"
     ]
    },
    {
     "name": "stdout",
     "output_type": "stream",
     "text": [
      "360 detections found.\n",
      "Processing A06, 2020-01-27-12-00-00...\n"
     ]
    },
    {
     "name": "stderr",
     "output_type": "stream",
     "text": [
      "/opt/homebrew/Caskroom/miniforge/base/envs/obspy/lib/python3.11/site-packages/obspy/signal/cross_correlation.py:291: RuntimeWarning: invalid value encountered in sqrt\n",
      "  np.sqrt(norm, out=norm)\n"
     ]
    },
    {
     "name": "stdout",
     "output_type": "stream",
     "text": [
      "389 detections found.\n",
      "Processing A06, 2020-01-27-13-00-00...\n",
      "286 detections found.\n",
      "Processing A06, 2020-01-27-14-00-00...\n"
     ]
    },
    {
     "name": "stderr",
     "output_type": "stream",
     "text": [
      "/opt/homebrew/Caskroom/miniforge/base/envs/obspy/lib/python3.11/site-packages/obspy/signal/cross_correlation.py:291: RuntimeWarning: invalid value encountered in sqrt\n",
      "  np.sqrt(norm, out=norm)\n"
     ]
    },
    {
     "name": "stdout",
     "output_type": "stream",
     "text": [
      "74 detections found.\n",
      "Processing A06, 2020-01-27-15-00-00...\n"
     ]
    },
    {
     "name": "stderr",
     "output_type": "stream",
     "text": [
      "/opt/homebrew/Caskroom/miniforge/base/envs/obspy/lib/python3.11/site-packages/obspy/signal/cross_correlation.py:291: RuntimeWarning: invalid value encountered in sqrt\n",
      "  np.sqrt(norm, out=norm)\n"
     ]
    },
    {
     "name": "stdout",
     "output_type": "stream",
     "text": [
      "25 detections found.\n",
      "Processing A06, 2020-01-27-16-00-00...\n"
     ]
    },
    {
     "name": "stderr",
     "output_type": "stream",
     "text": [
      "/opt/homebrew/Caskroom/miniforge/base/envs/obspy/lib/python3.11/site-packages/obspy/signal/cross_correlation.py:291: RuntimeWarning: invalid value encountered in sqrt\n",
      "  np.sqrt(norm, out=norm)\n"
     ]
    },
    {
     "name": "stdout",
     "output_type": "stream",
     "text": [
      "120 detections found.\n",
      "Processing A06, 2020-01-27-17-00-00...\n"
     ]
    },
    {
     "name": "stderr",
     "output_type": "stream",
     "text": [
      "/opt/homebrew/Caskroom/miniforge/base/envs/obspy/lib/python3.11/site-packages/obspy/signal/cross_correlation.py:291: RuntimeWarning: invalid value encountered in sqrt\n",
      "  np.sqrt(norm, out=norm)\n"
     ]
    },
    {
     "name": "stdout",
     "output_type": "stream",
     "text": [
      "1144 detections found.\n",
      "Processing A06, 2020-01-27-18-00-00...\n"
     ]
    },
    {
     "name": "stderr",
     "output_type": "stream",
     "text": [
      "/opt/homebrew/Caskroom/miniforge/base/envs/obspy/lib/python3.11/site-packages/obspy/signal/cross_correlation.py:291: RuntimeWarning: invalid value encountered in sqrt\n",
      "  np.sqrt(norm, out=norm)\n"
     ]
    },
    {
     "name": "stdout",
     "output_type": "stream",
     "text": [
      "540 detections found.\n",
      "Processing A06, 2020-01-27-19-00-00...\n"
     ]
    },
    {
     "name": "stderr",
     "output_type": "stream",
     "text": [
      "/opt/homebrew/Caskroom/miniforge/base/envs/obspy/lib/python3.11/site-packages/obspy/signal/cross_correlation.py:291: RuntimeWarning: invalid value encountered in sqrt\n",
      "  np.sqrt(norm, out=norm)\n"
     ]
    },
    {
     "name": "stdout",
     "output_type": "stream",
     "text": [
      "341 detections found.\n",
      "Processing A06, 2020-01-27-20-00-00...\n"
     ]
    },
    {
     "name": "stderr",
     "output_type": "stream",
     "text": [
      "/opt/homebrew/Caskroom/miniforge/base/envs/obspy/lib/python3.11/site-packages/obspy/signal/cross_correlation.py:291: RuntimeWarning: invalid value encountered in sqrt\n",
      "  np.sqrt(norm, out=norm)\n"
     ]
    },
    {
     "name": "stdout",
     "output_type": "stream",
     "text": [
      "133 detections found.\n",
      "Processing A06, 2020-01-27-21-00-00...\n"
     ]
    },
    {
     "name": "stderr",
     "output_type": "stream",
     "text": [
      "/opt/homebrew/Caskroom/miniforge/base/envs/obspy/lib/python3.11/site-packages/obspy/signal/cross_correlation.py:291: RuntimeWarning: invalid value encountered in sqrt\n",
      "  np.sqrt(norm, out=norm)\n"
     ]
    },
    {
     "name": "stdout",
     "output_type": "stream",
     "text": [
      "79 detections found.\n",
      "Processing A06, 2020-01-27-22-00-00...\n"
     ]
    },
    {
     "name": "stderr",
     "output_type": "stream",
     "text": [
      "/opt/homebrew/Caskroom/miniforge/base/envs/obspy/lib/python3.11/site-packages/obspy/signal/cross_correlation.py:291: RuntimeWarning: invalid value encountered in sqrt\n",
      "  np.sqrt(norm, out=norm)\n"
     ]
    },
    {
     "name": "stdout",
     "output_type": "stream",
     "text": [
      "No detections found.\n",
      "Processing A06, 2020-01-27-23-00-00...\n",
      "1 detections found.\n",
      "Processing A06, 2020-01-28-00-00-00...\n",
      "2 detections found.\n",
      "Processing A06, 2020-01-28-01-00-00...\n",
      "No detections found.\n",
      "Processing A06, 2020-01-28-02-00-00...\n",
      "1 detections found.\n",
      "Processing A06, 2020-01-28-03-00-00...\n"
     ]
    },
    {
     "name": "stderr",
     "output_type": "stream",
     "text": [
      "/opt/homebrew/Caskroom/miniforge/base/envs/obspy/lib/python3.11/site-packages/obspy/signal/cross_correlation.py:291: RuntimeWarning: invalid value encountered in sqrt\n",
      "  np.sqrt(norm, out=norm)\n"
     ]
    },
    {
     "name": "stdout",
     "output_type": "stream",
     "text": [
      "3 detections found.\n",
      "Processing A06, 2020-01-28-04-00-00...\n"
     ]
    },
    {
     "name": "stderr",
     "output_type": "stream",
     "text": [
      "/opt/homebrew/Caskroom/miniforge/base/envs/obspy/lib/python3.11/site-packages/obspy/signal/cross_correlation.py:291: RuntimeWarning: invalid value encountered in sqrt\n",
      "  np.sqrt(norm, out=norm)\n"
     ]
    },
    {
     "name": "stdout",
     "output_type": "stream",
     "text": [
      "122 detections found.\n",
      "Processing A06, 2020-01-28-05-00-00...\n"
     ]
    },
    {
     "name": "stderr",
     "output_type": "stream",
     "text": [
      "/opt/homebrew/Caskroom/miniforge/base/envs/obspy/lib/python3.11/site-packages/obspy/signal/cross_correlation.py:291: RuntimeWarning: invalid value encountered in sqrt\n",
      "  np.sqrt(norm, out=norm)\n"
     ]
    },
    {
     "name": "stdout",
     "output_type": "stream",
     "text": [
      "60 detections found.\n",
      "Processing A06, 2020-01-28-06-00-00...\n",
      "127 detections found.\n",
      "Processing A06, 2020-01-28-07-00-00...\n"
     ]
    },
    {
     "name": "stderr",
     "output_type": "stream",
     "text": [
      "/opt/homebrew/Caskroom/miniforge/base/envs/obspy/lib/python3.11/site-packages/obspy/signal/cross_correlation.py:291: RuntimeWarning: invalid value encountered in sqrt\n",
      "  np.sqrt(norm, out=norm)\n"
     ]
    },
    {
     "name": "stdout",
     "output_type": "stream",
     "text": [
      "280 detections found.\n",
      "Processing A06, 2020-01-28-08-00-00...\n"
     ]
    },
    {
     "name": "stderr",
     "output_type": "stream",
     "text": [
      "/opt/homebrew/Caskroom/miniforge/base/envs/obspy/lib/python3.11/site-packages/obspy/signal/cross_correlation.py:291: RuntimeWarning: invalid value encountered in sqrt\n",
      "  np.sqrt(norm, out=norm)\n"
     ]
    },
    {
     "name": "stdout",
     "output_type": "stream",
     "text": [
      "188 detections found.\n",
      "Processing A06, 2020-01-28-09-00-00...\n"
     ]
    },
    {
     "name": "stderr",
     "output_type": "stream",
     "text": [
      "/opt/homebrew/Caskroom/miniforge/base/envs/obspy/lib/python3.11/site-packages/obspy/signal/cross_correlation.py:291: RuntimeWarning: invalid value encountered in sqrt\n",
      "  np.sqrt(norm, out=norm)\n"
     ]
    },
    {
     "name": "stdout",
     "output_type": "stream",
     "text": [
      "186 detections found.\n",
      "Processing A06, 2020-01-28-10-00-00...\n"
     ]
    },
    {
     "name": "stderr",
     "output_type": "stream",
     "text": [
      "/opt/homebrew/Caskroom/miniforge/base/envs/obspy/lib/python3.11/site-packages/obspy/signal/cross_correlation.py:291: RuntimeWarning: invalid value encountered in sqrt\n",
      "  np.sqrt(norm, out=norm)\n"
     ]
    },
    {
     "name": "stdout",
     "output_type": "stream",
     "text": [
      "184 detections found.\n",
      "Processing A06, 2020-01-28-11-00-00...\n"
     ]
    },
    {
     "name": "stderr",
     "output_type": "stream",
     "text": [
      "/opt/homebrew/Caskroom/miniforge/base/envs/obspy/lib/python3.11/site-packages/obspy/signal/cross_correlation.py:291: RuntimeWarning: invalid value encountered in sqrt\n",
      "  np.sqrt(norm, out=norm)\n"
     ]
    },
    {
     "name": "stdout",
     "output_type": "stream",
     "text": [
      "211 detections found.\n",
      "Processing A06, 2020-01-28-12-00-00...\n"
     ]
    },
    {
     "name": "stderr",
     "output_type": "stream",
     "text": [
      "/opt/homebrew/Caskroom/miniforge/base/envs/obspy/lib/python3.11/site-packages/obspy/signal/cross_correlation.py:291: RuntimeWarning: invalid value encountered in sqrt\n",
      "  np.sqrt(norm, out=norm)\n"
     ]
    },
    {
     "name": "stdout",
     "output_type": "stream",
     "text": [
      "192 detections found.\n",
      "Processing A06, 2020-01-28-13-00-00...\n"
     ]
    },
    {
     "name": "stderr",
     "output_type": "stream",
     "text": [
      "/opt/homebrew/Caskroom/miniforge/base/envs/obspy/lib/python3.11/site-packages/obspy/signal/cross_correlation.py:291: RuntimeWarning: invalid value encountered in sqrt\n",
      "  np.sqrt(norm, out=norm)\n"
     ]
    },
    {
     "name": "stdout",
     "output_type": "stream",
     "text": [
      "63 detections found.\n",
      "Processing A06, 2020-01-28-14-00-00...\n"
     ]
    },
    {
     "name": "stderr",
     "output_type": "stream",
     "text": [
      "/opt/homebrew/Caskroom/miniforge/base/envs/obspy/lib/python3.11/site-packages/obspy/signal/cross_correlation.py:291: RuntimeWarning: invalid value encountered in sqrt\n",
      "  np.sqrt(norm, out=norm)\n"
     ]
    },
    {
     "name": "stdout",
     "output_type": "stream",
     "text": [
      "23 detections found.\n",
      "Processing A06, 2020-01-28-15-00-00...\n"
     ]
    },
    {
     "name": "stderr",
     "output_type": "stream",
     "text": [
      "/opt/homebrew/Caskroom/miniforge/base/envs/obspy/lib/python3.11/site-packages/obspy/signal/cross_correlation.py:291: RuntimeWarning: invalid value encountered in sqrt\n",
      "  np.sqrt(norm, out=norm)\n"
     ]
    },
    {
     "name": "stdout",
     "output_type": "stream",
     "text": [
      "66 detections found.\n",
      "Processing A06, 2020-01-28-16-00-00...\n"
     ]
    },
    {
     "name": "stderr",
     "output_type": "stream",
     "text": [
      "/opt/homebrew/Caskroom/miniforge/base/envs/obspy/lib/python3.11/site-packages/obspy/signal/cross_correlation.py:291: RuntimeWarning: invalid value encountered in sqrt\n",
      "  np.sqrt(norm, out=norm)\n"
     ]
    },
    {
     "name": "stdout",
     "output_type": "stream",
     "text": [
      "212 detections found.\n",
      "Processing A06, 2020-01-28-17-00-00...\n",
      "60 detections found.\n",
      "Processing A06, 2020-01-28-18-00-00...\n"
     ]
    },
    {
     "name": "stderr",
     "output_type": "stream",
     "text": [
      "/opt/homebrew/Caskroom/miniforge/base/envs/obspy/lib/python3.11/site-packages/obspy/signal/cross_correlation.py:291: RuntimeWarning: invalid value encountered in sqrt\n",
      "  np.sqrt(norm, out=norm)\n"
     ]
    },
    {
     "name": "stdout",
     "output_type": "stream",
     "text": [
      "58 detections found.\n",
      "Processing A06, 2020-01-28-19-00-00...\n"
     ]
    },
    {
     "name": "stderr",
     "output_type": "stream",
     "text": [
      "/opt/homebrew/Caskroom/miniforge/base/envs/obspy/lib/python3.11/site-packages/obspy/signal/cross_correlation.py:291: RuntimeWarning: invalid value encountered in sqrt\n",
      "  np.sqrt(norm, out=norm)\n"
     ]
    },
    {
     "name": "stdout",
     "output_type": "stream",
     "text": [
      "66 detections found.\n",
      "Processing A06, 2020-01-28-20-00-00...\n"
     ]
    },
    {
     "name": "stderr",
     "output_type": "stream",
     "text": [
      "/opt/homebrew/Caskroom/miniforge/base/envs/obspy/lib/python3.11/site-packages/obspy/signal/cross_correlation.py:291: RuntimeWarning: invalid value encountered in sqrt\n",
      "  np.sqrt(norm, out=norm)\n"
     ]
    },
    {
     "name": "stdout",
     "output_type": "stream",
     "text": [
      "75 detections found.\n",
      "Processing A06, 2020-01-28-21-00-00...\n",
      "9 detections found.\n",
      "Processing A06, 2020-01-28-22-00-00...\n"
     ]
    },
    {
     "name": "stderr",
     "output_type": "stream",
     "text": [
      "/opt/homebrew/Caskroom/miniforge/base/envs/obspy/lib/python3.11/site-packages/obspy/signal/cross_correlation.py:291: RuntimeWarning: invalid value encountered in sqrt\n",
      "  np.sqrt(norm, out=norm)\n"
     ]
    },
    {
     "name": "stdout",
     "output_type": "stream",
     "text": [
      "1 detections found.\n",
      "Processing A06, 2020-01-28-23-00-00...\n"
     ]
    },
    {
     "name": "stderr",
     "output_type": "stream",
     "text": [
      "/opt/homebrew/Caskroom/miniforge/base/envs/obspy/lib/python3.11/site-packages/obspy/signal/cross_correlation.py:291: RuntimeWarning: invalid value encountered in sqrt\n",
      "  np.sqrt(norm, out=norm)\n"
     ]
    },
    {
     "name": "stdout",
     "output_type": "stream",
     "text": [
      "1 detections found.\n",
      "Processing A06, 2020-01-29-00-00-00...\n"
     ]
    },
    {
     "name": "stderr",
     "output_type": "stream",
     "text": [
      "/opt/homebrew/Caskroom/miniforge/base/envs/obspy/lib/python3.11/site-packages/obspy/signal/cross_correlation.py:291: RuntimeWarning: invalid value encountered in sqrt\n",
      "  np.sqrt(norm, out=norm)\n"
     ]
    },
    {
     "name": "stdout",
     "output_type": "stream",
     "text": [
      "3 detections found.\n",
      "Processing A06, 2020-01-29-01-00-00...\n",
      "1 detections found.\n",
      "Processing A06, 2020-01-29-02-00-00...\n"
     ]
    },
    {
     "name": "stderr",
     "output_type": "stream",
     "text": [
      "/opt/homebrew/Caskroom/miniforge/base/envs/obspy/lib/python3.11/site-packages/obspy/signal/cross_correlation.py:291: RuntimeWarning: invalid value encountered in sqrt\n",
      "  np.sqrt(norm, out=norm)\n"
     ]
    },
    {
     "name": "stdout",
     "output_type": "stream",
     "text": [
      "2 detections found.\n",
      "Processing A06, 2020-01-29-03-00-00...\n",
      "2 detections found.\n",
      "Processing A06, 2020-01-29-04-00-00...\n",
      "No detections found.\n",
      "Processing A06, 2020-01-29-05-00-00...\n",
      "No detections found.\n",
      "Processing A06, 2020-01-29-06-00-00...\n"
     ]
    },
    {
     "name": "stderr",
     "output_type": "stream",
     "text": [
      "/opt/homebrew/Caskroom/miniforge/base/envs/obspy/lib/python3.11/site-packages/obspy/signal/cross_correlation.py:291: RuntimeWarning: invalid value encountered in sqrt\n",
      "  np.sqrt(norm, out=norm)\n"
     ]
    },
    {
     "name": "stdout",
     "output_type": "stream",
     "text": [
      "14 detections found.\n",
      "Processing A06, 2020-01-29-07-00-00...\n"
     ]
    },
    {
     "name": "stderr",
     "output_type": "stream",
     "text": [
      "/opt/homebrew/Caskroom/miniforge/base/envs/obspy/lib/python3.11/site-packages/obspy/signal/cross_correlation.py:291: RuntimeWarning: invalid value encountered in sqrt\n",
      "  np.sqrt(norm, out=norm)\n"
     ]
    },
    {
     "name": "stdout",
     "output_type": "stream",
     "text": [
      "No detections found.\n",
      "Processing A06, 2020-01-29-08-00-00...\n",
      "1 detections found.\n",
      "Processing A06, 2020-01-29-09-00-00...\n"
     ]
    },
    {
     "name": "stderr",
     "output_type": "stream",
     "text": [
      "/opt/homebrew/Caskroom/miniforge/base/envs/obspy/lib/python3.11/site-packages/obspy/signal/cross_correlation.py:291: RuntimeWarning: invalid value encountered in sqrt\n",
      "  np.sqrt(norm, out=norm)\n"
     ]
    },
    {
     "name": "stdout",
     "output_type": "stream",
     "text": [
      "6 detections found.\n",
      "Processing A06, 2020-01-29-10-00-00...\n"
     ]
    },
    {
     "name": "stderr",
     "output_type": "stream",
     "text": [
      "/opt/homebrew/Caskroom/miniforge/base/envs/obspy/lib/python3.11/site-packages/obspy/signal/cross_correlation.py:291: RuntimeWarning: invalid value encountered in sqrt\n",
      "  np.sqrt(norm, out=norm)\n"
     ]
    },
    {
     "name": "stdout",
     "output_type": "stream",
     "text": [
      "No detections found.\n",
      "Processing A06, 2020-01-29-11-00-00...\n",
      "4 detections found.\n",
      "Processing A06, 2020-01-29-12-00-00...\n",
      "No detections found.\n",
      "Processing A06, 2020-01-29-13-00-00...\n"
     ]
    },
    {
     "name": "stderr",
     "output_type": "stream",
     "text": [
      "/opt/homebrew/Caskroom/miniforge/base/envs/obspy/lib/python3.11/site-packages/obspy/signal/cross_correlation.py:291: RuntimeWarning: invalid value encountered in sqrt\n",
      "  np.sqrt(norm, out=norm)\n"
     ]
    },
    {
     "name": "stdout",
     "output_type": "stream",
     "text": [
      "No detections found.\n",
      "Processing A06, 2020-01-29-14-00-00...\n",
      "No detections found.\n",
      "Processing A06, 2020-01-29-15-00-00...\n",
      "No detections found.\n",
      "Processing A06, 2020-01-29-16-00-00...\n",
      "No detections found.\n",
      "Processing A06, 2020-01-29-17-00-00...\n",
      "No detections found.\n",
      "Processing A06, 2020-01-29-18-00-00...\n",
      "No detections found.\n",
      "Processing A06, 2020-01-29-19-00-00...\n",
      "1 detections found.\n",
      "Processing A06, 2020-01-29-20-00-00...\n"
     ]
    },
    {
     "name": "stderr",
     "output_type": "stream",
     "text": [
      "/opt/homebrew/Caskroom/miniforge/base/envs/obspy/lib/python3.11/site-packages/obspy/signal/cross_correlation.py:291: RuntimeWarning: invalid value encountered in sqrt\n",
      "  np.sqrt(norm, out=norm)\n"
     ]
    },
    {
     "name": "stdout",
     "output_type": "stream",
     "text": [
      "1 detections found.\n",
      "Processing A06, 2020-01-29-21-00-00...\n"
     ]
    },
    {
     "name": "stderr",
     "output_type": "stream",
     "text": [
      "/opt/homebrew/Caskroom/miniforge/base/envs/obspy/lib/python3.11/site-packages/obspy/signal/cross_correlation.py:291: RuntimeWarning: invalid value encountered in sqrt\n",
      "  np.sqrt(norm, out=norm)\n"
     ]
    },
    {
     "name": "stdout",
     "output_type": "stream",
     "text": [
      "No detections found.\n",
      "Processing A06, 2020-01-29-22-00-00...\n",
      "2 detections found.\n",
      "Processing A06, 2020-01-29-23-00-00...\n",
      "No detections found.\n",
      "Processing A06, 2020-01-30-00-00-00...\n"
     ]
    },
    {
     "name": "stderr",
     "output_type": "stream",
     "text": [
      "/opt/homebrew/Caskroom/miniforge/base/envs/obspy/lib/python3.11/site-packages/obspy/signal/cross_correlation.py:291: RuntimeWarning: invalid value encountered in sqrt\n",
      "  np.sqrt(norm, out=norm)\n"
     ]
    },
    {
     "name": "stdout",
     "output_type": "stream",
     "text": [
      "No detections found.\n",
      "Processing A06, 2020-01-30-01-00-00...\n",
      "No detections found.\n",
      "Processing A06, 2020-01-30-02-00-00...\n",
      "No detections found.\n",
      "Processing A06, 2020-01-30-03-00-00...\n",
      "No detections found.\n",
      "Processing A06, 2020-01-30-04-00-00...\n",
      "No detections found.\n",
      "Processing A06, 2020-01-30-05-00-00...\n",
      "No detections found.\n",
      "Processing A06, 2020-01-30-06-00-00...\n",
      "No detections found.\n",
      "Processing A06, 2020-01-30-07-00-00...\n",
      "No detections found.\n",
      "Processing A06, 2020-01-30-08-00-00...\n",
      "1 detections found.\n",
      "Processing A06, 2020-01-30-09-00-00...\n"
     ]
    },
    {
     "name": "stderr",
     "output_type": "stream",
     "text": [
      "/opt/homebrew/Caskroom/miniforge/base/envs/obspy/lib/python3.11/site-packages/obspy/signal/cross_correlation.py:291: RuntimeWarning: invalid value encountered in sqrt\n",
      "  np.sqrt(norm, out=norm)\n"
     ]
    },
    {
     "name": "stdout",
     "output_type": "stream",
     "text": [
      "No detections found.\n",
      "Processing A06, 2020-01-30-10-00-00...\n",
      "1 detections found.\n",
      "Processing A06, 2020-01-30-11-00-00...\n"
     ]
    },
    {
     "name": "stderr",
     "output_type": "stream",
     "text": [
      "/opt/homebrew/Caskroom/miniforge/base/envs/obspy/lib/python3.11/site-packages/obspy/signal/cross_correlation.py:291: RuntimeWarning: invalid value encountered in sqrt\n",
      "  np.sqrt(norm, out=norm)\n"
     ]
    },
    {
     "name": "stdout",
     "output_type": "stream",
     "text": [
      "No detections found.\n",
      "Processing A06, 2020-01-30-12-00-00...\n",
      "1 detections found.\n",
      "Processing A06, 2020-01-30-13-00-00...\n"
     ]
    },
    {
     "name": "stderr",
     "output_type": "stream",
     "text": [
      "/opt/homebrew/Caskroom/miniforge/base/envs/obspy/lib/python3.11/site-packages/obspy/signal/cross_correlation.py:291: RuntimeWarning: invalid value encountered in sqrt\n",
      "  np.sqrt(norm, out=norm)\n"
     ]
    },
    {
     "name": "stdout",
     "output_type": "stream",
     "text": [
      "1 detections found.\n",
      "Processing A06, 2020-01-30-14-00-00...\n"
     ]
    },
    {
     "name": "stderr",
     "output_type": "stream",
     "text": [
      "/opt/homebrew/Caskroom/miniforge/base/envs/obspy/lib/python3.11/site-packages/obspy/signal/cross_correlation.py:291: RuntimeWarning: invalid value encountered in sqrt\n",
      "  np.sqrt(norm, out=norm)\n"
     ]
    },
    {
     "name": "stdout",
     "output_type": "stream",
     "text": [
      "1 detections found.\n",
      "Processing A06, 2020-01-30-15-00-00...\n"
     ]
    },
    {
     "name": "stderr",
     "output_type": "stream",
     "text": [
      "/opt/homebrew/Caskroom/miniforge/base/envs/obspy/lib/python3.11/site-packages/obspy/signal/cross_correlation.py:291: RuntimeWarning: invalid value encountered in sqrt\n",
      "  np.sqrt(norm, out=norm)\n"
     ]
    },
    {
     "name": "stdout",
     "output_type": "stream",
     "text": [
      "No detections found.\n",
      "Processing A06, 2020-01-30-16-00-00...\n",
      "No detections found.\n",
      "Processing A06, 2020-01-30-17-00-00...\n",
      "3 detections found.\n",
      "Processing A06, 2020-01-30-18-00-00...\n",
      "No detections found.\n",
      "Processing A06, 2020-01-30-19-00-00...\n",
      "No detections found.\n",
      "Processing A06, 2020-01-30-20-00-00...\n",
      "1 detections found.\n",
      "Processing A06, 2020-01-30-21-00-00...\n",
      "No detections found.\n",
      "Processing A06, 2020-01-30-22-00-00...\n"
     ]
    },
    {
     "name": "stderr",
     "output_type": "stream",
     "text": [
      "/opt/homebrew/Caskroom/miniforge/base/envs/obspy/lib/python3.11/site-packages/obspy/signal/cross_correlation.py:291: RuntimeWarning: invalid value encountered in sqrt\n",
      "  np.sqrt(norm, out=norm)\n"
     ]
    },
    {
     "name": "stdout",
     "output_type": "stream",
     "text": [
      "5 detections found.\n",
      "Processing A06, 2020-01-30-23-00-00...\n"
     ]
    },
    {
     "name": "stderr",
     "output_type": "stream",
     "text": [
      "/opt/homebrew/Caskroom/miniforge/base/envs/obspy/lib/python3.11/site-packages/obspy/signal/cross_correlation.py:291: RuntimeWarning: invalid value encountered in sqrt\n",
      "  np.sqrt(norm, out=norm)\n"
     ]
    },
    {
     "name": "stdout",
     "output_type": "stream",
     "text": [
      "2 detections found.\n",
      "Processing A06, 2020-01-31-00-00-00...\n"
     ]
    },
    {
     "name": "stderr",
     "output_type": "stream",
     "text": [
      "/opt/homebrew/Caskroom/miniforge/base/envs/obspy/lib/python3.11/site-packages/obspy/signal/cross_correlation.py:291: RuntimeWarning: invalid value encountered in sqrt\n",
      "  np.sqrt(norm, out=norm)\n"
     ]
    },
    {
     "name": "stdout",
     "output_type": "stream",
     "text": [
      "No detections found.\n",
      "Processing A06, 2020-01-31-01-00-00...\n",
      "No detections found.\n",
      "Processing A06, 2020-01-31-02-00-00...\n",
      "No detections found.\n",
      "Processing A06, 2020-01-31-03-00-00...\n",
      "No detections found.\n",
      "Processing A06, 2020-01-31-04-00-00...\n",
      "No detections found.\n",
      "Processing A06, 2020-01-31-05-00-00...\n",
      "No detections found.\n",
      "Processing A06, 2020-01-31-06-00-00...\n",
      "1 detections found.\n",
      "Processing A06, 2020-01-31-07-00-00...\n"
     ]
    },
    {
     "name": "stderr",
     "output_type": "stream",
     "text": [
      "/opt/homebrew/Caskroom/miniforge/base/envs/obspy/lib/python3.11/site-packages/obspy/signal/cross_correlation.py:291: RuntimeWarning: invalid value encountered in sqrt\n",
      "  np.sqrt(norm, out=norm)\n"
     ]
    },
    {
     "name": "stdout",
     "output_type": "stream",
     "text": [
      "1 detections found.\n",
      "Processing A06, 2020-01-31-08-00-00...\n"
     ]
    },
    {
     "name": "stderr",
     "output_type": "stream",
     "text": [
      "/opt/homebrew/Caskroom/miniforge/base/envs/obspy/lib/python3.11/site-packages/obspy/signal/cross_correlation.py:291: RuntimeWarning: invalid value encountered in sqrt\n",
      "  np.sqrt(norm, out=norm)\n"
     ]
    },
    {
     "name": "stdout",
     "output_type": "stream",
     "text": [
      "5 detections found.\n",
      "Processing A06, 2020-01-31-09-00-00...\n"
     ]
    },
    {
     "name": "stderr",
     "output_type": "stream",
     "text": [
      "/opt/homebrew/Caskroom/miniforge/base/envs/obspy/lib/python3.11/site-packages/obspy/signal/cross_correlation.py:291: RuntimeWarning: invalid value encountered in sqrt\n",
      "  np.sqrt(norm, out=norm)\n"
     ]
    },
    {
     "name": "stdout",
     "output_type": "stream",
     "text": [
      "2 detections found.\n",
      "Processing A06, 2020-01-31-10-00-00...\n"
     ]
    },
    {
     "name": "stderr",
     "output_type": "stream",
     "text": [
      "/opt/homebrew/Caskroom/miniforge/base/envs/obspy/lib/python3.11/site-packages/obspy/signal/cross_correlation.py:291: RuntimeWarning: invalid value encountered in sqrt\n",
      "  np.sqrt(norm, out=norm)\n"
     ]
    },
    {
     "name": "stdout",
     "output_type": "stream",
     "text": [
      "No detections found.\n",
      "Processing A06, 2020-01-31-11-00-00...\n",
      "No detections found.\n",
      "Processing A06, 2020-01-31-12-00-00...\n",
      "No detections found.\n",
      "Processing A06, 2020-01-31-13-00-00...\n",
      "No detections found.\n",
      "Processing A06, 2020-01-31-14-00-00...\n",
      "No detections found.\n",
      "Processing A06, 2020-01-31-15-00-00...\n",
      "No detections found.\n",
      "Processing A06, 2020-01-31-16-00-00...\n",
      "No detections found.\n",
      "Processing A06, 2020-01-31-17-00-00...\n",
      "No detections found.\n",
      "Processing A06, 2020-01-31-18-00-00...\n",
      "No detections found.\n",
      "Processing A06, 2020-01-31-19-00-00...\n",
      "No detections found.\n",
      "Processing A06, 2020-01-31-20-00-00...\n",
      "No detections found.\n",
      "Processing A06, 2020-01-31-21-00-00...\n",
      "No detections found.\n",
      "Processing A06, 2020-01-31-22-00-00...\n",
      "No detections found.\n",
      "Processing A06, 2020-01-31-23-00-00...\n",
      "No detections found.\n",
      "Processing A06, 2020-02-01-00-00-00...\n",
      "No detections found.\n",
      "Processing A06, 2020-02-01-01-00-00...\n",
      "2 detections found.\n",
      "Processing A06, 2020-02-01-02-00-00...\n",
      "No detections found.\n",
      "Processing A06, 2020-02-01-03-00-00...\n",
      "No detections found.\n",
      "Processing A06, 2020-02-01-04-00-00...\n"
     ]
    },
    {
     "name": "stderr",
     "output_type": "stream",
     "text": [
      "/opt/homebrew/Caskroom/miniforge/base/envs/obspy/lib/python3.11/site-packages/obspy/signal/cross_correlation.py:291: RuntimeWarning: invalid value encountered in sqrt\n",
      "  np.sqrt(norm, out=norm)\n"
     ]
    },
    {
     "name": "stdout",
     "output_type": "stream",
     "text": [
      "No detections found.\n",
      "Processing A06, 2020-02-01-05-00-00...\n",
      "8 detections found.\n",
      "Processing A06, 2020-02-01-06-00-00...\n"
     ]
    },
    {
     "name": "stderr",
     "output_type": "stream",
     "text": [
      "/opt/homebrew/Caskroom/miniforge/base/envs/obspy/lib/python3.11/site-packages/obspy/signal/cross_correlation.py:291: RuntimeWarning: invalid value encountered in sqrt\n",
      "  np.sqrt(norm, out=norm)\n"
     ]
    },
    {
     "name": "stdout",
     "output_type": "stream",
     "text": [
      "11 detections found.\n",
      "Processing A06, 2020-02-01-07-00-00...\n"
     ]
    },
    {
     "name": "stderr",
     "output_type": "stream",
     "text": [
      "/opt/homebrew/Caskroom/miniforge/base/envs/obspy/lib/python3.11/site-packages/obspy/signal/cross_correlation.py:291: RuntimeWarning: invalid value encountered in sqrt\n",
      "  np.sqrt(norm, out=norm)\n"
     ]
    },
    {
     "name": "stdout",
     "output_type": "stream",
     "text": [
      "24 detections found.\n",
      "Processing A06, 2020-02-01-08-00-00...\n",
      "4 detections found.\n",
      "Processing A06, 2020-02-01-09-00-00...\n",
      "Cannot find data for 2020-02-01-09-00-00!\n",
      "Processing A06, 2020-02-01-10-00-00...\n",
      "Cannot find data for 2020-02-01-10-00-00!\n",
      "Processing A06, 2020-02-01-11-00-00...\n",
      "Cannot find data for 2020-02-01-11-00-00!\n",
      "Processing A06, 2020-02-01-12-00-00...\n",
      "Cannot find data for 2020-02-01-12-00-00!\n",
      "Processing A06, 2020-02-01-13-00-00...\n",
      "Cannot find data for 2020-02-01-13-00-00!\n",
      "Processing A06, 2020-02-01-14-00-00...\n",
      "Cannot find data for 2020-02-01-14-00-00!\n",
      "Processing A06, 2020-02-01-15-00-00...\n",
      "Cannot find data for 2020-02-01-15-00-00!\n",
      "Processing A06, 2020-02-01-16-00-00...\n",
      "Cannot find data for 2020-02-01-16-00-00!\n",
      "Processing A06, 2020-02-01-17-00-00...\n",
      "Cannot find data for 2020-02-01-17-00-00!\n",
      "Processing A06, 2020-02-01-18-00-00...\n",
      "Cannot find data for 2020-02-01-18-00-00!\n",
      "Processing A06, 2020-02-01-19-00-00...\n",
      "Cannot find data for 2020-02-01-19-00-00!\n",
      "Processing A06, 2020-02-01-20-00-00...\n",
      "Cannot find data for 2020-02-01-20-00-00!\n",
      "Processing A06, 2020-02-01-21-00-00...\n",
      "Cannot find data for 2020-02-01-21-00-00!\n",
      "Processing A06, 2020-02-01-22-00-00...\n",
      "Cannot find data for 2020-02-01-22-00-00!\n",
      "Processing A06, 2020-02-01-23-00-00...\n",
      "Cannot find data for 2020-02-01-23-00-00!\n",
      "Processing A06, 2020-02-02-00-00-00...\n",
      "Cannot find data for 2020-02-02-00-00-00!\n",
      "Processing A06, 2020-02-02-01-00-00...\n",
      "Cannot find data for 2020-02-02-01-00-00!\n",
      "Processing A06, 2020-02-02-02-00-00...\n",
      "Cannot find data for 2020-02-02-02-00-00!\n",
      "Processing A06, 2020-02-02-03-00-00...\n",
      "Cannot find data for 2020-02-02-03-00-00!\n",
      "Processing A06, 2020-02-02-04-00-00...\n",
      "Cannot find data for 2020-02-02-04-00-00!\n",
      "Processing A06, 2020-02-02-05-00-00...\n",
      "Cannot find data for 2020-02-02-05-00-00!\n",
      "Processing A06, 2020-02-02-06-00-00...\n",
      "Cannot find data for 2020-02-02-06-00-00!\n",
      "Processing A06, 2020-02-02-07-00-00...\n",
      "Cannot find data for 2020-02-02-07-00-00!\n",
      "Processing A06, 2020-02-02-08-00-00...\n",
      "Cannot find data for 2020-02-02-08-00-00!\n",
      "Processing A06, 2020-02-02-09-00-00...\n",
      "Cannot find data for 2020-02-02-09-00-00!\n",
      "Processing A06, 2020-02-02-10-00-00...\n",
      "Cannot find data for 2020-02-02-10-00-00!\n",
      "Processing A06, 2020-02-02-11-00-00...\n",
      "Cannot find data for 2020-02-02-11-00-00!\n",
      "Processing A06, 2020-02-02-12-00-00...\n",
      "Cannot find data for 2020-02-02-12-00-00!\n",
      "Processing A06, 2020-02-02-13-00-00...\n",
      "Cannot find data for 2020-02-02-13-00-00!\n",
      "Processing A06, 2020-02-02-14-00-00...\n",
      "Cannot find data for 2020-02-02-14-00-00!\n",
      "Processing A06, 2020-02-02-15-00-00...\n",
      "Cannot find data for 2020-02-02-15-00-00!\n",
      "Processing A06, 2020-02-02-16-00-00...\n",
      "Cannot find data for 2020-02-02-16-00-00!\n",
      "Processing A06, 2020-02-02-17-00-00...\n",
      "Cannot find data for 2020-02-02-17-00-00!\n",
      "Processing A06, 2020-02-02-18-00-00...\n",
      "Cannot find data for 2020-02-02-18-00-00!\n",
      "Processing A06, 2020-02-02-19-00-00...\n",
      "Cannot find data for 2020-02-02-19-00-00!\n",
      "Processing A06, 2020-02-02-20-00-00...\n",
      "Cannot find data for 2020-02-02-20-00-00!\n",
      "Processing A06, 2020-02-02-21-00-00...\n",
      "Cannot find data for 2020-02-02-21-00-00!\n",
      "Processing A06, 2020-02-02-22-00-00...\n",
      "Cannot find data for 2020-02-02-22-00-00!\n",
      "Processing A05, 2020-01-10-11-00-00...\n"
     ]
    },
    {
     "name": "stderr",
     "output_type": "stream",
     "text": [
      "/opt/homebrew/Caskroom/miniforge/base/envs/obspy/lib/python3.11/site-packages/obspy/signal/cross_correlation.py:291: RuntimeWarning: invalid value encountered in sqrt\n",
      "  np.sqrt(norm, out=norm)\n"
     ]
    },
    {
     "name": "stdout",
     "output_type": "stream",
     "text": [
      "No detections found.\n",
      "Processing A05, 2020-01-10-12-00-00...\n",
      "1 detections found.\n",
      "Processing A05, 2020-01-10-13-00-00...\n"
     ]
    },
    {
     "name": "stderr",
     "output_type": "stream",
     "text": [
      "/opt/homebrew/Caskroom/miniforge/base/envs/obspy/lib/python3.11/site-packages/obspy/signal/cross_correlation.py:291: RuntimeWarning: invalid value encountered in sqrt\n",
      "  np.sqrt(norm, out=norm)\n"
     ]
    },
    {
     "name": "stdout",
     "output_type": "stream",
     "text": [
      "No detections found.\n",
      "Processing A05, 2020-01-10-14-00-00...\n",
      "1 detections found.\n",
      "Processing A05, 2020-01-10-15-00-00...\n"
     ]
    },
    {
     "name": "stderr",
     "output_type": "stream",
     "text": [
      "/opt/homebrew/Caskroom/miniforge/base/envs/obspy/lib/python3.11/site-packages/obspy/signal/cross_correlation.py:291: RuntimeWarning: invalid value encountered in sqrt\n",
      "  np.sqrt(norm, out=norm)\n"
     ]
    },
    {
     "name": "stdout",
     "output_type": "stream",
     "text": [
      "No detections found.\n",
      "Processing A05, 2020-01-10-16-00-00...\n",
      "0 detections found.\n",
      "Processing A05, 2020-01-10-17-00-00...\n"
     ]
    },
    {
     "name": "stderr",
     "output_type": "stream",
     "text": [
      "/opt/homebrew/Caskroom/miniforge/base/envs/obspy/lib/python3.11/site-packages/obspy/signal/cross_correlation.py:291: RuntimeWarning: invalid value encountered in sqrt\n",
      "  np.sqrt(norm, out=norm)\n"
     ]
    },
    {
     "name": "stdout",
     "output_type": "stream",
     "text": [
      "No detections found.\n",
      "Processing A05, 2020-01-10-18-00-00...\n",
      "No detections found.\n",
      "Processing A05, 2020-01-10-19-00-00...\n",
      "No detections found.\n",
      "Processing A05, 2020-01-10-20-00-00...\n",
      "No detections found.\n",
      "Processing A05, 2020-01-10-21-00-00...\n",
      "No detections found.\n",
      "Processing A05, 2020-01-10-22-00-00...\n",
      "No detections found.\n",
      "Processing A05, 2020-01-10-23-00-00...\n",
      "No detections found.\n",
      "Processing A05, 2020-01-11-00-00-00...\n",
      "No detections found.\n",
      "Processing A05, 2020-01-11-01-00-00...\n",
      "No detections found.\n",
      "Processing A05, 2020-01-11-02-00-00...\n",
      "No detections found.\n",
      "Processing A05, 2020-01-11-03-00-00...\n",
      "No detections found.\n",
      "Processing A05, 2020-01-11-04-00-00...\n",
      "No detections found.\n",
      "Processing A05, 2020-01-11-05-00-00...\n",
      "No detections found.\n",
      "Processing A05, 2020-01-11-06-00-00...\n",
      "No detections found.\n",
      "Processing A05, 2020-01-11-07-00-00...\n",
      "No detections found.\n",
      "Processing A05, 2020-01-11-08-00-00...\n",
      "No detections found.\n",
      "Processing A05, 2020-01-11-09-00-00...\n",
      "No detections found.\n",
      "Processing A05, 2020-01-11-10-00-00...\n",
      "No detections found.\n",
      "Processing A05, 2020-01-11-11-00-00...\n",
      "No detections found.\n",
      "Processing A05, 2020-01-11-12-00-00...\n",
      "No detections found.\n",
      "Processing A05, 2020-01-11-13-00-00...\n",
      "No detections found.\n",
      "Processing A05, 2020-01-11-14-00-00...\n",
      "No detections found.\n",
      "Processing A05, 2020-01-11-15-00-00...\n",
      "No detections found.\n",
      "Processing A05, 2020-01-11-16-00-00...\n",
      "No detections found.\n",
      "Processing A05, 2020-01-11-17-00-00...\n",
      "No detections found.\n",
      "Processing A05, 2020-01-11-18-00-00...\n",
      "No detections found.\n",
      "Processing A05, 2020-01-11-19-00-00...\n",
      "No detections found.\n",
      "Processing A05, 2020-01-11-20-00-00...\n",
      "No detections found.\n",
      "Processing A05, 2020-01-11-21-00-00...\n",
      "No detections found.\n",
      "Processing A05, 2020-01-11-22-00-00...\n",
      "No detections found.\n",
      "Processing A05, 2020-01-11-23-00-00...\n",
      "No detections found.\n",
      "Processing A05, 2020-01-12-00-00-00...\n",
      "No detections found.\n",
      "Processing A05, 2020-01-12-01-00-00...\n",
      "No detections found.\n",
      "Processing A05, 2020-01-12-02-00-00...\n",
      "No detections found.\n",
      "Processing A05, 2020-01-12-03-00-00...\n",
      "No detections found.\n",
      "Processing A05, 2020-01-12-04-00-00...\n",
      "No detections found.\n",
      "Processing A05, 2020-01-12-05-00-00...\n",
      "No detections found.\n",
      "Processing A05, 2020-01-12-06-00-00...\n",
      "No detections found.\n",
      "Processing A05, 2020-01-12-07-00-00...\n",
      "No detections found.\n",
      "Processing A05, 2020-01-12-08-00-00...\n",
      "77 detections found.\n",
      "Processing A05, 2020-01-12-09-00-00...\n"
     ]
    },
    {
     "name": "stderr",
     "output_type": "stream",
     "text": [
      "/opt/homebrew/Caskroom/miniforge/base/envs/obspy/lib/python3.11/site-packages/obspy/signal/cross_correlation.py:291: RuntimeWarning: invalid value encountered in sqrt\n",
      "  np.sqrt(norm, out=norm)\n"
     ]
    },
    {
     "name": "stdout",
     "output_type": "stream",
     "text": [
      "34 detections found.\n",
      "Processing A05, 2020-01-12-10-00-00...\n"
     ]
    },
    {
     "name": "stderr",
     "output_type": "stream",
     "text": [
      "/opt/homebrew/Caskroom/miniforge/base/envs/obspy/lib/python3.11/site-packages/obspy/signal/cross_correlation.py:291: RuntimeWarning: invalid value encountered in sqrt\n",
      "  np.sqrt(norm, out=norm)\n"
     ]
    },
    {
     "name": "stdout",
     "output_type": "stream",
     "text": [
      "270 detections found.\n",
      "Processing A05, 2020-01-12-11-00-00...\n"
     ]
    },
    {
     "name": "stderr",
     "output_type": "stream",
     "text": [
      "/opt/homebrew/Caskroom/miniforge/base/envs/obspy/lib/python3.11/site-packages/obspy/signal/cross_correlation.py:291: RuntimeWarning: invalid value encountered in sqrt\n",
      "  np.sqrt(norm, out=norm)\n"
     ]
    },
    {
     "name": "stdout",
     "output_type": "stream",
     "text": [
      "157 detections found.\n",
      "Processing A05, 2020-01-12-12-00-00...\n"
     ]
    },
    {
     "name": "stderr",
     "output_type": "stream",
     "text": [
      "/opt/homebrew/Caskroom/miniforge/base/envs/obspy/lib/python3.11/site-packages/obspy/signal/cross_correlation.py:291: RuntimeWarning: invalid value encountered in sqrt\n",
      "  np.sqrt(norm, out=norm)\n"
     ]
    },
    {
     "name": "stdout",
     "output_type": "stream",
     "text": [
      "56 detections found.\n",
      "Processing A05, 2020-01-12-13-00-00...\n"
     ]
    },
    {
     "name": "stderr",
     "output_type": "stream",
     "text": [
      "/opt/homebrew/Caskroom/miniforge/base/envs/obspy/lib/python3.11/site-packages/obspy/signal/cross_correlation.py:291: RuntimeWarning: invalid value encountered in sqrt\n",
      "  np.sqrt(norm, out=norm)\n"
     ]
    },
    {
     "name": "stdout",
     "output_type": "stream",
     "text": [
      "444 detections found.\n",
      "Processing A05, 2020-01-12-14-00-00...\n"
     ]
    },
    {
     "name": "stderr",
     "output_type": "stream",
     "text": [
      "/opt/homebrew/Caskroom/miniforge/base/envs/obspy/lib/python3.11/site-packages/obspy/signal/cross_correlation.py:291: RuntimeWarning: invalid value encountered in sqrt\n",
      "  np.sqrt(norm, out=norm)\n"
     ]
    },
    {
     "name": "stdout",
     "output_type": "stream",
     "text": [
      "221 detections found.\n",
      "Processing A05, 2020-01-12-15-00-00...\n"
     ]
    },
    {
     "name": "stderr",
     "output_type": "stream",
     "text": [
      "/opt/homebrew/Caskroom/miniforge/base/envs/obspy/lib/python3.11/site-packages/obspy/signal/cross_correlation.py:291: RuntimeWarning: invalid value encountered in sqrt\n",
      "  np.sqrt(norm, out=norm)\n"
     ]
    },
    {
     "name": "stdout",
     "output_type": "stream",
     "text": [
      "99 detections found.\n",
      "Processing A05, 2020-01-12-16-00-00...\n"
     ]
    },
    {
     "name": "stderr",
     "output_type": "stream",
     "text": [
      "/opt/homebrew/Caskroom/miniforge/base/envs/obspy/lib/python3.11/site-packages/obspy/signal/cross_correlation.py:291: RuntimeWarning: invalid value encountered in sqrt\n",
      "  np.sqrt(norm, out=norm)\n"
     ]
    },
    {
     "name": "stdout",
     "output_type": "stream",
     "text": [
      "11 detections found.\n",
      "Processing A05, 2020-01-12-17-00-00...\n",
      "76 detections found.\n",
      "Processing A05, 2020-01-12-18-00-00...\n"
     ]
    },
    {
     "name": "stderr",
     "output_type": "stream",
     "text": [
      "/opt/homebrew/Caskroom/miniforge/base/envs/obspy/lib/python3.11/site-packages/obspy/signal/cross_correlation.py:291: RuntimeWarning: invalid value encountered in sqrt\n",
      "  np.sqrt(norm, out=norm)\n"
     ]
    },
    {
     "name": "stdout",
     "output_type": "stream",
     "text": [
      "12 detections found.\n",
      "Processing A05, 2020-01-12-19-00-00...\n"
     ]
    },
    {
     "name": "stderr",
     "output_type": "stream",
     "text": [
      "/opt/homebrew/Caskroom/miniforge/base/envs/obspy/lib/python3.11/site-packages/obspy/signal/cross_correlation.py:291: RuntimeWarning: invalid value encountered in sqrt\n",
      "  np.sqrt(norm, out=norm)\n"
     ]
    },
    {
     "name": "stdout",
     "output_type": "stream",
     "text": [
      "24 detections found.\n",
      "Processing A05, 2020-01-12-20-00-00...\n"
     ]
    },
    {
     "name": "stderr",
     "output_type": "stream",
     "text": [
      "/opt/homebrew/Caskroom/miniforge/base/envs/obspy/lib/python3.11/site-packages/obspy/signal/cross_correlation.py:291: RuntimeWarning: invalid value encountered in sqrt\n",
      "  np.sqrt(norm, out=norm)\n"
     ]
    },
    {
     "name": "stdout",
     "output_type": "stream",
     "text": [
      "1 detections found.\n",
      "Processing A05, 2020-01-12-21-00-00...\n",
      "No detections found.\n",
      "Processing A05, 2020-01-12-22-00-00...\n",
      "No detections found.\n",
      "Processing A05, 2020-01-12-23-00-00...\n"
     ]
    },
    {
     "name": "stderr",
     "output_type": "stream",
     "text": [
      "/opt/homebrew/Caskroom/miniforge/base/envs/obspy/lib/python3.11/site-packages/obspy/signal/cross_correlation.py:291: RuntimeWarning: invalid value encountered in sqrt\n",
      "  np.sqrt(norm, out=norm)\n"
     ]
    },
    {
     "name": "stdout",
     "output_type": "stream",
     "text": [
      "No detections found.\n",
      "Processing A05, 2020-01-13-00-00-00...\n",
      "No detections found.\n",
      "Processing A05, 2020-01-13-01-00-00...\n",
      "No detections found.\n",
      "Processing A05, 2020-01-13-02-00-00...\n",
      "No detections found.\n",
      "Processing A05, 2020-01-13-03-00-00...\n",
      "No detections found.\n",
      "Processing A05, 2020-01-13-04-00-00...\n",
      "No detections found.\n",
      "Processing A05, 2020-01-13-05-00-00...\n",
      "No detections found.\n",
      "Processing A05, 2020-01-13-06-00-00...\n",
      "No detections found.\n",
      "Processing A05, 2020-01-13-07-00-00...\n",
      "No detections found.\n",
      "Processing A05, 2020-01-13-08-00-00...\n",
      "73 detections found.\n",
      "Processing A05, 2020-01-13-09-00-00...\n"
     ]
    },
    {
     "name": "stderr",
     "output_type": "stream",
     "text": [
      "/opt/homebrew/Caskroom/miniforge/base/envs/obspy/lib/python3.11/site-packages/obspy/signal/cross_correlation.py:291: RuntimeWarning: invalid value encountered in sqrt\n",
      "  np.sqrt(norm, out=norm)\n"
     ]
    },
    {
     "name": "stdout",
     "output_type": "stream",
     "text": [
      "158 detections found.\n",
      "Processing A05, 2020-01-13-10-00-00...\n",
      "5 detections found.\n",
      "Processing A05, 2020-01-13-11-00-00...\n"
     ]
    },
    {
     "name": "stderr",
     "output_type": "stream",
     "text": [
      "/opt/homebrew/Caskroom/miniforge/base/envs/obspy/lib/python3.11/site-packages/obspy/signal/cross_correlation.py:291: RuntimeWarning: invalid value encountered in sqrt\n",
      "  np.sqrt(norm, out=norm)\n"
     ]
    },
    {
     "name": "stdout",
     "output_type": "stream",
     "text": [
      "No detections found.\n",
      "Processing A05, 2020-01-13-12-00-00...\n",
      "No detections found.\n",
      "Processing A05, 2020-01-13-13-00-00...\n",
      "1 detections found.\n",
      "Processing A05, 2020-01-13-14-00-00...\n",
      "1 detections found.\n",
      "Processing A05, 2020-01-13-15-00-00...\n",
      "No detections found.\n",
      "Processing A05, 2020-01-13-16-00-00...\n"
     ]
    },
    {
     "name": "stderr",
     "output_type": "stream",
     "text": [
      "/opt/homebrew/Caskroom/miniforge/base/envs/obspy/lib/python3.11/site-packages/obspy/signal/cross_correlation.py:291: RuntimeWarning: invalid value encountered in sqrt\n",
      "  np.sqrt(norm, out=norm)\n"
     ]
    },
    {
     "name": "stdout",
     "output_type": "stream",
     "text": [
      "No detections found.\n",
      "Processing A05, 2020-01-13-17-00-00...\n",
      "No detections found.\n",
      "Processing A05, 2020-01-13-18-00-00...\n",
      "No detections found.\n",
      "Processing A05, 2020-01-13-19-00-00...\n",
      "No detections found.\n",
      "Processing A05, 2020-01-13-20-00-00...\n",
      "No detections found.\n",
      "Processing A05, 2020-01-13-21-00-00...\n",
      "No detections found.\n",
      "Processing A05, 2020-01-13-22-00-00...\n",
      "No detections found.\n",
      "Processing A05, 2020-01-13-23-00-00...\n",
      "No detections found.\n",
      "Processing A05, 2020-01-14-00-00-00...\n",
      "No detections found.\n",
      "Processing A05, 2020-01-14-01-00-00...\n",
      "No detections found.\n",
      "Processing A05, 2020-01-14-02-00-00...\n",
      "No detections found.\n",
      "Processing A05, 2020-01-14-03-00-00...\n",
      "No detections found.\n",
      "Processing A05, 2020-01-14-04-00-00...\n",
      "No detections found.\n",
      "Processing A05, 2020-01-14-05-00-00...\n",
      "No detections found.\n",
      "Processing A05, 2020-01-14-06-00-00...\n",
      "No detections found.\n",
      "Processing A05, 2020-01-14-07-00-00...\n",
      "No detections found.\n",
      "Processing A05, 2020-01-14-08-00-00...\n",
      "No detections found.\n",
      "Processing A05, 2020-01-14-09-00-00...\n",
      "No detections found.\n",
      "Processing A05, 2020-01-14-10-00-00...\n",
      "No detections found.\n",
      "Processing A05, 2020-01-14-11-00-00...\n",
      "No detections found.\n",
      "Processing A05, 2020-01-14-12-00-00...\n",
      "No detections found.\n",
      "Processing A05, 2020-01-14-13-00-00...\n",
      "No detections found.\n",
      "Processing A05, 2020-01-14-14-00-00...\n",
      "No detections found.\n",
      "Processing A05, 2020-01-14-15-00-00...\n",
      "No detections found.\n",
      "Processing A05, 2020-01-14-16-00-00...\n",
      "No detections found.\n",
      "Processing A05, 2020-01-14-17-00-00...\n",
      "No detections found.\n",
      "Processing A05, 2020-01-14-18-00-00...\n",
      "No detections found.\n",
      "Processing A05, 2020-01-14-19-00-00...\n",
      "No detections found.\n",
      "Processing A05, 2020-01-14-20-00-00...\n",
      "No detections found.\n",
      "Processing A05, 2020-01-14-21-00-00...\n",
      "No detections found.\n",
      "Processing A05, 2020-01-14-22-00-00...\n",
      "No detections found.\n",
      "Processing A05, 2020-01-14-23-00-00...\n",
      "No detections found.\n",
      "Processing A05, 2020-01-15-00-00-00...\n",
      "No detections found.\n",
      "Processing A05, 2020-01-15-01-00-00...\n",
      "No detections found.\n",
      "Processing A05, 2020-01-15-02-00-00...\n",
      "2 detections found.\n",
      "Processing A05, 2020-01-15-03-00-00...\n"
     ]
    },
    {
     "name": "stderr",
     "output_type": "stream",
     "text": [
      "/opt/homebrew/Caskroom/miniforge/base/envs/obspy/lib/python3.11/site-packages/obspy/signal/cross_correlation.py:291: RuntimeWarning: invalid value encountered in sqrt\n",
      "  np.sqrt(norm, out=norm)\n"
     ]
    },
    {
     "name": "stdout",
     "output_type": "stream",
     "text": [
      "2 detections found.\n",
      "Processing A05, 2020-01-15-04-00-00...\n"
     ]
    },
    {
     "name": "stderr",
     "output_type": "stream",
     "text": [
      "/opt/homebrew/Caskroom/miniforge/base/envs/obspy/lib/python3.11/site-packages/obspy/signal/cross_correlation.py:291: RuntimeWarning: invalid value encountered in sqrt\n",
      "  np.sqrt(norm, out=norm)\n"
     ]
    },
    {
     "name": "stdout",
     "output_type": "stream",
     "text": [
      "2 detections found.\n",
      "Processing A05, 2020-01-15-05-00-00...\n"
     ]
    },
    {
     "name": "stderr",
     "output_type": "stream",
     "text": [
      "/opt/homebrew/Caskroom/miniforge/base/envs/obspy/lib/python3.11/site-packages/obspy/signal/cross_correlation.py:291: RuntimeWarning: invalid value encountered in sqrt\n",
      "  np.sqrt(norm, out=norm)\n"
     ]
    },
    {
     "name": "stdout",
     "output_type": "stream",
     "text": [
      "2 detections found.\n",
      "Processing A05, 2020-01-15-06-00-00...\n",
      "14 detections found.\n",
      "Processing A05, 2020-01-15-07-00-00...\n"
     ]
    },
    {
     "name": "stderr",
     "output_type": "stream",
     "text": [
      "/opt/homebrew/Caskroom/miniforge/base/envs/obspy/lib/python3.11/site-packages/obspy/signal/cross_correlation.py:291: RuntimeWarning: invalid value encountered in sqrt\n",
      "  np.sqrt(norm, out=norm)\n"
     ]
    },
    {
     "name": "stdout",
     "output_type": "stream",
     "text": [
      "64 detections found.\n",
      "Processing A05, 2020-01-15-08-00-00...\n"
     ]
    },
    {
     "name": "stderr",
     "output_type": "stream",
     "text": [
      "/opt/homebrew/Caskroom/miniforge/base/envs/obspy/lib/python3.11/site-packages/obspy/signal/cross_correlation.py:291: RuntimeWarning: invalid value encountered in sqrt\n",
      "  np.sqrt(norm, out=norm)\n"
     ]
    },
    {
     "name": "stdout",
     "output_type": "stream",
     "text": [
      "636 detections found.\n",
      "Processing A05, 2020-01-15-09-00-00...\n"
     ]
    },
    {
     "name": "stderr",
     "output_type": "stream",
     "text": [
      "/opt/homebrew/Caskroom/miniforge/base/envs/obspy/lib/python3.11/site-packages/obspy/signal/cross_correlation.py:291: RuntimeWarning: invalid value encountered in sqrt\n",
      "  np.sqrt(norm, out=norm)\n"
     ]
    },
    {
     "name": "stdout",
     "output_type": "stream",
     "text": [
      "399 detections found.\n",
      "Processing A05, 2020-01-15-10-00-00...\n"
     ]
    },
    {
     "name": "stderr",
     "output_type": "stream",
     "text": [
      "/opt/homebrew/Caskroom/miniforge/base/envs/obspy/lib/python3.11/site-packages/obspy/signal/cross_correlation.py:291: RuntimeWarning: invalid value encountered in sqrt\n",
      "  np.sqrt(norm, out=norm)\n"
     ]
    },
    {
     "name": "stdout",
     "output_type": "stream",
     "text": [
      "343 detections found.\n",
      "Processing A05, 2020-01-15-11-00-00...\n"
     ]
    },
    {
     "name": "stderr",
     "output_type": "stream",
     "text": [
      "/opt/homebrew/Caskroom/miniforge/base/envs/obspy/lib/python3.11/site-packages/obspy/signal/cross_correlation.py:291: RuntimeWarning: invalid value encountered in sqrt\n",
      "  np.sqrt(norm, out=norm)\n"
     ]
    },
    {
     "name": "stdout",
     "output_type": "stream",
     "text": [
      "177 detections found.\n",
      "Processing A05, 2020-01-15-12-00-00...\n"
     ]
    },
    {
     "name": "stderr",
     "output_type": "stream",
     "text": [
      "/opt/homebrew/Caskroom/miniforge/base/envs/obspy/lib/python3.11/site-packages/obspy/signal/cross_correlation.py:291: RuntimeWarning: invalid value encountered in sqrt\n",
      "  np.sqrt(norm, out=norm)\n"
     ]
    },
    {
     "name": "stdout",
     "output_type": "stream",
     "text": [
      "223 detections found.\n",
      "Processing A05, 2020-01-15-13-00-00...\n"
     ]
    },
    {
     "name": "stderr",
     "output_type": "stream",
     "text": [
      "/opt/homebrew/Caskroom/miniforge/base/envs/obspy/lib/python3.11/site-packages/obspy/signal/cross_correlation.py:291: RuntimeWarning: invalid value encountered in sqrt\n",
      "  np.sqrt(norm, out=norm)\n"
     ]
    },
    {
     "name": "stdout",
     "output_type": "stream",
     "text": [
      "158 detections found.\n",
      "Processing A05, 2020-01-15-14-00-00...\n"
     ]
    },
    {
     "name": "stderr",
     "output_type": "stream",
     "text": [
      "/opt/homebrew/Caskroom/miniforge/base/envs/obspy/lib/python3.11/site-packages/obspy/signal/cross_correlation.py:291: RuntimeWarning: invalid value encountered in sqrt\n",
      "  np.sqrt(norm, out=norm)\n"
     ]
    },
    {
     "name": "stdout",
     "output_type": "stream",
     "text": [
      "472 detections found.\n",
      "Processing A05, 2020-01-15-15-00-00...\n"
     ]
    },
    {
     "name": "stderr",
     "output_type": "stream",
     "text": [
      "/opt/homebrew/Caskroom/miniforge/base/envs/obspy/lib/python3.11/site-packages/obspy/signal/cross_correlation.py:291: RuntimeWarning: invalid value encountered in sqrt\n",
      "  np.sqrt(norm, out=norm)\n"
     ]
    },
    {
     "name": "stdout",
     "output_type": "stream",
     "text": [
      "160 detections found.\n",
      "Processing A05, 2020-01-15-16-00-00...\n"
     ]
    },
    {
     "name": "stderr",
     "output_type": "stream",
     "text": [
      "/opt/homebrew/Caskroom/miniforge/base/envs/obspy/lib/python3.11/site-packages/obspy/signal/cross_correlation.py:291: RuntimeWarning: invalid value encountered in sqrt\n",
      "  np.sqrt(norm, out=norm)\n"
     ]
    },
    {
     "name": "stdout",
     "output_type": "stream",
     "text": [
      "112 detections found.\n",
      "Processing A05, 2020-01-15-17-00-00...\n"
     ]
    },
    {
     "name": "stderr",
     "output_type": "stream",
     "text": [
      "/opt/homebrew/Caskroom/miniforge/base/envs/obspy/lib/python3.11/site-packages/obspy/signal/cross_correlation.py:291: RuntimeWarning: invalid value encountered in sqrt\n",
      "  np.sqrt(norm, out=norm)\n"
     ]
    },
    {
     "name": "stdout",
     "output_type": "stream",
     "text": [
      "230 detections found.\n",
      "Processing A05, 2020-01-15-18-00-00...\n"
     ]
    },
    {
     "name": "stderr",
     "output_type": "stream",
     "text": [
      "/opt/homebrew/Caskroom/miniforge/base/envs/obspy/lib/python3.11/site-packages/obspy/signal/cross_correlation.py:291: RuntimeWarning: invalid value encountered in sqrt\n",
      "  np.sqrt(norm, out=norm)\n"
     ]
    },
    {
     "name": "stdout",
     "output_type": "stream",
     "text": [
      "47 detections found.\n",
      "Processing A05, 2020-01-15-19-00-00...\n"
     ]
    },
    {
     "name": "stderr",
     "output_type": "stream",
     "text": [
      "/opt/homebrew/Caskroom/miniforge/base/envs/obspy/lib/python3.11/site-packages/obspy/signal/cross_correlation.py:291: RuntimeWarning: invalid value encountered in sqrt\n",
      "  np.sqrt(norm, out=norm)\n"
     ]
    },
    {
     "name": "stdout",
     "output_type": "stream",
     "text": [
      "99 detections found.\n",
      "Processing A05, 2020-01-15-20-00-00...\n"
     ]
    },
    {
     "name": "stderr",
     "output_type": "stream",
     "text": [
      "/opt/homebrew/Caskroom/miniforge/base/envs/obspy/lib/python3.11/site-packages/obspy/signal/cross_correlation.py:291: RuntimeWarning: invalid value encountered in sqrt\n",
      "  np.sqrt(norm, out=norm)\n"
     ]
    },
    {
     "name": "stdout",
     "output_type": "stream",
     "text": [
      "58 detections found.\n",
      "Processing A05, 2020-01-15-21-00-00...\n",
      "4 detections found.\n",
      "Processing A05, 2020-01-15-22-00-00...\n"
     ]
    },
    {
     "name": "stderr",
     "output_type": "stream",
     "text": [
      "/opt/homebrew/Caskroom/miniforge/base/envs/obspy/lib/python3.11/site-packages/obspy/signal/cross_correlation.py:291: RuntimeWarning: invalid value encountered in sqrt\n",
      "  np.sqrt(norm, out=norm)\n"
     ]
    },
    {
     "name": "stdout",
     "output_type": "stream",
     "text": [
      "No detections found.\n",
      "Processing A05, 2020-01-15-23-00-00...\n",
      "No detections found.\n",
      "Processing A05, 2020-01-16-00-00-00...\n",
      "No detections found.\n",
      "Processing A05, 2020-01-16-01-00-00...\n",
      "No detections found.\n",
      "Processing A05, 2020-01-16-02-00-00...\n",
      "No detections found.\n",
      "Processing A05, 2020-01-16-03-00-00...\n",
      "No detections found.\n",
      "Processing A05, 2020-01-16-04-00-00...\n",
      "1 detections found.\n",
      "Processing A05, 2020-01-16-05-00-00...\n"
     ]
    },
    {
     "name": "stderr",
     "output_type": "stream",
     "text": [
      "/opt/homebrew/Caskroom/miniforge/base/envs/obspy/lib/python3.11/site-packages/obspy/signal/cross_correlation.py:291: RuntimeWarning: invalid value encountered in sqrt\n",
      "  np.sqrt(norm, out=norm)\n"
     ]
    },
    {
     "name": "stdout",
     "output_type": "stream",
     "text": [
      "1 detections found.\n",
      "Processing A05, 2020-01-16-06-00-00...\n",
      "No detections found.\n",
      "Processing A05, 2020-01-16-07-00-00...\n",
      "2 detections found.\n",
      "Processing A05, 2020-01-16-08-00-00...\n",
      "2 detections found.\n",
      "Processing A05, 2020-01-16-09-00-00...\n",
      "6 detections found.\n",
      "Processing A05, 2020-01-16-10-00-00...\n"
     ]
    },
    {
     "name": "stderr",
     "output_type": "stream",
     "text": [
      "/opt/homebrew/Caskroom/miniforge/base/envs/obspy/lib/python3.11/site-packages/obspy/signal/cross_correlation.py:291: RuntimeWarning: invalid value encountered in sqrt\n",
      "  np.sqrt(norm, out=norm)\n"
     ]
    },
    {
     "name": "stdout",
     "output_type": "stream",
     "text": [
      "3 detections found.\n",
      "Processing A05, 2020-01-16-11-00-00...\n"
     ]
    },
    {
     "name": "stderr",
     "output_type": "stream",
     "text": [
      "/opt/homebrew/Caskroom/miniforge/base/envs/obspy/lib/python3.11/site-packages/obspy/signal/cross_correlation.py:291: RuntimeWarning: invalid value encountered in sqrt\n",
      "  np.sqrt(norm, out=norm)\n"
     ]
    },
    {
     "name": "stdout",
     "output_type": "stream",
     "text": [
      "3 detections found.\n",
      "Processing A05, 2020-01-16-12-00-00...\n",
      "4 detections found.\n",
      "Processing A05, 2020-01-16-13-00-00...\n"
     ]
    },
    {
     "name": "stderr",
     "output_type": "stream",
     "text": [
      "/opt/homebrew/Caskroom/miniforge/base/envs/obspy/lib/python3.11/site-packages/obspy/signal/cross_correlation.py:291: RuntimeWarning: invalid value encountered in sqrt\n",
      "  np.sqrt(norm, out=norm)\n"
     ]
    },
    {
     "name": "stdout",
     "output_type": "stream",
     "text": [
      "3 detections found.\n",
      "Processing A05, 2020-01-16-14-00-00...\n",
      "28 detections found.\n",
      "Processing A05, 2020-01-16-15-00-00...\n"
     ]
    },
    {
     "name": "stderr",
     "output_type": "stream",
     "text": [
      "/opt/homebrew/Caskroom/miniforge/base/envs/obspy/lib/python3.11/site-packages/obspy/signal/cross_correlation.py:291: RuntimeWarning: invalid value encountered in sqrt\n",
      "  np.sqrt(norm, out=norm)\n"
     ]
    },
    {
     "name": "stdout",
     "output_type": "stream",
     "text": [
      "18 detections found.\n",
      "Processing A05, 2020-01-16-16-00-00...\n",
      "10 detections found.\n",
      "Processing A05, 2020-01-16-17-00-00...\n"
     ]
    },
    {
     "name": "stderr",
     "output_type": "stream",
     "text": [
      "/opt/homebrew/Caskroom/miniforge/base/envs/obspy/lib/python3.11/site-packages/obspy/signal/cross_correlation.py:291: RuntimeWarning: invalid value encountered in sqrt\n",
      "  np.sqrt(norm, out=norm)\n"
     ]
    },
    {
     "name": "stdout",
     "output_type": "stream",
     "text": [
      "20 detections found.\n",
      "Processing A05, 2020-01-16-18-00-00...\n"
     ]
    },
    {
     "name": "stderr",
     "output_type": "stream",
     "text": [
      "/opt/homebrew/Caskroom/miniforge/base/envs/obspy/lib/python3.11/site-packages/obspy/signal/cross_correlation.py:291: RuntimeWarning: invalid value encountered in sqrt\n",
      "  np.sqrt(norm, out=norm)\n"
     ]
    },
    {
     "name": "stdout",
     "output_type": "stream",
     "text": [
      "13 detections found.\n",
      "Processing A05, 2020-01-16-19-00-00...\n"
     ]
    },
    {
     "name": "stderr",
     "output_type": "stream",
     "text": [
      "/opt/homebrew/Caskroom/miniforge/base/envs/obspy/lib/python3.11/site-packages/obspy/signal/cross_correlation.py:291: RuntimeWarning: invalid value encountered in sqrt\n",
      "  np.sqrt(norm, out=norm)\n"
     ]
    },
    {
     "name": "stdout",
     "output_type": "stream",
     "text": [
      "20 detections found.\n",
      "Processing A05, 2020-01-16-20-00-00...\n"
     ]
    },
    {
     "name": "stderr",
     "output_type": "stream",
     "text": [
      "/opt/homebrew/Caskroom/miniforge/base/envs/obspy/lib/python3.11/site-packages/obspy/signal/cross_correlation.py:291: RuntimeWarning: invalid value encountered in sqrt\n",
      "  np.sqrt(norm, out=norm)\n"
     ]
    },
    {
     "name": "stdout",
     "output_type": "stream",
     "text": [
      "17 detections found.\n",
      "Processing A05, 2020-01-16-21-00-00...\n"
     ]
    },
    {
     "name": "stderr",
     "output_type": "stream",
     "text": [
      "/opt/homebrew/Caskroom/miniforge/base/envs/obspy/lib/python3.11/site-packages/obspy/signal/cross_correlation.py:291: RuntimeWarning: invalid value encountered in sqrt\n",
      "  np.sqrt(norm, out=norm)\n"
     ]
    },
    {
     "name": "stdout",
     "output_type": "stream",
     "text": [
      "20 detections found.\n",
      "Processing A05, 2020-01-16-22-00-00...\n"
     ]
    },
    {
     "name": "stderr",
     "output_type": "stream",
     "text": [
      "/opt/homebrew/Caskroom/miniforge/base/envs/obspy/lib/python3.11/site-packages/obspy/signal/cross_correlation.py:291: RuntimeWarning: invalid value encountered in sqrt\n",
      "  np.sqrt(norm, out=norm)\n"
     ]
    },
    {
     "name": "stdout",
     "output_type": "stream",
     "text": [
      "9 detections found.\n",
      "Processing A05, 2020-01-16-23-00-00...\n"
     ]
    },
    {
     "name": "stderr",
     "output_type": "stream",
     "text": [
      "/opt/homebrew/Caskroom/miniforge/base/envs/obspy/lib/python3.11/site-packages/obspy/signal/cross_correlation.py:291: RuntimeWarning: invalid value encountered in sqrt\n",
      "  np.sqrt(norm, out=norm)\n"
     ]
    },
    {
     "name": "stdout",
     "output_type": "stream",
     "text": [
      "12 detections found.\n",
      "Processing A05, 2020-01-17-00-00-00...\n"
     ]
    },
    {
     "name": "stderr",
     "output_type": "stream",
     "text": [
      "/opt/homebrew/Caskroom/miniforge/base/envs/obspy/lib/python3.11/site-packages/obspy/signal/cross_correlation.py:291: RuntimeWarning: invalid value encountered in sqrt\n",
      "  np.sqrt(norm, out=norm)\n"
     ]
    },
    {
     "name": "stdout",
     "output_type": "stream",
     "text": [
      "3 detections found.\n",
      "Processing A05, 2020-01-17-01-00-00...\n"
     ]
    },
    {
     "name": "stderr",
     "output_type": "stream",
     "text": [
      "/opt/homebrew/Caskroom/miniforge/base/envs/obspy/lib/python3.11/site-packages/obspy/signal/cross_correlation.py:291: RuntimeWarning: invalid value encountered in sqrt\n",
      "  np.sqrt(norm, out=norm)\n"
     ]
    },
    {
     "name": "stdout",
     "output_type": "stream",
     "text": [
      "14 detections found.\n",
      "Processing A05, 2020-01-17-02-00-00...\n"
     ]
    },
    {
     "name": "stderr",
     "output_type": "stream",
     "text": [
      "/opt/homebrew/Caskroom/miniforge/base/envs/obspy/lib/python3.11/site-packages/obspy/signal/cross_correlation.py:291: RuntimeWarning: invalid value encountered in sqrt\n",
      "  np.sqrt(norm, out=norm)\n"
     ]
    },
    {
     "name": "stdout",
     "output_type": "stream",
     "text": [
      "1 detections found.\n",
      "Processing A05, 2020-01-17-03-00-00...\n"
     ]
    },
    {
     "name": "stderr",
     "output_type": "stream",
     "text": [
      "/opt/homebrew/Caskroom/miniforge/base/envs/obspy/lib/python3.11/site-packages/obspy/signal/cross_correlation.py:291: RuntimeWarning: invalid value encountered in sqrt\n",
      "  np.sqrt(norm, out=norm)\n"
     ]
    },
    {
     "name": "stdout",
     "output_type": "stream",
     "text": [
      "3 detections found.\n",
      "Processing A05, 2020-01-17-04-00-00...\n"
     ]
    },
    {
     "name": "stderr",
     "output_type": "stream",
     "text": [
      "/opt/homebrew/Caskroom/miniforge/base/envs/obspy/lib/python3.11/site-packages/obspy/signal/cross_correlation.py:291: RuntimeWarning: invalid value encountered in sqrt\n",
      "  np.sqrt(norm, out=norm)\n"
     ]
    },
    {
     "name": "stdout",
     "output_type": "stream",
     "text": [
      "No detections found.\n",
      "Processing A05, 2020-01-17-05-00-00...\n",
      "1 detections found.\n",
      "Processing A05, 2020-01-17-06-00-00...\n",
      "No detections found.\n",
      "Processing A05, 2020-01-17-07-00-00...\n"
     ]
    },
    {
     "name": "stderr",
     "output_type": "stream",
     "text": [
      "/opt/homebrew/Caskroom/miniforge/base/envs/obspy/lib/python3.11/site-packages/obspy/signal/cross_correlation.py:291: RuntimeWarning: invalid value encountered in sqrt\n",
      "  np.sqrt(norm, out=norm)\n"
     ]
    },
    {
     "name": "stdout",
     "output_type": "stream",
     "text": [
      "3 detections found.\n",
      "Processing A05, 2020-01-17-08-00-00...\n"
     ]
    },
    {
     "name": "stderr",
     "output_type": "stream",
     "text": [
      "/opt/homebrew/Caskroom/miniforge/base/envs/obspy/lib/python3.11/site-packages/obspy/signal/cross_correlation.py:291: RuntimeWarning: invalid value encountered in sqrt\n",
      "  np.sqrt(norm, out=norm)\n"
     ]
    },
    {
     "name": "stdout",
     "output_type": "stream",
     "text": [
      "5 detections found.\n",
      "Processing A05, 2020-01-17-09-00-00...\n"
     ]
    },
    {
     "name": "stderr",
     "output_type": "stream",
     "text": [
      "/opt/homebrew/Caskroom/miniforge/base/envs/obspy/lib/python3.11/site-packages/obspy/signal/cross_correlation.py:291: RuntimeWarning: invalid value encountered in sqrt\n",
      "  np.sqrt(norm, out=norm)\n"
     ]
    },
    {
     "name": "stdout",
     "output_type": "stream",
     "text": [
      "14 detections found.\n",
      "Processing A05, 2020-01-17-10-00-00...\n"
     ]
    },
    {
     "name": "stderr",
     "output_type": "stream",
     "text": [
      "/opt/homebrew/Caskroom/miniforge/base/envs/obspy/lib/python3.11/site-packages/obspy/signal/cross_correlation.py:291: RuntimeWarning: invalid value encountered in sqrt\n",
      "  np.sqrt(norm, out=norm)\n"
     ]
    },
    {
     "name": "stdout",
     "output_type": "stream",
     "text": [
      "2 detections found.\n",
      "Processing A05, 2020-01-17-11-00-00...\n"
     ]
    },
    {
     "name": "stderr",
     "output_type": "stream",
     "text": [
      "/opt/homebrew/Caskroom/miniforge/base/envs/obspy/lib/python3.11/site-packages/obspy/signal/cross_correlation.py:291: RuntimeWarning: invalid value encountered in sqrt\n",
      "  np.sqrt(norm, out=norm)\n"
     ]
    },
    {
     "name": "stdout",
     "output_type": "stream",
     "text": [
      "2 detections found.\n",
      "Processing A05, 2020-01-17-12-00-00...\n"
     ]
    },
    {
     "name": "stderr",
     "output_type": "stream",
     "text": [
      "/opt/homebrew/Caskroom/miniforge/base/envs/obspy/lib/python3.11/site-packages/obspy/signal/cross_correlation.py:291: RuntimeWarning: invalid value encountered in sqrt\n",
      "  np.sqrt(norm, out=norm)\n"
     ]
    },
    {
     "name": "stdout",
     "output_type": "stream",
     "text": [
      "5 detections found.\n",
      "Processing A05, 2020-01-17-13-00-00...\n",
      "5 detections found.\n",
      "Processing A05, 2020-01-17-14-00-00...\n"
     ]
    },
    {
     "name": "stderr",
     "output_type": "stream",
     "text": [
      "/opt/homebrew/Caskroom/miniforge/base/envs/obspy/lib/python3.11/site-packages/obspy/signal/cross_correlation.py:291: RuntimeWarning: invalid value encountered in sqrt\n",
      "  np.sqrt(norm, out=norm)\n"
     ]
    },
    {
     "name": "stdout",
     "output_type": "stream",
     "text": [
      "64 detections found.\n",
      "Processing A05, 2020-01-17-15-00-00...\n"
     ]
    },
    {
     "name": "stderr",
     "output_type": "stream",
     "text": [
      "/opt/homebrew/Caskroom/miniforge/base/envs/obspy/lib/python3.11/site-packages/obspy/signal/cross_correlation.py:291: RuntimeWarning: invalid value encountered in sqrt\n",
      "  np.sqrt(norm, out=norm)\n"
     ]
    },
    {
     "name": "stdout",
     "output_type": "stream",
     "text": [
      "29 detections found.\n",
      "Processing A05, 2020-01-17-16-00-00...\n"
     ]
    },
    {
     "name": "stderr",
     "output_type": "stream",
     "text": [
      "/opt/homebrew/Caskroom/miniforge/base/envs/obspy/lib/python3.11/site-packages/obspy/signal/cross_correlation.py:291: RuntimeWarning: invalid value encountered in sqrt\n",
      "  np.sqrt(norm, out=norm)\n"
     ]
    },
    {
     "name": "stdout",
     "output_type": "stream",
     "text": [
      "3 detections found.\n",
      "Processing A05, 2020-01-17-17-00-00...\n"
     ]
    },
    {
     "name": "stderr",
     "output_type": "stream",
     "text": [
      "/opt/homebrew/Caskroom/miniforge/base/envs/obspy/lib/python3.11/site-packages/obspy/signal/cross_correlation.py:291: RuntimeWarning: invalid value encountered in sqrt\n",
      "  np.sqrt(norm, out=norm)\n"
     ]
    },
    {
     "name": "stdout",
     "output_type": "stream",
     "text": [
      "No detections found.\n",
      "Processing A05, 2020-01-17-18-00-00...\n",
      "1 detections found.\n",
      "Processing A05, 2020-01-17-19-00-00...\n"
     ]
    },
    {
     "name": "stderr",
     "output_type": "stream",
     "text": [
      "/opt/homebrew/Caskroom/miniforge/base/envs/obspy/lib/python3.11/site-packages/obspy/signal/cross_correlation.py:291: RuntimeWarning: invalid value encountered in sqrt\n",
      "  np.sqrt(norm, out=norm)\n"
     ]
    },
    {
     "name": "stdout",
     "output_type": "stream",
     "text": [
      "1 detections found.\n",
      "Processing A05, 2020-01-17-20-00-00...\n",
      "No detections found.\n",
      "Processing A05, 2020-01-17-21-00-00...\n"
     ]
    },
    {
     "name": "stderr",
     "output_type": "stream",
     "text": [
      "/opt/homebrew/Caskroom/miniforge/base/envs/obspy/lib/python3.11/site-packages/obspy/signal/cross_correlation.py:291: RuntimeWarning: invalid value encountered in sqrt\n",
      "  np.sqrt(norm, out=norm)\n"
     ]
    },
    {
     "name": "stdout",
     "output_type": "stream",
     "text": [
      "No detections found.\n",
      "Processing A05, 2020-01-17-22-00-00...\n",
      "1 detections found.\n",
      "Processing A05, 2020-01-17-23-00-00...\n"
     ]
    },
    {
     "name": "stderr",
     "output_type": "stream",
     "text": [
      "/opt/homebrew/Caskroom/miniforge/base/envs/obspy/lib/python3.11/site-packages/obspy/signal/cross_correlation.py:291: RuntimeWarning: invalid value encountered in sqrt\n",
      "  np.sqrt(norm, out=norm)\n"
     ]
    },
    {
     "name": "stdout",
     "output_type": "stream",
     "text": [
      "1 detections found.\n",
      "Processing A05, 2020-01-18-00-00-00...\n"
     ]
    },
    {
     "name": "stderr",
     "output_type": "stream",
     "text": [
      "/opt/homebrew/Caskroom/miniforge/base/envs/obspy/lib/python3.11/site-packages/obspy/signal/cross_correlation.py:291: RuntimeWarning: invalid value encountered in sqrt\n",
      "  np.sqrt(norm, out=norm)\n"
     ]
    },
    {
     "name": "stdout",
     "output_type": "stream",
     "text": [
      "1 detections found.\n",
      "Processing A05, 2020-01-18-01-00-00...\n"
     ]
    },
    {
     "name": "stderr",
     "output_type": "stream",
     "text": [
      "/opt/homebrew/Caskroom/miniforge/base/envs/obspy/lib/python3.11/site-packages/obspy/signal/cross_correlation.py:291: RuntimeWarning: invalid value encountered in sqrt\n",
      "  np.sqrt(norm, out=norm)\n"
     ]
    },
    {
     "name": "stdout",
     "output_type": "stream",
     "text": [
      "4 detections found.\n",
      "Processing A05, 2020-01-18-02-00-00...\n",
      "No detections found.\n",
      "Processing A05, 2020-01-18-03-00-00...\n",
      "No detections found.\n",
      "Processing A05, 2020-01-18-04-00-00...\n"
     ]
    },
    {
     "name": "stderr",
     "output_type": "stream",
     "text": [
      "/opt/homebrew/Caskroom/miniforge/base/envs/obspy/lib/python3.11/site-packages/obspy/signal/cross_correlation.py:291: RuntimeWarning: invalid value encountered in sqrt\n",
      "  np.sqrt(norm, out=norm)\n"
     ]
    },
    {
     "name": "stdout",
     "output_type": "stream",
     "text": [
      "1 detections found.\n",
      "Processing A05, 2020-01-18-05-00-00...\n"
     ]
    },
    {
     "name": "stderr",
     "output_type": "stream",
     "text": [
      "/opt/homebrew/Caskroom/miniforge/base/envs/obspy/lib/python3.11/site-packages/obspy/signal/cross_correlation.py:291: RuntimeWarning: invalid value encountered in sqrt\n",
      "  np.sqrt(norm, out=norm)\n"
     ]
    },
    {
     "name": "stdout",
     "output_type": "stream",
     "text": [
      "6 detections found.\n",
      "Processing A05, 2020-01-18-06-00-00...\n"
     ]
    },
    {
     "name": "stderr",
     "output_type": "stream",
     "text": [
      "/opt/homebrew/Caskroom/miniforge/base/envs/obspy/lib/python3.11/site-packages/obspy/signal/cross_correlation.py:291: RuntimeWarning: invalid value encountered in sqrt\n",
      "  np.sqrt(norm, out=norm)\n"
     ]
    },
    {
     "name": "stdout",
     "output_type": "stream",
     "text": [
      "3 detections found.\n",
      "Processing A05, 2020-01-18-07-00-00...\n"
     ]
    },
    {
     "name": "stderr",
     "output_type": "stream",
     "text": [
      "/opt/homebrew/Caskroom/miniforge/base/envs/obspy/lib/python3.11/site-packages/obspy/signal/cross_correlation.py:291: RuntimeWarning: invalid value encountered in sqrt\n",
      "  np.sqrt(norm, out=norm)\n"
     ]
    },
    {
     "name": "stdout",
     "output_type": "stream",
     "text": [
      "No detections found.\n",
      "Processing A05, 2020-01-18-08-00-00...\n",
      "2 detections found.\n",
      "Processing A05, 2020-01-18-09-00-00...\n"
     ]
    },
    {
     "name": "stderr",
     "output_type": "stream",
     "text": [
      "/opt/homebrew/Caskroom/miniforge/base/envs/obspy/lib/python3.11/site-packages/obspy/signal/cross_correlation.py:291: RuntimeWarning: invalid value encountered in sqrt\n",
      "  np.sqrt(norm, out=norm)\n"
     ]
    },
    {
     "name": "stdout",
     "output_type": "stream",
     "text": [
      "No detections found.\n",
      "Processing A05, 2020-01-18-10-00-00...\n",
      "No detections found.\n",
      "Processing A05, 2020-01-18-11-00-00...\n",
      "No detections found.\n",
      "Processing A05, 2020-01-18-12-00-00...\n",
      "No detections found.\n",
      "Processing A05, 2020-01-18-13-00-00...\n",
      "No detections found.\n",
      "Processing A05, 2020-01-18-14-00-00...\n",
      "No detections found.\n",
      "Processing A05, 2020-01-18-15-00-00...\n",
      "No detections found.\n",
      "Processing A05, 2020-01-18-16-00-00...\n",
      "No detections found.\n",
      "Processing A05, 2020-01-18-17-00-00...\n",
      "No detections found.\n",
      "Processing A05, 2020-01-18-18-00-00...\n",
      "No detections found.\n",
      "Processing A05, 2020-01-18-19-00-00...\n",
      "1 detections found.\n",
      "Processing A05, 2020-01-18-20-00-00...\n",
      "No detections found.\n",
      "Processing A05, 2020-01-18-21-00-00...\n",
      "No detections found.\n",
      "Processing A05, 2020-01-18-22-00-00...\n"
     ]
    },
    {
     "name": "stderr",
     "output_type": "stream",
     "text": [
      "/opt/homebrew/Caskroom/miniforge/base/envs/obspy/lib/python3.11/site-packages/obspy/signal/cross_correlation.py:291: RuntimeWarning: invalid value encountered in sqrt\n",
      "  np.sqrt(norm, out=norm)\n"
     ]
    },
    {
     "name": "stdout",
     "output_type": "stream",
     "text": [
      "No detections found.\n",
      "Processing A05, 2020-01-18-23-00-00...\n",
      "No detections found.\n",
      "Processing A05, 2020-01-19-00-00-00...\n",
      "No detections found.\n",
      "Processing A05, 2020-01-19-01-00-00...\n",
      "No detections found.\n",
      "Processing A05, 2020-01-19-02-00-00...\n",
      "No detections found.\n",
      "Processing A05, 2020-01-19-03-00-00...\n",
      "No detections found.\n",
      "Processing A05, 2020-01-19-04-00-00...\n",
      "No detections found.\n",
      "Processing A05, 2020-01-19-05-00-00...\n",
      "No detections found.\n",
      "Processing A05, 2020-01-19-06-00-00...\n",
      "No detections found.\n",
      "Processing A05, 2020-01-19-07-00-00...\n",
      "No detections found.\n",
      "Processing A05, 2020-01-19-08-00-00...\n",
      "No detections found.\n",
      "Processing A05, 2020-01-19-09-00-00...\n",
      "No detections found.\n",
      "Processing A05, 2020-01-19-10-00-00...\n",
      "No detections found.\n",
      "Processing A05, 2020-01-19-11-00-00...\n",
      "No detections found.\n",
      "Processing A05, 2020-01-19-12-00-00...\n",
      "No detections found.\n",
      "Processing A05, 2020-01-19-13-00-00...\n",
      "No detections found.\n",
      "Processing A05, 2020-01-19-14-00-00...\n",
      "No detections found.\n",
      "Processing A05, 2020-01-19-15-00-00...\n",
      "No detections found.\n",
      "Processing A05, 2020-01-19-16-00-00...\n",
      "No detections found.\n",
      "Processing A05, 2020-01-19-17-00-00...\n",
      "No detections found.\n",
      "Processing A05, 2020-01-19-18-00-00...\n",
      "No detections found.\n",
      "Processing A05, 2020-01-19-19-00-00...\n",
      "No detections found.\n",
      "Processing A05, 2020-01-19-20-00-00...\n",
      "No detections found.\n",
      "Processing A05, 2020-01-19-21-00-00...\n",
      "No detections found.\n",
      "Processing A05, 2020-01-19-22-00-00...\n",
      "No detections found.\n",
      "Processing A05, 2020-01-19-23-00-00...\n",
      "No detections found.\n",
      "Processing A05, 2020-01-20-00-00-00...\n",
      "No detections found.\n",
      "Processing A05, 2020-01-20-01-00-00...\n",
      "No detections found.\n",
      "Processing A05, 2020-01-20-02-00-00...\n",
      "No detections found.\n",
      "Processing A05, 2020-01-20-03-00-00...\n",
      "No detections found.\n",
      "Processing A05, 2020-01-20-04-00-00...\n",
      "No detections found.\n",
      "Processing A05, 2020-01-20-05-00-00...\n",
      "No detections found.\n",
      "Processing A05, 2020-01-20-06-00-00...\n",
      "No detections found.\n",
      "Processing A05, 2020-01-20-07-00-00...\n",
      "No detections found.\n",
      "Processing A05, 2020-01-20-08-00-00...\n",
      "No detections found.\n",
      "Processing A05, 2020-01-20-09-00-00...\n",
      "No detections found.\n",
      "Processing A05, 2020-01-20-10-00-00...\n",
      "No detections found.\n",
      "Processing A05, 2020-01-20-11-00-00...\n",
      "No detections found.\n",
      "Processing A05, 2020-01-20-12-00-00...\n",
      "No detections found.\n",
      "Processing A05, 2020-01-20-13-00-00...\n",
      "No detections found.\n",
      "Processing A05, 2020-01-20-14-00-00...\n",
      "No detections found.\n",
      "Processing A05, 2020-01-20-15-00-00...\n",
      "No detections found.\n",
      "Processing A05, 2020-01-20-16-00-00...\n",
      "No detections found.\n",
      "Processing A05, 2020-01-20-17-00-00...\n",
      "1 detections found.\n",
      "Processing A05, 2020-01-20-18-00-00...\n",
      "No detections found.\n",
      "Processing A05, 2020-01-20-19-00-00...\n",
      "No detections found.\n",
      "Processing A05, 2020-01-20-20-00-00...\n"
     ]
    },
    {
     "name": "stderr",
     "output_type": "stream",
     "text": [
      "/opt/homebrew/Caskroom/miniforge/base/envs/obspy/lib/python3.11/site-packages/obspy/signal/cross_correlation.py:291: RuntimeWarning: invalid value encountered in sqrt\n",
      "  np.sqrt(norm, out=norm)\n"
     ]
    },
    {
     "name": "stdout",
     "output_type": "stream",
     "text": [
      "No detections found.\n",
      "Processing A05, 2020-01-20-21-00-00...\n",
      "No detections found.\n",
      "Processing A05, 2020-01-20-22-00-00...\n",
      "No detections found.\n",
      "Processing A05, 2020-01-20-23-00-00...\n",
      "No detections found.\n",
      "Processing A05, 2020-01-21-00-00-00...\n",
      "No detections found.\n",
      "Processing A05, 2020-01-21-01-00-00...\n",
      "No detections found.\n",
      "Processing A05, 2020-01-21-02-00-00...\n",
      "No detections found.\n",
      "Processing A05, 2020-01-21-03-00-00...\n",
      "No detections found.\n",
      "Processing A05, 2020-01-21-04-00-00...\n",
      "No detections found.\n",
      "Processing A05, 2020-01-21-05-00-00...\n",
      "No detections found.\n",
      "Processing A05, 2020-01-21-06-00-00...\n",
      "No detections found.\n",
      "Processing A05, 2020-01-21-07-00-00...\n",
      "No detections found.\n",
      "Processing A05, 2020-01-21-08-00-00...\n",
      "No detections found.\n",
      "Processing A05, 2020-01-21-09-00-00...\n",
      "No detections found.\n",
      "Processing A05, 2020-01-21-10-00-00...\n",
      "No detections found.\n",
      "Processing A05, 2020-01-21-11-00-00...\n",
      "No detections found.\n",
      "Processing A05, 2020-01-21-12-00-00...\n",
      "No detections found.\n",
      "Processing A05, 2020-01-21-13-00-00...\n",
      "No detections found.\n",
      "Processing A05, 2020-01-21-14-00-00...\n",
      "No detections found.\n",
      "Processing A05, 2020-01-21-15-00-00...\n",
      "No detections found.\n",
      "Processing A05, 2020-01-21-16-00-00...\n",
      "No detections found.\n",
      "Processing A05, 2020-01-21-17-00-00...\n",
      "No detections found.\n",
      "Processing A05, 2020-01-21-18-00-00...\n",
      "No detections found.\n",
      "Processing A05, 2020-01-21-19-00-00...\n",
      "No detections found.\n",
      "Processing A05, 2020-01-21-20-00-00...\n",
      "No detections found.\n",
      "Processing A05, 2020-01-21-21-00-00...\n",
      "No detections found.\n",
      "Processing A05, 2020-01-21-22-00-00...\n",
      "No detections found.\n",
      "Processing A05, 2020-01-21-23-00-00...\n",
      "No detections found.\n",
      "Processing A05, 2020-01-22-00-00-00...\n",
      "No detections found.\n",
      "Processing A05, 2020-01-22-01-00-00...\n",
      "No detections found.\n",
      "Processing A05, 2020-01-22-02-00-00...\n",
      "No detections found.\n",
      "Processing A05, 2020-01-22-03-00-00...\n",
      "No detections found.\n",
      "Processing A05, 2020-01-22-04-00-00...\n",
      "No detections found.\n",
      "Processing A05, 2020-01-22-05-00-00...\n",
      "No detections found.\n",
      "Processing A05, 2020-01-22-06-00-00...\n",
      "No detections found.\n",
      "Processing A05, 2020-01-22-07-00-00...\n",
      "No detections found.\n",
      "Processing A05, 2020-01-22-08-00-00...\n",
      "No detections found.\n",
      "Processing A05, 2020-01-22-09-00-00...\n",
      "No detections found.\n",
      "Processing A05, 2020-01-22-10-00-00...\n",
      "No detections found.\n",
      "Processing A05, 2020-01-22-11-00-00...\n",
      "No detections found.\n",
      "Processing A05, 2020-01-22-12-00-00...\n",
      "No detections found.\n",
      "Processing A05, 2020-01-22-13-00-00...\n",
      "No detections found.\n",
      "Processing A05, 2020-01-22-14-00-00...\n",
      "No detections found.\n",
      "Processing A05, 2020-01-22-15-00-00...\n",
      "No detections found.\n",
      "Processing A05, 2020-01-22-16-00-00...\n",
      "No detections found.\n",
      "Processing A05, 2020-01-22-17-00-00...\n",
      "No detections found.\n",
      "Processing A05, 2020-01-22-18-00-00...\n",
      "No detections found.\n",
      "Processing A05, 2020-01-22-19-00-00...\n",
      "No detections found.\n",
      "Processing A05, 2020-01-22-20-00-00...\n",
      "No detections found.\n",
      "Processing A05, 2020-01-22-21-00-00...\n",
      "No detections found.\n",
      "Processing A05, 2020-01-22-22-00-00...\n",
      "No detections found.\n",
      "Processing A05, 2020-01-22-23-00-00...\n",
      "No detections found.\n",
      "Processing A05, 2020-01-23-00-00-00...\n",
      "No detections found.\n",
      "Processing A05, 2020-01-23-01-00-00...\n",
      "No detections found.\n",
      "Processing A05, 2020-01-23-02-00-00...\n",
      "No detections found.\n",
      "Processing A05, 2020-01-23-03-00-00...\n",
      "No detections found.\n",
      "Processing A05, 2020-01-23-04-00-00...\n",
      "No detections found.\n",
      "Processing A05, 2020-01-23-05-00-00...\n",
      "No detections found.\n",
      "Processing A05, 2020-01-23-06-00-00...\n",
      "No detections found.\n",
      "Processing A05, 2020-01-23-07-00-00...\n",
      "No detections found.\n",
      "Processing A05, 2020-01-23-08-00-00...\n",
      "No detections found.\n",
      "Processing A05, 2020-01-23-09-00-00...\n",
      "No detections found.\n",
      "Processing A05, 2020-01-23-10-00-00...\n",
      "No detections found.\n",
      "Processing A05, 2020-01-23-11-00-00...\n",
      "No detections found.\n",
      "Processing A05, 2020-01-23-12-00-00...\n",
      "No detections found.\n",
      "Processing A05, 2020-01-23-13-00-00...\n",
      "No detections found.\n",
      "Processing A05, 2020-01-23-14-00-00...\n",
      "No detections found.\n",
      "Processing A05, 2020-01-23-15-00-00...\n",
      "No detections found.\n",
      "Processing A05, 2020-01-23-16-00-00...\n",
      "No detections found.\n",
      "Processing A05, 2020-01-23-17-00-00...\n",
      "No detections found.\n",
      "Processing A05, 2020-01-23-18-00-00...\n",
      "No detections found.\n",
      "Processing A05, 2020-01-23-19-00-00...\n",
      "No detections found.\n",
      "Processing A05, 2020-01-23-20-00-00...\n",
      "No detections found.\n",
      "Processing A05, 2020-01-23-21-00-00...\n",
      "No detections found.\n",
      "Processing A05, 2020-01-23-22-00-00...\n",
      "No detections found.\n",
      "Processing A05, 2020-01-23-23-00-00...\n",
      "No detections found.\n",
      "Processing A05, 2020-01-24-00-00-00...\n",
      "No detections found.\n",
      "Processing A05, 2020-01-24-01-00-00...\n",
      "No detections found.\n",
      "Processing A05, 2020-01-24-02-00-00...\n",
      "No detections found.\n",
      "Processing A05, 2020-01-24-03-00-00...\n",
      "No detections found.\n",
      "Processing A05, 2020-01-24-04-00-00...\n",
      "No detections found.\n",
      "Processing A05, 2020-01-24-05-00-00...\n",
      "No detections found.\n",
      "Processing A05, 2020-01-24-06-00-00...\n",
      "No detections found.\n",
      "Processing A05, 2020-01-24-07-00-00...\n",
      "No detections found.\n",
      "Processing A05, 2020-01-24-08-00-00...\n",
      "No detections found.\n",
      "Processing A05, 2020-01-24-09-00-00...\n",
      "No detections found.\n",
      "Processing A05, 2020-01-24-10-00-00...\n",
      "No detections found.\n",
      "Processing A05, 2020-01-24-11-00-00...\n",
      "No detections found.\n",
      "Processing A05, 2020-01-24-12-00-00...\n",
      "No detections found.\n",
      "Processing A05, 2020-01-24-13-00-00...\n",
      "No detections found.\n",
      "Processing A05, 2020-01-24-14-00-00...\n",
      "No detections found.\n",
      "Processing A05, 2020-01-24-15-00-00...\n",
      "No detections found.\n",
      "Processing A05, 2020-01-24-16-00-00...\n",
      "No detections found.\n",
      "Processing A05, 2020-01-24-17-00-00...\n",
      "No detections found.\n",
      "Processing A05, 2020-01-24-18-00-00...\n",
      "No detections found.\n",
      "Processing A05, 2020-01-24-19-00-00...\n",
      "No detections found.\n",
      "Processing A05, 2020-01-24-20-00-00...\n",
      "No detections found.\n",
      "Processing A05, 2020-01-24-21-00-00...\n",
      "No detections found.\n",
      "Processing A05, 2020-01-24-22-00-00...\n",
      "No detections found.\n",
      "Processing A05, 2020-01-24-23-00-00...\n",
      "No detections found.\n",
      "Processing A05, 2020-01-25-00-00-00...\n",
      "No detections found.\n",
      "Processing A05, 2020-01-25-01-00-00...\n",
      "No detections found.\n",
      "Processing A05, 2020-01-25-02-00-00...\n",
      "No detections found.\n",
      "Processing A05, 2020-01-25-03-00-00...\n",
      "No detections found.\n",
      "Processing A05, 2020-01-25-04-00-00...\n",
      "No detections found.\n",
      "Processing A05, 2020-01-25-05-00-00...\n",
      "No detections found.\n",
      "Processing A05, 2020-01-25-06-00-00...\n",
      "No detections found.\n",
      "Processing A05, 2020-01-25-07-00-00...\n",
      "No detections found.\n",
      "Processing A05, 2020-01-25-08-00-00...\n",
      "1 detections found.\n",
      "Processing A05, 2020-01-25-09-00-00...\n"
     ]
    },
    {
     "name": "stderr",
     "output_type": "stream",
     "text": [
      "/opt/homebrew/Caskroom/miniforge/base/envs/obspy/lib/python3.11/site-packages/obspy/signal/cross_correlation.py:291: RuntimeWarning: invalid value encountered in sqrt\n",
      "  np.sqrt(norm, out=norm)\n"
     ]
    },
    {
     "name": "stdout",
     "output_type": "stream",
     "text": [
      "No detections found.\n",
      "Processing A05, 2020-01-25-10-00-00...\n",
      "No detections found.\n",
      "Processing A05, 2020-01-25-11-00-00...\n",
      "No detections found.\n",
      "Processing A05, 2020-01-25-12-00-00...\n",
      "No detections found.\n",
      "Processing A05, 2020-01-25-13-00-00...\n",
      "No detections found.\n",
      "Processing A05, 2020-01-25-14-00-00...\n",
      "No detections found.\n",
      "Processing A05, 2020-01-25-15-00-00...\n",
      "No detections found.\n",
      "Processing A05, 2020-01-25-16-00-00...\n",
      "No detections found.\n",
      "Processing A05, 2020-01-25-17-00-00...\n",
      "No detections found.\n",
      "Processing A05, 2020-01-25-18-00-00...\n",
      "No detections found.\n",
      "Processing A05, 2020-01-25-19-00-00...\n",
      "No detections found.\n",
      "Processing A05, 2020-01-25-20-00-00...\n",
      "No detections found.\n",
      "Processing A05, 2020-01-25-21-00-00...\n",
      "No detections found.\n",
      "Processing A05, 2020-01-25-22-00-00...\n",
      "No detections found.\n",
      "Processing A05, 2020-01-25-23-00-00...\n",
      "No detections found.\n",
      "Processing A05, 2020-01-26-00-00-00...\n",
      "1 detections found.\n",
      "Processing A05, 2020-01-26-01-00-00...\n"
     ]
    },
    {
     "name": "stderr",
     "output_type": "stream",
     "text": [
      "/opt/homebrew/Caskroom/miniforge/base/envs/obspy/lib/python3.11/site-packages/obspy/signal/cross_correlation.py:291: RuntimeWarning: invalid value encountered in sqrt\n",
      "  np.sqrt(norm, out=norm)\n"
     ]
    },
    {
     "name": "stdout",
     "output_type": "stream",
     "text": [
      "No detections found.\n",
      "Processing A05, 2020-01-26-02-00-00...\n",
      "No detections found.\n",
      "Processing A05, 2020-01-26-03-00-00...\n",
      "No detections found.\n",
      "Processing A05, 2020-01-26-04-00-00...\n",
      "No detections found.\n",
      "Processing A05, 2020-01-26-05-00-00...\n",
      "No detections found.\n",
      "Processing A05, 2020-01-26-06-00-00...\n",
      "No detections found.\n",
      "Processing A05, 2020-01-26-07-00-00...\n",
      "No detections found.\n",
      "Processing A05, 2020-01-26-08-00-00...\n",
      "No detections found.\n",
      "Processing A05, 2020-01-26-09-00-00...\n",
      "No detections found.\n",
      "Processing A05, 2020-01-26-10-00-00...\n",
      "2 detections found.\n",
      "Processing A05, 2020-01-26-11-00-00...\n"
     ]
    },
    {
     "name": "stderr",
     "output_type": "stream",
     "text": [
      "/opt/homebrew/Caskroom/miniforge/base/envs/obspy/lib/python3.11/site-packages/obspy/signal/cross_correlation.py:291: RuntimeWarning: invalid value encountered in sqrt\n",
      "  np.sqrt(norm, out=norm)\n"
     ]
    },
    {
     "name": "stdout",
     "output_type": "stream",
     "text": [
      "No detections found.\n",
      "Processing A05, 2020-01-26-12-00-00...\n",
      "No detections found.\n",
      "Processing A05, 2020-01-26-13-00-00...\n",
      "No detections found.\n",
      "Processing A05, 2020-01-26-14-00-00...\n",
      "No detections found.\n",
      "Processing A05, 2020-01-26-15-00-00...\n",
      "No detections found.\n",
      "Processing A05, 2020-01-26-16-00-00...\n",
      "No detections found.\n",
      "Processing A05, 2020-01-26-17-00-00...\n",
      "No detections found.\n",
      "Processing A05, 2020-01-26-18-00-00...\n",
      "No detections found.\n",
      "Processing A05, 2020-01-26-19-00-00...\n",
      "No detections found.\n",
      "Processing A05, 2020-01-26-20-00-00...\n",
      "6 detections found.\n",
      "Processing A05, 2020-01-26-21-00-00...\n"
     ]
    },
    {
     "name": "stderr",
     "output_type": "stream",
     "text": [
      "/opt/homebrew/Caskroom/miniforge/base/envs/obspy/lib/python3.11/site-packages/obspy/signal/cross_correlation.py:291: RuntimeWarning: invalid value encountered in sqrt\n",
      "  np.sqrt(norm, out=norm)\n"
     ]
    },
    {
     "name": "stdout",
     "output_type": "stream",
     "text": [
      "307 detections found.\n",
      "Processing A05, 2020-01-26-22-00-00...\n"
     ]
    },
    {
     "name": "stderr",
     "output_type": "stream",
     "text": [
      "/opt/homebrew/Caskroom/miniforge/base/envs/obspy/lib/python3.11/site-packages/obspy/signal/cross_correlation.py:291: RuntimeWarning: invalid value encountered in sqrt\n",
      "  np.sqrt(norm, out=norm)\n"
     ]
    },
    {
     "name": "stdout",
     "output_type": "stream",
     "text": [
      "945 detections found.\n",
      "Processing A05, 2020-01-26-23-00-00...\n"
     ]
    },
    {
     "name": "stderr",
     "output_type": "stream",
     "text": [
      "/opt/homebrew/Caskroom/miniforge/base/envs/obspy/lib/python3.11/site-packages/obspy/signal/cross_correlation.py:291: RuntimeWarning: invalid value encountered in sqrt\n",
      "  np.sqrt(norm, out=norm)\n"
     ]
    },
    {
     "name": "stdout",
     "output_type": "stream",
     "text": [
      "1515 detections found.\n",
      "Processing A05, 2020-01-27-00-00-00...\n"
     ]
    },
    {
     "name": "stderr",
     "output_type": "stream",
     "text": [
      "/opt/homebrew/Caskroom/miniforge/base/envs/obspy/lib/python3.11/site-packages/obspy/signal/cross_correlation.py:291: RuntimeWarning: invalid value encountered in sqrt\n",
      "  np.sqrt(norm, out=norm)\n"
     ]
    },
    {
     "name": "stdout",
     "output_type": "stream",
     "text": [
      "1128 detections found.\n",
      "Processing A05, 2020-01-27-01-00-00...\n"
     ]
    },
    {
     "name": "stderr",
     "output_type": "stream",
     "text": [
      "/opt/homebrew/Caskroom/miniforge/base/envs/obspy/lib/python3.11/site-packages/obspy/signal/cross_correlation.py:291: RuntimeWarning: invalid value encountered in sqrt\n",
      "  np.sqrt(norm, out=norm)\n"
     ]
    },
    {
     "name": "stdout",
     "output_type": "stream",
     "text": [
      "231 detections found.\n",
      "Processing A05, 2020-01-27-02-00-00...\n"
     ]
    },
    {
     "name": "stderr",
     "output_type": "stream",
     "text": [
      "/opt/homebrew/Caskroom/miniforge/base/envs/obspy/lib/python3.11/site-packages/obspy/signal/cross_correlation.py:291: RuntimeWarning: invalid value encountered in sqrt\n",
      "  np.sqrt(norm, out=norm)\n"
     ]
    },
    {
     "name": "stdout",
     "output_type": "stream",
     "text": [
      "No detections found.\n",
      "Processing A05, 2020-01-27-03-00-00...\n",
      "No detections found.\n",
      "Processing A05, 2020-01-27-04-00-00...\n",
      "No detections found.\n",
      "Processing A05, 2020-01-27-05-00-00...\n",
      "1 detections found.\n",
      "Processing A05, 2020-01-27-06-00-00...\n"
     ]
    },
    {
     "name": "stderr",
     "output_type": "stream",
     "text": [
      "/opt/homebrew/Caskroom/miniforge/base/envs/obspy/lib/python3.11/site-packages/obspy/signal/cross_correlation.py:291: RuntimeWarning: invalid value encountered in sqrt\n",
      "  np.sqrt(norm, out=norm)\n"
     ]
    },
    {
     "name": "stdout",
     "output_type": "stream",
     "text": [
      "170 detections found.\n",
      "Processing A05, 2020-01-27-07-00-00...\n",
      "74 detections found.\n",
      "Processing A05, 2020-01-27-08-00-00...\n"
     ]
    },
    {
     "name": "stderr",
     "output_type": "stream",
     "text": [
      "/opt/homebrew/Caskroom/miniforge/base/envs/obspy/lib/python3.11/site-packages/obspy/signal/cross_correlation.py:291: RuntimeWarning: invalid value encountered in sqrt\n",
      "  np.sqrt(norm, out=norm)\n"
     ]
    },
    {
     "name": "stdout",
     "output_type": "stream",
     "text": [
      "39 detections found.\n",
      "Processing A05, 2020-01-27-09-00-00...\n"
     ]
    },
    {
     "name": "stderr",
     "output_type": "stream",
     "text": [
      "/opt/homebrew/Caskroom/miniforge/base/envs/obspy/lib/python3.11/site-packages/obspy/signal/cross_correlation.py:291: RuntimeWarning: invalid value encountered in sqrt\n",
      "  np.sqrt(norm, out=norm)\n"
     ]
    },
    {
     "name": "stdout",
     "output_type": "stream",
     "text": [
      "18 detections found.\n",
      "Processing A05, 2020-01-27-10-00-00...\n"
     ]
    },
    {
     "name": "stderr",
     "output_type": "stream",
     "text": [
      "/opt/homebrew/Caskroom/miniforge/base/envs/obspy/lib/python3.11/site-packages/obspy/signal/cross_correlation.py:291: RuntimeWarning: invalid value encountered in sqrt\n",
      "  np.sqrt(norm, out=norm)\n"
     ]
    },
    {
     "name": "stdout",
     "output_type": "stream",
     "text": [
      "9 detections found.\n",
      "Processing A05, 2020-01-27-11-00-00...\n"
     ]
    },
    {
     "name": "stderr",
     "output_type": "stream",
     "text": [
      "/opt/homebrew/Caskroom/miniforge/base/envs/obspy/lib/python3.11/site-packages/obspy/signal/cross_correlation.py:291: RuntimeWarning: invalid value encountered in sqrt\n",
      "  np.sqrt(norm, out=norm)\n"
     ]
    },
    {
     "name": "stdout",
     "output_type": "stream",
     "text": [
      "4 detections found.\n",
      "Processing A05, 2020-01-27-12-00-00...\n"
     ]
    },
    {
     "name": "stderr",
     "output_type": "stream",
     "text": [
      "/opt/homebrew/Caskroom/miniforge/base/envs/obspy/lib/python3.11/site-packages/obspy/signal/cross_correlation.py:291: RuntimeWarning: invalid value encountered in sqrt\n",
      "  np.sqrt(norm, out=norm)\n"
     ]
    },
    {
     "name": "stdout",
     "output_type": "stream",
     "text": [
      "23 detections found.\n",
      "Processing A05, 2020-01-27-13-00-00...\n",
      "48 detections found.\n",
      "Processing A05, 2020-01-27-14-00-00...\n"
     ]
    },
    {
     "name": "stderr",
     "output_type": "stream",
     "text": [
      "/opt/homebrew/Caskroom/miniforge/base/envs/obspy/lib/python3.11/site-packages/obspy/signal/cross_correlation.py:291: RuntimeWarning: invalid value encountered in sqrt\n",
      "  np.sqrt(norm, out=norm)\n"
     ]
    },
    {
     "name": "stdout",
     "output_type": "stream",
     "text": [
      "43 detections found.\n",
      "Processing A05, 2020-01-27-15-00-00...\n"
     ]
    },
    {
     "name": "stderr",
     "output_type": "stream",
     "text": [
      "/opt/homebrew/Caskroom/miniforge/base/envs/obspy/lib/python3.11/site-packages/obspy/signal/cross_correlation.py:291: RuntimeWarning: invalid value encountered in sqrt\n",
      "  np.sqrt(norm, out=norm)\n"
     ]
    },
    {
     "name": "stdout",
     "output_type": "stream",
     "text": [
      "12 detections found.\n",
      "Processing A05, 2020-01-27-16-00-00...\n"
     ]
    },
    {
     "name": "stderr",
     "output_type": "stream",
     "text": [
      "/opt/homebrew/Caskroom/miniforge/base/envs/obspy/lib/python3.11/site-packages/obspy/signal/cross_correlation.py:291: RuntimeWarning: invalid value encountered in sqrt\n",
      "  np.sqrt(norm, out=norm)\n"
     ]
    },
    {
     "name": "stdout",
     "output_type": "stream",
     "text": [
      "58 detections found.\n",
      "Processing A05, 2020-01-27-17-00-00...\n"
     ]
    },
    {
     "name": "stderr",
     "output_type": "stream",
     "text": [
      "/opt/homebrew/Caskroom/miniforge/base/envs/obspy/lib/python3.11/site-packages/obspy/signal/cross_correlation.py:291: RuntimeWarning: invalid value encountered in sqrt\n",
      "  np.sqrt(norm, out=norm)\n"
     ]
    },
    {
     "name": "stdout",
     "output_type": "stream",
     "text": [
      "971 detections found.\n",
      "Processing A05, 2020-01-27-18-00-00...\n"
     ]
    },
    {
     "name": "stderr",
     "output_type": "stream",
     "text": [
      "/opt/homebrew/Caskroom/miniforge/base/envs/obspy/lib/python3.11/site-packages/obspy/signal/cross_correlation.py:291: RuntimeWarning: invalid value encountered in sqrt\n",
      "  np.sqrt(norm, out=norm)\n"
     ]
    },
    {
     "name": "stdout",
     "output_type": "stream",
     "text": [
      "432 detections found.\n",
      "Processing A05, 2020-01-27-19-00-00...\n"
     ]
    },
    {
     "name": "stderr",
     "output_type": "stream",
     "text": [
      "/opt/homebrew/Caskroom/miniforge/base/envs/obspy/lib/python3.11/site-packages/obspy/signal/cross_correlation.py:291: RuntimeWarning: invalid value encountered in sqrt\n",
      "  np.sqrt(norm, out=norm)\n"
     ]
    },
    {
     "name": "stdout",
     "output_type": "stream",
     "text": [
      "273 detections found.\n",
      "Processing A05, 2020-01-27-20-00-00...\n"
     ]
    },
    {
     "name": "stderr",
     "output_type": "stream",
     "text": [
      "/opt/homebrew/Caskroom/miniforge/base/envs/obspy/lib/python3.11/site-packages/obspy/signal/cross_correlation.py:291: RuntimeWarning: invalid value encountered in sqrt\n",
      "  np.sqrt(norm, out=norm)\n"
     ]
    },
    {
     "name": "stdout",
     "output_type": "stream",
     "text": [
      "47 detections found.\n",
      "Processing A05, 2020-01-27-21-00-00...\n"
     ]
    },
    {
     "name": "stderr",
     "output_type": "stream",
     "text": [
      "/opt/homebrew/Caskroom/miniforge/base/envs/obspy/lib/python3.11/site-packages/obspy/signal/cross_correlation.py:291: RuntimeWarning: invalid value encountered in sqrt\n",
      "  np.sqrt(norm, out=norm)\n"
     ]
    },
    {
     "name": "stdout",
     "output_type": "stream",
     "text": [
      "10 detections found.\n",
      "Processing A05, 2020-01-27-22-00-00...\n"
     ]
    },
    {
     "name": "stderr",
     "output_type": "stream",
     "text": [
      "/opt/homebrew/Caskroom/miniforge/base/envs/obspy/lib/python3.11/site-packages/obspy/signal/cross_correlation.py:291: RuntimeWarning: invalid value encountered in sqrt\n",
      "  np.sqrt(norm, out=norm)\n"
     ]
    },
    {
     "name": "stdout",
     "output_type": "stream",
     "text": [
      "No detections found.\n",
      "Processing A05, 2020-01-27-23-00-00...\n",
      "No detections found.\n",
      "Processing A05, 2020-01-28-00-00-00...\n",
      "No detections found.\n",
      "Processing A05, 2020-01-28-01-00-00...\n",
      "No detections found.\n",
      "Processing A05, 2020-01-28-02-00-00...\n",
      "No detections found.\n",
      "Processing A05, 2020-01-28-03-00-00...\n",
      "No detections found.\n",
      "Processing A05, 2020-01-28-04-00-00...\n",
      "5 detections found.\n",
      "Processing A05, 2020-01-28-05-00-00...\n"
     ]
    },
    {
     "name": "stderr",
     "output_type": "stream",
     "text": [
      "/opt/homebrew/Caskroom/miniforge/base/envs/obspy/lib/python3.11/site-packages/obspy/signal/cross_correlation.py:291: RuntimeWarning: invalid value encountered in sqrt\n",
      "  np.sqrt(norm, out=norm)\n"
     ]
    },
    {
     "name": "stdout",
     "output_type": "stream",
     "text": [
      "4 detections found.\n",
      "Processing A05, 2020-01-28-06-00-00...\n",
      "7 detections found.\n",
      "Processing A05, 2020-01-28-07-00-00...\n"
     ]
    },
    {
     "name": "stderr",
     "output_type": "stream",
     "text": [
      "/opt/homebrew/Caskroom/miniforge/base/envs/obspy/lib/python3.11/site-packages/obspy/signal/cross_correlation.py:291: RuntimeWarning: invalid value encountered in sqrt\n",
      "  np.sqrt(norm, out=norm)\n"
     ]
    },
    {
     "name": "stdout",
     "output_type": "stream",
     "text": [
      "4 detections found.\n",
      "Processing A05, 2020-01-28-08-00-00...\n"
     ]
    },
    {
     "name": "stderr",
     "output_type": "stream",
     "text": [
      "/opt/homebrew/Caskroom/miniforge/base/envs/obspy/lib/python3.11/site-packages/obspy/signal/cross_correlation.py:291: RuntimeWarning: invalid value encountered in sqrt\n",
      "  np.sqrt(norm, out=norm)\n"
     ]
    },
    {
     "name": "stdout",
     "output_type": "stream",
     "text": [
      "No detections found.\n",
      "Processing A05, 2020-01-28-09-00-00...\n",
      "1 detections found.\n",
      "Processing A05, 2020-01-28-10-00-00...\n"
     ]
    },
    {
     "name": "stderr",
     "output_type": "stream",
     "text": [
      "/opt/homebrew/Caskroom/miniforge/base/envs/obspy/lib/python3.11/site-packages/obspy/signal/cross_correlation.py:291: RuntimeWarning: invalid value encountered in sqrt\n",
      "  np.sqrt(norm, out=norm)\n"
     ]
    },
    {
     "name": "stdout",
     "output_type": "stream",
     "text": [
      "No detections found.\n",
      "Processing A05, 2020-01-28-11-00-00...\n",
      "No detections found.\n",
      "Processing A05, 2020-01-28-12-00-00...\n",
      "2 detections found.\n",
      "Processing A05, 2020-01-28-13-00-00...\n"
     ]
    },
    {
     "name": "stderr",
     "output_type": "stream",
     "text": [
      "/opt/homebrew/Caskroom/miniforge/base/envs/obspy/lib/python3.11/site-packages/obspy/signal/cross_correlation.py:291: RuntimeWarning: invalid value encountered in sqrt\n",
      "  np.sqrt(norm, out=norm)\n"
     ]
    },
    {
     "name": "stdout",
     "output_type": "stream",
     "text": [
      "1 detections found.\n",
      "Processing A05, 2020-01-28-14-00-00...\n"
     ]
    },
    {
     "name": "stderr",
     "output_type": "stream",
     "text": [
      "/opt/homebrew/Caskroom/miniforge/base/envs/obspy/lib/python3.11/site-packages/obspy/signal/cross_correlation.py:291: RuntimeWarning: invalid value encountered in sqrt\n",
      "  np.sqrt(norm, out=norm)\n"
     ]
    },
    {
     "name": "stdout",
     "output_type": "stream",
     "text": [
      "10 detections found.\n",
      "Processing A05, 2020-01-28-15-00-00...\n"
     ]
    },
    {
     "name": "stderr",
     "output_type": "stream",
     "text": [
      "/opt/homebrew/Caskroom/miniforge/base/envs/obspy/lib/python3.11/site-packages/obspy/signal/cross_correlation.py:291: RuntimeWarning: invalid value encountered in sqrt\n",
      "  np.sqrt(norm, out=norm)\n"
     ]
    },
    {
     "name": "stdout",
     "output_type": "stream",
     "text": [
      "16 detections found.\n",
      "Processing A05, 2020-01-28-16-00-00...\n"
     ]
    },
    {
     "name": "stderr",
     "output_type": "stream",
     "text": [
      "/opt/homebrew/Caskroom/miniforge/base/envs/obspy/lib/python3.11/site-packages/obspy/signal/cross_correlation.py:291: RuntimeWarning: invalid value encountered in sqrt\n",
      "  np.sqrt(norm, out=norm)\n"
     ]
    },
    {
     "name": "stdout",
     "output_type": "stream",
     "text": [
      "56 detections found.\n",
      "Processing A05, 2020-01-28-17-00-00...\n"
     ]
    },
    {
     "name": "stderr",
     "output_type": "stream",
     "text": [
      "/opt/homebrew/Caskroom/miniforge/base/envs/obspy/lib/python3.11/site-packages/obspy/signal/cross_correlation.py:291: RuntimeWarning: invalid value encountered in sqrt\n",
      "  np.sqrt(norm, out=norm)\n"
     ]
    },
    {
     "name": "stdout",
     "output_type": "stream",
     "text": [
      "22 detections found.\n",
      "Processing A05, 2020-01-28-18-00-00...\n"
     ]
    },
    {
     "name": "stderr",
     "output_type": "stream",
     "text": [
      "/opt/homebrew/Caskroom/miniforge/base/envs/obspy/lib/python3.11/site-packages/obspy/signal/cross_correlation.py:291: RuntimeWarning: invalid value encountered in sqrt\n",
      "  np.sqrt(norm, out=norm)\n"
     ]
    },
    {
     "name": "stdout",
     "output_type": "stream",
     "text": [
      "6 detections found.\n",
      "Processing A05, 2020-01-28-19-00-00...\n"
     ]
    },
    {
     "name": "stderr",
     "output_type": "stream",
     "text": [
      "/opt/homebrew/Caskroom/miniforge/base/envs/obspy/lib/python3.11/site-packages/obspy/signal/cross_correlation.py:291: RuntimeWarning: invalid value encountered in sqrt\n",
      "  np.sqrt(norm, out=norm)\n"
     ]
    },
    {
     "name": "stdout",
     "output_type": "stream",
     "text": [
      "13 detections found.\n",
      "Processing A05, 2020-01-28-20-00-00...\n"
     ]
    },
    {
     "name": "stderr",
     "output_type": "stream",
     "text": [
      "/opt/homebrew/Caskroom/miniforge/base/envs/obspy/lib/python3.11/site-packages/obspy/signal/cross_correlation.py:291: RuntimeWarning: invalid value encountered in sqrt\n",
      "  np.sqrt(norm, out=norm)\n"
     ]
    },
    {
     "name": "stdout",
     "output_type": "stream",
     "text": [
      "8 detections found.\n",
      "Processing A05, 2020-01-28-21-00-00...\n",
      "1 detections found.\n",
      "Processing A05, 2020-01-28-22-00-00...\n"
     ]
    },
    {
     "name": "stderr",
     "output_type": "stream",
     "text": [
      "/opt/homebrew/Caskroom/miniforge/base/envs/obspy/lib/python3.11/site-packages/obspy/signal/cross_correlation.py:291: RuntimeWarning: invalid value encountered in sqrt\n",
      "  np.sqrt(norm, out=norm)\n"
     ]
    },
    {
     "name": "stdout",
     "output_type": "stream",
     "text": [
      "No detections found.\n",
      "Processing A05, 2020-01-28-23-00-00...\n",
      "No detections found.\n",
      "Processing A05, 2020-01-29-00-00-00...\n",
      "No detections found.\n",
      "Processing A05, 2020-01-29-01-00-00...\n",
      "No detections found.\n",
      "Processing A05, 2020-01-29-02-00-00...\n",
      "No detections found.\n",
      "Processing A05, 2020-01-29-03-00-00...\n",
      "No detections found.\n",
      "Processing A05, 2020-01-29-04-00-00...\n",
      "No detections found.\n",
      "Processing A05, 2020-01-29-05-00-00...\n",
      "No detections found.\n",
      "Processing A05, 2020-01-29-06-00-00...\n",
      "No detections found.\n",
      "Processing A05, 2020-01-29-07-00-00...\n",
      "No detections found.\n",
      "Processing A05, 2020-01-29-08-00-00...\n",
      "No detections found.\n",
      "Processing A05, 2020-01-29-09-00-00...\n",
      "No detections found.\n",
      "Processing A05, 2020-01-29-10-00-00...\n",
      "No detections found.\n",
      "Processing A05, 2020-01-29-11-00-00...\n",
      "No detections found.\n",
      "Processing A05, 2020-01-29-12-00-00...\n",
      "No detections found.\n",
      "Processing A05, 2020-01-29-13-00-00...\n",
      "No detections found.\n",
      "Processing A05, 2020-01-29-14-00-00...\n",
      "No detections found.\n",
      "Processing A05, 2020-01-29-15-00-00...\n",
      "No detections found.\n",
      "Processing A05, 2020-01-29-16-00-00...\n",
      "No detections found.\n",
      "Processing A05, 2020-01-29-17-00-00...\n",
      "No detections found.\n",
      "Processing A05, 2020-01-29-18-00-00...\n",
      "No detections found.\n",
      "Processing A05, 2020-01-29-19-00-00...\n",
      "No detections found.\n",
      "Processing A05, 2020-01-29-20-00-00...\n",
      "No detections found.\n",
      "Processing A05, 2020-01-29-21-00-00...\n",
      "No detections found.\n",
      "Processing A05, 2020-01-29-22-00-00...\n",
      "No detections found.\n",
      "Processing A05, 2020-01-29-23-00-00...\n",
      "No detections found.\n",
      "Processing A05, 2020-01-30-00-00-00...\n",
      "No detections found.\n",
      "Processing A05, 2020-01-30-01-00-00...\n",
      "No detections found.\n",
      "Processing A05, 2020-01-30-02-00-00...\n",
      "No detections found.\n",
      "Processing A05, 2020-01-30-03-00-00...\n",
      "No detections found.\n",
      "Processing A05, 2020-01-30-04-00-00...\n",
      "No detections found.\n",
      "Processing A05, 2020-01-30-05-00-00...\n",
      "No detections found.\n",
      "Processing A05, 2020-01-30-06-00-00...\n",
      "No detections found.\n",
      "Processing A05, 2020-01-30-07-00-00...\n",
      "No detections found.\n",
      "Processing A05, 2020-01-30-08-00-00...\n",
      "1 detections found.\n",
      "Processing A05, 2020-01-30-09-00-00...\n"
     ]
    },
    {
     "name": "stderr",
     "output_type": "stream",
     "text": [
      "/opt/homebrew/Caskroom/miniforge/base/envs/obspy/lib/python3.11/site-packages/obspy/signal/cross_correlation.py:291: RuntimeWarning: invalid value encountered in sqrt\n",
      "  np.sqrt(norm, out=norm)\n"
     ]
    },
    {
     "name": "stdout",
     "output_type": "stream",
     "text": [
      "No detections found.\n",
      "Processing A05, 2020-01-30-10-00-00...\n",
      "No detections found.\n",
      "Processing A05, 2020-01-30-11-00-00...\n",
      "3 detections found.\n",
      "Processing A05, 2020-01-30-12-00-00...\n"
     ]
    },
    {
     "name": "stderr",
     "output_type": "stream",
     "text": [
      "/opt/homebrew/Caskroom/miniforge/base/envs/obspy/lib/python3.11/site-packages/obspy/signal/cross_correlation.py:291: RuntimeWarning: invalid value encountered in sqrt\n",
      "  np.sqrt(norm, out=norm)\n"
     ]
    },
    {
     "name": "stdout",
     "output_type": "stream",
     "text": [
      "1 detections found.\n",
      "Processing A05, 2020-01-30-13-00-00...\n"
     ]
    },
    {
     "name": "stderr",
     "output_type": "stream",
     "text": [
      "/opt/homebrew/Caskroom/miniforge/base/envs/obspy/lib/python3.11/site-packages/obspy/signal/cross_correlation.py:291: RuntimeWarning: invalid value encountered in sqrt\n",
      "  np.sqrt(norm, out=norm)\n"
     ]
    },
    {
     "name": "stdout",
     "output_type": "stream",
     "text": [
      "No detections found.\n",
      "Processing A05, 2020-01-30-14-00-00...\n",
      "No detections found.\n",
      "Processing A05, 2020-01-30-15-00-00...\n",
      "No detections found.\n",
      "Processing A05, 2020-01-30-16-00-00...\n",
      "No detections found.\n",
      "Processing A05, 2020-01-30-17-00-00...\n",
      "No detections found.\n",
      "Processing A05, 2020-01-30-18-00-00...\n",
      "No detections found.\n",
      "Processing A05, 2020-01-30-19-00-00...\n",
      "No detections found.\n",
      "Processing A05, 2020-01-30-20-00-00...\n",
      "No detections found.\n",
      "Processing A05, 2020-01-30-21-00-00...\n",
      "No detections found.\n",
      "Processing A05, 2020-01-30-22-00-00...\n",
      "No detections found.\n",
      "Processing A05, 2020-01-30-23-00-00...\n",
      "No detections found.\n",
      "Processing A05, 2020-01-31-00-00-00...\n",
      "No detections found.\n",
      "Processing A05, 2020-01-31-01-00-00...\n",
      "No detections found.\n",
      "Processing A05, 2020-01-31-02-00-00...\n",
      "No detections found.\n",
      "Processing A05, 2020-01-31-03-00-00...\n",
      "1 detections found.\n",
      "Processing A05, 2020-01-31-04-00-00...\n",
      "No detections found.\n",
      "Processing A05, 2020-01-31-05-00-00...\n"
     ]
    },
    {
     "name": "stderr",
     "output_type": "stream",
     "text": [
      "/opt/homebrew/Caskroom/miniforge/base/envs/obspy/lib/python3.11/site-packages/obspy/signal/cross_correlation.py:291: RuntimeWarning: invalid value encountered in sqrt\n",
      "  np.sqrt(norm, out=norm)\n"
     ]
    },
    {
     "name": "stdout",
     "output_type": "stream",
     "text": [
      "No detections found.\n",
      "Processing A05, 2020-01-31-06-00-00...\n",
      "7 detections found.\n",
      "Processing A05, 2020-01-31-07-00-00...\n"
     ]
    },
    {
     "name": "stderr",
     "output_type": "stream",
     "text": [
      "/opt/homebrew/Caskroom/miniforge/base/envs/obspy/lib/python3.11/site-packages/obspy/signal/cross_correlation.py:291: RuntimeWarning: invalid value encountered in sqrt\n",
      "  np.sqrt(norm, out=norm)\n"
     ]
    },
    {
     "name": "stdout",
     "output_type": "stream",
     "text": [
      "9 detections found.\n",
      "Processing A05, 2020-01-31-08-00-00...\n"
     ]
    },
    {
     "name": "stderr",
     "output_type": "stream",
     "text": [
      "/opt/homebrew/Caskroom/miniforge/base/envs/obspy/lib/python3.11/site-packages/obspy/signal/cross_correlation.py:291: RuntimeWarning: invalid value encountered in sqrt\n",
      "  np.sqrt(norm, out=norm)\n"
     ]
    },
    {
     "name": "stdout",
     "output_type": "stream",
     "text": [
      "2 detections found.\n",
      "Processing A05, 2020-01-31-09-00-00...\n"
     ]
    },
    {
     "name": "stderr",
     "output_type": "stream",
     "text": [
      "/opt/homebrew/Caskroom/miniforge/base/envs/obspy/lib/python3.11/site-packages/obspy/signal/cross_correlation.py:291: RuntimeWarning: invalid value encountered in sqrt\n",
      "  np.sqrt(norm, out=norm)\n"
     ]
    },
    {
     "name": "stdout",
     "output_type": "stream",
     "text": [
      "1 detections found.\n",
      "Processing A05, 2020-01-31-10-00-00...\n"
     ]
    },
    {
     "name": "stderr",
     "output_type": "stream",
     "text": [
      "/opt/homebrew/Caskroom/miniforge/base/envs/obspy/lib/python3.11/site-packages/obspy/signal/cross_correlation.py:291: RuntimeWarning: invalid value encountered in sqrt\n",
      "  np.sqrt(norm, out=norm)\n"
     ]
    },
    {
     "name": "stdout",
     "output_type": "stream",
     "text": [
      "No detections found.\n",
      "Processing A05, 2020-01-31-11-00-00...\n",
      "No detections found.\n",
      "Processing A05, 2020-01-31-12-00-00...\n",
      "No detections found.\n",
      "Processing A05, 2020-01-31-13-00-00...\n",
      "No detections found.\n",
      "Processing A05, 2020-01-31-14-00-00...\n",
      "No detections found.\n",
      "Processing A05, 2020-01-31-15-00-00...\n",
      "No detections found.\n",
      "Processing A05, 2020-01-31-16-00-00...\n",
      "No detections found.\n",
      "Processing A05, 2020-01-31-17-00-00...\n",
      "No detections found.\n",
      "Processing A05, 2020-01-31-18-00-00...\n",
      "No detections found.\n",
      "Processing A05, 2020-01-31-19-00-00...\n",
      "No detections found.\n",
      "Processing A05, 2020-01-31-20-00-00...\n",
      "1 detections found.\n",
      "Processing A05, 2020-01-31-21-00-00...\n",
      "1 detections found.\n",
      "Processing A05, 2020-01-31-22-00-00...\n",
      "No detections found.\n",
      "Processing A05, 2020-01-31-23-00-00...\n",
      "No detections found.\n",
      "Processing A05, 2020-02-01-00-00-00...\n",
      "No detections found.\n",
      "Processing A05, 2020-02-01-01-00-00...\n",
      "No detections found.\n",
      "Processing A05, 2020-02-01-02-00-00...\n",
      "No detections found.\n",
      "Processing A05, 2020-02-01-03-00-00...\n",
      "No detections found.\n",
      "Processing A05, 2020-02-01-04-00-00...\n"
     ]
    },
    {
     "name": "stderr",
     "output_type": "stream",
     "text": [
      "/opt/homebrew/Caskroom/miniforge/base/envs/obspy/lib/python3.11/site-packages/obspy/signal/cross_correlation.py:291: RuntimeWarning: invalid value encountered in sqrt\n",
      "  np.sqrt(norm, out=norm)\n"
     ]
    },
    {
     "name": "stdout",
     "output_type": "stream",
     "text": [
      "No detections found.\n",
      "Processing A05, 2020-02-01-05-00-00...\n",
      "1 detections found.\n",
      "Processing A05, 2020-02-01-06-00-00...\n"
     ]
    },
    {
     "name": "stderr",
     "output_type": "stream",
     "text": [
      "/opt/homebrew/Caskroom/miniforge/base/envs/obspy/lib/python3.11/site-packages/obspy/signal/cross_correlation.py:291: RuntimeWarning: invalid value encountered in sqrt\n",
      "  np.sqrt(norm, out=norm)\n"
     ]
    },
    {
     "name": "stdout",
     "output_type": "stream",
     "text": [
      "3 detections found.\n",
      "Processing A05, 2020-02-01-07-00-00...\n"
     ]
    },
    {
     "name": "stderr",
     "output_type": "stream",
     "text": [
      "/opt/homebrew/Caskroom/miniforge/base/envs/obspy/lib/python3.11/site-packages/obspy/signal/cross_correlation.py:291: RuntimeWarning: invalid value encountered in sqrt\n",
      "  np.sqrt(norm, out=norm)\n"
     ]
    },
    {
     "name": "stdout",
     "output_type": "stream",
     "text": [
      "No detections found.\n",
      "Processing A05, 2020-02-01-08-00-00...\n",
      "Cannot find data for 2020-02-01-08-00-00!\n",
      "Processing A05, 2020-02-01-09-00-00...\n",
      "Cannot find data for 2020-02-01-09-00-00!\n",
      "Processing A05, 2020-02-01-10-00-00...\n",
      "Cannot find data for 2020-02-01-10-00-00!\n",
      "Processing A05, 2020-02-01-11-00-00...\n",
      "Cannot find data for 2020-02-01-11-00-00!\n",
      "Processing A05, 2020-02-01-12-00-00...\n",
      "Cannot find data for 2020-02-01-12-00-00!\n",
      "Processing A05, 2020-02-01-13-00-00...\n",
      "Cannot find data for 2020-02-01-13-00-00!\n",
      "Processing A05, 2020-02-01-14-00-00...\n",
      "Cannot find data for 2020-02-01-14-00-00!\n",
      "Processing A05, 2020-02-01-15-00-00...\n",
      "Cannot find data for 2020-02-01-15-00-00!\n",
      "Processing A05, 2020-02-01-16-00-00...\n",
      "Cannot find data for 2020-02-01-16-00-00!\n",
      "Processing A05, 2020-02-01-17-00-00...\n",
      "Cannot find data for 2020-02-01-17-00-00!\n",
      "Processing A05, 2020-02-01-18-00-00...\n",
      "Cannot find data for 2020-02-01-18-00-00!\n",
      "Processing A05, 2020-02-01-19-00-00...\n",
      "Cannot find data for 2020-02-01-19-00-00!\n",
      "Processing A05, 2020-02-01-20-00-00...\n",
      "Cannot find data for 2020-02-01-20-00-00!\n",
      "Processing A05, 2020-02-01-21-00-00...\n",
      "Cannot find data for 2020-02-01-21-00-00!\n",
      "Processing A05, 2020-02-01-22-00-00...\n",
      "Cannot find data for 2020-02-01-22-00-00!\n",
      "Processing A05, 2020-02-01-23-00-00...\n",
      "Cannot find data for 2020-02-01-23-00-00!\n",
      "Processing A05, 2020-02-02-00-00-00...\n",
      "Cannot find data for 2020-02-02-00-00-00!\n",
      "Processing A05, 2020-02-02-01-00-00...\n",
      "Cannot find data for 2020-02-02-01-00-00!\n",
      "Processing A05, 2020-02-02-02-00-00...\n",
      "Cannot find data for 2020-02-02-02-00-00!\n",
      "Processing A05, 2020-02-02-03-00-00...\n",
      "Cannot find data for 2020-02-02-03-00-00!\n",
      "Processing A05, 2020-02-02-04-00-00...\n",
      "Cannot find data for 2020-02-02-04-00-00!\n",
      "Processing A05, 2020-02-02-05-00-00...\n",
      "Cannot find data for 2020-02-02-05-00-00!\n",
      "Processing A05, 2020-02-02-06-00-00...\n",
      "Cannot find data for 2020-02-02-06-00-00!\n",
      "Processing A05, 2020-02-02-07-00-00...\n",
      "Cannot find data for 2020-02-02-07-00-00!\n",
      "Processing A05, 2020-02-02-08-00-00...\n",
      "Cannot find data for 2020-02-02-08-00-00!\n",
      "Processing A05, 2020-02-02-09-00-00...\n",
      "Cannot find data for 2020-02-02-09-00-00!\n",
      "Processing A05, 2020-02-02-10-00-00...\n",
      "Cannot find data for 2020-02-02-10-00-00!\n",
      "Processing A05, 2020-02-02-11-00-00...\n",
      "Cannot find data for 2020-02-02-11-00-00!\n",
      "Processing A05, 2020-02-02-12-00-00...\n",
      "Cannot find data for 2020-02-02-12-00-00!\n",
      "Processing A05, 2020-02-02-13-00-00...\n",
      "Cannot find data for 2020-02-02-13-00-00!\n",
      "Processing A05, 2020-02-02-14-00-00...\n",
      "Cannot find data for 2020-02-02-14-00-00!\n",
      "Processing A05, 2020-02-02-15-00-00...\n",
      "Cannot find data for 2020-02-02-15-00-00!\n",
      "Processing A05, 2020-02-02-16-00-00...\n",
      "Cannot find data for 2020-02-02-16-00-00!\n",
      "Processing A05, 2020-02-02-17-00-00...\n",
      "Cannot find data for 2020-02-02-17-00-00!\n",
      "Processing A05, 2020-02-02-18-00-00...\n",
      "Cannot find data for 2020-02-02-18-00-00!\n",
      "Processing A05, 2020-02-02-19-00-00...\n",
      "Cannot find data for 2020-02-02-19-00-00!\n",
      "Processing A05, 2020-02-02-20-00-00...\n",
      "Cannot find data for 2020-02-02-20-00-00!\n",
      "Processing A05, 2020-02-02-21-00-00...\n",
      "Cannot find data for 2020-02-02-21-00-00!\n",
      "Processing A05, 2020-02-02-22-00-00...\n",
      "Cannot find data for 2020-02-02-22-00-00!\n",
      "Processing A01, 2020-01-10-11-00-00...\n",
      "No detections found.\n",
      "Processing A01, 2020-01-10-12-00-00...\n",
      "1 detections found.\n",
      "Processing A01, 2020-01-10-13-00-00...\n"
     ]
    },
    {
     "name": "stderr",
     "output_type": "stream",
     "text": [
      "/opt/homebrew/Caskroom/miniforge/base/envs/obspy/lib/python3.11/site-packages/obspy/signal/cross_correlation.py:291: RuntimeWarning: invalid value encountered in sqrt\n",
      "  np.sqrt(norm, out=norm)\n"
     ]
    },
    {
     "name": "stdout",
     "output_type": "stream",
     "text": [
      "No detections found.\n",
      "Processing A01, 2020-01-10-14-00-00...\n",
      "8 detections found.\n",
      "Processing A01, 2020-01-10-15-00-00...\n"
     ]
    },
    {
     "name": "stderr",
     "output_type": "stream",
     "text": [
      "/opt/homebrew/Caskroom/miniforge/base/envs/obspy/lib/python3.11/site-packages/obspy/signal/cross_correlation.py:291: RuntimeWarning: invalid value encountered in sqrt\n",
      "  np.sqrt(norm, out=norm)\n"
     ]
    },
    {
     "name": "stdout",
     "output_type": "stream",
     "text": [
      "No detections found.\n",
      "Processing A01, 2020-01-10-16-00-00...\n",
      "No detections found.\n",
      "Processing A01, 2020-01-10-17-00-00...\n",
      "No detections found.\n",
      "Processing A01, 2020-01-10-18-00-00...\n",
      "No detections found.\n",
      "Processing A01, 2020-01-10-19-00-00...\n",
      "No detections found.\n",
      "Processing A01, 2020-01-10-20-00-00...\n",
      "No detections found.\n",
      "Processing A01, 2020-01-10-21-00-00...\n",
      "No detections found.\n",
      "Processing A01, 2020-01-10-22-00-00...\n",
      "No detections found.\n",
      "Processing A01, 2020-01-10-23-00-00...\n",
      "No detections found.\n",
      "Processing A01, 2020-01-11-00-00-00...\n",
      "No detections found.\n",
      "Processing A01, 2020-01-11-01-00-00...\n",
      "No detections found.\n",
      "Processing A01, 2020-01-11-02-00-00...\n",
      "No detections found.\n",
      "Processing A01, 2020-01-11-03-00-00...\n",
      "No detections found.\n",
      "Processing A01, 2020-01-11-04-00-00...\n",
      "No detections found.\n",
      "Processing A01, 2020-01-11-05-00-00...\n",
      "No detections found.\n",
      "Processing A01, 2020-01-11-06-00-00...\n",
      "No detections found.\n",
      "Processing A01, 2020-01-11-07-00-00...\n",
      "No detections found.\n",
      "Processing A01, 2020-01-11-08-00-00...\n",
      "No detections found.\n",
      "Processing A01, 2020-01-11-09-00-00...\n",
      "No detections found.\n",
      "Processing A01, 2020-01-11-10-00-00...\n",
      "No detections found.\n",
      "Processing A01, 2020-01-11-11-00-00...\n",
      "No detections found.\n",
      "Processing A01, 2020-01-11-12-00-00...\n",
      "No detections found.\n",
      "Processing A01, 2020-01-11-13-00-00...\n",
      "No detections found.\n",
      "Processing A01, 2020-01-11-14-00-00...\n",
      "No detections found.\n",
      "Processing A01, 2020-01-11-15-00-00...\n",
      "No detections found.\n",
      "Processing A01, 2020-01-11-16-00-00...\n",
      "No detections found.\n",
      "Processing A01, 2020-01-11-17-00-00...\n",
      "No detections found.\n",
      "Processing A01, 2020-01-11-18-00-00...\n",
      "No detections found.\n",
      "Processing A01, 2020-01-11-19-00-00...\n",
      "No detections found.\n",
      "Processing A01, 2020-01-11-20-00-00...\n",
      "No detections found.\n",
      "Processing A01, 2020-01-11-21-00-00...\n",
      "No detections found.\n",
      "Processing A01, 2020-01-11-22-00-00...\n",
      "No detections found.\n",
      "Processing A01, 2020-01-11-23-00-00...\n",
      "1 detections found.\n",
      "Processing A01, 2020-01-12-00-00-00...\n"
     ]
    },
    {
     "name": "stderr",
     "output_type": "stream",
     "text": [
      "/opt/homebrew/Caskroom/miniforge/base/envs/obspy/lib/python3.11/site-packages/obspy/signal/cross_correlation.py:291: RuntimeWarning: invalid value encountered in sqrt\n",
      "  np.sqrt(norm, out=norm)\n"
     ]
    },
    {
     "name": "stdout",
     "output_type": "stream",
     "text": [
      "No detections found.\n",
      "Processing A01, 2020-01-12-01-00-00...\n",
      "No detections found.\n",
      "Processing A01, 2020-01-12-02-00-00...\n",
      "No detections found.\n",
      "Processing A01, 2020-01-12-03-00-00...\n",
      "No detections found.\n",
      "Processing A01, 2020-01-12-04-00-00...\n",
      "No detections found.\n",
      "Processing A01, 2020-01-12-05-00-00...\n",
      "No detections found.\n",
      "Processing A01, 2020-01-12-06-00-00...\n",
      "No detections found.\n",
      "Processing A01, 2020-01-12-07-00-00...\n",
      "No detections found.\n",
      "Processing A01, 2020-01-12-08-00-00...\n",
      "246 detections found.\n",
      "Processing A01, 2020-01-12-09-00-00...\n"
     ]
    },
    {
     "name": "stderr",
     "output_type": "stream",
     "text": [
      "/opt/homebrew/Caskroom/miniforge/base/envs/obspy/lib/python3.11/site-packages/obspy/signal/cross_correlation.py:291: RuntimeWarning: invalid value encountered in sqrt\n",
      "  np.sqrt(norm, out=norm)\n"
     ]
    },
    {
     "name": "stdout",
     "output_type": "stream",
     "text": [
      "205 detections found.\n",
      "Processing A01, 2020-01-12-10-00-00...\n"
     ]
    },
    {
     "name": "stderr",
     "output_type": "stream",
     "text": [
      "/opt/homebrew/Caskroom/miniforge/base/envs/obspy/lib/python3.11/site-packages/obspy/signal/cross_correlation.py:291: RuntimeWarning: invalid value encountered in sqrt\n",
      "  np.sqrt(norm, out=norm)\n"
     ]
    },
    {
     "name": "stdout",
     "output_type": "stream",
     "text": [
      "342 detections found.\n",
      "Processing A01, 2020-01-12-11-00-00...\n"
     ]
    },
    {
     "name": "stderr",
     "output_type": "stream",
     "text": [
      "/opt/homebrew/Caskroom/miniforge/base/envs/obspy/lib/python3.11/site-packages/obspy/signal/cross_correlation.py:291: RuntimeWarning: invalid value encountered in sqrt\n",
      "  np.sqrt(norm, out=norm)\n"
     ]
    },
    {
     "name": "stdout",
     "output_type": "stream",
     "text": [
      "288 detections found.\n",
      "Processing A01, 2020-01-12-12-00-00...\n"
     ]
    },
    {
     "name": "stderr",
     "output_type": "stream",
     "text": [
      "/opt/homebrew/Caskroom/miniforge/base/envs/obspy/lib/python3.11/site-packages/obspy/signal/cross_correlation.py:291: RuntimeWarning: invalid value encountered in sqrt\n",
      "  np.sqrt(norm, out=norm)\n"
     ]
    },
    {
     "name": "stdout",
     "output_type": "stream",
     "text": [
      "204 detections found.\n",
      "Processing A01, 2020-01-12-13-00-00...\n"
     ]
    },
    {
     "name": "stderr",
     "output_type": "stream",
     "text": [
      "/opt/homebrew/Caskroom/miniforge/base/envs/obspy/lib/python3.11/site-packages/obspy/signal/cross_correlation.py:291: RuntimeWarning: invalid value encountered in sqrt\n",
      "  np.sqrt(norm, out=norm)\n"
     ]
    },
    {
     "name": "stdout",
     "output_type": "stream",
     "text": [
      "593 detections found.\n",
      "Processing A01, 2020-01-12-14-00-00...\n"
     ]
    },
    {
     "name": "stderr",
     "output_type": "stream",
     "text": [
      "/opt/homebrew/Caskroom/miniforge/base/envs/obspy/lib/python3.11/site-packages/obspy/signal/cross_correlation.py:291: RuntimeWarning: invalid value encountered in sqrt\n",
      "  np.sqrt(norm, out=norm)\n"
     ]
    },
    {
     "name": "stdout",
     "output_type": "stream",
     "text": [
      "454 detections found.\n",
      "Processing A01, 2020-01-12-15-00-00...\n"
     ]
    },
    {
     "name": "stderr",
     "output_type": "stream",
     "text": [
      "/opt/homebrew/Caskroom/miniforge/base/envs/obspy/lib/python3.11/site-packages/obspy/signal/cross_correlation.py:291: RuntimeWarning: invalid value encountered in sqrt\n",
      "  np.sqrt(norm, out=norm)\n"
     ]
    },
    {
     "name": "stdout",
     "output_type": "stream",
     "text": [
      "347 detections found.\n",
      "Processing A01, 2020-01-12-16-00-00...\n"
     ]
    },
    {
     "name": "stderr",
     "output_type": "stream",
     "text": [
      "/opt/homebrew/Caskroom/miniforge/base/envs/obspy/lib/python3.11/site-packages/obspy/signal/cross_correlation.py:291: RuntimeWarning: invalid value encountered in sqrt\n",
      "  np.sqrt(norm, out=norm)\n"
     ]
    },
    {
     "name": "stdout",
     "output_type": "stream",
     "text": [
      "359 detections found.\n",
      "Processing A01, 2020-01-12-17-00-00...\n"
     ]
    },
    {
     "name": "stderr",
     "output_type": "stream",
     "text": [
      "/opt/homebrew/Caskroom/miniforge/base/envs/obspy/lib/python3.11/site-packages/obspy/signal/cross_correlation.py:291: RuntimeWarning: invalid value encountered in sqrt\n",
      "  np.sqrt(norm, out=norm)\n"
     ]
    },
    {
     "name": "stdout",
     "output_type": "stream",
     "text": [
      "394 detections found.\n",
      "Processing A01, 2020-01-12-18-00-00...\n"
     ]
    },
    {
     "name": "stderr",
     "output_type": "stream",
     "text": [
      "/opt/homebrew/Caskroom/miniforge/base/envs/obspy/lib/python3.11/site-packages/obspy/signal/cross_correlation.py:291: RuntimeWarning: invalid value encountered in sqrt\n",
      "  np.sqrt(norm, out=norm)\n"
     ]
    },
    {
     "name": "stdout",
     "output_type": "stream",
     "text": [
      "366 detections found.\n",
      "Processing A01, 2020-01-12-19-00-00...\n"
     ]
    },
    {
     "name": "stderr",
     "output_type": "stream",
     "text": [
      "/opt/homebrew/Caskroom/miniforge/base/envs/obspy/lib/python3.11/site-packages/obspy/signal/cross_correlation.py:291: RuntimeWarning: invalid value encountered in sqrt\n",
      "  np.sqrt(norm, out=norm)\n"
     ]
    },
    {
     "name": "stdout",
     "output_type": "stream",
     "text": [
      "405 detections found.\n",
      "Processing A01, 2020-01-12-20-00-00...\n"
     ]
    },
    {
     "name": "stderr",
     "output_type": "stream",
     "text": [
      "/opt/homebrew/Caskroom/miniforge/base/envs/obspy/lib/python3.11/site-packages/obspy/signal/cross_correlation.py:291: RuntimeWarning: invalid value encountered in sqrt\n",
      "  np.sqrt(norm, out=norm)\n"
     ]
    },
    {
     "name": "stdout",
     "output_type": "stream",
     "text": [
      "253 detections found.\n",
      "Processing A01, 2020-01-12-21-00-00...\n",
      "4 detections found.\n",
      "Processing A01, 2020-01-12-22-00-00...\n"
     ]
    },
    {
     "name": "stderr",
     "output_type": "stream",
     "text": [
      "/opt/homebrew/Caskroom/miniforge/base/envs/obspy/lib/python3.11/site-packages/obspy/signal/cross_correlation.py:291: RuntimeWarning: invalid value encountered in sqrt\n",
      "  np.sqrt(norm, out=norm)\n"
     ]
    },
    {
     "name": "stdout",
     "output_type": "stream",
     "text": [
      "9 detections found.\n",
      "Processing A01, 2020-01-12-23-00-00...\n",
      "No detections found.\n",
      "Processing A01, 2020-01-13-00-00-00...\n",
      "5 detections found.\n",
      "Processing A01, 2020-01-13-01-00-00...\n",
      "1 detections found.\n",
      "Processing A01, 2020-01-13-02-00-00...\n"
     ]
    },
    {
     "name": "stderr",
     "output_type": "stream",
     "text": [
      "/opt/homebrew/Caskroom/miniforge/base/envs/obspy/lib/python3.11/site-packages/obspy/signal/cross_correlation.py:291: RuntimeWarning: invalid value encountered in sqrt\n",
      "  np.sqrt(norm, out=norm)\n"
     ]
    },
    {
     "name": "stdout",
     "output_type": "stream",
     "text": [
      "No detections found.\n",
      "Processing A01, 2020-01-13-03-00-00...\n",
      "No detections found.\n",
      "Processing A01, 2020-01-13-04-00-00...\n",
      "No detections found.\n",
      "Processing A01, 2020-01-13-05-00-00...\n",
      "No detections found.\n",
      "Processing A01, 2020-01-13-06-00-00...\n",
      "No detections found.\n",
      "Processing A01, 2020-01-13-07-00-00...\n",
      "83 detections found.\n",
      "Processing A01, 2020-01-13-08-00-00...\n",
      "149 detections found.\n",
      "Processing A01, 2020-01-13-09-00-00...\n"
     ]
    },
    {
     "name": "stderr",
     "output_type": "stream",
     "text": [
      "/opt/homebrew/Caskroom/miniforge/base/envs/obspy/lib/python3.11/site-packages/obspy/signal/cross_correlation.py:291: RuntimeWarning: invalid value encountered in sqrt\n",
      "  np.sqrt(norm, out=norm)\n"
     ]
    },
    {
     "name": "stdout",
     "output_type": "stream",
     "text": [
      "176 detections found.\n",
      "Processing A01, 2020-01-13-10-00-00...\n",
      "60 detections found.\n",
      "Processing A01, 2020-01-13-11-00-00...\n"
     ]
    },
    {
     "name": "stderr",
     "output_type": "stream",
     "text": [
      "/opt/homebrew/Caskroom/miniforge/base/envs/obspy/lib/python3.11/site-packages/obspy/signal/cross_correlation.py:291: RuntimeWarning: invalid value encountered in sqrt\n",
      "  np.sqrt(norm, out=norm)\n"
     ]
    },
    {
     "name": "stdout",
     "output_type": "stream",
     "text": [
      "51 detections found.\n",
      "Processing A01, 2020-01-13-12-00-00...\n",
      "74 detections found.\n",
      "Processing A01, 2020-01-13-13-00-00...\n"
     ]
    },
    {
     "name": "stderr",
     "output_type": "stream",
     "text": [
      "/opt/homebrew/Caskroom/miniforge/base/envs/obspy/lib/python3.11/site-packages/obspy/signal/cross_correlation.py:291: RuntimeWarning: invalid value encountered in sqrt\n",
      "  np.sqrt(norm, out=norm)\n"
     ]
    },
    {
     "name": "stdout",
     "output_type": "stream",
     "text": [
      "31 detections found.\n",
      "Processing A01, 2020-01-13-14-00-00...\n",
      "4 detections found.\n",
      "Processing A01, 2020-01-13-15-00-00...\n",
      "No detections found.\n",
      "Processing A01, 2020-01-13-16-00-00...\n"
     ]
    },
    {
     "name": "stderr",
     "output_type": "stream",
     "text": [
      "/opt/homebrew/Caskroom/miniforge/base/envs/obspy/lib/python3.11/site-packages/obspy/signal/cross_correlation.py:291: RuntimeWarning: invalid value encountered in sqrt\n",
      "  np.sqrt(norm, out=norm)\n"
     ]
    },
    {
     "name": "stdout",
     "output_type": "stream",
     "text": [
      "No detections found.\n",
      "Processing A01, 2020-01-13-17-00-00...\n",
      "No detections found.\n",
      "Processing A01, 2020-01-13-18-00-00...\n",
      "No detections found.\n",
      "Processing A01, 2020-01-13-19-00-00...\n",
      "No detections found.\n",
      "Processing A01, 2020-01-13-20-00-00...\n",
      "No detections found.\n",
      "Processing A01, 2020-01-13-21-00-00...\n",
      "No detections found.\n",
      "Processing A01, 2020-01-13-22-00-00...\n",
      "No detections found.\n",
      "Processing A01, 2020-01-13-23-00-00...\n",
      "No detections found.\n",
      "Processing A01, 2020-01-14-00-00-00...\n",
      "No detections found.\n",
      "Processing A01, 2020-01-14-01-00-00...\n",
      "No detections found.\n",
      "Processing A01, 2020-01-14-02-00-00...\n",
      "No detections found.\n",
      "Processing A01, 2020-01-14-03-00-00...\n",
      "No detections found.\n",
      "Processing A01, 2020-01-14-04-00-00...\n",
      "1 detections found.\n",
      "Processing A01, 2020-01-14-05-00-00...\n"
     ]
    },
    {
     "name": "stderr",
     "output_type": "stream",
     "text": [
      "/opt/homebrew/Caskroom/miniforge/base/envs/obspy/lib/python3.11/site-packages/obspy/signal/cross_correlation.py:291: RuntimeWarning: invalid value encountered in sqrt\n",
      "  np.sqrt(norm, out=norm)\n"
     ]
    },
    {
     "name": "stdout",
     "output_type": "stream",
     "text": [
      "2 detections found.\n",
      "Processing A01, 2020-01-14-06-00-00...\n"
     ]
    },
    {
     "name": "stderr",
     "output_type": "stream",
     "text": [
      "/opt/homebrew/Caskroom/miniforge/base/envs/obspy/lib/python3.11/site-packages/obspy/signal/cross_correlation.py:291: RuntimeWarning: invalid value encountered in sqrt\n",
      "  np.sqrt(norm, out=norm)\n"
     ]
    },
    {
     "name": "stdout",
     "output_type": "stream",
     "text": [
      "No detections found.\n",
      "Processing A01, 2020-01-14-07-00-00...\n",
      "No detections found.\n",
      "Processing A01, 2020-01-14-08-00-00...\n",
      "No detections found.\n",
      "Processing A01, 2020-01-14-09-00-00...\n",
      "1 detections found.\n",
      "Processing A01, 2020-01-14-10-00-00...\n"
     ]
    },
    {
     "name": "stderr",
     "output_type": "stream",
     "text": [
      "/opt/homebrew/Caskroom/miniforge/base/envs/obspy/lib/python3.11/site-packages/obspy/signal/cross_correlation.py:291: RuntimeWarning: invalid value encountered in sqrt\n",
      "  np.sqrt(norm, out=norm)\n"
     ]
    },
    {
     "name": "stdout",
     "output_type": "stream",
     "text": [
      "No detections found.\n",
      "Processing A01, 2020-01-14-11-00-00...\n",
      "No detections found.\n",
      "Processing A01, 2020-01-14-12-00-00...\n",
      "No detections found.\n",
      "Processing A01, 2020-01-14-13-00-00...\n",
      "No detections found.\n",
      "Processing A01, 2020-01-14-14-00-00...\n",
      "No detections found.\n",
      "Processing A01, 2020-01-14-15-00-00...\n",
      "1 detections found.\n",
      "Processing A01, 2020-01-14-16-00-00...\n"
     ]
    },
    {
     "name": "stderr",
     "output_type": "stream",
     "text": [
      "/opt/homebrew/Caskroom/miniforge/base/envs/obspy/lib/python3.11/site-packages/obspy/signal/cross_correlation.py:291: RuntimeWarning: invalid value encountered in sqrt\n",
      "  np.sqrt(norm, out=norm)\n"
     ]
    },
    {
     "name": "stdout",
     "output_type": "stream",
     "text": [
      "No detections found.\n",
      "Processing A01, 2020-01-14-17-00-00...\n",
      "No detections found.\n",
      "Processing A01, 2020-01-14-18-00-00...\n",
      "No detections found.\n",
      "Processing A01, 2020-01-14-19-00-00...\n",
      "No detections found.\n",
      "Processing A01, 2020-01-14-20-00-00...\n",
      "No detections found.\n",
      "Processing A01, 2020-01-14-21-00-00...\n",
      "No detections found.\n",
      "Processing A01, 2020-01-14-22-00-00...\n",
      "No detections found.\n",
      "Processing A01, 2020-01-14-23-00-00...\n",
      "1 detections found.\n",
      "Processing A01, 2020-01-15-00-00-00...\n",
      "No detections found.\n",
      "Processing A01, 2020-01-15-01-00-00...\n"
     ]
    },
    {
     "name": "stderr",
     "output_type": "stream",
     "text": [
      "/opt/homebrew/Caskroom/miniforge/base/envs/obspy/lib/python3.11/site-packages/obspy/signal/cross_correlation.py:291: RuntimeWarning: invalid value encountered in sqrt\n",
      "  np.sqrt(norm, out=norm)\n"
     ]
    },
    {
     "name": "stdout",
     "output_type": "stream",
     "text": [
      "No detections found.\n",
      "Processing A01, 2020-01-15-02-00-00...\n",
      "13 detections found.\n",
      "Processing A01, 2020-01-15-03-00-00...\n",
      "17 detections found.\n",
      "Processing A01, 2020-01-15-04-00-00...\n"
     ]
    },
    {
     "name": "stderr",
     "output_type": "stream",
     "text": [
      "/opt/homebrew/Caskroom/miniforge/base/envs/obspy/lib/python3.11/site-packages/obspy/signal/cross_correlation.py:291: RuntimeWarning: invalid value encountered in sqrt\n",
      "  np.sqrt(norm, out=norm)\n"
     ]
    },
    {
     "name": "stdout",
     "output_type": "stream",
     "text": [
      "88 detections found.\n",
      "Processing A01, 2020-01-15-05-00-00...\n"
     ]
    },
    {
     "name": "stderr",
     "output_type": "stream",
     "text": [
      "/opt/homebrew/Caskroom/miniforge/base/envs/obspy/lib/python3.11/site-packages/obspy/signal/cross_correlation.py:291: RuntimeWarning: invalid value encountered in sqrt\n",
      "  np.sqrt(norm, out=norm)\n"
     ]
    },
    {
     "name": "stdout",
     "output_type": "stream",
     "text": [
      "76 detections found.\n",
      "Processing A01, 2020-01-15-06-00-00...\n",
      "94 detections found.\n",
      "Processing A01, 2020-01-15-07-00-00...\n"
     ]
    },
    {
     "name": "stderr",
     "output_type": "stream",
     "text": [
      "/opt/homebrew/Caskroom/miniforge/base/envs/obspy/lib/python3.11/site-packages/obspy/signal/cross_correlation.py:291: RuntimeWarning: invalid value encountered in sqrt\n",
      "  np.sqrt(norm, out=norm)\n"
     ]
    },
    {
     "name": "stdout",
     "output_type": "stream",
     "text": [
      "117 detections found.\n",
      "Processing A01, 2020-01-15-08-00-00...\n"
     ]
    },
    {
     "name": "stderr",
     "output_type": "stream",
     "text": [
      "/opt/homebrew/Caskroom/miniforge/base/envs/obspy/lib/python3.11/site-packages/obspy/signal/cross_correlation.py:291: RuntimeWarning: invalid value encountered in sqrt\n",
      "  np.sqrt(norm, out=norm)\n"
     ]
    },
    {
     "name": "stdout",
     "output_type": "stream",
     "text": [
      "646 detections found.\n",
      "Processing A01, 2020-01-15-09-00-00...\n"
     ]
    },
    {
     "name": "stderr",
     "output_type": "stream",
     "text": [
      "/opt/homebrew/Caskroom/miniforge/base/envs/obspy/lib/python3.11/site-packages/obspy/signal/cross_correlation.py:291: RuntimeWarning: invalid value encountered in sqrt\n",
      "  np.sqrt(norm, out=norm)\n"
     ]
    },
    {
     "name": "stdout",
     "output_type": "stream",
     "text": [
      "465 detections found.\n",
      "Processing A01, 2020-01-15-10-00-00...\n"
     ]
    },
    {
     "name": "stderr",
     "output_type": "stream",
     "text": [
      "/opt/homebrew/Caskroom/miniforge/base/envs/obspy/lib/python3.11/site-packages/obspy/signal/cross_correlation.py:291: RuntimeWarning: invalid value encountered in sqrt\n",
      "  np.sqrt(norm, out=norm)\n"
     ]
    },
    {
     "name": "stdout",
     "output_type": "stream",
     "text": [
      "392 detections found.\n",
      "Processing A01, 2020-01-15-11-00-00...\n"
     ]
    },
    {
     "name": "stderr",
     "output_type": "stream",
     "text": [
      "/opt/homebrew/Caskroom/miniforge/base/envs/obspy/lib/python3.11/site-packages/obspy/signal/cross_correlation.py:291: RuntimeWarning: invalid value encountered in sqrt\n",
      "  np.sqrt(norm, out=norm)\n"
     ]
    },
    {
     "name": "stdout",
     "output_type": "stream",
     "text": [
      "244 detections found.\n",
      "Processing A01, 2020-01-15-12-00-00...\n"
     ]
    },
    {
     "name": "stderr",
     "output_type": "stream",
     "text": [
      "/opt/homebrew/Caskroom/miniforge/base/envs/obspy/lib/python3.11/site-packages/obspy/signal/cross_correlation.py:291: RuntimeWarning: invalid value encountered in sqrt\n",
      "  np.sqrt(norm, out=norm)\n"
     ]
    },
    {
     "name": "stdout",
     "output_type": "stream",
     "text": [
      "310 detections found.\n",
      "Processing A01, 2020-01-15-13-00-00...\n"
     ]
    },
    {
     "name": "stderr",
     "output_type": "stream",
     "text": [
      "/opt/homebrew/Caskroom/miniforge/base/envs/obspy/lib/python3.11/site-packages/obspy/signal/cross_correlation.py:291: RuntimeWarning: invalid value encountered in sqrt\n",
      "  np.sqrt(norm, out=norm)\n"
     ]
    },
    {
     "name": "stdout",
     "output_type": "stream",
     "text": [
      "263 detections found.\n",
      "Processing A01, 2020-01-15-14-00-00...\n"
     ]
    },
    {
     "name": "stderr",
     "output_type": "stream",
     "text": [
      "/opt/homebrew/Caskroom/miniforge/base/envs/obspy/lib/python3.11/site-packages/obspy/signal/cross_correlation.py:291: RuntimeWarning: invalid value encountered in sqrt\n",
      "  np.sqrt(norm, out=norm)\n"
     ]
    },
    {
     "name": "stdout",
     "output_type": "stream",
     "text": [
      "487 detections found.\n",
      "Processing A01, 2020-01-15-15-00-00...\n"
     ]
    },
    {
     "name": "stderr",
     "output_type": "stream",
     "text": [
      "/opt/homebrew/Caskroom/miniforge/base/envs/obspy/lib/python3.11/site-packages/obspy/signal/cross_correlation.py:291: RuntimeWarning: invalid value encountered in sqrt\n",
      "  np.sqrt(norm, out=norm)\n"
     ]
    },
    {
     "name": "stdout",
     "output_type": "stream",
     "text": [
      "273 detections found.\n",
      "Processing A01, 2020-01-15-16-00-00...\n"
     ]
    },
    {
     "name": "stderr",
     "output_type": "stream",
     "text": [
      "/opt/homebrew/Caskroom/miniforge/base/envs/obspy/lib/python3.11/site-packages/obspy/signal/cross_correlation.py:291: RuntimeWarning: invalid value encountered in sqrt\n",
      "  np.sqrt(norm, out=norm)\n"
     ]
    },
    {
     "name": "stdout",
     "output_type": "stream",
     "text": [
      "216 detections found.\n",
      "Processing A01, 2020-01-15-17-00-00...\n"
     ]
    },
    {
     "name": "stderr",
     "output_type": "stream",
     "text": [
      "/opt/homebrew/Caskroom/miniforge/base/envs/obspy/lib/python3.11/site-packages/obspy/signal/cross_correlation.py:291: RuntimeWarning: invalid value encountered in sqrt\n",
      "  np.sqrt(norm, out=norm)\n"
     ]
    },
    {
     "name": "stdout",
     "output_type": "stream",
     "text": [
      "316 detections found.\n",
      "Processing A01, 2020-01-15-18-00-00...\n"
     ]
    },
    {
     "name": "stderr",
     "output_type": "stream",
     "text": [
      "/opt/homebrew/Caskroom/miniforge/base/envs/obspy/lib/python3.11/site-packages/obspy/signal/cross_correlation.py:291: RuntimeWarning: invalid value encountered in sqrt\n",
      "  np.sqrt(norm, out=norm)\n"
     ]
    },
    {
     "name": "stdout",
     "output_type": "stream",
     "text": [
      "96 detections found.\n",
      "Processing A01, 2020-01-15-19-00-00...\n"
     ]
    },
    {
     "name": "stderr",
     "output_type": "stream",
     "text": [
      "/opt/homebrew/Caskroom/miniforge/base/envs/obspy/lib/python3.11/site-packages/obspy/signal/cross_correlation.py:291: RuntimeWarning: invalid value encountered in sqrt\n",
      "  np.sqrt(norm, out=norm)\n"
     ]
    },
    {
     "name": "stdout",
     "output_type": "stream",
     "text": [
      "149 detections found.\n",
      "Processing A01, 2020-01-15-20-00-00...\n"
     ]
    },
    {
     "name": "stderr",
     "output_type": "stream",
     "text": [
      "/opt/homebrew/Caskroom/miniforge/base/envs/obspy/lib/python3.11/site-packages/obspy/signal/cross_correlation.py:291: RuntimeWarning: invalid value encountered in sqrt\n",
      "  np.sqrt(norm, out=norm)\n"
     ]
    },
    {
     "name": "stdout",
     "output_type": "stream",
     "text": [
      "112 detections found.\n",
      "Processing A01, 2020-01-15-21-00-00...\n",
      "11 detections found.\n",
      "Processing A01, 2020-01-15-22-00-00...\n"
     ]
    },
    {
     "name": "stderr",
     "output_type": "stream",
     "text": [
      "/opt/homebrew/Caskroom/miniforge/base/envs/obspy/lib/python3.11/site-packages/obspy/signal/cross_correlation.py:291: RuntimeWarning: invalid value encountered in sqrt\n",
      "  np.sqrt(norm, out=norm)\n"
     ]
    },
    {
     "name": "stdout",
     "output_type": "stream",
     "text": [
      "5 detections found.\n",
      "Processing A01, 2020-01-15-23-00-00...\n",
      "20 detections found.\n",
      "Processing A01, 2020-01-16-00-00-00...\n",
      "13 detections found.\n",
      "Processing A01, 2020-01-16-01-00-00...\n",
      "7 detections found.\n",
      "Processing A01, 2020-01-16-02-00-00...\n"
     ]
    },
    {
     "name": "stderr",
     "output_type": "stream",
     "text": [
      "/opt/homebrew/Caskroom/miniforge/base/envs/obspy/lib/python3.11/site-packages/obspy/signal/cross_correlation.py:291: RuntimeWarning: invalid value encountered in sqrt\n",
      "  np.sqrt(norm, out=norm)\n"
     ]
    },
    {
     "name": "stdout",
     "output_type": "stream",
     "text": [
      "No detections found.\n",
      "Processing A01, 2020-01-16-03-00-00...\n",
      "No detections found.\n",
      "Processing A01, 2020-01-16-04-00-00...\n",
      "26 detections found.\n",
      "Processing A01, 2020-01-16-05-00-00...\n"
     ]
    },
    {
     "name": "stderr",
     "output_type": "stream",
     "text": [
      "/opt/homebrew/Caskroom/miniforge/base/envs/obspy/lib/python3.11/site-packages/obspy/signal/cross_correlation.py:291: RuntimeWarning: invalid value encountered in sqrt\n",
      "  np.sqrt(norm, out=norm)\n"
     ]
    },
    {
     "name": "stdout",
     "output_type": "stream",
     "text": [
      "46 detections found.\n",
      "Processing A01, 2020-01-16-06-00-00...\n",
      "37 detections found.\n",
      "Processing A01, 2020-01-16-07-00-00...\n"
     ]
    },
    {
     "name": "stderr",
     "output_type": "stream",
     "text": [
      "/opt/homebrew/Caskroom/miniforge/base/envs/obspy/lib/python3.11/site-packages/obspy/signal/cross_correlation.py:291: RuntimeWarning: invalid value encountered in sqrt\n",
      "  np.sqrt(norm, out=norm)\n"
     ]
    },
    {
     "name": "stdout",
     "output_type": "stream",
     "text": [
      "37 detections found.\n",
      "Processing A01, 2020-01-16-08-00-00...\n",
      "10 detections found.\n",
      "Processing A01, 2020-01-16-09-00-00...\n",
      "4 detections found.\n",
      "Processing A01, 2020-01-16-10-00-00...\n",
      "42 detections found.\n",
      "Processing A01, 2020-01-16-11-00-00...\n",
      "39 detections found.\n",
      "Processing A01, 2020-01-16-12-00-00...\n",
      "38 detections found.\n",
      "Processing A01, 2020-01-16-13-00-00...\n"
     ]
    },
    {
     "name": "stderr",
     "output_type": "stream",
     "text": [
      "/opt/homebrew/Caskroom/miniforge/base/envs/obspy/lib/python3.11/site-packages/obspy/signal/cross_correlation.py:291: RuntimeWarning: invalid value encountered in sqrt\n",
      "  np.sqrt(norm, out=norm)\n"
     ]
    },
    {
     "name": "stdout",
     "output_type": "stream",
     "text": [
      "24 detections found.\n",
      "Processing A01, 2020-01-16-14-00-00...\n",
      "26 detections found.\n",
      "Processing A01, 2020-01-16-15-00-00...\n"
     ]
    },
    {
     "name": "stderr",
     "output_type": "stream",
     "text": [
      "/opt/homebrew/Caskroom/miniforge/base/envs/obspy/lib/python3.11/site-packages/obspy/signal/cross_correlation.py:291: RuntimeWarning: invalid value encountered in sqrt\n",
      "  np.sqrt(norm, out=norm)\n"
     ]
    },
    {
     "name": "stdout",
     "output_type": "stream",
     "text": [
      "96 detections found.\n",
      "Processing A01, 2020-01-16-16-00-00...\n"
     ]
    },
    {
     "name": "stderr",
     "output_type": "stream",
     "text": [
      "/opt/homebrew/Caskroom/miniforge/base/envs/obspy/lib/python3.11/site-packages/obspy/signal/cross_correlation.py:291: RuntimeWarning: invalid value encountered in sqrt\n",
      "  np.sqrt(norm, out=norm)\n"
     ]
    },
    {
     "name": "stdout",
     "output_type": "stream",
     "text": [
      "173 detections found.\n",
      "Processing A01, 2020-01-16-17-00-00...\n"
     ]
    },
    {
     "name": "stderr",
     "output_type": "stream",
     "text": [
      "/opt/homebrew/Caskroom/miniforge/base/envs/obspy/lib/python3.11/site-packages/obspy/signal/cross_correlation.py:291: RuntimeWarning: invalid value encountered in sqrt\n",
      "  np.sqrt(norm, out=norm)\n"
     ]
    },
    {
     "name": "stdout",
     "output_type": "stream",
     "text": [
      "139 detections found.\n",
      "Processing A01, 2020-01-16-18-00-00...\n"
     ]
    },
    {
     "name": "stderr",
     "output_type": "stream",
     "text": [
      "/opt/homebrew/Caskroom/miniforge/base/envs/obspy/lib/python3.11/site-packages/obspy/signal/cross_correlation.py:291: RuntimeWarning: invalid value encountered in sqrt\n",
      "  np.sqrt(norm, out=norm)\n"
     ]
    },
    {
     "name": "stdout",
     "output_type": "stream",
     "text": [
      "55 detections found.\n",
      "Processing A01, 2020-01-16-19-00-00...\n"
     ]
    },
    {
     "name": "stderr",
     "output_type": "stream",
     "text": [
      "/opt/homebrew/Caskroom/miniforge/base/envs/obspy/lib/python3.11/site-packages/obspy/signal/cross_correlation.py:291: RuntimeWarning: invalid value encountered in sqrt\n",
      "  np.sqrt(norm, out=norm)\n"
     ]
    },
    {
     "name": "stdout",
     "output_type": "stream",
     "text": [
      "28 detections found.\n",
      "Processing A01, 2020-01-16-20-00-00...\n"
     ]
    },
    {
     "name": "stderr",
     "output_type": "stream",
     "text": [
      "/opt/homebrew/Caskroom/miniforge/base/envs/obspy/lib/python3.11/site-packages/obspy/signal/cross_correlation.py:291: RuntimeWarning: invalid value encountered in sqrt\n",
      "  np.sqrt(norm, out=norm)\n"
     ]
    },
    {
     "name": "stdout",
     "output_type": "stream",
     "text": [
      "143 detections found.\n",
      "Processing A01, 2020-01-16-21-00-00...\n"
     ]
    },
    {
     "name": "stderr",
     "output_type": "stream",
     "text": [
      "/opt/homebrew/Caskroom/miniforge/base/envs/obspy/lib/python3.11/site-packages/obspy/signal/cross_correlation.py:291: RuntimeWarning: invalid value encountered in sqrt\n",
      "  np.sqrt(norm, out=norm)\n"
     ]
    },
    {
     "name": "stdout",
     "output_type": "stream",
     "text": [
      "201 detections found.\n",
      "Processing A01, 2020-01-16-22-00-00...\n",
      "94 detections found.\n",
      "Processing A01, 2020-01-16-23-00-00...\n"
     ]
    },
    {
     "name": "stderr",
     "output_type": "stream",
     "text": [
      "/opt/homebrew/Caskroom/miniforge/base/envs/obspy/lib/python3.11/site-packages/obspy/signal/cross_correlation.py:291: RuntimeWarning: invalid value encountered in sqrt\n",
      "  np.sqrt(norm, out=norm)\n"
     ]
    },
    {
     "name": "stdout",
     "output_type": "stream",
     "text": [
      "60 detections found.\n",
      "Processing A01, 2020-01-17-00-00-00...\n"
     ]
    },
    {
     "name": "stderr",
     "output_type": "stream",
     "text": [
      "/opt/homebrew/Caskroom/miniforge/base/envs/obspy/lib/python3.11/site-packages/obspy/signal/cross_correlation.py:291: RuntimeWarning: invalid value encountered in sqrt\n",
      "  np.sqrt(norm, out=norm)\n"
     ]
    },
    {
     "name": "stdout",
     "output_type": "stream",
     "text": [
      "41 detections found.\n",
      "Processing A01, 2020-01-17-01-00-00...\n"
     ]
    },
    {
     "name": "stderr",
     "output_type": "stream",
     "text": [
      "/opt/homebrew/Caskroom/miniforge/base/envs/obspy/lib/python3.11/site-packages/obspy/signal/cross_correlation.py:291: RuntimeWarning: invalid value encountered in sqrt\n",
      "  np.sqrt(norm, out=norm)\n"
     ]
    },
    {
     "name": "stdout",
     "output_type": "stream",
     "text": [
      "92 detections found.\n",
      "Processing A01, 2020-01-17-02-00-00...\n",
      "11 detections found.\n",
      "Processing A01, 2020-01-17-03-00-00...\n"
     ]
    },
    {
     "name": "stderr",
     "output_type": "stream",
     "text": [
      "/opt/homebrew/Caskroom/miniforge/base/envs/obspy/lib/python3.11/site-packages/obspy/signal/cross_correlation.py:291: RuntimeWarning: invalid value encountered in sqrt\n",
      "  np.sqrt(norm, out=norm)\n"
     ]
    },
    {
     "name": "stdout",
     "output_type": "stream",
     "text": [
      "138 detections found.\n",
      "Processing A01, 2020-01-17-04-00-00...\n",
      "3 detections found.\n",
      "Processing A01, 2020-01-17-05-00-00...\n"
     ]
    },
    {
     "name": "stderr",
     "output_type": "stream",
     "text": [
      "/opt/homebrew/Caskroom/miniforge/base/envs/obspy/lib/python3.11/site-packages/obspy/signal/cross_correlation.py:291: RuntimeWarning: invalid value encountered in sqrt\n",
      "  np.sqrt(norm, out=norm)\n"
     ]
    },
    {
     "name": "stdout",
     "output_type": "stream",
     "text": [
      "3 detections found.\n",
      "Processing A01, 2020-01-17-06-00-00...\n",
      "3 detections found.\n",
      "Processing A01, 2020-01-17-07-00-00...\n"
     ]
    },
    {
     "name": "stderr",
     "output_type": "stream",
     "text": [
      "/opt/homebrew/Caskroom/miniforge/base/envs/obspy/lib/python3.11/site-packages/obspy/signal/cross_correlation.py:291: RuntimeWarning: invalid value encountered in sqrt\n",
      "  np.sqrt(norm, out=norm)\n"
     ]
    },
    {
     "name": "stdout",
     "output_type": "stream",
     "text": [
      "2 detections found.\n",
      "Processing A01, 2020-01-17-08-00-00...\n"
     ]
    },
    {
     "name": "stderr",
     "output_type": "stream",
     "text": [
      "/opt/homebrew/Caskroom/miniforge/base/envs/obspy/lib/python3.11/site-packages/obspy/signal/cross_correlation.py:291: RuntimeWarning: invalid value encountered in sqrt\n",
      "  np.sqrt(norm, out=norm)\n"
     ]
    },
    {
     "name": "stdout",
     "output_type": "stream",
     "text": [
      "No detections found.\n",
      "Processing A01, 2020-01-17-09-00-00...\n",
      "3 detections found.\n",
      "Processing A01, 2020-01-17-10-00-00...\n"
     ]
    },
    {
     "name": "stderr",
     "output_type": "stream",
     "text": [
      "/opt/homebrew/Caskroom/miniforge/base/envs/obspy/lib/python3.11/site-packages/obspy/signal/cross_correlation.py:291: RuntimeWarning: invalid value encountered in sqrt\n",
      "  np.sqrt(norm, out=norm)\n"
     ]
    },
    {
     "name": "stdout",
     "output_type": "stream",
     "text": [
      "34 detections found.\n",
      "Processing A01, 2020-01-17-11-00-00...\n"
     ]
    },
    {
     "name": "stderr",
     "output_type": "stream",
     "text": [
      "/opt/homebrew/Caskroom/miniforge/base/envs/obspy/lib/python3.11/site-packages/obspy/signal/cross_correlation.py:291: RuntimeWarning: invalid value encountered in sqrt\n",
      "  np.sqrt(norm, out=norm)\n"
     ]
    },
    {
     "name": "stdout",
     "output_type": "stream",
     "text": [
      "66 detections found.\n",
      "Processing A01, 2020-01-17-12-00-00...\n"
     ]
    },
    {
     "name": "stderr",
     "output_type": "stream",
     "text": [
      "/opt/homebrew/Caskroom/miniforge/base/envs/obspy/lib/python3.11/site-packages/obspy/signal/cross_correlation.py:291: RuntimeWarning: invalid value encountered in sqrt\n",
      "  np.sqrt(norm, out=norm)\n"
     ]
    },
    {
     "name": "stdout",
     "output_type": "stream",
     "text": [
      "47 detections found.\n",
      "Processing A01, 2020-01-17-13-00-00...\n",
      "9 detections found.\n",
      "Processing A01, 2020-01-17-14-00-00...\n"
     ]
    },
    {
     "name": "stderr",
     "output_type": "stream",
     "text": [
      "/opt/homebrew/Caskroom/miniforge/base/envs/obspy/lib/python3.11/site-packages/obspy/signal/cross_correlation.py:291: RuntimeWarning: invalid value encountered in sqrt\n",
      "  np.sqrt(norm, out=norm)\n"
     ]
    },
    {
     "name": "stdout",
     "output_type": "stream",
     "text": [
      "No detections found.\n",
      "Processing A01, 2020-01-17-15-00-00...\n",
      "8 detections found.\n",
      "Processing A01, 2020-01-17-16-00-00...\n",
      "No detections found.\n",
      "Processing A01, 2020-01-17-17-00-00...\n"
     ]
    },
    {
     "name": "stderr",
     "output_type": "stream",
     "text": [
      "/opt/homebrew/Caskroom/miniforge/base/envs/obspy/lib/python3.11/site-packages/obspy/signal/cross_correlation.py:291: RuntimeWarning: invalid value encountered in sqrt\n",
      "  np.sqrt(norm, out=norm)\n"
     ]
    },
    {
     "name": "stdout",
     "output_type": "stream",
     "text": [
      "No detections found.\n",
      "Processing A01, 2020-01-17-18-00-00...\n",
      "2 detections found.\n",
      "Processing A01, 2020-01-17-19-00-00...\n"
     ]
    },
    {
     "name": "stderr",
     "output_type": "stream",
     "text": [
      "/opt/homebrew/Caskroom/miniforge/base/envs/obspy/lib/python3.11/site-packages/obspy/signal/cross_correlation.py:291: RuntimeWarning: invalid value encountered in sqrt\n",
      "  np.sqrt(norm, out=norm)\n"
     ]
    },
    {
     "name": "stdout",
     "output_type": "stream",
     "text": [
      "No detections found.\n",
      "Processing A01, 2020-01-17-20-00-00...\n",
      "No detections found.\n",
      "Processing A01, 2020-01-17-21-00-00...\n",
      "No detections found.\n",
      "Processing A01, 2020-01-17-22-00-00...\n",
      "No detections found.\n",
      "Processing A01, 2020-01-17-23-00-00...\n",
      "No detections found.\n",
      "Processing A01, 2020-01-18-00-00-00...\n",
      "1 detections found.\n",
      "Processing A01, 2020-01-18-01-00-00...\n"
     ]
    },
    {
     "name": "stderr",
     "output_type": "stream",
     "text": [
      "/opt/homebrew/Caskroom/miniforge/base/envs/obspy/lib/python3.11/site-packages/obspy/signal/cross_correlation.py:291: RuntimeWarning: invalid value encountered in sqrt\n",
      "  np.sqrt(norm, out=norm)\n"
     ]
    },
    {
     "name": "stdout",
     "output_type": "stream",
     "text": [
      "16 detections found.\n",
      "Processing A01, 2020-01-18-02-00-00...\n",
      "No detections found.\n",
      "Processing A01, 2020-01-18-03-00-00...\n",
      "No detections found.\n",
      "Processing A01, 2020-01-18-04-00-00...\n"
     ]
    },
    {
     "name": "stderr",
     "output_type": "stream",
     "text": [
      "/opt/homebrew/Caskroom/miniforge/base/envs/obspy/lib/python3.11/site-packages/obspy/signal/cross_correlation.py:291: RuntimeWarning: invalid value encountered in sqrt\n",
      "  np.sqrt(norm, out=norm)\n"
     ]
    },
    {
     "name": "stdout",
     "output_type": "stream",
     "text": [
      "16 detections found.\n",
      "Processing A01, 2020-01-18-05-00-00...\n"
     ]
    },
    {
     "name": "stderr",
     "output_type": "stream",
     "text": [
      "/opt/homebrew/Caskroom/miniforge/base/envs/obspy/lib/python3.11/site-packages/obspy/signal/cross_correlation.py:291: RuntimeWarning: invalid value encountered in sqrt\n",
      "  np.sqrt(norm, out=norm)\n"
     ]
    },
    {
     "name": "stdout",
     "output_type": "stream",
     "text": [
      "27 detections found.\n",
      "Processing A01, 2020-01-18-06-00-00...\n",
      "1 detections found.\n",
      "Processing A01, 2020-01-18-07-00-00...\n"
     ]
    },
    {
     "name": "stderr",
     "output_type": "stream",
     "text": [
      "/opt/homebrew/Caskroom/miniforge/base/envs/obspy/lib/python3.11/site-packages/obspy/signal/cross_correlation.py:291: RuntimeWarning: invalid value encountered in sqrt\n",
      "  np.sqrt(norm, out=norm)\n"
     ]
    },
    {
     "name": "stdout",
     "output_type": "stream",
     "text": [
      "No detections found.\n",
      "Processing A01, 2020-01-18-08-00-00...\n",
      "1 detections found.\n",
      "Processing A01, 2020-01-18-09-00-00...\n"
     ]
    },
    {
     "name": "stderr",
     "output_type": "stream",
     "text": [
      "/opt/homebrew/Caskroom/miniforge/base/envs/obspy/lib/python3.11/site-packages/obspy/signal/cross_correlation.py:291: RuntimeWarning: invalid value encountered in sqrt\n",
      "  np.sqrt(norm, out=norm)\n"
     ]
    },
    {
     "name": "stdout",
     "output_type": "stream",
     "text": [
      "No detections found.\n",
      "Processing A01, 2020-01-18-10-00-00...\n",
      "No detections found.\n",
      "Processing A01, 2020-01-18-11-00-00...\n",
      "1 detections found.\n",
      "Processing A01, 2020-01-18-12-00-00...\n"
     ]
    },
    {
     "name": "stderr",
     "output_type": "stream",
     "text": [
      "/opt/homebrew/Caskroom/miniforge/base/envs/obspy/lib/python3.11/site-packages/obspy/signal/cross_correlation.py:291: RuntimeWarning: invalid value encountered in sqrt\n",
      "  np.sqrt(norm, out=norm)\n"
     ]
    },
    {
     "name": "stdout",
     "output_type": "stream",
     "text": [
      "No detections found.\n",
      "Processing A01, 2020-01-18-13-00-00...\n",
      "No detections found.\n",
      "Processing A01, 2020-01-18-14-00-00...\n",
      "No detections found.\n",
      "Processing A01, 2020-01-18-15-00-00...\n",
      "No detections found.\n",
      "Processing A01, 2020-01-18-16-00-00...\n",
      "No detections found.\n",
      "Processing A01, 2020-01-18-17-00-00...\n",
      "No detections found.\n",
      "Processing A01, 2020-01-18-18-00-00...\n",
      "No detections found.\n",
      "Processing A01, 2020-01-18-19-00-00...\n",
      "5 detections found.\n",
      "Processing A01, 2020-01-18-20-00-00...\n",
      "No detections found.\n",
      "Processing A01, 2020-01-18-21-00-00...\n"
     ]
    },
    {
     "name": "stderr",
     "output_type": "stream",
     "text": [
      "/opt/homebrew/Caskroom/miniforge/base/envs/obspy/lib/python3.11/site-packages/obspy/signal/cross_correlation.py:291: RuntimeWarning: invalid value encountered in sqrt\n",
      "  np.sqrt(norm, out=norm)\n"
     ]
    },
    {
     "name": "stdout",
     "output_type": "stream",
     "text": [
      "No detections found.\n",
      "Processing A01, 2020-01-18-22-00-00...\n",
      "No detections found.\n",
      "Processing A01, 2020-01-18-23-00-00...\n",
      "No detections found.\n",
      "Processing A01, 2020-01-19-00-00-00...\n",
      "No detections found.\n",
      "Processing A01, 2020-01-19-01-00-00...\n",
      "No detections found.\n",
      "Processing A01, 2020-01-19-02-00-00...\n",
      "No detections found.\n",
      "Processing A01, 2020-01-19-03-00-00...\n",
      "No detections found.\n",
      "Processing A01, 2020-01-19-04-00-00...\n",
      "No detections found.\n",
      "Processing A01, 2020-01-19-05-00-00...\n",
      "No detections found.\n",
      "Processing A01, 2020-01-19-06-00-00...\n",
      "No detections found.\n",
      "Processing A01, 2020-01-19-07-00-00...\n",
      "No detections found.\n",
      "Processing A01, 2020-01-19-08-00-00...\n",
      "No detections found.\n",
      "Processing A01, 2020-01-19-09-00-00...\n",
      "3 detections found.\n",
      "Processing A01, 2020-01-19-10-00-00...\n"
     ]
    },
    {
     "name": "stderr",
     "output_type": "stream",
     "text": [
      "/opt/homebrew/Caskroom/miniforge/base/envs/obspy/lib/python3.11/site-packages/obspy/signal/cross_correlation.py:291: RuntimeWarning: invalid value encountered in sqrt\n",
      "  np.sqrt(norm, out=norm)\n"
     ]
    },
    {
     "name": "stdout",
     "output_type": "stream",
     "text": [
      "No detections found.\n",
      "Processing A01, 2020-01-19-11-00-00...\n",
      "2 detections found.\n",
      "Processing A01, 2020-01-19-12-00-00...\n",
      "No detections found.\n",
      "Processing A01, 2020-01-19-13-00-00...\n",
      "No detections found.\n",
      "Processing A01, 2020-01-19-14-00-00...\n",
      "No detections found.\n",
      "Processing A01, 2020-01-19-15-00-00...\n"
     ]
    },
    {
     "name": "stderr",
     "output_type": "stream",
     "text": [
      "/opt/homebrew/Caskroom/miniforge/base/envs/obspy/lib/python3.11/site-packages/obspy/signal/cross_correlation.py:291: RuntimeWarning: invalid value encountered in sqrt\n",
      "  np.sqrt(norm, out=norm)\n"
     ]
    },
    {
     "name": "stdout",
     "output_type": "stream",
     "text": [
      "2 detections found.\n",
      "Processing A01, 2020-01-19-16-00-00...\n",
      "No detections found.\n",
      "Processing A01, 2020-01-19-17-00-00...\n",
      "No detections found.\n",
      "Processing A01, 2020-01-19-18-00-00...\n"
     ]
    },
    {
     "name": "stderr",
     "output_type": "stream",
     "text": [
      "/opt/homebrew/Caskroom/miniforge/base/envs/obspy/lib/python3.11/site-packages/obspy/signal/cross_correlation.py:291: RuntimeWarning: invalid value encountered in sqrt\n",
      "  np.sqrt(norm, out=norm)\n"
     ]
    },
    {
     "name": "stdout",
     "output_type": "stream",
     "text": [
      "No detections found.\n",
      "Processing A01, 2020-01-19-19-00-00...\n",
      "No detections found.\n",
      "Processing A01, 2020-01-19-20-00-00...\n",
      "No detections found.\n",
      "Processing A01, 2020-01-19-21-00-00...\n",
      "No detections found.\n",
      "Processing A01, 2020-01-19-22-00-00...\n",
      "No detections found.\n",
      "Processing A01, 2020-01-19-23-00-00...\n",
      "No detections found.\n",
      "Processing A01, 2020-01-20-00-00-00...\n",
      "No detections found.\n",
      "Processing A01, 2020-01-20-01-00-00...\n",
      "No detections found.\n",
      "Processing A01, 2020-01-20-02-00-00...\n",
      "No detections found.\n",
      "Processing A01, 2020-01-20-03-00-00...\n",
      "No detections found.\n",
      "Processing A01, 2020-01-20-04-00-00...\n",
      "No detections found.\n",
      "Processing A01, 2020-01-20-05-00-00...\n",
      "1 detections found.\n",
      "Processing A01, 2020-01-20-06-00-00...\n",
      "No detections found.\n",
      "Processing A01, 2020-01-20-07-00-00...\n",
      "No detections found.\n",
      "Processing A01, 2020-01-20-08-00-00...\n"
     ]
    },
    {
     "name": "stderr",
     "output_type": "stream",
     "text": [
      "/opt/homebrew/Caskroom/miniforge/base/envs/obspy/lib/python3.11/site-packages/obspy/signal/cross_correlation.py:291: RuntimeWarning: invalid value encountered in sqrt\n",
      "  np.sqrt(norm, out=norm)\n"
     ]
    },
    {
     "name": "stdout",
     "output_type": "stream",
     "text": [
      "No detections found.\n",
      "Processing A01, 2020-01-20-09-00-00...\n",
      "No detections found.\n",
      "Processing A01, 2020-01-20-10-00-00...\n",
      "1 detections found.\n",
      "Processing A01, 2020-01-20-11-00-00...\n"
     ]
    },
    {
     "name": "stderr",
     "output_type": "stream",
     "text": [
      "/opt/homebrew/Caskroom/miniforge/base/envs/obspy/lib/python3.11/site-packages/obspy/signal/cross_correlation.py:291: RuntimeWarning: invalid value encountered in sqrt\n",
      "  np.sqrt(norm, out=norm)\n"
     ]
    },
    {
     "name": "stdout",
     "output_type": "stream",
     "text": [
      "No detections found.\n",
      "Processing A01, 2020-01-20-12-00-00...\n",
      "No detections found.\n",
      "Processing A01, 2020-01-20-13-00-00...\n",
      "No detections found.\n",
      "Processing A01, 2020-01-20-14-00-00...\n",
      "No detections found.\n",
      "Processing A01, 2020-01-20-15-00-00...\n",
      "4 detections found.\n",
      "Processing A01, 2020-01-20-16-00-00...\n",
      "No detections found.\n",
      "Processing A01, 2020-01-20-17-00-00...\n",
      "No detections found.\n",
      "Processing A01, 2020-01-20-18-00-00...\n",
      "No detections found.\n",
      "Processing A01, 2020-01-20-19-00-00...\n",
      "No detections found.\n",
      "Processing A01, 2020-01-20-20-00-00...\n"
     ]
    },
    {
     "name": "stderr",
     "output_type": "stream",
     "text": [
      "/opt/homebrew/Caskroom/miniforge/base/envs/obspy/lib/python3.11/site-packages/obspy/signal/cross_correlation.py:291: RuntimeWarning: invalid value encountered in sqrt\n",
      "  np.sqrt(norm, out=norm)\n"
     ]
    },
    {
     "name": "stdout",
     "output_type": "stream",
     "text": [
      "No detections found.\n",
      "Processing A01, 2020-01-20-21-00-00...\n",
      "No detections found.\n",
      "Processing A01, 2020-01-20-22-00-00...\n",
      "No detections found.\n",
      "Processing A01, 2020-01-20-23-00-00...\n",
      "No detections found.\n",
      "Processing A01, 2020-01-21-00-00-00...\n",
      "No detections found.\n",
      "Processing A01, 2020-01-21-01-00-00...\n",
      "No detections found.\n",
      "Processing A01, 2020-01-21-02-00-00...\n",
      "No detections found.\n",
      "Processing A01, 2020-01-21-03-00-00...\n",
      "No detections found.\n",
      "Processing A01, 2020-01-21-04-00-00...\n",
      "No detections found.\n",
      "Processing A01, 2020-01-21-05-00-00...\n",
      "No detections found.\n",
      "Processing A01, 2020-01-21-06-00-00...\n",
      "No detections found.\n",
      "Processing A01, 2020-01-21-07-00-00...\n",
      "No detections found.\n",
      "Processing A01, 2020-01-21-08-00-00...\n",
      "No detections found.\n",
      "Processing A01, 2020-01-21-09-00-00...\n",
      "No detections found.\n",
      "Processing A01, 2020-01-21-10-00-00...\n",
      "No detections found.\n",
      "Processing A01, 2020-01-21-11-00-00...\n",
      "No detections found.\n",
      "Processing A01, 2020-01-21-12-00-00...\n",
      "No detections found.\n",
      "Processing A01, 2020-01-21-13-00-00...\n",
      "No detections found.\n",
      "Processing A01, 2020-01-21-14-00-00...\n",
      "No detections found.\n",
      "Processing A01, 2020-01-21-15-00-00...\n",
      "No detections found.\n",
      "Processing A01, 2020-01-21-16-00-00...\n",
      "No detections found.\n",
      "Processing A01, 2020-01-21-17-00-00...\n",
      "No detections found.\n",
      "Processing A01, 2020-01-21-18-00-00...\n",
      "1 detections found.\n",
      "Processing A01, 2020-01-21-19-00-00...\n"
     ]
    },
    {
     "name": "stderr",
     "output_type": "stream",
     "text": [
      "/opt/homebrew/Caskroom/miniforge/base/envs/obspy/lib/python3.11/site-packages/obspy/signal/cross_correlation.py:291: RuntimeWarning: invalid value encountered in sqrt\n",
      "  np.sqrt(norm, out=norm)\n"
     ]
    },
    {
     "name": "stdout",
     "output_type": "stream",
     "text": [
      "No detections found.\n",
      "Processing A01, 2020-01-21-20-00-00...\n",
      "No detections found.\n",
      "Processing A01, 2020-01-21-21-00-00...\n",
      "No detections found.\n",
      "Processing A01, 2020-01-21-22-00-00...\n",
      "No detections found.\n",
      "Processing A01, 2020-01-21-23-00-00...\n",
      "No detections found.\n",
      "Processing A01, 2020-01-22-00-00-00...\n",
      "No detections found.\n",
      "Processing A01, 2020-01-22-01-00-00...\n",
      "No detections found.\n",
      "Processing A01, 2020-01-22-02-00-00...\n",
      "No detections found.\n",
      "Processing A01, 2020-01-22-03-00-00...\n",
      "No detections found.\n",
      "Processing A01, 2020-01-22-04-00-00...\n",
      "No detections found.\n",
      "Processing A01, 2020-01-22-05-00-00...\n",
      "No detections found.\n",
      "Processing A01, 2020-01-22-06-00-00...\n",
      "No detections found.\n",
      "Processing A01, 2020-01-22-07-00-00...\n",
      "No detections found.\n",
      "Processing A01, 2020-01-22-08-00-00...\n",
      "1 detections found.\n",
      "Processing A01, 2020-01-22-09-00-00...\n",
      "No detections found.\n",
      "Processing A01, 2020-01-22-10-00-00...\n",
      "No detections found.\n",
      "Processing A01, 2020-01-22-11-00-00...\n"
     ]
    },
    {
     "name": "stderr",
     "output_type": "stream",
     "text": [
      "/opt/homebrew/Caskroom/miniforge/base/envs/obspy/lib/python3.11/site-packages/obspy/signal/cross_correlation.py:291: RuntimeWarning: invalid value encountered in sqrt\n",
      "  np.sqrt(norm, out=norm)\n"
     ]
    },
    {
     "name": "stdout",
     "output_type": "stream",
     "text": [
      "No detections found.\n",
      "Processing A01, 2020-01-22-12-00-00...\n",
      "No detections found.\n",
      "Processing A01, 2020-01-22-13-00-00...\n",
      "No detections found.\n",
      "Processing A01, 2020-01-22-14-00-00...\n",
      "No detections found.\n",
      "Processing A01, 2020-01-22-15-00-00...\n",
      "No detections found.\n",
      "Processing A01, 2020-01-22-16-00-00...\n",
      "No detections found.\n",
      "Processing A01, 2020-01-22-17-00-00...\n",
      "No detections found.\n",
      "Processing A01, 2020-01-22-18-00-00...\n",
      "No detections found.\n",
      "Processing A01, 2020-01-22-19-00-00...\n",
      "No detections found.\n",
      "Processing A01, 2020-01-22-20-00-00...\n",
      "No detections found.\n",
      "Processing A01, 2020-01-22-21-00-00...\n",
      "No detections found.\n",
      "Processing A01, 2020-01-22-22-00-00...\n",
      "1 detections found.\n",
      "Processing A01, 2020-01-22-23-00-00...\n"
     ]
    },
    {
     "name": "stderr",
     "output_type": "stream",
     "text": [
      "/opt/homebrew/Caskroom/miniforge/base/envs/obspy/lib/python3.11/site-packages/obspy/signal/cross_correlation.py:291: RuntimeWarning: invalid value encountered in sqrt\n",
      "  np.sqrt(norm, out=norm)\n"
     ]
    },
    {
     "name": "stdout",
     "output_type": "stream",
     "text": [
      "No detections found.\n",
      "Processing A01, 2020-01-23-00-00-00...\n",
      "No detections found.\n",
      "Processing A01, 2020-01-23-01-00-00...\n",
      "No detections found.\n",
      "Processing A01, 2020-01-23-02-00-00...\n",
      "No detections found.\n",
      "Processing A01, 2020-01-23-03-00-00...\n",
      "No detections found.\n",
      "Processing A01, 2020-01-23-04-00-00...\n",
      "No detections found.\n",
      "Processing A01, 2020-01-23-05-00-00...\n",
      "No detections found.\n",
      "Processing A01, 2020-01-23-06-00-00...\n",
      "No detections found.\n",
      "Processing A01, 2020-01-23-07-00-00...\n",
      "No detections found.\n",
      "Processing A01, 2020-01-23-08-00-00...\n",
      "1 detections found.\n",
      "Processing A01, 2020-01-23-09-00-00...\n"
     ]
    },
    {
     "name": "stderr",
     "output_type": "stream",
     "text": [
      "/opt/homebrew/Caskroom/miniforge/base/envs/obspy/lib/python3.11/site-packages/obspy/signal/cross_correlation.py:291: RuntimeWarning: invalid value encountered in sqrt\n",
      "  np.sqrt(norm, out=norm)\n"
     ]
    },
    {
     "name": "stdout",
     "output_type": "stream",
     "text": [
      "No detections found.\n",
      "Processing A01, 2020-01-23-10-00-00...\n",
      "No detections found.\n",
      "Processing A01, 2020-01-23-11-00-00...\n",
      "No detections found.\n",
      "Processing A01, 2020-01-23-12-00-00...\n",
      "No detections found.\n",
      "Processing A01, 2020-01-23-13-00-00...\n",
      "No detections found.\n",
      "Processing A01, 2020-01-23-14-00-00...\n",
      "No detections found.\n",
      "Processing A01, 2020-01-23-15-00-00...\n",
      "No detections found.\n",
      "Processing A01, 2020-01-23-16-00-00...\n",
      "No detections found.\n",
      "Processing A01, 2020-01-23-17-00-00...\n",
      "No detections found.\n",
      "Processing A01, 2020-01-23-18-00-00...\n",
      "1 detections found.\n",
      "Processing A01, 2020-01-23-19-00-00...\n"
     ]
    },
    {
     "name": "stderr",
     "output_type": "stream",
     "text": [
      "/opt/homebrew/Caskroom/miniforge/base/envs/obspy/lib/python3.11/site-packages/obspy/signal/cross_correlation.py:291: RuntimeWarning: invalid value encountered in sqrt\n",
      "  np.sqrt(norm, out=norm)\n"
     ]
    },
    {
     "name": "stdout",
     "output_type": "stream",
     "text": [
      "No detections found.\n",
      "Processing A01, 2020-01-23-20-00-00...\n",
      "1 detections found.\n",
      "Processing A01, 2020-01-23-21-00-00...\n",
      "No detections found.\n",
      "Processing A01, 2020-01-23-22-00-00...\n"
     ]
    },
    {
     "name": "stderr",
     "output_type": "stream",
     "text": [
      "/opt/homebrew/Caskroom/miniforge/base/envs/obspy/lib/python3.11/site-packages/obspy/signal/cross_correlation.py:291: RuntimeWarning: invalid value encountered in sqrt\n",
      "  np.sqrt(norm, out=norm)\n"
     ]
    },
    {
     "name": "stdout",
     "output_type": "stream",
     "text": [
      "1 detections found.\n",
      "Processing A01, 2020-01-23-23-00-00...\n",
      "No detections found.\n",
      "Processing A01, 2020-01-24-00-00-00...\n"
     ]
    },
    {
     "name": "stderr",
     "output_type": "stream",
     "text": [
      "/opt/homebrew/Caskroom/miniforge/base/envs/obspy/lib/python3.11/site-packages/obspy/signal/cross_correlation.py:291: RuntimeWarning: invalid value encountered in sqrt\n",
      "  np.sqrt(norm, out=norm)\n"
     ]
    },
    {
     "name": "stdout",
     "output_type": "stream",
     "text": [
      "No detections found.\n",
      "Processing A01, 2020-01-24-01-00-00...\n",
      "No detections found.\n",
      "Processing A01, 2020-01-24-02-00-00...\n",
      "No detections found.\n",
      "Processing A01, 2020-01-24-03-00-00...\n",
      "No detections found.\n",
      "Processing A01, 2020-01-24-04-00-00...\n",
      "No detections found.\n",
      "Processing A01, 2020-01-24-05-00-00...\n",
      "No detections found.\n",
      "Processing A01, 2020-01-24-06-00-00...\n",
      "No detections found.\n",
      "Processing A01, 2020-01-24-07-00-00...\n",
      "No detections found.\n",
      "Processing A01, 2020-01-24-08-00-00...\n",
      "1 detections found.\n",
      "Processing A01, 2020-01-24-09-00-00...\n"
     ]
    },
    {
     "name": "stderr",
     "output_type": "stream",
     "text": [
      "/opt/homebrew/Caskroom/miniforge/base/envs/obspy/lib/python3.11/site-packages/obspy/signal/cross_correlation.py:291: RuntimeWarning: invalid value encountered in sqrt\n",
      "  np.sqrt(norm, out=norm)\n"
     ]
    },
    {
     "name": "stdout",
     "output_type": "stream",
     "text": [
      "No detections found.\n",
      "Processing A01, 2020-01-24-10-00-00...\n",
      "No detections found.\n",
      "Processing A01, 2020-01-24-11-00-00...\n",
      "No detections found.\n",
      "Processing A01, 2020-01-24-12-00-00...\n",
      "1 detections found.\n",
      "Processing A01, 2020-01-24-13-00-00...\n"
     ]
    },
    {
     "name": "stderr",
     "output_type": "stream",
     "text": [
      "/opt/homebrew/Caskroom/miniforge/base/envs/obspy/lib/python3.11/site-packages/obspy/signal/cross_correlation.py:291: RuntimeWarning: invalid value encountered in sqrt\n",
      "  np.sqrt(norm, out=norm)\n"
     ]
    },
    {
     "name": "stdout",
     "output_type": "stream",
     "text": [
      "1 detections found.\n",
      "Processing A01, 2020-01-24-14-00-00...\n"
     ]
    },
    {
     "name": "stderr",
     "output_type": "stream",
     "text": [
      "/opt/homebrew/Caskroom/miniforge/base/envs/obspy/lib/python3.11/site-packages/obspy/signal/cross_correlation.py:291: RuntimeWarning: invalid value encountered in sqrt\n",
      "  np.sqrt(norm, out=norm)\n"
     ]
    },
    {
     "name": "stdout",
     "output_type": "stream",
     "text": [
      "No detections found.\n",
      "Processing A01, 2020-01-24-15-00-00...\n",
      "No detections found.\n",
      "Processing A01, 2020-01-24-16-00-00...\n",
      "No detections found.\n",
      "Processing A01, 2020-01-24-17-00-00...\n",
      "No detections found.\n",
      "Processing A01, 2020-01-24-18-00-00...\n",
      "No detections found.\n",
      "Processing A01, 2020-01-24-19-00-00...\n",
      "No detections found.\n",
      "Processing A01, 2020-01-24-20-00-00...\n",
      "No detections found.\n",
      "Processing A01, 2020-01-24-21-00-00...\n",
      "No detections found.\n",
      "Processing A01, 2020-01-24-22-00-00...\n",
      "No detections found.\n",
      "Processing A01, 2020-01-24-23-00-00...\n",
      "1 detections found.\n",
      "Processing A01, 2020-01-25-00-00-00...\n"
     ]
    },
    {
     "name": "stderr",
     "output_type": "stream",
     "text": [
      "/opt/homebrew/Caskroom/miniforge/base/envs/obspy/lib/python3.11/site-packages/obspy/signal/cross_correlation.py:291: RuntimeWarning: invalid value encountered in sqrt\n",
      "  np.sqrt(norm, out=norm)\n"
     ]
    },
    {
     "name": "stdout",
     "output_type": "stream",
     "text": [
      "No detections found.\n",
      "Processing A01, 2020-01-25-01-00-00...\n",
      "No detections found.\n",
      "Processing A01, 2020-01-25-02-00-00...\n",
      "No detections found.\n",
      "Processing A01, 2020-01-25-03-00-00...\n",
      "No detections found.\n",
      "Processing A01, 2020-01-25-04-00-00...\n",
      "No detections found.\n",
      "Processing A01, 2020-01-25-05-00-00...\n",
      "1 detections found.\n",
      "Processing A01, 2020-01-25-06-00-00...\n"
     ]
    },
    {
     "name": "stderr",
     "output_type": "stream",
     "text": [
      "/opt/homebrew/Caskroom/miniforge/base/envs/obspy/lib/python3.11/site-packages/obspy/signal/cross_correlation.py:291: RuntimeWarning: invalid value encountered in sqrt\n",
      "  np.sqrt(norm, out=norm)\n"
     ]
    },
    {
     "name": "stdout",
     "output_type": "stream",
     "text": [
      "1 detections found.\n",
      "Processing A01, 2020-01-25-07-00-00...\n"
     ]
    },
    {
     "name": "stderr",
     "output_type": "stream",
     "text": [
      "/opt/homebrew/Caskroom/miniforge/base/envs/obspy/lib/python3.11/site-packages/obspy/signal/cross_correlation.py:291: RuntimeWarning: invalid value encountered in sqrt\n",
      "  np.sqrt(norm, out=norm)\n"
     ]
    },
    {
     "name": "stdout",
     "output_type": "stream",
     "text": [
      "2 detections found.\n",
      "Processing A01, 2020-01-25-08-00-00...\n"
     ]
    },
    {
     "name": "stderr",
     "output_type": "stream",
     "text": [
      "/opt/homebrew/Caskroom/miniforge/base/envs/obspy/lib/python3.11/site-packages/obspy/signal/cross_correlation.py:291: RuntimeWarning: invalid value encountered in sqrt\n",
      "  np.sqrt(norm, out=norm)\n"
     ]
    },
    {
     "name": "stdout",
     "output_type": "stream",
     "text": [
      "No detections found.\n",
      "Processing A01, 2020-01-25-09-00-00...\n",
      "1 detections found.\n",
      "Processing A01, 2020-01-25-10-00-00...\n"
     ]
    },
    {
     "name": "stderr",
     "output_type": "stream",
     "text": [
      "/opt/homebrew/Caskroom/miniforge/base/envs/obspy/lib/python3.11/site-packages/obspy/signal/cross_correlation.py:291: RuntimeWarning: invalid value encountered in sqrt\n",
      "  np.sqrt(norm, out=norm)\n"
     ]
    },
    {
     "name": "stdout",
     "output_type": "stream",
     "text": [
      "1 detections found.\n",
      "Processing A01, 2020-01-25-11-00-00...\n"
     ]
    },
    {
     "name": "stderr",
     "output_type": "stream",
     "text": [
      "/opt/homebrew/Caskroom/miniforge/base/envs/obspy/lib/python3.11/site-packages/obspy/signal/cross_correlation.py:291: RuntimeWarning: invalid value encountered in sqrt\n",
      "  np.sqrt(norm, out=norm)\n"
     ]
    },
    {
     "name": "stdout",
     "output_type": "stream",
     "text": [
      "1 detections found.\n",
      "Processing A01, 2020-01-25-12-00-00...\n"
     ]
    },
    {
     "name": "stderr",
     "output_type": "stream",
     "text": [
      "/opt/homebrew/Caskroom/miniforge/base/envs/obspy/lib/python3.11/site-packages/obspy/signal/cross_correlation.py:291: RuntimeWarning: invalid value encountered in sqrt\n",
      "  np.sqrt(norm, out=norm)\n"
     ]
    },
    {
     "name": "stdout",
     "output_type": "stream",
     "text": [
      "4 detections found.\n",
      "Processing A01, 2020-01-25-13-00-00...\n"
     ]
    },
    {
     "name": "stderr",
     "output_type": "stream",
     "text": [
      "/opt/homebrew/Caskroom/miniforge/base/envs/obspy/lib/python3.11/site-packages/obspy/signal/cross_correlation.py:291: RuntimeWarning: invalid value encountered in sqrt\n",
      "  np.sqrt(norm, out=norm)\n"
     ]
    },
    {
     "name": "stdout",
     "output_type": "stream",
     "text": [
      "No detections found.\n",
      "Processing A01, 2020-01-25-14-00-00...\n",
      "No detections found.\n",
      "Processing A01, 2020-01-25-15-00-00...\n",
      "No detections found.\n",
      "Processing A01, 2020-01-25-16-00-00...\n",
      "No detections found.\n",
      "Processing A01, 2020-01-25-17-00-00...\n",
      "No detections found.\n",
      "Processing A01, 2020-01-25-18-00-00...\n",
      "No detections found.\n",
      "Processing A01, 2020-01-25-19-00-00...\n",
      "No detections found.\n",
      "Processing A01, 2020-01-25-20-00-00...\n",
      "No detections found.\n",
      "Processing A01, 2020-01-25-21-00-00...\n",
      "No detections found.\n",
      "Processing A01, 2020-01-25-22-00-00...\n",
      "No detections found.\n",
      "Processing A01, 2020-01-25-23-00-00...\n",
      "No detections found.\n",
      "Processing A01, 2020-01-26-00-00-00...\n",
      "1 detections found.\n",
      "Processing A01, 2020-01-26-01-00-00...\n"
     ]
    },
    {
     "name": "stderr",
     "output_type": "stream",
     "text": [
      "/opt/homebrew/Caskroom/miniforge/base/envs/obspy/lib/python3.11/site-packages/obspy/signal/cross_correlation.py:291: RuntimeWarning: invalid value encountered in sqrt\n",
      "  np.sqrt(norm, out=norm)\n"
     ]
    },
    {
     "name": "stdout",
     "output_type": "stream",
     "text": [
      "No detections found.\n",
      "Processing A01, 2020-01-26-02-00-00...\n",
      "No detections found.\n",
      "Processing A01, 2020-01-26-03-00-00...\n",
      "No detections found.\n",
      "Processing A01, 2020-01-26-04-00-00...\n",
      "No detections found.\n",
      "Processing A01, 2020-01-26-05-00-00...\n",
      "No detections found.\n",
      "Processing A01, 2020-01-26-06-00-00...\n",
      "1 detections found.\n",
      "Processing A01, 2020-01-26-07-00-00...\n",
      "No detections found.\n",
      "Processing A01, 2020-01-26-08-00-00...\n"
     ]
    },
    {
     "name": "stderr",
     "output_type": "stream",
     "text": [
      "/opt/homebrew/Caskroom/miniforge/base/envs/obspy/lib/python3.11/site-packages/obspy/signal/cross_correlation.py:291: RuntimeWarning: invalid value encountered in sqrt\n",
      "  np.sqrt(norm, out=norm)\n"
     ]
    },
    {
     "name": "stdout",
     "output_type": "stream",
     "text": [
      "No detections found.\n",
      "Processing A01, 2020-01-26-09-00-00...\n",
      "1 detections found.\n",
      "Processing A01, 2020-01-26-10-00-00...\n"
     ]
    },
    {
     "name": "stderr",
     "output_type": "stream",
     "text": [
      "/opt/homebrew/Caskroom/miniforge/base/envs/obspy/lib/python3.11/site-packages/obspy/signal/cross_correlation.py:291: RuntimeWarning: invalid value encountered in sqrt\n",
      "  np.sqrt(norm, out=norm)\n"
     ]
    },
    {
     "name": "stdout",
     "output_type": "stream",
     "text": [
      "No detections found.\n",
      "Processing A01, 2020-01-26-11-00-00...\n",
      "No detections found.\n",
      "Processing A01, 2020-01-26-12-00-00...\n",
      "1 detections found.\n",
      "Processing A01, 2020-01-26-13-00-00...\n"
     ]
    },
    {
     "name": "stderr",
     "output_type": "stream",
     "text": [
      "/opt/homebrew/Caskroom/miniforge/base/envs/obspy/lib/python3.11/site-packages/obspy/signal/cross_correlation.py:291: RuntimeWarning: invalid value encountered in sqrt\n",
      "  np.sqrt(norm, out=norm)\n"
     ]
    },
    {
     "name": "stdout",
     "output_type": "stream",
     "text": [
      "No detections found.\n",
      "Processing A01, 2020-01-26-14-00-00...\n",
      "1 detections found.\n",
      "Processing A01, 2020-01-26-15-00-00...\n"
     ]
    },
    {
     "name": "stderr",
     "output_type": "stream",
     "text": [
      "/opt/homebrew/Caskroom/miniforge/base/envs/obspy/lib/python3.11/site-packages/obspy/signal/cross_correlation.py:291: RuntimeWarning: invalid value encountered in sqrt\n",
      "  np.sqrt(norm, out=norm)\n"
     ]
    },
    {
     "name": "stdout",
     "output_type": "stream",
     "text": [
      "4 detections found.\n",
      "Processing A01, 2020-01-26-16-00-00...\n",
      "No detections found.\n",
      "Processing A01, 2020-01-26-17-00-00...\n",
      "No detections found.\n",
      "Processing A01, 2020-01-26-18-00-00...\n"
     ]
    },
    {
     "name": "stderr",
     "output_type": "stream",
     "text": [
      "/opt/homebrew/Caskroom/miniforge/base/envs/obspy/lib/python3.11/site-packages/obspy/signal/cross_correlation.py:291: RuntimeWarning: invalid value encountered in sqrt\n",
      "  np.sqrt(norm, out=norm)\n"
     ]
    },
    {
     "name": "stdout",
     "output_type": "stream",
     "text": [
      "No detections found.\n",
      "Processing A01, 2020-01-26-19-00-00...\n",
      "4 detections found.\n",
      "Processing A01, 2020-01-26-20-00-00...\n"
     ]
    },
    {
     "name": "stderr",
     "output_type": "stream",
     "text": [
      "/opt/homebrew/Caskroom/miniforge/base/envs/obspy/lib/python3.11/site-packages/obspy/signal/cross_correlation.py:291: RuntimeWarning: invalid value encountered in sqrt\n",
      "  np.sqrt(norm, out=norm)\n"
     ]
    },
    {
     "name": "stdout",
     "output_type": "stream",
     "text": [
      "894 detections found.\n",
      "Processing A01, 2020-01-26-21-00-00...\n"
     ]
    },
    {
     "name": "stderr",
     "output_type": "stream",
     "text": [
      "/opt/homebrew/Caskroom/miniforge/base/envs/obspy/lib/python3.11/site-packages/obspy/signal/cross_correlation.py:291: RuntimeWarning: invalid value encountered in sqrt\n",
      "  np.sqrt(norm, out=norm)\n"
     ]
    },
    {
     "name": "stdout",
     "output_type": "stream",
     "text": [
      "597 detections found.\n",
      "Processing A01, 2020-01-26-22-00-00...\n"
     ]
    },
    {
     "name": "stderr",
     "output_type": "stream",
     "text": [
      "/opt/homebrew/Caskroom/miniforge/base/envs/obspy/lib/python3.11/site-packages/obspy/signal/cross_correlation.py:291: RuntimeWarning: invalid value encountered in sqrt\n",
      "  np.sqrt(norm, out=norm)\n"
     ]
    },
    {
     "name": "stdout",
     "output_type": "stream",
     "text": [
      "812 detections found.\n",
      "Processing A01, 2020-01-26-23-00-00...\n"
     ]
    },
    {
     "name": "stderr",
     "output_type": "stream",
     "text": [
      "/opt/homebrew/Caskroom/miniforge/base/envs/obspy/lib/python3.11/site-packages/obspy/signal/cross_correlation.py:291: RuntimeWarning: invalid value encountered in sqrt\n",
      "  np.sqrt(norm, out=norm)\n"
     ]
    },
    {
     "name": "stdout",
     "output_type": "stream",
     "text": [
      "1035 detections found.\n",
      "Processing A01, 2020-01-27-00-00-00...\n",
      "838 detections found.\n",
      "Processing A01, 2020-01-27-01-00-00...\n"
     ]
    },
    {
     "name": "stderr",
     "output_type": "stream",
     "text": [
      "/opt/homebrew/Caskroom/miniforge/base/envs/obspy/lib/python3.11/site-packages/obspy/signal/cross_correlation.py:291: RuntimeWarning: invalid value encountered in sqrt\n",
      "  np.sqrt(norm, out=norm)\n"
     ]
    },
    {
     "name": "stdout",
     "output_type": "stream",
     "text": [
      "390 detections found.\n",
      "Processing A01, 2020-01-27-02-00-00...\n"
     ]
    },
    {
     "name": "stderr",
     "output_type": "stream",
     "text": [
      "/opt/homebrew/Caskroom/miniforge/base/envs/obspy/lib/python3.11/site-packages/obspy/signal/cross_correlation.py:291: RuntimeWarning: invalid value encountered in sqrt\n",
      "  np.sqrt(norm, out=norm)\n"
     ]
    },
    {
     "name": "stdout",
     "output_type": "stream",
     "text": [
      "9 detections found.\n",
      "Processing A01, 2020-01-27-03-00-00...\n"
     ]
    },
    {
     "name": "stderr",
     "output_type": "stream",
     "text": [
      "/opt/homebrew/Caskroom/miniforge/base/envs/obspy/lib/python3.11/site-packages/obspy/signal/cross_correlation.py:291: RuntimeWarning: invalid value encountered in sqrt\n",
      "  np.sqrt(norm, out=norm)\n"
     ]
    },
    {
     "name": "stdout",
     "output_type": "stream",
     "text": [
      "3 detections found.\n",
      "Processing A01, 2020-01-27-04-00-00...\n",
      "No detections found.\n",
      "Processing A01, 2020-01-27-05-00-00...\n"
     ]
    },
    {
     "name": "stderr",
     "output_type": "stream",
     "text": [
      "/opt/homebrew/Caskroom/miniforge/base/envs/obspy/lib/python3.11/site-packages/obspy/signal/cross_correlation.py:291: RuntimeWarning: invalid value encountered in sqrt\n",
      "  np.sqrt(norm, out=norm)\n"
     ]
    },
    {
     "name": "stdout",
     "output_type": "stream",
     "text": [
      "27 detections found.\n",
      "Processing A01, 2020-01-27-06-00-00...\n"
     ]
    },
    {
     "name": "stderr",
     "output_type": "stream",
     "text": [
      "/opt/homebrew/Caskroom/miniforge/base/envs/obspy/lib/python3.11/site-packages/obspy/signal/cross_correlation.py:291: RuntimeWarning: invalid value encountered in sqrt\n",
      "  np.sqrt(norm, out=norm)\n"
     ]
    },
    {
     "name": "stdout",
     "output_type": "stream",
     "text": [
      "220 detections found.\n",
      "Processing A01, 2020-01-27-07-00-00...\n",
      "146 detections found.\n",
      "Processing A01, 2020-01-27-08-00-00...\n"
     ]
    },
    {
     "name": "stderr",
     "output_type": "stream",
     "text": [
      "/opt/homebrew/Caskroom/miniforge/base/envs/obspy/lib/python3.11/site-packages/obspy/signal/cross_correlation.py:291: RuntimeWarning: invalid value encountered in sqrt\n",
      "  np.sqrt(norm, out=norm)\n"
     ]
    },
    {
     "name": "stdout",
     "output_type": "stream",
     "text": [
      "137 detections found.\n",
      "Processing A01, 2020-01-27-09-00-00...\n",
      "77 detections found.\n",
      "Processing A01, 2020-01-27-10-00-00...\n"
     ]
    },
    {
     "name": "stderr",
     "output_type": "stream",
     "text": [
      "/opt/homebrew/Caskroom/miniforge/base/envs/obspy/lib/python3.11/site-packages/obspy/signal/cross_correlation.py:291: RuntimeWarning: invalid value encountered in sqrt\n",
      "  np.sqrt(norm, out=norm)\n"
     ]
    },
    {
     "name": "stdout",
     "output_type": "stream",
     "text": [
      "52 detections found.\n",
      "Processing A01, 2020-01-27-11-00-00...\n"
     ]
    },
    {
     "name": "stderr",
     "output_type": "stream",
     "text": [
      "/opt/homebrew/Caskroom/miniforge/base/envs/obspy/lib/python3.11/site-packages/obspy/signal/cross_correlation.py:291: RuntimeWarning: invalid value encountered in sqrt\n",
      "  np.sqrt(norm, out=norm)\n"
     ]
    },
    {
     "name": "stdout",
     "output_type": "stream",
     "text": [
      "62 detections found.\n",
      "Processing A01, 2020-01-27-12-00-00...\n"
     ]
    },
    {
     "name": "stderr",
     "output_type": "stream",
     "text": [
      "/opt/homebrew/Caskroom/miniforge/base/envs/obspy/lib/python3.11/site-packages/obspy/signal/cross_correlation.py:291: RuntimeWarning: invalid value encountered in sqrt\n",
      "  np.sqrt(norm, out=norm)\n"
     ]
    },
    {
     "name": "stdout",
     "output_type": "stream",
     "text": [
      "51 detections found.\n",
      "Processing A01, 2020-01-27-13-00-00...\n",
      "37 detections found.\n",
      "Processing A01, 2020-01-27-14-00-00...\n"
     ]
    },
    {
     "name": "stderr",
     "output_type": "stream",
     "text": [
      "/opt/homebrew/Caskroom/miniforge/base/envs/obspy/lib/python3.11/site-packages/obspy/signal/cross_correlation.py:291: RuntimeWarning: invalid value encountered in sqrt\n",
      "  np.sqrt(norm, out=norm)\n"
     ]
    },
    {
     "name": "stdout",
     "output_type": "stream",
     "text": [
      "35 detections found.\n",
      "Processing A01, 2020-01-27-15-00-00...\n"
     ]
    },
    {
     "name": "stderr",
     "output_type": "stream",
     "text": [
      "/opt/homebrew/Caskroom/miniforge/base/envs/obspy/lib/python3.11/site-packages/obspy/signal/cross_correlation.py:291: RuntimeWarning: invalid value encountered in sqrt\n",
      "  np.sqrt(norm, out=norm)\n"
     ]
    },
    {
     "name": "stdout",
     "output_type": "stream",
     "text": [
      "100 detections found.\n",
      "Processing A01, 2020-01-27-16-00-00...\n",
      "128 detections found.\n",
      "Processing A01, 2020-01-27-17-00-00...\n"
     ]
    },
    {
     "name": "stderr",
     "output_type": "stream",
     "text": [
      "/opt/homebrew/Caskroom/miniforge/base/envs/obspy/lib/python3.11/site-packages/obspy/signal/cross_correlation.py:291: RuntimeWarning: invalid value encountered in sqrt\n",
      "  np.sqrt(norm, out=norm)\n"
     ]
    },
    {
     "name": "stdout",
     "output_type": "stream",
     "text": [
      "416 detections found.\n",
      "Processing A01, 2020-01-27-18-00-00...\n"
     ]
    },
    {
     "name": "stderr",
     "output_type": "stream",
     "text": [
      "/opt/homebrew/Caskroom/miniforge/base/envs/obspy/lib/python3.11/site-packages/obspy/signal/cross_correlation.py:291: RuntimeWarning: invalid value encountered in sqrt\n",
      "  np.sqrt(norm, out=norm)\n"
     ]
    },
    {
     "name": "stdout",
     "output_type": "stream",
     "text": [
      "288 detections found.\n",
      "Processing A01, 2020-01-27-19-00-00...\n"
     ]
    },
    {
     "name": "stderr",
     "output_type": "stream",
     "text": [
      "/opt/homebrew/Caskroom/miniforge/base/envs/obspy/lib/python3.11/site-packages/obspy/signal/cross_correlation.py:291: RuntimeWarning: invalid value encountered in sqrt\n",
      "  np.sqrt(norm, out=norm)\n"
     ]
    },
    {
     "name": "stdout",
     "output_type": "stream",
     "text": [
      "227 detections found.\n",
      "Processing A01, 2020-01-27-20-00-00...\n"
     ]
    },
    {
     "name": "stderr",
     "output_type": "stream",
     "text": [
      "/opt/homebrew/Caskroom/miniforge/base/envs/obspy/lib/python3.11/site-packages/obspy/signal/cross_correlation.py:291: RuntimeWarning: invalid value encountered in sqrt\n",
      "  np.sqrt(norm, out=norm)\n"
     ]
    },
    {
     "name": "stdout",
     "output_type": "stream",
     "text": [
      "195 detections found.\n",
      "Processing A01, 2020-01-27-21-00-00...\n"
     ]
    },
    {
     "name": "stderr",
     "output_type": "stream",
     "text": [
      "/opt/homebrew/Caskroom/miniforge/base/envs/obspy/lib/python3.11/site-packages/obspy/signal/cross_correlation.py:291: RuntimeWarning: invalid value encountered in sqrt\n",
      "  np.sqrt(norm, out=norm)\n"
     ]
    },
    {
     "name": "stdout",
     "output_type": "stream",
     "text": [
      "74 detections found.\n",
      "Processing A01, 2020-01-27-22-00-00...\n"
     ]
    },
    {
     "name": "stderr",
     "output_type": "stream",
     "text": [
      "/opt/homebrew/Caskroom/miniforge/base/envs/obspy/lib/python3.11/site-packages/obspy/signal/cross_correlation.py:291: RuntimeWarning: invalid value encountered in sqrt\n",
      "  np.sqrt(norm, out=norm)\n"
     ]
    },
    {
     "name": "stdout",
     "output_type": "stream",
     "text": [
      "2 detections found.\n",
      "Processing A01, 2020-01-27-23-00-00...\n"
     ]
    },
    {
     "name": "stderr",
     "output_type": "stream",
     "text": [
      "/opt/homebrew/Caskroom/miniforge/base/envs/obspy/lib/python3.11/site-packages/obspy/signal/cross_correlation.py:291: RuntimeWarning: invalid value encountered in sqrt\n",
      "  np.sqrt(norm, out=norm)\n"
     ]
    },
    {
     "name": "stdout",
     "output_type": "stream",
     "text": [
      "No detections found.\n",
      "Processing A01, 2020-01-28-00-00-00...\n",
      "No detections found.\n",
      "Processing A01, 2020-01-28-01-00-00...\n",
      "No detections found.\n",
      "Processing A01, 2020-01-28-02-00-00...\n",
      "No detections found.\n",
      "Processing A01, 2020-01-28-03-00-00...\n",
      "19 detections found.\n",
      "Processing A01, 2020-01-28-04-00-00...\n"
     ]
    },
    {
     "name": "stderr",
     "output_type": "stream",
     "text": [
      "/opt/homebrew/Caskroom/miniforge/base/envs/obspy/lib/python3.11/site-packages/obspy/signal/cross_correlation.py:291: RuntimeWarning: invalid value encountered in sqrt\n",
      "  np.sqrt(norm, out=norm)\n"
     ]
    },
    {
     "name": "stdout",
     "output_type": "stream",
     "text": [
      "142 detections found.\n",
      "Processing A01, 2020-01-28-05-00-00...\n",
      "88 detections found.\n",
      "Processing A01, 2020-01-28-06-00-00...\n"
     ]
    },
    {
     "name": "stderr",
     "output_type": "stream",
     "text": [
      "/opt/homebrew/Caskroom/miniforge/base/envs/obspy/lib/python3.11/site-packages/obspy/signal/cross_correlation.py:291: RuntimeWarning: invalid value encountered in sqrt\n",
      "  np.sqrt(norm, out=norm)\n"
     ]
    },
    {
     "name": "stdout",
     "output_type": "stream",
     "text": [
      "81 detections found.\n",
      "Processing A01, 2020-01-28-07-00-00...\n"
     ]
    },
    {
     "name": "stderr",
     "output_type": "stream",
     "text": [
      "/opt/homebrew/Caskroom/miniforge/base/envs/obspy/lib/python3.11/site-packages/obspy/signal/cross_correlation.py:291: RuntimeWarning: invalid value encountered in sqrt\n",
      "  np.sqrt(norm, out=norm)\n"
     ]
    },
    {
     "name": "stdout",
     "output_type": "stream",
     "text": [
      "115 detections found.\n",
      "Processing A01, 2020-01-28-08-00-00...\n"
     ]
    },
    {
     "name": "stderr",
     "output_type": "stream",
     "text": [
      "/opt/homebrew/Caskroom/miniforge/base/envs/obspy/lib/python3.11/site-packages/obspy/signal/cross_correlation.py:291: RuntimeWarning: invalid value encountered in sqrt\n",
      "  np.sqrt(norm, out=norm)\n"
     ]
    },
    {
     "name": "stdout",
     "output_type": "stream",
     "text": [
      "52 detections found.\n",
      "Processing A01, 2020-01-28-09-00-00...\n"
     ]
    },
    {
     "name": "stderr",
     "output_type": "stream",
     "text": [
      "/opt/homebrew/Caskroom/miniforge/base/envs/obspy/lib/python3.11/site-packages/obspy/signal/cross_correlation.py:291: RuntimeWarning: invalid value encountered in sqrt\n",
      "  np.sqrt(norm, out=norm)\n"
     ]
    },
    {
     "name": "stdout",
     "output_type": "stream",
     "text": [
      "56 detections found.\n",
      "Processing A01, 2020-01-28-10-00-00...\n"
     ]
    },
    {
     "name": "stderr",
     "output_type": "stream",
     "text": [
      "/opt/homebrew/Caskroom/miniforge/base/envs/obspy/lib/python3.11/site-packages/obspy/signal/cross_correlation.py:291: RuntimeWarning: invalid value encountered in sqrt\n",
      "  np.sqrt(norm, out=norm)\n"
     ]
    },
    {
     "name": "stdout",
     "output_type": "stream",
     "text": [
      "48 detections found.\n",
      "Processing A01, 2020-01-28-11-00-00...\n"
     ]
    },
    {
     "name": "stderr",
     "output_type": "stream",
     "text": [
      "/opt/homebrew/Caskroom/miniforge/base/envs/obspy/lib/python3.11/site-packages/obspy/signal/cross_correlation.py:291: RuntimeWarning: invalid value encountered in sqrt\n",
      "  np.sqrt(norm, out=norm)\n"
     ]
    },
    {
     "name": "stdout",
     "output_type": "stream",
     "text": [
      "46 detections found.\n",
      "Processing A01, 2020-01-28-12-00-00...\n"
     ]
    },
    {
     "name": "stderr",
     "output_type": "stream",
     "text": [
      "/opt/homebrew/Caskroom/miniforge/base/envs/obspy/lib/python3.11/site-packages/obspy/signal/cross_correlation.py:291: RuntimeWarning: invalid value encountered in sqrt\n",
      "  np.sqrt(norm, out=norm)\n"
     ]
    },
    {
     "name": "stdout",
     "output_type": "stream",
     "text": [
      "37 detections found.\n",
      "Processing A01, 2020-01-28-13-00-00...\n"
     ]
    },
    {
     "name": "stderr",
     "output_type": "stream",
     "text": [
      "/opt/homebrew/Caskroom/miniforge/base/envs/obspy/lib/python3.11/site-packages/obspy/signal/cross_correlation.py:291: RuntimeWarning: invalid value encountered in sqrt\n",
      "  np.sqrt(norm, out=norm)\n"
     ]
    },
    {
     "name": "stdout",
     "output_type": "stream",
     "text": [
      "12 detections found.\n",
      "Processing A01, 2020-01-28-14-00-00...\n"
     ]
    },
    {
     "name": "stderr",
     "output_type": "stream",
     "text": [
      "/opt/homebrew/Caskroom/miniforge/base/envs/obspy/lib/python3.11/site-packages/obspy/signal/cross_correlation.py:291: RuntimeWarning: invalid value encountered in sqrt\n",
      "  np.sqrt(norm, out=norm)\n"
     ]
    },
    {
     "name": "stdout",
     "output_type": "stream",
     "text": [
      "29 detections found.\n",
      "Processing A01, 2020-01-28-15-00-00...\n",
      "32 detections found.\n",
      "Processing A01, 2020-01-28-16-00-00...\n"
     ]
    },
    {
     "name": "stderr",
     "output_type": "stream",
     "text": [
      "/opt/homebrew/Caskroom/miniforge/base/envs/obspy/lib/python3.11/site-packages/obspy/signal/cross_correlation.py:291: RuntimeWarning: invalid value encountered in sqrt\n",
      "  np.sqrt(norm, out=norm)\n"
     ]
    },
    {
     "name": "stdout",
     "output_type": "stream",
     "text": [
      "58 detections found.\n",
      "Processing A01, 2020-01-28-17-00-00...\n"
     ]
    },
    {
     "name": "stderr",
     "output_type": "stream",
     "text": [
      "/opt/homebrew/Caskroom/miniforge/base/envs/obspy/lib/python3.11/site-packages/obspy/signal/cross_correlation.py:291: RuntimeWarning: invalid value encountered in sqrt\n",
      "  np.sqrt(norm, out=norm)\n"
     ]
    },
    {
     "name": "stdout",
     "output_type": "stream",
     "text": [
      "88 detections found.\n",
      "Processing A01, 2020-01-28-18-00-00...\n"
     ]
    },
    {
     "name": "stderr",
     "output_type": "stream",
     "text": [
      "/opt/homebrew/Caskroom/miniforge/base/envs/obspy/lib/python3.11/site-packages/obspy/signal/cross_correlation.py:291: RuntimeWarning: invalid value encountered in sqrt\n",
      "  np.sqrt(norm, out=norm)\n"
     ]
    },
    {
     "name": "stdout",
     "output_type": "stream",
     "text": [
      "105 detections found.\n",
      "Processing A01, 2020-01-28-19-00-00...\n"
     ]
    },
    {
     "name": "stderr",
     "output_type": "stream",
     "text": [
      "/opt/homebrew/Caskroom/miniforge/base/envs/obspy/lib/python3.11/site-packages/obspy/signal/cross_correlation.py:291: RuntimeWarning: invalid value encountered in sqrt\n",
      "  np.sqrt(norm, out=norm)\n"
     ]
    },
    {
     "name": "stdout",
     "output_type": "stream",
     "text": [
      "45 detections found.\n",
      "Processing A01, 2020-01-28-20-00-00...\n"
     ]
    },
    {
     "name": "stderr",
     "output_type": "stream",
     "text": [
      "/opt/homebrew/Caskroom/miniforge/base/envs/obspy/lib/python3.11/site-packages/obspy/signal/cross_correlation.py:291: RuntimeWarning: invalid value encountered in sqrt\n",
      "  np.sqrt(norm, out=norm)\n"
     ]
    },
    {
     "name": "stdout",
     "output_type": "stream",
     "text": [
      "86 detections found.\n",
      "Processing A01, 2020-01-28-21-00-00...\n",
      "28 detections found.\n",
      "Processing A01, 2020-01-28-22-00-00...\n"
     ]
    },
    {
     "name": "stderr",
     "output_type": "stream",
     "text": [
      "/opt/homebrew/Caskroom/miniforge/base/envs/obspy/lib/python3.11/site-packages/obspy/signal/cross_correlation.py:291: RuntimeWarning: invalid value encountered in sqrt\n",
      "  np.sqrt(norm, out=norm)\n"
     ]
    },
    {
     "name": "stdout",
     "output_type": "stream",
     "text": [
      "No detections found.\n",
      "Processing A01, 2020-01-28-23-00-00...\n",
      "No detections found.\n",
      "Processing A01, 2020-01-29-00-00-00...\n",
      "No detections found.\n",
      "Processing A01, 2020-01-29-01-00-00...\n",
      "No detections found.\n",
      "Processing A01, 2020-01-29-02-00-00...\n",
      "No detections found.\n",
      "Processing A01, 2020-01-29-03-00-00...\n",
      "No detections found.\n",
      "Processing A01, 2020-01-29-04-00-00...\n",
      "No detections found.\n",
      "Processing A01, 2020-01-29-05-00-00...\n",
      "No detections found.\n",
      "Processing A01, 2020-01-29-06-00-00...\n",
      "3 detections found.\n",
      "Processing A01, 2020-01-29-07-00-00...\n",
      "No detections found.\n",
      "Processing A01, 2020-01-29-08-00-00...\n",
      "5 detections found.\n",
      "Processing A01, 2020-01-29-09-00-00...\n"
     ]
    },
    {
     "name": "stderr",
     "output_type": "stream",
     "text": [
      "/opt/homebrew/Caskroom/miniforge/base/envs/obspy/lib/python3.11/site-packages/obspy/signal/cross_correlation.py:291: RuntimeWarning: invalid value encountered in sqrt\n",
      "  np.sqrt(norm, out=norm)\n"
     ]
    },
    {
     "name": "stdout",
     "output_type": "stream",
     "text": [
      "No detections found.\n",
      "Processing A01, 2020-01-29-10-00-00...\n",
      "2 detections found.\n",
      "Processing A01, 2020-01-29-11-00-00...\n"
     ]
    },
    {
     "name": "stderr",
     "output_type": "stream",
     "text": [
      "/opt/homebrew/Caskroom/miniforge/base/envs/obspy/lib/python3.11/site-packages/obspy/signal/cross_correlation.py:291: RuntimeWarning: invalid value encountered in sqrt\n",
      "  np.sqrt(norm, out=norm)\n"
     ]
    },
    {
     "name": "stdout",
     "output_type": "stream",
     "text": [
      "No detections found.\n",
      "Processing A01, 2020-01-29-12-00-00...\n",
      "No detections found.\n",
      "Processing A01, 2020-01-29-13-00-00...\n",
      "No detections found.\n",
      "Processing A01, 2020-01-29-14-00-00...\n",
      "No detections found.\n",
      "Processing A01, 2020-01-29-15-00-00...\n",
      "No detections found.\n",
      "Processing A01, 2020-01-29-16-00-00...\n",
      "No detections found.\n",
      "Processing A01, 2020-01-29-17-00-00...\n",
      "No detections found.\n",
      "Processing A01, 2020-01-29-18-00-00...\n",
      "No detections found.\n",
      "Processing A01, 2020-01-29-19-00-00...\n",
      "No detections found.\n",
      "Processing A01, 2020-01-29-20-00-00...\n",
      "No detections found.\n",
      "Processing A01, 2020-01-29-21-00-00...\n",
      "No detections found.\n",
      "Processing A01, 2020-01-29-22-00-00...\n",
      "No detections found.\n",
      "Processing A01, 2020-01-29-23-00-00...\n",
      "1 detections found.\n",
      "Processing A01, 2020-01-30-00-00-00...\n",
      "No detections found.\n",
      "Processing A01, 2020-01-30-01-00-00...\n"
     ]
    },
    {
     "name": "stderr",
     "output_type": "stream",
     "text": [
      "/opt/homebrew/Caskroom/miniforge/base/envs/obspy/lib/python3.11/site-packages/obspy/signal/cross_correlation.py:291: RuntimeWarning: invalid value encountered in sqrt\n",
      "  np.sqrt(norm, out=norm)\n"
     ]
    },
    {
     "name": "stdout",
     "output_type": "stream",
     "text": [
      "No detections found.\n",
      "Processing A01, 2020-01-30-02-00-00...\n",
      "No detections found.\n",
      "Processing A01, 2020-01-30-03-00-00...\n",
      "No detections found.\n",
      "Processing A01, 2020-01-30-04-00-00...\n",
      "No detections found.\n",
      "Processing A01, 2020-01-30-05-00-00...\n",
      "No detections found.\n",
      "Processing A01, 2020-01-30-06-00-00...\n",
      "No detections found.\n",
      "Processing A01, 2020-01-30-07-00-00...\n",
      "No detections found.\n",
      "Processing A01, 2020-01-30-08-00-00...\n",
      "1 detections found.\n",
      "Processing A01, 2020-01-30-09-00-00...\n"
     ]
    },
    {
     "name": "stderr",
     "output_type": "stream",
     "text": [
      "/opt/homebrew/Caskroom/miniforge/base/envs/obspy/lib/python3.11/site-packages/obspy/signal/cross_correlation.py:291: RuntimeWarning: invalid value encountered in sqrt\n",
      "  np.sqrt(norm, out=norm)\n"
     ]
    },
    {
     "name": "stdout",
     "output_type": "stream",
     "text": [
      "No detections found.\n",
      "Processing A01, 2020-01-30-10-00-00...\n",
      "No detections found.\n",
      "Processing A01, 2020-01-30-11-00-00...\n",
      "No detections found.\n",
      "Processing A01, 2020-01-30-12-00-00...\n",
      "No detections found.\n",
      "Processing A01, 2020-01-30-13-00-00...\n",
      "No detections found.\n",
      "Processing A01, 2020-01-30-14-00-00...\n",
      "No detections found.\n",
      "Processing A01, 2020-01-30-15-00-00...\n",
      "1 detections found.\n",
      "Processing A01, 2020-01-30-16-00-00...\n"
     ]
    },
    {
     "name": "stderr",
     "output_type": "stream",
     "text": [
      "/opt/homebrew/Caskroom/miniforge/base/envs/obspy/lib/python3.11/site-packages/obspy/signal/cross_correlation.py:291: RuntimeWarning: invalid value encountered in sqrt\n",
      "  np.sqrt(norm, out=norm)\n"
     ]
    },
    {
     "name": "stdout",
     "output_type": "stream",
     "text": [
      "No detections found.\n",
      "Processing A01, 2020-01-30-17-00-00...\n",
      "No detections found.\n",
      "Processing A01, 2020-01-30-18-00-00...\n",
      "No detections found.\n",
      "Processing A01, 2020-01-30-19-00-00...\n",
      "No detections found.\n",
      "Processing A01, 2020-01-30-20-00-00...\n",
      "No detections found.\n",
      "Processing A01, 2020-01-30-21-00-00...\n",
      "No detections found.\n",
      "Processing A01, 2020-01-30-22-00-00...\n",
      "1 detections found.\n",
      "Processing A01, 2020-01-30-23-00-00...\n"
     ]
    },
    {
     "name": "stderr",
     "output_type": "stream",
     "text": [
      "/opt/homebrew/Caskroom/miniforge/base/envs/obspy/lib/python3.11/site-packages/obspy/signal/cross_correlation.py:291: RuntimeWarning: invalid value encountered in sqrt\n",
      "  np.sqrt(norm, out=norm)\n"
     ]
    },
    {
     "name": "stdout",
     "output_type": "stream",
     "text": [
      "No detections found.\n",
      "Processing A01, 2020-01-31-00-00-00...\n",
      "No detections found.\n",
      "Processing A01, 2020-01-31-01-00-00...\n",
      "No detections found.\n",
      "Processing A01, 2020-01-31-02-00-00...\n",
      "No detections found.\n",
      "Processing A01, 2020-01-31-03-00-00...\n",
      "2 detections found.\n",
      "Processing A01, 2020-01-31-04-00-00...\n",
      "No detections found.\n",
      "Processing A01, 2020-01-31-05-00-00...\n"
     ]
    },
    {
     "name": "stderr",
     "output_type": "stream",
     "text": [
      "/opt/homebrew/Caskroom/miniforge/base/envs/obspy/lib/python3.11/site-packages/obspy/signal/cross_correlation.py:291: RuntimeWarning: invalid value encountered in sqrt\n",
      "  np.sqrt(norm, out=norm)\n"
     ]
    },
    {
     "name": "stdout",
     "output_type": "stream",
     "text": [
      "No detections found.\n",
      "Processing A01, 2020-01-31-06-00-00...\n",
      "3 detections found.\n",
      "Processing A01, 2020-01-31-07-00-00...\n",
      "2 detections found.\n",
      "Processing A01, 2020-01-31-08-00-00...\n"
     ]
    },
    {
     "name": "stderr",
     "output_type": "stream",
     "text": [
      "/opt/homebrew/Caskroom/miniforge/base/envs/obspy/lib/python3.11/site-packages/obspy/signal/cross_correlation.py:291: RuntimeWarning: invalid value encountered in sqrt\n",
      "  np.sqrt(norm, out=norm)\n"
     ]
    },
    {
     "name": "stdout",
     "output_type": "stream",
     "text": [
      "No detections found.\n",
      "Processing A01, 2020-01-31-09-00-00...\n",
      "2 detections found.\n",
      "Processing A01, 2020-01-31-10-00-00...\n"
     ]
    },
    {
     "name": "stderr",
     "output_type": "stream",
     "text": [
      "/opt/homebrew/Caskroom/miniforge/base/envs/obspy/lib/python3.11/site-packages/obspy/signal/cross_correlation.py:291: RuntimeWarning: invalid value encountered in sqrt\n",
      "  np.sqrt(norm, out=norm)\n"
     ]
    },
    {
     "name": "stdout",
     "output_type": "stream",
     "text": [
      "No detections found.\n",
      "Processing A01, 2020-01-31-11-00-00...\n",
      "No detections found.\n",
      "Processing A01, 2020-01-31-12-00-00...\n",
      "No detections found.\n",
      "Processing A01, 2020-01-31-13-00-00...\n",
      "No detections found.\n",
      "Processing A01, 2020-01-31-14-00-00...\n",
      "No detections found.\n",
      "Processing A01, 2020-01-31-15-00-00...\n",
      "No detections found.\n",
      "Processing A01, 2020-01-31-16-00-00...\n",
      "No detections found.\n",
      "Processing A01, 2020-01-31-17-00-00...\n",
      "No detections found.\n",
      "Processing A01, 2020-01-31-18-00-00...\n",
      "No detections found.\n",
      "Processing A01, 2020-01-31-19-00-00...\n",
      "No detections found.\n",
      "Processing A01, 2020-01-31-20-00-00...\n",
      "No detections found.\n",
      "Processing A01, 2020-01-31-21-00-00...\n",
      "No detections found.\n",
      "Processing A01, 2020-01-31-22-00-00...\n",
      "No detections found.\n",
      "Processing A01, 2020-01-31-23-00-00...\n",
      "No detections found.\n",
      "Processing A01, 2020-02-01-00-00-00...\n",
      "No detections found.\n",
      "Processing A01, 2020-02-01-01-00-00...\n",
      "No detections found.\n",
      "Processing A01, 2020-02-01-02-00-00...\n",
      "No detections found.\n",
      "Processing A01, 2020-02-01-03-00-00...\n",
      "No detections found.\n",
      "Processing A01, 2020-02-01-04-00-00...\n",
      "No detections found.\n",
      "Processing A01, 2020-02-01-05-00-00...\n",
      "3 detections found.\n",
      "Processing A01, 2020-02-01-06-00-00...\n"
     ]
    },
    {
     "name": "stderr",
     "output_type": "stream",
     "text": [
      "/opt/homebrew/Caskroom/miniforge/base/envs/obspy/lib/python3.11/site-packages/obspy/signal/cross_correlation.py:291: RuntimeWarning: invalid value encountered in sqrt\n",
      "  np.sqrt(norm, out=norm)\n"
     ]
    },
    {
     "name": "stdout",
     "output_type": "stream",
     "text": [
      "6 detections found.\n",
      "Processing A01, 2020-02-01-07-00-00...\n",
      "Cannot find data for 2020-02-01-07-00-00!\n",
      "Processing A01, 2020-02-01-08-00-00...\n",
      "Cannot find data for 2020-02-01-08-00-00!\n",
      "Processing A01, 2020-02-01-09-00-00...\n",
      "Cannot find data for 2020-02-01-09-00-00!\n",
      "Processing A01, 2020-02-01-10-00-00...\n",
      "Cannot find data for 2020-02-01-10-00-00!\n",
      "Processing A01, 2020-02-01-11-00-00...\n",
      "Cannot find data for 2020-02-01-11-00-00!\n",
      "Processing A01, 2020-02-01-12-00-00...\n",
      "Cannot find data for 2020-02-01-12-00-00!\n",
      "Processing A01, 2020-02-01-13-00-00...\n",
      "Cannot find data for 2020-02-01-13-00-00!\n",
      "Processing A01, 2020-02-01-14-00-00...\n",
      "Cannot find data for 2020-02-01-14-00-00!\n",
      "Processing A01, 2020-02-01-15-00-00...\n",
      "Cannot find data for 2020-02-01-15-00-00!\n",
      "Processing A01, 2020-02-01-16-00-00...\n",
      "Cannot find data for 2020-02-01-16-00-00!\n",
      "Processing A01, 2020-02-01-17-00-00...\n",
      "Cannot find data for 2020-02-01-17-00-00!\n",
      "Processing A01, 2020-02-01-18-00-00...\n",
      "Cannot find data for 2020-02-01-18-00-00!\n",
      "Processing A01, 2020-02-01-19-00-00...\n",
      "Cannot find data for 2020-02-01-19-00-00!\n",
      "Processing A01, 2020-02-01-20-00-00...\n",
      "Cannot find data for 2020-02-01-20-00-00!\n",
      "Processing A01, 2020-02-01-21-00-00...\n",
      "Cannot find data for 2020-02-01-21-00-00!\n",
      "Processing A01, 2020-02-01-22-00-00...\n",
      "Cannot find data for 2020-02-01-22-00-00!\n",
      "Processing A01, 2020-02-01-23-00-00...\n",
      "Cannot find data for 2020-02-01-23-00-00!\n",
      "Processing A01, 2020-02-02-00-00-00...\n",
      "Cannot find data for 2020-02-02-00-00-00!\n",
      "Processing A01, 2020-02-02-01-00-00...\n",
      "Cannot find data for 2020-02-02-01-00-00!\n",
      "Processing A01, 2020-02-02-02-00-00...\n",
      "Cannot find data for 2020-02-02-02-00-00!\n",
      "Processing A01, 2020-02-02-03-00-00...\n",
      "Cannot find data for 2020-02-02-03-00-00!\n",
      "Processing A01, 2020-02-02-04-00-00...\n",
      "Cannot find data for 2020-02-02-04-00-00!\n",
      "Processing A01, 2020-02-02-05-00-00...\n",
      "Cannot find data for 2020-02-02-05-00-00!\n",
      "Processing A01, 2020-02-02-06-00-00...\n",
      "Cannot find data for 2020-02-02-06-00-00!\n",
      "Processing A01, 2020-02-02-07-00-00...\n",
      "Cannot find data for 2020-02-02-07-00-00!\n",
      "Processing A01, 2020-02-02-08-00-00...\n",
      "Cannot find data for 2020-02-02-08-00-00!\n",
      "Processing A01, 2020-02-02-09-00-00...\n",
      "Cannot find data for 2020-02-02-09-00-00!\n",
      "Processing A01, 2020-02-02-10-00-00...\n",
      "Cannot find data for 2020-02-02-10-00-00!\n",
      "Processing A01, 2020-02-02-11-00-00...\n",
      "Cannot find data for 2020-02-02-11-00-00!\n",
      "Processing A01, 2020-02-02-12-00-00...\n",
      "Cannot find data for 2020-02-02-12-00-00!\n",
      "Processing A01, 2020-02-02-13-00-00...\n",
      "Cannot find data for 2020-02-02-13-00-00!\n",
      "Processing A01, 2020-02-02-14-00-00...\n",
      "Cannot find data for 2020-02-02-14-00-00!\n",
      "Processing A01, 2020-02-02-15-00-00...\n",
      "Cannot find data for 2020-02-02-15-00-00!\n",
      "Processing A01, 2020-02-02-16-00-00...\n",
      "Cannot find data for 2020-02-02-16-00-00!\n",
      "Processing A01, 2020-02-02-17-00-00...\n",
      "Cannot find data for 2020-02-02-17-00-00!\n",
      "Processing A01, 2020-02-02-18-00-00...\n",
      "Cannot find data for 2020-02-02-18-00-00!\n",
      "Processing A01, 2020-02-02-19-00-00...\n",
      "Cannot find data for 2020-02-02-19-00-00!\n",
      "Processing A01, 2020-02-02-20-00-00...\n",
      "Cannot find data for 2020-02-02-20-00-00!\n",
      "Processing A01, 2020-02-02-21-00-00...\n",
      "Cannot find data for 2020-02-02-21-00-00!\n",
      "Processing A01, 2020-02-02-22-00-00...\n",
      "Cannot find data for 2020-02-02-22-00-00!\n",
      "Results saved to /Volumes/OmanData/geophones_no_prefilt/data/2020-01-12-17-00-00/ccdetections_TwinA12-17-23-38_bandpass10-450hz_dur0.04s_mincc0.7.csv.\n"
     ]
    }
   ],
   "source": [
    "## Cross-correlate the master event with all the time windows\n",
    "print(f\"Processing {tempname}...\")\n",
    "\n",
    "detdfs = []\n",
    "for stname in pickdf[\"station\"]:\n",
    "    stream_temp = stream_mast.select(station=stname)\n",
    "\n",
    "    \n",
    "    for timewin in twindf[\"time_window\"]:\n",
    "        print(f\"Processing {stname}, {timewin}...\")\n",
    "\n",
    "        try:\n",
    "            stream_targ = read(join(root, timewin, f\"*{stname}*SAC\"))\n",
    "        except:\n",
    "            print(f\"Cannot find data for {timewin}!\")\n",
    "            continue\n",
    "        \n",
    "        stream_targ = preprocess_stream(stream_targ, freqmin, freqmax)\n",
    "        detdf = template_match_3c(stream_targ, stream_temp, tempname, mincc=mincc)\n",
    "\n",
    "        if detdf is not None:\n",
    "            detdfs.append(detdf)\n",
    "\n",
    "detdf = concat(detdfs)\n",
    "detdf.sort_values(by=[\"time\"], ascending=True, inplace=True, ignore_index=True)\n",
    "numdet = len(detdf)\n",
    "dur = timelen\n",
    "\n",
    "if freqmax is None:\n",
    "    outfile = f\"ccdetections_{tempname}_highpass{freqmin:.0f}hz_dur{dur:.2f}s_mincc{mincc:.1f}.csv\"\n",
    "else:\n",
    "    outfile = f\"ccdetections_{tempname}_bandpass{freqmin:.0f}-{freqmax:.0f}hz_dur{dur:.2f}s_mincc{mincc:.1f}.csv\"\n",
    "\n",
    "outpath = join(root, timewin_temp, outfile)\n",
    "detdf[\"time_shift\"] = detdf[\"time_shift\"].dt.total_seconds()\n",
    "detdf.to_csv(outpath, sep=\" \")\n",
    "print(f\"Results saved to {outpath}.\")"
   ]
  },
  {
   "cell_type": "code",
   "execution_count": 17,
   "metadata": {},
   "outputs": [
    {
     "name": "stdout",
     "output_type": "stream",
     "text": [
      "There are in total 9435 matches.\n"
     ]
    }
   ],
   "source": [
    "## Associate the detected events\n",
    "# import importlib\n",
    "# import cc_utils\n",
    "# importlib.reload(cc_utils)\n",
    "\n",
    "#matches = cc_utils.associate_detections(detdf, numdet_min=numdet_min, delta_max=delta_max)\n",
    "matches = associate_detections(detdf, numdet_min=numdet_min, delta_max=delta_max)\n",
    "    "
   ]
  },
  {
   "cell_type": "code",
   "execution_count": 18,
   "metadata": {},
   "outputs": [
    {
     "name": "stdout",
     "output_type": "stream",
     "text": [
      "Template and match information is saved to /Volumes/OmanData/geophones_no_prefilt/data/2020-01-12-17-00-00/ccmatches_TwinA12-17-23-38_bandpass10-450hz_dur0.04s_mincc0.7_mindet4.dat\n"
     ]
    }
   ],
   "source": [
    "# Save the detected events\n",
    "# import importlib\n",
    "# import cc_utils\n",
    "# importlib.reload(cc_utils)\n",
    "\n",
    "stnames = pickdf[\"station\"].tolist()\n",
    "starttimes = pickdf[\"time\"].tolist()\n",
    "template = TemplateEvent(tempname, dur, stnames, starttimes)\n",
    "tempmatch = TemplateMatches(freqmin, freqmax, mincc, numdet_min, template, matches)\n",
    "# template = cc_utils.TemplateEvent(tempname, dur, stnames, starttimes)\n",
    "# tempmatch = cc_utils.TemplateMatches(freqmin, freqmax, mincc, numdet_min, template, matches)\n",
    "\n",
    "if freqmax is None:\n",
    "    outfile = f\"ccmatches_{tempname}_highpass{freqmin:.0f}hz_dur{dur:.2f}s_mincc{mincc:.1f}_mindet{numdet_min:d}.dat\"\n",
    "else:\n",
    "    outfile = f\"ccmatches_{tempname}_bandpass{freqmin:.0f}-{freqmax:.0f}hz_dur{dur:.2f}s_mincc{mincc:.1f}_mindet{numdet_min:d}.dat\"\n",
    "\n",
    "outpath = join(root, timewin_temp, outfile)\n",
    "\n",
    "tempmatch.write_to_file(outpath)"
   ]
  }
 ],
 "metadata": {
  "kernelspec": {
   "display_name": "obspy",
   "language": "python",
   "name": "python3"
  },
  "language_info": {
   "codemirror_mode": {
    "name": "ipython",
    "version": 3
   },
   "file_extension": ".py",
   "mimetype": "text/x-python",
   "name": "python",
   "nbconvert_exporter": "python",
   "pygments_lexer": "ipython3",
   "version": "3.11.6"
  }
 },
 "nbformat": 4,
 "nbformat_minor": 2
}
